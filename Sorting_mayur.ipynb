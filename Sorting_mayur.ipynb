{
  "cells": [
    {
      "cell_type": "markdown",
      "id": "b550cb34-b687-4d63-8f2a-1905d68732fb",
      "metadata": {
        "id": "b550cb34-b687-4d63-8f2a-1905d68732fb"
      },
      "source": [
        "Problem 1.Given an array of n numbers, give an algorithm which gives the element appearing maximum\n",
        "number of times?"
      ]
    },
    {
      "cell_type": "code",
      "execution_count": null,
      "id": "7a1b5b6b-fc05-431f-b567-851f261487f0",
      "metadata": {
        "id": "7a1b5b6b-fc05-431f-b567-851f261487f0",
        "outputId": "cbcd1351-aba8-4364-cf32-541458767a01"
      },
      "outputs": [
        {
          "name": "stdout",
          "output_type": "stream",
          "text": [
            "The element appearing maximum times is: 2\n"
          ]
        }
      ],
      "source": [
        "def find_max_occurrence(arr):\n",
        "    frequency_dict = {} # Dictionary to store the frequency of each element\n",
        "\n",
        "    # Count the frequency of each element\n",
        "    for num in arr:\n",
        "        if num in frequency_dict:\n",
        "            frequency_dict[num] += 1\n",
        "        else:\n",
        "            frequency_dict[num] = 1\n",
        "\n",
        "    # Find the element with the maximum frequency\n",
        "    max_occurrence_element = max(frequency_dict, key = frequency_dict.get)\n",
        "\n",
        "    return max_occurrence_element\n",
        "\n",
        "# Example usage:\n",
        "arr = [1, 2, 4, 2, 5, 9, 2]\n",
        "result = find_max_occurrence(arr)\n",
        "print(f\"The element appearing maximum times is: {result}\")"
      ]
    },
    {
      "cell_type": "markdown",
      "id": "4d16dd97-25db-4f85-a696-aaf8cffa2e0e",
      "metadata": {
        "id": "4d16dd97-25db-4f85-a696-aaf8cffa2e0e"
      },
      "source": [
        "Problem 2 : We are given a list of n-1 integers and these integers are in the range of 1 to n . There are no\n",
        "duplicates in the list. One of the integers is missing in the list. Give an algorithm to find that element Ex:\n",
        "[1,2,4,6,3,7,8] 5 is the missing num.\n"
      ]
    },
    {
      "cell_type": "code",
      "execution_count": null,
      "id": "a81a36d2-8808-4bc4-8685-0ba1e247027e",
      "metadata": {
        "id": "a81a36d2-8808-4bc4-8685-0ba1e247027e",
        "outputId": "c4de1a44-a8e3-411e-92ad-235ccdea6c2f"
      },
      "outputs": [
        {
          "name": "stdout",
          "output_type": "stream",
          "text": [
            "The missing number is: 5\n"
          ]
        }
      ],
      "source": [
        "def find_missing_number(nums):\n",
        "    n = len(nums) + 1 # Since one number is missing\n",
        "    expected_sum = n * (n + 1) // 2 # Sum of the first n natural numbers\n",
        "\n",
        "    actual_sum = sum(nums) # Sum of the elements in the list\n",
        "\n",
        "    missing_number = expected_sum - actual_sum\n",
        "    return missing_number\n",
        "\n",
        "# Example Usage:\n",
        "nums = [1, 2, 4, 6, 3, 7, 8]\n",
        "result = find_missing_number(nums)\n",
        "print(f\"The missing number is: {result}\")"
      ]
    },
    {
      "cell_type": "markdown",
      "id": "6383673e-e4c5-447f-bc1a-bf7da6c039a6",
      "metadata": {
        "id": "6383673e-e4c5-447f-bc1a-bf7da6c039a6"
      },
      "source": [
        "Problem 3 : Given an array of n positive numbers. All numbers occurs even number of times except 1 which\n",
        "occurs odd number of times. Find that number in O(n) time and O(1) space. Ex: [1,2,3,2,3,1,3]. 3 is repeats odd\n",
        "times."
      ]
    },
    {
      "cell_type": "code",
      "execution_count": null,
      "id": "0614e0ae-241d-47b7-aeb3-a1bfa0381775",
      "metadata": {
        "id": "0614e0ae-241d-47b7-aeb3-a1bfa0381775",
        "outputId": "5727b3e6-7a12-4a16-bc61-057f3571a5f5"
      },
      "outputs": [
        {
          "name": "stdout",
          "output_type": "stream",
          "text": [
            "The number with odd occurrence is: 3\n"
          ]
        }
      ],
      "source": [
        "def find_odd_occurrence(nums):\n",
        "    result = 0\n",
        "    for num in nums:\n",
        "        result ^= num\n",
        "    return result\n",
        "\n",
        "# Example Usage:\n",
        "nums = [1, 2, 3, 2, 3, 1, 3]\n",
        "result = find_odd_occurrence(nums)\n",
        "print(f\"The number with odd occurrence is: {result}\")"
      ]
    },
    {
      "cell_type": "markdown",
      "id": "1d861b87-f89a-4a8b-80b0-87cb181968f3",
      "metadata": {
        "id": "1d861b87-f89a-4a8b-80b0-87cb181968f3"
      },
      "source": [
        "Problem 4 : Given an array of n elements. Find two elements in the array such that their sum is equal to given\n",
        "element K.\n"
      ]
    },
    {
      "cell_type": "code",
      "execution_count": null,
      "id": "ec190650-a5a0-4105-85a1-edb5044ed7bf",
      "metadata": {
        "id": "ec190650-a5a0-4105-85a1-edb5044ed7bf",
        "outputId": "c245871f-5f1b-483a-e49a-e0e6d0c3f126"
      },
      "outputs": [
        {
          "name": "stdout",
          "output_type": "stream",
          "text": [
            "The pair with sum 12 is: (8, 4)\n"
          ]
        }
      ],
      "source": [
        " def find_pair_with_sum(arr, target_sum):\n",
        "        seen = set()\n",
        "\n",
        "        for num in arr:\n",
        "            complement = target_sum - num\n",
        "            if complement in seen:\n",
        "                return num, complement\n",
        "            seen.add(num)\n",
        "\n",
        "        return None\n",
        "\n",
        "# Example Usage:\n",
        "arr = [1, 2, 4, 6, 8, 10]\n",
        "target_sum = 12\n",
        "\n",
        "pair = find_pair_with_sum(arr, target_sum)\n",
        "if pair:\n",
        "    print(f\"The pair with sum {target_sum} is: {pair}\")\n",
        "else:\n",
        "    print(\"No such pair found.\")"
      ]
    },
    {
      "cell_type": "markdown",
      "id": "a5c366b8-fece-4654-9914-1f7950d8e415",
      "metadata": {
        "id": "a5c366b8-fece-4654-9914-1f7950d8e415"
      },
      "source": [
        "Problem 5 : Given an array of both positive and negative numbers, find two numbers such that their sum is\n",
        "closest to 0. Ex: [ 1 ,60 ,-10, 70, -80,85]. Ans : -80,85.\n"
      ]
    },
    {
      "cell_type": "code",
      "execution_count": null,
      "id": "a870f900-bdce-4c6d-b461-dce3bb7c09bc",
      "metadata": {
        "id": "a870f900-bdce-4c6d-b461-dce3bb7c09bc",
        "outputId": "38e72e20-0f59-4185-bc56-6f26b3fd88eb"
      },
      "outputs": [
        {
          "name": "stdout",
          "output_type": "stream",
          "text": [
            "The pair with sum closest to 0 is: (-80, 85)\n"
          ]
        }
      ],
      "source": [
        "def closest_sum_pair(arr):\n",
        "    arr.sort()\n",
        "\n",
        "    left, right = 0, len(arr) - 1\n",
        "    closest_sum = float('inf')\n",
        "    result_pair = None\n",
        "\n",
        "    while left < right:\n",
        "        current_sum = arr[left] + arr[right]\n",
        "        if abs(current_sum) < abs(closest_sum):\n",
        "            closest_sum = current_sum\n",
        "            result_pair = (arr[left], arr[right])\n",
        "\n",
        "        if current_sum < 0:\n",
        "            left += 1\n",
        "        elif current_sum > 0:\n",
        "            right -= 1\n",
        "        else:\n",
        "            return result_pair # Exact match found, sum is 0\n",
        "\n",
        "    return result_pair\n",
        "\n",
        "# Example Usage:\n",
        "arr = [1, 60, -10, 70, -80, 85]\n",
        "pair = closest_sum_pair(arr)\n",
        "print(\"The pair with sum closest to 0 is:\", pair)"
      ]
    },
    {
      "cell_type": "markdown",
      "id": "e0769b22-ed18-451b-989f-6b2af36271f6",
      "metadata": {
        "id": "e0769b22-ed18-451b-989f-6b2af36271f6"
      },
      "source": [
        "Problem 6 : Given an array of n elements . Find three elements such that their sum is equal to the given\n",
        "number.\n"
      ]
    },
    {
      "cell_type": "code",
      "execution_count": null,
      "id": "9029b346-1815-4cff-9c41-342a36c6e4ba",
      "metadata": {
        "id": "9029b346-1815-4cff-9c41-342a36c6e4ba",
        "outputId": "5c3846e7-979c-46de-e031-09f07ad47d6a"
      },
      "outputs": [
        {
          "name": "stdout",
          "output_type": "stream",
          "text": [
            "The triplet with sum 22 is: (4, 8, 10)\n"
          ]
        }
      ],
      "source": [
        "def find_triplet_with_sum(arr, target_sum):\n",
        "    arr.sort()\n",
        "    n = len(arr)\n",
        "\n",
        "    for i in range(n - 2):\n",
        "        left, right = i + 1, n - 1\n",
        "\n",
        "        while left < right:\n",
        "            current_sum = arr[i] + arr[left] + arr[right]\n",
        "\n",
        "            if current_sum == target_sum:\n",
        "                return (arr[i], arr[left], arr[right])\n",
        "            elif current_sum < target_sum:\n",
        "                left += 1\n",
        "            else:\n",
        "                right -= 1\n",
        "\n",
        "    return None # No triplet found\n",
        "\n",
        "# Example Usage:\n",
        "arr = [1, 4, 45, 6, 10, 8]\n",
        "target_sum = 22\n",
        "triplet = find_triplet_with_sum(arr, target_sum)\n",
        "\n",
        "if triplet:\n",
        "    print(f\"The triplet with sum {target_sum} is:\", triplet)\n",
        "else:\n",
        "    print(\"No triplet found with the given sum.\")\n",
        "\n",
        "\n",
        "\n",
        ""
      ]
    },
    {
      "cell_type": "markdown",
      "id": "d1814496-2025-439e-9fbb-2ff8a6c4f77e",
      "metadata": {
        "id": "d1814496-2025-439e-9fbb-2ff8a6c4f77e"
      },
      "source": [
        "Problem 7 : Given an array of n elements . Find three elements i, j, k in the array such that\n",
        "i * i + j * j = k*k."
      ]
    },
    {
      "cell_type": "code",
      "execution_count": null,
      "id": "f5a75a21-a265-46b5-a95d-db60fbfdbfae",
      "metadata": {
        "id": "f5a75a21-a265-46b5-a95d-db60fbfdbfae",
        "outputId": "5027f601-10f2-4b6a-9d85-33433a4135c3"
      },
      "outputs": [
        {
          "name": "stdout",
          "output_type": "stream",
          "text": [
            "The Pythagorean triplet is: (3, 4, 5)\n"
          ]
        }
      ],
      "source": [
        "def find_pythagorean_triplet(arr):\n",
        "    arr.sort()\n",
        "    n = len(arr)\n",
        "\n",
        "    for i in range(n - 1, 1, -1):\n",
        "        left, right = 0, i -1\n",
        "\n",
        "        while left < right:\n",
        "            sum_of_squares = arr[left] ** 2 + arr[right] ** 2\n",
        "\n",
        "            if sum_of_squares == arr[i] ** 2:\n",
        "                return (arr[left], arr[right], arr[i])\n",
        "            elif sum_of_squares < arr[i] ** 2:\n",
        "                left += 1\n",
        "            else:\n",
        "                right -= 1\n",
        "\n",
        "    return None # No triplet found\n",
        "\n",
        "# Example Usage:\n",
        "arr = [3, 1, 4, 6, 5]\n",
        "triplet = find_pythagorean_triplet(arr)\n",
        "\n",
        "if triplet:\n",
        "    print(f\"The Pythagorean triplet is:\", triplet)\n",
        "else:\n",
        "    print(\"No Pythagorean triplet found.\")\n",
        ""
      ]
    },
    {
      "cell_type": "markdown",
      "id": "98c408ea-5b07-47e8-8a69-6bdf1d1c2950",
      "metadata": {
        "id": "98c408ea-5b07-47e8-8a69-6bdf1d1c2950"
      },
      "source": [
        "Problem 8 : An element is a majority if it appears more than n/2 times. Give an algorithm takes an array of n\n",
        "element as argument and identifies a majority (if it exists)."
      ]
    },
    {
      "cell_type": "code",
      "execution_count": null,
      "id": "c6cdbc85-2738-4cf5-87b6-041db09d158b",
      "metadata": {
        "id": "c6cdbc85-2738-4cf5-87b6-041db09d158b",
        "outputId": "f33b1e85-e205-4c3d-96e0-a00f4580b1d8"
      },
      "outputs": [
        {
          "name": "stdout",
          "output_type": "stream",
          "text": [
            "The majority element is: 2\n"
          ]
        }
      ],
      "source": [
        "def find_majority_element(arr):\n",
        "    candidate, count = None, 0\n",
        "\n",
        "    # First pass to find a potential majority candidate\n",
        "    for num in arr:\n",
        "        if count == 0:\n",
        "            candidate = num\n",
        "        count += 1 if num == candidate else -1\n",
        "\n",
        "    # Second pass to confirm the majority candidate\n",
        "    count = 0\n",
        "    for num in arr:\n",
        "        if num == candidate:\n",
        "            count += 1\n",
        "\n",
        "\n",
        "    # Check if the candidate is a majority\n",
        "    if count > len(arr) // 2:\n",
        "        return candidate\n",
        "    else:\n",
        "        return None # No majority element found\n",
        "\n",
        "# Example Usage:\n",
        "arr = [2, 2, 1, 1, 1, 2, 2]\n",
        "majority_element = find_majority_element(arr)\n",
        "\n",
        "if majority_element is not None:\n",
        "    print(f\"The majority element is: {majority_element}\")\n",
        "else:\n",
        "    print(\"No majority element found.\")"
      ]
    },
    {
      "cell_type": "markdown",
      "id": "762693d0-89c8-47ce-8771-259d24332fb3",
      "metadata": {
        "id": "762693d0-89c8-47ce-8771-259d24332fb3"
      },
      "source": [
        "Problem 9 : Given n × n matrix, and in each row all 1’s are followed by 0’s. Find the row with the maximum\n",
        "number of 0’s.\n"
      ]
    },
    {
      "cell_type": "code",
      "execution_count": null,
      "id": "d5febf9c-6b46-4b0f-8baf-b408d5f5955b",
      "metadata": {
        "id": "d5febf9c-6b46-4b0f-8baf-b408d5f5955b",
        "outputId": "3d77d463-c915-48b6-a9ac-6d0449cb45bb"
      },
      "outputs": [
        {
          "name": "stdout",
          "output_type": "stream",
          "text": [
            "The row with the maximum number of zeros is: 3\n"
          ]
        }
      ],
      "source": [
        "def find_row_with_max_zeros(matrix):\n",
        "    max_zeros_row = 0 # Initialize the row with maximum zeros\n",
        "    max_zeros_count = matrix[0].count(0) # Count of zeros in the first row\n",
        "\n",
        "    # Iterate throught each row\n",
        "    for i in range(1, len(matrix)):\n",
        "        while matrix[i][max_zeros_count - 1] == 0 and max_zeros_count > 0:\n",
        "            max_zeros_count -= 1\n",
        "\n",
        "            # If the current row has more zeros, update max_zeros_row and max_zeros_count\n",
        "        if matrix[i].count(0) > max_zeros_count:\n",
        "            max_zeros_row = i\n",
        "            max_zeros_count = matrix[i].count(0)\n",
        "\n",
        "    return max_zeros_row\n",
        "\n",
        "# Example Usage:\n",
        "matrix = [\n",
        "    [1, 1, 1, 0, 0],\n",
        "    [1, 1, 0, 0, 0],\n",
        "    [1, 1, 1, 1, 0],\n",
        "    [1, 0, 0, 0, 0],\n",
        "    [1, 1, 1, 1, 1]\n",
        "]\n",
        "\n",
        "row_with_max_zeros = find_row_with_max_zeros(matrix)\n",
        "print(f\"The row with the maximum number of zeros is: {row_with_max_zeros}\")"
      ]
    },
    {
      "cell_type": "markdown",
      "id": "b4b9a715-7d20-475d-81a1-cd2bfbfd3243",
      "metadata": {
        "id": "b4b9a715-7d20-475d-81a1-cd2bfbfd3243"
      },
      "source": [
        "Problem 10 : Sort an array of 0’s, 1’s and 2’s [or R’s, G’s and B’s]: Given an array A[] consisting of 0’s, 1’s and\n",
        "2’s, give an algorithm for sorting A[].The algorithm should put all 0’s first, then all 1’s and finally all 2’s at the\n",
        "end. Example Input = {0,1,1,0,1,2,1,2,0,0,0,1}, Output = {0,0,0,0,0,1,1,1,1,1,2,2}"
      ]
    },
    {
      "cell_type": "code",
      "execution_count": null,
      "id": "129c76e4-ac6f-458f-9486-3f51f31dd729",
      "metadata": {
        "id": "129c76e4-ac6f-458f-9486-3f51f31dd729",
        "outputId": "56faf1d0-857b-4e8a-fc55-1a6920a4282a"
      },
      "outputs": [
        {
          "name": "stdout",
          "output_type": "stream",
          "text": [
            "Sorted array: [0, 0, 0, 0, 0, 1, 1, 1, 1, 1, 2, 2]\n"
          ]
        }
      ],
      "source": [
        "def sort_012(arr):\n",
        "    low, mid, high = 0, 0, len(arr) - 1\n",
        "\n",
        "    while mid <= high:\n",
        "        if arr[mid] == 0:\n",
        "            arr[low], arr[mid] = arr[mid], arr[low]\n",
        "            low +=1\n",
        "            mid +=1\n",
        "        elif arr[mid] == 1:\n",
        "            mid += 1\n",
        "        else:\n",
        "            arr[mid], arr[high] = arr[high], arr[mid]\n",
        "            high -= 1\n",
        "\n",
        "    return arr\n",
        "\n",
        "# Example Usage:\n",
        "input_array = [0, 1, 1, 0, 1, 2, 1, 2, 0, 0, 0, 1]\n",
        "sorted_array = sort_012(input_array)\n",
        "print(\"Sorted array:\", sorted_array)"
      ]
    },
    {
      "cell_type": "code",
      "execution_count": null,
      "id": "4688eb32-479c-4541-be79-11c920a56c58",
      "metadata": {
        "id": "4688eb32-479c-4541-be79-11c920a56c58"
      },
      "outputs": [],
      "source": []
    }
  ],
  "metadata": {
    "kernelspec": {
      "display_name": "Python 3 (ipykernel)",
      "language": "python",
      "name": "python3"
    },
    "language_info": {
      "codemirror_mode": {
        "name": "ipython",
        "version": 3
      },
      "file_extension": ".py",
      "mimetype": "text/x-python",
      "name": "python",
      "nbconvert_exporter": "python",
      "pygments_lexer": "ipython3",
      "version": "3.10.8"
    },
    "colab": {
      "provenance": []
    }
  },
  "nbformat": 4,
  "nbformat_minor": 5
}