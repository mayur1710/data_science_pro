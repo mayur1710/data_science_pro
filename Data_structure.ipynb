{
  "cells": [
    {
      "cell_type": "markdown",
      "id": "457a5365-bb38-4d1e-b08a-738b70844f94",
      "metadata": {
        "id": "457a5365-bb38-4d1e-b08a-738b70844f94"
      },
      "source": [
        "Problem 1: Reverse a singly linked list.\n",
        "\n",
        "Input: 1 -> 2 -> 3 -> 4 -> 5\n",
        "Output: 5 -> 4 -> 3 -> 2 -> 1"
      ]
    },
    {
      "cell_type": "code",
      "execution_count": null,
      "id": "9e1a0d56-7d7a-457b-8792-2420be5c4ccb",
      "metadata": {
        "id": "9e1a0d56-7d7a-457b-8792-2420be5c4ccb",
        "outputId": "0448f775-7658-4693-da25-e55ba29594cf"
      },
      "outputs": [
        {
          "name": "stdout",
          "output_type": "stream",
          "text": [
            "Original linked list:\n",
            "1 -> 2 -> 3 -> 4 -> 5 -> None\n",
            "\n",
            "Reversed linked list:\n",
            "5 -> 4 -> 3 -> 2 -> 1 -> None\n"
          ]
        }
      ],
      "source": [
        "class ListNode:\n",
        "    def __init__(self, value=0, next=None):\n",
        "        self.value = value\n",
        "        self.next = next\n",
        "\n",
        "def reverse_linked_list(head):\n",
        "    prev = None\n",
        "    current = head\n",
        "\n",
        "    while current is not None:\n",
        "        next_node = current.next\n",
        "        current.next = prev\n",
        "        prev = current\n",
        "        current = next_node\n",
        "\n",
        "    return prev\n",
        "\n",
        "# Function to print the linked list\n",
        "def print_linked_list(head):\n",
        "    current = head\n",
        "    while current is not None:\n",
        "        print(current.value, end=\" -> \")\n",
        "        current = current.next\n",
        "    print(\"None\")\n",
        "\n",
        "# Example usage:\n",
        "# Create a linked list: 1 -> 2 -> 3 -> 4 -> 5\n",
        "linked_list = ListNode(1, ListNode(2, ListNode(3, ListNode(4, ListNode(5)))))\n",
        "print(\"Original linked list:\")\n",
        "print_linked_list(linked_list)\n",
        "\n",
        "# Reverse the linked list\n",
        "reversed_list = reverse_linked_list(linked_list)\n",
        "\n",
        "# Print the reversed linked list\n",
        "print(\"\\nReversed linked list:\")\n",
        "print_linked_list(reversed_list)\n",
        "\n",
        ""
      ]
    },
    {
      "cell_type": "markdown",
      "id": "b7467896-ee27-4088-8ddf-fd282f334b5c",
      "metadata": {
        "id": "b7467896-ee27-4088-8ddf-fd282f334b5c"
      },
      "source": [
        "Problem 2: Merge two sorted linked lists into one sorted linked list.\n",
        "\n",
        "Input: List 1: 1 -> 3 -> 5, List 2: 2 -> 4 -> 6\n",
        "Output: 1 -> 2 -> 3 -> 4 -> 5 -> 6"
      ]
    },
    {
      "cell_type": "code",
      "execution_count": null,
      "id": "5bfa8c83-4c14-4e5c-803b-33e191354649",
      "metadata": {
        "id": "5bfa8c83-4c14-4e5c-803b-33e191354649",
        "outputId": "4c209702-c61d-41f5-e98f-9f0ec55b7f4b"
      },
      "outputs": [
        {
          "name": "stdout",
          "output_type": "stream",
          "text": [
            "List 1:\n",
            "1->3->5->None\n",
            "\n",
            "List 2:\n",
            "2->4->6->None\n",
            "\n",
            "Merged List:\n",
            "1->2->3->4->5->6->None\n"
          ]
        }
      ],
      "source": [
        "class ListNode:\n",
        "    def __init__(self, value = 0, next = None):\n",
        "        self.value = value\n",
        "        self.next = next\n",
        "\n",
        "def merge_sorted_lists(list1, list2):\n",
        "    dummy = ListNode()\n",
        "    current = dummy\n",
        "\n",
        "    while list1 is not None and list2 is not None:\n",
        "        if list1.value < list2.value:\n",
        "            current.next = list1\n",
        "            list1 = list1.next\n",
        "        else:\n",
        "            current.next = list2\n",
        "            list2 = list2.next\n",
        "\n",
        "        current = current.next\n",
        "\n",
        "    # If one list is longer than the other\n",
        "    if list1 is not None:\n",
        "        current.next = list1\n",
        "    elif list2 is not None:\n",
        "        current.next = list2\n",
        "\n",
        "    return dummy.next\n",
        "\n",
        "# Function to print the linked list\n",
        "def print_linked_list(head):\n",
        "    current = head\n",
        "    while current is not None:\n",
        "        print(current.value, end = \"->\")\n",
        "        current = current.next\n",
        "    print(\"None\")\n",
        "\n",
        "# Example Usage\n",
        "# Create two sorted linked lists: 1 -> 3 -> 5 and 2 -> 4 -> 6\n",
        "list1 = ListNode(1, ListNode(3, ListNode(5)))\n",
        "list2 = ListNode(2, ListNode(4, ListNode(6)))\n",
        "\n",
        "print(\"List 1:\")\n",
        "print_linked_list(list1)\n",
        "\n",
        "print(\"\\nList 2:\")\n",
        "print_linked_list(list2)\n",
        "\n",
        "# Merge the two lists\n",
        "merged_list = merge_sorted_lists(list1, list2)\n",
        "\n",
        "# Print the merged list\n",
        "print(\"\\nMerged List:\")\n",
        "print_linked_list(merged_list)"
      ]
    },
    {
      "cell_type": "markdown",
      "id": "3317b4fc-e115-4f5d-8007-65ec3e608ee4",
      "metadata": {
        "id": "3317b4fc-e115-4f5d-8007-65ec3e608ee4"
      },
      "source": [
        "Problem 3: Remove the nth node from the end of a linked list.\n",
        "\n",
        "Input: 1 -> 2 -> 3 -> 4 -> 5, n = 2\n",
        "Output: 1 -> 2 -> 3 -> 5"
      ]
    },
    {
      "cell_type": "code",
      "execution_count": null,
      "id": "e9a17c83-0d3c-405c-94d4-684201f2105f",
      "metadata": {
        "id": "e9a17c83-0d3c-405c-94d4-684201f2105f",
        "outputId": "b3a099de-4051-4094-e591-328f4921fc9f"
      },
      "outputs": [
        {
          "name": "stdout",
          "output_type": "stream",
          "text": [
            "[1, 2, 3, 5]\n"
          ]
        }
      ],
      "source": [
        "class ListNode:\n",
        "    def __init__(self, value=0, next=None):\n",
        "        self.value = value\n",
        "        self.next = next\n",
        "\n",
        "def remove_nth_from_end(head, n):\n",
        "    # Create a dummy node to handle edge cases\n",
        "    dummy = ListNode(0)\n",
        "    dummy.next = head\n",
        "\n",
        "    # Initialize two pointers\n",
        "    first = dummy\n",
        "    second = dummy\n",
        "\n",
        "    # Move the second pointer n + 1 steps ahead\n",
        "    for _ in range(n + 1):\n",
        "        second = second.next\n",
        "\n",
        "    # Move both pointers until the second pointer reaches the end\n",
        "    while second is not None:\n",
        "        first = first.next\n",
        "        second = second.next\n",
        "\n",
        "    # Remove the nth node from the end\n",
        "    first.next = first.next.next\n",
        "\n",
        "    return dummy.next\n",
        "\n",
        "# Function to convert a list to a linked list\n",
        "def list_to_linked_list(lst):\n",
        "    dummy = ListNode(0)\n",
        "    current = dummy\n",
        "    for value in lst:\n",
        "        current.next = ListNode(value)\n",
        "        current = current.next\n",
        "    return dummy.next\n",
        "\n",
        "# Function to convert a linked list to a list\n",
        "def linked_list_to_list(head):\n",
        "    result = []\n",
        "    current = head\n",
        "    while current is not None:\n",
        "        result.append(current.value)\n",
        "        current = current.next\n",
        "    return result\n",
        "\n",
        "# Example usage:\n",
        "# Create a linked list: 1 -> 2 -> 3 -> 4 -> 5\n",
        "linked_list = list_to_linked_list([1, 2, 3, 4, 5])\n",
        "n = 2\n",
        "\n",
        "# Remove the 2nd node from the end\n",
        "updated_list = remove_nth_from_end(linked_list, n)\n",
        "\n",
        "# Print the updated list\n",
        "print(linked_list_to_list(updated_list))\n"
      ]
    },
    {
      "cell_type": "markdown",
      "id": "cc68ee95-c992-4f7b-a990-f7a80c8785e9",
      "metadata": {
        "id": "cc68ee95-c992-4f7b-a990-f7a80c8785e9"
      },
      "source": [
        "Problem 4: Find the intersection point of two linked lists.\n",
        "\n",
        "Input: List 1: 1 -> 2 -> 3 -> 4, List 2: 9 -> 8 -> 3 -> 4\n",
        "Output: Node with value 3\n",
        "  "
      ]
    },
    {
      "cell_type": "code",
      "execution_count": null,
      "id": "7142e781-5a29-437b-bbf7-61298b17a598",
      "metadata": {
        "id": "7142e781-5a29-437b-bbf7-61298b17a598",
        "outputId": "bb1a2249-3ad1-47f0-f046-3ff19305d77f"
      },
      "outputs": [
        {
          "name": "stdout",
          "output_type": "stream",
          "text": [
            "3\n"
          ]
        }
      ],
      "source": [
        "class ListNode:\n",
        "    def __init__(self, value=0, next=None):\n",
        "        self.value = value\n",
        "        self.next = next\n",
        "\n",
        "def find_intersection(list1, list2):\n",
        "    def get_length(head):\n",
        "        length = 0\n",
        "        while head:\n",
        "            length += 1\n",
        "            head = head.next\n",
        "        return length\n",
        "\n",
        "    len1, len2 = get_length(list1), get_length(list2)\n",
        "\n",
        "    # Move the longer list ahead by the difference in lengths\n",
        "    while len1 > len2:\n",
        "        list1 = list1.next\n",
        "        len1 -= 1\n",
        "\n",
        "    while len2 > len1:\n",
        "        list2 = list2.next\n",
        "        len2 -= 1\n",
        "\n",
        "    # Traverse both lists until an intersection is found\n",
        "    while list1 != list2:\n",
        "        list1 = list1.next\n",
        "        list2 = list2.next\n",
        "\n",
        "    return list1  # or list2, as they are now at the intersection point\n",
        "\n",
        "# Helper function to convert a list to a linked list\n",
        "def list_to_linked_list(lst):\n",
        "    if not lst:\n",
        "        return None\n",
        "    head = ListNode(lst[0])\n",
        "    current = head\n",
        "    for value in lst[1:]:\n",
        "        current.next = ListNode(value)\n",
        "        current = current.next\n",
        "    return head\n",
        "\n",
        "# Example usage:\n",
        "linked_list1 = list_to_linked_list([1, 2, 3, 4])\n",
        "linked_list2 = list_to_linked_list([9, 8, 3, 4])\n",
        "\n",
        "# Make them intersect at the node with the value 3\n",
        "linked_list2.next.next.next.next = linked_list1.next.next\n",
        "\n",
        "# Find the intersection point\n",
        "intersection_node = find_intersection(linked_list1, linked_list2)\n",
        "\n",
        "# Print the value of the intersection node (or None if no intersection)\n",
        "print(intersection_node.value if intersection_node else None)\n",
        "\n",
        "\n"
      ]
    },
    {
      "cell_type": "markdown",
      "id": "8f7edca1-60b8-4c56-8f75-22ed4923a8a8",
      "metadata": {
        "id": "8f7edca1-60b8-4c56-8f75-22ed4923a8a8"
      },
      "source": [
        "Problem 5: Remove duplicates from a sorted linked list.\n",
        "\n",
        "Input: 1 -> 1 -> 2 -> 3 -> 3\n",
        "Output: 1 -> 2 -> 3"
      ]
    },
    {
      "cell_type": "code",
      "execution_count": null,
      "id": "d608cf45-e948-4191-a04f-8e607661b1b6",
      "metadata": {
        "id": "d608cf45-e948-4191-a04f-8e607661b1b6",
        "outputId": "c4514c30-65a4-4ccf-a9be-49252a8c0d01"
      },
      "outputs": [
        {
          "name": "stdout",
          "output_type": "stream",
          "text": [
            "Original Linked List:\n",
            "1 -> 1 -> 2 -> 3 -> 3 -> None\n",
            "Linked List after Removing Duplicates:\n",
            "1 -> 2 -> 3 -> None\n"
          ]
        }
      ],
      "source": [
        "class ListNode:\n",
        "    def __init__(self, value=0, next=None):\n",
        "        self.value = value\n",
        "        self.next = next\n",
        "\n",
        "def remove_duplicates(head):\n",
        "    current = head\n",
        "\n",
        "    while current and current.next:\n",
        "        if current.value == current.next.value:\n",
        "            # Remove the duplicate node\n",
        "            current.next = current.next.next\n",
        "        else:\n",
        "            # Move to the next node\n",
        "            current = current.next\n",
        "\n",
        "    return head\n",
        "\n",
        "# Helper function to convert a list to a linked list\n",
        "def list_to_linked_list(lst):\n",
        "    if not lst:\n",
        "        return None\n",
        "    head = ListNode(lst[0])\n",
        "    current = head\n",
        "    for value in lst[1:]:\n",
        "        current.next = ListNode(value)\n",
        "        current = current.next\n",
        "    return head\n",
        "\n",
        "# Helper function to print the linked list\n",
        "def print_linked_list(head):\n",
        "    current = head\n",
        "    while current:\n",
        "        print(current.value, end=\" -> \")\n",
        "        current = current.next\n",
        "    print(\"None\")\n",
        "\n",
        "# Example usage:\n",
        "linked_list = list_to_linked_list([1, 1, 2, 3, 3])\n",
        "\n",
        "# Print the original linked list\n",
        "print(\"Original Linked List:\")\n",
        "print_linked_list(linked_list)\n",
        "\n",
        "# Remove duplicates\n",
        "new_linked_list = remove_duplicates(linked_list)\n",
        "\n",
        "# Print the linked list after removing duplicates\n",
        "print(\"Linked List after Removing Duplicates:\")\n",
        "print_linked_list(new_linked_list)\n"
      ]
    },
    {
      "cell_type": "markdown",
      "id": "a332f647-2185-48be-9dc3-dfb0ac2bef99",
      "metadata": {
        "id": "a332f647-2185-48be-9dc3-dfb0ac2bef99"
      },
      "source": [
        "Problem 6: Add two numbers represented by linked lists (where each node contains a single digit)\n",
        "\n",
        "Input: List 1: 2 -> 4 -> 3, List 2: 5 -> 6 -> 4 (represents 342 + 465)\n",
        "Output: 7 -> 0 -> 8 (represents 807)"
      ]
    },
    {
      "cell_type": "code",
      "execution_count": null,
      "id": "8a1f3463-58e4-4a1c-98a9-621da571a55e",
      "metadata": {
        "id": "8a1f3463-58e4-4a1c-98a9-621da571a55e",
        "outputId": "5bb3e9c3-07b0-440e-d06e-a1fcadfd35c8"
      },
      "outputs": [
        {
          "name": "stdout",
          "output_type": "stream",
          "text": [
            "Number 1:\n",
            "2 -> 4 -> 3 -> None\n",
            "Number 2:\n",
            "5 -> 6 -> 4 -> None\n",
            "Sum:\n",
            "7 -> 0 -> 8 -> None\n"
          ]
        }
      ],
      "source": [
        "class ListNode:\n",
        "    def __init__(self, value=0, next=None):\n",
        "        self.value = value\n",
        "        self.next = next\n",
        "\n",
        "def add_two_numbers(l1, l2):\n",
        "    dummy_head = ListNode()\n",
        "    current = dummy_head\n",
        "    carry = 0\n",
        "\n",
        "    while l1 or l2 or carry:\n",
        "        # Extract values from the current nodes (if available)\n",
        "        val1 = l1.value if l1 else 0\n",
        "        val2 = l2.value if l2 else 0\n",
        "\n",
        "        # Calculate the sum and carry\n",
        "        total_sum = val1 + val2 + carry\n",
        "        carry = total_sum // 10\n",
        "\n",
        "        # Create a new node with the remainder (sum % 10)\n",
        "        current.next = ListNode(total_sum % 10)\n",
        "\n",
        "        # Move to the next nodes (if available)\n",
        "        current = current.next\n",
        "        l1 = l1.next if l1 else None\n",
        "        l2 = l2.next if l2 else None\n",
        "\n",
        "    return dummy_head.next\n",
        "\n",
        "# Helper function to convert a list to a linked list\n",
        "def list_to_linked_list(lst):\n",
        "    if not lst:\n",
        "        return None\n",
        "    head = ListNode(lst[0])\n",
        "    current = head\n",
        "    for value in lst[1:]:\n",
        "        current.next = ListNode(value)\n",
        "        current = current.next\n",
        "    return head\n",
        "\n",
        "# Helper function to print the linked list\n",
        "def print_linked_list(head):\n",
        "    current = head\n",
        "    while current:\n",
        "        print(current.value, end=\" -> \")\n",
        "        current = current.next\n",
        "    print(\"None\")\n",
        "\n",
        "# Example usage:\n",
        "num1 = list_to_linked_list([2, 4, 3])  # Represents the number 342\n",
        "num2 = list_to_linked_list([5, 6, 4])  # Represents the number 465\n",
        "\n",
        "# Print the original linked lists\n",
        "print(\"Number 1:\")\n",
        "print_linked_list(num1)\n",
        "print(\"Number 2:\")\n",
        "print_linked_list(num2)\n",
        "\n",
        "# Add the two numbers\n",
        "result = add_two_numbers(num1, num2)\n",
        "\n",
        "# Print the result\n",
        "print(\"Sum:\")\n",
        "print_linked_list(result)\n"
      ]
    },
    {
      "cell_type": "markdown",
      "id": "9ca623ba-b6b6-4ddb-a732-347c843882c7",
      "metadata": {
        "id": "9ca623ba-b6b6-4ddb-a732-347c843882c7"
      },
      "source": [
        "Problem 7: Swap nodes in pairs in a linked list.\n",
        "\n",
        "Input: 1 -> 2 -> 3 -> 4\n",
        "Output: 2 -> 1 -> 4 -> 3"
      ]
    },
    {
      "cell_type": "code",
      "execution_count": null,
      "id": "bc823591-eb5d-4d71-a123-fa549f9adccb",
      "metadata": {
        "id": "bc823591-eb5d-4d71-a123-fa549f9adccb",
        "outputId": "57b5f72c-2cb8-4909-8238-9450df4d68af"
      },
      "outputs": [
        {
          "name": "stdout",
          "output_type": "stream",
          "text": [
            "Original Linked List:\n",
            "1 -> 2 -> 3 -> 4 -> None\n",
            "Swapped Linked List:\n",
            "2 -> 1 -> 4 -> 3 -> None\n"
          ]
        }
      ],
      "source": [
        "class ListNode:\n",
        "    def __init__(self, value=0, next=None):\n",
        "        self.value = value\n",
        "        self.next = next\n",
        "\n",
        "def swap_pairs(head):\n",
        "    dummy = ListNode(0)\n",
        "    dummy.next = head\n",
        "    current = dummy\n",
        "\n",
        "    while current.next and current.next.next:\n",
        "        # Nodes to be swapped\n",
        "        first_node = current.next\n",
        "        second_node = current.next.next\n",
        "\n",
        "        # Swapping\n",
        "        current.next = second_node\n",
        "        first_node.next = second_node.next\n",
        "        second_node.next = first_node\n",
        "\n",
        "        # Move to the next pair\n",
        "        current = current.next.next\n",
        "\n",
        "    return dummy.next\n",
        "\n",
        "# Helper function to convert a list to a linked list\n",
        "def list_to_linked_list(lst):\n",
        "    if not lst:\n",
        "        return None\n",
        "    head = ListNode(lst[0])\n",
        "    current = head\n",
        "    for value in lst[1:]:\n",
        "        current.next = ListNode(value)\n",
        "        current = current.next\n",
        "    return head\n",
        "\n",
        "# Helper function to print the linked list\n",
        "def print_linked_list(head):\n",
        "    current = head\n",
        "    while current:\n",
        "        print(current.value, end=\" -> \")\n",
        "        current = current.next\n",
        "    print(\"None\")\n",
        "\n",
        "# Example usage:\n",
        "linked_list = list_to_linked_list([1, 2, 3, 4])\n",
        "\n",
        "# Print the original linked list\n",
        "print(\"Original Linked List:\")\n",
        "print_linked_list(linked_list)\n",
        "\n",
        "# Swap nodes in pairs\n",
        "swapped_list = swap_pairs(linked_list)\n",
        "\n",
        "# Print the result\n",
        "print(\"Swapped Linked List:\")\n",
        "print_linked_list(swapped_list)\n",
        "\n",
        ""
      ]
    },
    {
      "cell_type": "markdown",
      "id": "e8e3036c-20aa-4287-a5f3-c06e33685ef3",
      "metadata": {
        "id": "e8e3036c-20aa-4287-a5f3-c06e33685ef3"
      },
      "source": [
        "Problem 8: Reverse nodes in a linked list in groups of k.\n",
        "\n",
        "Input: 1 -> 2 -> 3 -> 4 -> 5, k = 3\n",
        "Output: 3 -> 2 -> 1 -> 4 -> 5\n"
      ]
    },
    {
      "cell_type": "code",
      "execution_count": null,
      "id": "9ca8ee56-32dd-4ed2-a2dc-2bb77d1024d3",
      "metadata": {
        "id": "9ca8ee56-32dd-4ed2-a2dc-2bb77d1024d3",
        "outputId": "3c377e40-f55b-4576-d283-4d9c955e178d"
      },
      "outputs": [
        {
          "name": "stdout",
          "output_type": "stream",
          "text": [
            "Original Linked List:\n",
            "1 -> 2 -> 3 -> 4 -> 5 -> None\n",
            "Reversed Linked List in Groups of 3\n",
            "3 -> 2 -> 1 -> 4 -> 5 -> None\n"
          ]
        }
      ],
      "source": [
        "class ListNode:\n",
        "    def __init__(self, value=0, next=None):\n",
        "        self.value = value\n",
        "        self.next = next\n",
        "\n",
        "def reverse_k_group(head, k):\n",
        "    def reverse_linked_list(node, count):\n",
        "        prev, current = None, node\n",
        "        while count > 0:\n",
        "            next_node = current.next\n",
        "            current.next = prev\n",
        "            prev = current\n",
        "            current = next_node\n",
        "            count -= 1\n",
        "        return prev\n",
        "\n",
        "    def get_length(node):\n",
        "        length = 0\n",
        "        while node:\n",
        "            length += 1\n",
        "            node = node.next\n",
        "        return length\n",
        "\n",
        "    length = get_length(head)\n",
        "    dummy = ListNode(0)\n",
        "    dummy.next = head\n",
        "    prev_group_end = dummy\n",
        "    current = head\n",
        "\n",
        "    while length >= k:\n",
        "        group_start = current\n",
        "        group_end = current\n",
        "        count = k\n",
        "\n",
        "        # Move to the end of the k-group\n",
        "        while count > 1:\n",
        "            group_end = group_end.next\n",
        "            count -= 1\n",
        "\n",
        "        next_group_start = group_end.next\n",
        "\n",
        "        # Reverse the k-group\n",
        "        reversed_group_start = reverse_linked_list(group_start, k)\n",
        "\n",
        "        # Connect the reversed group to the previous and next groups\n",
        "        prev_group_end.next = reversed_group_start\n",
        "        group_start.next = next_group_start\n",
        "\n",
        "        # Update pointers for the next iteration\n",
        "        prev_group_end = group_start\n",
        "        current = next_group_start\n",
        "        length -= k\n",
        "\n",
        "    return dummy.next\n",
        "\n",
        "# Helper function to convert a list to a linked list\n",
        "def list_to_linked_list(lst):\n",
        "    if not lst:\n",
        "        return None\n",
        "    head = ListNode(lst[0])\n",
        "    current = head\n",
        "    for value in lst[1:]:\n",
        "        current.next = ListNode(value)\n",
        "        current = current.next\n",
        "    return head\n",
        "\n",
        "# Helper function to print the linked list\n",
        "def print_linked_list(head):\n",
        "    current = head\n",
        "    while current:\n",
        "        print(current.value, end=\" -> \")\n",
        "        current = current.next\n",
        "    print(\"None\")\n",
        "\n",
        "# Example usage:\n",
        "linked_list = list_to_linked_list([1, 2, 3, 4, 5])\n",
        "k = 3\n",
        "\n",
        "# Print the original linked list\n",
        "print(\"Original Linked List:\")\n",
        "print_linked_list(linked_list)\n",
        "\n",
        "# Reverse nodes in groups of k\n",
        "reversed_list = reverse_k_group(linked_list, k)\n",
        "\n",
        "# Print the result\n",
        "print(\"Reversed Linked List in Groups of\", k)\n",
        "print_linked_list(reversed_list)\n"
      ]
    },
    {
      "cell_type": "markdown",
      "id": "61b044b7-2e4f-455f-8f8b-cc6c336b046d",
      "metadata": {
        "id": "61b044b7-2e4f-455f-8f8b-cc6c336b046d"
      },
      "source": [
        "Problem 9: Determine if a linked list is a palindrome.\n",
        "\n",
        "Input: 1 -> 2 -> 2 -> 1\n",
        "Output: True"
      ]
    },
    {
      "cell_type": "code",
      "execution_count": null,
      "id": "d82163ce-f31b-42bb-bee1-392672e240bf",
      "metadata": {
        "id": "d82163ce-f31b-42bb-bee1-392672e240bf",
        "outputId": "c99c557e-7774-45d8-b33f-80ef690a1cdb"
      },
      "outputs": [
        {
          "name": "stdout",
          "output_type": "stream",
          "text": [
            "Is Palindrome: True\n"
          ]
        }
      ],
      "source": [
        "class ListNode:\n",
        "    def __init__(self, value=0, next=None):\n",
        "        self.value = value\n",
        "        self.next = next\n",
        "\n",
        "def is_palindrome(head):\n",
        "    def reverse_linked_list(node):\n",
        "        prev, current = None, node\n",
        "        while current:\n",
        "            next_node = current.next\n",
        "            current.next = prev\n",
        "            prev = current\n",
        "            current = next_node\n",
        "        return prev\n",
        "\n",
        "    def get_length(node):\n",
        "        length = 0\n",
        "        while node:\n",
        "            length += 1\n",
        "            node = node.next\n",
        "        return length\n",
        "\n",
        "    def find_middle(node):\n",
        "        slow = node\n",
        "        fast = node\n",
        "        while fast and fast.next:\n",
        "            slow = slow.next\n",
        "            fast = fast.next.next\n",
        "        return slow\n",
        "\n",
        "    def compare_lists(list1, list2):\n",
        "        while list1 and list2:\n",
        "            if list1.value != list2.value:\n",
        "                return False\n",
        "            list1 = list1.next\n",
        "            list2 = list2.next\n",
        "        return True\n",
        "\n",
        "    length = get_length(head)\n",
        "    middle = find_middle(head)\n",
        "\n",
        "    # Reverse the second half of the linked list\n",
        "    second_half_reversed = reverse_linked_list(middle)\n",
        "\n",
        "    # Compare the first and reversed second halves\n",
        "    return compare_lists(head, second_half_reversed)\n",
        "\n",
        "# Helper function to convert a list to a linked list\n",
        "def list_to_linked_list(lst):\n",
        "    if not lst:\n",
        "        return None\n",
        "    head = ListNode(lst[0])\n",
        "    current = head\n",
        "    for value in lst[1:]:\n",
        "        current.next = ListNode(value)\n",
        "        current = current.next\n",
        "    return head\n",
        "\n",
        "# Example usage:\n",
        "linked_list = list_to_linked_list([1, 2, 2, 1])\n",
        "\n",
        "# Check if the linked list is a palindrome\n",
        "result = is_palindrome(linked_list)\n",
        "\n",
        "# Print the result\n",
        "print(\"Is Palindrome:\", result)\n"
      ]
    },
    {
      "cell_type": "markdown",
      "id": "42d27c2a-078e-4614-869b-bc789ab7fb36",
      "metadata": {
        "id": "42d27c2a-078e-4614-869b-bc789ab7fb36"
      },
      "source": [
        "Problem 10: Rotate a linked list to the right by k places.\n",
        "\n",
        "Input: 1 -> 2 -> 3 -> 4 -> 5, k = 2\n",
        "Output: 4 -> 5 -> 1 -> 2 -> 3"
      ]
    },
    {
      "cell_type": "code",
      "execution_count": null,
      "id": "4139b611-0eb0-483f-b81c-b4138ac4f358",
      "metadata": {
        "id": "4139b611-0eb0-483f-b81c-b4138ac4f358",
        "outputId": "134013ef-4a60-4f38-d8ba-53d8d66c4113"
      },
      "outputs": [
        {
          "name": "stdout",
          "output_type": "stream",
          "text": [
            "Original List: [1, 2, 3]\n",
            "Rotated List: [4, 5, 1, 2, 3]\n"
          ]
        }
      ],
      "source": [
        "class ListNode:\n",
        "    def __init__(self, value=0, next=None):\n",
        "        self.value = value\n",
        "        self.next = next\n",
        "\n",
        "def rotate_right(head, k):\n",
        "    if not head or k == 0:\n",
        "        return head\n",
        "\n",
        "    # Calculate the length of the linked list\n",
        "    length = 1\n",
        "    current = head\n",
        "    while current.next:\n",
        "        length += 1\n",
        "        current = current.next\n",
        "\n",
        "    # Adjust the rotation value\n",
        "    k = k % length\n",
        "\n",
        "    # If k is 0, no rotation is needed\n",
        "    if k == 0:\n",
        "        return head\n",
        "\n",
        "    # Find the new head and tail after rotation\n",
        "    new_head_position = length - k\n",
        "    current.next = head  # Connect the original tail to the original head\n",
        "    new_tail = current\n",
        "\n",
        "    # Traverse to the new head position\n",
        "    current = head\n",
        "    for _ in range(new_head_position - 1):\n",
        "        current = current.next\n",
        "\n",
        "    new_head = current.next\n",
        "    current.next = None  # Disconnect the new tail from the new head\n",
        "\n",
        "    return new_head\n",
        "\n",
        "# Helper function to convert a list to a linked list\n",
        "def list_to_linked_list(lst):\n",
        "    if not lst:\n",
        "        return None\n",
        "    head = ListNode(lst[0])\n",
        "    current = head\n",
        "    for value in lst[1:]:\n",
        "        current.next = ListNode(value)\n",
        "        current = current.next\n",
        "    return head\n",
        "\n",
        "# Helper function to convert a linked list to a list\n",
        "def linked_list_to_list(head):\n",
        "    result = []\n",
        "    current = head\n",
        "    while current:\n",
        "        result.append(current.value)\n",
        "        current = current.next\n",
        "    return result\n",
        "\n",
        "# Example usage:\n",
        "linked_list = list_to_linked_list([1, 2, 3, 4, 5])\n",
        "k = 2\n",
        "\n",
        "# Rotate the linked list\n",
        "rotated_list = rotate_right(linked_list, k)\n",
        "\n",
        "# Print the result\n",
        "print(\"Original List:\", linked_list_to_list(linked_list))\n",
        "print(\"Rotated List:\", linked_list_to_list(rotated_list))\n"
      ]
    },
    {
      "cell_type": "markdown",
      "id": "718e5772-55ef-49d0-a56c-64f95ba4279f",
      "metadata": {
        "id": "718e5772-55ef-49d0-a56c-64f95ba4279f"
      },
      "source": [
        "Problem 11: Flatten a multilevel doubly linked list.\n",
        "\n",
        "Input: 1 <-> 2 <-> 3 <-> 7 <-> 8 <-> 11 -> 12, 4 <-> 5 -> 9 -> 10, 6 -> 13\n",
        "Output: 1 <-> 2 <-> 3 <-> 4 <-> 5 <-> 6 <-> 7 <-> 8 <-> 9 <-> 10 <-> 11 <-> 12 <-> 13"
      ]
    },
    {
      "cell_type": "code",
      "execution_count": null,
      "id": "71d5b548-da35-416b-89c2-924e85491111",
      "metadata": {
        "id": "71d5b548-da35-416b-89c2-924e85491111",
        "outputId": "59211eb2-6011-483d-d9f6-e3f8a26e4ac6"
      },
      "outputs": [
        {
          "name": "stdout",
          "output_type": "stream",
          "text": [
            "Original Linked List:\n",
            "1 <-> 2 <-> 3 <-> 4 <-> 5\n",
            "\n",
            "Flattened Linked List:\n",
            "1 <-> 2 <-> 3 <-> 7 <-> 8 <-> 11 <-> 12 <-> 4 <-> 5 <-> 9 <-> 10\n"
          ]
        }
      ],
      "source": [
        "class Node:\n",
        "    def __init__(self, value, prev=None, next=None, child=None):\n",
        "        self.value = value\n",
        "        self.prev = prev\n",
        "        self.next = next\n",
        "        self.child = child\n",
        "\n",
        "def flatten_linked_list(head):\n",
        "    if not head:\n",
        "        return None\n",
        "\n",
        "    current = head\n",
        "    while current:\n",
        "        if current.child:\n",
        "            next_node = current.next\n",
        "            current.next = flatten_linked_list(current.child)\n",
        "            current.child.prev = current\n",
        "            current.child = None\n",
        "\n",
        "            while current.next:\n",
        "                current = current.next\n",
        "            current.next = next_node\n",
        "            if next_node:\n",
        "                next_node.prev = current\n",
        "\n",
        "        current = current.next\n",
        "\n",
        "    return head\n",
        "\n",
        "def print_linked_list(head):\n",
        "    result = []\n",
        "    current = head\n",
        "    while current:\n",
        "        result.append(current.value)\n",
        "        current = current.next\n",
        "    print(\" <-> \".join(map(str, result)))\n",
        "\n",
        "# Example usage:\n",
        "# Creating a sample multilevel doubly linked list\n",
        "head = Node(1)\n",
        "head.next = Node(2)\n",
        "head.next.prev = head\n",
        "head.next.next = Node(3)\n",
        "head.next.next.prev = head.next\n",
        "head.next.next.child = Node(7)\n",
        "head.next.next.child.next = Node(8)\n",
        "head.next.next.child.next.prev = head.next.next.child\n",
        "head.next.next.child.next.child = Node(11)\n",
        "head.next.next.child.next.child.next = Node(12)\n",
        "head.next.next.child.next.child.prev = head.next.next.child.next\n",
        "head.next.next.next = Node(4)\n",
        "head.next.next.next.prev = head.next.next\n",
        "head.next.next.next.next = Node(5)\n",
        "head.next.next.next.next.prev = head.next.next.next\n",
        "head.next.next.next.next.child = Node(9)\n",
        "head.next.next.next.next.child.next = Node(10)\n",
        "head.next.next.next.next.child.prev = head.next.next.next.next\n",
        "\n",
        "print(\"Original Linked List:\")\n",
        "print_linked_list(head)\n",
        "\n",
        "# Flatten the multilevel doubly linked list\n",
        "flattened_head = flatten_linked_list(head)\n",
        "\n",
        "# Print the result\n",
        "print(\"\\nFlattened Linked List:\")\n",
        "print_linked_list(flattened_head)\n"
      ]
    },
    {
      "cell_type": "markdown",
      "id": "c779fa9a-3bb1-4c06-9557-45b1621fd287",
      "metadata": {
        "id": "c779fa9a-3bb1-4c06-9557-45b1621fd287"
      },
      "source": [
        "Problem 12: Rearrange a linked list such that all even positioned nodes are placed at the end.\n",
        "\n",
        "Input: 1 -> 2 -> 3 -> 4 -> 5\n",
        "Output: 1 -> 3 -> 5 -> 2 -> 4"
      ]
    },
    {
      "cell_type": "code",
      "execution_count": null,
      "id": "14e5e52d-4d03-4992-ab6e-1daa94bad71d",
      "metadata": {
        "id": "14e5e52d-4d03-4992-ab6e-1daa94bad71d",
        "outputId": "6c5edb91-ddec-434f-da2c-b122663b408a"
      },
      "outputs": [
        {
          "name": "stdout",
          "output_type": "stream",
          "text": [
            "Original Linked List:\n",
            "1 -> 2 -> 3 -> 4 -> 5\n",
            "\n",
            "Rearranged Linked List:\n",
            "1 -> 3 -> 5 -> 2 -> 4\n"
          ]
        }
      ],
      "source": [
        "class Node:\n",
        "    def __init__(self, value, next=None):\n",
        "        self.value = value\n",
        "        self.next = next\n",
        "\n",
        "def rearrange_linked_list(head):\n",
        "    if not head or not head.next or not head.next.next:\n",
        "        return head\n",
        "\n",
        "    odd_head, even_head = head, head.next\n",
        "    odd_current, even_current = odd_head, even_head\n",
        "\n",
        "    while even_current and even_current.next:\n",
        "        odd_current.next = even_current.next\n",
        "        odd_current = odd_current.next\n",
        "\n",
        "        even_current.next = odd_current.next\n",
        "        even_current = even_current.next\n",
        "\n",
        "    odd_current.next = even_head\n",
        "\n",
        "    return odd_head\n",
        "\n",
        "def print_linked_list(head):\n",
        "    result = []\n",
        "    current = head\n",
        "    while current:\n",
        "        result.append(current.value)\n",
        "        current = current.next\n",
        "    print(\" -> \".join(map(str, result)))\n",
        "\n",
        "# Example usage:\n",
        "# Creating a sample linked list\n",
        "head = Node(1, Node(2, Node(3, Node(4, Node(5)))))\n",
        "\n",
        "print(\"Original Linked List:\")\n",
        "print_linked_list(head)\n",
        "\n",
        "# Rearrange the linked list\n",
        "rearranged_head = rearrange_linked_list(head)\n",
        "\n",
        "# Print the result\n",
        "print(\"\\nRearranged Linked List:\")\n",
        "print_linked_list(rearranged_head)\n"
      ]
    },
    {
      "cell_type": "markdown",
      "id": "dbf1d478-775f-4113-8adf-13783ef69c70",
      "metadata": {
        "id": "dbf1d478-775f-4113-8adf-13783ef69c70"
      },
      "source": [
        "Problem 13: Given a non-negative number represented as a linked list, add one to it.\n",
        "\n",
        "Input: 1 -> 2 -> 3 (represents the number 123)\n",
        "Output: 1 -> 2 -> 4 (represents the number 124)"
      ]
    },
    {
      "cell_type": "code",
      "execution_count": null,
      "id": "f2bff3e5-eef9-41c0-bbd0-7368bb98f1e4",
      "metadata": {
        "id": "f2bff3e5-eef9-41c0-bbd0-7368bb98f1e4",
        "outputId": "e5f0e069-745f-41a8-db6e-003b5e7b2042"
      },
      "outputs": [
        {
          "name": "stdout",
          "output_type": "stream",
          "text": [
            "Original Linked List:\n",
            "1 -> 2 -> 3\n",
            "\n",
            "Linked List after adding one:\n",
            "1 -> 2 -> 4\n"
          ]
        }
      ],
      "source": [
        "class Node:\n",
        "    def __init__(self, value, next=None):\n",
        "        self.value = value\n",
        "        self.next = next\n",
        "\n",
        "def add_one_to_linked_list(head):\n",
        "    # Reverse the linked list\n",
        "    reversed_head = None\n",
        "    current = head\n",
        "    while current:\n",
        "        next_node = current.next\n",
        "        current.next = reversed_head\n",
        "        reversed_head = current\n",
        "        current = next_node\n",
        "\n",
        "    # Add one to the reversed linked list\n",
        "    current = reversed_head\n",
        "    carry = 1\n",
        "    while current:\n",
        "        current.value += carry\n",
        "        carry, current.value = divmod(current.value, 10)\n",
        "        if carry == 0:\n",
        "            break\n",
        "        current = current.next\n",
        "\n",
        "    # If there's still a carry, add a new node\n",
        "    if carry > 0:\n",
        "        reversed_head = Node(carry, reversed_head)\n",
        "\n",
        "    # Reverse the linked list again to get the final result\n",
        "    result_head = None\n",
        "    while reversed_head:\n",
        "        next_node = reversed_head.next\n",
        "        reversed_head.next = result_head\n",
        "        result_head = reversed_head\n",
        "        reversed_head = next_node\n",
        "\n",
        "    return result_head\n",
        "\n",
        "def print_linked_list(head):\n",
        "    result = []\n",
        "    current = head\n",
        "    while current:\n",
        "        result.append(current.value)\n",
        "        current = current.next\n",
        "    print(\" -> \".join(map(str, result)))\n",
        "\n",
        "# Example usage:\n",
        "# Creating a sample linked list\n",
        "head = Node(1, Node(2, Node(3)))\n",
        "\n",
        "print(\"Original Linked List:\")\n",
        "print_linked_list(head)\n",
        "\n",
        "# Add one to the linked list\n",
        "result_head = add_one_to_linked_list(head)\n",
        "\n",
        "# Print the result\n",
        "print(\"\\nLinked List after adding one:\")\n",
        "print_linked_list(result_head)\n"
      ]
    },
    {
      "cell_type": "markdown",
      "id": "8302591c-7777-4aa5-a7b3-01ea294758cb",
      "metadata": {
        "id": "8302591c-7777-4aa5-a7b3-01ea294758cb"
      },
      "source": [
        "Problem 14: Given a sorted array and a target value, return the index if the target is found. If not, return the\n",
        "index where it would be inserted.\n",
        "\n",
        "Input: nums = [1, 3, 5, 6], target = 5\n",
        "Output: 2"
      ]
    },
    {
      "cell_type": "code",
      "execution_count": null,
      "id": "98de341e-b698-4299-8bcc-fa41ecb51df9",
      "metadata": {
        "id": "98de341e-b698-4299-8bcc-fa41ecb51df9",
        "outputId": "0df3c60b-493a-4bea-c600-3ded5527f042"
      },
      "outputs": [
        {
          "name": "stdout",
          "output_type": "stream",
          "text": [
            "Input: nums = [1, 3, 5, 6], target = 5\n",
            "Output: 2\n"
          ]
        }
      ],
      "source": [
        "def search_insert_position(nums, target):\n",
        "    low, high = 0, len(nums) - 1\n",
        "\n",
        "    while low <= high:\n",
        "        mid = (low + high) // 2\n",
        "        mid_value = nums[mid]\n",
        "\n",
        "        if mid_value == target:\n",
        "            return mid\n",
        "        elif mid_value < target:\n",
        "            low = mid + 1\n",
        "        else:\n",
        "            high = mid - 1\n",
        "\n",
        "    return low  # Target not found, return the position where it would be inserted\n",
        "\n",
        "# Example usage:\n",
        "nums = [1, 3, 5, 6]\n",
        "target = 5\n",
        "result = search_insert_position(nums, target)\n",
        "\n",
        "print(f\"Input: nums = {nums}, target = {target}\")\n",
        "print(f\"Output: {result}\")\n"
      ]
    },
    {
      "cell_type": "markdown",
      "id": "286bcf55-6957-45ed-aab6-e8926030a482",
      "metadata": {
        "id": "286bcf55-6957-45ed-aab6-e8926030a482"
      },
      "source": [
        "Problem 15: Find the minimum element in a rotated sorted array.\n",
        "\n",
        "Input: [4, 5, 6, 7, 0, 1, 2]\n",
        "Output: 0"
      ]
    },
    {
      "cell_type": "code",
      "execution_count": null,
      "id": "170bae97-477f-475c-a300-e8fd0381d017",
      "metadata": {
        "id": "170bae97-477f-475c-a300-e8fd0381d017",
        "outputId": "fb8f98d8-0c0e-47ec-ffd4-8fb9db30c1c4"
      },
      "outputs": [
        {
          "name": "stdout",
          "output_type": "stream",
          "text": [
            "Input: [4, 5, 6, 7, 0, 1, 2]\n",
            "Output: 0\n"
          ]
        }
      ],
      "source": [
        "def find_min_in_rotated_sorted_array(nums):\n",
        "    low, high = 0, len(nums) - 1\n",
        "\n",
        "    while low < high:\n",
        "        mid = (low + high) // 2\n",
        "\n",
        "        if nums[mid] > nums[high]:\n",
        "            low = mid + 1\n",
        "        else:\n",
        "            high = mid\n",
        "\n",
        "    return nums[low]\n",
        "\n",
        "# Example usage:\n",
        "input_array = [4, 5, 6, 7, 0, 1, 2]\n",
        "result = find_min_in_rotated_sorted_array(input_array)\n",
        "\n",
        "print(f\"Input: {input_array}\")\n",
        "print(f\"Output: {result}\")\n"
      ]
    },
    {
      "cell_type": "markdown",
      "id": "a4d4339a-2cbc-417b-a6b9-a9666ab0e181",
      "metadata": {
        "id": "a4d4339a-2cbc-417b-a6b9-a9666ab0e181"
      },
      "source": [
        "Problem 16: Search for a target value in a rotated sorted array.\n",
        "\n",
        "Input: nums = [4, 5, 6, 7, 0, 1, 2], target = 0\n",
        "Output: 4"
      ]
    },
    {
      "cell_type": "code",
      "execution_count": null,
      "id": "bd5bc9da-7e2b-48f0-be50-8b12aa9fce9f",
      "metadata": {
        "id": "bd5bc9da-7e2b-48f0-be50-8b12aa9fce9f",
        "outputId": "4275dbc5-5634-4627-e5fb-c5289bd46024"
      },
      "outputs": [
        {
          "name": "stdout",
          "output_type": "stream",
          "text": [
            "Input Array: [4, 5, 6, 7, 0, 1, 2]\n",
            "Target Value: 0\n",
            "Output Index: 4\n"
          ]
        }
      ],
      "source": [
        "def search_in_rotated_sorted_array(nums, target):\n",
        "    low, high = 0, len(nums) - 1\n",
        "\n",
        "    while low <= high:\n",
        "        mid = (low + high) // 2\n",
        "\n",
        "        if nums[mid] == target:\n",
        "            return mid\n",
        "\n",
        "        if nums[low] <= nums[mid]:\n",
        "            if nums[low] <= target <= nums[mid]:\n",
        "                high = mid - 1\n",
        "            else:\n",
        "                low = mid + 1\n",
        "        else:\n",
        "            if nums[mid] <= target <= nums[high]:\n",
        "                low = mid + 1\n",
        "            else:\n",
        "                high = mid - 1\n",
        "\n",
        "    return -1\n",
        "\n",
        "# Example usage:\n",
        "input_array = [4, 5, 6, 7, 0, 1, 2]\n",
        "target_value = 0\n",
        "result = search_in_rotated_sorted_array(input_array, target_value)\n",
        "\n",
        "print(f\"Input Array: {input_array}\")\n",
        "print(f\"Target Value: {target_value}\")\n",
        "print(f\"Output Index: {result}\")\n"
      ]
    },
    {
      "cell_type": "markdown",
      "id": "0352a8f9-8f9a-43f8-a021-58674ff58e70",
      "metadata": {
        "id": "0352a8f9-8f9a-43f8-a021-58674ff58e70"
      },
      "source": [
        "Problem 17: Find the peak element in an array. A peak element is greater than its neighbors.\n",
        "\n",
        "Input: nums = [1, 2, 3, 1]\n",
        "Output: 2 (index of peak element)"
      ]
    },
    {
      "cell_type": "code",
      "execution_count": null,
      "id": "3016a2a9-6f66-42fd-bffb-c682dbec09e7",
      "metadata": {
        "id": "3016a2a9-6f66-42fd-bffb-c682dbec09e7",
        "outputId": "618ef4e4-212b-4151-8557-72b6312392ab"
      },
      "outputs": [
        {
          "name": "stdout",
          "output_type": "stream",
          "text": [
            "Input Array: [1, 2, 3, 1]\n",
            "Peak Element Index: 2\n"
          ]
        }
      ],
      "source": [
        "def find_peak_element(nums):\n",
        "    low, high = 0, len(nums) - 1\n",
        "\n",
        "    while low < high:\n",
        "        mid = (low + high) // 2\n",
        "\n",
        "        if nums[mid] > nums[mid + 1]:\n",
        "            high = mid\n",
        "        else:\n",
        "            low = mid + 1\n",
        "\n",
        "    return low\n",
        "\n",
        "# Example usage:\n",
        "input_array = [1, 2, 3, 1]\n",
        "result = find_peak_element(input_array)\n",
        "\n",
        "print(f\"Input Array: {input_array}\")\n",
        "print(f\"Peak Element Index: {result}\")\n"
      ]
    },
    {
      "cell_type": "markdown",
      "id": "0a87d501-ee56-4d99-b082-8ad9cf0a8475",
      "metadata": {
        "id": "0a87d501-ee56-4d99-b082-8ad9cf0a8475"
      },
      "source": [
        "Problem 18: Given a m x n matrix where each row and column is sorted in ascending order, count the number\n",
        "of negative numbers.\n",
        "\n",
        "Input: grid = [[4, 3, 2, -1], [3, 2, 1, -1], [1, 1, -1, -2], [-1, -1, -2, -3]]\n",
        "Output: 8"
      ]
    },
    {
      "cell_type": "code",
      "execution_count": null,
      "id": "f58a3236-fb30-4a50-8602-ed582f669d7c",
      "metadata": {
        "id": "f58a3236-fb30-4a50-8602-ed582f669d7c",
        "outputId": "37d23abd-c26a-4088-bf46-957a92505bde"
      },
      "outputs": [
        {
          "name": "stdout",
          "output_type": "stream",
          "text": [
            "Input Matrix:\n",
            "[4, 3, 2, -1]\n",
            "[3, 2, 1, -1]\n",
            "[1, 1, -1, -2]\n",
            "[-1, -1, -2, -3]\n",
            "\n",
            "Number of Negative Numbers: 8\n"
          ]
        }
      ],
      "source": [
        "def count_negatives(matrix):\n",
        "    rows, cols = len(matrix), len(matrix[0])\n",
        "    count = 0\n",
        "\n",
        "    for row in range(rows):\n",
        "        for col in range(cols):\n",
        "            if matrix[row][col] < 0:\n",
        "                count += 1\n",
        "\n",
        "    return count\n",
        "\n",
        "# Example usage:\n",
        "input_matrix = [\n",
        "    [4, 3, 2, -1],\n",
        "    [3, 2, 1, -1],\n",
        "    [1, 1, -1, -2],\n",
        "    [-1, -1, -2, -3]\n",
        "]\n",
        "\n",
        "result = count_negatives(input_matrix)\n",
        "\n",
        "print(f\"Input Matrix:\")\n",
        "for row in input_matrix:\n",
        "    print(row)\n",
        "\n",
        "print(f\"\\nNumber of Negative Numbers: {result}\")\n"
      ]
    },
    {
      "cell_type": "markdown",
      "id": "f2214ed3-9605-4e21-b949-e77cbf7de127",
      "metadata": {
        "id": "f2214ed3-9605-4e21-b949-e77cbf7de127"
      },
      "source": [
        "Problem 19: Given a 2D matrix sorted in ascending order in each row, and the first integer of each row is\n",
        "greater than the last integer of the previous row, determine if a target value is present in the matrix.\n",
        "\n",
        "Input: matrix = [[1, 3, 5, 7], [10, 11, 16, 20], [23, 30, 34, 60]], target = 3\n",
        "Output: True"
      ]
    },
    {
      "cell_type": "code",
      "execution_count": null,
      "id": "77ed905e-ca9e-4609-9a70-99220563e605",
      "metadata": {
        "id": "77ed905e-ca9e-4609-9a70-99220563e605",
        "outputId": "235c9cc3-123d-4a4f-fb99-5e4d53f84209"
      },
      "outputs": [
        {
          "name": "stdout",
          "output_type": "stream",
          "text": [
            "Input Matrix:\n",
            "[1, 3, 5, 7]\n",
            "[10, 11, 16, 20]\n",
            "[23, 30, 34, 60]\n",
            "\n",
            "Target Value: 3\n",
            "Target Value Present: True\n"
          ]
        }
      ],
      "source": [
        "def search_matrix(matrix, target):\n",
        "    rows, cols = len(matrix), len(matrix[0])\n",
        "    row, col = 0, cols - 1  # Start from the top-right corner\n",
        "\n",
        "    while row < rows and col >= 0:\n",
        "        current_value = matrix[row][col]\n",
        "\n",
        "        if current_value == target:\n",
        "            return True\n",
        "        elif current_value > target:\n",
        "            col -= 1  # Move left in the current row\n",
        "        else:\n",
        "            row += 1  # Move down to the next row\n",
        "\n",
        "    return False\n",
        "\n",
        "# Example usage:\n",
        "input_matrix = [\n",
        "    [1, 3, 5, 7],\n",
        "    [10, 11, 16, 20],\n",
        "    [23, 30, 34, 60]\n",
        "]\n",
        "\n",
        "target_value = 3\n",
        "\n",
        "result = search_matrix(input_matrix, target_value)\n",
        "\n",
        "print(f\"Input Matrix:\")\n",
        "for row in input_matrix:\n",
        "    print(row)\n",
        "\n",
        "print(f\"\\nTarget Value: {target_value}\")\n",
        "print(f\"Target Value Present: {result}\")\n"
      ]
    },
    {
      "cell_type": "markdown",
      "id": "8078505b-a995-4435-8ece-673a233300da",
      "metadata": {
        "id": "8078505b-a995-4435-8ece-673a233300da"
      },
      "source": [
        "Problem 20: Find Median in Two Sorted Arrays\n",
        "Problem: Given two sorted arrays, find the median of the combined sorted array.\n",
        "\n",
        "Input: nums1 = [1, 3], nums2 = [2]\n",
        "Output: 2.0"
      ]
    },
    {
      "cell_type": "code",
      "execution_count": null,
      "id": "3b0354fd-a7fa-4d43-8ca5-97cc805a216f",
      "metadata": {
        "id": "3b0354fd-a7fa-4d43-8ca5-97cc805a216f",
        "outputId": "84eae77c-086d-432c-813d-01f763b04247"
      },
      "outputs": [
        {
          "name": "stdout",
          "output_type": "stream",
          "text": [
            "Median: 2\n"
          ]
        }
      ],
      "source": [
        "def findMedianSortedArrays(nums1, nums2):\n",
        "    merged = sorted(nums1 + nums2)\n",
        "    length = len(merged)\n",
        "\n",
        "    if length % 2 == 0:\n",
        "        middle_left = merged[length // 2 - 1]\n",
        "        middle_right = merged[length // 2]\n",
        "        median = (middle_left + middle_right) / 2\n",
        "    else:\n",
        "        median = merged[length // 2]\n",
        "\n",
        "    return median\n",
        "\n",
        "# Example usage:\n",
        "nums1 = [1, 3]\n",
        "nums2 = [2]\n",
        "\n",
        "result = findMedianSortedArrays(nums1, nums2)\n",
        "print(f\"Median: {result}\")\n"
      ]
    },
    {
      "cell_type": "markdown",
      "id": "43dc8029-cadd-499a-b4ac-f3070307b3fc",
      "metadata": {
        "id": "43dc8029-cadd-499a-b4ac-f3070307b3fc"
      },
      "source": [
        "Problem 21: Given a sorted character array and a target letter, find the smallest letter in the array that is\n",
        "greater than the target.\n",
        "\n",
        "Input: letters = ['c', 'f', 'j'], target = a\n",
        "Output: 'c'"
      ]
    },
    {
      "cell_type": "code",
      "execution_count": null,
      "id": "a60eb1a5-8ce5-414f-9db5-35524ce3fceb",
      "metadata": {
        "id": "a60eb1a5-8ce5-414f-9db5-35524ce3fceb",
        "outputId": "7f3e2a3e-87ec-48a5-86fe-4786fc8da011"
      },
      "outputs": [
        {
          "name": "stdout",
          "output_type": "stream",
          "text": [
            "The smallest letter greater than 'a' is 'c'\n"
          ]
        }
      ],
      "source": [
        "def nextGreatestLetter(letters, target):\n",
        "    for letter in letters:\n",
        "        if letter > target:\n",
        "            return letter\n",
        "    # If no greater letter is found, return the smallest letter in the array\n",
        "    return letters[0]\n",
        "\n",
        "# Example usage:\n",
        "letters = ['c', 'f', 'j']\n",
        "target = 'a'\n",
        "\n",
        "result = nextGreatestLetter(letters, target)\n",
        "print(f\"The smallest letter greater than '{target}' is '{result}'\")\n"
      ]
    },
    {
      "cell_type": "markdown",
      "id": "35a912ab-507a-4b8b-98f1-b08a2f411f3a",
      "metadata": {
        "id": "35a912ab-507a-4b8b-98f1-b08a2f411f3a"
      },
      "source": [
        "Problem 22: Given an array with n objects colored red, white, or blue, sort them in-place so that objects of\n",
        "the same color are adjacent, with the colors in the order red, white, and blue.\n",
        "\n",
        "Input: nums = [2, 0, 2, 1, 1, 0]\n",
        "Output: [0, 0, 1, 1, 2, 2]"
      ]
    },
    {
      "cell_type": "code",
      "execution_count": null,
      "id": "d206cd8a-6504-4289-ad4f-038cf265257b",
      "metadata": {
        "id": "d206cd8a-6504-4289-ad4f-038cf265257b",
        "outputId": "54d2ee02-e0e7-4128-d34b-4a9834758828"
      },
      "outputs": [
        {
          "name": "stdout",
          "output_type": "stream",
          "text": [
            "Sorted colors: [0, 0, 1, 1, 2, 2]\n"
          ]
        }
      ],
      "source": [
        "def sortColors(nums):\n",
        "    low, mid, high = 0, 0, len(nums) - 1\n",
        "\n",
        "    while mid <= high:\n",
        "        if nums[mid] == 0:\n",
        "            nums[low], nums[mid] = nums[mid], nums[low]\n",
        "            low += 1\n",
        "            mid += 1\n",
        "        elif nums[mid] == 1:\n",
        "            mid += 1\n",
        "        else:\n",
        "            nums[mid], nums[high] = nums[high], nums[mid]\n",
        "            high -= 1\n",
        "\n",
        "# Example usage:\n",
        "nums = [2, 0, 2, 1, 1, 0]\n",
        "sortColors(nums)\n",
        "print(\"Sorted colors:\", nums)\n"
      ]
    },
    {
      "cell_type": "markdown",
      "id": "e5d8da0a-e2bc-46a5-9a99-2eddc899a2c1",
      "metadata": {
        "id": "e5d8da0a-e2bc-46a5-9a99-2eddc899a2c1"
      },
      "source": [
        "Problem 23: Find the kth largest element in an unsorted array.\n",
        "\n",
        "Input: nums = [3, 2, 1, 5, 6, 4], k = 2\n",
        "Output: 5"
      ]
    },
    {
      "cell_type": "code",
      "execution_count": null,
      "id": "bdf8b729-bbbd-4e7c-a555-864353c12add",
      "metadata": {
        "id": "bdf8b729-bbbd-4e7c-a555-864353c12add",
        "outputId": "5615ec92-50ec-42b6-f11b-8da64b545b00"
      },
      "outputs": [
        {
          "name": "stdout",
          "output_type": "stream",
          "text": [
            "The 2th largest element is: 5\n"
          ]
        }
      ],
      "source": [
        "import heapq\n",
        "\n",
        "def findKthLargest(nums, k):\n",
        "    heap = nums[:k]\n",
        "    heapq.heapify(heap)  # Convert the first k elements into a min-heap\n",
        "\n",
        "    for num in nums[k:]:\n",
        "        if num > heap[0]:\n",
        "            heapq.heappop(heap)\n",
        "            heapq.heappush(heap, num)\n",
        "\n",
        "    return heap[0]\n",
        "\n",
        "# Example usage:\n",
        "nums = [3, 2, 1, 5, 6, 4]\n",
        "k = 2\n",
        "result = findKthLargest(nums, k)\n",
        "print(f\"The {k}th largest element is: {result}\")\n"
      ]
    },
    {
      "cell_type": "markdown",
      "id": "99e9c5fe-3384-4d74-aa0b-c1c20a22b127",
      "metadata": {
        "id": "99e9c5fe-3384-4d74-aa0b-c1c20a22b127"
      },
      "source": [
        "Problem 24: Given an unsorted array, reorder it in-place such that nums[0] <= nums[1] >= nums[2] <=\n",
        "nums[3]...\n",
        "\n",
        "Input: nums = [3, 5, 2, 1, 6, 4]\n",
        "Output: [3, 5, 1, 6, 2, 4]"
      ]
    },
    {
      "cell_type": "code",
      "execution_count": null,
      "id": "f4db77fd-3898-4fac-9ec3-7cb9b51e033b",
      "metadata": {
        "id": "f4db77fd-3898-4fac-9ec3-7cb9b51e033b",
        "outputId": "3b35af4d-34d8-44d2-b435-86c44dd5cba0"
      },
      "outputs": [
        {
          "name": "stdout",
          "output_type": "stream",
          "text": [
            "Wiggle Sorted Array: [3, 5, 1, 6, 2, 4]\n"
          ]
        }
      ],
      "source": [
        "def wiggleSort(nums):\n",
        "    for i in range(len(nums) - 1):\n",
        "        # For even indices, check if the element is greater than the next one\n",
        "        if i % 2 == 0 and nums[i] > nums[i + 1]:\n",
        "            nums[i], nums[i + 1] = nums[i + 1], nums[i]\n",
        "        # For odd indices, check if the element is less than the next one\n",
        "        elif i % 2 == 1 and nums[i] < nums[i + 1]:\n",
        "            nums[i], nums[i + 1] = nums[i + 1], nums[i]\n",
        "\n",
        "# Example usage:\n",
        "nums = [3, 5, 2, 1, 6, 4]\n",
        "wiggleSort(nums)\n",
        "print(\"Wiggle Sorted Array:\", nums)\n"
      ]
    },
    {
      "cell_type": "markdown",
      "id": "8c30ed63-41a0-4d50-bb70-183ccc99f515",
      "metadata": {
        "id": "8c30ed63-41a0-4d50-bb70-183ccc99f515"
      },
      "source": [
        "Problem 25: Given an array of integers, calculate the sum of all its elements.\n",
        "\n",
        "Input: [1, 2, 3, 4, 5]\n",
        "Output: 15"
      ]
    },
    {
      "cell_type": "code",
      "execution_count": null,
      "id": "a06b7987-4f17-4ac2-85ea-899b1b127c0f",
      "metadata": {
        "id": "a06b7987-4f17-4ac2-85ea-899b1b127c0f",
        "outputId": "8518442b-db0a-49d2-facd-9460b5ea8b86"
      },
      "outputs": [
        {
          "name": "stdout",
          "output_type": "stream",
          "text": [
            "Sum of the elements: 15\n"
          ]
        }
      ],
      "source": [
        "def calculate_sum(arr):\n",
        "    return sum(arr)\n",
        "\n",
        "# Example usage:\n",
        "input_array = [1, 2, 3, 4, 5]\n",
        "result = calculate_sum(input_array)\n",
        "print(\"Sum of the elements:\", result)\n"
      ]
    },
    {
      "cell_type": "markdown",
      "id": "d034c388-cb48-4300-a47d-1c70852244b1",
      "metadata": {
        "id": "d034c388-cb48-4300-a47d-1c70852244b1"
      },
      "source": [
        "Problem 26: Find the maximum element in an array of integers.\n",
        "\n",
        "Input: [3, 7, 2, 9, 4, 1]\n",
        "Output: 9"
      ]
    },
    {
      "cell_type": "code",
      "execution_count": null,
      "id": "c2696dc3-9467-45a1-a6c2-b343da3f7cb7",
      "metadata": {
        "id": "c2696dc3-9467-45a1-a6c2-b343da3f7cb7",
        "outputId": "702eb02c-c566-4f91-9983-b8e1f76ad16d"
      },
      "outputs": [
        {
          "name": "stdout",
          "output_type": "stream",
          "text": [
            "Maximum element: 9\n"
          ]
        }
      ],
      "source": [
        "def find_maximum(arr):\n",
        "    return max(arr)\n",
        "\n",
        "# Example usage:\n",
        "input_array = [3, 7, 2, 9, 4, 1]\n",
        "result = find_maximum(input_array)\n",
        "print(\"Maximum element:\", result)\n"
      ]
    },
    {
      "cell_type": "markdown",
      "id": "4151afd4-45da-4c28-8dac-243c2c8594eb",
      "metadata": {
        "id": "4151afd4-45da-4c28-8dac-243c2c8594eb"
      },
      "source": [
        "Problem 27: Implement linear search to find the index of a target element in an array.\n",
        "\n",
        "Input: [5, 3, 8, 2, 7, 4], target = 8\n",
        "Output: 2"
      ]
    },
    {
      "cell_type": "code",
      "execution_count": null,
      "id": "1e41a2a9-fb17-4da1-aa81-38c7b9d2267f",
      "metadata": {
        "id": "1e41a2a9-fb17-4da1-aa81-38c7b9d2267f",
        "outputId": "50971c45-19fc-43ac-f6fd-7ceeb1091b03"
      },
      "outputs": [
        {
          "name": "stdout",
          "output_type": "stream",
          "text": [
            "Index of 8: 2\n"
          ]
        }
      ],
      "source": [
        "def linear_search(arr, target):\n",
        "    for i, element in enumerate(arr):\n",
        "        if element == target:\n",
        "            return i\n",
        "    return -1  # Return -1 if the target element is not found\n",
        "\n",
        "# Example usage:\n",
        "input_array = [5, 3, 8, 2, 7, 4]\n",
        "target_element = 8\n",
        "result = linear_search(input_array, target_element)\n",
        "\n",
        "if result != -1:\n",
        "    print(f\"Index of {target_element}: {result}\")\n",
        "else:\n",
        "    print(f\"{target_element} not found in the array.\")\n"
      ]
    },
    {
      "cell_type": "markdown",
      "id": "2526cc2c-8f7b-4b2e-9126-0b9cd52ed218",
      "metadata": {
        "id": "2526cc2c-8f7b-4b2e-9126-0b9cd52ed218"
      },
      "source": [
        "Problem 28 Calculate the factorial of a given number.\n",
        "\n",
        "Input: 5\n",
        "Output: 120 (as 5! = 5 * 4 * 3 * 2 * 1 = 120)"
      ]
    },
    {
      "cell_type": "code",
      "execution_count": null,
      "id": "15540c22-e381-4ac0-93dc-8d970e704906",
      "metadata": {
        "id": "15540c22-e381-4ac0-93dc-8d970e704906",
        "outputId": "a205103d-bb7a-47d6-f4c3-6c9d68f5b8dc"
      },
      "outputs": [
        {
          "name": "stdout",
          "output_type": "stream",
          "text": [
            "The factorial of 5 is: 120\n"
          ]
        }
      ],
      "source": [
        "def factorial(n):\n",
        "    if n == 0 or n == 1:\n",
        "        return 1\n",
        "    else:\n",
        "        return n * factorial(n - 1)\n",
        "\n",
        "# Example usage:\n",
        "input_number = 5\n",
        "result = factorial(input_number)\n",
        "\n",
        "print(f\"The factorial of {input_number} is: {result}\")\n"
      ]
    },
    {
      "cell_type": "markdown",
      "id": "278a5c7c-7357-49dd-a859-f27b6cf2f981",
      "metadata": {
        "id": "278a5c7c-7357-49dd-a859-f27b6cf2f981"
      },
      "source": [
        "Problem 29: Check if a given number is a prime number.\n",
        "\n",
        "Input: 7\n",
        "Output: True"
      ]
    },
    {
      "cell_type": "code",
      "execution_count": null,
      "id": "72705268-e3e1-4d1d-88b5-174a3d9958b9",
      "metadata": {
        "id": "72705268-e3e1-4d1d-88b5-174a3d9958b9",
        "outputId": "1f21ee09-9dc1-40b1-c618-e4902f974846"
      },
      "outputs": [
        {
          "name": "stdout",
          "output_type": "stream",
          "text": [
            "7 is a prime number: True\n"
          ]
        }
      ],
      "source": [
        "def is_prime(number):\n",
        "    if number <= 1:\n",
        "        return False\n",
        "    elif number == 2:\n",
        "        return True\n",
        "    elif number % 2 == 0:\n",
        "        return False\n",
        "    else:\n",
        "        # Check for factors from 3 up to the square root of the number\n",
        "        for i in range(3, int(number**0.5) + 1, 2):\n",
        "            if number % i == 0:\n",
        "                return False\n",
        "        return True\n",
        "\n",
        "# Example usage:\n",
        "input_number = 7\n",
        "result = is_prime(input_number)\n",
        "\n",
        "print(f\"{input_number} is a prime number: {result}\")\n"
      ]
    },
    {
      "cell_type": "markdown",
      "id": "a0a2c347-ef79-47d6-b1e2-142e63dbc951",
      "metadata": {
        "id": "a0a2c347-ef79-47d6-b1e2-142e63dbc951"
      },
      "source": [
        "Problem 30: Generate the Fibonacci series up to a given number n.\n",
        "\n",
        "Input: 8\n",
        "Output: [0, 1, 1, 2, 3, 5, 8, 13]"
      ]
    },
    {
      "cell_type": "code",
      "execution_count": null,
      "id": "623a8036-3db3-4beb-9914-8e93afe62a7c",
      "metadata": {
        "id": "623a8036-3db3-4beb-9914-8e93afe62a7c",
        "outputId": "7a303e5a-89fb-4f83-9014-73beb73f2f96"
      },
      "outputs": [
        {
          "name": "stdout",
          "output_type": "stream",
          "text": [
            "Fibonacci series up to 8: [0, 1, 1, 2, 3, 5, 8]\n"
          ]
        }
      ],
      "source": [
        "def generate_fibonacci(n):\n",
        "    fibonacci_series = [0, 1]\n",
        "    while fibonacci_series[-1] + fibonacci_series[-2] <= n:\n",
        "        fibonacci_series.append(fibonacci_series[-1] + fibonacci_series[-2])\n",
        "    return fibonacci_series\n",
        "\n",
        "# Example usage:\n",
        "input_number = 8\n",
        "result = generate_fibonacci(input_number)\n",
        "\n",
        "print(f\"Fibonacci series up to {input_number}: {result}\")\n"
      ]
    },
    {
      "cell_type": "markdown",
      "id": "a67ed185-51bf-4f60-a634-b8f4861f3897",
      "metadata": {
        "id": "a67ed185-51bf-4f60-a634-b8f4861f3897"
      },
      "source": [
        "Problem 31: Calculate the power of a number using recursion.\n",
        "\n",
        "Input: base = 3, exponent = 4\n",
        "Output: 81 (as 3^4 = 3 * 3 * 3 * 3 = 81)"
      ]
    },
    {
      "cell_type": "code",
      "execution_count": null,
      "id": "ec7c45c5-5758-477e-9f00-485ef218c428",
      "metadata": {
        "id": "ec7c45c5-5758-477e-9f00-485ef218c428",
        "outputId": "f29a27b3-ccb2-4bbd-87c3-2a582d2c697c"
      },
      "outputs": [
        {
          "name": "stdout",
          "output_type": "stream",
          "text": [
            "3^4 = 81\n"
          ]
        }
      ],
      "source": [
        "def power(base, exponent):\n",
        "    if exponent == 0:\n",
        "        return 1\n",
        "    else:\n",
        "        return base * power(base, exponent - 1)\n",
        "\n",
        "# Example usage:\n",
        "base_number = 3\n",
        "exponent_value = 4\n",
        "result = power(base_number, exponent_value)\n",
        "\n",
        "print(f\"{base_number}^{exponent_value} = {result}\")\n"
      ]
    },
    {
      "cell_type": "markdown",
      "id": "a8483156-e4b3-43b4-aeab-a70eab95af32",
      "metadata": {
        "id": "a8483156-e4b3-43b4-aeab-a70eab95af32"
      },
      "source": [
        "Problem 32: Reverse a given string.\n",
        "\n",
        "Input: \"hello\"\n",
        "Output: \"olleh\""
      ]
    },
    {
      "cell_type": "code",
      "execution_count": null,
      "id": "7a6fdcf2-7c55-466b-b688-eabb6d59f129",
      "metadata": {
        "id": "7a6fdcf2-7c55-466b-b688-eabb6d59f129",
        "outputId": "e02adc27-12c0-4476-9d09-21774234a230"
      },
      "outputs": [
        {
          "name": "stdout",
          "output_type": "stream",
          "text": [
            "Original string: hello\n",
            "Reversed string: olleh\n"
          ]
        }
      ],
      "source": [
        "def reverse_string(input_string):\n",
        "    return input_string[::-1]\n",
        "\n",
        "# Example usage:\n",
        "input_str = \"hello\"\n",
        "reversed_str = reverse_string(input_str)\n",
        "\n",
        "print(f\"Original string: {input_str}\")\n",
        "print(f\"Reversed string: {reversed_str}\")\n"
      ]
    },
    {
      "cell_type": "code",
      "execution_count": null,
      "id": "3094eccd-1ad1-4be2-a4c5-da764977f6e2",
      "metadata": {
        "id": "3094eccd-1ad1-4be2-a4c5-da764977f6e2"
      },
      "outputs": [],
      "source": []
    }
  ],
  "metadata": {
    "kernelspec": {
      "display_name": "Python 3 (ipykernel)",
      "language": "python",
      "name": "python3"
    },
    "language_info": {
      "codemirror_mode": {
        "name": "ipython",
        "version": 3
      },
      "file_extension": ".py",
      "mimetype": "text/x-python",
      "name": "python",
      "nbconvert_exporter": "python",
      "pygments_lexer": "ipython3",
      "version": "3.10.8"
    },
    "colab": {
      "provenance": []
    }
  },
  "nbformat": 4,
  "nbformat_minor": 5
}