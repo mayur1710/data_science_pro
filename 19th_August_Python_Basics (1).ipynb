{
  "nbformat": 4,
  "nbformat_minor": 0,
  "metadata": {
    "colab": {
      "provenance": []
    },
    "kernelspec": {
      "name": "python3",
      "display_name": "Python 3"
    },
    "language_info": {
      "name": "python"
    }
  },
  "cells": [
    {
      "cell_type": "markdown",
      "source": [
        "**1. Declare two variables, x and y, and assign them integer values. Swap the values of these variables without using any temporary variable.**"
      ],
      "metadata": {
        "id": "TZksH4blbcWo"
      }
    },
    {
      "cell_type": "code",
      "execution_count": null,
      "metadata": {
        "colab": {
          "base_uri": "https://localhost:8080/"
        },
        "id": "DgvHa8kwWZc0",
        "outputId": "5cf24689-9933-45ef-a5ea-0d384d3aa2b8"
      },
      "outputs": [
        {
          "output_type": "stream",
          "name": "stdout",
          "text": [
            "Before swapping the value of X is 5 and y is 10\n",
            "After swapping the Value of x is 10 and y is 5\n"
          ]
        }
      ],
      "source": [
        "# Declaring two variables with integer values\n",
        "x=5\n",
        "y=10\n",
        "# printing those values\n",
        "print(f\"Before swapping the value of X is {x} and y is {y}\")\n",
        "# swapping the values of variable\n",
        "x,y=y,x\n",
        "# values after the swapping\n",
        "print(f\"After swapping the Value of x is {x} and y is {y}\")"
      ]
    },
    {
      "cell_type": "code",
      "source": [],
      "metadata": {
        "id": "fI_vXghOWmk9"
      },
      "execution_count": null,
      "outputs": []
    },
    {
      "cell_type": "markdown",
      "source": [
        "x = 5: This line initializes a variable named x with the value 5.\n",
        "\n",
        "y = 10: This line initializes a variable named y with the value 10.\n",
        "\n",
        "then printing the declared value using print(f\"Before swapping the value of X is {x} and y is {y}\")  f-string allows you to embed variables values directly into the string.\n",
        "\n",
        "x, y = y, x: at this line swapping of variables occur\n",
        "\n",
        "print(f\"After swapping the Value of x is {x} and y is {y}\") this print the value of our variable after the swapping\n"
      ],
      "metadata": {
        "id": "g4SRyMVPZRrW"
      }
    },
    {
      "cell_type": "markdown",
      "source": [
        "**2. Create a program that calculates the area of a rectangle. Take the length and width as inputs from the user and store them in variables. Calculate and display the area.**"
      ],
      "metadata": {
        "id": "lE8WgPgDbo1f"
      }
    },
    {
      "cell_type": "code",
      "source": [
        "# taking the values for length and width from the user\n",
        "# declaring the length variable to take input(value) for length  from user\n",
        "length=float(input(\"Enter the value for length: \"))\n",
        "\n",
        "#declaring the width variable to take input from user\n",
        "width=float(input(\"Enter the value for width: \"))#declaring the width variable to take input from user\n",
        "\n",
        "# we know that area of rectangle is length * width\n",
        "area = length * width\n",
        "# printing area of rectangle\n",
        "print(\"Area of rectangle is :\",area)"
      ],
      "metadata": {
        "colab": {
          "base_uri": "https://localhost:8080/"
        },
        "id": "gLkYUdLTbWpw",
        "outputId": "d4e89364-b281-4bc8-fb87-a4debbf04f91"
      },
      "execution_count": null,
      "outputs": [
        {
          "output_type": "stream",
          "name": "stdout",
          "text": [
            "Enter the value for length: 12\n",
            "Enter the value for width: 15\n",
            "Area of rectangle is : 180.0\n"
          ]
        }
      ]
    },
    {
      "cell_type": "markdown",
      "source": [
        "length=float(input(\"Enter the value for length: \"))\n",
        "\n",
        " declared the length variable for storing the value of length which take input as string from user and convert it into the float by typecasting which accept only numerical and floating value\n",
        "\n",
        "width=float(input(\"Enter the value for width: \"))\n",
        "\n",
        " declared the width variable for storing the value of width\n",
        "\n",
        " caluculating area of rectangle by using formula\n",
        "area = length * width\n",
        "print(\"Area of rectangle is :\",area)\n",
        "and last the print the area of rectangle"
      ],
      "metadata": {
        "id": "YtbspuwjdXJC"
      }
    },
    {
      "cell_type": "markdown",
      "source": [
        "**3. Write a Python program that converts temperatures from Celsius to Fahrenheit. Take the temperature in Celsius as input, store it in a variable, convert it to Fahrenheit, and display the result.**"
      ],
      "metadata": {
        "id": "X7REmyyMfA6W"
      }
    },
    {
      "cell_type": "code",
      "source": [
        "# taking input from user in celsius\n",
        "celsius_temp = float(input(\"Enter temperature in Celsius: \"))\n",
        "\n",
        "# Step 2: Convert Celsius to Fahrenheit using the formula: (C * 9/5) + 32\n",
        "fahrenheit_temp = (celsius_temp * 9/5) + 32\n",
        "\n",
        "# Step 3: displaying result in Fahrenhit\n",
        "print(f\"{celsius_temp} Celsius which is equal to {fahrenheit_temp} Fahrenheit\")"
      ],
      "metadata": {
        "colab": {
          "base_uri": "https://localhost:8080/"
        },
        "id": "_WJFExfNdD6a",
        "outputId": "02cbd71d-3ad8-41be-ba86-03430320b4bc"
      },
      "execution_count": null,
      "outputs": [
        {
          "output_type": "stream",
          "name": "stdout",
          "text": [
            "Enter temperature in Celsius: 39\n",
            "39.0 Celsius which is equal to 102.2 Fahrenheit\n"
          ]
        }
      ]
    },
    {
      "cell_type": "markdown",
      "source": [
        "celsius_temp = float(input(\"Enter temperature in Celsius: \"))\n",
        "\n",
        "declaring the variable to store input value taken from user in celsius\n",
        "\n",
        "Convert Celsius to Fahrenheit using the formula: (C * 9/5) + 32\n",
        "\n",
        "to convert the value celsius to fahrenhit formula is assigned to the variable\n",
        "fahrenheit_temp\n",
        "\n",
        "print(f\"{celsius_temp} Celsius which is equal to {fahrenheit_temp} Fahrenheit\")\n",
        " where we display the result in fahrenhit\n",
        "\n",
        " f-string allows you to embed variables values directly into the string."
      ],
      "metadata": {
        "id": "NdUH4W33gQ1l"
      }
    },
    {
      "cell_type": "markdown",
      "source": [
        "# TOPIC: String Based Questions"
      ],
      "metadata": {
        "id": "ooz55gMihZyF"
      }
    },
    {
      "cell_type": "markdown",
      "source": [
        "1. Write a Python program that takes a string as input and prints the length of\n",
        "the string."
      ],
      "metadata": {
        "id": "wwj_0gjXhgiQ"
      }
    },
    {
      "cell_type": "code",
      "source": [
        "# Step 1: Get input from the user\n",
        "input_string = input(\"Enter a string: \")\n",
        "\n",
        "# Step 2: Calculate the length of string\n",
        "string_length = len(input_string)# len function is used\n",
        "\n",
        "# Step 3: Print the length of the string\n",
        "print(\"The length of the input string is:\", string_length)"
      ],
      "metadata": {
        "colab": {
          "base_uri": "https://localhost:8080/"
        },
        "id": "Co5GnGtIhQyt",
        "outputId": "f15accbd-f913-4b09-fa67-334444e36f38"
      },
      "execution_count": null,
      "outputs": [
        {
          "output_type": "stream",
          "name": "stdout",
          "text": [
            "Enter a string: afdcsa\n",
            "The length of the input string is: 6\n"
          ]
        }
      ]
    },
    {
      "cell_type": "markdown",
      "source": [
        "input_string = input(\"Enter a string: \") : used to take input from user as a string\n",
        "\n",
        "variable input_string.\n",
        "string_length = len(input_string) : This calculates the length of the input_string\n",
        "to calculate the length of strin len function is used\n",
        "\n",
        "The length value is stored in the variable string_length.\n",
        "\n",
        "print(\"The length of the input string is:\", string_length) : this will display the length of the given string\n",
        "\n"
      ],
      "metadata": {
        "id": "ujhAdw-Ti3KF"
      }
    },
    {
      "cell_type": "code",
      "source": [],
      "metadata": {
        "id": "_3H7iqHBjiYF"
      },
      "execution_count": null,
      "outputs": []
    },
    {
      "cell_type": "markdown",
      "source": [
        "Q2.Create a program that takes a sentence from the user and counts the number of vowels a, e, i, o, u in the string**\n",
        "\n",
        "\n"
      ],
      "metadata": {
        "id": "FynkN7a-kV1B"
      }
    },
    {
      "cell_type": "code",
      "source": [
        "#Declaring the variable to take input from the user\n",
        "sentence = input(\"Enter a sentence: \")\n",
        "\n",
        "#  Initialize to zero\n",
        "no_vowels = 0\n",
        "\n",
        "#  Iterate through each character in the sentence using for loop\n",
        "for vow in sentence:\n",
        "    #  Convert the input characters to lowercase to handle both uppercase and lowercase vowels\n",
        "    vow_lower =vow.lower()\n",
        "\n",
        "    # Check if it is a vowel\n",
        "    if vow_lower in \"aeiou\":\n",
        "        # If it is a vowel increment no of vowels\n",
        "        no_vowels += 1 #increment\n",
        "\n",
        "# Display the result\n",
        "print(\"Number of vowels:\", no_vowels)"
      ],
      "metadata": {
        "colab": {
          "base_uri": "https://localhost:8080/"
        },
        "id": "djY_Fzt5k-Q6",
        "outputId": "9eb792a0-3d0e-4d3c-d3d5-72623db871c1"
      },
      "execution_count": 26,
      "outputs": [
        {
          "output_type": "stream",
          "name": "stdout",
          "text": [
            "Enter a sentence: aeiou\n",
            "Number of vowels: 5\n"
          ]
        }
      ]
    },
    {
      "cell_type": "markdown",
      "source": [
        "- sentence = input(\"Enter a sentence: \") declared the variable named as sentence to take sentence from user\n",
        "\n",
        "- no_vowels = 0\n",
        "\n",
        "- firstly initialize the number of vowels to the zero\n",
        "\n",
        "- char_lower = char.lower()\n",
        " converting the character into the lowercase\n",
        "\n",
        "  - if vow_lower in \"aeiou\":\n",
        "  \n",
        "  - If the character is a vowel, increment the vowel_count variable\n",
        "\n",
        " -  no_vowels += 1\n",
        "   finally we displayed the total number of vowels in the given sentence"
      ],
      "metadata": {
        "id": "J-svDFgCmQ8d"
      }
    },
    {
      "cell_type": "markdown",
      "source": [
        "**Q3 Given a string, reverse the order of characters using string slicing and print the reversed string.**\n",
        "\n",
        "\n"
      ],
      "metadata": {
        "id": "hRLXQIYxmNaX"
      }
    },
    {
      "cell_type": "code",
      "source": [
        "#take input from user as string and stored itinto variable\n",
        "input_string=input(\"Enter string: \")\n",
        "# with the help of slicing we can reverse the string\n",
        "reversed_string=input_string[::-1]\n",
        "#print the reversed string\n",
        "print(\"String after reversed is :\",reversed_string)"
      ],
      "metadata": {
        "colab": {
          "base_uri": "https://localhost:8080/"
        },
        "id": "2UXUyz4Gn-fr",
        "outputId": "880c6b14-0e79-4f5d-fa46-421c556bc09e"
      },
      "execution_count": 46,
      "outputs": [
        {
          "output_type": "stream",
          "name": "stdout",
          "text": [
            "Enter string: My name is Mayuresh\n",
            "String after reversed is : hseruyaM si eman yM\n"
          ]
        }
      ]
    },
    {
      "cell_type": "markdown",
      "source": [
        "- used input() function to take input from user\n",
        "\n",
        " To reverse the string using string slicing, we use the slicing [start:stop:step].\n",
        " to reverse string we simply follow [: :-1]\n",
        "- We print the reversed string using the print() function. The text \"Reversed"
      ],
      "metadata": {
        "id": "9Ki_nQUkqg4C"
      }
    },
    {
      "cell_type": "markdown",
      "source": [
        "**4. Write a program that takes a string as input and checks if it is a palindrome\n",
        "(reads the same forwards and backwards).**"
      ],
      "metadata": {
        "id": "nd-c1sM6rSH9"
      }
    },
    {
      "cell_type": "code",
      "source": [
        "# taking input from user\n",
        "Input_string=input(\"Enter a string:\")\n",
        "#remove spaces from user inputed strin and convert it into lower\n",
        "corrected_string=Input_string.replace(\"\",\"\").lower()\n",
        "# reverse the corrected string using slicing\n",
        "reversed_string=corrected_string[::-1]\n",
        "#check if corrected string and reversed string is same or not\n",
        "if corrected_string==reversed_string:\n",
        "  print(\"It is palindrome\")\n",
        "else:\n",
        "  print(\"It is not palindrome\")"
      ],
      "metadata": {
        "colab": {
          "base_uri": "https://localhost:8080/"
        },
        "id": "yftL9MY-p-jO",
        "outputId": "acdef46c-17a5-4a06-ea5a-edba0be26446"
      },
      "execution_count": 37,
      "outputs": [
        {
          "output_type": "stream",
          "name": "stdout",
          "text": [
            "Enter a string:oo\n",
            "It is palindrome\n"
          ]
        }
      ]
    },
    {
      "cell_type": "markdown",
      "source": [
        "- We  taking user input and store it in the variable input_string.\n",
        "- to remove the space from given string we used Input_string.replace(\"\",\"\")\n",
        "- and to convert the input string to lower case we used lower() function\n",
        "- We compare the corrected_string with  reversed string using if statement.\n",
        "- and given a condition if they both are same then it is palindrome else it not a palindrome"
      ],
      "metadata": {
        "id": "oVxx8bv9uOKe"
      }
    },
    {
      "cell_type": "markdown",
      "source": [
        "**Q.5 Create a program that takes a string as input and removes all the spaces from\n",
        "it. Print the modified string without spaces**\n"
      ],
      "metadata": {
        "id": "zCI7jpI_vpqj"
      }
    },
    {
      "cell_type": "code",
      "source": [
        "#  Take input from the user\n",
        "input_string = input(\"Enter a string: \")\n",
        "\n",
        "# Step 2: Initialize an empty string to store the new string without spaces\n",
        "modified_string = \"\"\n",
        "\n",
        "# Iterate through  character in the input string using for loop\n",
        "for char in input_string:\n",
        "    # Step 4: Check if the character is not a space\n",
        "      if char != \" \":\n",
        "        # Step 5: If not a space, add the character to the modified string\n",
        "          modified_string += char\n",
        "print(\"Modified string without spaces: \",modified_string)"
      ],
      "metadata": {
        "colab": {
          "base_uri": "https://localhost:8080/"
        },
        "id": "et7U3OqYtnXp",
        "outputId": "e9f899b2-ae43-4171-d440-5a621f5b55a6"
      },
      "execution_count": 45,
      "outputs": [
        {
          "output_type": "stream",
          "name": "stdout",
          "text": [
            "Enter a string: HII MAYUR\n",
            "Modified string without spaces:  HIIMAYUR\n"
          ]
        }
      ]
    },
    {
      "cell_type": "markdown",
      "source": [
        "- firstly taking input from user by using input() function\n",
        "- to store the string without the spaces we declare the variable name as modified_string\n",
        "-  Iterate through every single  character in the input string we used for loop\n",
        "for char in input_string:\n",
        "- to check whether there is any space in input string we check a condition  if char != \" \":\n",
        "- if there is no any space then we added string to modified string by using modified_string += char\n",
        "- finally we displayed it with the help of print function"
      ],
      "metadata": {
        "id": "ne4y6C8ox-Oq"
      }
    },
    {
      "cell_type": "code",
      "source": [],
      "metadata": {
        "id": "13bmCbvLzVyi"
      },
      "execution_count": null,
      "outputs": []
    }
  ]
}