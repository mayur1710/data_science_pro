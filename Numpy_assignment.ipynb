{
  "cells": [
    {
      "cell_type": "markdown",
      "id": "fc465742-28ce-4a4c-b594-a9227f67f602",
      "metadata": {
        "id": "fc465742-28ce-4a4c-b594-a9227f67f602"
      },
      "source": [
        "1. What is a Python library? Why do we use Python libraries?\n"
      ]
    },
    {
      "cell_type": "markdown",
      "id": "e28d9566-483a-49ef-a933-bf69dd774d93",
      "metadata": {
        "id": "e28d9566-483a-49ef-a933-bf69dd774d93"
      },
      "source": [
        "A Python library is a collection of modules and functions that extend the capabilities of the Python programming language. Libraries provide reusable code and pre-built functions that can be used to perform specific tasks or solve particular problems. These libraries are designed to simplify the development process by offering a set of functions and tools that programmers can leverage rather than implementing everything from scratch.\n",
        "\n",
        "Here are some key reasons why we use Python libraries:\n",
        "\n",
        "1. **Code Reusability:** Libraries encapsulate common functionality, allowing developers to reuse code that has already been written and tested. This promotes a modular and efficient coding style.\n",
        "\n",
        "2. **Time Efficiency:** By using pre-built functions and modules from libraries, developers can save time and effort. They don't need to reinvent the wheel for common tasks and can focus on the specific requirements of their projects.\n",
        "\n",
        "3. **Community Contributions:** Python has a large and active community that contributes to the development of various libraries. These community-driven libraries cover a wide range of domains, from web development to data science, machine learning, and more.\n",
        "\n",
        "4. **Increased Productivity:** Libraries provide high-level abstractions and tools that simplify complex operations. This leads to increased productivity as developers can accomplish tasks with fewer lines of code.\n",
        "\n",
        "5. **Quality and Reliability:** Established libraries are often well-tested, and their code has been reviewed by a community of developers. This helps ensure the reliability and quality of the code, reducing the likelihood of bugs.\n",
        "\n",
        "6. **Specialized Functionality:** Many Python libraries are specialized for specific domains, such as NumPy for numerical computing, pandas for data manipulation, Flask for web development, TensorFlow for machine learning, and more. These libraries provide specialized tools tailored to the needs of different applications.\n",
        "\n",
        "7. **Compatibility:** Libraries are designed to work seamlessly with the Python programming language. They adhere to Python standards, making it easy to integrate and use them in Python projects.\n",
        "\n"
      ]
    },
    {
      "cell_type": "markdown",
      "id": "7ac74549-70c6-463b-b386-4a33d215f73a",
      "metadata": {
        "id": "7ac74549-70c6-463b-b386-4a33d215f73a"
      },
      "source": [
        "2. What is the difference between Numpy array and List?"
      ]
    },
    {
      "cell_type": "markdown",
      "id": "8e044e48-34e5-4590-b4ae-21e8de526cbc",
      "metadata": {
        "id": "8e044e48-34e5-4590-b4ae-21e8de526cbc"
      },
      "source": [
        "NumPy arrays and Python lists are both used to store and manipulate collections of data, but they have several key differences:\n",
        "\n",
        "1. **Data Type:**\n",
        "   - **Numpy Array:** All elements in a NumPy array must have the same data type. This allows for more efficient storage and operations on the array.\n",
        "   - **List:** Python lists can store elements of different data types.\n",
        "\n",
        "2. **Performance:**\n",
        "   - **Numpy Array:** NumPy arrays are more memory-efficient and provide better performance for mathematical operations, especially when dealing with large datasets. NumPy is implemented in C and optimized for numerical computations.\n",
        "   - **List:** Lists are more flexible but may not perform as well as NumPy arrays for numerical operations.\n",
        "\n",
        "3. **Size Dynamism:**\n",
        "   - **Numpy Array:** The size of a NumPy array is fixed upon creation. If you need to change the size, a new array must be created.\n",
        "   - **List:** Lists in Python can dynamically grow or shrink in size.\n",
        "\n",
        "4. **Functionality:**\n",
        "   - **Numpy Array:** NumPy provides a wide range of mathematical operations and functions that can be applied directly to arrays. This includes operations like element-wise addition, multiplication, and functions such as mean, sum, etc.\n",
        "   - **List:** Lists offer more general-purpose functionality but lack the extensive mathematical operations available in NumPy.\n",
        "\n",
        "5. **Syntax and Usage:**\n",
        "   - **Numpy Array:** NumPy arrays are created using the `numpy.array()` function. Operations on arrays are typically performed using vectorized syntax, taking advantage of NumPy's built-in functions.\n",
        "   - **List:** Lists are created using square brackets `[]`. Operations on lists often involve iteration over elements using loops.\n",
        "\n",
        "6. **Broadcasting:**\n",
        "   - **Numpy Array:** NumPy supports broadcasting, which allows operations between arrays of different shapes and sizes. It automatically adjusts the shape of smaller arrays to perform element-wise operations.\n",
        "   - **List:** Lists do not have built-in broadcasting, and operations usually require explicit looping over elements.\n",
        "\n",
        "7. **Usage:**\n",
        "   - **Numpy Array:** Ideal for numerical computations, scientific computing, and tasks involving large datasets.\n",
        "   - **List:** Used for general-purpose tasks and when flexibility in data types or dynamic resizing is required.\n",
        "\n"
      ]
    },
    {
      "cell_type": "markdown",
      "id": "c58f69c4-ed5b-4f44-a6b7-5ca1504e1de1",
      "metadata": {
        "id": "c58f69c4-ed5b-4f44-a6b7-5ca1504e1de1"
      },
      "source": [
        "3. Find the shape, size and imension of the following array?\n",
        "[[1, 2, 3, 4]\n",
        "[5, 6, 7, 8],\n",
        "[9, 10, 11, 12]]"
      ]
    },
    {
      "cell_type": "code",
      "execution_count": null,
      "id": "5fc85f26-9bf2-4955-a60a-3b9d393de9fc",
      "metadata": {
        "id": "5fc85f26-9bf2-4955-a60a-3b9d393de9fc",
        "outputId": "55be59bf-6f77-4f25-ed54-de3e46b69fd8"
      },
      "outputs": [
        {
          "name": "stdout",
          "output_type": "stream",
          "text": [
            "Shape: (3, 4)\n",
            "Size: 12\n",
            "Dimensions: 2\n"
          ]
        }
      ],
      "source": [
        "import numpy as np\n",
        "\n",
        "arr = np.array([[1, 2, 3, 4], [5, 6, 7, 8], [9, 10, 11, 12]])\n",
        "\n",
        "# Shape\n",
        "shape = arr.shape\n",
        "\n",
        "# Size\n",
        "size = arr.size\n",
        "\n",
        "# Dimensions\n",
        "dimensions = arr.ndim\n",
        "\n",
        "print(\"Shape:\", shape)\n",
        "print(\"Size:\", size)\n",
        "print(\"Dimensions:\", dimensions)\n"
      ]
    },
    {
      "cell_type": "markdown",
      "id": "5d33cdd4-0aa5-414d-814e-af4be708c582",
      "metadata": {
        "id": "5d33cdd4-0aa5-414d-814e-af4be708c582"
      },
      "source": [
        "4. Write python code to access the first row of the following array?\n",
        "[[1, 2, 3, 4]\n",
        "[5, 6, 7, 8],\n",
        "[9, 10, 11, 12]]"
      ]
    },
    {
      "cell_type": "code",
      "execution_count": null,
      "id": "68d9fcfb-fbc0-44dd-88ee-70cfd7a16f0f",
      "metadata": {
        "id": "68d9fcfb-fbc0-44dd-88ee-70cfd7a16f0f",
        "outputId": "e8bfada4-5be5-4985-dd05-a1c963f1e873"
      },
      "outputs": [
        {
          "name": "stdout",
          "output_type": "stream",
          "text": [
            "First Row: [1 2 3 4]\n"
          ]
        }
      ],
      "source": [
        "import numpy as np\n",
        "\n",
        "arr = np.array([[1, 2, 3, 4], [5, 6, 7, 8], [9, 10, 11, 12]])\n",
        "\n",
        "first_row = arr[0]\n",
        "\n",
        "print(\"First Row:\", first_row)\n"
      ]
    },
    {
      "cell_type": "markdown",
      "id": "3771bcc8-32cc-4a79-9dbf-c8fb15174c59",
      "metadata": {
        "id": "3771bcc8-32cc-4a79-9dbf-c8fb15174c59"
      },
      "source": [
        "5. How do you access the element at the third row and fourth column from the given numpy array?\n",
        "[[1, 2, 3, 4]\n",
        "[5, 6, 7, 8],\n",
        "[9, 10, 11, 12]]"
      ]
    },
    {
      "cell_type": "code",
      "execution_count": null,
      "id": "a6d02188-24f0-45f3-b69a-8ea05c47cb9f",
      "metadata": {
        "id": "a6d02188-24f0-45f3-b69a-8ea05c47cb9f",
        "outputId": "e5a3767c-f8df-4352-f4e7-a18b7702a457"
      },
      "outputs": [
        {
          "name": "stdout",
          "output_type": "stream",
          "text": [
            "Element at the third row and fourth column: 12\n"
          ]
        }
      ],
      "source": [
        "import numpy as np\n",
        "\n",
        "arr = np.array([[1, 2, 3, 4], [5, 6, 7, 8], [9, 10, 11, 12]])\n",
        "\n",
        "element = arr[2, 3]\n",
        "\n",
        "print(\"Element at the third row and fourth column:\", element)\n"
      ]
    },
    {
      "cell_type": "markdown",
      "id": "b2c081c8-ef5a-40e6-a1a0-a5118b8e3817",
      "metadata": {
        "id": "b2c081c8-ef5a-40e6-a1a0-a5118b8e3817"
      },
      "source": [
        "6. Write co^e to extract all o^^-in^exe^ elements from the given numpy array?\n",
        "[[1, 2, 3, 4]\n",
        "[5, 6, 7, 8],\n",
        "[9, 10, 11, 12]]"
      ]
    },
    {
      "cell_type": "code",
      "execution_count": null,
      "id": "e305479d-e345-4823-8317-1362ac3bcb48",
      "metadata": {
        "id": "e305479d-e345-4823-8317-1362ac3bcb48",
        "outputId": "beb8be14-327f-4de5-ea70-bcaa6aab951f"
      },
      "outputs": [
        {
          "name": "stdout",
          "output_type": "stream",
          "text": [
            "Odd-indexed elements:\n",
            "[[ 2  4]\n",
            " [ 6  8]\n",
            " [10 12]]\n"
          ]
        }
      ],
      "source": [
        "import numpy as np\n",
        "\n",
        "arr = np.array([[1, 2, 3, 4], [5, 6, 7, 8], [9, 10, 11, 12]])\n",
        "\n",
        "odd_indexed_elements = arr[:, 1::2]\n",
        "\n",
        "print(\"Odd-indexed elements:\")\n",
        "print(odd_indexed_elements)\n"
      ]
    },
    {
      "cell_type": "markdown",
      "id": "80906329-a1c6-4c8c-9fc5-9bbefdc5ef33",
      "metadata": {
        "id": "80906329-a1c6-4c8c-9fc5-9bbefdc5ef33"
      },
      "source": [
        "7. How can you generate a random 3x3 matrix with values between 0 and 1?"
      ]
    },
    {
      "cell_type": "code",
      "execution_count": null,
      "id": "160b2b77-f6ed-4a70-83cc-7def6a4b45f0",
      "metadata": {
        "id": "160b2b77-f6ed-4a70-83cc-7def6a4b45f0",
        "outputId": "03b9db7e-8e6d-41b8-a9b2-8426e322fb62"
      },
      "outputs": [
        {
          "name": "stdout",
          "output_type": "stream",
          "text": [
            "Random 3x3 matrix:\n",
            "[[0.32501981 0.9638235  0.77293528]\n",
            " [0.44861877 0.38309262 0.50961471]\n",
            " [0.49818034 0.41947111 0.76494948]]\n"
          ]
        }
      ],
      "source": [
        "import numpy as np\n",
        "\n",
        "random_matrix = np.random.rand(3, 3)\n",
        "\n",
        "print(\"Random 3x3 matrix:\")\n",
        "print(random_matrix)\n"
      ]
    },
    {
      "cell_type": "markdown",
      "id": "bcc3ad2d-c476-451f-b7eb-d11023bffab0",
      "metadata": {
        "id": "bcc3ad2d-c476-451f-b7eb-d11023bffab0"
      },
      "source": [
        "8. Describe the difference between np.random.rand and np.random.randn?"
      ]
    },
    {
      "cell_type": "markdown",
      "id": "5fa4a894-cf35-4652-a8b7-87c7c6632e77",
      "metadata": {
        "id": "5fa4a894-cf35-4652-a8b7-87c7c6632e77"
      },
      "source": [
        "1.np.random.rand: This function generates random numbers from a uniform distribution over the interval [0, 1). It takes dimensions as arguments and returns an array of random values with those dimensions.\n",
        "\n",
        "Example:"
      ]
    },
    {
      "cell_type": "code",
      "execution_count": null,
      "id": "4ae0469d-0ce9-4f56-b585-f805af8e6715",
      "metadata": {
        "id": "4ae0469d-0ce9-4f56-b585-f805af8e6715",
        "outputId": "454477cb-23a2-4489-e4fa-508738d7454d"
      },
      "outputs": [
        {
          "name": "stdout",
          "output_type": "stream",
          "text": [
            "[[0.34361953 0.27783594 0.85868636]\n",
            " [0.14647962 0.78064387 0.01580302]]\n"
          ]
        }
      ],
      "source": [
        "import numpy as np\n",
        "\n",
        "random_array = np.random.rand(2, 3)\n",
        "print(random_array)\n"
      ]
    },
    {
      "cell_type": "markdown",
      "id": "56f32c99-fa8d-4cf5-ba06-9cf360222633",
      "metadata": {
        "id": "56f32c99-fa8d-4cf5-ba06-9cf360222633"
      },
      "source": [
        "2.np.random.randn: This function generates random numbers from a standard normal distribution (mean = 0, standard deviation = 1). Like rand, it takes dimensions as arguments and returns an array of random values with those dimensions.\n",
        "\n",
        "Example:"
      ]
    },
    {
      "cell_type": "code",
      "execution_count": null,
      "id": "f990742c-5157-4f52-82ae-88b3f9ae171e",
      "metadata": {
        "id": "f990742c-5157-4f52-82ae-88b3f9ae171e",
        "outputId": "96fed357-1f60-4892-e944-027fc4c9d3fe"
      },
      "outputs": [
        {
          "name": "stdout",
          "output_type": "stream",
          "text": [
            "[[-0.07314198  0.61104051 -0.48724036]\n",
            " [-0.76186152  0.7134668  -0.138697  ]]\n"
          ]
        }
      ],
      "source": [
        "import numpy as np\n",
        "\n",
        "random_array = np.random.randn(2, 3)\n",
        "print(random_array)\n"
      ]
    },
    {
      "cell_type": "markdown",
      "id": "620bd7e5-36d0-4929-a99b-20a695e0803c",
      "metadata": {
        "id": "620bd7e5-36d0-4929-a99b-20a695e0803c"
      },
      "source": [
        "9. Write code to increase the dimension of the following array?\n",
        "[[1, 2, 3, 4]\n",
        "[5, 6, 7, 8],\n",
        "[9, 10, 11, 12]]"
      ]
    },
    {
      "cell_type": "code",
      "execution_count": null,
      "id": "f7ab2988-fb23-496b-ba50-eb85881b9fbc",
      "metadata": {
        "id": "f7ab2988-fb23-496b-ba50-eb85881b9fbc",
        "outputId": "dc99d667-788a-4c5c-8098-ecc57ef48dfc"
      },
      "outputs": [
        {
          "name": "stdout",
          "output_type": "stream",
          "text": [
            "Original Array:\n",
            "[[ 1  2  3  4]\n",
            " [ 5  6  7  8]\n",
            " [ 9 10 11 12]]\n",
            "\n",
            "Expanded Array:\n",
            "[[[ 1]\n",
            "  [ 2]\n",
            "  [ 3]\n",
            "  [ 4]]\n",
            "\n",
            " [[ 5]\n",
            "  [ 6]\n",
            "  [ 7]\n",
            "  [ 8]]\n",
            "\n",
            " [[ 9]\n",
            "  [10]\n",
            "  [11]\n",
            "  [12]]]\n"
          ]
        }
      ],
      "source": [
        "import numpy as np\n",
        "\n",
        "# Given array\n",
        "original_array = np.array([[1, 2, 3, 4],\n",
        "                           [5, 6, 7, 8],\n",
        "                           [9, 10, 11, 12]])\n",
        "\n",
        "# Increase dimension by adding a new axis\n",
        "expanded_array = original_array[:, :, np.newaxis]\n",
        "\n",
        "# Alternatively, you can use np.expand_dims\n",
        "# expanded_array = np.expand_dims(original_array, axis=-1)\n",
        "\n",
        "print(\"Original Array:\")\n",
        "print(original_array)\n",
        "print(\"\\nExpanded Array:\")\n",
        "print(expanded_array)\n"
      ]
    },
    {
      "cell_type": "markdown",
      "id": "f013c064-9e85-456b-aa46-c02a8c29a9e8",
      "metadata": {
        "id": "f013c064-9e85-456b-aa46-c02a8c29a9e8"
      },
      "source": [
        "10. How to transpose the following array in NumPy?\n",
        "[[1, 2, 3, 4]\n",
        "[5, 6, 7, 8],\n",
        "[9, 10, 11, 12]]"
      ]
    },
    {
      "cell_type": "code",
      "execution_count": null,
      "id": "8ca76eda-31e4-4593-a695-91d1e6a9addf",
      "metadata": {
        "id": "8ca76eda-31e4-4593-a695-91d1e6a9addf",
        "outputId": "2421c349-f322-43b9-8d81-f37b2a0ca609"
      },
      "outputs": [
        {
          "name": "stdout",
          "output_type": "stream",
          "text": [
            "Original Array:\n",
            "[[ 1  2  3  4]\n",
            " [ 5  6  7  8]\n",
            " [ 9 10 11 12]]\n",
            "\n",
            "Transposed Array:\n",
            "[[ 1  5  9]\n",
            " [ 2  6 10]\n",
            " [ 3  7 11]\n",
            " [ 4  8 12]]\n"
          ]
        }
      ],
      "source": [
        "import numpy as np\n",
        "\n",
        "# Given array\n",
        "original_array = np.array([[1, 2, 3, 4],\n",
        "                           [5, 6, 7, 8],\n",
        "                           [9, 10, 11, 12]])\n",
        "\n",
        "# Transpose the array\n",
        "transposed_array = np.transpose(original_array)\n",
        "\n",
        "# Alternatively, you can use the T attribute\n",
        "# transposed_array = original_array.T\n",
        "\n",
        "print(\"Original Array:\")\n",
        "print(original_array)\n",
        "print(\"\\nTransposed Array:\")\n",
        "print(transposed_array)\n"
      ]
    },
    {
      "cell_type": "markdown",
      "id": "1c3c4ad4-9378-499c-aeb0-31e9e1e8190b",
      "metadata": {
        "id": "1c3c4ad4-9378-499c-aeb0-31e9e1e8190b"
      },
      "source": [
        "11. Consider the following matrix:\n",
        "Matrix A2 [[1, 2, 3, 4] [5, 6, 7, 8],[9, 10, 11, 12]]\n",
        "Matrix B2 [[1, 2, 3, 4] [5, 6, 7, 8],[9, 10, 11, 12]]\n",
        "\n",
        "Perform the following operation using Python1\n",
        "1 Index wise multiplication.\n",
        "2 Matix multiplication\n",
        "3 Add both the matics\n",
        "4 Subtact matix B from A\n",
        "5 Divide Matix B by A"
      ]
    },
    {
      "cell_type": "code",
      "execution_count": null,
      "id": "8b7da841-fd31-4fe8-9846-a4f295ae69ef",
      "metadata": {
        "id": "8b7da841-fd31-4fe8-9846-a4f295ae69ef",
        "outputId": "0d5c4b2b-6adf-4b79-86a6-65e5773c88fd"
      },
      "outputs": [
        {
          "name": "stdout",
          "output_type": "stream",
          "text": [
            "1. Index-wise Multiplication:\n",
            "[[  1   4   9  16]\n",
            " [ 25  36  49  64]\n",
            " [ 81 100 121 144]]\n",
            "\n",
            "2. Matrix Multiplication:\n",
            "[[ 30  70 110]\n",
            " [ 70 174 278]\n",
            " [110 278 446]]\n",
            "\n",
            "3. Matrix Addition:\n",
            "[[ 2  4  6  8]\n",
            " [10 12 14 16]\n",
            " [18 20 22 24]]\n",
            "\n",
            "4. Matrix Subtraction:\n",
            "[[0 0 0 0]\n",
            " [0 0 0 0]\n",
            " [0 0 0 0]]\n",
            "\n",
            "5. Element-wise Division of B2 by A2:\n",
            "[[1. 1. 1. 1.]\n",
            " [1. 1. 1. 1.]\n",
            " [1. 1. 1. 1.]]\n"
          ]
        }
      ],
      "source": [
        "import numpy as np\n",
        "\n",
        "# Given matrices\n",
        "A2 = np.array([[1, 2, 3, 4], [5, 6, 7, 8], [9, 10, 11, 12]])\n",
        "B2 = np.array([[1, 2, 3, 4], [5, 6, 7, 8], [9, 10, 11, 12]])\n",
        "\n",
        "# 1. Index-wise multiplication\n",
        "index_wise_multiplication = A2 * B2\n",
        "\n",
        "# 2. Matrix multiplication\n",
        "matrix_multiplication = np.matmul(A2, B2.transpose())  # Assuming you want to multiply A2 by the transpose of B2\n",
        "\n",
        "# 3. Matrix addition\n",
        "matrix_addition = A2 + B2\n",
        "\n",
        "# 4. Matrix subtraction (subtracting B2 from A2)\n",
        "matrix_subtraction = A2 - B2\n",
        "\n",
        "# 5. Element-wise division of B2 by A2\n",
        "matrix_division = np.divide(B2, A2)\n",
        "\n",
        "# Display results\n",
        "print(\"1. Index-wise Multiplication:\")\n",
        "print(index_wise_multiplication)\n",
        "\n",
        "print(\"\\n2. Matrix Multiplication:\")\n",
        "print(matrix_multiplication)\n",
        "\n",
        "print(\"\\n3. Matrix Addition:\")\n",
        "print(matrix_addition)\n",
        "\n",
        "print(\"\\n4. Matrix Subtraction:\")\n",
        "print(matrix_subtraction)\n",
        "\n",
        "print(\"\\n5. Element-wise Division of B2 by A2:\")\n",
        "print(matrix_division)\n"
      ]
    },
    {
      "cell_type": "markdown",
      "id": "a47b94d8-1de9-457d-8c56-c587ac4b6163",
      "metadata": {
        "id": "a47b94d8-1de9-457d-8c56-c587ac4b6163"
      },
      "source": [
        "12. Which function in Numpy can be used to swap the byte order of an array?"
      ]
    },
    {
      "cell_type": "code",
      "execution_count": null,
      "id": "cc1c531a-3de9-48f0-9a4d-ae810f781f38",
      "metadata": {
        "id": "cc1c531a-3de9-48f0-9a4d-ae810f781f38",
        "outputId": "6cb11b26-08a1-4ddb-d688-d55b02e1dbc9"
      },
      "outputs": [
        {
          "name": "stdout",
          "output_type": "stream",
          "text": [
            "Original Array: [1 2 3 4]\n",
            "Swapped Array: [16777216 33554432 50331648 67108864]\n"
          ]
        }
      ],
      "source": [
        "import numpy as np\n",
        "\n",
        "# Create an array with a specific byte order (little-endian in this case)\n",
        "original_array = np.array([1, 2, 3, 4], dtype=np.int32)\n",
        "\n",
        "# Swap the byte order using byteswap\n",
        "swapped_array = original_array.byteswap()\n",
        "\n",
        "# Display the original and swapped arrays\n",
        "print(\"Original Array:\", original_array)\n",
        "print(\"Swapped Array:\", swapped_array)\n"
      ]
    },
    {
      "cell_type": "markdown",
      "id": "3c1e3133-44b7-427e-bb71-9c4dfb537b06",
      "metadata": {
        "id": "3c1e3133-44b7-427e-bb71-9c4dfb537b06"
      },
      "source": [
        "13. What is the significance of the np.linalg.inv function?"
      ]
    },
    {
      "cell_type": "markdown",
      "id": "09dc7fc3-1e13-4200-8bbc-90b76d01b90a",
      "metadata": {
        "id": "09dc7fc3-1e13-4200-8bbc-90b76d01b90a"
      },
      "source": [
        "The `np.linalg.inv` function in NumPy is used to compute the (multiplicative) inverse of a square matrix. In linear algebra, the inverse of a matrix A is denoted as A^(-1), and it has the property that when multiplied by the original matrix A, the result is the identity matrix.\n",
        "\n",
        "The significance of `np.linalg.inv` lies in its application to solve systems of linear equations and other mathematical problems. Here are some key points:\n",
        "\n",
        "1. **Solving Linear Equations:** Given a system of linear equations in the form Ax = B, where A is a square matrix of coefficients, x is the column vector of variables, and B is the column vector on the right-hand side, you can find the solution by computing x = A^(-1) * B.\n",
        "\n",
        "2. **Matrix Equations:** It is used in solving matrix equations of the form AX = B, where A, X, and B are matrices. If you know A and B, you can find X by multiplying both sides of the equation by A^(-1): X = A^(-1) * B.\n",
        "\n",
        "3. **Eigenvalue Problems:** In some cases, the inverse of a matrix is used in the context of eigenvalue problems and diagonalization of matrices.\n",
        "\n"
      ]
    },
    {
      "cell_type": "markdown",
      "id": "07781781-5e00-4291-a36f-2c08a049439a",
      "metadata": {
        "id": "07781781-5e00-4291-a36f-2c08a049439a"
      },
      "source": [
        "14. What does the np.reshape function do, and how is it used?"
      ]
    },
    {
      "cell_type": "markdown",
      "id": "7481ee7c-3493-4142-80fd-2d98fbf26f00",
      "metadata": {
        "id": "7481ee7c-3493-4142-80fd-2d98fbf26f00"
      },
      "source": [
        "The np.reshape function in NumPy is used to change the shape of an array without changing its data. It allows you to reorganize the elements of an array to fit a specified shape, provided that the total number of elements remains constant.\n",
        "\n",
        "Here's the general syntax of np.reshape:\n",
        "\n",
        "numpy.reshape(a, newshape, order='C')\n",
        "\n",
        "* a: The input array that you want to reshape.\n",
        "* newshape: The new shape you want for the array. It can be specified as an integer (if the array is one-dimensional) or as a tuple of integers representing the new shape.\n",
        "* order: (Optional) Specifies the order in which elements are read from the original array for placement in the reshaped array. It can be 'C' (row-major, default) or 'F' (column-major).\n",
        "\n",
        "Here are some examples to illustrate how np.reshape is used:"
      ]
    },
    {
      "cell_type": "code",
      "execution_count": null,
      "id": "9adf06a8-fed5-4cd2-8cc9-d5c706d6afa6",
      "metadata": {
        "id": "9adf06a8-fed5-4cd2-8cc9-d5c706d6afa6",
        "outputId": "eccd34b4-b863-4f74-8e3b-a303684cd023"
      },
      "outputs": [
        {
          "name": "stdout",
          "output_type": "stream",
          "text": [
            "[[1 2 3]\n",
            " [4 5 6]]\n",
            "[1 2 3 4 5 6]\n",
            "[[1 2 3]\n",
            " [4 5 6]]\n"
          ]
        }
      ],
      "source": [
        "import numpy as np\n",
        "\n",
        "# Example 1: Reshaping a 1D array to a 2D array\n",
        "arr1d = np.array([1, 2, 3, 4, 5, 6])\n",
        "arr2d = np.reshape(arr1d, (2, 3))\n",
        "print(arr2d)\n",
        "# Output:\n",
        "# [[1 2 3]\n",
        "#  [4 5 6]]\n",
        "\n",
        "# Example 2: Reshaping a 2D array to a 1D array\n",
        "arr2d = np.array([[1, 2, 3], [4, 5, 6]])\n",
        "arr1d = np.reshape(arr2d, 6)\n",
        "print(arr1d)\n",
        "# Output: [1 2 3 4 5 6]\n",
        "\n",
        "# Example 3: Reshaping with automatic inference of one dimension\n",
        "arr = np.array([1, 2, 3, 4, 5, 6])\n",
        "reshaped_arr = np.reshape(arr, (2, -1))  # -1 means infer the size of the remaining dimension\n",
        "print(reshaped_arr)\n",
        "# Output:\n",
        "# [[1 2 3]\n",
        "#  [4 5 6]]\n"
      ]
    },
    {
      "cell_type": "markdown",
      "id": "0e128820-f3c8-4720-8f45-ebdb4922b626",
      "metadata": {
        "id": "0e128820-f3c8-4720-8f45-ebdb4922b626"
      },
      "source": [
        "15. What is broadcasting in Numpy?"
      ]
    },
    {
      "cell_type": "markdown",
      "id": "9b5e726a-c8ec-4958-a9c2-0333d80ce35e",
      "metadata": {
        "id": "9b5e726a-c8ec-4958-a9c2-0333d80ce35e"
      },
      "source": [
        "Broadcasting in NumPy is a mechanism that allows NumPy to perform operations on arrays of different shapes and sizes. In broadcasting, NumPy automatically adjusts the dimensions of input arrays to perform element-wise operations, even if their shapes are not identical.\n",
        "\n",
        "The key concept behind broadcasting is that when operating on two arrays, NumPy compares their shapes element-wise, starting from the trailing dimensions. It then performs the operation if:\n",
        "\n",
        "1.The dimensions are equal.\n",
        "2.One of the dimensions is 1.\n",
        "\n",
        "NumPy will automatically replicate or \"broadcast\" the smaller-sized array along the missing dimensions to make the shapes compatible for element-wise operations.\n",
        "\n",
        "Here's a simple example to illustrate broadcasting:"
      ]
    },
    {
      "cell_type": "code",
      "execution_count": null,
      "id": "87abc705-c190-46b2-89e0-7c1e7b67512f",
      "metadata": {
        "id": "87abc705-c190-46b2-89e0-7c1e7b67512f",
        "outputId": "d1b0a71f-0199-4e45-89dd-458323f9a4fd"
      },
      "outputs": [
        {
          "name": "stdout",
          "output_type": "stream",
          "text": [
            "[6 7 8]\n",
            "[[11 22 33]\n",
            " [14 25 36]]\n"
          ]
        }
      ],
      "source": [
        "import numpy as np\n",
        "\n",
        "# Example 1: Broadcasting with a scalar\n",
        "arr = np.array([1, 2, 3])\n",
        "result = arr + 5  # Broadcasting scalar 5 to the array\n",
        "print(result)\n",
        "# Output: [6 7 8]\n",
        "\n",
        "# Example 2: Broadcasting with two arrays of different shapes\n",
        "arr1 = np.array([[1, 2, 3], [4, 5, 6]])\n",
        "arr2 = np.array([10, 20, 30])\n",
        "result = arr1 + arr2  # Broadcasting arr2 to arr1\n",
        "print(result)\n",
        "# Output:\n",
        "# [[11 22 33]\n",
        "#  [14 25 36]]\n"
      ]
    },
    {
      "cell_type": "code",
      "execution_count": null,
      "id": "3ef4c3b8-6005-4e83-8305-6a78d47e0e0a",
      "metadata": {
        "id": "3ef4c3b8-6005-4e83-8305-6a78d47e0e0a"
      },
      "outputs": [],
      "source": []
    }
  ],
  "metadata": {
    "kernelspec": {
      "display_name": "Python 3 (ipykernel)",
      "language": "python",
      "name": "python3"
    },
    "language_info": {
      "codemirror_mode": {
        "name": "ipython",
        "version": 3
      },
      "file_extension": ".py",
      "mimetype": "text/x-python",
      "name": "python",
      "nbconvert_exporter": "python",
      "pygments_lexer": "ipython3",
      "version": "3.10.8"
    },
    "colab": {
      "provenance": []
    }
  },
  "nbformat": 4,
  "nbformat_minor": 5
}