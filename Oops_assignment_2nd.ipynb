{
  "cells": [
    {
      "cell_type": "markdown",
      "id": "09d397c7-da6e-44eb-865b-96fbb9ebb86c",
      "metadata": {
        "id": "09d397c7-da6e-44eb-865b-96fbb9ebb86c"
      },
      "source": [
        "# Constructor:"
      ]
    },
    {
      "cell_type": "markdown",
      "id": "4248735e-ac22-40a8-81d0-9477c09cad64",
      "metadata": {
        "id": "4248735e-ac22-40a8-81d0-9477c09cad64"
      },
      "source": [
        "1. What is a constructor in Python? Explain its purpose and usage."
      ]
    },
    {
      "cell_type": "markdown",
      "id": "986d470c-c170-4eff-b2ec-bdba21371865",
      "metadata": {
        "id": "986d470c-c170-4eff-b2ec-bdba21371865"
      },
      "source": [
        "In Python, a constructor is a special method that is automatically called when an object of a class is created. It is named __init__ and is used to initialize the attributes of the object. The purpose of the constructor is to set up the initial state of the object by assigning values to its attributes.\n",
        "\n",
        "Key points about constructors in Python:\n",
        "\n",
        "Method Name: The constructor method has a fixed name, __init__. When an object is created, this method is automatically called.\n",
        "\n",
        "Initialization: The primary purpose of the constructor is to initialize the attributes of the object. It allows you to set default values or take initial parameters that are passed when the object is created.\n",
        "\n",
        "Self Parameter: The first parameter of the constructor is always self, which refers to the instance of the class being created. It is a convention in Python to name this parameter self.\n",
        "\n",
        "Attribute Assignment: Inside the constructor, you can assign values to the attributes of the object using the self keyword. This makes the attributes accessible throughout the object's lifespan.\n",
        "\n",
        "Here's a simple example to illustrate the usage of a constructor:"
      ]
    },
    {
      "cell_type": "markdown",
      "id": "7a1eef9e-f3e2-4f44-8a0a-543a6b2368ce",
      "metadata": {
        "id": "7a1eef9e-f3e2-4f44-8a0a-543a6b2368ce"
      },
      "source": [
        "#class MyClass:\n",
        "    def __init__(self, attribute1, attribute2):\n",
        "        # Constructor initializes attributes\n",
        "        self.attribute1 = attribute1\n",
        "        self.attribute2 = attribute2\n",
        "        \n",
        " Creating an object of Myclass and calling the constructor\n",
        "my_object = MyClass(attribute1_value, attribute2_value)"
      ]
    },
    {
      "cell_type": "markdown",
      "id": "689dcabe-0b22-4867-8d75-4d9d340a13cf",
      "metadata": {
        "id": "689dcabe-0b22-4867-8d75-4d9d340a13cf"
      },
      "source": [
        "2. Differentiate between a parameterless constructor and a parameterized constructor in Python."
      ]
    },
    {
      "cell_type": "markdown",
      "id": "31e55ecb-d50b-4833-91c6-cf2e9adcf59f",
      "metadata": {
        "id": "31e55ecb-d50b-4833-91c6-cf2e9adcf59f"
      },
      "source": [
        "1.Parameterless Constructor:\n",
        "\n",
        "A parameterless constructor, also known as a default constructor, does not take any explicit parameters other than the self parameter.\n",
        "\n",
        "It is defined without any parameters in its signature.\n",
        "\n",
        "It is often used when the initialization of attributes does not require external input or when default values can be used.\n",
        "\n",
        "Example:"
      ]
    },
    {
      "cell_type": "code",
      "execution_count": null,
      "id": "f53d677c-57a7-401d-b989-752ef56f6e88",
      "metadata": {
        "id": "f53d677c-57a7-401d-b989-752ef56f6e88"
      },
      "outputs": [],
      "source": [
        "class ParameterlessConstructorExample:\n",
        "    def __init__(self):\n",
        "        # This is a parameterless constructor\n",
        "        self.attribute1 = 0\n",
        "        self.attribute2 = \"default_value\"\n"
      ]
    },
    {
      "cell_type": "markdown",
      "id": "0141653d-4f77-4223-8386-770d2f5475a1",
      "metadata": {
        "id": "0141653d-4f77-4223-8386-770d2f5475a1"
      },
      "source": [
        "2.Parameterized Constructor:\n",
        "\n",
        "A parameterized constructor takes explicit parameters in addition to the self parameter.\n",
        "\n",
        "It allows you to pass values or variables during the creation of an object, which can be used to initialize the attributes.\n",
        "\n",
        "It is defined with parameters in its signature, and you can use these parameters to set the initial state of the object.\n",
        "\n",
        "Example:"
      ]
    },
    {
      "cell_type": "code",
      "execution_count": null,
      "id": "99078f9a-74dc-4264-8f3d-eeb43e4e9952",
      "metadata": {
        "id": "99078f9a-74dc-4264-8f3d-eeb43e4e9952"
      },
      "outputs": [],
      "source": [
        "class ParameterizedConstructorExample:\n",
        "    def __init__(self, attribute1, attribute2):\n",
        "        # This is a parameterized constructor\n",
        "        self.attribute1 = attribute1\n",
        "        self.attribute2 = attribute2\n"
      ]
    },
    {
      "cell_type": "code",
      "execution_count": null,
      "id": "e5c0c589-f416-4a63-9cd3-658c1debd0f1",
      "metadata": {
        "id": "e5c0c589-f416-4a63-9cd3-658c1debd0f1"
      },
      "outputs": [],
      "source": [
        "# Creating an object with a parameterized constructor:\n",
        "# Creating an object and providing values for attribute1 and attribute2\n",
        "my_object = ParameterizedConstructorExample(42, \"custom_value\")\n"
      ]
    },
    {
      "cell_type": "markdown",
      "id": "e97d6d1b-d7fc-4cc2-90f3-24f52f461ed3",
      "metadata": {
        "id": "e97d6d1b-d7fc-4cc2-90f3-24f52f461ed3"
      },
      "source": [
        "In summary, the primary difference is that a parameterless constructor has no parameters in its signature, while a parameterized constructor includes explicit parameters that allow you to pass values during object creation. The choice between them depends on whether you need external input for the initialization of attributes."
      ]
    },
    {
      "cell_type": "markdown",
      "id": "fe6a83f3-97a3-461e-bb3d-6130581de488",
      "metadata": {
        "id": "fe6a83f3-97a3-461e-bb3d-6130581de488"
      },
      "source": [
        "3. How do you define a constructor in a Python class? Provide an example."
      ]
    },
    {
      "cell_type": "markdown",
      "id": "874bd48f-d467-4e5a-9bee-75e175ae5b53",
      "metadata": {
        "id": "874bd48f-d467-4e5a-9bee-75e175ae5b53"
      },
      "source": [
        "In Python, you define a constructor in a class using a special method called __init__. The __init__ method is automatically called when an object of the class is created, and it is used to initialize the attributes of the object. Here's an example of how to define a constructor in a Python class:"
      ]
    },
    {
      "cell_type": "code",
      "execution_count": null,
      "id": "ce3b0e65-3f53-4742-8bcb-b3eac9c92dce",
      "metadata": {
        "id": "ce3b0e65-3f53-4742-8bcb-b3eac9c92dce",
        "outputId": "722550c2-c558-49d1-bcde-3b7a6dee6806"
      },
      "outputs": [
        {
          "name": "stdout",
          "output_type": "stream",
          "text": [
            "Attribute 1: 42\n",
            "Attribute 2: Hello, World!\n"
          ]
        }
      ],
      "source": [
        "class MyClass:\n",
        "    def __init__(self, attribute1, attribute2):\n",
        "        # Constructor initializes attributes\n",
        "        self.attribute1 = attribute1\n",
        "        self.attribute2 = attribute2\n",
        "\n",
        "# Creating an object of MyClass and calling the constructor\n",
        "# Providing values for attribute1 and attribute2\n",
        "my_object = MyClass(42, \"Hello, World!\")\n",
        "\n",
        "# Accessing attributes of the object\n",
        "print(f\"Attribute 1: {my_object.attribute1}\")\n",
        "print(f\"Attribute 2: {my_object.attribute2}\")\n",
        "\n"
      ]
    },
    {
      "cell_type": "markdown",
      "id": "b1c3198b-af8b-4e3d-b0b9-358657164e68",
      "metadata": {
        "id": "b1c3198b-af8b-4e3d-b0b9-358657164e68"
      },
      "source": [
        "In this example:\n",
        "\n",
        "The MyClass class has a constructor __init__ that takes two parameters (attribute1 and attribute2) in addition to the self parameter.\n",
        "Inside the constructor, the values passed during the object creation are assigned to the attributes using self.attribute1 = attribute1 and self.attribute2 = attribute2.\n",
        "When creating an object (my_object) of the class, you provide values for attribute1 and attribute2, and the constructor is automatically called to initialize the attributes.\n",
        "This is a basic example, and you can customize the constructor based on the specific requirements of your class. The __init__ method allows you to set up the initial state of the object by initializing its attributes."
      ]
    },
    {
      "cell_type": "markdown",
      "id": "b9658da2-ced0-485f-b521-1299f64dc9aa",
      "metadata": {
        "id": "b9658da2-ced0-485f-b521-1299f64dc9aa"
      },
      "source": [
        "4. Explain the `__init__` method in Python and its role in constructors."
      ]
    },
    {
      "cell_type": "markdown",
      "id": "45e7768e-2f43-4bb2-a617-d443d7658bdd",
      "metadata": {
        "id": "45e7768e-2f43-4bb2-a617-d443d7658bdd"
      },
      "source": [
        "The __init__ method is a special method that plays a crucial role in constructors. The name __init__ stands for \"initialize,\" and it is automatically called when an object of a class is created. Its primary purpose is to initialize the attributes of the object.\n",
        "\n",
        "Key points about the __init__ method and its role in constructors:\n",
        "\n",
        "Initialization: The __init__ method is responsible for initializing the attributes of an object. It allows you to set the initial state of the object by assigning values to its attributes.\n",
        "\n",
        "Automatic Invocation: When an object is created using the class, the __init__ method is automatically called. It takes the instance itself (self) as the first parameter, followed by any additional parameters that you define.\n",
        "\n",
        "Parameters: While self is a conventional name for the instance parameter, you can define additional parameters in the __init__ method to accept values during object creation. These parameters are used to initialize the attributes.\n",
        "\n",
        "Attribute Assignment: Inside the __init__ method, you use the self keyword to assign values to the attributes of the object. The attributes become instance variables that are accessible throughout the object's lifespan.\n",
        "\n",
        "Here's a basic example illustrating the __init__ method in a class:"
      ]
    },
    {
      "cell_type": "code",
      "execution_count": null,
      "id": "d3375513-2942-478f-9b2b-82b17441224b",
      "metadata": {
        "id": "d3375513-2942-478f-9b2b-82b17441224b",
        "outputId": "7b3d6a13-bae6-4ba4-9831-877b555dff51"
      },
      "outputs": [
        {
          "name": "stdout",
          "output_type": "stream",
          "text": [
            "Attribute 1: 42\n",
            "Attribute 2: Hello, World!\n"
          ]
        }
      ],
      "source": [
        "class MyClass:\n",
        "    def __init__(self, attribute1, attribute2):\n",
        "        # Constructor initializes attributes\n",
        "        self.attribute1 = attribute1\n",
        "        self.attribute2 = attribute2\n",
        "\n",
        "# Creating an object of MyClass and calling the constructor\n",
        "# Providing values for attribute1 and attribute2\n",
        "my_object = MyClass(42, \"Hello, World!\")\n",
        "\n",
        "# Accessing attributes of the object\n",
        "print(f\"Attribute 1: {my_object.attribute1}\")\n",
        "print(f\"Attribute 2: {my_object.attribute2}\")\n"
      ]
    },
    {
      "cell_type": "markdown",
      "id": "42d91181-50ef-41bf-b9b7-ff30a42d14cf",
      "metadata": {
        "id": "42d91181-50ef-41bf-b9b7-ff30a42d14cf"
      },
      "source": [
        "5. In a class named `Person`, create a constructor that initializes the `name` and `age` attributes. Provide an\n",
        "example of creating an object of this class."
      ]
    },
    {
      "cell_type": "code",
      "execution_count": 1,
      "id": "5ef19297-fa0b-4b8a-9140-067ded9ceb72",
      "metadata": {
        "colab": {
          "base_uri": "https://localhost:8080/"
        },
        "id": "5ef19297-fa0b-4b8a-9140-067ded9ceb72",
        "outputId": "5ec9292e-44aa-48e4-f2b8-36215b88409f"
      },
      "outputs": [
        {
          "output_type": "stream",
          "name": "stdout",
          "text": [
            "Name: Mayuresh\n",
            "Age: 22\n"
          ]
        }
      ],
      "source": [
        "class Person:\n",
        "    def __init__(self, name, age):\n",
        "        # Constructor initializes attributes\n",
        "        self.name = name\n",
        "        self.age = age\n",
        "\n",
        "# Creating an object of Person and calling the constructor\n",
        "# Providing values for name and age\n",
        "person1 = Person(name=\"Mayuresh\", age = 22)\n",
        "\n",
        "# Accessing attributes of the object\n",
        "print(f\"Name: {person1.name}\")\n",
        "print(f\"Age: {person1.age}\")"
      ]
    },
    {
      "cell_type": "markdown",
      "id": "602aeb9c-96f4-4f9b-94a7-971edee0a345",
      "metadata": {
        "id": "602aeb9c-96f4-4f9b-94a7-971edee0a345"
      },
      "source": [
        "6. How can you call a constructor explicitly in Python? Give an example."
      ]
    },
    {
      "cell_type": "markdown",
      "id": "24f55f8b-dee9-4f85-bddf-2ae068853022",
      "metadata": {
        "id": "24f55f8b-dee9-4f85-bddf-2ae068853022"
      },
      "source": [
        "In Python, constructors, including the __init__ method, are typically called implicitly when an object is created. However, it's not a common practice to call the constructor explicitly. Instead, the constructor is automatically invoked during object creation.\n",
        "\n",
        "If you need to perform some initialization logic and want to call a method explicitly, you might create a separate method for that purpose, rather than the constructor. Here's an example:\n"
      ]
    },
    {
      "cell_type": "code",
      "execution_count": null,
      "id": "93ac7114-4b26-48f4-bc99-2d4b9aef7d97",
      "metadata": {
        "id": "93ac7114-4b26-48f4-bc99-2d4b9aef7d97",
        "outputId": "0087a10f-cfbc-4c67-f2e7-27a8f754c454"
      },
      "outputs": [
        {
          "name": "stdout",
          "output_type": "stream",
          "text": [
            "Attribute 1: 42\n",
            "Attribute 2: Hello, World!\n",
            "Performing explict initialization.\n"
          ]
        }
      ],
      "source": [
        "class MyClass:\n",
        "    def __init__(self, attribute1, attribute2):\n",
        "        # Constructor initializes attributes\n",
        "        self.attribute1 = attribute1\n",
        "        self.attribute2 = attribute2\n",
        "\n",
        "    def perform_initialization(self):\n",
        "        # Additional initialization logic\n",
        "        print(\"Performing explict initialization.\")\n",
        "\n",
        "# Creating an object of MyClass without explicit constructor call\n",
        "my_object = MyClass(42, \"Hello, World!\")\n",
        "\n",
        "# Accessing attributes of the object\n",
        "print(f\"Attribute 1: {my_object.attribute1}\")\n",
        "print(f\"Attribute 2: {my_object.attribute2}\")\n",
        "\n",
        "# Explicitly calling the perform_initialization method\n",
        "my_object.perform_initialization()"
      ]
    },
    {
      "cell_type": "markdown",
      "id": "87f3bbd4-837e-45fc-90f3-499c007a918d",
      "metadata": {
        "id": "87f3bbd4-837e-45fc-90f3-499c007a918d"
      },
      "source": [
        "In this example:\n",
        "\n",
        "The MyClass class has a constructor __init__ that initializes attributes.\n",
        "An additional method, perform_initialization, is defined for explicit initialization logic.\n",
        "The object (my_object) is created using the constructor during object instantiation.\n",
        "The perform_initialization method is called explicitly after object creation.\n",
        "While it is possible to call the constructor explicitly using the class name, it is not a common practice and can be confusing. Using separate methods for specific tasks, as shown in the example, is a cleaner approach.\n",
        "\n",
        "\n",
        "\n",
        "\n",
        "\n"
      ]
    },
    {
      "cell_type": "markdown",
      "id": "2a38b5ec-85fd-4c8b-bcd9-28b03fadc113",
      "metadata": {
        "id": "2a38b5ec-85fd-4c8b-bcd9-28b03fadc113"
      },
      "source": [
        "7. What is the significance of the `self` parameter in Python constructors? Explain with an example."
      ]
    },
    {
      "cell_type": "markdown",
      "id": "20d7ada9-762d-4f8b-a4e2-d452ba8e86a9",
      "metadata": {
        "id": "20d7ada9-762d-4f8b-a4e2-d452ba8e86a9"
      },
      "source": [
        "The self parameter serves the following purposes:\n",
        "\n",
        "1.Instance Reference: It provides a reference to the instance of the class, allowing you to access and modify the attributes of that specific instance.\n",
        "\n",
        "2.Attribute Access: Using self.attribute inside the class methods allows you to access and modify instance variables (attributes).\n",
        "\n",
        "Here's an example to illustrate the significance of the self parameter in a Python constructor:"
      ]
    },
    {
      "cell_type": "code",
      "execution_count": 2,
      "id": "e4c97be9-0fd7-49d8-915c-bc43396e722c",
      "metadata": {
        "colab": {
          "base_uri": "https://localhost:8080/"
        },
        "id": "e4c97be9-0fd7-49d8-915c-bc43396e722c",
        "outputId": "558592e2-a40a-4ee8-bc39-1931da4aa3f3"
      },
      "outputs": [
        {
          "output_type": "stream",
          "name": "stdout",
          "text": [
            "Name: Mayuresh\n",
            "Age: 22\n"
          ]
        }
      ],
      "source": [
        "class Person:\n",
        "    def __init__(self, name, age):\n",
        "        # Constructor initializes attributes using self\n",
        "        self.name = name\n",
        "        self.age = age\n",
        "\n",
        "    def display_info(self):\n",
        "        # Accessing attributes using self inside a class method\n",
        "        print(f\"Name: {self.name}\")\n",
        "        print(f\"Age: {self.age}\")\n",
        "\n",
        "# Creating an object of Person and calling the constructor\n",
        "person1 = Person(name=\"Mayuresh\", age=22)\n",
        "\n",
        "# Calling a method that uses the self parameter to access attributes\n",
        "person1.display_info()\n"
      ]
    },
    {
      "cell_type": "markdown",
      "id": "5b002ea3-67a8-4944-a561-61de00a8b61d",
      "metadata": {
        "id": "5b002ea3-67a8-4944-a561-61de00a8b61d"
      },
      "source": [
        "8. Discuss the concept of default constructors in Python. When are they used?"
      ]
    },
    {
      "cell_type": "markdown",
      "id": "452c7131-5c71-45e8-b76b-900cb64480eb",
      "metadata": {
        "id": "452c7131-5c71-45e8-b76b-900cb64480eb"
      },
      "source": [
        "Key points about default constructors:\n",
        "\n",
        "1.No Explicit Parameters: Default constructors have no explicit parameters other than the self parameter. They do not take additional values during object creation.\n",
        "\n",
        "2.Default Values: Inside the default constructor, default values can be assigned to the attributes. These values are used when an object is created without providing specific values during instantiation.\n",
        "\n",
        "3.Implicit Invocation: Default constructors are implicitly invoked when an object of the class is created. They automatically execute during object instantiation.\n",
        "\n",
        "Here's an example of a class with a default constructor:"
      ]
    },
    {
      "cell_type": "code",
      "execution_count": null,
      "id": "915b23c7-1201-4582-ab7a-78076f7c37a5",
      "metadata": {
        "id": "915b23c7-1201-4582-ab7a-78076f7c37a5",
        "outputId": "426de6a9-bb25-499a-cf02-4801fa9ac736"
      },
      "outputs": [
        {
          "name": "stdout",
          "output_type": "stream",
          "text": [
            "Default Attribute: Default Value\n"
          ]
        }
      ],
      "source": [
        "class MyClass:\n",
        "    def __init__(self):\n",
        "        # Default constructor with no explicit parameters\n",
        "        self.default_attribute = \"Default Value\"\n",
        "\n",
        "# Creating an object of MyClass without providing explicit values\n",
        "my_object = MyClass()\n",
        "\n",
        "# Accessing the attribute set by the default constructor\n",
        "print(f\"Default Attribute: {my_object.default_attribute}\")\n"
      ]
    },
    {
      "cell_type": "markdown",
      "id": "13750b5a-d689-4679-9139-57e25ff7296b",
      "metadata": {
        "id": "13750b5a-d689-4679-9139-57e25ff7296b"
      },
      "source": [
        "9. Create a Python class called `Rectangle` with a constructor that initializes the `width` and `height`\n",
        "attributes. Provide a method to calculate the area of the rectangle."
      ]
    },
    {
      "cell_type": "code",
      "execution_count": null,
      "id": "2829cebe-6cb9-4d82-9aff-8fe307ea8187",
      "metadata": {
        "id": "2829cebe-6cb9-4d82-9aff-8fe307ea8187",
        "outputId": "fb77696e-8040-46e1-ebb4-ded1a6027df1"
      },
      "outputs": [
        {
          "name": "stdout",
          "output_type": "stream",
          "text": [
            "Width: 5\n",
            "Height: 8\n",
            "Area of the rectangle: 40\n"
          ]
        }
      ],
      "source": [
        "class Rectangle:\n",
        "    def __init__(self, width, height):\n",
        "        # Constructor initializes width and height attributes\n",
        "        self.width = width\n",
        "        self.height = height\n",
        "\n",
        "    def calculate_area(self):\n",
        "        # Method to calculate the area of the rectangle\n",
        "        area = self.width * self.height\n",
        "        return area\n",
        "\n",
        "# Creating an object of Rectangle and calling the constructor\n",
        "rectangle_object = Rectangle(width=5, height=8)\n",
        "\n",
        "# Accessing attributes of the object\n",
        "print(f\"Width: {rectangle_object.width}\")\n",
        "print(f\"Height: {rectangle_object.height}\")\n",
        "\n",
        "# Calculating and displaying the area using the calculate_area method\n",
        "area_of_rectangle = rectangle_object.calculate_area()\n",
        "print(f\"Area of the rectangle: {area_of_rectangle}\")\n"
      ]
    },
    {
      "cell_type": "markdown",
      "id": "7deec5df-1948-4c07-afa7-134da0833b55",
      "metadata": {
        "id": "7deec5df-1948-4c07-afa7-134da0833b55"
      },
      "source": [
        "10. How can you have multiple constructors in a Python class? Explain with an example."
      ]
    },
    {
      "cell_type": "code",
      "execution_count": null,
      "id": "fead72cd-8d10-4d6c-b595-697a429e1066",
      "metadata": {
        "id": "fead72cd-8d10-4d6c-b595-697a429e1066",
        "outputId": "20422bf5-6ff3-47e1-ca2b-f471efae53e6"
      },
      "outputs": [
        {
          "name": "stdout",
          "output_type": "stream",
          "text": [
            "Object 1: value1, value2\n",
            "Object 2: default1, default2\n",
            "Object 3: custom1, custom2\n"
          ]
        }
      ],
      "source": [
        "class MyClass:\n",
        "    def __init__(self, attribute1, attribute2):\n",
        "        # Constructor initializes attributes\n",
        "        self.attribute1 = attribute1\n",
        "        self.attribute2 = attribute2\n",
        "\n",
        "    @classmethod\n",
        "    def create_with_default_values(cls):\n",
        "        # Class method for creating an instance with default values\n",
        "        return cls(attribute1='default1', attribute2='default2')\n",
        "\n",
        "    @classmethod\n",
        "    def create_from_list(cls, values):\n",
        "        # Class method for creating an instance from a list of values\n",
        "        if len(values) >= 2:\n",
        "            return cls(attribute1=values[0], attribute2=values[1])\n",
        "        else:\n",
        "            raise ValueError(\"List should have at least 2 values.\")\n",
        "\n",
        "# Creating an object using the default constructor\n",
        "obj1 = MyClass(attribute1='value1', attribute2='value2')\n",
        "\n",
        "# Creating an object using the create_with_default_values class method\n",
        "obj2 = MyClass.create_with_default_values()\n",
        "\n",
        "# Creating an object using the create_from_list class method\n",
        "obj3 = MyClass.create_from_list(['custom1', 'custom2'])\n",
        "\n",
        "# Accessing attributes of the objects\n",
        "print(f\"Object 1: {obj1.attribute1}, {obj1.attribute2}\")\n",
        "print(f\"Object 2: {obj2.attribute1}, {obj2.attribute2}\")\n",
        "print(f\"Object 3: {obj3.attribute1}, {obj3.attribute2}\")\n"
      ]
    },
    {
      "cell_type": "markdown",
      "id": "188a6735-5551-4651-98f8-cf194f5a0b6a",
      "metadata": {
        "id": "188a6735-5551-4651-98f8-cf194f5a0b6a"
      },
      "source": [
        "11. What is method overloading, and how is it related to constructors in Python?"
      ]
    },
    {
      "cell_type": "markdown",
      "id": "2f4615cd-0413-4d52-b24d-81e902f867e9",
      "metadata": {
        "id": "2f4615cd-0413-4d52-b24d-81e902f867e9"
      },
      "source": [
        "In Python, method overloading refers to the ability to define multiple methods with the same name in a class, but with different signatures (different parameter types or different numbers of parameters). Unlike some other programming languages, Python does not support method overloading in the traditional sense where you can define multiple methods with the same name but different parameter lists.\n",
        "\n",
        "However, method overloading can be achieved through default values for parameters or by using variable-length argument lists (*args and **kwargs). This allows a single method to handle multiple cases based on the provided arguments.\n",
        "\n",
        "Now, when it comes to constructors, Python doesn't support traditional constructor overloading with different parameter lists. The __init__ method is a special method that is automatically called when an object is created, and it can only have one signature in a given class. However, you can achieve similar functionality by using default values or class methods.\n",
        "\n",
        "Here's an example to illustrate method overloading-like behavior in a class with constructors using default values:"
      ]
    },
    {
      "cell_type": "code",
      "execution_count": null,
      "id": "f3f21d67-0774-4f2f-93cb-d32c9c98ee80",
      "metadata": {
        "id": "f3f21d67-0774-4f2f-93cb-d32c9c98ee80",
        "outputId": "2e8106cc-3a38-4a1c-ccaa-39edc61a7cfe"
      },
      "outputs": [
        {
          "name": "stdout",
          "output_type": "stream",
          "text": [
            "Object 1: value1, default_value\n",
            "Object 2: value1, custom_value\n"
          ]
        }
      ],
      "source": [
        "class MyClass:\n",
        "    def __init__(self, attribute1, attribute2 = 'default_value'):\n",
        "        # Constructor with default value for attribute2\n",
        "        self.attribute1 = attribute1\n",
        "        self.attribute2 = attribute2\n",
        "\n",
        "# Creating objects with different ways of calling the constructor\n",
        "obj1 = MyClass(attribute1 = 'value1')\n",
        "obj2 = MyClass(attribute1 = 'value1', attribute2 = 'custom_value')\n",
        "\n",
        "# Accessing attributes of the objects\n",
        "print(f\"Object 1: {obj1.attribute1}, {obj1.attribute2}\")\n",
        "print(f\"Object 2: {obj2.attribute1}, {obj2.attribute2}\")"
      ]
    },
    {
      "cell_type": "markdown",
      "id": "72e2d0a9-d130-4a72-a9d1-783905fcd03a",
      "metadata": {
        "id": "72e2d0a9-d130-4a72-a9d1-783905fcd03a"
      },
      "source": [
        "12. Explain the use of the `super()` function in Python constructors. Provide an example."
      ]
    },
    {
      "cell_type": "markdown",
      "id": "e243bdbb-42c6-4449-b53f-a362eee48075",
      "metadata": {
        "id": "e243bdbb-42c6-4449-b53f-a362eee48075"
      },
      "source": [
        "In Python, the super() function is used to call a method from the parent class, allowing you to invoke the constructor or other methods of the parent class within the child class. This is particularly useful in scenarios where you want to extend the functionality of a parent class in a child class while still utilizing the behavior of the parent class.\n",
        "\n",
        "The super() function is commonly used in the constructor (__init__ method) to ensure that both the child and parent class initializations are executed. This helps in achieving proper inheritance and avoiding redundancy in the code.\n",
        "\n",
        "Here's an example to illustrate the use of the super() function in Python constructors:"
      ]
    },
    {
      "cell_type": "code",
      "execution_count": null,
      "id": "59ecefb9-009f-4aa3-9566-d1322bb7ff5d",
      "metadata": {
        "id": "59ecefb9-009f-4aa3-9566-d1322bb7ff5d",
        "outputId": "74998c9a-dd43-49f0-e639-e091530e9f27"
      },
      "outputs": [
        {
          "name": "stdout",
          "output_type": "stream",
          "text": [
            "Attribute 1: value1\n",
            "Attribute 2: value2\n",
            "Attribute 3: value3\n"
          ]
        }
      ],
      "source": [
        "class ParentClass:\n",
        "    def __init__(self, attribute1, attribute2):\n",
        "        self.attribute1 = attribute1\n",
        "        self.attribute2 = attribute2\n",
        "\n",
        "    def display_attributes(self):\n",
        "        print(f\"Attribute 1: {self.attribute1}\")\n",
        "        print(f\"Attribute 2: {self.attribute2}\")\n",
        "\n",
        "class ChildClass(ParentClass):\n",
        "    def __init__(self, attribute1, attribute2, attribute3):\n",
        "        # Calling the constructor of the parent class using super()\n",
        "        super().__init__(attribute1, attribute2)\n",
        "\n",
        "        #Initializing the attribute specific to the child class\n",
        "        self.attribute3 = attribute3\n",
        "\n",
        "    def display_attributes(self):\n",
        "        # Overriding the display_attribute method to include attribute3\n",
        "        super().display_attributes()\n",
        "        print(f\"Attribute 3: {self.attribute3}\")\n",
        "\n",
        "# Creating an object of the ChildClass\n",
        "child_object = ChildClass(attribute1='value1', attribute2='value2', attribute3='value3')\n",
        "\n",
        "# Calling the display_attributes method of the ChildClass\n",
        "child_object.display_attributes()"
      ]
    },
    {
      "cell_type": "markdown",
      "id": "a5bf381f-f3cf-4495-b08f-d5912bc8b240",
      "metadata": {
        "id": "a5bf381f-f3cf-4495-b08f-d5912bc8b240"
      },
      "source": [
        "\n",
        "13. Create a class called `Book` with a constructor that initializes the `title`, `author`, and `published_year`\n",
        "attributes. Provide a method to display book details."
      ]
    },
    {
      "cell_type": "code",
      "execution_count": 3,
      "id": "cc4f2061-8963-44fa-b014-52ae182b99cf",
      "metadata": {
        "colab": {
          "base_uri": "https://localhost:8080/"
        },
        "id": "cc4f2061-8963-44fa-b014-52ae182b99cf",
        "outputId": "d1523186-574d-4cb1-fa22-969dd70804ed"
      },
      "outputs": [
        {
          "output_type": "stream",
          "name": "stdout",
          "text": [
            "Titile: Python Programming\n",
            "Author: Mayuresh Bhandari\n",
            "Published Year: 2023\n"
          ]
        }
      ],
      "source": [
        "class Book:\n",
        "    def __init__(self, title, author, published_year):\n",
        "        # Constructor initializes attributes\n",
        "        self.title = title\n",
        "        self.author = author\n",
        "        self.published_year = published_year\n",
        "\n",
        "    def display_details(self):\n",
        "        # Method to display book details\n",
        "        print(f\"Titile: {self.title}\")\n",
        "        print(f\"Author: {self.author}\")\n",
        "        print(f\"Published Year: {self.published_year}\")\n",
        "\n",
        "# Creating an object of the Book class\n",
        "book1 = Book(title=\"Python Programming\", author= \"Mayuresh Bhandari\", published_year= 2023)\n",
        "\n",
        "# Calling the display_detials method to show book details\n",
        "book1.display_details()"
      ]
    },
    {
      "cell_type": "markdown",
      "id": "3d806511-d630-45ba-b78f-f0b7354f19e0",
      "metadata": {
        "id": "3d806511-d630-45ba-b78f-f0b7354f19e0"
      },
      "source": [
        "14. Discuss the differences between constructors and regular methods in Python classes.\n"
      ]
    },
    {
      "cell_type": "markdown",
      "id": "83e22333-c1df-4d8e-852e-463d8bfcbc06",
      "metadata": {
        "id": "83e22333-c1df-4d8e-852e-463d8bfcbc06"
      },
      "source": [
        "1.Purpose:\n",
        "\n",
        "Constructor:\n",
        "Purpose: Initializes the attributes of an object when an instance of the class is created.\n",
        "Name: The constructor method is named __init__.\n",
        "Regular Method:\n",
        "Purpose: Performs specific actions or calculations on the object's attributes.\n",
        "Names: Regular methods have user-defined names.\n",
        "\n",
        "2.Invocation:\n",
        "\n",
        "Constructor:\n",
        "Automatically invoked when an object is created using the Class() syntax.\n",
        "Regular Method:\n",
        "Must be explicitly called on an object using the dot notation (object.method()).\n",
        "\n",
        "3.Return Value:\n",
        "\n",
        "Constructor:\n",
        "Typically does not have a return statement, or if present, returns None. Its primary purpose is attribute initialization.\n",
        "Regular Method:\n",
        "Can have a return statement to return a value.\n",
        "\n",
        "3.Usage Frequency:\n",
        "\n",
        "Constructor:\n",
        "Invoked only once during object creation.\n",
        "Regular Method:\n",
        "Can be called multiple times on an object, depending on the requirements.\n",
        "\n",
        "4.Syntax:\n",
        "\n",
        "Constructor:\n",
        "Defined using the def __init__(self, ...) syntax.\n",
        "Regular Method:\n",
        "Defined using the def method_name(self, ...) syntax.\n",
        "\n",
        "5.Naming Convention:\n",
        "\n",
        "Constructor:\n",
        "Follows the naming convention __init__.\n",
        "Regular Method:\n",
        "Follows user-defined naming conventions.\n",
        "\n",
        "6.Arguments:\n",
        "\n",
        "Constructor:\n",
        "Takes self and additional parameters to initialize object attributes.\n",
        "Regular Method:\n",
        "Takes self and additional parameters as needed for its functionality.\n",
        "\n",
        "7.Access to Attributes:\n",
        "\n",
        "Constructor:\n",
        "Can access and modify the attributes of the object being created.\n",
        "Regular Method:\n",
        "Can access and modify attributes as needed for its functionality.\n",
        "Here's an example illustrating the differences:"
      ]
    },
    {
      "cell_type": "code",
      "execution_count": null,
      "id": "e6706cc2-94cd-4ec2-99f8-331d644d6dad",
      "metadata": {
        "id": "e6706cc2-94cd-4ec2-99f8-331d644d6dad",
        "outputId": "1b055840-c972-4d06-cce6-2d482c441bad"
      },
      "outputs": [
        {
          "name": "stdout",
          "output_type": "stream",
          "text": [
            "Regular Method: value1, value2\n"
          ]
        }
      ],
      "source": [
        "class ExampleClass:\n",
        "    def __init__(self, attribute1, attribute2):\n",
        "        # Constructor\n",
        "        self.attribute1 = attribute1\n",
        "        self.attribute2 = attribute2\n",
        "\n",
        "    def regular_method(self):\n",
        "        # Regular Method\n",
        "        return f\"Regular Method: {self.attribute1}, {self.attribute2}\"\n",
        "\n",
        "# Creating an object of ExampleClass\n",
        "obj = ExampleClass(attribute1='value1', attribute2='value2')\n",
        "\n",
        "# Constructor is automatically involved during object creation\n",
        "# Regular method must be explicitly called\n",
        "print(obj.regular_method())"
      ]
    },
    {
      "cell_type": "markdown",
      "id": "8340b062-c383-4987-aa9b-0fc919e4a4b3",
      "metadata": {
        "id": "8340b062-c383-4987-aa9b-0fc919e4a4b3"
      },
      "source": [
        "15. Explain the role of the `self` parameter in instance variable initialization within a constructor.\n"
      ]
    },
    {
      "cell_type": "markdown",
      "id": "e977a69f-b6d3-419d-b8c1-6e9c782e2abd",
      "metadata": {
        "id": "e977a69f-b6d3-419d-b8c1-6e9c782e2abd"
      },
      "source": [
        "In Python, the self parameter in a constructor plays a crucial role in instance variable initialization. The self parameter refers to the instance of the class, and it allows you to access and manipulate the attributes (instance variables) of that specific instance.\n",
        "\n",
        "Here's how the self parameter works in the context of a constructor:\n",
        "\n",
        "1.Instance Variable Initialization:\n",
        "\n",
        "Inside the constructor (usually named __init__), you define the instance variables by assigning values to them using self.\n",
        "By using self, you indicate that these variables belong to the instance of the class, making them instance variables.\n",
        "\n",
        "2.Accessing Instance Variables:\n",
        "\n",
        "Throughout the class methods, including the constructor, you use self to access instance variables.\n",
        "This ensures that the correct instance's attribute is being accessed, as each instance has its own set of attributes.\n",
        "\n",
        "3.Instance-Specific Values:\n",
        "\n",
        "The self parameter allows you to set different values for instance variables for each object created from the class.\n",
        "Without self, you wouldn't be able to distinguish between attributes of different instances, leading to confusion.\n",
        "\n",
        "Here's a simple example to illustrate the role of self in instance variable initialization:"
      ]
    },
    {
      "cell_type": "code",
      "execution_count": null,
      "id": "741bdc26-422f-496d-999c-6f4c22ef5cae",
      "metadata": {
        "id": "741bdc26-422f-496d-999c-6f4c22ef5cae",
        "outputId": "d2bde36a-f9b5-43b1-8a32-fa24a9ca4542"
      },
      "outputs": [
        {
          "name": "stdout",
          "output_type": "stream",
          "text": [
            "Object 1 Attributes:\n",
            "Attribute 1: Value A\n",
            "Attribute 2: Value B\n",
            "\n",
            "Object 2 Attributes:\n",
            "Attribute 1: Value X\n",
            "Attribute 2: Value Y\n"
          ]
        }
      ],
      "source": [
        "class MyClass:\n",
        "    def __init__(self, attribute1, attribute2):\n",
        "        # Using self to initialize instance variables\n",
        "        self.attribute1 = attribute1\n",
        "        self.attribute2 = attribute2\n",
        "\n",
        "    def display_attributes(self):\n",
        "        # Accessing instance variables using self\n",
        "        print(f\"Attribute 1: {self.attribute1}\")\n",
        "        print(f\"Attribute 2: {self.attribute2}\")\n",
        "\n",
        "# Creating two objects of MyClass with different attribute values\n",
        "object1 = MyClass(attribute1='Value A', attribute2='Value B')\n",
        "object2 = MyClass(attribute1='Value X', attribute2='Value Y')\n",
        "\n",
        "# Calling the display_attributes method for each object\n",
        "print(\"Object 1 Attributes:\")\n",
        "object1.display_attributes()\n",
        "\n",
        "print(\"\\nObject 2 Attributes:\")\n",
        "object2.display_attributes()\n"
      ]
    },
    {
      "cell_type": "markdown",
      "id": "bcb65371-e9ed-4751-bfb3-bfdd08bf7029",
      "metadata": {
        "id": "bcb65371-e9ed-4751-bfb3-bfdd08bf7029"
      },
      "source": [
        "16. How do you prevent a class from having multiple instances by using constructors in Python? Provide an\n",
        "example."
      ]
    },
    {
      "cell_type": "code",
      "execution_count": null,
      "id": "238c9a62-1ffd-4975-9507-a9ebe42e9ab0",
      "metadata": {
        "id": "238c9a62-1ffd-4975-9507-a9ebe42e9ab0",
        "outputId": "f75e1af1-c043-4e30-ef82-02bc777b6d14"
      },
      "outputs": [
        {
          "name": "stdout",
          "output_type": "stream",
          "text": [
            "True\n"
          ]
        }
      ],
      "source": [
        "class SingletonClass:\n",
        "    # Class variable to store the instance\n",
        "    _instance = None\n",
        "\n",
        "    def __new__(cls):\n",
        "        # Check if an instance already exists\n",
        "        if cls._instance is None:\n",
        "            # If not, create a new instance and store it in the class variable\n",
        "            cls._instance = super(SingletonClass, cls).__new__(cls)\n",
        "        return cls._instance\n",
        "\n",
        "    def __init__(self):\n",
        "        # Initialization logic here (will be executed only once)\n",
        "        if not hasattr(self, '_initialized'):\n",
        "            self._initialized = True\n",
        "            # Other instance variables can be initialized here\n",
        "\n",
        "# Creating instances of SingletonClass\n",
        "singleton_instance1 = SingletonClass()\n",
        "singleton_instance2 = SingletonClass()\n",
        "\n",
        "# Checking if both instances refer to the same object\n",
        "print(singleton_instance1 is singleton_instance2)  # Output: True\n"
      ]
    },
    {
      "cell_type": "markdown",
      "id": "48a49f5f-ce45-45a0-adcf-49456be019a1",
      "metadata": {
        "id": "48a49f5f-ce45-45a0-adcf-49456be019a1"
      },
      "source": [
        "17. Create a Python class called `Student` with a constructor that takes a list of subjects as a parameter and\n",
        "initializes the `subjects` attribute.\n",
        "\n"
      ]
    },
    {
      "cell_type": "code",
      "execution_count": null,
      "id": "033ac267-3f79-48d6-b35a-9f383b0ac090",
      "metadata": {
        "id": "033ac267-3f79-48d6-b35a-9f383b0ac090",
        "outputId": "cdf5bcd8-6b71-42e8-a605-776e8a00771b"
      },
      "outputs": [
        {
          "name": "stdout",
          "output_type": "stream",
          "text": [
            "List of Subjects:\n",
            "Math\n",
            "Physics\n",
            "History\n"
          ]
        }
      ],
      "source": [
        "class Student:\n",
        "    def __init__(self, subjects):\n",
        "        # Constructor initializes the 'subjects' attribute with the provided list\n",
        "        self.subjects = subjects\n",
        "\n",
        "    def display_subjects(self):\n",
        "        # Method to display the list of subjects\n",
        "        print(\"List of Subjects:\")\n",
        "        for subject in self.subjects:\n",
        "            print(subject)\n",
        "\n",
        "# Example usage:\n",
        "# Creating an object of the Student class with a list of subjects\n",
        "student1 = Student(subjects=['Math', 'Physics', 'History'])\n",
        "\n",
        "# Calling the display_subjects method to display the list of subjects\n",
        "student1.display_subjects()\n"
      ]
    },
    {
      "cell_type": "markdown",
      "id": "6dbc6aa0-95d3-42e0-8c38-7aae7591bc87",
      "metadata": {
        "id": "6dbc6aa0-95d3-42e0-8c38-7aae7591bc87"
      },
      "source": [
        "18. What is the purpose of the `__del__` method in Python classes, and how does it relate to constructors?\n",
        "\n"
      ]
    },
    {
      "cell_type": "markdown",
      "id": "0b233b00-9ff5-465e-82a0-42e604e8d789",
      "metadata": {
        "id": "0b233b00-9ff5-465e-82a0-42e604e8d789"
      },
      "source": [
        "The __del__ method in Python classes is a special method that serves as a destructor. It is called when an object is about to be destroyed, typically when it goes out of scope or when the del statement is used to explicitly delete the object. The primary purpose of the __del__ method is to perform cleanup operations or release resources associated with the object before it is removed from memory.\n",
        "\n",
        "The __del__ method is the counterpart to the __init__ method, which is the constructor in Python classes. While the __init__ method is responsible for initializing the object and its attributes when it is created, the __del__ method is responsible for performing cleanup operations just before the object is destroyed.\n",
        "\n",
        "Here's a simple example to illustrate the use of the __del__ method:"
      ]
    },
    {
      "cell_type": "code",
      "execution_count": null,
      "id": "e2e0cc22-c2d6-4796-9e28-2fca57906ca5",
      "metadata": {
        "id": "e2e0cc22-c2d6-4796-9e28-2fca57906ca5",
        "outputId": "97128236-f786-43a3-b580-f5240a4f4324"
      },
      "outputs": [
        {
          "name": "stdout",
          "output_type": "stream",
          "text": [
            "Object1 created\n",
            "Object1 is being destroyed\n"
          ]
        }
      ],
      "source": [
        "class ExampleClass:\n",
        "    def __init__(self, name):\n",
        "        self.name = name\n",
        "        print(f\"{self.name} created\")\n",
        "\n",
        "    def __del__(self):\n",
        "        print(f\"{self.name} is being destroyed\")\n",
        "\n",
        "# Creating an object of ExampleClass\n",
        "obj = ExampleClass(name=\"Object1\")\n",
        "\n",
        "# Explicitly deleting the object using the del statement\n",
        "del obj\n"
      ]
    },
    {
      "cell_type": "markdown",
      "id": "424bc371-e5c1-4562-b6d7-76b503410e00",
      "metadata": {
        "id": "424bc371-e5c1-4562-b6d7-76b503410e00"
      },
      "source": [
        "19. Explain the use of constructor chaining in Python. Provide a practical example."
      ]
    },
    {
      "cell_type": "markdown",
      "id": "555cf546-6d9e-4e12-b1f1-1d2171bedc44",
      "metadata": {
        "id": "555cf546-6d9e-4e12-b1f1-1d2171bedc44"
      },
      "source": [
        "Constructor chaining in Python refers to the concept of calling one constructor from another constructor within the same class or from a base class to a derived class. This allows you to reuse code and avoid duplication when initializing objects. It ensures that common initialization steps are performed regardless of which constructor is called.\n",
        "\n",
        "Here's an example to illustrate constructor chaining:"
      ]
    },
    {
      "cell_type": "code",
      "execution_count": null,
      "id": "b1961618-aa6b-46cf-9fcb-e8553a6fdad0",
      "metadata": {
        "id": "b1961618-aa6b-46cf-9fcb-e8553a6fdad0",
        "outputId": "e162ae47-0a24-4286-f89d-114b562c2569"
      },
      "outputs": [
        {
          "name": "stdout",
          "output_type": "stream",
          "text": [
            "BaseClass constructor called with attribute: BaseValue\n",
            "DerivedClass constructor called with attribute: DerivedValue\n"
          ]
        }
      ],
      "source": [
        "class BaseClass:\n",
        "    def __init__(self, base_attribute):\n",
        "        self.base_attribute = base_attribute\n",
        "        print(f\"BaseClass constructor called with attribute: {self.base_attribute}\")\n",
        "\n",
        "class DerivedClass(BaseClass):\n",
        "    def __init__(self, base_attribute, derived_attribute):\n",
        "        # Call the constructor of the base class\n",
        "        super().__init__(base_attribute)\n",
        "\n",
        "        # Initialize attributes specific to the derived class\n",
        "        self.derived_attribute = derived_attribute\n",
        "        print(f\"DerivedClass constructor called with attribute: {self.derived_attribute}\")\n",
        "\n",
        "# Example usage:\n",
        "# Creating an object of the DerivedClass\n",
        "derived_obj = DerivedClass(base_attribute=\"BaseValue\", derived_attribute=\"DerivedValue\")\n"
      ]
    },
    {
      "cell_type": "markdown",
      "id": "9a183968-3c68-4987-8e57-40c929b873d3",
      "metadata": {
        "id": "9a183968-3c68-4987-8e57-40c929b873d3"
      },
      "source": [
        "20. Create a Python class called `Car` with a default constructor that initializes the `make` and `model`\n",
        "attributes. Provide a method to display car information."
      ]
    },
    {
      "cell_type": "code",
      "execution_count": null,
      "id": "f26ebe86-bd03-4966-92ea-64af8bf777d4",
      "metadata": {
        "id": "f26ebe86-bd03-4966-92ea-64af8bf777d4",
        "outputId": "734d18e4-044c-4811-f386-61cc94599ff6"
      },
      "outputs": [
        {
          "name": "stdout",
          "output_type": "stream",
          "text": [
            "Car Information:\n",
            "Make: Unknown\n",
            "Model: Unknown\n"
          ]
        }
      ],
      "source": [
        "class Car:\n",
        "    def __init__(self, make='Unknown', model='Unknown'):\n",
        "        # Default constructor initializes 'make' and 'model' attributes\n",
        "        self.make = make\n",
        "        self.model = model\n",
        "\n",
        "    def display_info(self):\n",
        "        # Method to display car information\n",
        "        print(f\"Car Information:\\nMake: {self.make}\\nModel: {self.model}\")\n",
        "\n",
        "# Example usage:\n",
        "# Creating an object of Car with default values\n",
        "car1 = Car()\n",
        "\n",
        "# Displaying car information using the display_info method\n",
        "car1.display_info()\n"
      ]
    },
    {
      "cell_type": "markdown",
      "id": "ada34a98-1072-490a-a209-c58e9056db30",
      "metadata": {
        "id": "ada34a98-1072-490a-a209-c58e9056db30"
      },
      "source": [
        "# Inheritance:"
      ]
    },
    {
      "cell_type": "markdown",
      "id": "87771fc4-8cf4-4aeb-afe5-595e937ac305",
      "metadata": {
        "id": "87771fc4-8cf4-4aeb-afe5-595e937ac305"
      },
      "source": [
        "1. What is inheritance in Python? Explain its significance in object-oriented programming."
      ]
    },
    {
      "cell_type": "markdown",
      "id": "527f761d-5648-4f59-a04c-3d1b11d2cae1",
      "metadata": {
        "id": "527f761d-5648-4f59-a04c-3d1b11d2cae1"
      },
      "source": [
        "Inheritance in Python is a mechanism that allows a new class, called the derived class or child class, to inherit attributes and methods from an existing class, known as the base class or parent class. The derived class inherits the properties of the base class, promoting code reuse and establishing an \"is-a\" relationship between the two classes.\n",
        "\n",
        "Significance of Inheritance in Object-Oriented Programming (OOP):\n",
        "\n",
        "1.Code Reusability:\n",
        "\n",
        "Inheritance promotes code reusability by allowing the derived class to inherit the attributes and methods of the base class.\n",
        "Common functionality defined in the base class can be reused in multiple derived classes.\n",
        "\n",
        "2.Hierarchy and Organization:\n",
        "\n",
        "Inheritance establishes a hierarchy among classes, making it easier to organize and understand the relationships between different classes in a program.\n",
        "The base class represents a more general concept, while derived classes specialize or extend that concept.\n",
        "\n",
        "3.Maintenance and Updates:\n",
        "\n",
        "Changes made to the base class automatically reflect in all derived classes, reducing redundancy and making it easier to maintain and update the code.\n",
        "This ensures that modifications or improvements to shared functionality are applied uniformly across related classes.\n",
        "\n",
        "4.Polymorphism:\n",
        "\n",
        "Inheritance is closely related to polymorphism, a fundamental OOP concept.\n",
        "Polymorphism allows objects of derived classes to be treated as objects of their base class, providing flexibility and extensibility in the code.\n",
        "\n",
        "5.Encapsulation:\n",
        "\n",
        "Inheritance supports encapsulation by allowing the base class to encapsulate common functionality that can be shared with derived classes.\n",
        "Changes to the internal implementation of the base class do not affect the external interfaces of derived classes."
      ]
    },
    {
      "cell_type": "code",
      "execution_count": null,
      "id": "1f72e5f5-4964-4b6c-9461-c2a85bb6a24e",
      "metadata": {
        "id": "1f72e5f5-4964-4b6c-9461-c2a85bb6a24e",
        "outputId": "c022da9c-178d-4806-a8bc-97a258a387dc"
      },
      "outputs": [
        {
          "name": "stdout",
          "output_type": "stream",
          "text": [
            "woof!\n",
            "Meow!\n"
          ]
        }
      ],
      "source": [
        "class Animal:\n",
        "    def __init__(self, name):\n",
        "        self.name = name\n",
        "\n",
        "    def make_sound(Self):\n",
        "        pass # Base class method, to be overridden by derived classed\n",
        "\n",
        "class Dog(Animal):\n",
        "    def make_sound(self):\n",
        "        return \"woof!\"\n",
        "\n",
        "class Cat(Animal):\n",
        "    def make_sound(self):\n",
        "        return \"Meow!\"\n",
        "\n",
        "# Example usage:\n",
        "dog_instance = Dog(name=\"Buddy\")\n",
        "cat_instance = Cat(name=\"Whiskers\")\n",
        "\n",
        "print(dog_instance.make_sound()) # Output: Woof!\n",
        "print(cat_instance.make_sound()) # Output: Meow!"
      ]
    },
    {
      "cell_type": "markdown",
      "id": "dbaeeb0e-170f-41a6-9793-f95fa41e3b53",
      "metadata": {
        "id": "dbaeeb0e-170f-41a6-9793-f95fa41e3b53"
      },
      "source": [
        "2. Differentiate between single inheritance and multiple inheritance in Python. Provide examples for each.\n"
      ]
    },
    {
      "cell_type": "markdown",
      "id": "870ed58f-59b4-418f-95a8-79bdc4328aa9",
      "metadata": {
        "id": "870ed58f-59b4-418f-95a8-79bdc4328aa9"
      },
      "source": [
        "In single inheritance, a class can inherit from only one base class. It involves a linear hierarchy, where a derived class extends the functionality of a single base class.\n",
        "\n",
        "Example of single inheritance:"
      ]
    },
    {
      "cell_type": "code",
      "execution_count": null,
      "id": "f123c256-f08e-4c77-aada-5bd464217afb",
      "metadata": {
        "id": "f123c256-f08e-4c77-aada-5bd464217afb",
        "outputId": "41763640-2485-45e0-d992-789d29f18f58"
      },
      "outputs": [
        {
          "name": "stdout",
          "output_type": "stream",
          "text": [
            "Generic animal sound\n",
            "Woof!\n"
          ]
        }
      ],
      "source": [
        "class Animal:\n",
        "    def speak(self):\n",
        "        return \"Generic animal sound\"\n",
        "\n",
        "class Dog(Animal):\n",
        "    def bark(self):\n",
        "        return \"Woof!\"\n",
        "\n",
        "# Example usage:\n",
        "dog_instance = Dog()\n",
        "print(dog_instance.speak()) # Output: Generic animal sound\n",
        "print(dog_instance.bark()) # Output: Woof!\n"
      ]
    },
    {
      "cell_type": "markdown",
      "id": "a76b6215-513b-4d60-a034-914e6dee058a",
      "metadata": {
        "id": "a76b6215-513b-4d60-a034-914e6dee058a"
      },
      "source": [
        "Multiple Inheritance:\n",
        "\n",
        "In multiple inheritance, a class can inherit from more than one base class. This allows the derived class to inherit attributes and methods from multiple sources.\n",
        "\n",
        "Example of multiple inheritance:"
      ]
    },
    {
      "cell_type": "code",
      "execution_count": null,
      "id": "96fa97b4-cc93-4cac-9d12-3bbe6a3dbf85",
      "metadata": {
        "id": "96fa97b4-cc93-4cac-9d12-3bbe6a3dbf85",
        "outputId": "3f2a75e6-5de0-448d-84f1-f7ae809d2942"
      },
      "outputs": [
        {
          "name": "stdout",
          "output_type": "stream",
          "text": [
            "Tweet tweet\n",
            "Generic mammal sound\n",
            "I can fly!\n"
          ]
        }
      ],
      "source": [
        "class Bird:\n",
        "    def chirp(self):\n",
        "        return \"Tweet tweet\"\n",
        "\n",
        "class Mammal:\n",
        "    def make_sound(self):\n",
        "        return \"Generic mammal sound\"\n",
        "\n",
        "class Bat(Bird, Mammal):\n",
        "    def fly(self):\n",
        "        return \"I can fly!\"\n",
        "\n",
        "# Example usage:\n",
        "bat_instance = Bat()\n",
        "print(bat_instance.chirp()) # Output: Tweet tweet\n",
        "print(bat_instance.make_sound()) # Output: Generic mammal sound\n",
        "print(bat_instance.fly()) # Output: I can fly!"
      ]
    },
    {
      "cell_type": "markdown",
      "id": "e1dcca0f-87be-4b3d-8581-6c9610466352",
      "metadata": {
        "id": "e1dcca0f-87be-4b3d-8581-6c9610466352"
      },
      "source": [
        "3. Create a Python class called `Vehicle` with attributes `color` and `speed`. Then, create a child class called\n",
        "`Car` that inherits from `Vehicle` and adds a `brand` attribute. Provide an example of creating a `Car` object.\n"
      ]
    },
    {
      "cell_type": "code",
      "execution_count": null,
      "id": "032e2452-9954-4388-9efb-ee5d3f3632de",
      "metadata": {
        "id": "032e2452-9954-4388-9efb-ee5d3f3632de",
        "outputId": "7b01b15e-d25b-401f-d3e4-c1713a73065f"
      },
      "outputs": [
        {
          "name": "stdout",
          "output_type": "stream",
          "text": [
            "Brand: Toyota, Color: Blue, Speed: 120 km/h\n"
          ]
        }
      ],
      "source": [
        "class Vehicle:\n",
        "    def __init__(self, color, speed):\n",
        "        self.color = color\n",
        "        self.speed = speed\n",
        "\n",
        "    def display_info(self):\n",
        "        return f\"Color: {self.color}, Speed: {self.speed} km/h\"\n",
        "\n",
        "class Car(Vehicle):\n",
        "    def __init__(self, color, speed, brand):\n",
        "        # Call the constructor of the base class (Vehicle)\n",
        "        super().__init__(color, speed)\n",
        "        self.brand = brand\n",
        "\n",
        "    def display_info(self):\n",
        "        # Override the display_info method to include the brand\n",
        "        return f\"Brand: {self.brand}, {super().display_info()}\"\n",
        "\n",
        "# Example usage:\n",
        "car_instance = Car(color=\"Blue\", speed=120, brand=\"Toyota\")\n",
        "\n",
        "# Displaying car information using the overridden display_info method\n",
        "print(car_instance.display_info())"
      ]
    },
    {
      "cell_type": "markdown",
      "id": "b225f747-5cc5-4153-892d-e435dd1338e5",
      "metadata": {
        "id": "b225f747-5cc5-4153-892d-e435dd1338e5"
      },
      "source": [
        "4. Explain the concept of method overriding in inheritance. Provide a practical example."
      ]
    },
    {
      "cell_type": "markdown",
      "id": "45164ab9-e197-4050-a53d-e47d4c44d530",
      "metadata": {
        "id": "45164ab9-e197-4050-a53d-e47d4c44d530"
      },
      "source": [
        "Method overriding in inheritance refers to the ability of a derived class to provide a specific implementation for a method that is already defined in its base class. When a method in the derived class has the same name and parameters as a method in the base class, the method in the derived class overrides the method in the base class.\n",
        "\n",
        "Key points about method overriding:\n",
        "\n",
        "Same Method Signature: The overriding method in the derived class must have the same method signature (name and parameters) as the method in the base class.\n",
        "\n",
        "Override Annotation (Optional): In Python, there is no explicit \"override\" keyword or annotation. The method in the derived class is considered an override if it has the same name and parameters as the method in the base class.\n",
        "\n",
        "Inheritance Relationship: Method overriding is applicable only in an inheritance relationship between classes.\n",
        "\n",
        "Here's a practical example:"
      ]
    },
    {
      "cell_type": "code",
      "execution_count": null,
      "id": "9e85ef3a-aee0-4d70-8d48-9944453b52db",
      "metadata": {
        "id": "9e85ef3a-aee0-4d70-8d48-9944453b52db",
        "outputId": "02e37c3a-054c-4b62-d7a0-b53363d27811"
      },
      "outputs": [
        {
          "name": "stdout",
          "output_type": "stream",
          "text": [
            "Woof!\n",
            "Meow!\n"
          ]
        }
      ],
      "source": [
        "class Animal:\n",
        "    def make_sound(self):\n",
        "        return \"Generic animal sound\"\n",
        "\n",
        "class Dog(Animal):\n",
        "    def make_sound(self):\n",
        "        return \"Woof!\"\n",
        "\n",
        "class Cat(Animal):\n",
        "    def make_sound(self):\n",
        "        return \"Meow!\"\n",
        "\n",
        "# Example usage:\n",
        "dog_instance = Dog()\n",
        "cat_instance = Cat()\n",
        "\n",
        "# Using overridden methods\n",
        "print(dog_instance.make_sound())  # Output: Woof!\n",
        "print(cat_instance.make_sound())  # Output: Meow!\n"
      ]
    },
    {
      "cell_type": "markdown",
      "id": "cd147d03-e36c-4fb5-9547-98ff7d03cef0",
      "metadata": {
        "id": "cd147d03-e36c-4fb5-9547-98ff7d03cef0"
      },
      "source": [
        "5. How can you access the methods and attributes of a parent class from a child class in Python? Give an\n",
        "example."
      ]
    },
    {
      "cell_type": "code",
      "execution_count": null,
      "id": "26cbc066-af99-437c-9efc-3f02082823a1",
      "metadata": {
        "id": "26cbc066-af99-437c-9efc-3f02082823a1"
      },
      "outputs": [],
      "source": [
        "class Parent:\n",
        "    def __init__(self, name):\n",
        "        self.name = name\n",
        "\n",
        "    def display_info(self):\n",
        "        return f\"Parent class: {self.name}\"\n",
        "\n",
        "class Child(Parent):\n",
        "    def __init__(self, name, child_name):\n",
        "        # Call the constructor of the parent class using super()\n",
        "        super().__init__(name)\n",
        "        self.child_name = child_name\n",
        "\n",
        "    def display_info(self):\n",
        "        # Access the display_info method of the parent class using super()\n",
        "        parent_info = super().display_info()\n",
        "        return f\"Child class: {self.child_name}, {parent_info}\"\n",
        "\n",
        "# Example usage:\n",
        "child_instance = Child(name=\"ParentName\", child_name=\"ChildName\")\n",
        "\n",
        "# Accessing the overridden display_info method in the Child class\n",
        "print(child_instance.display_info())\n"
      ]
    },
    {
      "cell_type": "markdown",
      "id": "50b27394-075b-4ddf-b191-c1ffe9a12141",
      "metadata": {
        "id": "50b27394-075b-4ddf-b191-c1ffe9a12141"
      },
      "source": [
        "6. Discuss the use of the `super()` function in Python inheritance. When and why is it used? Provide an\n",
        "example.\n",
        "\n"
      ]
    },
    {
      "cell_type": "markdown",
      "id": "7a17fdb8-ba32-4345-ad6b-8bb709773ec6",
      "metadata": {
        "id": "7a17fdb8-ba32-4345-ad6b-8bb709773ec6"
      },
      "source": [
        "The super() function in Python is used to refer to the superclass or parent class in a class hierarchy. It provides a way to access and invoke methods and attributes of the parent class from within a derived class. The primary use case for super() is to facilitate method overriding and ensure proper inheritance and cooperation between the base and derived classes.\n",
        "\n",
        "Use Cases of super():\n",
        "\n",
        "Accessing Parent Class Methods:\n",
        "\n",
        "Allows a derived class to invoke methods of the parent class, providing a way to extend or override the behavior of the parent class's methods.\n",
        "\n",
        "Initializing Parent Class Attributes:\n",
        "\n",
        "Useful for calling the constructor of the parent class in the constructor of the derived class. This ensures proper initialization of attributes defined in the parent class.\n",
        "\n",
        "Collaboration in Multiple Inheritance:\n",
        "\n",
        "Essential in scenarios involving multiple inheritance, where a class has multiple parent classes. super() helps resolve the method resolution order (MRO) and ensures proper delegation of method calls.\n",
        "\n",
        "Example:"
      ]
    },
    {
      "cell_type": "code",
      "execution_count": null,
      "id": "bd1b3840-23ed-47eb-b23e-446fb8ae1160",
      "metadata": {
        "id": "bd1b3840-23ed-47eb-b23e-446fb8ae1160",
        "outputId": "f55e921c-b6ae-4e35-df0e-6255a983b7f5"
      },
      "outputs": [
        {
          "name": "stdout",
          "output_type": "stream",
          "text": [
            "Generic animal sound Woof!\n",
            "Dog's name: Buddy\n"
          ]
        }
      ],
      "source": [
        "class Animal:\n",
        "    def __init__(self, name):\n",
        "        self.name = name\n",
        "\n",
        "    def make_sound(self):\n",
        "        return \"Generic animal sound\"\n",
        "\n",
        "class Dog(Animal):\n",
        "    def __init__(self, name, breed):\n",
        "        # Call the constructor of the parent class using super()\n",
        "        super().__init__(name)\n",
        "        self.breed = breed\n",
        "\n",
        "    def make_sound(self):\n",
        "        # Access the make_sound method of the parent class using super()\n",
        "        parent_sound = super().make_sound()\n",
        "        return f\"{parent_sound} Woof!\"\n",
        "\n",
        "# Example usage:\n",
        "dog_instance = Dog(name=\"Buddy\", breed=\"Golden Retriever\")\n",
        "\n",
        "# Accessing methods and attributes using super()\n",
        "print(dog_instance.make_sound())  # Output: Generic animal sound Woof!\n",
        "print(f\"Dog's name: {dog_instance.name}\")\n"
      ]
    },
    {
      "cell_type": "markdown",
      "id": "ee1dd53e-2e23-414c-94a2-da07eed3b266",
      "metadata": {
        "id": "ee1dd53e-2e23-414c-94a2-da07eed3b266"
      },
      "source": [
        "7. Create a Python class called `Animal` with a method `speak()`. Then, create child classes `Dog` and `Cat`"
      ]
    },
    {
      "cell_type": "code",
      "execution_count": null,
      "id": "6640085d-c2f4-45fb-9abe-474d35b7537a",
      "metadata": {
        "id": "6640085d-c2f4-45fb-9abe-474d35b7537a",
        "outputId": "db00f3a6-53c4-4706-aabc-3bb7221f037e"
      },
      "outputs": [
        {
          "name": "stdout",
          "output_type": "stream",
          "text": [
            "Woof!\n",
            "Meow!\n"
          ]
        }
      ],
      "source": [
        "class Animal:\n",
        "    def speak(self):\n",
        "        return \"Generic animal sound\"\n",
        "\n",
        "class Dog(Animal):\n",
        "    def speak(self):\n",
        "        return \"Woof!\"\n",
        "\n",
        "class Cat(Animal):\n",
        "    def speak(self):\n",
        "        return \"Meow!\"\n",
        "\n",
        "# Example usage:\n",
        "dog_instance = Dog()\n",
        "cat_instance = Cat()\n",
        "\n",
        "# Calling the speak method on instances of Dog and Cat\n",
        "print(dog_instance.speak())  # Output: Woof!\n",
        "print(cat_instance.speak())  # Output: Meow!\n"
      ]
    },
    {
      "cell_type": "markdown",
      "id": "3a756a04-e839-4392-80e1-bf1960520189",
      "metadata": {
        "id": "3a756a04-e839-4392-80e1-bf1960520189"
      },
      "source": [
        "8. Explain the role of the `isinstance()` function in Python and how it relates to inheritance."
      ]
    },
    {
      "cell_type": "markdown",
      "id": "666a3a06-a063-4166-9bd4-ff421ab79767",
      "metadata": {
        "id": "666a3a06-a063-4166-9bd4-ff421ab79767"
      },
      "source": [
        "The isinstance() function in Python is used to check if an object is an instance of a particular class or a tuple of classes. It returns True if the object is an instance of any of the specified classes; otherwise, it returns False. The isinstance() function is often used to perform type-checking and determine the class hierarchy relationships between objects.\n",
        "\n",
        "Syntax:\n",
        "isinstance(object, classinfo)\n",
        "\n",
        "object: The object to be checked.\n",
        "classinfo: A class or a tuple of classes.\n",
        "\n",
        "Role in Inheritance:\n",
        "\n",
        "Checking Object Type:\n",
        "\n",
        "It can be used to check if an object belongs to a specific class or any of its subclasses. This is particularly useful in scenarios involving inheritance.\n",
        "\n",
        "Polymorphism:\n",
        "\n",
        "isinstance() facilitates polymorphism by allowing code to handle objects based on their common base class, treating objects of derived classes as instances of the base class.\n",
        "\n",
        "Conditional Execution:\n",
        "\n",
        "It is often used in conditional statements to execute specific code blocks based on the type of the object.\n",
        "\n",
        "Example:"
      ]
    },
    {
      "cell_type": "code",
      "execution_count": null,
      "id": "8de3130b-8c7f-4564-bf9c-078cd6d4e9db",
      "metadata": {
        "id": "8de3130b-8c7f-4564-bf9c-078cd6d4e9db",
        "outputId": "6ff42048-45ef-48ea-ac0d-25c68f7a65d2"
      },
      "outputs": [
        {
          "name": "stdout",
          "output_type": "stream",
          "text": [
            "True\n",
            "True\n",
            "True\n",
            "True\n",
            "True\n",
            "True\n"
          ]
        }
      ],
      "source": [
        "class Animal:\n",
        "    pass\n",
        "\n",
        "class Dog(Animal):\n",
        "    pass\n",
        "\n",
        "class Cat(Animal):\n",
        "    pass\n",
        "\n",
        "# Example usage:\n",
        "dog_instance = Dog()\n",
        "cat_instance = Cat()\n",
        "\n",
        "# Check if objects are instances of specific classes\n",
        "print(isinstance(dog_instance, Dog))  # Output: True\n",
        "print(isinstance(dog_instance, Animal))  # Output: True\n",
        "\n",
        "print(isinstance(cat_instance, Cat))  # Output: True\n",
        "print(isinstance(cat_instance, Animal))  # Output: True\n",
        "\n",
        "# Check if objects are instances of a tuple of classes\n",
        "print(isinstance(dog_instance, (Dog, Cat)))  # Output: False\n",
        "print(isinstance(cat_instance, (Dog, Cat)))  # Output: True\n"
      ]
    },
    {
      "cell_type": "markdown",
      "id": "ba806288-db45-4105-9bf7-1e4178f642ee",
      "metadata": {
        "id": "ba806288-db45-4105-9bf7-1e4178f642ee"
      },
      "source": [
        "9. What is the purpose of the `issubclass()` function in Python? Provide an example.\n",
        "\n"
      ]
    },
    {
      "cell_type": "markdown",
      "id": "b4066ee2-22b1-4a20-92db-ba74de782cd2",
      "metadata": {
        "id": "b4066ee2-22b1-4a20-92db-ba74de782cd2"
      },
      "source": [
        "The issubclass() function in Python is used to check if a class is a subclass of another class. It returns True if the first class is a subclass of the second class, or if they are the same class; otherwise, it returns False. The issubclass() function is useful for checking the inheritance relationship between two classes.\n",
        "\n",
        "Syntax:\n",
        "issubclass(class, classinfo)\n",
        "\n",
        "class: The class to be checked.\n",
        "classinfo: A class or a tuple of classes.\n",
        "\n",
        "Purpose:\n",
        "\n",
        "    Checking Subclass Relationship:\n",
        "\n",
        "It is used to determine if a class is a direct or indirect subclass of another class.\n",
        "\n",
        "Conditional Execution:\n",
        "\n",
        "It is often used in conditional statements to execute specific code blocks based on the subclass relationship.\n",
        "\n",
        "Example:"
      ]
    },
    {
      "cell_type": "code",
      "execution_count": null,
      "id": "0514e9a7-fe2d-47ee-b057-9d64b3820032",
      "metadata": {
        "id": "0514e9a7-fe2d-47ee-b057-9d64b3820032",
        "outputId": "d2d3ca83-675f-4348-c47e-8a270a9da0f7"
      },
      "outputs": [
        {
          "name": "stdout",
          "output_type": "stream",
          "text": [
            "True\n",
            "True\n",
            "True\n",
            "False\n",
            "True\n"
          ]
        }
      ],
      "source": [
        "class Animal:\n",
        "    pass\n",
        "\n",
        "class Mammal(Animal):\n",
        "    pass\n",
        "\n",
        "class Dog(Mammal):\n",
        "    pass\n",
        "\n",
        "# Example usage:\n",
        "# Check if Dog is a subclass of Animal\n",
        "print(issubclass(Dog, Animal))  # Output: True\n",
        "\n",
        "# Check if Mammal is a subclass of Animal\n",
        "print(issubclass(Mammal, Animal))  # Output: True\n",
        "\n",
        "# Check if Dog is a subclass of Mammal\n",
        "print(issubclass(Dog, Mammal))  # Output: True\n",
        "\n",
        "# Check if Animal is a subclass of Dog (returns False since it's not a subclass)\n",
        "print(issubclass(Animal, Dog))  # Output: False\n",
        "\n",
        "# Check if Mammal is a subclass of (Animal, object) using a tuple\n",
        "print(issubclass(Mammal, (Animal, object)))  # Output: True\n"
      ]
    },
    {
      "cell_type": "markdown",
      "id": "ece98e09-edbd-4661-bd88-8f68e6dfb882",
      "metadata": {
        "id": "ece98e09-edbd-4661-bd88-8f68e6dfb882"
      },
      "source": [
        "10. Discuss the concept of constructor inheritance in Python. How are constructors inherited in child classes?"
      ]
    },
    {
      "cell_type": "markdown",
      "id": "6f94826a-ed44-476b-bb4a-f99a2926f934",
      "metadata": {
        "id": "6f94826a-ed44-476b-bb4a-f99a2926f934"
      },
      "source": [
        "In Python, constructors are inherited in child classes through the process of constructor inheritance. When a child class is created by inheriting from a parent class, it inherits not only the methods and attributes of the parent class but also its constructor. The child class can have its own constructor, and it may choose to call the constructor of the parent class using the super() function.\n",
        "\n",
        "Constructor Inheritance Process:\n",
        "\n",
        "Inheritance:\n",
        "\n",
        "When a child class is derived from a parent class, it automatically inherits the attributes and methods, including the constructor, from the parent class.\n",
        "\n",
        "Defining a Constructor in the Child Class:\n",
        "\n",
        "The child class can have its own constructor with additional attributes or custom behavior. If the child class defines its own constructor, it may need to explicitly call the constructor of the parent class to ensure proper initialization of inherited attributes.\n",
        "\n",
        "Calling the Parent Class Constructor Using super():\n",
        "\n",
        "Inside the child class constructor, the super() function is used to call the constructor of the parent class. This ensures that the initialization code in the parent class constructor is executed.\n",
        "\n",
        "Example:"
      ]
    },
    {
      "cell_type": "code",
      "execution_count": null,
      "id": "47bbda53-0fdb-4039-81b8-776ed633d658",
      "metadata": {
        "id": "47bbda53-0fdb-4039-81b8-776ed633d658",
        "outputId": "10ed1c41-900a-4ca7-c2fe-cf4a891081aa"
      },
      "outputs": [
        {
          "name": "stdout",
          "output_type": "stream",
          "text": [
            "Parent constructor called\n",
            "Child constructor called\n"
          ]
        }
      ],
      "source": [
        "class Parent:\n",
        "    def __init__(self, parent_attribute):\n",
        "        self.parent_attribute = parent_attribute\n",
        "        print(\"Parent constructor called\")\n",
        "\n",
        "class Child(Parent):\n",
        "    def __init__(self, parent_attribute, child_attribute):\n",
        "        # Call the constructor of the parent class using super()\n",
        "        super().__init__(parent_attribute)\n",
        "        self.child_attribute = child_attribute\n",
        "        print(\"Child constructor called\")\n",
        "\n",
        "# Example usage:\n",
        "child_instance = Child(parent_attribute=\"Parent Value\", child_attribute=\"Child Value\")"
      ]
    },
    {
      "cell_type": "markdown",
      "id": "91c62c0b-a121-48fd-ae30-9feec434e7a4",
      "metadata": {
        "id": "91c62c0b-a121-48fd-ae30-9feec434e7a4"
      },
      "source": [
        "11. Create a Python class called `Shape` with a method `area()` that calculates the area of a shape. Then, create child classes `Circle` and `Rectangle` that inherit from `Shape` and implement the `area()` method\n",
        "accordingly. Provide an example.\n"
      ]
    },
    {
      "cell_type": "code",
      "execution_count": null,
      "id": "2c197f66-3879-4f97-bd52-e466e6d71c86",
      "metadata": {
        "id": "2c197f66-3879-4f97-bd52-e466e6d71c86",
        "outputId": "7792bfa9-aae3-44c5-9a13-e5e2f9e943f2"
      },
      "outputs": [
        {
          "name": "stdout",
          "output_type": "stream",
          "text": [
            "Area of the Circle: 78.54\n",
            "Area of the Rectangle: 12\n"
          ]
        }
      ],
      "source": [
        "import math\n",
        "\n",
        "class Shape:\n",
        "    def area(self):\n",
        "        # Placeholder method to be overridden by child classes\n",
        "        pass\n",
        "\n",
        "class Circle(Shape):\n",
        "    def __init__(self, radius):\n",
        "        self.radius = radius\n",
        "\n",
        "    def area(self):\n",
        "        return math.pi * self.radius**2\n",
        "\n",
        "class Rectangle(Shape):\n",
        "    def __init__(self, length, width):\n",
        "        self.length = length\n",
        "        self.width = width\n",
        "\n",
        "    def area(self):\n",
        "        return self.length * self.width\n",
        "\n",
        "# Example usage:\n",
        "circle_instance = Circle(radius=5)\n",
        "rectangle_instance = Rectangle(length=4, width=3)\n",
        "\n",
        "# Calculate and display the area\n",
        "print(f\"Area of the Circle: {circle_instance.area():.2f}\")\n",
        "print(f\"Area of the Rectangle: {rectangle_instance.area()}\")"
      ]
    },
    {
      "cell_type": "markdown",
      "id": "5a5e821a-234d-4dff-a83f-163874020e7a",
      "metadata": {
        "id": "5a5e821a-234d-4dff-a83f-163874020e7a"
      },
      "source": [
        "12. Explain the use of abstract base classes (ABCs) in Python and how they relate to inheritance. Provide an\n",
        "example using the `abc` module.\n"
      ]
    },
    {
      "cell_type": "markdown",
      "id": "83690983-c649-41a5-9a5b-6b1aeecc6507",
      "metadata": {
        "id": "83690983-c649-41a5-9a5b-6b1aeecc6507"
      },
      "source": [
        "Abstract Base Classes (ABCs) in Python provide a way to define abstract classes and abstract methods. An abstract class is a class that cannot be instantiated, and it typically serves as a blueprint for other classes. Abstract methods declared in an abstract class must be implemented by its concrete (non-abstract) subclasses. The abc module in Python is used to work with abstract base classes.\n",
        "\n",
        "\n",
        "Example using abc module:"
      ]
    },
    {
      "cell_type": "code",
      "execution_count": null,
      "id": "1cd14826-fbb2-40fb-9bd1-70dfd91a9952",
      "metadata": {
        "id": "1cd14826-fbb2-40fb-9bd1-70dfd91a9952",
        "outputId": "e54bf86b-e39c-4c3f-d6bc-5e834956f88f"
      },
      "outputs": [
        {
          "name": "stdout",
          "output_type": "stream",
          "text": [
            "Area of the Circle: 78.50\n",
            "Area of the Rectangle: 12\n"
          ]
        }
      ],
      "source": [
        "from abc import ABC, abstractmethod\n",
        "\n",
        "class Shape(ABC):\n",
        "    @abstractmethod\n",
        "    def area(self):\n",
        "        pass\n",
        "\n",
        "class Circle(Shape):\n",
        "    def __init__(self, radius):\n",
        "        self.radius = radius\n",
        "\n",
        "    def area(self):\n",
        "        return 3.14 * self.radius**2\n",
        "\n",
        "class Rectangle(Shape):\n",
        "    def __init__(self, length, width):\n",
        "        self.length = length\n",
        "        self.width = width\n",
        "\n",
        "    def area(self):\n",
        "        return self.length * self.width\n",
        "\n",
        "# Example usage:\n",
        "# Uncommenting the line below would result in a TypeError as Shape is an abstract class\n",
        "# shape_instance = Shape()\n",
        "\n",
        "circle_instance = Circle(radius=5)\n",
        "rectangle_instance = Rectangle(length=4, width=3)\n",
        "\n",
        "# Calculate and display the areas\n",
        "print(f\"Area of the Circle: {circle_instance.area():.2f}\")\n",
        "print(f\"Area of the Rectangle: {rectangle_instance.area()}\")\n",
        "\n",
        ""
      ]
    },
    {
      "cell_type": "markdown",
      "id": "1dd62508-1f67-4fa6-a9e2-1bf195465fc1",
      "metadata": {
        "id": "1dd62508-1f67-4fa6-a9e2-1bf195465fc1"
      },
      "source": [
        "13. How can you prevent a child class from modifying certain attributes or methods inherited from a parent\n",
        "class in Python?"
      ]
    },
    {
      "cell_type": "code",
      "execution_count": null,
      "id": "8e4bcc74-18db-45ba-bc19-0e59f0c0b4c0",
      "metadata": {
        "id": "8e4bcc74-18db-45ba-bc19-0e59f0c0b4c0",
        "outputId": "06b79875-d998-4b57-dd6a-580664da9181"
      },
      "outputs": [
        {
          "name": "stdout",
          "output_type": "stream",
          "text": [
            "Original _protected_attribute: I am protected\n",
            "Child modifying _protected_attribute: I am protected\n"
          ]
        }
      ],
      "source": [
        "class Parent:\n",
        "    def __init__(self):\n",
        "        self._protected_attribute = \"I am protected\"\n",
        "        self._private_attribute = \"I am private\"\n",
        "\n",
        "class Child(Parent):\n",
        "    def modify_attributes(self):\n",
        "        # Direct access to _protected_attribute is allowed\n",
        "        print(f\"Child modifying _protected_attribute: {self._protected_attribute}\")\n",
        "\n",
        "        # Attempting to modify __private_attribute will result in an AttributeError\n",
        "        # Uncommenting the line below would result in an error\n",
        "        # self.__private_attribute = \"Trying to modify\"\n",
        "\n",
        "# Example usage:\n",
        "parent_instance = Parent()\n",
        "child_instance = Child()\n",
        "\n",
        "# Accessing and modifying _protected_attribute is allowed\n",
        "print(f\"Original _protected_attribute: {parent_instance._protected_attribute}\")\n",
        "child_instance.modify_attributes()\n",
        "\n",
        "# Accessing __private_attribute from outside the class result in aa AttributeError\n",
        "# Uncommenting the line below woulf result in an error\n",
        "# print(parent_instance.__private_attribute)"
      ]
    },
    {
      "cell_type": "markdown",
      "id": "2b25b5f1-7ebc-40a0-a989-86d71edb364b",
      "metadata": {
        "id": "2b25b5f1-7ebc-40a0-a989-86d71edb364b"
      },
      "source": [
        "14. Create a Python class called `Employee` with attributes `name` and `salary`. Then, create a child class\n",
        "`Manager` that inherits from `Employee` and adds an attribute `department`. Provide an example.\n"
      ]
    },
    {
      "cell_type": "code",
      "execution_count": null,
      "id": "6cf2e7ce-5096-41eb-ade2-8b7a76fd0b9a",
      "metadata": {
        "id": "6cf2e7ce-5096-41eb-ade2-8b7a76fd0b9a",
        "outputId": "b41378a3-d48f-414a-d283-b9550eba107d"
      },
      "outputs": [
        {
          "name": "stdout",
          "output_type": "stream",
          "text": [
            "Employee Details:\n",
            "Name: John Doe, salary: 50000\n",
            "\n",
            "Manager Details:\n",
            "Name: Jane Smith, Salary: 70000, Department: Human Resources\n"
          ]
        }
      ],
      "source": [
        "class Employee:\n",
        "    def __init__(self, name, salary):\n",
        "        self.name = name\n",
        "        self.salary = salary\n",
        "\n",
        "    def display_details(self):\n",
        "        print(f\"Name: {self.name}, salary: {self.salary}\")\n",
        "\n",
        "class Manager(Employee):\n",
        "    def __init__(self, name, salary, department):\n",
        "        # Call the constructor of the parent class using super()\n",
        "        super().__init__(name, salary)\n",
        "        self.department = department\n",
        "\n",
        "    def display_details(self):\n",
        "        # Override the display_details method to include department\n",
        "        print(f\"Name: {self.name}, Salary: {self.salary}, Department: {self.department}\")\n",
        "\n",
        "# Example usage:\n",
        "employee_instance = Employee(name=\"John Doe\", salary=50000)\n",
        "manager_instance = Manager(name=\"Jane Smith\", salary=70000, department=\"Human Resources\")\n",
        "\n",
        "# Display details for both Employee and Manager instance\n",
        "print(\"Employee Details:\")\n",
        "employee_instance.display_details()\n",
        "\n",
        "print(\"\\nManager Details:\")\n",
        "manager_instance.display_details()"
      ]
    },
    {
      "cell_type": "markdown",
      "id": "41fbf75f-99f8-4d25-93d4-6b86a9daceb6",
      "metadata": {
        "id": "41fbf75f-99f8-4d25-93d4-6b86a9daceb6"
      },
      "source": [
        "15. Discuss the concept of method overloading in Python inheritance. How does it differ from method\n",
        "overriding?\n"
      ]
    },
    {
      "cell_type": "markdown",
      "id": "89124d36-7bad-4a0c-8b31-469980a3d6f9",
      "metadata": {
        "id": "89124d36-7bad-4a0c-8b31-469980a3d6f9"
      },
      "source": [
        "In Python, method overloading refers to the ability to define multiple methods with the same name in the same class, but with different parameters. However, unlike some other languages like Java or C++, Python does not support traditional method overloading where you can have multiple methods with the same name but different parameter types or numbers. In Python, the last method definition with a given name in a class will override any previous definitions.\n",
        "\n",
        "\n",
        "Here's an example to illustrate method overloading in Python:"
      ]
    },
    {
      "cell_type": "code",
      "execution_count": null,
      "id": "9d9029fb-3a22-4a2a-a7a8-30426a2a3d1c",
      "metadata": {
        "id": "9d9029fb-3a22-4a2a-a7a8-30426a2a3d1c",
        "outputId": "12a94c7b-bf9a-4c77-eb86-49bb8986c996"
      },
      "outputs": [
        {
          "name": "stdout",
          "output_type": "stream",
          "text": [
            "Method with two parameters: 1, 2\n"
          ]
        }
      ],
      "source": [
        "class Example:\n",
        "    def method(self, x):\n",
        "        print(f\"Method with one parameter: {x}\")\n",
        "\n",
        "    def method(self, x, y):\n",
        "        print(f\"Method with two parameters: {x}, {y}\")\n",
        "\n",
        "# Example usage:\n",
        "example_instance = Example()\n",
        "\n",
        "# This will call the second method definition because it overrides the first one\n",
        "example_instance.method(1, 2)\n"
      ]
    },
    {
      "cell_type": "markdown",
      "id": "6af6688a-e12c-4d43-a3c4-154c88e521ec",
      "metadata": {
        "id": "6af6688a-e12c-4d43-a3c4-154c88e521ec"
      },
      "source": [
        "In this example, the second method definition with two parameters will override the first method definition with one parameter. If you try to call the method with one parameter, it will result in a TypeError.\n",
        "\n",
        "Method overriding, on the other hand, is a concept in inheritance where a subclass provides a specific implementation for a method that is already defined in its superclass. The overridden method in the subclass must have the same name and the same signature (number and types of parameters) as the method in the superclass.\n",
        "\n",
        "\n",
        "Here's an example to illustrate method overriding in Python:"
      ]
    },
    {
      "cell_type": "code",
      "execution_count": null,
      "id": "2ba359e6-4dab-4750-aeaf-f30f2fb9c3fb",
      "metadata": {
        "id": "2ba359e6-4dab-4750-aeaf-f30f2fb9c3fb",
        "outputId": "9f19a9b9-403a-432c-8b64-f0c8f7298cd9"
      },
      "outputs": [
        {
          "name": "stdout",
          "output_type": "stream",
          "text": [
            "Method in Child class\n"
          ]
        }
      ],
      "source": [
        "class Parent:\n",
        "    def method(self):\n",
        "        print(\"Method in Parent class\")\n",
        "\n",
        "class Child(Parent):\n",
        "    def method(self):\n",
        "        print(\"Method in Child class\")\n",
        "\n",
        "# Example usage:\n",
        "child_instance = Child()\n",
        "\n",
        "# This will call the overridden method in the Child class\n",
        "child_instance.method()\n"
      ]
    },
    {
      "cell_type": "markdown",
      "id": "9ffa13be-b549-441f-b2e9-ec31af9c837c",
      "metadata": {
        "id": "9ffa13be-b549-441f-b2e9-ec31af9c837c"
      },
      "source": [
        "16. Explain the purpose of the `__init__()` method in Python inheritance and how it is utilized in child classes."
      ]
    },
    {
      "cell_type": "markdown",
      "id": "e35ad5d3-5c86-4a24-93c2-d6a7d5a7cf7e",
      "metadata": {
        "id": "e35ad5d3-5c86-4a24-93c2-d6a7d5a7cf7e"
      },
      "source": [
        "The __init__() method in Python is a special method (also known as a constructor) that is automatically called when an object of a class is created. It initializes the attributes or properties of the object, allowing you to set their initial values. In the context of inheritance, the __init__() method plays a crucial role in the initialization of both the child and parent classes.\n",
        "\n",
        "Here's how the __init__() method works in the context of inheritance:\n",
        "\n",
        "1.Initialization in Parent Class:\n",
        "\n",
        "In the parent class, the __init__() method is used to initialize the attributes that are common to all instances of that class.\n",
        "It typically takes self as its first parameter, followed by any other parameters needed to initialize the attributes."
      ]
    },
    {
      "cell_type": "code",
      "execution_count": null,
      "id": "02d8a5a1-05b0-488a-a0ea-52282e486a16",
      "metadata": {
        "id": "02d8a5a1-05b0-488a-a0ea-52282e486a16"
      },
      "outputs": [],
      "source": [
        "class Parent:\n",
        "    def __init__(self, attribute1, attribute2):\n",
        "        self.attribute1 = attribute1\n",
        "        self.attribute2 = attribute2\n"
      ]
    },
    {
      "cell_type": "markdown",
      "id": "1d27ed2b-8c6c-4685-9b42-14ba154f5ed5",
      "metadata": {
        "id": "1d27ed2b-8c6c-4685-9b42-14ba154f5ed5"
      },
      "source": [
        "2.Initialization in Child Class:\n",
        "\n",
        "In the child class, the __init__() method can be extended or overridden to initialize additional attributes specific to the child class.\n",
        "To call the __init__() method of the parent class from the child class, you can use the super() function."
      ]
    },
    {
      "cell_type": "code",
      "execution_count": null,
      "id": "f7eccdc9-ce66-4355-bac4-4a00acbd86a7",
      "metadata": {
        "id": "f7eccdc9-ce66-4355-bac4-4a00acbd86a7"
      },
      "outputs": [],
      "source": [
        "class Child(Parent):\n",
        "    def __init__(self, attribute1, attribute2, child_attribute):\n",
        "        # Call the __init__() method of the parent class using super()\n",
        "        super().__init__(attribute1, attribute2)\n",
        "        self.child_attribute = child_attribute\n"
      ]
    },
    {
      "cell_type": "markdown",
      "id": "494194b7-5d0b-4c3e-a28e-cd152ebbee3b",
      "metadata": {
        "id": "494194b7-5d0b-4c3e-a28e-cd152ebbee3b"
      },
      "source": [
        "3.Calling the Parent Class __init__() Method:\n",
        "\n",
        "The super().__init__() call ensures that the attributes of the parent class are initialized before initializing the attributes specific to the child class.\n",
        "This helps in reusing the initialization logic from the parent class."
      ]
    },
    {
      "cell_type": "raw",
      "id": "b6ee6f1f-9068-4730-aba4-7b6bab455741",
      "metadata": {
        "id": "b6ee6f1f-9068-4730-aba4-7b6bab455741"
      },
      "source": [
        "child_instance = Child(attribute1_value, attribute2_value, child_attribute_value)\n"
      ]
    },
    {
      "cell_type": "markdown",
      "id": "d1113465-c4f3-4aa3-9eb2-cc8179c1a90d",
      "metadata": {
        "id": "d1113465-c4f3-4aa3-9eb2-cc8179c1a90d"
      },
      "source": [
        "4.Complete Initialization:\n",
        "\n",
        "After the __init__() method of both the parent and child classes is executed, the object is fully initialized, and you can access its attributes.\n",
        "\n",
        "Here's a complete example:"
      ]
    },
    {
      "cell_type": "code",
      "execution_count": null,
      "id": "24f4aa9f-1e82-490d-b0e7-29f784c59450",
      "metadata": {
        "id": "24f4aa9f-1e82-490d-b0e7-29f784c59450",
        "outputId": "16639b86-585f-49a1-b859-2e83ae05ca62"
      },
      "outputs": [
        {
          "name": "stdout",
          "output_type": "stream",
          "text": [
            "Parent Attribute 1: Value1\n",
            "Parent Attribute 2: Value2\n",
            "Child Attribute: ChildValue\n"
          ]
        }
      ],
      "source": [
        "class Parent:\n",
        "    def __init__(self, attribute1, attribute2):\n",
        "        self.attribute1 = attribute1\n",
        "        self.attribute2 = attribute2\n",
        "\n",
        "class Child(Parent):\n",
        "    def __init__(self, attribute1, attribute2, child_attribute):\n",
        "        # Call the __init__() method of the parent class using super()\n",
        "        super().__init__(attribute1, attribute2)\n",
        "        self.child_attribute = child_attribute\n",
        "\n",
        "# Example usage:\n",
        "attribute1_value = \"Value1\"\n",
        "attribute2_value = \"Value2\"\n",
        "child_attribute_value = \"ChildValue\"\n",
        "\n",
        "child_instance = Child(attribute1_value, attribute2_value, child_attribute_value)\n",
        "\n",
        "# Accessing attributes of the child instance\n",
        "print(\"Parent Attribute 1:\", child_instance.attribute1)\n",
        "print(\"Parent Attribute 2:\", child_instance.attribute2)\n",
        "print(\"Child Attribute:\", child_instance.child_attribute)\n",
        "\n"
      ]
    },
    {
      "cell_type": "markdown",
      "id": "8b6f22d8-13aa-44f9-b6a3-f7cd40d85f3d",
      "metadata": {
        "id": "8b6f22d8-13aa-44f9-b6a3-f7cd40d85f3d"
      },
      "source": [
        "17. Create a Python class called `Bird` with a method `fly()`. Then, create child classes `Eagle` and `Sparrow` that inherit from `Bird` and implement the `fly()` method differently. Provide an example of using these\n",
        "classes."
      ]
    },
    {
      "cell_type": "code",
      "execution_count": null,
      "id": "9952a31b-80ed-4acb-9ce9-d1559a57200d",
      "metadata": {
        "id": "9952a31b-80ed-4acb-9ce9-d1559a57200d",
        "outputId": "2fc6f7a8-e1c6-49f7-b7ce-bc18a4910c66"
      },
      "outputs": [
        {
          "name": "stdout",
          "output_type": "stream",
          "text": [
            "Bird Instance:\n",
            "Bird is flying\n",
            "\n",
            "Eagle Instance:\n",
            "Eagle is soaring high in the sky\n",
            "\n",
            "Sparrow Instance:\n",
            "Sparrow is fluttering around\n"
          ]
        }
      ],
      "source": [
        "class Bird:\n",
        "    def fly(self):\n",
        "        print(\"Bird is flying\")\n",
        "\n",
        "class Eagle(Bird):\n",
        "    def fly(self):\n",
        "        print(\"Eagle is soaring high in the sky\")\n",
        "\n",
        "class Sparrow(Bird):\n",
        "    def fly(self):\n",
        "        print(\"Sparrow is fluttering around\")\n",
        "\n",
        "# Example usage:\n",
        "bird_instance = Bird()\n",
        "eagle_instance = Eagle()\n",
        "sparrow_instance = Sparrow()\n",
        "\n",
        "# Calling the fly() method on each instance\n",
        "print(\"Bird Instance:\")\n",
        "bird_instance.fly()\n",
        "\n",
        "print(\"\\nEagle Instance:\")\n",
        "eagle_instance.fly()\n",
        "\n",
        "print(\"\\nSparrow Instance:\")\n",
        "sparrow_instance.fly()"
      ]
    },
    {
      "cell_type": "markdown",
      "id": "e58bf1ad-787b-47a8-95e7-28d704f9a687",
      "metadata": {
        "id": "e58bf1ad-787b-47a8-95e7-28d704f9a687"
      },
      "source": [
        "18. What is the \"diamond problem\" in multiple inheritance, and how does Python address it?\n"
      ]
    },
    {
      "cell_type": "markdown",
      "id": "0a6180c7-1259-4f8e-868d-05392736b645",
      "metadata": {
        "id": "0a6180c7-1259-4f8e-868d-05392736b645"
      },
      "source": [
        "The \"diamond problem\" is a term used in the context of multiple inheritance in object-oriented programming, referring to the challenges that arise when a class inherits from two classes that have a common ancestor. This situation creates an ambiguity in the method resolution order (MRO) for the shared ancestor, and it becomes unclear which method should be invoked when the derived class calls a method of the common ancestor.\n",
        "\n",
        "\n",
        "Consider the following class hierarchy:\n",
        "      A\n",
        "     / \\\n",
        "    B   C\n",
        "     \\ /\n",
        "      D\n",
        "\n",
        "Here, classes B and C both inherit from A, and class D inherits from both B and C. If there is a method foo defined in class A, and classes B and C override foo with different implementations, the question arises: which version of foo should be inherited by class D?\n",
        "\n",
        "In Python, the method resolution order is determined by the C3 linearization algorithm, which is used to create a consistent and predictable order in which base classes are considered when looking up methods. This helps address the diamond problem and ensures a well-defined order for method resolution.\n",
        "\n",
        "In the example above, the method resolution order for class D would be [D, B, C, A]. This means that when calling a method, Python looks for the method in the following order: D, then B, then C, and finally A. If the method is found in one of these classes, the search stops.\n",
        "\n",
        "Here's an example in Python:"
      ]
    },
    {
      "cell_type": "code",
      "execution_count": null,
      "id": "0aca1bdc-3228-4aba-896f-891dacbe611a",
      "metadata": {
        "id": "0aca1bdc-3228-4aba-896f-891dacbe611a",
        "outputId": "339d7d06-7624-4fe3-bb71-574e1402ecf8"
      },
      "outputs": [
        {
          "name": "stdout",
          "output_type": "stream",
          "text": [
            "Method foo in class B\n"
          ]
        }
      ],
      "source": [
        "class A:\n",
        "    def foo(self):\n",
        "        print(\"Method foo in class A\")\n",
        "\n",
        "class B(A):\n",
        "    def foo(self):\n",
        "        print(\"Method foo in class B\")\n",
        "\n",
        "class C(A):\n",
        "    def foo(self):\n",
        "        print(\"Method foo in class C\")\n",
        "\n",
        "class D(B, C):\n",
        "    pass\n",
        "\n",
        "# Example usage:\n",
        "d_instance = D()\n",
        "d_instance.foo()"
      ]
    },
    {
      "cell_type": "markdown",
      "id": "ba412e30-4a77-4b85-a758-e63b2c303e4b",
      "metadata": {
        "id": "ba412e30-4a77-4b85-a758-e63b2c303e4b"
      },
      "source": [
        "19. Discuss the concept of \"is-a\" and \"has-a\" relationships in inheritance, and provide examples of each."
      ]
    },
    {
      "cell_type": "markdown",
      "id": "38f2560c-43ff-4f13-a331-57e5f5607e2c",
      "metadata": {
        "id": "38f2560c-43ff-4f13-a331-57e5f5607e2c"
      },
      "source": [
        "The concepts of \"is-a\" and \"has-a\" relationships are often used to describe the nature of relationships between classes in object-oriented programming, particularly in the context of inheritance.\n",
        "\n",
        "1.\"Is-a\" Relationship:\n",
        "\n",
        "In an \"is-a\" relationship, one class is considered to be a type of another class. This relationship is modeled using inheritance, where a subclass is derived from a superclass.\n",
        "\n",
        "The subclass is said to be a specialized version of the superclass, inheriting its attributes and behaviors.\n",
        "\n",
        "For example, if we have a class Bird and a subclass Sparrow, we can say that a Sparrow is a type of Bird.\n"
      ]
    },
    {
      "cell_type": "code",
      "execution_count": null,
      "id": "dcae3a51-c8e7-4768-a924-ffc5240a996b",
      "metadata": {
        "id": "dcae3a51-c8e7-4768-a924-ffc5240a996b"
      },
      "outputs": [],
      "source": [
        "class Bird:\n",
        "    def fly(self):\n",
        "        print(\"Bird is flying\")\n",
        "\n",
        "class Sparrow(Bird):\n",
        "    pass\n"
      ]
    },
    {
      "cell_type": "markdown",
      "id": "d0c5deb1-ffb4-4c8c-b6b4-94bec7f9bb8f",
      "metadata": {
        "id": "d0c5deb1-ffb4-4c8c-b6b4-94bec7f9bb8f"
      },
      "source": [
        "In this example, Sparrow is a subclass of Bird, and it inherits the fly method. We can say that a Sparrow is a type of Bird.\n",
        "\n",
        "2.\"Has-a\" Relationship:\n",
        "\n",
        "In a \"has-a\" relationship, one class contains an instance of another class as one of its attributes. This relationship is often modeled using composition or aggregation.\n",
        "\n",
        "The containing class has an association with the contained class through an attribute, indicating that it \"has\" an instance of the other class.\n",
        "\n",
        "For example, if we have a class Car and a class Engine, we can say that a Car has an Engine."
      ]
    },
    {
      "cell_type": "code",
      "execution_count": null,
      "id": "62e021de-3ba4-4502-87c2-ffd5338f6d10",
      "metadata": {
        "id": "62e021de-3ba4-4502-87c2-ffd5338f6d10"
      },
      "outputs": [],
      "source": [
        "class Engine:\n",
        "    def start(self):\n",
        "        print(\"Engine started\")\n",
        "\n",
        "class Car:\n",
        "    def __init__(self):\n",
        "        # Car has an Engine\n",
        "        self.engine = Engine()\n",
        "\n",
        "    def start_engine(self):\n",
        "        self.engine.start()\n"
      ]
    },
    {
      "cell_type": "markdown",
      "id": "b902e916-e432-4c05-a22b-619d8d92f816",
      "metadata": {
        "id": "b902e916-e432-4c05-a22b-619d8d92f816"
      },
      "source": [
        "In this example, the Car class has an attribute engine of type Engine. The Car \"has\" an Engine, and it can interact with the engine through methods like start_engine."
      ]
    },
    {
      "cell_type": "markdown",
      "id": "9780ad3f-2115-490c-90bf-1f114117e914",
      "metadata": {
        "id": "9780ad3f-2115-490c-90bf-1f114117e914"
      },
      "source": [
        "20. Create a Python class hierarchy for a university system. Start with a base class `Person` and create child\n",
        "classes `Student` and `Professor`, each with their own attributes and methods. Provide an example of using\n",
        "these classes in a university context."
      ]
    },
    {
      "cell_type": "code",
      "execution_count": null,
      "id": "c2c6b3dd-9687-4d65-8ab6-b0408876ddae",
      "metadata": {
        "id": "c2c6b3dd-9687-4d65-8ab6-b0408876ddae",
        "outputId": "8c69c919-9689-404e-dab5-da74b6cc4021"
      },
      "outputs": [
        {
          "name": "stdout",
          "output_type": "stream",
          "text": [
            "Student Information:\n",
            "Name: Alice, Age: 20\n",
            "Student ID: S12345\n",
            "Alice is studying\n",
            "\n",
            "Professor Information:\n",
            "Name: Dr. Smith, Age: 45\n",
            "Employee ID: P98765\n",
            "Dr. Smith is teaching\n"
          ]
        }
      ],
      "source": [
        "class Person:\n",
        "    def __init__(self, name, age):\n",
        "        self.name = name\n",
        "        self.age = age\n",
        "\n",
        "    def display_info(self):\n",
        "        print(f\"Name: {self.name}, Age: {self.age}\")\n",
        "\n",
        "\n",
        "class Student(Person):\n",
        "    def __init__(self, name, age, student_id):\n",
        "        # Call the __init__() method of the parent class using super()\n",
        "        super().__init__(name, age)\n",
        "        self.student_id = student_id\n",
        "\n",
        "    def display_info(self):\n",
        "        super().display_info()\n",
        "        print(f\"Student ID: {self.student_id}\")\n",
        "\n",
        "    def study(self):\n",
        "        print(f\"{self.name} is studying\")\n",
        "\n",
        "\n",
        "class Professor(Person):\n",
        "    def __init__(self, name, age, employee_id):\n",
        "        # Call the __init__() method of the parent class using super()\n",
        "        super().__init__(name, age)\n",
        "        self.employee_id = employee_id\n",
        "\n",
        "    def display_info(self):\n",
        "        super().display_info()\n",
        "        print(f\"Employee ID: {self.employee_id}\")\n",
        "\n",
        "    def teach(self):\n",
        "        print(f\"{self.name} is teaching\")\n",
        "\n",
        "\n",
        "# Example usage:\n",
        "student1 = Student(name=\"Alice\", age=20, student_id=\"S12345\")\n",
        "professor1 = Professor(name=\"Dr. Smith\", age=45, employee_id=\"P98765\")\n",
        "\n",
        "# Display information about student and professor\n",
        "print(\"Student Information:\")\n",
        "student1.display_info()\n",
        "student1.study()\n",
        "\n",
        "print(\"\\nProfessor Information:\")\n",
        "professor1.display_info()\n",
        "professor1.teach()\n",
        "\n",
        "\n"
      ]
    },
    {
      "cell_type": "markdown",
      "id": "2d0776b1-b568-4924-9625-6b207622e681",
      "metadata": {
        "id": "2d0776b1-b568-4924-9625-6b207622e681"
      },
      "source": [
        "# Encapsulation:"
      ]
    },
    {
      "cell_type": "markdown",
      "id": "a0ea759a-d2a6-4c3d-b762-aa45a13a840c",
      "metadata": {
        "id": "a0ea759a-d2a6-4c3d-b762-aa45a13a840c"
      },
      "source": [
        "1. Explain the concept of encapsulation in Python. What is its role in object-oriented programming?"
      ]
    },
    {
      "cell_type": "markdown",
      "id": "0dc7a5cb-594c-445b-af1c-492ec089ba5a",
      "metadata": {
        "id": "0dc7a5cb-594c-445b-af1c-492ec089ba5a"
      },
      "source": [
        "\n",
        "Encapsulation is one of the fundamental principles of object-oriented programming (OOP) and refers to the bundling of data (attributes) and methods (functions) that operate on the data into a single unit known as a class. It restricts direct access to some of an object's components, promoting the idea of hiding the internal implementation details and providing a well-defined interface for interaction with the object.\n",
        "\n",
        "Key concepts of encapsulation in Python include:\n",
        "\n",
        "1.Data Hiding: Encapsulation allows you to hide the implementation details of an object's internal state. By using access modifiers (e.g., public, private, protected), you can control the visibility of attributes and methods outside the class. In Python, attributes and methods are typically considered public unless specified otherwise.\n",
        "\n",
        "2.Access Control: Encapsulation provides a mechanism to control access to the internal components of an object. This helps in preventing unauthorized external entities from directly modifying or accessing sensitive data.\n",
        "\n",
        "3.Information Hiding: With encapsulation, the internal representation of an object is hidden from the outside world. The object exposes only what is necessary, reducing complexity and making it easier to understand and use.\n",
        "\n",
        "Here's a simple example in Python to illustrate encapsulation:"
      ]
    },
    {
      "cell_type": "code",
      "execution_count": null,
      "id": "b3aa85bc-1e20-4203-913c-93d62ad39603",
      "metadata": {
        "id": "b3aa85bc-1e20-4203-913c-93d62ad39603",
        "outputId": "35e046af-4972-4b62-f0d1-5bdaa24985c7"
      },
      "outputs": [
        {
          "name": "stdout",
          "output_type": "stream",
          "text": [
            "Balance: 1000\n",
            "Balance: 1000\n",
            "Updated Balance: 1300\n"
          ]
        }
      ],
      "source": [
        "class BankAccount:\n",
        "    def __init__(self, account_number, balance):\n",
        "        self._account_number = account_number # Protected attribute\n",
        "        self.__balance = balance # Private attribute\n",
        "\n",
        "    def get_account_number(self):\n",
        "        return self._account_number\n",
        "\n",
        "    def get_balance(self):\n",
        "        return self.__balance\n",
        "\n",
        "    def deposit(self, amount):\n",
        "        if amount > 0:\n",
        "            self.__balance += amount\n",
        "\n",
        "    def withdraw(self, amount):\n",
        "        if amount > 0 and amount <= self.__balance:\n",
        "            self.__balance -= amount\n",
        "\n",
        "# Example usage:\n",
        "account = BankAccount(account_number=\"123456789\", balance=1000)\n",
        "\n",
        "# Accessing protected attribute\n",
        "print(\"Balance:\", account._BankAccount__balance)\n",
        "\n",
        "# Accessing private attribute (not recommended, but possible)\n",
        "# Note: It's convention to avoid direct access to private attributes\n",
        "print(\"Balance:\", account._BankAccount__balance)\n",
        "\n",
        "# Accessing methods to interact with the object\n",
        "account.deposit(500)\n",
        "account.withdraw(200)\n",
        "\n",
        "# Accessing balance using a method\n",
        "print(\"Updated Balance:\", account.get_balance())\n",
        ""
      ]
    },
    {
      "cell_type": "markdown",
      "id": "5fc42f3e-fd08-4b04-a04c-95007fa0a509",
      "metadata": {
        "id": "5fc42f3e-fd08-4b04-a04c-95007fa0a509"
      },
      "source": [
        "2. Describe the key principles of encapsulation, including access control and data hiding.\n"
      ]
    },
    {
      "cell_type": "markdown",
      "id": "da3e8e4e-e3e0-4cfe-b902-369b800e65cc",
      "metadata": {
        "id": "da3e8e4e-e3e0-4cfe-b902-369b800e65cc"
      },
      "source": [
        "Encapsulation is one of the fundamental principles of object-oriented programming (OOP) that involves bundling data (attributes) and methods (functions) that operate on the data into a single unit called a class. The key principles of encapsulation include access control and data hiding:\n",
        "\n",
        "1.Access Control:\n",
        "Access control refers to the mechanisms that determine how and where class members (attributes and methods) can be accessed. This is crucial for maintaining the integrity of the object and ensuring that the object's internal state is not inadvertently or maliciously modified. Access control is typically implemented through modifiers like public, private, and protected:\n",
        "\n",
        "Public (Default): Members marked as public are accessible from outside the class. They can be accessed and modified freely.\n",
        "\n",
        "Private: Members marked as private are only accessible within the class itself. They cannot be directly accessed or modified from outside the class. Access to private members is typically provided through public methods (getters and setters).\n",
        "\n",
        "Protected: Members marked as protected are accessible within the class and its subclasses. They are not directly accessible from outside the class or its subclasses.\n",
        "\n",
        "By controlling access to class members, encapsulation helps prevent unintended interference and ensures that interactions with an object occur through well-defined interfaces.\n",
        "\n",
        "2.Data Hiding:\n",
        "Data hiding is the practice of restricting direct access to an object's internal data (attributes) and only allowing access through the object's methods. This helps in achieving a separation between the internal implementation details of a class and its external interface. The primary goal is to prevent the accidental modification of an object's state by external entities.\n",
        "\n",
        "Getters and Setters: Instead of directly exposing attributes, encapsulation encourages the use of getter and setter methods. Getters allow access to the value of an attribute, and setters allow modification of the attribute, often with additional validation or logic.\n",
        "\n",
        "Encapsulation as a Protective Barrier: By hiding the internal details of an object, encapsulation provides a protective barrier that shields the object's implementation from external entities. This allows developers to modify the internal implementation without affecting the external code that uses the object.\n",
        "\n",
        "Encapsulation promotes modular and maintainable code by encapsulating the implementation details, minimizing dependencies, and providing well-defined interfaces for interaction with objects. This, in turn, contributes to better code organization, reusability, and overall system reliability.\n",
        "\n",
        "\n",
        "\n",
        "\n",
        "\n",
        "\n"
      ]
    },
    {
      "cell_type": "markdown",
      "id": "1f74e860-ad7a-4ecc-8eeb-d7ad74e6e91c",
      "metadata": {
        "id": "1f74e860-ad7a-4ecc-8eeb-d7ad74e6e91c"
      },
      "source": [
        "3. How can you achieve encapsulation in Python classes? Provide an example."
      ]
    },
    {
      "cell_type": "code",
      "execution_count": null,
      "id": "265c2a7a-8bfd-4a54-8435-82c7b1e118d9",
      "metadata": {
        "id": "265c2a7a-8bfd-4a54-8435-82c7b1e118d9",
        "outputId": "f242f302-5903-4fa4-ccd8-359f56cb4e33"
      },
      "outputs": [
        {
          "name": "stdout",
          "output_type": "stream",
          "text": [
            "Name: John\n",
            "Age: 25\n",
            "Updated Name: Alice\n",
            "Updated Age: 30\n"
          ]
        }
      ],
      "source": [
        "class EncapsulationExample:\n",
        "    def __init__(self, name, age):\n",
        "        # Private attribute convention (name starts with underscore)\n",
        "        self._name = name\n",
        "        # Private attribute convention (name starts witgh underscore)\n",
        "        self._age = age\n",
        "\n",
        "    # Public method to get the name\n",
        "    def get_name(self):\n",
        "        return self._name\n",
        "\n",
        "    # Publice method to set the name with validation\n",
        "    def set_name(self, new_name):\n",
        "        if isinstance(new_name, str):\n",
        "            self._name = new_name\n",
        "        else:\n",
        "            print(\"Invalidation name format. Please provide a string.\")\n",
        "\n",
        "    # Public method to get the age\n",
        "    def get_age(self):\n",
        "        return self._age\n",
        "\n",
        "    # Public method to set the age with validation\n",
        "    def set_age(self, new_age):\n",
        "        if isinstance(new_age, int) and new_age > 0:\n",
        "            self._age = new_age\n",
        "        else:\n",
        "            print(\"Invalid age format. Please provide a positive integer.\")\n",
        "\n",
        "# Example usage\n",
        "person = EncapsulationExample(name=\"John\", age=25)\n",
        "\n",
        "# Accessing attributes using getter methods\n",
        "print(\"Name:\", person.get_name()) # Output: Name: John\n",
        "print(\"Age:\", person.get_age()) # Output: Age: 25\n",
        "\n",
        "# Modifying attributes using setter methods\n",
        "person.set_name(\"Alice\")\n",
        "person.set_age(30)\n",
        "\n",
        "# Checking the updated value\n",
        "print(\"Updated Name:\", person.get_name())  # Output: Updated Name: Alice\n",
        "print(\"Updated Age:\", person.get_age())    # Output: Updated Age: 30\n"
      ]
    },
    {
      "cell_type": "markdown",
      "id": "5800259e-a00f-42d9-9afb-c4d310e2101c",
      "metadata": {
        "id": "5800259e-a00f-42d9-9afb-c4d310e2101c"
      },
      "source": [
        "4. Discuss the difference between public, private, and protected access modifiers in Python."
      ]
    },
    {
      "cell_type": "markdown",
      "id": "3a1b6bec-301d-4806-be9f-afe1f8c62435",
      "metadata": {
        "id": "3a1b6bec-301d-4806-be9f-afe1f8c62435"
      },
      "source": [
        "In Python, access modifiers are used to control the visibility and accessibility of class attributes and methods. These modifiers help define the level of encapsulation in a class, determining whether certain attributes or methods can be accessed from outside the class. The three main access modifiers in Python are public, private, and protected.\n",
        "\n",
        "1.Public Access Modifier:\n",
        "\n",
        "The default access level in Python.\n",
        "Public attributes and methods can be accessed from anywhere, both within and outside the class.\n",
        "No special syntax is needed to define public members.\n",
        "\n",
        "class MyClass:\n",
        "    def __init__(self):\n",
        "        self.public_variable = 10\n",
        "        \n",
        "    def public_method(self):\n",
        "        print(\"This is a public method.\")\n",
        "        \n",
        "2.Private Access Modifier:\n",
        "\n",
        "Indicated by using a double underscore (__) prefix before the attribute or method name.\n",
        "Private members can only be accessed within the class itself, and not from outside the class.\n",
        "Python name mangling is used to make it difficult to access private members from outside.\n",
        "\n",
        "class MyClass:\n",
        "    def __init__(self):\n",
        "        self.__private_variable = 20\n",
        "        \n",
        "    def __private_method(self):\n",
        "        print(\"This is a private method.\")\n",
        "        \n",
        "3.Protected Access Modifier:\n",
        "\n",
        "Indicated by using a single underscore (_) prefix before the attribute or method name.\n",
        "Protected members can be accessed within the class itself and its subclasses.\n",
        "While it is a convention to treat it as protected, it doesn't provide strict enforcement.\n",
        "\n",
        "class MyClass:\n",
        "    def __init__(self):\n",
        "        self._protected_variable = 30\n",
        "\n",
        "    def _protected_method(self):\n",
        "        print(\"This is a protected method.\")\n"
      ]
    },
    {
      "cell_type": "markdown",
      "id": "274f067b-f55b-47d3-8502-bfac4cb07191",
      "metadata": {
        "id": "274f067b-f55b-47d3-8502-bfac4cb07191"
      },
      "source": [
        "5. Create a Python class called `Person` with a private attribute `__name`. Provide methods to get and set the\n",
        "name attribute."
      ]
    },
    {
      "cell_type": "code",
      "execution_count": null,
      "id": "6722d8e6-3a44-474f-bcd7-f7bd30a83a22",
      "metadata": {
        "id": "6722d8e6-3a44-474f-bcd7-f7bd30a83a22",
        "outputId": "51c2def8-8d10-4a9b-b5bc-18b5d79bb463"
      },
      "outputs": [
        {
          "name": "stdout",
          "output_type": "stream",
          "text": [
            "Original Name: John Doe\n",
            "Updated Name: John Doe\n"
          ]
        }
      ],
      "source": [
        "class Person:\n",
        "    def __init__(self, name):\n",
        "        self.__name = name\n",
        "\n",
        "    def get_name(self):\n",
        "        return self.__name\n",
        "\n",
        "    def set_name(self, new_name):\n",
        "        self.__name = new_name\n",
        "\n",
        "# Example usage:\n",
        "person1 = Person(\"John Doe\")\n",
        "print(\"Original Name:\", person1.get_name())\n",
        "\n",
        "# Change the name using the set_name method\n",
        "person1.set_name(\"John Doe\")\n",
        "print(\"Updated Name:\", person1.get_name())"
      ]
    },
    {
      "cell_type": "markdown",
      "id": "667de820-4b71-4986-9f1f-035eb650101f",
      "metadata": {
        "id": "667de820-4b71-4986-9f1f-035eb650101f"
      },
      "source": [
        "6. Explain the purpose of getter and setter methods in encapsulation. Provide examples."
      ]
    },
    {
      "cell_type": "code",
      "execution_count": null,
      "id": "89d35a29-caec-43df-96bd-bc3859c6e25d",
      "metadata": {
        "id": "89d35a29-caec-43df-96bd-bc3859c6e25d"
      },
      "outputs": [],
      "source": [
        "Getter and setter methods are used in encapsulation to control access to the attributes of a class. Encapsulation is one of the fundamental principles of object-oriented programming, and it involves bundling the data (attributes) and the methods (functions) that operate on the data into a single unit called a class. Getter and setter methods provide a way to access and modify the private attributes of a class in a controlled manner.\n",
        "\n",
        "Purpose of Getter Methods:\n",
        "\n",
        "Getter methods are used to retrieve the values of private attributes.\n",
        "They provide controlled access to the internal state of an object.\n",
        "Getter methods allow you to enforce validation or perform additional logic when retrieving attribute values.\n",
        "Purpose of Setter Methods:\n",
        "\n",
        "Setter methods are used to modify the values of private attributes.\n",
        "They provide controlled modification of the internal state of an object.\n",
        "Setter methods allow you to enforce validation rules or perform additional logic when setting attribute values.\n",
        "\n",
        "Examples:"
      ]
    },
    {
      "cell_type": "code",
      "execution_count": null,
      "id": "c9ee0364-5708-4cdb-ad9b-288c70b846ef",
      "metadata": {
        "id": "c9ee0364-5708-4cdb-ad9b-288c70b846ef",
        "outputId": "52ea0040-371d-484e-c2ab-f66851b3606a"
      },
      "outputs": [
        {
          "name": "stdout",
          "output_type": "stream",
          "text": [
            "Name: John Doe\n",
            "Age: 25\n",
            "Updated Name: John Doe\n",
            "Updated Age: 30\n"
          ]
        }
      ],
      "source": [
        "class Person:\n",
        "    def __init__(self, name, age):\n",
        "        self.__name = name # Private attribute\n",
        "        self.__age = age # Private attribute\n",
        "\n",
        "    # Getter methods\n",
        "    def get_name(self):\n",
        "        return self.__name\n",
        "\n",
        "    def get_age(self):\n",
        "        return self.__age\n",
        "\n",
        "    # Setter methods\n",
        "    def set_name(self, new_name):\n",
        "        if isinstance(new_name, str):\n",
        "            self.__name = new_name\n",
        "        else:\n",
        "            print(\"Invalid name format.\")\n",
        "\n",
        "    def set_age(self,new_age):\n",
        "        if isinstance(new_age, int) and new_age > 0:\n",
        "            self.__age = new_age\n",
        "        else:\n",
        "            print(\"Invalid age format.\")\n",
        "\n",
        "# Example usage:\n",
        "person = Person(\"John Doe\", 25)\n",
        "\n",
        "# Using getter methods\n",
        "print(\"Name:\", person.get_name())\n",
        "print(\"Age:\", person.get_age())\n",
        "\n",
        "# Using setter methods\n",
        "person.set_name(\"John Doe\")\n",
        "person.set_age(30)\n",
        "\n",
        "# Display updated values\n",
        "print(\"Updated Name:\",person.get_name())\n",
        "print(\"Updated Age:\",person.get_age())"
      ]
    },
    {
      "cell_type": "markdown",
      "id": "2fb2051d-0299-4c6d-9406-960ddd2f9608",
      "metadata": {
        "id": "2fb2051d-0299-4c6d-9406-960ddd2f9608"
      },
      "source": [
        "7. What is name mangling in Python, and how does it affect encapsulation?"
      ]
    },
    {
      "cell_type": "markdown",
      "id": "c47ab9fb-1a2f-48db-aaec-93544722d9c7",
      "metadata": {
        "id": "c47ab9fb-1a2f-48db-aaec-93544722d9c7"
      },
      "source": [
        "Name mangling is a mechanism in Python that changes the name of attributes in a class to make them less accessible from outside the class. This is achieved by adding a prefix to the attribute name, and it is intended to minimize the risk of name clashes in subclasses. Name mangling is accomplished by prefixing the attribute name with a double underscore (__) but not ending the name with more than one underscore.\n",
        "\n",
        "Here's an example to illustrate name mangling and its effect on encapsulation:"
      ]
    },
    {
      "cell_type": "code",
      "execution_count": null,
      "id": "23dee11f-0290-4a84-9b24-bf775635e77b",
      "metadata": {
        "id": "23dee11f-0290-4a84-9b24-bf775635e77b",
        "outputId": "69aa4a0c-dba4-4c32-e115-effd15fb2cc0"
      },
      "outputs": [
        {
          "name": "stdout",
          "output_type": "stream",
          "text": [
            "42\n"
          ]
        }
      ],
      "source": [
        "class MyClass:\n",
        "    def __init__(self):\n",
        "        self.__private_variable = 42  # Private variable using name mangling\n",
        "\n",
        "    def get_private_variable(self):\n",
        "        return self.__private_variable\n",
        "\n",
        "# Example usage\n",
        "obj = MyClass()\n",
        "\n",
        "# Direct access to the private variable raises an AttributeError\n",
        "# print(obj.__private_variable)  # Uncommenting this line will result in an error\n",
        "\n",
        "# Accessing the private variable using the mangled name\n",
        "print(obj._MyClass__private_variable)  # Outputs: 42\n"
      ]
    },
    {
      "cell_type": "markdown",
      "id": "d2fe0924-ba43-44b7-80ad-38270c6d8276",
      "metadata": {
        "id": "d2fe0924-ba43-44b7-80ad-38270c6d8276"
      },
      "source": [
        "8. Create a Python class called `BankAccount` with private attributes for the account balance (`__balance`)\n"
      ]
    },
    {
      "cell_type": "code",
      "execution_count": null,
      "id": "ab93cc9d-ca8b-4c7d-82b4-503d209660bf",
      "metadata": {
        "id": "ab93cc9d-ca8b-4c7d-82b4-503d209660bf",
        "outputId": "c257e5ef-62e6-470f-8af3-18decc6a2925"
      },
      "outputs": [
        {
          "name": "stdout",
          "output_type": "stream",
          "text": [
            "Initial Balance: 1000\n",
            "Deposited $500. New balance: $1500\n",
            "Withdrew $200. New balance: $1300\n",
            "Final Balance: 1300\n"
          ]
        }
      ],
      "source": [
        "class BankAccount:\n",
        "    def __init__(self, initial_balance=0):\n",
        "        self.__balance = initial_balance  # Private attribute for account balance\n",
        "\n",
        "    def get_balance(self):\n",
        "        return self.__balance\n",
        "\n",
        "    def deposit(self, amount):\n",
        "        if amount > 0:\n",
        "            self.__balance += amount\n",
        "            print(f\"Deposited ${amount}. New balance: ${self.__balance}\")\n",
        "        else:\n",
        "            print(\"Invalid deposit amount. Please enter a positive value.\")\n",
        "\n",
        "    def withdraw(self, amount):\n",
        "        if amount > 0 and amount <= self.__balance:\n",
        "            self.__balance -= amount\n",
        "            print(f\"Withdrew ${amount}. New balance: ${self.__balance}\")\n",
        "        elif amount <= 0:\n",
        "            print(\"Invalid withdrawal amount. Please enter a positive value.\")\n",
        "        else:\n",
        "            print(\"Insufficient funds for withdrawal.\")\n",
        "\n",
        "# Example usage:\n",
        "account = BankAccount(initial_balance=1000)\n",
        "\n",
        "# Accessing the balance using the getter method\n",
        "print(\"Initial Balance:\", account.get_balance())\n",
        "\n",
        "# Depositing and withdrawing\n",
        "account.deposit(500)\n",
        "account.withdraw(200)\n",
        "\n",
        "# Accessing the updated balance using the getter method\n",
        "print(\"Final Balance:\", account.get_balance())\n"
      ]
    },
    {
      "cell_type": "markdown",
      "id": "2611ff6f-54e0-4fc7-9f95-b405b2c33441",
      "metadata": {
        "id": "2611ff6f-54e0-4fc7-9f95-b405b2c33441"
      },
      "source": [
        "9. Discuss the advantages of encapsulation in terms of code maintainability and security."
      ]
    },
    {
      "cell_type": "markdown",
      "id": "9d32c8f9-91b6-47df-91dd-9eff10335d5b",
      "metadata": {
        "id": "9d32c8f9-91b6-47df-91dd-9eff10335d5b"
      },
      "source": [
        "Encapsulation is a fundamental principle of object-oriented programming that involves bundling the data (attributes) and the methods (functions) that operate on the data into a single unit called a class. Encapsulation provides several advantages in terms of code maintainability and security:\n",
        "\n",
        "Advantages of Encapsulation:\n",
        "\n",
        "1.Modularity:\n",
        "\n",
        "Encapsulation promotes modularity by grouping related data and methods together in a class.\n",
        "Each class becomes a self-contained unit, making it easier to understand, maintain, and reuse.\n",
        "\n",
        "2.Code Organization:\n",
        "\n",
        "Encapsulation helps organize code in a more structured and hierarchical manner.\n",
        "Class interfaces (public methods) act as a clear contract, simplifying interactions with the class.\n",
        "\n",
        "3.Code Maintainability:\n",
        "\n",
        "Changes to the internal implementation of a class do not affect the external code that uses the class.\n",
        "Modifying the internal details of a class does not require changes in external code, enhancing maintainability.\n",
        "\n",
        "4.Flexibility and Adaptability:\n",
        "\n",
        "Encapsulation allows for flexibility in changing the internal implementation of a class without affecting its users.\n",
        "It facilitates updates and improvements to a class without breaking existing code.\n",
        "\n",
        "5.Hide Implementation Details:\n",
        "\n",
        "Encapsulation hides the internal details of a class from external code, exposing only what is necessary (public interface).\n",
        "This reduces the likelihood of unintended interference and makes it easier to evolve the class without affecting its users.\n",
        "\n",
        "6.Security:\n",
        "\n",
        "Encapsulation provides a level of security by controlling access to the internal state of objects.\n",
        "Private and protected attributes/methods limit direct manipulation from outside the class, preventing unauthorized modifications.\n",
        "\n",
        "7.Code Readability:\n",
        "\n",
        "Encapsulation enhances code readability by clearly defining the responsibilities and interactions of different classes.\n",
        "Public methods act as an interface, making it easy for developers to understand how to interact with a class.\n",
        "\n",
        "8.Reduced Complexity:\n",
        "\n",
        "By encapsulating complex logic within a class, the overall complexity of the system can be reduced.\n",
        "Each class focuses on a specific responsibility, making it easier to comprehend and maintain.\n",
        "\n",
        "9.Code Reusability:\n",
        "\n",
        "Encapsulation promotes code reusability by allowing well-defined classes to be used in various contexts without modification.\n",
        "Libraries and frameworks leverage encapsulation to provide reusable components.\n",
        "\n",
        "10.Encapsulation of Invariants:\n",
        "\n",
        "Invariants (conditions that must always be true) can be encapsulated within a class, ensuring consistency and correctness of the data."
      ]
    },
    {
      "cell_type": "markdown",
      "id": "25705977-7cd3-4444-9203-93ecff6efe38",
      "metadata": {
        "id": "25705977-7cd3-4444-9203-93ecff6efe38"
      },
      "source": [
        "10. How can you access private attributes in Python? Provide an example demonstrating the use of name\n",
        "mangling."
      ]
    },
    {
      "cell_type": "markdown",
      "id": "fb6bdcad-3c18-4d60-887a-91ca35889e2e",
      "metadata": {
        "id": "fb6bdcad-3c18-4d60-887a-91ca35889e2e"
      },
      "source": [
        "Accessing private attributes in Python from outside the class is generally discouraged because it goes against the principle of encapsulation. However, Python does allow access to private attributes using a mechanism called name mangling. Name mangling changes the name of private attributes to make them less accessible, but it doesn't provide true security.\n",
        "\n",
        "Here's an example demonstrating the use of name mangling to access a private attribute:"
      ]
    },
    {
      "cell_type": "code",
      "execution_count": null,
      "id": "516c1e25-afb0-4765-a754-a69f1046140c",
      "metadata": {
        "id": "516c1e25-afb0-4765-a754-a69f1046140c",
        "outputId": "20c62f01-51cb-4980-edd7-4413c3b40625"
      },
      "outputs": [
        {
          "name": "stdout",
          "output_type": "stream",
          "text": [
            "42\n"
          ]
        }
      ],
      "source": [
        "class MyClass:\n",
        "    def __init__(self):\n",
        "        self.__private_variable = 42  # Private attribute using name mangling\n",
        "\n",
        "# Example usage\n",
        "obj = MyClass()\n",
        "\n",
        "# Accessing the private variable using the mangled name\n",
        "print(obj._MyClass__private_variable)  # Outputs: 42\n"
      ]
    },
    {
      "cell_type": "markdown",
      "id": "401ca9ab-16d2-4131-b2fb-f3edccd2730f",
      "metadata": {
        "id": "401ca9ab-16d2-4131-b2fb-f3edccd2730f"
      },
      "source": [
        "11. Create a Python class hierarchy for a school system, including classes for students, teachers, and courses,\n",
        "and implement encapsulation principles to protect sensitive information."
      ]
    },
    {
      "cell_type": "code",
      "execution_count": null,
      "id": "5af7253c-17a7-4da5-84b9-aa06cfee670d",
      "metadata": {
        "id": "5af7253c-17a7-4da5-84b9-aa06cfee670d",
        "outputId": "0995fdfa-c8fd-4eb4-dd6b-bf61e34cb61a"
      },
      "outputs": [
        {
          "name": "stdout",
          "output_type": "stream",
          "text": [
            "Student Name: Alice\n",
            "Teacher Name: Mr. Smith\n",
            "Course Name: Mathematics\n",
            "Course Code: MATH101\n",
            "Course Teacher: Mr. Smith\n",
            "Course Students: ['Alice']\n"
          ]
        }
      ],
      "source": [
        "class Person:\n",
        "    def __init__(self, name, age):\n",
        "        self.__name = name\n",
        "        self.__age = age\n",
        "\n",
        "    def get_name(self):\n",
        "        return self.__name\n",
        "\n",
        "    def get_age(self):\n",
        "        return self.__age\n",
        "\n",
        "class Student(Person):\n",
        "    def __init__(self, name, age, student_id):\n",
        "        super().__init__(name, age)\n",
        "        self.__student_id = student_id\n",
        "\n",
        "    def get_student_id(self):\n",
        "        return self.__student_id\n",
        "\n",
        "class Teacher(Person):\n",
        "    def __init__(self, name, age, employee_id):\n",
        "        super().__init__(name, age)\n",
        "        self.__employee_id = employee_id\n",
        "\n",
        "    def get_employee_id(self):\n",
        "        return self.__employee_id\n",
        "\n",
        "class Course:\n",
        "    def __init__(self, course_name, course_code, teacher, students):\n",
        "        self.__course_name = course_name\n",
        "        self.__course_code = course_code\n",
        "        self.__teacher = teacher\n",
        "        self.__students = students\n",
        "\n",
        "    def get_course_name(self):\n",
        "        return self.__course_name\n",
        "\n",
        "    def get_course_code(self):\n",
        "        return self.__course_code\n",
        "\n",
        "    def get_teacher(self):\n",
        "        return self.__teacher\n",
        "\n",
        "    def get_students(self):\n",
        "        return self.__students\n",
        "\n",
        "# Example Usage:\n",
        "student1 = Student(\"Alice\", 18, \"S12345\")\n",
        "teacher1 = Teacher(\"Mr. Smith\", 35, \"T98765\")\n",
        "course1_students = [student1]\n",
        "\n",
        "course1 = Course(\"Mathematics\", \"MATH101\", teacher1, course1_students)\n",
        "\n",
        "# Accessing information using getter methods\n",
        "print(\"Student Name:\", student1.get_name())\n",
        "print(\"Teacher Name:\", teacher1.get_name())\n",
        "print(\"Course Name:\", course1.get_course_name())\n",
        "print(\"Course Code:\", course1.get_course_code())\n",
        "print(\"Course Teacher:\", course1.get_teacher().get_name())\n",
        "print(\"Course Students:\", [student.get_name() for student in course1.get_students()])"
      ]
    },
    {
      "cell_type": "markdown",
      "id": "7fb5d329-918c-4101-8b02-d4409aa91b81",
      "metadata": {
        "id": "7fb5d329-918c-4101-8b02-d4409aa91b81"
      },
      "source": [
        "12. Explain the concept of property decorators in Python and how they relate to encapsulation."
      ]
    },
    {
      "cell_type": "markdown",
      "id": "1de70e70-23f1-463d-a242-ec951344dc9d",
      "metadata": {
        "id": "1de70e70-23f1-463d-a242-ec951344dc9d"
      },
      "source": [
        "\n",
        "In Python, property decorators provide a way to encapsulate the access and modification of class attributes by allowing the use of getter, setter, and deleter methods. Property decorators help control the behavior of attribute access, enabling validation, computation, or other actions when getting or setting a value. This is closely related to the concept of encapsulation, which is about bundling the data and methods that operate on the data within a single unit (class) and controlling access to that unit.\n",
        "\n",
        "Property Decorators:\n",
        "1.@property:\n",
        "\n",
        "Used to define a getter method for an attribute.\n",
        "Allows you to access the attribute as if it were an attribute rather than a method.\n",
        "\n",
        "class MyClass:\n",
        "    def __init__(self):\n",
        "        self._my_attribute = 42  # Note: Not using name mangling for simplicity\n",
        "\n",
        "    @property\n",
        "    def my_attribute(self):\n",
        "        return self._my_attribute\n",
        "\n",
        "obj = MyClass()\n",
        "print(obj.my_attribute)  # Access as if it were an attribute\n",
        "\n",
        "2.@<attribute>.setter:\n",
        "\n",
        "Used to define a setter method for an attribute.\n",
        "Allows you to perform actions or validations when setting the attribute.\n",
        "\n",
        "class MyClass:\n",
        "    def __init__(self):\n",
        "        self._my_attribute = 42\n",
        "\n",
        "    @property\n",
        "    def my_attribute(self):\n",
        "        return self._my_attribute\n",
        "\n",
        "    @my_attribute.setter\n",
        "    def my_attribute(self, value):\n",
        "        if value > 0:\n",
        "            self._my_attribute = value\n",
        "        else:\n",
        "            print(\"Invalid value. Please provide a positive number.\")\n",
        "\n",
        "obj = MyClass()\n",
        "obj.my_attribute = 100  # Calls the setter method\n",
        "\n",
        "\n",
        "3.@<attribute>.deleter:\n",
        "\n",
        "Used to define a deleter method for an attribute.\n",
        "Allows you to perform cleanup or other actions when deleting the attribute.\n",
        "\n",
        "class MyClass:\n",
        "    def __init__(self):\n",
        "        self._my_attribute = 42\n",
        "\n",
        "    @property\n",
        "    def my_attribute(self):\n",
        "        return self._my_attribute\n",
        "\n",
        "    @my_attribute.deleter\n",
        "    def my_attribute(self):\n",
        "        print(\"Deleting my_attribute.\")\n",
        "        del self._my_attribute\n",
        "\n",
        "obj = MyClass()\n",
        "del obj.my_attribute  # Calls the deleter method\n",
        "\n",
        "\n",
        "Encapsulation:\n",
        "Property decorators are a form of encapsulation because they allow you to control the access to and modification of attributes within a class.\n",
        "They help hide the implementation details and provide a clean interface for interacting with the attributes.\n",
        "The use of property decorators allows you to define getter, setter, and deleter methods without exposing the underlying implementation directly.\n",
        "In summary, property decorators in Python contribute to encapsulation by allowing you to define controlled access to class attributes, providing a more robust and maintainable design. They help in enforcing data integrity, applying validation logic, and encapsulating the implementation details of attribute access."
      ]
    },
    {
      "cell_type": "markdown",
      "id": "ba89b3d8-d772-43c0-9350-19b08c596393",
      "metadata": {
        "id": "ba89b3d8-d772-43c0-9350-19b08c596393"
      },
      "source": [
        "13. What is data hiding, and why is it important in encapsulation? Provide examples."
      ]
    },
    {
      "cell_type": "markdown",
      "id": "d2beeb12-01cc-426f-b49e-191db84693ad",
      "metadata": {
        "id": "d2beeb12-01cc-426f-b49e-191db84693ad"
      },
      "source": [
        "Data hiding is a concept in object-oriented programming that refers to the practice of restricting the access to certain attributes or methods of a class, making them private or protected. The idea is to prevent the direct access or modification of internal details from outside the class, promoting encapsulation and reducing dependencies between different parts of the program.\n",
        "\n",
        "Importance of Data Hiding in Encapsulation:\n",
        "\n",
        "Encapsulation:\n",
        "\n",
        "Data hiding is a key aspect of encapsulation, where the implementation details of a class are hidden from the external world.\n",
        "By restricting direct access to internal attributes, encapsulation ensures that the object's state is manipulated only through well-defined interfaces (methods).\n",
        "Security:\n",
        "\n",
        "Data hiding improves security by preventing unintended or unauthorized access to sensitive information.\n",
        "Private attributes are not directly accessible from outside the class, reducing the risk of accidental modifications or misuse.\n",
        "Maintainability:\n",
        "\n",
        "Hiding the internal details of a class allows for easier maintenance and updates to the class's implementation.\n",
        "Changes to the internal representation won't affect the external code as long as the public interface remains consistent.\n",
        "Flexibility:\n",
        "\n",
        "Data hiding enhances the flexibility to change the internal implementation of a class without affecting the external code.\n",
        "It allows developers to evolve and improve the class over time without breaking existing functionality.\n",
        "Reduced Dependencies:\n",
        "\n",
        "By limiting direct access to attributes, data hiding reduces dependencies between different parts of the program.\n",
        "This makes it easier to modify one part of the code without affecting other parts.\n",
        "Examples:\n",
        "\n",
        "Let's consider an example of a BankAccount class with and without data hiding:\n",
        "\n",
        "Without Data Hiding:\n",
        "    \n",
        "    class BankAccount:\n",
        "    def __init__(self, balance):\n",
        "        self.balance = balance\n",
        "\n",
        " External code\n",
        "account = BankAccount(1000)\n",
        "account.balance -= 500  # Direct access to modify balance\n",
        "\n",
        "With Data Hiding:\n",
        "\n",
        "class BankAccount:\n",
        "    def __init__(self, balance):\n",
        "        self.__balance = balance # Using data hiding\n",
        "        \n",
        "    def get_balance(self):\n",
        "        return self.__balance\n",
        "    \n",
        "    def deposit(self, amount):\n",
        "        self.__balance += amount\n",
        "        \n",
        "    def withdraw(self, amount):\n",
        "        if amount <= self.__balance:\n",
        "            self.__balance -= amount\n",
        "        else:\n",
        "            print(\"Insufficient funds.\")\n",
        "            \n",
        " External code\n",
        "account = BankAccount(1000)\n",
        "account.withdraw(500) # Using methods to interact with the account"
      ]
    },
    {
      "cell_type": "markdown",
      "id": "a14c05cb-ff97-423a-99dd-6f2173ee9449",
      "metadata": {
        "id": "a14c05cb-ff97-423a-99dd-6f2173ee9449"
      },
      "source": [
        "14. Create a Python class called `Employee` with private attributes for salary (`__salary`) and employee ID (`__employee_id`). Provide a method to calculate yearly bonuses."
      ]
    },
    {
      "cell_type": "code",
      "execution_count": null,
      "id": "1e629359-8bc1-4c82-81d5-c28fb65e4b19",
      "metadata": {
        "id": "1e629359-8bc1-4c82-81d5-c28fb65e4b19",
        "outputId": "405066c6-eaf6-431c-830d-77ea221f6f5a"
      },
      "outputs": [
        {
          "name": "stdout",
          "output_type": "stream",
          "text": [
            "Employee ID: 101\n",
            "Employee Salary: 60000\n",
            "Yearly Bonus (10%): $6000.0\n"
          ]
        }
      ],
      "source": [
        "class Employee:\n",
        "    def __init__(self, employee_id, salary):\n",
        "        self.__employee_id = employee_id\n",
        "        self.__salary = salary\n",
        "\n",
        "    def get_employee_id(self):\n",
        "        return self.__employee_id\n",
        "\n",
        "    def get_salary(self):\n",
        "        return self.__salary\n",
        "\n",
        "    def calculate_yearly_bonus(self, bonus_percentage):\n",
        "        \"\"\"\n",
        "        Calculate and return the yearly bonus based on the provided bonus percentage.\n",
        "        \"\"\"\n",
        "        if 0 <= bonus_percentage <= 100:\n",
        "            bonus_amount = (bonus_percentage / 100) * self.__salary\n",
        "            return bonus_amount\n",
        "        else:\n",
        "            print(\"Invalid bonus percentage.Please provide a value between 0 and 100.\")\n",
        "            return 0\n",
        "\n",
        "# Example Usage:\n",
        "employee = Employee(employee_id=101, salary = 60000)\n",
        "\n",
        "# Accessing information using getter methods\n",
        "print(\"Employee ID:\", employee.get_employee_id())\n",
        "print(\"Employee Salary:\", employee.get_salary())\n",
        "\n",
        "# Calculate yearly bouns\n",
        "bonus_percentage = 10\n",
        "yearly_bonus = employee.calculate_yearly_bonus(bonus_percentage)\n",
        "print(f\"Yearly Bonus ({bonus_percentage}%): ${yearly_bonus}\")"
      ]
    },
    {
      "cell_type": "markdown",
      "id": "3f9e1553-c91e-4223-a07e-1d1c9f87b6fd",
      "metadata": {
        "id": "3f9e1553-c91e-4223-a07e-1d1c9f87b6fd"
      },
      "source": [
        "15. Discuss the use of accessors and mutators in encapsulation. How do they help maintain control over\n",
        "attribute access?"
      ]
    },
    {
      "cell_type": "markdown",
      "id": "2dc7adcc-2355-46ea-9d45-4269f74c60e9",
      "metadata": {
        "id": "2dc7adcc-2355-46ea-9d45-4269f74c60e9"
      },
      "source": [
        "Accessors and mutators, also known as getters and setters, are methods used in encapsulation to control access to the attributes of a class. They play a crucial role in maintaining control over attribute access, promoting data integrity, and enforcing encapsulation principles. Here's an overview of accessors and mutators:\n",
        "\n",
        "Accessors (Getters):\n",
        "Purpose:\n",
        "\n",
        "Accessors are methods used to retrieve the values of private attributes.\n",
        "They provide a controlled way to access the internal state of an object.\n",
        "Naming Convention:\n",
        "\n",
        "Accessor methods often have names starting with \"get_\" followed by the attribute name.\n",
        "Example:\n",
        "    class MyClass:\n",
        "    def __init__(self, my_attribute):\n",
        "        self.__my_attribute = my_attribute\n",
        "\n",
        "    def get_my_attribute(self):\n",
        "        return self.__my_attribute\n",
        "\n",
        "    Benefits:\n",
        "\n",
        "Allows read-only access to the private attributes.\n",
        "Enables validation or additional logic when retrieving values.\n",
        "Mutators (Setters):\n",
        "Purpose:\n",
        "\n",
        "Mutators are methods used to modify the values of private attributes.\n",
        "They provide a controlled way to update the internal state of an object.\n",
        "Naming Convention:\n",
        "\n",
        "Mutator methods often have names starting with \"set_\" followed by the attribute name.\n",
        "Example:\n",
        "    class MyClass:\n",
        "    def __init__(self, my_attribute):\n",
        "        self.__my_attribute = my_attribute\n",
        "\n",
        "    def set_my_attribute(self, new_value):\n",
        "        # Optional: Add validation logic\n",
        "        self.__my_attribute = new_value\n",
        "\n",
        "Benefits:\n",
        "\n",
        "Allows controlled modification of private attributes.\n",
        "Enables validation or additional logic before setting values.\n",
        "How They Help Maintain Control:\n",
        "\n",
        "1.Encapsulation:\n",
        "\n",
        "Accessors and mutators encapsulate the internal state of a class, preventing direct access to private attributes.\n",
        "\n",
        "2.Controlled Access:\n",
        "\n",
        "Accessors provide a controlled way to read the values, ensuring that access adheres to defined rules or validations.\n",
        "\n",
        "3.Validation:\n",
        "\n",
        "Mutators allow validation logic to be applied before setting attribute values, ensuring data integrity.\n",
        "\n",
        "4.Abstraction:\n",
        "\n",
        "Accessors abstract away the internal representation of an object, presenting a clean and well-defined interface.\n",
        "\n",
        "5.Flexibility:\n",
        "\n",
        "By using accessors and mutators, the internal implementation details of a class can be changed without affecting external code.\n",
        "\n",
        "6.Readability:\n",
        "\n",
        "Accessors and mutators contribute to code readability by making it clear when attributes are being accessed or modified.\n",
        "\n",
        "7.Preventing Unauthorized Access:\n",
        "\n",
        "Accessors and mutators help prevent unauthorized access to private attributes, enhancing security.\n",
        "\n",
        "8.Maintenance:\n",
        "\n",
        "Changes to the internal representation of data can be made within the accessor and mutator methods, making maintenance easier."
      ]
    },
    {
      "cell_type": "markdown",
      "id": "0f88b968-deb3-4604-9a38-f88cef1692f9",
      "metadata": {
        "id": "0f88b968-deb3-4604-9a38-f88cef1692f9"
      },
      "source": [
        "16. What are the potential drawbacks or disadvantages of using encapsulation in Python?"
      ]
    },
    {
      "cell_type": "markdown",
      "id": "d735a688-1d68-4528-b663-aeb4401a9b0a",
      "metadata": {
        "id": "d735a688-1d68-4528-b663-aeb4401a9b0a"
      },
      "source": [
        "While encapsulation is a fundamental concept in object-oriented programming and brings several benefits, it's essential to be aware of potential drawbacks or disadvantages associated with its use in Python. Here are some considerations:\n",
        "\n",
        "1.Overhead and Boilerplate Code:\n",
        "\n",
        "Encapsulation often involves writing getter and setter methods, which can lead to increased boilerplate code.\n",
        "This can be seen as a disadvantage, especially in simple classes where direct attribute access might be sufficient.\n",
        "\n",
        "2.Reduced Readability for Simple Cases:\n",
        "\n",
        "In simple cases, where there are no additional validations or logic in getters and setters, encapsulation may introduce unnecessary complexity and reduce code readability.\n",
        "\n",
        "3.Flexibility vs. Rigidity:\n",
        "\n",
        "Encapsulation can make the code more rigid, especially if the encapsulated logic is overly strict or if frequent changes are needed in the internal representation.\n",
        "Achieving the right balance between encapsulation and flexibility is crucial.\n",
        "\n",
        "4.Learning Curve for Beginners:\n",
        "\n",
        "For beginners, understanding the concept of encapsulation, getters, and setters might add complexity to the learning process.\n",
        "It may take time for newcomers to appreciate the benefits of encapsulation.\n",
        "\n",
        "5.Performance Impact:\n",
        "\n",
        "In some cases, the use of getters and setters may introduce a slight performance overhead compared to direct attribute access.\n",
        "For performance-critical applications, this overhead could be a concern.\n",
        "\n",
        "6.Less Direct Access to Attributes:\n",
        "\n",
        "Encapsulation limits direct access to attributes, which can be a disadvantage in situations where direct manipulation of attributes is desired for certain optimizations or scenarios.\n",
        "\n",
        "7.Potential Misuse of Accessors/Mutators:\n",
        "\n",
        "Developers might misuse accessors or mutators, making incorrect assumptions about the behavior or relying on undocumented implementation details.\n",
        "\n",
        "8.Verbosity:\n",
        "\n",
        "Excessive use of encapsulation can lead to verbose code, making it longer and potentially harder to maintain.\n",
        "Striking a balance between encapsulation and brevity is important.\n",
        "\n",
        "9.Testing Complexity:\n",
        "\n",
        "Unit testing might become more complex when the internal state of objects is encapsulated, as it requires additional effort to test through the public interface.\n",
        "\n",
        "10Pythonic Convention:\n",
        "\n",
        "Python has a principle known as \"we are all consenting adults here,\" emphasizing trust in developers to use objects responsibly. Some argue that strict encapsulation might go against this Pythonic philosophy."
      ]
    },
    {
      "cell_type": "markdown",
      "id": "8b6db36f-31c4-4600-a705-5d19744d5f4f",
      "metadata": {
        "id": "8b6db36f-31c4-4600-a705-5d19744d5f4f"
      },
      "source": [
        "17. Create a Python class for a library system that encapsulates book information, including titles, authors,\n",
        "and availability status."
      ]
    },
    {
      "cell_type": "code",
      "execution_count": null,
      "id": "1d298e46-eee2-42f4-a4ee-535fc05bde24",
      "metadata": {
        "id": "1d298e46-eee2-42f4-a4ee-535fc05bde24",
        "outputId": "7957f4d8-d73b-46e6-8146-ca525e7a6344"
      },
      "outputs": [
        {
          "name": "stdout",
          "output_type": "stream",
          "text": [
            "Book 1 Title: The Catcher in the Rye\n",
            "Book 1 Author: J.D. Salinger\n",
            "Is Book 1 available? True\n",
            "Book 'The Catcher in the Rye' by J.D. Salinger has been borrowed.\n",
            "Book 'The Catcher in the Rye' by J.D. Salinger has been returned.\n",
            "Book 'To Kill a Mockingbird' by Harper Lee has been borrowed.\n",
            "Book 'To Kill a Mockingbird' by Harper Lee is currently not available.\n"
          ]
        }
      ],
      "source": [
        "class Book:\n",
        "    def __init__(self, title, author):\n",
        "        self.__title = title\n",
        "        self.__author = author\n",
        "        self.__available = True\n",
        "\n",
        "    def get_title(self):\n",
        "        return self.__title\n",
        "\n",
        "    def get_author(self):\n",
        "        return self.__author\n",
        "\n",
        "    def is_available(self):\n",
        "        return self.__available\n",
        "\n",
        "    def borrow_book(self):\n",
        "        if self.__available:\n",
        "            print(f\"Book '{self.__title}' by {self.__author} has been borrowed.\")\n",
        "            self.__available = False\n",
        "        else:\n",
        "            print(f\"Book '{self.__title}' by {self.__author} is currently not available.\")\n",
        "\n",
        "    def return_book(self):\n",
        "        if not self.__available:\n",
        "            print(f\"Book '{self.__title}' by {self.__author} has been returned.\")\n",
        "            self.__available = True\n",
        "        else:\n",
        "            print(f\"Book '{self.__title}' by {self.__author} is already available.\")\n",
        "\n",
        "# Example Usage:\n",
        "book1 = Book(\"The Catcher in the Rye\", \"J.D. Salinger\")\n",
        "book2 = Book(\"To Kill a Mockingbird\", \"Harper Lee\")\n",
        "\n",
        "# Accessing information using getter methods\n",
        "print(\"Book 1 Title:\", book1.get_title())\n",
        "print(\"Book 1 Author:\", book1.get_author())\n",
        "print(\"Is Book 1 available?\", book1.is_available())\n",
        "\n",
        "# Borrowing and returning books\n",
        "book1.borrow_book()\n",
        "book1.return_book()\n",
        "\n",
        "book2.borrow_book()\n",
        "book2.borrow_book()\n"
      ]
    },
    {
      "cell_type": "markdown",
      "id": "84a6cc46-9157-4205-80e0-b212f7e6a012",
      "metadata": {
        "id": "84a6cc46-9157-4205-80e0-b212f7e6a012"
      },
      "source": [
        "18. Explain how encapsulation enhances code reusability and modularity in Python programs."
      ]
    },
    {
      "cell_type": "markdown",
      "id": "f6fe60dd-a80c-4c5c-ae12-df874dee2a13",
      "metadata": {
        "id": "f6fe60dd-a80c-4c5c-ae12-df874dee2a13"
      },
      "source": [
        "Encapsulation enhances code reusability and modularity in Python programs by promoting a clean separation of concerns, reducing dependencies, and providing well-defined interfaces. Here's how encapsulation contributes to these aspects:\n",
        "\n",
        "1. Isolation of Implementation Details:\n",
        "Encapsulation hides the internal details of a class, exposing only a well-defined interface.\n",
        "This isolation allows the class to be treated as a black box, and external code can interact with it without needing to understand its implementation.\n",
        "2. Reduced Dependencies:\n",
        "Encapsulation helps reduce dependencies between different parts of the codebase.\n",
        "External code depends only on the public interface of a class, not on its internal implementation.\n",
        "Changes to the internal implementation don't affect external code as long as the public interface remains consistent.\n",
        "3. Clean and Controlled Access:\n",
        "Encapsulation provides controlled access to the attributes and methods of a class through getter and setter methods.\n",
        "This clean access ensures that external code interacts with the class in a prescribed manner, preventing unintended modifications or misuse.\n",
        "4. Enhanced Reusability:\n",
        "Encapsulation encourages the creation of reusable and modular components.\n",
        "Well-defined interfaces make it easier to reuse classes in different contexts without worrying about their internal details.\n",
        "Reusable components contribute to a more maintainable and scalable codebase.\n",
        "5. Promotion of Modularity:\n",
        "Encapsulation supports the creation of modular code by organizing functionality into distinct, encapsulated units (classes).\n",
        "Each module can be developed, tested, and maintained independently, enhancing overall code modularity.\n",
        "6. Flexibility in Implementation:\n",
        "Encapsulation allows for flexibility in changing the internal implementation of a class without affecting the external code.\n",
        "Internal improvements or optimizations can be made without impacting the code using the class.\n",
        "7. Code Maintenance:\n",
        "Encapsulation simplifies code maintenance by localizing changes within the class itself.\n",
        "Modifications to the internal details are less likely to have a cascading impact on the rest of the codebase.\n",
        "8. Security and Data Integrity:\n",
        "Encapsulation helps ensure security and data integrity by controlling access to sensitive attributes.\n",
        "Validation and logic can be added within getter and setter methods, enhancing the reliability of the code.\n",
        "9. Readability and Understandability:\n",
        "Encapsulation contributes to code readability and understandability by making the code more self-explanatory.\n",
        "Well-defined interfaces make it easier for developers to comprehend the functionality provided by a class.\n",
        "Example:\n",
        "Consider a DatabaseConnection class as an example. Encapsulation allows hiding the details of establishing and managing a database connection. External code interacts with the class through methods like connect, execute_query, and close_connection, without needing to understand the intricacies of the connection implementation."
      ]
    },
    {
      "cell_type": "code",
      "execution_count": null,
      "id": "734a7553-1408-4c2c-81ce-d860ba254a33",
      "metadata": {
        "id": "734a7553-1408-4c2c-81ce-d860ba254a33"
      },
      "outputs": [],
      "source": [
        "class DatabaseConnection:\n",
        "    def __init__(self, connection_string):\n",
        "        # Internal details for establishing a connection\n",
        "        pass\n",
        "\n",
        "    def connect(self):\n",
        "        # Logic to establish a connection\n",
        "        pass\n",
        "\n",
        "    def execute_query(self, query):\n",
        "        # Logic to execute a query\n",
        "        pass\n",
        "\n",
        "    def close_connection(self):\n",
        "        # Logic to close the connection\n",
        "        pass\n"
      ]
    },
    {
      "cell_type": "markdown",
      "id": "c6b640dd-7563-4c84-a0c9-9bbb424a0d1b",
      "metadata": {
        "id": "c6b640dd-7563-4c84-a0c9-9bbb424a0d1b"
      },
      "source": [
        "19. Describe the concept of information hiding in encapsulation. Why is it essential in software development?"
      ]
    },
    {
      "cell_type": "markdown",
      "id": "de7ad5f2-5457-4e2e-bf55-a95bcc2a6ef2",
      "metadata": {
        "id": "de7ad5f2-5457-4e2e-bf55-a95bcc2a6ef2"
      },
      "source": [
        "\n",
        "Information hiding is a fundamental concept in encapsulation that involves restricting access to certain details of a class or module and exposing only the information that is necessary for external use. The primary goal is to shield the internal implementation details and complexity, promoting a well-defined and controlled interface for interaction.\n",
        "\n",
        "#Key Aspects of Information Hiding in Encapsulation:\n",
        "\n",
        "1.Private Attributes and Methods:\n",
        "\n",
        "In encapsulation, attributes and methods can be designated as private (using naming conventions like __attribute or __method).\n",
        "Private members are not directly accessible from outside the class, enforcing a level of encapsulation.\n",
        "\n",
        "2.Access Control:\n",
        "\n",
        "Access modifiers (public, private, protected) are used to control the visibility of class members.\n",
        "Public members are accessible from outside the class, while private members are accessible only within the class.\n",
        "\n",
        "3.Getter and Setter Methods:\n",
        "\n",
        "Encapsulation often involves providing getter and setter methods to access and modify private attributes.\n",
        "These methods serve as controlled interfaces for external code to interact with the encapsulated data.\n",
        "\n",
        "4,Abstraction:\n",
        "\n",
        "Information hiding abstracts away the unnecessary details, providing a simplified and clean view of the functionality.\n",
        "External code interacts with the abstraction, not with the intricacies of the internal implementation.\n",
        "\n",
        "#Importance of Information Hiding in Software Development:\n",
        "\n",
        "1.Security:\n",
        "\n",
        "Information hiding enhances security by preventing direct access to sensitive data and methods.\n",
        "It reduces the risk of unauthorized modifications or misuse of internal details.\n",
        "\n",
        "2.Modularity:\n",
        "\n",
        "Information hiding promotes modularity by encapsulating functionality into distinct units.\n",
        "Each unit can be developed, tested, and maintained independently, improving code organization.\n",
        "\n",
        "3.Reduced Dependencies:\n",
        "\n",
        "Hiding implementation details reduces dependencies between different parts of the code.\n",
        "External code depends only on the public interface, making the system less prone to changes in internal details.\n",
        "\n",
        "4.Encapsulation:\n",
        "\n",
        "Information hiding is a key aspect of encapsulation, which bundles data and methods together.\n",
        "Encapsulation allows for the creation of self-contained, reusable components with well-defined interfaces.\n",
        "\n",
        "5.Code Maintainability:\n",
        "\n",
        "With information hiding, modifications to the internal implementation have minimal impact on external code.\n",
        "This enhances code maintainability by localizing changes within the class or module.\n",
        "\n",
        "6.Flexibility:\n",
        "\n",
        "Information hiding provides flexibility to improve or optimize the internal implementation without affecting external code.\n",
        "Changes can be made to enhance performance or add features without breaking existing functionality.\n",
        "\n",
        "7.Clean Interfaces:\n",
        "\n",
        "Information hiding leads to clean and well-defined interfaces for classes and modules.\n",
        "External code interacts with a controlled set of methods and attributes, making the system more predictable.\n",
        "\n",
        "8.Abstraction for Clients:\n",
        "\n",
        "Information hiding allows clients (users of a class or module) to work with an abstraction, understanding only what is necessary for their tasks.\n",
        "It simplifies the user experience and reduces cognitive load."
      ]
    },
    {
      "cell_type": "markdown",
      "id": "16ab847b-d037-4900-a8c2-cd78fe765cef",
      "metadata": {
        "id": "16ab847b-d037-4900-a8c2-cd78fe765cef"
      },
      "source": [
        "20. Create a Python class called `Customer` with private attributes for customer details like name, address,\n",
        "and contact information. Implement encapsulation to ensure data integrity and security."
      ]
    },
    {
      "cell_type": "code",
      "execution_count": null,
      "id": "59ec9608-5460-4bc1-beda-8e8ae9e34538",
      "metadata": {
        "id": "59ec9608-5460-4bc1-beda-8e8ae9e34538",
        "outputId": "9288e9f0-f450-4123-a1e2-e5a24378c64d"
      },
      "outputs": [
        {
          "name": "stdout",
          "output_type": "stream",
          "text": [
            "Customer ID: 101\n",
            "Customer Name: John Doe\n",
            "Customer Address: 123 Main St\n",
            "Customer Contact Info: john.doe@example.com\n",
            "Address updated for customer 101.\n",
            "Contact information updated for customer 101.\n"
          ]
        }
      ],
      "source": [
        "class Customer:\n",
        "    def __init__(self, customer_id, name, address, contact_info):\n",
        "        self.__customer_id = customer_id\n",
        "        self.__name = name\n",
        "        self.__address = address\n",
        "        self.__contact_info = contact_info\n",
        "\n",
        "    def get_customer_id(self):\n",
        "        return self.__customer_id\n",
        "\n",
        "    def get_name(self):\n",
        "        return self.__name\n",
        "\n",
        "    def get_address(self):\n",
        "        return self.__address\n",
        "\n",
        "    def get_contact_info(self):\n",
        "        return self.__contact_info\n",
        "\n",
        "    def update_address(self, new_address):\n",
        "        # Optional: Add validation logic\n",
        "        self.__address = new_address\n",
        "        print(f\"Address updated for customer {self.__customer_id}.\")\n",
        "\n",
        "    def update_contact_info(self, new_contact_info):\n",
        "        # Optional: Add validation logic\n",
        "        self.__contact_info = new_contact_info\n",
        "        print(f\"Contact information updated for customer {self.__customer_id}.\")\n",
        "\n",
        "# Example Usage:\n",
        "customer1 = Customer(customer_id=101, name=\"John Doe\", address=\"123 Main St\", contact_info=\"john.doe@example.com\")\n",
        "\n",
        "# Accessing information using getter methods\n",
        "print(\"Customer ID:\", customer1.get_customer_id())\n",
        "print(\"Customer Name:\", customer1.get_name())\n",
        "print(\"Customer Address:\", customer1.get_address())\n",
        "print(\"Customer Contact Info:\", customer1.get_contact_info())\n",
        "\n",
        "# Updating customer details using setter methods\n",
        "customer1.update_address(\"456 Oak Ave\")\n",
        "customer1.update_contact_info(\"john.doe.new@example.com\")\n"
      ]
    },
    {
      "cell_type": "markdown",
      "id": "374250cb-a9b2-4c86-a41a-ac74357f045f",
      "metadata": {
        "id": "374250cb-a9b2-4c86-a41a-ac74357f045f"
      },
      "source": [
        "# Polymorphism:"
      ]
    },
    {
      "cell_type": "markdown",
      "id": "b0b35b5c-c40f-4611-8713-34df1281ccee",
      "metadata": {
        "id": "b0b35b5c-c40f-4611-8713-34df1281ccee"
      },
      "source": [
        "1. What is polymorphism in Python? Explain how it is related to object-oriented programming."
      ]
    },
    {
      "cell_type": "markdown",
      "id": "e626c443-04f7-4953-9a34-9a868ff3075b",
      "metadata": {
        "id": "e626c443-04f7-4953-9a34-9a868ff3075b"
      },
      "source": [
        "Polymorphism is a key concept in object-oriented programming (OOP) that allows objects of different types to be treated as objects of a common type. It enables a single interface or method to be used with different types of objects, providing a way to make code more flexible and reusable.\n",
        "\n",
        "There are two main types of polymorphism in Python:\n",
        "\n",
        "1.Compile-time Polymorphism (Static Binding or Method Overloading):\n",
        "\n",
        "This occurs when the method to be invoked is determined at compile time.\n",
        "In Python, method overloading is achieved by defining multiple methods with the same name in the same class, but with different parameter lists.\n",
        "The appropriate method is selected based on the number and types of arguments during the function call.\n",
        "\n",
        "class MathOperations:\n",
        "    def add(self, a, b):\n",
        "        return a + b\n",
        "\n",
        "    def add(self, a, b, c):\n",
        "        return a + b + c\n",
        "\n",
        "math_obj = MathOperations()\n",
        "result1 = math_obj.add(2, 3)        # Calls the first add method\n",
        "result2 = math_obj.add(2, 3, 4)     # Calls the second add method\n",
        "\n",
        "2.Run-time Polymorphism (Dynamic Binding or Method Overriding):\n",
        "\n",
        "This occurs when the method to be invoked is determined at runtime.\n",
        "In Python, method overriding is achieved by defining a method in a subclass with the same name as a method in its superclass.\n",
        "The overridden method in the subclass provides a specific implementation, replacing the implementation in the superclass.\n",
        "\n",
        "class Animal:\n",
        "    def make_sound(self):\n",
        "        print(\"Generic animal sound\")\n",
        "\n",
        "class Dog(Animal):\n",
        "    def make_sound(self):\n",
        "        print(\"Woof!\")\n",
        "\n",
        "class Cat(Animal):\n",
        "    def make_sound(self):\n",
        "        print(\"Meow!\")\n",
        "\n",
        "# Polymorphic behavior\n",
        "animals = [Dog(), Cat()]\n",
        "for animal in animals:\n",
        "    animal.make_sound()\n",
        "\n",
        "In this example, both Dog and Cat classes inherit from the Animal class, and they override the make_sound method. During runtime, the appropriate make_sound method is called based on the actual type of the object.\n",
        "\n",
        "Related to Object-Oriented Programming (OOP):\n",
        "\n",
        "Polymorphism is one of the four pillars of OOP, along with encapsulation, inheritance, and abstraction.\n",
        "It facilitates the creation of reusable and modular code by allowing different objects to be treated uniformly through a common interface.\n",
        "Polymorphism supports the concept of \"code to an interface, not to an implementation,\" encouraging a more flexible and extensible design."
      ]
    },
    {
      "cell_type": "markdown",
      "id": "c49acce0-0d0b-49ab-a071-e03cec5e0b9a",
      "metadata": {
        "id": "c49acce0-0d0b-49ab-a071-e03cec5e0b9a"
      },
      "source": [
        "2. Describe the difference between compile-time polymorphism and runtime polymorphism in Python."
      ]
    },
    {
      "cell_type": "markdown",
      "id": "03230a30-8512-4d6b-996c-4eb33840d6f1",
      "metadata": {
        "id": "03230a30-8512-4d6b-996c-4eb33840d6f1"
      },
      "source": [
        "Compile-time Polymorphism (Static Binding or Method Overloading):\n",
        "\n",
        "Definition: Compile-time polymorphism occurs when the method to be invoked is determined at compile time.\n",
        "\n",
        "Method Overloading: In Python, compile-time polymorphism is typically achieved through method overloading. Method overloading allows a class to define multiple methods with the same name but with different parameter lists. The correct method to be called is determined based on the number and types of arguments provided during the function call.\n",
        "\n",
        "Example:\n",
        "    class MathOperations:\n",
        "    def add(self, a, b):\n",
        "        return a + b\n",
        "\n",
        "    def add(self, a, b, c):\n",
        "        return a + b + c\n",
        "\n",
        "math_obj = MathOperations()\n",
        "result1 = math_obj.add(2, 3)        # Calls the first add method\n",
        "result2 = math_obj.add(2, 3, 4)     # Calls the second add method\n",
        "\n",
        "Advantages: Provides a way to define multiple methods with the same name, improving code readability and allowing for flexibility in the number of arguments.\n",
        "\n",
        "Runtime Polymorphism (Dynamic Binding or Method Overriding):\n",
        "\n",
        "Definition: Runtime polymorphism occurs when the method to be invoked is determined at runtime.\n",
        "\n",
        "Method Overriding: In Python, runtime polymorphism is achieved through method overriding. Method overriding occurs when a subclass provides a specific implementation for a method that is already defined in its superclass. The overridden method in the subclass replaces the implementation in the superclass.\n",
        "\n",
        "Example:\n",
        "    class Animal:\n",
        "    def make_sound(self):\n",
        "        print(\"Generic animal sound\")\n",
        "\n",
        "class Dog(Animal):\n",
        "    def make_sound(self):\n",
        "        print(\"Woof!\")\n",
        "\n",
        "class Cat(Animal):\n",
        "    def make_sound(self):\n",
        "        print(\"Meow!\")\n",
        "\n",
        "# Polymorphic behavior\n",
        "animals = [Dog(), Cat()]\n",
        "for animal in animals:\n",
        "    animal.make_sound()\n",
        "\n",
        "Advantages: Allows for a more specific implementation of a method in a subclass, providing flexibility and customization. Enables code to adapt to the actual type of an object during runtime.\n",
        "\n",
        "Key Differences:\n",
        "\n",
        "1.Timing of Method Resolution:\n",
        "\n",
        "Compile-time Polymorphism: Method resolution occurs at compile time based on the provided arguments.\n",
        "Runtime Polymorphism: Method resolution occurs at runtime based on the actual type of the object.\n",
        "\n",
        "2.Mechanism Used:\n",
        "\n",
        "Compile-time Polymorphism: Achieved through method overloading.\n",
        "Runtime Polymorphism: Achieved through method overriding.\n",
        "\n",
        "3.Flexibility:\n",
        "\n",
        "Compile-time Polymorphism: Offers flexibility in defining methods with varying parameter lists.\n",
        "Runtime Polymorphism: Offers flexibility in providing specific implementations in subclasses.\n",
        "\n",
        "4.Example Scenario:\n",
        "\n",
        "Compile-time Polymorphism: Useful when a class wants to provide multiple versions of a method with different parameters.\n",
        "Runtime Polymorphism: Useful when a subclass wants to provide a specialized implementation for a method defined in its superclass."
      ]
    },
    {
      "cell_type": "markdown",
      "id": "d9fa608b-11c1-41eb-a42a-77c55f9ca5cc",
      "metadata": {
        "id": "d9fa608b-11c1-41eb-a42a-77c55f9ca5cc"
      },
      "source": [
        "3. Create a Python class hierarchy for shapes (e.g., circle, square, triangle) and demonstrate polymorphism\n",
        "through a common method, such as `calculate_area()`."
      ]
    },
    {
      "cell_type": "code",
      "execution_count": null,
      "id": "fab8a557-ba81-4e0f-bf8c-ac7f276ff1ec",
      "metadata": {
        "id": "fab8a557-ba81-4e0f-bf8c-ac7f276ff1ec",
        "outputId": "76268c87-caeb-4dfe-ebd7-a2c31ecc1426"
      },
      "outputs": [
        {
          "name": "stdout",
          "output_type": "stream",
          "text": [
            "The area of the Circle is: 78.54\n",
            "The area of the Square is: 16.00\n",
            "The area of the Triangle is: 9.00\n"
          ]
        }
      ],
      "source": [
        "import math\n",
        "\n",
        "class Shape:\n",
        "    def calculate_area(self):\n",
        "        pass # Placeholder for the common method\n",
        "\n",
        "class Circle(Shape):\n",
        "    def __init__(self, radius):\n",
        "        self.radius = radius\n",
        "\n",
        "    def calculate_area(self):\n",
        "        return math.pi * self.radius**2\n",
        "\n",
        "class Square(Shape):\n",
        "    def __init__(self, side_length):\n",
        "        self.side_length = side_length\n",
        "\n",
        "    def calculate_area(self):\n",
        "        return self.side_length**2\n",
        "\n",
        "class Triangle(Shape):\n",
        "    def __init__(self, base, height):\n",
        "        self.base = base\n",
        "        self.height = height\n",
        "\n",
        "    def calculate_area(self):\n",
        "        return 0.5 * self.base * self.height\n",
        "\n",
        "# Demonstration of Polymorphism\n",
        "shapes = [Circle(radius=5), Square(side_length=4), Triangle(base=3, height=6)]\n",
        "\n",
        "for shape in shapes:\n",
        "    area = shape.calculate_area()\n",
        "    print(f\"The area of the {type(shape).__name__} is: {area:.2f}\")"
      ]
    },
    {
      "cell_type": "markdown",
      "id": "e729008c-7d21-4426-b3b9-323dc0a08148",
      "metadata": {
        "id": "e729008c-7d21-4426-b3b9-323dc0a08148"
      },
      "source": [
        "4. Explain the concept of method overriding in polymorphism. Provide an example.\n"
      ]
    },
    {
      "cell_type": "markdown",
      "id": "eea2b829-83e6-449d-ac64-a1ad1999aa7c",
      "metadata": {
        "id": "eea2b829-83e6-449d-ac64-a1ad1999aa7c"
      },
      "source": [
        "\n",
        "Method overriding is a concept in object-oriented programming (OOP) where a subclass provides a specific implementation for a method that is already defined in its superclass. The overridden method in the subclass replaces the implementation in the superclass. This allows a more specialized behavior for the method in the subclass while maintaining the same method signature.\n",
        "\n",
        "Here's a breakdown of method overriding:\n",
        "\n",
        "Inheritance: The subclass inherits the method from its superclass.\n",
        "\n",
        "Same Method Signature: The overriding method in the subclass has the same method signature (name and parameters) as the method in the superclass.\n",
        "\n",
        "Replacement: The overridden method in the subclass provides a specific implementation, effectively replacing the implementation in the superclass.\n",
        "\n",
        "Dynamic Binding: The decision on which method to call is determined at runtime based on the actual type of the object.\n",
        "\n",
        "Access to Superclass Method: The subclass can still access the overridden method of the superclass using the super() keyword.\n",
        "\n",
        "Here's an example to illustrate method overriding in Python:"
      ]
    },
    {
      "cell_type": "code",
      "execution_count": null,
      "id": "0fba0f05-2a01-43a4-ae52-aa0e39a9a095",
      "metadata": {
        "id": "0fba0f05-2a01-43a4-ae52-aa0e39a9a095",
        "outputId": "2a7b090b-fe50-42e4-86ab-bca237e0ec1e"
      },
      "outputs": [
        {
          "name": "stdout",
          "output_type": "stream",
          "text": [
            "Woof!\n",
            "Meow!\n"
          ]
        }
      ],
      "source": [
        "class Animal:\n",
        "    def make_sound(self):\n",
        "        print(\"Generic animal sound\")\n",
        "\n",
        "class Dog(Animal):\n",
        "    def make_sound(self):\n",
        "        print(\"Woof!\")\n",
        "\n",
        "class Cat(Animal):\n",
        "    def make_sound(self):\n",
        "        print(\"Meow!\")\n",
        "\n",
        "# Polymorphic behavior\n",
        "animals = [Dog(), Cat()]\n",
        "for animal in animals:\n",
        "    animal.make_sound()  # Calls the overridden make_sound method in each subclass\n"
      ]
    },
    {
      "cell_type": "markdown",
      "id": "44e2669f-84b5-4f2d-83c4-825a95900bc2",
      "metadata": {
        "id": "44e2669f-84b5-4f2d-83c4-825a95900bc2"
      },
      "source": [
        "5. How is polymorphism different from method overloading in Python? Provide examples for both."
      ]
    },
    {
      "cell_type": "markdown",
      "id": "bec791b2-da3b-4b7b-baaf-23007c7fdf6a",
      "metadata": {
        "id": "bec791b2-da3b-4b7b-baaf-23007c7fdf6a"
      },
      "source": [
        "Polymorphism and method overloading are related concepts in object-oriented programming, but they are distinct in how they achieve versatility in handling different inputs or object types.\n",
        "\n",
        "Polymorphism:\n",
        "Definition: Polymorphism is the ability of a single function or method to work with objects of multiple types. It allows objects of different classes to be treated as objects of a common type.\n",
        "\n",
        "Mechanism: Polymorphism is typically achieved through method overriding. A subclass provides a specific implementation for a method already defined in its superclass. The decision on which method to call is determined at runtime based on the actual type of the object.\n",
        "\n",
        "Example:"
      ]
    },
    {
      "cell_type": "code",
      "execution_count": null,
      "id": "8873adde-8b03-4d18-b0cf-393c65b38bf3",
      "metadata": {
        "id": "8873adde-8b03-4d18-b0cf-393c65b38bf3",
        "outputId": "91d5581b-570c-4e59-9e03-276ad29875c9"
      },
      "outputs": [
        {
          "name": "stdout",
          "output_type": "stream",
          "text": [
            "Woof!\n",
            "Meow!\n"
          ]
        }
      ],
      "source": [
        "class Animal:\n",
        "    def make_sound(self):\n",
        "        print(\"Generic animal sound\")\n",
        "\n",
        "class Dog(Animal):\n",
        "    def make_sound(self):\n",
        "        print(\"Woof!\")\n",
        "\n",
        "class Cat(Animal):\n",
        "    def make_sound(self):\n",
        "        print(\"Meow!\")\n",
        "\n",
        "# Polymorphic behavior\n",
        "animals = [Dog(), Cat()]\n",
        "for animal in animals:\n",
        "    animal.make_sound()  # Calls the overridden make_sound method in each subclass\n"
      ]
    },
    {
      "cell_type": "markdown",
      "id": "a43def9c-a206-49ad-a1b1-af8276f7a035",
      "metadata": {
        "id": "a43def9c-a206-49ad-a1b1-af8276f7a035"
      },
      "source": [
        "Method Overloading:\n",
        "Definition: Method overloading is the ability to define multiple methods with the same name but with different parameter lists in the same class.\n",
        "\n",
        "Mechanism: Python does not support traditional method overloading like some other languages (e.g., Java). However, method overloading can be achieved using default values for function parameters or variable-length argument lists (e.g., *args, **kwargs).\n",
        "\n",
        "Example:"
      ]
    },
    {
      "cell_type": "code",
      "execution_count": null,
      "id": "c8ab8e52-0b56-48a4-8c60-19458f231583",
      "metadata": {
        "id": "c8ab8e52-0b56-48a4-8c60-19458f231583"
      },
      "outputs": [],
      "source": [
        "class MathOperations:\n",
        "    def add(self, a, b, c=None):\n",
        "        if c is not None:\n",
        "            return a + b + c\n",
        "        else:\n",
        "            return a + b\n",
        "\n",
        "math_obj = MathOperations()\n",
        "result1 = math_obj.add(2, 3)        # Calls the add method with two parameters\n",
        "result2 = math_obj.add(2, 3, 4)     # Calls the add method with three parameters\n"
      ]
    },
    {
      "cell_type": "markdown",
      "id": "1b788204-9ef0-424c-a5a7-d9bae4624289",
      "metadata": {
        "id": "1b788204-9ef0-424c-a5a7-d9bae4624289"
      },
      "source": [
        "Key Differences:\n",
        "\n",
        "1.Mechanism:\n",
        "\n",
        "Polymorphism: Achieved through method overriding, allowing a subclass to provide a specific implementation for a method in its superclass.\n",
        "Method Overloading: Achieved by defining multiple methods with the same name but different parameter lists.\n",
        "\n",
        "2.Type of Input:\n",
        "\n",
        "Polymorphism: Deals with different types of objects, allowing a common method to be used with objects of multiple types.\n",
        "Method Overloading: Deals with different sets of parameters for the same method name.\n",
        "\n",
        "3.Applicability:\n",
        "\n",
        "Polymorphism: Commonly used when dealing with inheritance and overriding methods in subclasses.\n",
        "Method Overloading: Used when a class needs to provide different ways of calling a method based on the number or types of parameters.\n",
        "\n",
        "4.Python Support:\n",
        "\n",
        "Polymorphism: Supported and widely used in Python through method overriding.\n",
        "Method Overloading: Achieved using default values or variable-length argument lists in Python."
      ]
    },
    {
      "cell_type": "markdown",
      "id": "42b4f379-baf0-4d5f-b843-65ee698740e5",
      "metadata": {
        "id": "42b4f379-baf0-4d5f-b843-65ee698740e5"
      },
      "source": [
        "6. Create a Python class called `Animal` with a method `speak()`. Then, create child classes like `Dog`, `Cat`, and `Bird`, each with their own `speak()` method. Demonstrate polymorphism by calling the `speak()` method\n",
        "on objects of different subclasses."
      ]
    },
    {
      "cell_type": "code",
      "execution_count": null,
      "id": "0eaeb604-0182-4e7b-9fa2-69c03988ddff",
      "metadata": {
        "id": "0eaeb604-0182-4e7b-9fa2-69c03988ddff",
        "outputId": "cfa504c1-fca3-4235-91ec-a9304f7beb81"
      },
      "outputs": [
        {
          "name": "stdout",
          "output_type": "stream",
          "text": [
            "Woof!\n",
            "Meow!\n",
            "Chirp!\n"
          ]
        }
      ],
      "source": [
        "class Animal:\n",
        "    def speak(self):\n",
        "        print(\"Generic animal sound\")\n",
        "\n",
        "class Dog(Animal):\n",
        "    def speak(self):\n",
        "        print(\"Woof!\")\n",
        "\n",
        "class Cat(Animal):\n",
        "    def speak(self):\n",
        "        print(\"Meow!\")\n",
        "\n",
        "class Bird(Animal):\n",
        "    def speak(self):\n",
        "        print(\"Chirp!\")\n",
        "\n",
        "# Polymorphic behavior\n",
        "animals = [Dog(), Cat(), Bird()]\n",
        "\n",
        "for animal in animals:\n",
        "    animal.speak() # Calls the overridden speak method in each subclass"
      ]
    },
    {
      "cell_type": "markdown",
      "id": "2cc2a3a1-6b4d-4b41-b06e-73c6feb04673",
      "metadata": {
        "id": "2cc2a3a1-6b4d-4b41-b06e-73c6feb04673"
      },
      "source": [
        "7. Discuss the use of abstract methods and classes in achieving polymorphism in Python. Provide an example\n",
        "using the `abc` module."
      ]
    },
    {
      "cell_type": "markdown",
      "id": "d5d476ac-30d9-42db-bffe-9e602f0d086e",
      "metadata": {
        "id": "d5d476ac-30d9-42db-bffe-9e602f0d086e"
      },
      "source": [
        "\n",
        "Abstract methods and classes play a crucial role in achieving polymorphism in Python. Abstract classes serve as a blueprint for other classes, and abstract methods define methods that must be implemented by any concrete (non-abstract) subclass. The abc module in Python provides tools for working with abstract classes.\n",
        "\n",
        "Example using the abc module:"
      ]
    },
    {
      "cell_type": "code",
      "execution_count": null,
      "id": "22e178d4-9649-45b0-b581-4ea78c226756",
      "metadata": {
        "id": "22e178d4-9649-45b0-b581-4ea78c226756",
        "outputId": "3dc1c56d-55e1-453d-f5cb-684578e5af49"
      },
      "outputs": [
        {
          "name": "stdout",
          "output_type": "stream",
          "text": [
            "The area of the Circle is: 78.54\n",
            "The area of the Square is: 16.00\n",
            "The area of the Triangle is: 9.00\n"
          ]
        }
      ],
      "source": [
        "from abc import ABC, abstractmethod\n",
        "\n",
        "class Shape(ABC):\n",
        "    @abstractmethod\n",
        "    def calculate_area(self):\n",
        "        pass # Abstract method without implementation\n",
        "\n",
        "class Cricle(Shape):\n",
        "    def __init__(self, radius):\n",
        "        self.radius = radius\n",
        "\n",
        "    def calculate_area(self):\n",
        "        return 3.14 * self.radius**2\n",
        "\n",
        "class Square(Shape):\n",
        "    def __init__(self, side_length):\n",
        "        self.side_length = side_length\n",
        "\n",
        "    def calculate_area(self):\n",
        "        return self.side_length**2\n",
        "\n",
        "class Triangle(Shape):\n",
        "    def __init__(self, base, height):\n",
        "        self.base = base\n",
        "        self.height = height\n",
        "\n",
        "    def calculate_area(self):\n",
        "        return 0.5 * self.base * self.height\n",
        "\n",
        "# Polymorphic behavior with abstract classes and methods\n",
        "shapes = [Circle(radius=5), Square(side_length=4), Triangle(base=3, height=6)]\n",
        "\n",
        "for shape in shapes:\n",
        "    area = shape.calculate_area()\n",
        "    print(f\"The area of the {type(shape).__name__} is: {area:.2f}\")"
      ]
    },
    {
      "cell_type": "markdown",
      "id": "84332575-8343-4cc3-ac4e-5d59f2e4557a",
      "metadata": {
        "id": "84332575-8343-4cc3-ac4e-5d59f2e4557a"
      },
      "source": [
        "In this example:\n",
        "\n",
        "The Shape class is an abstract class with an abstract method calculate_area().\n",
        "The Circle, Square, and Triangle classes are concrete subclasses of Shape, and they implement the calculate_area() method.\n",
        "The calculate_area() method in each subclass provides a specific implementation for calculating the area of that particular shape.\n",
        "Polymorphism is demonstrated by creating a list of shapes (shapes) containing instances of different subclasses.\n",
        "The calculate_area() method is called on each object in the shapes list, and the appropriate overridden method is executed based on the actual type of the object.\n",
        "\n",
        "Key Points:\n",
        "Abstract methods ensure that all subclasses provide their own implementation, enforcing a common interface.\n",
        "Abstract classes cannot be instantiated, and they serve as a blueprint for concrete subclasses.\n",
        "Polymorphism allows the code to treat objects of different types uniformly through the common abstract interface.\n"
      ]
    },
    {
      "cell_type": "markdown",
      "id": "0037a2cd-17ab-4ba1-b848-bbb6b47533b9",
      "metadata": {
        "id": "0037a2cd-17ab-4ba1-b848-bbb6b47533b9"
      },
      "source": [
        "8. Create a Python class hierarchy for a vehicle system (e.g., car, bicycle, boat) and implement a polymorphic `start()` method that prints a message specific to each vehicle type."
      ]
    },
    {
      "cell_type": "code",
      "execution_count": null,
      "id": "bbfacb4d-29e3-462c-9bb2-5a3aa4a1f594",
      "metadata": {
        "id": "bbfacb4d-29e3-462c-9bb2-5a3aa4a1f594",
        "outputId": "d8e4e1d3-b229-428c-d42a-64cb60355b3d"
      },
      "outputs": [
        {
          "name": "stdout",
          "output_type": "stream",
          "text": [
            "Starting the Toyota Carmy. Insert key and turn ignition.\n",
            "Pedaling the Schwinn Mountain Bike to start moving.\n",
            "Starting the engine of the Baylinear Cruiser. Ready to set sail.\n"
          ]
        }
      ],
      "source": [
        "class Vehicle:\n",
        "    def __init__(self, brand, model):\n",
        "        self.brand = brand\n",
        "        self.model = model\n",
        "\n",
        "    def start(self):\n",
        "        print(f\"Starting the {self.brand} {self.model}\")\n",
        "\n",
        "class Car(Vehicle):\n",
        "    def __init__(self, brand, model, fuel_type):\n",
        "        super().__init__(brand, model)\n",
        "        self.fuel_type = fuel_type\n",
        "\n",
        "    def start(self):\n",
        "        print(f\"Starting the {self.brand} {self.model}. Insert key and turn ignition.\")\n",
        "\n",
        "class Bicycle(Vehicle):\n",
        "    def __init__(self, brand, model):\n",
        "        super().__init__(brand, model)\n",
        "\n",
        "    def start(self):\n",
        "        print(f\"Pedaling the {self.brand} {self.model} to start moving.\")\n",
        "\n",
        "class Boat(Vehicle):\n",
        "    def __init__(self, brand, model):\n",
        "        super().__init__(brand, model)\n",
        "\n",
        "    def start(self):\n",
        "        print(f\"Starting the engine of the {self.brand} {self.model}. Ready to set sail.\")\n",
        "\n",
        "# Polymorphic behavior with the start() method\n",
        "vehicles = [Car(\"Toyota\", \"Carmy\", \"Petrol\"), Bicycle(\"Schwinn\", \"Mountain Bike\"), Boat(\"Baylinear\", \"Cruiser\")]\n",
        "\n",
        "for vehicle in vehicles:\n",
        "    vehicle.start() # Calls the overridden start method in each subclass"
      ]
    },
    {
      "cell_type": "markdown",
      "id": "784b3b3e-4630-4103-9e8a-0bde87167a03",
      "metadata": {
        "id": "784b3b3e-4630-4103-9e8a-0bde87167a03"
      },
      "source": [
        "9. Explain the significance of the `isinstance()` and `issubclass()` functions in Python polymorphism.\n"
      ]
    },
    {
      "cell_type": "markdown",
      "id": "596b83bf-c1ee-4305-8310-0a242a9ca008",
      "metadata": {
        "id": "596b83bf-c1ee-4305-8310-0a242a9ca008"
      },
      "source": [
        "\n",
        "The isinstance() and issubclass() functions in Python are significant tools when working with polymorphism. They provide ways to check the relationships between objects and classes, enabling more dynamic and flexible programming.\n",
        "\n",
        "isinstance() Function:\n",
        "The isinstance() function is used to check if an object belongs to a particular class or if it is an instance of a class. It takes two arguments: the object to be checked, and the class or a tuple of classes to check against. The function returns True if the object is an instance of the specified class or classes, and False otherwise.\n",
        "\n",
        "Example:\n",
        "class Animal:\n",
        "    pass\n",
        "\n",
        "class Dog(Animal):\n",
        "    pass\n",
        "\n",
        "dog_instance = Dog()\n",
        "\n",
        "print(isinstance(dog_instance, Dog))      # True\n",
        "print(isinstance(dog_instance, Animal))   # True\n",
        "print(isinstance(dog_instance, int))      # False\n",
        "\n",
        "In the context of polymorphism, isinstance() is valuable for checking the type of an object before performing operations, especially when dealing with objects of different classes.\n",
        "\n",
        "issubclass() Function:\n",
        "The issubclass() function checks if a class is a subclass of another class. It takes two arguments: the child class and the parent class. It returns True if the child class is a subclass of the specified parent class, and False otherwise.\n",
        "\n",
        "Example:\n",
        "class Animal:\n",
        "    pass\n",
        "\n",
        "class Dog(Animal):\n",
        "    pass\n",
        "\n",
        "print(issubclass(Dog, Animal))   # True\n",
        "print(issubclass(Animal, Dog))   # False\n",
        "print(issubclass(int, Animal))    # False\n",
        "\n",
        "In the context of polymorphism, issubclass() is useful for checking class relationships, helping in scenarios where you want to determine if a particular class can be treated as a subclass of another class.\n",
        "\n",
        "Significance in Polymorphism:\n",
        "\n",
        "1.Dynamic Type Checking: These functions allow for dynamic type checking, helping to ensure that the right methods are called on objects during runtime based on their actual types.\n",
        "\n",
        "2.Flexible Code: By using isinstance() and issubclass(), code can be made more flexible and adaptable to different object types and class hierarchies, which is a key aspect of polymorphism.\n",
        "\n",
        "3.Avoiding Errors: Checking the type or class relationship before performing operations helps avoid errors, ensuring that methods are applied to objects that support those operations.\n",
        "\n",
        "4.Enhanced Readability: Using these functions in conditional statements makes the code more readable and self-explanatory in terms of handling polymorphic behavior."
      ]
    },
    {
      "cell_type": "markdown",
      "id": "14dd37f6-8950-4e25-b99f-0313a66d2117",
      "metadata": {
        "id": "14dd37f6-8950-4e25-b99f-0313a66d2117"
      },
      "source": [
        "10. What is the role of the `@abstractmethod` decorator in achieving polymorphism in Python? Provide an\n",
        "example."
      ]
    },
    {
      "cell_type": "markdown",
      "id": "6c604650-22ab-4b0b-b201-69ea290e32c0",
      "metadata": {
        "id": "6c604650-22ab-4b0b-b201-69ea290e32c0"
      },
      "source": [
        "The @abstractmethod decorator is part of the abc (Abstract Base Classes) module in Python. It is used to declare abstract methods in abstract classes. Abstract methods are methods that have no implementation in the abstract class itself but must be implemented by concrete (non-abstract) subclasses. This mechanism ensures that all subclasses provide their own implementation for the declared abstract methods, enforcing a common interface.\n",
        "\n",
        "Example:\n",
        "Let's create an example with an abstract class Shape that declares an abstract method calculate_area(). Subclasses like Circle, Square, and Triangle will then implement this abstract method."
      ]
    },
    {
      "cell_type": "code",
      "execution_count": null,
      "id": "a8c6c26a-ebef-45ba-9fe2-6eaf4facdf29",
      "metadata": {
        "id": "a8c6c26a-ebef-45ba-9fe2-6eaf4facdf29",
        "outputId": "0e4ec386-500e-4ca8-fd0b-c82e1be9341a"
      },
      "outputs": [
        {
          "name": "stdout",
          "output_type": "stream",
          "text": [
            "The area of the Circle is: 78.50\n",
            "The area of the Square is: 16.00\n",
            "The area of the Triangle is: 9.00\n"
          ]
        }
      ],
      "source": [
        "from abc import ABC, abstractmethod\n",
        "\n",
        "class Shape(ABC):\n",
        "    @abstractmethod\n",
        "    def calculate_area(self):\n",
        "        pass  # Abstract method without implementation\n",
        "\n",
        "class Circle(Shape):\n",
        "    def __init__(self, radius):\n",
        "        self.radius = radius\n",
        "\n",
        "    def calculate_area(self):\n",
        "        return 3.14 * self.radius**2\n",
        "\n",
        "class Square(Shape):\n",
        "    def __init__(self, side_length):\n",
        "        self.side_length = side_length\n",
        "\n",
        "    def calculate_area(self):\n",
        "        return self.side_length**2\n",
        "\n",
        "class Triangle(Shape):\n",
        "    def __init__(self, base, height):\n",
        "        self.base = base\n",
        "        self.height = height\n",
        "\n",
        "    def calculate_area(self):\n",
        "        return 0.5 * self.base * self.height\n",
        "\n",
        "# Creating instances and calling the calculate_area() method\n",
        "shapes = [Circle(radius=5), Square(side_length=4), Triangle(base=3, height=6)]\n",
        "\n",
        "for shape in shapes:\n",
        "    area = shape.calculate_area()\n",
        "    print(f\"The area of the {type(shape).__name__} is: {area:.2f}\")\n"
      ]
    },
    {
      "cell_type": "markdown",
      "id": "28e446a8-f4dd-45a8-84f0-9aeb2a4af94c",
      "metadata": {
        "id": "28e446a8-f4dd-45a8-84f0-9aeb2a4af94c"
      },
      "source": [
        "Key Points:\n",
        "The @abstractmethod decorator enforces that any concrete subclass must provide an implementation for the declared abstract method.\n",
        "Abstract classes cannot be instantiated, and they serve as a blueprint for concrete subclasses.\n",
        "Abstract methods help in designing a consistent and standardized interface for a group of related classes.\n",
        "This mechanism enhances code readability and maintainability, making it clear which methods must be implemented by subclasses.\n",
        "In summary, the @abstractmethod decorator is a powerful tool for achieving polymorphism in Python, enforcing the implementation of specific methods in subclasses and contributing to a more modular and extensible code design."
      ]
    },
    {
      "cell_type": "markdown",
      "id": "ddd5db87-f32b-4ff4-bd71-b047da32c9f2",
      "metadata": {
        "id": "ddd5db87-f32b-4ff4-bd71-b047da32c9f2"
      },
      "source": [
        "11. Create a Python class called `Shape` with a polymorphic method `area()` that calculates the area of different shapes (e.g., circle, rectangle, triangle)."
      ]
    },
    {
      "cell_type": "code",
      "execution_count": null,
      "id": "e952e681-5417-430b-bf85-eb038ddf12d4",
      "metadata": {
        "id": "e952e681-5417-430b-bf85-eb038ddf12d4",
        "outputId": "4d10f747-67ec-4304-994f-14d57e4d4a27"
      },
      "outputs": [
        {
          "name": "stdout",
          "output_type": "stream",
          "text": [
            "The area of the Circle is: 78.54\n",
            "The area of the Rectangle is: 12.00\n",
            "The area of the Triangle is: 24.00\n"
          ]
        }
      ],
      "source": [
        "import math\n",
        "\n",
        "class Shape:\n",
        "    def area(self):\n",
        "        pass  # Polymorphic method without implementation\n",
        "\n",
        "class Circle(Shape):\n",
        "    def __init__(self, radius):\n",
        "        self.radius = radius\n",
        "\n",
        "    def area(self):\n",
        "        return math.pi * self.radius**2\n",
        "\n",
        "class Rectangle(Shape):\n",
        "    def __init__(self, length, width):\n",
        "        self.length = length\n",
        "        self.width = width\n",
        "\n",
        "    def area(self):\n",
        "        return self.length * self.width\n",
        "\n",
        "class Triangle(Shape):\n",
        "    def __init__(self, base, height):\n",
        "        self.base = base\n",
        "        self.height = height\n",
        "\n",
        "    def area(self):\n",
        "        return 0.5 * self.base * self.height\n",
        "\n",
        "# Polymorphic behavior with the area() method\n",
        "shapes = [Circle(radius=5), Rectangle(length=4, width=3), Triangle(base=6, height=8)]\n",
        "\n",
        "for shape in shapes:\n",
        "    area = shape.area()\n",
        "    print(f\"The area of the {type(shape).__name__} is: {area:.2f}\")\n"
      ]
    },
    {
      "cell_type": "markdown",
      "id": "24c2fcb2-3251-4325-b6af-ef218555d4cc",
      "metadata": {
        "id": "24c2fcb2-3251-4325-b6af-ef218555d4cc"
      },
      "source": [
        "12. Discuss the benefits of polymorphism in terms of code reusability and flexibility in Python programs."
      ]
    },
    {
      "cell_type": "markdown",
      "id": "a48b3bdb-a5f7-437b-ab4f-94ad04569741",
      "metadata": {
        "id": "a48b3bdb-a5f7-437b-ab4f-94ad04569741"
      },
      "source": [
        "Polymorphism in Python offers several benefits, primarily in terms of code reusability and flexibility. Here are key advantages:\n",
        "\n",
        "1.Code Reusability:\n",
        "\n",
        "Common Interface: Polymorphism allows you to define a common interface (e.g., methods with the same name) across different classes. This common interface encourages code reuse by enabling the use of the same method name in various contexts.\n",
        "\n",
        "Shared Behavior: Methods defined in a base class can be reused by all its subclasses. This is particularly useful when you have a set of classes that share common behaviors but may provide specific implementations for certain methods.\n",
        "\n",
        "2.Flexibility and Extensibility:\n",
        "\n",
        "Dynamic Binding: Polymorphism allows for dynamic binding, meaning the decision on which method to call is made at runtime based on the actual type of the object. This enhances flexibility by accommodating changes in object types without modifying the code that uses those objects.\n",
        "\n",
        "Ease of Extension: Adding new classes and behaviors becomes easier. You can introduce new subclasses without modifying existing code, as long as they adhere to the common interface defined by the base class.\n",
        "\n",
        "3.Simplified Code Maintenance:\n",
        "\n",
        "Reduced Redundancy: Polymorphism helps avoid redundancy in code. Instead of writing separate code for each specific case, you can use a common interface, making the codebase more concise and easier to maintain.\n",
        "\n",
        "Centralized Changes: Modifications or updates can often be applied centrally in the base class or in shared methods, ensuring that changes propagate to all subclasses. This centralized approach simplifies maintenance.\n",
        "\n",
        "4.Support for Open-Closed Principle:\n",
        "\n",
        "Open for Extension: Polymorphism aligns with the Open-Closed Principle, which states that a class should be open for extension but closed for modification. New functionality can be added by creating new subclasses without altering existing code.\n",
        "\n",
        "Modularity: The modular design facilitated by polymorphism allows you to extend the system by adding new classes or modifying existing ones without affecting the entire codebase.\n",
        "\n",
        "5.Enhanced Readability and Understandability:\n",
        "\n",
        "Clear Interface: A common interface provided by polymorphism makes the code more readable and understandable. The usage of a consistent set of method names across related classes helps developers grasp the intended functionality.\n",
        "\n",
        "Reduced Cognitive Load: By adhering to a shared interface, developers can focus on the high-level logic without being concerned about the specific details of each subclass."
      ]
    },
    {
      "cell_type": "markdown",
      "id": "5fbc2e10-a8c0-4cac-b7bc-f994c1156513",
      "metadata": {
        "id": "5fbc2e10-a8c0-4cac-b7bc-f994c1156513"
      },
      "source": [
        "13. Explain the use of the `super()` function in Python polymorphism. How does it help call methods of parent\n",
        "classes?"
      ]
    },
    {
      "cell_type": "markdown",
      "id": "f6b8bc7a-9da5-4444-a81c-88ecf2e24427",
      "metadata": {
        "id": "f6b8bc7a-9da5-4444-a81c-88ecf2e24427"
      },
      "source": [
        "The super() function in Python is used to call methods from the parent class within a subclass. It is particularly useful in the context of polymorphism and inheritance. The super() function returns a temporary object of the superclass, allowing you to invoke its methods.\n",
        "\n",
        "Usage of super() in Polymorphism:\n",
        "Calling the Parent Class Method:\n",
        "\n",
        "In a subclass, you can use super() to call a method defined in the parent class. This is helpful when you want to extend the behavior of the parent class method in the subclass.\n",
        "Method Overriding:\n",
        "\n",
        "When you override a method in a subclass, you might still want to execute the overridden method in the parent class. super() allows you to access and call the overridden method from the parent class.\n",
        "Example:\n",
        "Consider a scenario where you have a base class Animal and a subclass Dog. The Dog class wants to extend the speak() method from the Animal class:"
      ]
    },
    {
      "cell_type": "code",
      "execution_count": null,
      "id": "fb75a0b2-c9e3-4f7b-9985-ca8f1ee49f39",
      "metadata": {
        "id": "fb75a0b2-c9e3-4f7b-9985-ca8f1ee49f39",
        "outputId": "7d917265-3f90-46bb-ed85-805c71da2d13"
      },
      "outputs": [
        {
          "name": "stdout",
          "output_type": "stream",
          "text": [
            "Generic animal sound Woof!\n"
          ]
        }
      ],
      "source": [
        "class Animal:\n",
        "    def speak(self):\n",
        "        return \"Generic animal sound\"\n",
        "\n",
        "class Dog(Animal):\n",
        "    def speak(self):\n",
        "        # Calling the speak() method of the parent class using super()\n",
        "        parent_sound = super().speak()\n",
        "        return f\"{parent_sound} Woof!\"\n",
        "\n",
        "# Creating an instance of the Dog class\n",
        "dog_instance = Dog()\n",
        "\n",
        "# Calling the speak() method of the Dog class\n",
        "result = dog_instance.speak()\n",
        "print(result)\n"
      ]
    },
    {
      "cell_type": "markdown",
      "id": "0c03856f-6849-4b32-85c2-5e76e3fa4693",
      "metadata": {
        "id": "0c03856f-6849-4b32-85c2-5e76e3fa4693"
      },
      "source": [
        "14. Create a Python class hierarchy for a banking system with various account types (e.g., savings, checking,"
      ]
    },
    {
      "cell_type": "code",
      "execution_count": null,
      "id": "3a74beaf-6f80-4e46-904c-8963aefaed71",
      "metadata": {
        "id": "3a74beaf-6f80-4e46-904c-8963aefaed71",
        "outputId": "6a8e8324-b390-4a8c-dbc2-09f5e8906244"
      },
      "outputs": [
        {
          "name": "stdout",
          "output_type": "stream",
          "text": [
            "Deposit of $500 successful. New balance: $1500\n",
            "Interest of $30.00 added. New balance: $1530.0\n",
            "Account Number: SA123\n",
            "Balance: $1530.0\n",
            "Insufficient funds.\n",
            "Account Number: CA456\n",
            "Balance: $500\n",
            "Interest of $140.00 added. New balance: $2140.0\n",
            "Account Number: LA789\n",
            "Balance: $2140.0\n"
          ]
        }
      ],
      "source": [
        "class BankAccount:\n",
        "    def __init__(self, account_number, balance=0):\n",
        "        self.account_number = account_number\n",
        "        self.balance = balance\n",
        "\n",
        "    def deposit(self, amount):\n",
        "        self.balance += amount\n",
        "        print(f\"Deposit of ${amount} successful. New balance: ${self.balance}\")\n",
        "\n",
        "    def withdraw(self, amount):\n",
        "        if amount <= self.balance:\n",
        "            self.balance -= amount\n",
        "            print(f\"Withdrawal of ${amount} successful. New balance: ${self.balance}\")\n",
        "        else:\n",
        "            print(\"Insufficient funds.\")\n",
        "\n",
        "    def get_balance(self):\n",
        "        return self.balance\n",
        "\n",
        "    def display_info(self):\n",
        "        print(f\"Account Number: {self.account_number}\")\n",
        "        print(f\"Balance: ${self.balance}\")\n",
        "\n",
        "\n",
        "class SavingsAccount(BankAccount):\n",
        "    def __init__(self, account_number, balance=0, interest_rate=0.02):\n",
        "        super().__init__(account_number, balance)\n",
        "        self.interest_rate = interest_rate\n",
        "\n",
        "    def add_interest(self):\n",
        "        interest_earned = self.balance * self.interest_rate\n",
        "        self.balance += interest_earned\n",
        "        print(f\"Interest of ${interest_earned:.2f} added. New balance: ${self.balance}\")\n",
        "\n",
        "\n",
        "class CheckingAccount(BankAccount):\n",
        "    def __init__(self, account_number, balance=0, overdraft_limit=100):\n",
        "        super().__init__(account_number, balance)\n",
        "        self.overdraft_limit = overdraft_limit\n",
        "\n",
        "    def withdraw(self, amount):\n",
        "        if amount <= self.balance + self.overdraft_limit:\n",
        "            super().withdraw(amount)\n",
        "        else:\n",
        "            print(\"Withdrawal exceeds overdraft limit.\")\n",
        "\n",
        "\n",
        "class LoanAccount(BankAccount):\n",
        "    def __init__(self, account_number, balance=0, interest_rate=0.05):\n",
        "        super().__init__(account_number, balance)\n",
        "        self.interest_rate = interest_rate\n",
        "\n",
        "    def apply_interest(self):\n",
        "        interest_due = self.balance * self.interest_rate\n",
        "        self.balance += interest_due\n",
        "        print(f\"Interest of ${interest_due:.2f} added. New balance: ${self.balance}\")\n",
        "\n",
        "\n",
        "# Example Usage:\n",
        "\n",
        "# Creating instances of different account types\n",
        "savings_account = SavingsAccount(account_number=\"SA123\", balance=1000)\n",
        "checking_account = CheckingAccount(account_number=\"CA456\", balance=500, overdraft_limit=200)\n",
        "loan_account = LoanAccount(account_number=\"LA789\", balance=2000, interest_rate=0.07)\n",
        "\n",
        "# Performing operations on accounts\n",
        "savings_account.deposit(500)\n",
        "savings_account.add_interest()\n",
        "savings_account.display_info()\n",
        "\n",
        "checking_account.withdraw(700)\n",
        "checking_account.display_info()\n",
        "\n",
        "loan_account.apply_interest()\n",
        "loan_account.display_info()\n"
      ]
    },
    {
      "cell_type": "markdown",
      "id": "bdac5b79-235b-4db0-80e3-e72216a87892",
      "metadata": {
        "id": "bdac5b79-235b-4db0-80e3-e72216a87892"
      },
      "source": [
        "15. Describe the concept of operator overloading in Python and how it relates to polymorphism. Provide\n",
        "examples using operators like `+` and `*`."
      ]
    },
    {
      "cell_type": "markdown",
      "id": "b28ec0e9-a1cc-445c-85c3-4fe5008513a9",
      "metadata": {
        "id": "b28ec0e9-a1cc-445c-85c3-4fe5008513a9"
      },
      "source": [
        "Operator overloading in Python refers to the ability to define and redefine the behavior of operators for user-defined objects. This means that you can customize how objects of your classes respond to standard Python operators. Operator overloading is closely related to polymorphism, as it allows objects of different types to be used with a common set of operators, promoting a consistent and flexible interface.\n",
        "\n",
        "# Example using + (Addition) Operator:"
      ]
    },
    {
      "cell_type": "code",
      "execution_count": null,
      "id": "a9173256-a126-445f-ae3c-dd80f4d379d1",
      "metadata": {
        "id": "a9173256-a126-445f-ae3c-dd80f4d379d1",
        "outputId": "c111daed-4d16-419c-8a48-57b8055167e3"
      },
      "outputs": [
        {
          "name": "stdout",
          "output_type": "stream",
          "text": [
            "Point(4, 6)\n"
          ]
        }
      ],
      "source": [
        "class Point:\n",
        "    def __init__(self, x, y):\n",
        "        self.x = x\n",
        "        self.y = y\n",
        "\n",
        "    def __add__(self, other_point):\n",
        "        if isinstance(other_point, Point):\n",
        "            return Point(self.x + other_point.x, self.y + other_point.y)\n",
        "        else:\n",
        "            raise ValueError(\"Unsupported operand type for +\")\n",
        "\n",
        "    def __str__(self):\n",
        "        return f\"Point({self.x}, {self.y})\"\n",
        "\n",
        "# Example usage\n",
        "point1 = Point(1, 2)\n",
        "point2 = Point(3, 4)\n",
        "result = point1 + point2\n",
        "print(result)  # Output: Point(4, 6)\n"
      ]
    },
    {
      "cell_type": "markdown",
      "id": "5ba44869-ae37-41d8-867f-014fa17246f4",
      "metadata": {
        "id": "5ba44869-ae37-41d8-867f-014fa17246f4"
      },
      "source": [
        "# Example using * (Multiplication) Operator:"
      ]
    },
    {
      "cell_type": "code",
      "execution_count": null,
      "id": "a688e841-ddcd-4098-ba4e-aec853f6cc90",
      "metadata": {
        "id": "a688e841-ddcd-4098-ba4e-aec853f6cc90",
        "outputId": "5ef62b7d-f9b6-45ed-cc13-931a3121649a"
      },
      "outputs": [
        {
          "name": "stdout",
          "output_type": "stream",
          "text": [
            "Vector(6, 9)\n"
          ]
        }
      ],
      "source": [
        "class Vector:\n",
        "    def __init__(self, x, y):\n",
        "        self.x = x\n",
        "        self.y = y\n",
        "\n",
        "    def __mul__(self, scalar):\n",
        "        if isinstance(scalar, (int, float)):\n",
        "            return Vector(self.x * scalar, self.y * scalar)\n",
        "        else:\n",
        "            raise ValueError(\"Unsupported operand type for *\")\n",
        "\n",
        "    def __str__(self):\n",
        "        return f\"Vector({self.x}, {self.y})\"\n",
        "\n",
        "# Example usage\n",
        "vector = Vector(2, 3)\n",
        "scaled_vector = vector * 3\n",
        "print(scaled_vector)  # Output: Vector(6, 9)\n"
      ]
    },
    {
      "cell_type": "markdown",
      "id": "29ed0d5d-6faf-4714-ace2-a0c56cb8f7f7",
      "metadata": {
        "id": "29ed0d5d-6faf-4714-ace2-a0c56cb8f7f7"
      },
      "source": [
        "Relation to Polymorphism:\n",
        "Operator overloading is a form of polymorphism, specifically ad-hoc polymorphism or function overloading, where the behavior of a function (in this case, an operator) is determined by the types of its operands.\n",
        "\n",
        "By overloading operators, you can use a common set of operations on different types of objects, providing a consistent and intuitive interface. This flexibility enhances code readability and allows for the creation of more expressive and natural APIs.\n",
        "\n",
        "Operator overloading is a powerful mechanism that can be used to make your classes work seamlessly with built-in operators, providing a natural and Pythonic way to interact with your objects.\n",
        "\n",
        "\n",
        "\n",
        "\n",
        "\n"
      ]
    },
    {
      "cell_type": "markdown",
      "id": "8527b817-f1e2-46ef-8a61-017d9a2abcb4",
      "metadata": {
        "id": "8527b817-f1e2-46ef-8a61-017d9a2abcb4"
      },
      "source": [
        "16. What is dynamic polymorphism, and how is it achieved in Python?"
      ]
    },
    {
      "cell_type": "markdown",
      "id": "53d560d4-36b6-4958-9cbe-05699e9643cb",
      "metadata": {
        "id": "53d560d4-36b6-4958-9cbe-05699e9643cb"
      },
      "source": [
        "Dynamic polymorphism is a concept in object-oriented programming where the appropriate method or operation is determined at runtime based on the actual type of the object. It allows objects of different types to be treated as objects of a common base type, and the method that gets executed is decided during runtime, depending on the actual type of the object.\n",
        "\n",
        "In Python, dynamic polymorphism is achieved through a mechanism known as duck typing and through the use of inheritance and method overriding.\n",
        "\n",
        "Duck Typing:\n",
        "In Python, the focus is on the object's behavior rather than its explicit type. If an object behaves like a particular type (by having the required methods or attributes), it is treated as an instance of that type."
      ]
    },
    {
      "cell_type": "code",
      "execution_count": null,
      "id": "f106f81b-b88c-414f-8530-1b2a1303aed6",
      "metadata": {
        "id": "f106f81b-b88c-414f-8530-1b2a1303aed6",
        "outputId": "bf07f912-cd7b-412e-be63-b7551971ce38"
      },
      "outputs": [
        {
          "name": "stdout",
          "output_type": "stream",
          "text": [
            "Quack!\n",
            "Meow!\n"
          ]
        }
      ],
      "source": [
        "class Duck:\n",
        "    def quack(self):\n",
        "        return \"Quack!\"\n",
        "\n",
        "class Cat:\n",
        "    def quack(self):\n",
        "        return \"Meow!\"\n",
        "\n",
        "class Robot:\n",
        "    def beep(self):\n",
        "        return \"Beep!\"\n",
        "\n",
        "def make_sound(entity):\n",
        "    return entity.quack()\n",
        "\n",
        "# Example usage\n",
        "duck = Duck()\n",
        "cat = Cat()\n",
        "robot = Robot()\n",
        "\n",
        "print(make_sound(duck))   # Output: Quack!\n",
        "print(make_sound(cat))    # Output: Meow!\n",
        "# print(make_sound(robot))  # Raises AttributeError, as Robot doesn't have quack method\n"
      ]
    },
    {
      "cell_type": "markdown",
      "id": "778482a9-3dc8-4b30-a8ec-51aeaa61805d",
      "metadata": {
        "id": "778482a9-3dc8-4b30-a8ec-51aeaa61805d"
      },
      "source": [
        "Inheritance and Method Overriding:\n",
        "In dynamic polymorphism, base classes and subclasses are used to achieve polymorphic behavior. Subclasses override methods of the base class to provide their own implementation."
      ]
    },
    {
      "cell_type": "code",
      "execution_count": null,
      "id": "3baa0250-a852-4700-bbd1-ba80a8dec15c",
      "metadata": {
        "id": "3baa0250-a852-4700-bbd1-ba80a8dec15c",
        "outputId": "d4d8fcc7-60d8-4e94-9d2a-a4c0d5565e75"
      },
      "outputs": [
        {
          "name": "stdout",
          "output_type": "stream",
          "text": [
            "Drawing a circle\n",
            "Drawing a square\n"
          ]
        }
      ],
      "source": [
        "class Shape:\n",
        "    def draw(self):\n",
        "        return \"Drawing a shape\"\n",
        "\n",
        "class Circle(Shape):\n",
        "    def draw(self):\n",
        "        return \"Drawing a circle\"\n",
        "\n",
        "class Square(Shape):\n",
        "    def draw(self):\n",
        "        return \"Drawing a square\"\n",
        "\n",
        "# Example usage\n",
        "circle = Circle()\n",
        "square = Square()\n",
        "\n",
        "shapes = [circle, square]\n",
        "\n",
        "for shape in shapes:\n",
        "    print(shape.draw())\n"
      ]
    },
    {
      "cell_type": "markdown",
      "id": "d757fa47-b234-415a-8a67-a1a358dd0e93",
      "metadata": {
        "id": "d757fa47-b234-415a-8a67-a1a358dd0e93"
      },
      "source": [
        "17. Create a Python class hierarchy for employees in a company (e.g., manager, developer, designer) and implement polymorphism through a common `calculate_salary()` method."
      ]
    },
    {
      "cell_type": "code",
      "execution_count": null,
      "id": "07a31a34-e77c-4564-a128-b125c3fc7a9f",
      "metadata": {
        "id": "07a31a34-e77c-4564-a128-b125c3fc7a9f",
        "outputId": "d122bfc5-4599-4a50-aab5-707d4875413f"
      },
      "outputs": [
        {
          "name": "stdout",
          "output_type": "stream",
          "text": [
            "Name: John Doe\n",
            "Role: Manager\n",
            "Salary: $110,000.00\n",
            "\n",
            "Name: Alice Smith\n",
            "Role: Developer\n",
            "Salary: $70,000.00\n",
            "\n",
            "Name: Bob Johnson\n",
            "Role: Designer\n",
            "Salary: $60,000.00\n",
            "\n"
          ]
        }
      ],
      "source": [
        "class Employee:\n",
        "    def __init__(self, name, role):\n",
        "        self.name = name\n",
        "        self.role = role\n",
        "\n",
        "    def calculate_salary(self):\n",
        "        raise NotImplementedError(\"Subclasses must implement the calculate_salary method\")\n",
        "\n",
        "    def display_info(self):\n",
        "        print(f\"Name: {self.name}\")\n",
        "        print(f\"Role: {self.role}\")\n",
        "        print(f\"Salary: ${self.calculate_salary():,.2f}\")\n",
        "        print()\n",
        "\n",
        "\n",
        "class Manager(Employee):\n",
        "    def __init__(self, name, team_size):\n",
        "        super().__init__(name, role=\"Manager\")\n",
        "        self.team_size = team_size\n",
        "\n",
        "    def calculate_salary(self):\n",
        "        base_salary = 70000\n",
        "        bonus = self.team_size * 5000\n",
        "        return base_salary + bonus\n",
        "\n",
        "\n",
        "class Developer(Employee):\n",
        "    def __init__(self, name, programming_language):\n",
        "        super().__init__(name, role=\"Developer\")\n",
        "        self.programming_language = programming_language\n",
        "\n",
        "    def calculate_salary(self):\n",
        "        base_salary = 60000\n",
        "        if self.programming_language.lower() == \"python\":\n",
        "            bonus = 10000\n",
        "        else:\n",
        "            bonus = 5000\n",
        "        return base_salary + bonus\n",
        "\n",
        "\n",
        "class Designer(Employee):\n",
        "    def __init__(self, name, years_of_experience):\n",
        "        super().__init__(name, role=\"Designer\")\n",
        "        self.years_of_experience = years_of_experience\n",
        "\n",
        "    def calculate_salary(self):\n",
        "        base_salary = 50000\n",
        "        bonus = self.years_of_experience * 2000\n",
        "        return base_salary + bonus\n",
        "\n",
        "\n",
        "# Example Usage:\n",
        "\n",
        "manager = Manager(name=\"John Doe\", team_size=8)\n",
        "developer = Developer(name=\"Alice Smith\", programming_language=\"Python\")\n",
        "designer = Designer(name=\"Bob Johnson\", years_of_experience=5)\n",
        "\n",
        "employees = [manager, developer, designer]\n",
        "\n",
        "for employee in employees:\n",
        "    employee.display_info()\n"
      ]
    },
    {
      "cell_type": "markdown",
      "id": "6059a63c-aacb-4dc7-afe2-4089276942ea",
      "metadata": {
        "id": "6059a63c-aacb-4dc7-afe2-4089276942ea"
      },
      "source": [
        "18. Discuss the concept of function pointers and how they can be used to achieve polymorphism in Python."
      ]
    },
    {
      "cell_type": "markdown",
      "id": "cec35d42-b374-423d-9b8e-446770fdad79",
      "metadata": {
        "id": "cec35d42-b374-423d-9b8e-446770fdad79"
      },
      "source": [
        "In Python, the concept of function pointers is not as explicit as in some other programming languages, such as C or C++, where you can directly use pointers to functions. However, the idea of achieving polymorphism through function pointers can be translated into Python using higher-order functions, closures, and the flexibility of function parameters.\n",
        "\n",
        "Function Pointers in Python:\n",
        "In Python, functions are first-class objects, which means you can treat them like any other object, such as assigning them to variables, passing them as arguments to other functions, or returning them from functions. This flexibility allows you to achieve a form of function pointers in Python.\n",
        "\n",
        "Example using Higher-Order Functions:"
      ]
    },
    {
      "cell_type": "code",
      "execution_count": null,
      "id": "14d432c3-d4eb-4a18-93af-fdeaaf58220e",
      "metadata": {
        "id": "14d432c3-d4eb-4a18-93af-fdeaaf58220e",
        "outputId": "a004506a-26bb-4771-d864-70d45ceb21bc"
      },
      "outputs": [
        {
          "name": "stdout",
          "output_type": "stream",
          "text": [
            "Square of 3: 9\n",
            "Cube of 3: 27\n"
          ]
        }
      ],
      "source": [
        "def calculate_square(x):\n",
        "    return x ** 2\n",
        "\n",
        "def calculate_cube(x):\n",
        "    return x ** 3\n",
        "\n",
        "def calculate_power(x, power_function):\n",
        "    return power_function(x)\n",
        "\n",
        "# Example usage\n",
        "number = 3\n",
        "\n",
        "result_square = calculate_power(number, calculate_square)\n",
        "result_cube = calculate_power(number, calculate_cube)\n",
        "\n",
        "print(f\"Square of {number}: {result_square}\")\n",
        "print(f\"Cube of {number}: {result_cube}\")\n"
      ]
    },
    {
      "cell_type": "markdown",
      "id": "331c242d-a680-404e-9a65-4a3b958e15a3",
      "metadata": {
        "id": "331c242d-a680-404e-9a65-4a3b958e15a3"
      },
      "source": [
        "Achieving Polymorphism:\n",
        "Using function pointers in this manner allows you to achieve a form of polymorphism. The same higher-order function (calculate_power) can be used with different functions to perform different operations, similar to polymorphism where the same interface can be used with different types.\n",
        "\n",
        "This approach provides flexibility and extensibility, enabling you to define new functions and easily incorporate them into existing higher-order functions.\n",
        "\n",
        "Pythonic Approach:\n",
        "While the concept of function pointers is more explicit in languages with pointers, Python embraces a more Pythonic approach using duck typing, where the focus is on the behavior of objects rather than their explicit types. In Python, you often achieve polymorphism through the use of common interfaces, inheritance, and method overriding, as shown in previous examples.\n",
        "\n",
        "The use of higher-order functions and function parameters in Python allows for dynamic behavior, but it might be more idiomatic to leverage object-oriented principles for achieving polymorphism when working within the Python language paradigm."
      ]
    },
    {
      "cell_type": "markdown",
      "id": "e89a39db-c42b-4585-8775-5c808aa9670b",
      "metadata": {
        "id": "e89a39db-c42b-4585-8775-5c808aa9670b"
      },
      "source": [
        "19. Explain the role of interfaces and abstract classes in polymorphism, drawing comparisons between them."
      ]
    },
    {
      "cell_type": "markdown",
      "id": "1c209144-49e5-4a41-8a74-60690d545f5e",
      "metadata": {
        "id": "1c209144-49e5-4a41-8a74-60690d545f5e"
      },
      "source": [
        "\n",
        "In the context of polymorphism, both interfaces and abstract classes play crucial roles in providing a common structure or contract that multiple classes can adhere to. They enable the creation of a consistent interface, allowing different classes to be used interchangeably, leading to a more flexible and extensible codebase. Let's explore the roles of interfaces and abstract classes, drawing comparisons between them:\n",
        "\n",
        "# Interfaces:\n",
        "1.Role:\n",
        "\n",
        "Definition: An interface defines a contract for a set of methods that must be implemented by any class that implements the interface.\n",
        "Enforcement: In languages like Java or C#, interfaces enforce the contract by ensuring that any class implementing the interface provides concrete implementations for all the methods declared in the interface.\n",
        "\n",
        "2.Implementation:\n",
        "\n",
        "No Implementation: Interfaces do not contain any method implementations; they only declare method signatures.\n",
        "Pure Abstraction: Interfaces provide a level of pure abstraction, focusing solely on what methods should be present, leaving the implementation details to the implementing classes.\n",
        "\n",
        "3.Multiple Inheritance:\n",
        "\n",
        "Support for Multiple Interfaces: A class can implement multiple interfaces, allowing it to provide implementations for multiple sets of methods.\n",
        "\n",
        "4.Example in Python:"
      ]
    },
    {
      "cell_type": "code",
      "execution_count": null,
      "id": "f04b288d-e994-422c-a4de-795fde8246b6",
      "metadata": {
        "id": "f04b288d-e994-422c-a4de-795fde8246b6"
      },
      "outputs": [],
      "source": [
        "from abc import ABC, abstractmethod\n",
        "\n",
        "class Shape(ABC):\n",
        "    @abstractmethod\n",
        "    def draw(self):\n",
        "        pass\n",
        "\n",
        "class Circle(Shape):\n",
        "    def draw(self):\n",
        "        print(\"Drawing a circle\")\n",
        "\n",
        "class Square(Shape):\n",
        "    def draw(self):\n",
        "        print(\"Drawing a square\")\n"
      ]
    },
    {
      "cell_type": "markdown",
      "id": "841c25e9-73a7-4645-9e43-129df566e5e0",
      "metadata": {
        "id": "841c25e9-73a7-4645-9e43-129df566e5e0"
      },
      "source": [
        "# Abstract Classes:\n",
        "\n",
        "1.Role:\n",
        "\n",
        "Definition: An abstract class is a class that cannot be instantiated on its own and typically contains both abstract (unimplemented) methods and concrete (implemented) methods.\n",
        "Partial Implementation: Abstract classes can provide a partial implementation of methods, leaving some to be implemented by subclasses.\n",
        "\n",
        "2.Implementation:\n",
        "\n",
        "Abstract and Concrete Methods: Abstract classes can contain both abstract and concrete methods. Abstract methods define the contract, while concrete methods provide common functionality that can be shared among subclasses.\n",
        "\n",
        "3.Single Inheritance:\n",
        "\n",
        "Support for Single Inheritance: A class can inherit from only one abstract class in most programming languages. This is in contrast to interfaces, which may support multiple implementations.\n",
        "\n",
        "4.Example in Python:"
      ]
    },
    {
      "cell_type": "code",
      "execution_count": null,
      "id": "871649bd-2ce9-493c-b2ff-1e8ec465b0f9",
      "metadata": {
        "id": "871649bd-2ce9-493c-b2ff-1e8ec465b0f9"
      },
      "outputs": [],
      "source": [
        "from abc import ABC, abstractmethod\n",
        "\n",
        "class Shape(ABC):\n",
        "    @abstractmethod\n",
        "    def draw(self):\n",
        "        pass\n",
        "\n",
        "    def resize(self, factor):\n",
        "        print(f\"Resizing by {factor}%\")\n",
        "\n",
        "class Circle(Shape):\n",
        "    def draw(self):\n",
        "        print(\"Drawing a circle\")\n",
        "\n",
        "class Square(Shape):\n",
        "    def draw(self):\n",
        "        print(\"Drawing a square\")\n"
      ]
    },
    {
      "cell_type": "markdown",
      "id": "92214d02-ef97-478b-ab5b-06350ea58f52",
      "metadata": {
        "id": "92214d02-ef97-478b-ab5b-06350ea58f52"
      },
      "source": [
        "# Comparisons:\n",
        "\n",
        "1.Instantiation:\n",
        "\n",
        "Interfaces: Cannot be instantiated on their own; they define a contract for implementing classes.\n",
        "Abstract Classes: Cannot be instantiated on their own; they provide a blueprint for subclasses.\n",
        "\n",
        "2.Method Implementation:\n",
        "\n",
        "Interfaces: Only contain method signatures, no method implementations.\n",
        "Abstract Classes: Can contain both abstract (unimplemented) and concrete (implemented) methods.\n",
        "\n",
        "3.Inheritance:\n",
        "\n",
        "Interfaces: Support multiple interface implementations by a class.\n",
        "Abstract Classes: Generally support single inheritance, allowing a class to inherit from only one abstract class.\n",
        "\n",
        "4.Use Case:\n",
        "\n",
        "Interfaces: Useful when you want to define a contract without providing any implementation details.\n",
        "Abstract Classes: Useful when you want to provide a common base class with some shared functionality among subclasses.\n",
        "\n",
        "5.Flexibility:\n",
        "\n",
        "Interfaces: Provide more flexibility in terms of multiple inheritance but lack the ability to include any shared implementation.\n",
        "Abstract Classes: Provide a balance between abstraction and shared implementation, offering more flexibility in terms of common functionality."
      ]
    },
    {
      "cell_type": "markdown",
      "id": "9b3f1192-866c-48b1-840d-98ef12e32f6c",
      "metadata": {
        "id": "9b3f1192-866c-48b1-840d-98ef12e32f6c"
      },
      "source": [
        "20. Create a Python class for a zoo simulation, demonstrating polymorphism with different animal types (e.g., mammals, birds, reptiles) and their behavior (e.g., eating, sleeping, making sounds)."
      ]
    },
    {
      "cell_type": "code",
      "execution_count": null,
      "id": "dafd39cc-a8c3-43af-850b-7f70bb7793f7",
      "metadata": {
        "id": "dafd39cc-a8c3-43af-850b-7f70bb7793f7",
        "outputId": "3acc9cfd-6c1b-4c16-d3b9-dbd58f64bfb5"
      },
      "outputs": [
        {
          "name": "stdout",
          "output_type": "stream",
          "text": [
            "\n",
            "Simba:\n",
            "The lion roars.\n",
            "The lion is eating meat.\n",
            "Simba is sleeping.\n",
            "\n",
            "Freedom:\n",
            "The eagle screeches.\n",
            "The eagle is eating fish.\n",
            "Freedom is sleeping.\n",
            "\n",
            "Slither:\n",
            "The snake hisses.\n",
            "The snake is eating rodents.\n",
            "Slither is sleeping.\n",
            "Simba is giving birth.\n",
            "Freedom is flying.\n",
            "Slither is crawling.\n"
          ]
        }
      ],
      "source": [
        "from abc import ABC, abstractmethod\n",
        "\n",
        "class Animal(ABC):\n",
        "    def __init__(self, name):\n",
        "        self.name = name\n",
        "\n",
        "    @abstractmethod\n",
        "    def make_sound(self):\n",
        "        pass\n",
        "\n",
        "    @abstractmethod\n",
        "    def eat(self):\n",
        "        pass\n",
        "\n",
        "    def sleep(self):\n",
        "        print(f\"{self.name} is sleeping.\")\n",
        "\n",
        "class Mammal(Animal):\n",
        "    def give_birth(self):\n",
        "        print(f\"{self.name} is giving birth.\")\n",
        "\n",
        "class Bird(Animal):\n",
        "    def fly(self):\n",
        "        print(f\"{self.name} is flying.\")\n",
        "\n",
        "class Reptile(Animal):\n",
        "    def crawl(self):\n",
        "        print(f\"{self.name} is crawling.\")\n",
        "\n",
        "class Lion(Mammal):\n",
        "    def make_sound(self):\n",
        "        print(f\"The lion roars.\")\n",
        "\n",
        "    def eat(self):\n",
        "        print(f\"The lion is eating meat.\")\n",
        "\n",
        "class Eagle(Bird):\n",
        "    def make_sound(self):\n",
        "        print(f\"The eagle screeches.\")\n",
        "\n",
        "    def eat(self):\n",
        "        print(f\"The eagle is eating fish.\")\n",
        "\n",
        "class Snake(Reptile):\n",
        "    def make_sound(self):\n",
        "        print(f\"The snake hisses.\")\n",
        "\n",
        "    def eat(self):\n",
        "        print(f\"The snake is eating rodents.\")\n",
        "\n",
        "# Example Usage:\n",
        "\n",
        "lion = Lion(name=\"Simba\")\n",
        "eagle = Eagle(name=\"Freedom\")\n",
        "snake = Snake(name=\"Slither\")\n",
        "\n",
        "zoo_animals = [lion, eagle, snake]\n",
        "\n",
        "for animal in zoo_animals:\n",
        "    print(f\"\\n{animal.name}:\")\n",
        "    animal.make_sound()\n",
        "    animal.eat()\n",
        "    animal.sleep()\n",
        "\n",
        "# Additional behavior for specific types\n",
        "lion.give_birth()  # Mammal-specific behavior\n",
        "eagle.fly()        # Bird-specific behavior\n",
        "snake.crawl()      # Reptile-specific behavior\n"
      ]
    },
    {
      "cell_type": "markdown",
      "id": "b42ff510-3ad6-41a2-a2f6-604e3958e15c",
      "metadata": {
        "id": "b42ff510-3ad6-41a2-a2f6-604e3958e15c"
      },
      "source": [
        "# Abstraction:"
      ]
    },
    {
      "cell_type": "markdown",
      "id": "e52c0d73-7519-4bae-8feb-468e32636445",
      "metadata": {
        "id": "e52c0d73-7519-4bae-8feb-468e32636445"
      },
      "source": [
        "1. What is abstraction in Python, and how does it relate to object-oriented programming?"
      ]
    },
    {
      "cell_type": "markdown",
      "id": "6f0a75b8-ad6c-480e-b64e-1010d685a8af",
      "metadata": {
        "id": "6f0a75b8-ad6c-480e-b64e-1010d685a8af"
      },
      "source": [
        "In Python, abstraction is a fundamental concept in object-oriented programming (OOP) that involves simplifying complex systems by modeling classes based on the essential properties and behaviors relevant to the problem at hand, while hiding unnecessary details. Abstraction allows developers to focus on what an object does rather than how it achieves its functionality.\n",
        "\n",
        "Key Aspects of Abstraction in Python:\n",
        "\n",
        "1.Class Design:\n",
        "\n",
        "Abstraction is often implemented through the creation of classes and objects in OOP.\n",
        "A class encapsulates data (attributes) and behaviors (methods) into a single unit, representing a concept or entity in the problem domain.\n",
        "\n",
        "2.Data Hiding:\n",
        "\n",
        "Abstraction involves exposing only the necessary details of an object and hiding its internal implementation details.\n",
        "In Python, data hiding is achieved using private and protected attributes and methods, denoted by the use of single or double underscores (_ or __).\n",
        "\n",
        "3.Method Overriding:\n",
        "\n",
        "Abstraction allows for method overriding, where subclasses can provide their own implementation of methods defined in the base class.\n",
        "This enables the creation of a common interface while allowing different classes to behave in ways specific to their types.\n",
        "\n",
        "4.Abstract Classes and Interfaces:\n",
        "\n",
        "Python supports abstract classes and abstract methods through the ABC (Abstract Base Classes) module.\n",
        "Abstract classes cannot be instantiated on their own and typically include abstract methods that must be implemented by concrete subclasses.\n",
        "\n",
        "Example of Abstraction in Python:"
      ]
    },
    {
      "cell_type": "code",
      "execution_count": null,
      "id": "cfe89444-fd51-49e1-8ee6-8618a96d07a2",
      "metadata": {
        "id": "cfe89444-fd51-49e1-8ee6-8618a96d07a2",
        "outputId": "d63881ac-d80e-4414-9a42-7b39f50aec8b"
      },
      "outputs": [
        {
          "name": "stdout",
          "output_type": "stream",
          "text": [
            "Circle - color: Red, Radius: 5, Area: 78.50\n",
            "Square - Color: Blue, Side Length: 4, Area: 16\n"
          ]
        }
      ],
      "source": [
        "from abc import ABC, abstractmethod\n",
        "\n",
        "class Shape(ABC):\n",
        "    def __init__(self, color):\n",
        "        self.color = color\n",
        "\n",
        "    @abstractmethod\n",
        "    def area(self):\n",
        "        pass\n",
        "\n",
        "    @abstractmethod\n",
        "    def display_info(self):\n",
        "        pass\n",
        "\n",
        "class Circle(Shape):\n",
        "    def __init__(self, color, radius):\n",
        "        super().__init__(color)\n",
        "        self.radius = radius\n",
        "\n",
        "    def area(self):\n",
        "        return 3.14 * self.radius**2\n",
        "\n",
        "    def display_info(self):\n",
        "        print(f\"Circle - color: {self.color}, Radius: {self.radius}, Area: {self.area():.2f}\")\n",
        "\n",
        "class Square(Shape):\n",
        "    def __init__(self, color, side_length):\n",
        "        super().__init__(color)\n",
        "        self.side_length = side_length\n",
        "\n",
        "    def area(self):\n",
        "        return self.side_length**2\n",
        "\n",
        "    def display_info(self):\n",
        "        print(f\"Square - Color: {self.color}, Side Length: {self.side_length}, Area: {self.area()}\")\n",
        "\n",
        "# Example Usage:\n",
        "\n",
        "circle = Circle(color=\"Red\", radius = 5)\n",
        "square = Square(color=\"Blue\", side_length = 4)\n",
        "\n",
        "shapes = [circle, square]\n",
        "\n",
        "for shape in shapes:\n",
        "    shape.display_info()"
      ]
    },
    {
      "cell_type": "markdown",
      "id": "66a1a9d3-7500-4826-a270-cbd1cd7581fa",
      "metadata": {
        "id": "66a1a9d3-7500-4826-a270-cbd1cd7581fa"
      },
      "source": [
        "2. Describe the benefits of abstraction in terms of code organization and complexity reduction."
      ]
    },
    {
      "cell_type": "markdown",
      "id": "a42923fb-9703-4ffb-b99c-f7ff9768475c",
      "metadata": {
        "id": "a42923fb-9703-4ffb-b99c-f7ff9768475c"
      },
      "source": [
        "\n",
        "Abstraction in programming, especially in the context of object-oriented programming (OOP), offers several benefits in terms of code organization and complexity reduction. Here are some key advantages:\n",
        "\n",
        "1.Simplification and Focus:\n",
        "\n",
        "Benefit: Abstraction simplifies complex systems by focusing on essential properties and behaviors, hiding unnecessary details.\n",
        "Impact: Developers can work with higher-level concepts and entities, making it easier to understand and reason about the code.\n",
        "\n",
        "2.Code Reusability:\n",
        "\n",
        "Benefit: Abstraction promotes code reusability by encapsulating common behaviors and properties in abstract classes or interfaces.\n",
        "Impact: Developers can reuse abstract classes and interfaces across different parts of the codebase or in different projects, leading to more efficient development.\n",
        "\n",
        "3.Modularity:\n",
        "\n",
        "Benefit: Abstraction encourages modular design, where each class or module represents a self-contained unit with a specific responsibility.\n",
        "Impact: Changes to one module or class are less likely to affect others, leading to a more modular and maintainable codebase.\n",
        "\n",
        "4.Encapsulation:\n",
        "\n",
        "Benefit: Abstraction often involves encapsulating data and methods within a class, limiting access to the internal details.\n",
        "Impact: This encapsulation enhances data protection and reduces the risk of unintended interference or modification, improving code stability.\n",
        "\n",
        "5.Flexibility and Adaptability:\n",
        "\n",
        "Benefit: Abstraction allows for easy adaptation to changes by providing a clear separation between the interface and the implementation.\n",
        "Impact: When requirements change, modifications can be made to the implementation without affecting the external interface, minimizing the impact on other parts of the system.\n",
        "\n",
        "6.Polymorphism:\n",
        "\n",
        "Benefit: Abstraction facilitates polymorphism, where objects of different classes can be treated interchangeably based on a common interface.\n",
        "Impact: This enables the creation of generic algorithms that can work with a variety of objects, enhancing flexibility and extensibility.\n",
        "\n",
        "7.Easier Maintenance:\n",
        "\n",
        "Benefit: Abstraction leads to more maintainable code by reducing dependencies and making the codebase more understandable.\n",
        "Impact: Developers can more easily identify and fix issues, add new features, or make improvements without disrupting the overall structure of the system.\n",
        "\n",
        "8.Collaborative Development:\n",
        "\n",
        "Benefit: Abstraction supports collaborative development by providing a shared understanding of the system's structure and functionality.\n",
        "Impact: Multiple developers can work on different components without extensive knowledge of the entire system, leading to parallel development and reduced development time.\n",
        "\n",
        "9.Readability and Understandability:\n",
        "\n",
        "Benefit: Abstraction improves code readability by emphasizing the essential aspects of a system and reducing clutter with unnecessary details.\n",
        "Impact: Developers, including those who did not write the original code, can more easily understand and navigate the codebase."
      ]
    },
    {
      "cell_type": "markdown",
      "id": "ba0b9d21-934b-449e-b109-779c8cac1ea5",
      "metadata": {
        "id": "ba0b9d21-934b-449e-b109-779c8cac1ea5"
      },
      "source": [
        "3. Create a Python class called `Shape` with an abstract method `calculate_area()`. Then, create child classes (e.g., `Circle`, `Rectangle`) that implement the `calculate_area()` method. Provide an example of\n",
        "using these classes."
      ]
    },
    {
      "cell_type": "code",
      "execution_count": null,
      "id": "2386502d-49a9-4cd9-8d10-403ccd1d0e4a",
      "metadata": {
        "id": "2386502d-49a9-4cd9-8d10-403ccd1d0e4a",
        "outputId": "a3891a6a-8e98-45db-8e35-22e2f5dadfce"
      },
      "outputs": [
        {
          "name": "stdout",
          "output_type": "stream",
          "text": [
            "Area of Circle: 78.50\n",
            "Area of Rectangle: 24.00\n"
          ]
        }
      ],
      "source": [
        "from abc import ABC, abstractmethod\n",
        "\n",
        "class Shape(ABC):\n",
        "    @abstractmethod\n",
        "    def calculate_area(self):\n",
        "        pass\n",
        "\n",
        "class Circle(Shape):\n",
        "    def __init__(self, radius):\n",
        "        self.radius = radius\n",
        "\n",
        "    def calculate_area(self):\n",
        "        return 3.14 * self.radius**2\n",
        "\n",
        "class Rectangle(Shape):\n",
        "    def __init__(self, length, width):\n",
        "        self.length = length\n",
        "        self.width = width\n",
        "\n",
        "    def calculate_area(self):\n",
        "        return self.length * self.width\n",
        "\n",
        "# Example Usage:\n",
        "\n",
        "circle = Circle(radius=5)\n",
        "rectangle = Rectangle(length=4, width=6)\n",
        "\n",
        "shapes = [circle, rectangle]\n",
        "\n",
        "for shape in shapes:\n",
        "    print(f\"Area of {shape.__class__.__name__}: {shape.calculate_area():.2f}\")"
      ]
    },
    {
      "cell_type": "markdown",
      "id": "0707b04b-e625-48da-9b4d-d0d77a4ee2ff",
      "metadata": {
        "id": "0707b04b-e625-48da-9b4d-d0d77a4ee2ff"
      },
      "source": [
        "4. Explain the concept of abstract classes in Python and how they are defined using the `abc` module. Provide\n",
        "an example.\n"
      ]
    },
    {
      "cell_type": "markdown",
      "id": "4103554f-b3a4-4d82-912d-78c5e0a89cc7",
      "metadata": {
        "id": "4103554f-b3a4-4d82-912d-78c5e0a89cc7"
      },
      "source": [
        "In Python, abstract classes are classes that cannot be instantiated on their own and are meant to be subclassed by other classes. Abstract classes often serve as a blueprint for other classes, providing a common interface and, in some cases, including abstract methods that must be implemented by the subclasses. The abc (Abstract Base Classes) module in Python provides the tools for defining abstract classes and abstract methods.\n",
        "\n",
        "Key Concepts:\n",
        "\n",
        "1.Abstract Class:\n",
        "\n",
        "An abstract class is defined using the ABC metaclass from the abc module.\n",
        "It may include both abstract methods (methods without an implementation) and concrete methods (methods with an implementation).\n",
        "\n",
        "2.Abstract Method:\n",
        "\n",
        "An abstract method is a method declared in an abstract class without providing an implementation.\n",
        "Subclasses are required to provide concrete implementations for all abstract methods.\n",
        "\n",
        "Example:\n",
        "Let's create an abstract class called Shape with an abstract method calculate_area():"
      ]
    },
    {
      "cell_type": "code",
      "execution_count": null,
      "id": "1170426d-040f-4761-8beb-e72e53bcdd24",
      "metadata": {
        "id": "1170426d-040f-4761-8beb-e72e53bcdd24",
        "outputId": "58af8941-9aa0-4587-868a-2392095d9e28"
      },
      "outputs": [
        {
          "name": "stdout",
          "output_type": "stream",
          "text": [
            "This is a Circle.\n",
            "Area of Circle: 78.50\n"
          ]
        }
      ],
      "source": [
        "from abc import ABC, abstractmethod\n",
        "\n",
        "class Shape(ABC):\n",
        "    @abstractmethod\n",
        "    def calculate_area(self):\n",
        "        pass\n",
        "\n",
        "    def display_info(self):\n",
        "        print(f\"This is a {self.__class__.__name__}.\")\n",
        "\n",
        "# Attempting to instantiate an abstract class will raise an error\n",
        "# shape = Shape() # Uncommenthing this line will raise TypeError\n",
        "\n",
        "# Creating a concrete subclass of shape\n",
        "class Circle(Shape):\n",
        "    def __init__(self, radius):\n",
        "        self.radius = radius\n",
        "\n",
        "    def calculate_area(self):\n",
        "        return 3.14 * self.radius**2\n",
        "\n",
        "# Creating an instance of the concrete subclass\n",
        "circle = Circle(radius=5)\n",
        "\n",
        "# Using methods from the abstract class and concrete subclass\n",
        "circle.display_info()\n",
        "print(f\"Area of Circle: {circle.calculate_area():.2f}\")"
      ]
    },
    {
      "cell_type": "markdown",
      "id": "153b5d26-57fb-4462-80e1-722725f5a879",
      "metadata": {
        "id": "153b5d26-57fb-4462-80e1-722725f5a879"
      },
      "source": [
        "5. How do abstract classes differ from regular classes in Python? Discuss their use cases."
      ]
    },
    {
      "cell_type": "markdown",
      "id": "ea9a1ee2-533e-42e6-81d8-4feda4dbb448",
      "metadata": {
        "id": "ea9a1ee2-533e-42e6-81d8-4feda4dbb448"
      },
      "source": [
        "Abstract classes in Python differ from regular classes in several ways, primarily in their intended use and features. Here are the key differences and use cases for abstract classes:\n",
        "\n",
        " # Abstract Classes:\n",
        "\n",
        "1.Instantiation:\n",
        "\n",
        "Abstract Classes: Cannot be instantiated on their own. They are meant to be subclassed.\n",
        "Use Case: Abstract classes provide a blueprint for other classes and are not designed to be used independently.\n",
        "\n",
        "2.Abstract Methods:\n",
        "\n",
        "Abstract Classes: May include abstract methods (methods without an implementation) that must be implemented by subclasses.\n",
        "Use Case: Abstract methods define a common interface that subclasses must adhere to, ensuring a consistent structure across different classes.\n",
        "\n",
        "3.Use of abc Module:\n",
        "\n",
        "Abstract Classes: Defined using the ABC metaclass from the abc module.\n",
        "Use Case: The abc module provides tools for explicitly marking abstract methods and enforcing their implementation in subclasses.\n",
        "\n",
        "4.Enforcement of Implementation:\n",
        "\n",
        "Abstract Classes: Enforce that concrete subclasses provide implementations for all abstract methods.\n",
        "Use Case: Ensures that specific behaviors are implemented in subclasses, promoting a more robust and predictable class hierarchy.\n",
        "\n",
        "5.Intent:\n",
        "\n",
        "Abstract Classes: Designed to be a base class for other classes, providing a common interface and shared behaviors.\n",
        "Use Case: Abstract classes are useful when you want to define a template for a class hierarchy without providing a full implementation.\n",
        "\n",
        " # Regular Classes:\n",
        "\n",
        "1.Instantiation:\n",
        "\n",
        "Regular Classes: Can be instantiated on their own without the need for subclassing.\n",
        "Use Case: Regular classes are standalone entities that represent concrete objects or concepts.\n",
        "\n",
        "2.Abstract Methods:\n",
        "\n",
        "Regular Classes: May have methods with or without implementations; there is no requirement for abstract methods.\n",
        "Use Case: Regular classes are suitable for situations where a full implementation is not necessary, and default behaviors can be provided.\n",
        "\n",
        "3.Use of abc Module:\n",
        "\n",
        "Regular Classes: Do not necessarily use the abc module unless abstract methods are explicitly needed.\n",
        "Use Case: Regular classes are more flexible and may not require the explicit use of abstract methods or the abc module.\n",
        "\n",
        "4.Enforcement of Implementation:\n",
        "\n",
        "Regular Classes: Do not enforce that subclasses provide specific implementations for methods.\n",
        "Use Case: Regular classes are used when you want to provide a general structure, but subclasses are not required to implement specific behaviors.\n",
        "\n",
        "5.Intent:\n",
        "\n",
        "Regular Classes: Designed to be used independently or as part of a class hierarchy. They may or may not serve as base classes for other classes.\n",
        "Use Case: Regular classes are suitable for situations where a complete, standalone implementation is needed.\n",
        "\n",
        " # Use Cases:\n",
        "\n",
        "Abstract Classes:\n",
        "\n",
        "When you want to define a common interface for a group of related classes.\n",
        "When you want to enforce that certain methods must be implemented by subclasses.\n",
        "When you want to provide a template for a class hierarchy without providing complete implementations.\n",
        "\n",
        "Regular Classes:\n",
        "\n",
        "When you need to represent concrete objects or concepts.\n",
        "When you want more flexibility in terms of method implementation.\n",
        "When you don't need to enforce specific behaviors in subclasses."
      ]
    },
    {
      "cell_type": "markdown",
      "id": "d311dfa0-1dd4-4294-b257-5ab811496b61",
      "metadata": {
        "id": "d311dfa0-1dd4-4294-b257-5ab811496b61"
      },
      "source": [
        "6. Create a Python class for a bank account and demonstrate abstraction by hiding the account balance and\n",
        "providing methods to deposit and withdraw funds."
      ]
    },
    {
      "cell_type": "code",
      "execution_count": null,
      "id": "0f2a4011-d036-4108-81ba-681c226f2fee",
      "metadata": {
        "id": "0f2a4011-d036-4108-81ba-681c226f2fee",
        "outputId": "1d1020ed-d645-4375-b1d4-cebf3faf6792"
      },
      "outputs": [
        {
          "name": "stdout",
          "output_type": "stream",
          "text": [
            "Savings Account - Holder: John Doe, Account Number: 123456789, Balance: $0, Interest Rate: 2.5%\n",
            "Deposited $1000. New balance: $1000\n",
            "Withdrew $500. New balance: $500\n",
            "Savings Account - Holder: John Doe, Account Number: 123456789, Balance: $500, Interest Rate: 2.5%\n"
          ]
        }
      ],
      "source": [
        "from abc import ABC, abstractmethod\n",
        "\n",
        "class BankAccount(ABC):\n",
        "    def __init__(self, account_holder, account_number):\n",
        "        self.account_holder = account_holder\n",
        "        self.account_number = account_number\n",
        "        self._balance = 0  # Using a single underscore to indicate a protected attribute\n",
        "\n",
        "    @abstractmethod\n",
        "    def display_info(self):\n",
        "        pass\n",
        "\n",
        "    def deposit(self, amount):\n",
        "        if amount > 0:\n",
        "            self._balance += amount\n",
        "            print(f\"Deposited ${amount}. New balance: ${self._balance}\")\n",
        "        else:\n",
        "            print(\"Invalid deposit amount. Please deposit a positive amount.\")\n",
        "\n",
        "    def withdraw(self, amount):\n",
        "        if amount > 0 and amount <= self._balance:\n",
        "            self._balance -= amount\n",
        "            print(f\"Withdrew ${amount}. New balance: ${self._balance}\")\n",
        "        else:\n",
        "            print(\"Invalid withdrawal amount or insufficient funds.\")\n",
        "\n",
        "# Creating a concrete subclass for a savings account\n",
        "class SavingsAccount(BankAccount):\n",
        "    def __init__(self, account_holder, account_number, interest_rate):\n",
        "        super().__init__(account_holder, account_number)\n",
        "        self.interest_rate = interest_rate\n",
        "\n",
        "    def display_info(self):\n",
        "        print(f\"Savings Account - Holder: {self.account_holder}, Account Number: {self.account_number}, Balance: ${self._balance}, Interest Rate: {self.interest_rate}%\")\n",
        "\n",
        "# Example Usage:\n",
        "\n",
        "# Creating an instance of the SavingsAccount class\n",
        "savings_account = SavingsAccount(account_holder=\"John Doe\", account_number=\"123456789\", interest_rate=2.5)\n",
        "\n",
        "# Displaying initial account information\n",
        "savings_account.display_info()\n",
        "\n",
        "# Performing deposit and withdrawal operations\n",
        "savings_account.deposit(1000)\n",
        "savings_account.withdraw(500)\n",
        "\n",
        "# Displaying updated account information\n",
        "savings_account.display_info()\n"
      ]
    },
    {
      "cell_type": "markdown",
      "id": "8ec4112b-e924-4bbc-b1fa-f8c661aaf131",
      "metadata": {
        "id": "8ec4112b-e924-4bbc-b1fa-f8c661aaf131"
      },
      "source": [
        "7. Discuss the concept of interface classes in Python and their role in achieving abstraction."
      ]
    },
    {
      "cell_type": "markdown",
      "id": "2db23089-2107-4bf1-9a7e-490283b10f48",
      "metadata": {
        "id": "2db23089-2107-4bf1-9a7e-490283b10f48"
      },
      "source": [
        "\n",
        "In Python, interface classes are classes that define a set of method signatures (or in some cases, attributes) without providing their implementation. The primary role of interface classes is to serve as a contract or blueprint for other classes, ensuring that any class implementing the interface must provide concrete implementations for all the methods specified by the interface. While Python doesn't have a native concept of interfaces like some other programming languages, developers can achieve a similar effect using abstract classes or abstract methods from the abc module.\n",
        "\n",
        "Key Concepts:\n",
        "\n",
        "1.Abstract Methods:\n",
        "\n",
        "Interface classes often consist of abstract methods – methods without an implementation.\n",
        "Subclasses or implementing classes must provide concrete implementations for these methods.\n",
        "\n",
        "2.abc Module:\n",
        "\n",
        "The abc (Abstract Base Classes) module in Python is commonly used to create interfaces or abstract classes with abstract methods.\n",
        "The ABC metaclass is used to define abstract classes, and the abstractmethod decorator is used to mark abstract methods."
      ]
    },
    {
      "cell_type": "code",
      "execution_count": null,
      "id": "08a095fd-39eb-4214-8be2-8d3141c4583c",
      "metadata": {
        "id": "08a095fd-39eb-4214-8be2-8d3141c4583c",
        "outputId": "ba1913b4-cb60-4317-fefe-f3a21bad504f"
      },
      "outputs": [
        {
          "name": "stdout",
          "output_type": "stream",
          "text": [
            "Processed payment of $50 via PayPal.\n",
            "Refunded payment for transaction ID ABC123 via PayPal.\n"
          ]
        }
      ],
      "source": [
        "from abc import ABC, abstractmethod\n",
        "\n",
        "class PaymentGateway(ABC):\n",
        "    @abstractmethod\n",
        "    def process_payment(self, amount):\n",
        "        pass\n",
        "\n",
        "    @abstractmethod\n",
        "    def refund_payment(self, transaction_id):\n",
        "        pass\n",
        "\n",
        "class PayPalGateway(PaymentGateway):\n",
        "    def process_payment(self, amount):\n",
        "        # Concrete implementation for processing payment via PayPal\n",
        "        print(f\"Processed payment of ${amount} via PayPal.\")\n",
        "\n",
        "    def refund_payment(self, transaction_id):\n",
        "        # Concrete implementation for refunding payment via PayPal\n",
        "        print(f\"Refunded payment for transaction ID {transaction_id} via PayPal.\")\n",
        "\n",
        "# Example Usage:\n",
        "\n",
        "paypal_gateway = PayPalGateway()\n",
        "\n",
        "# The PayPalGateway class implements the PaymentGateway interface\n",
        "paypal_gateway.process_payment(50)\n",
        "paypal_gateway.refund_payment(\"ABC123\")\n"
      ]
    },
    {
      "cell_type": "markdown",
      "id": "9d4e52dd-7d55-47ef-8212-7ed92644ad93",
      "metadata": {
        "id": "9d4e52dd-7d55-47ef-8212-7ed92644ad93"
      },
      "source": [
        "8. Create a Python class hierarchy for animals and implement abstraction by defining common methods (e.g., `eat()`, `sleep()`) in an abstract base class."
      ]
    },
    {
      "cell_type": "code",
      "execution_count": null,
      "id": "fd6fb70f-0ef7-4662-bf69-be129515a168",
      "metadata": {
        "id": "fd6fb70f-0ef7-4662-bf69-be129515a168",
        "outputId": "953f1060-1529-42f4-efc0-3f559f99a64e"
      },
      "outputs": [
        {
          "name": "stdout",
          "output_type": "stream",
          "text": [
            "Some generic mammal sound\n",
            "Leo the Lion is eating.\n",
            "Leo the Lion is sleeping.\n",
            "Some generic bird sound\n",
            "Polly the Parrot is pecking at seeds.\n",
            "Polly the Parrot is roosting.\n"
          ]
        }
      ],
      "source": [
        "from abc import ABC, abstractmethod\n",
        "\n",
        "class Animal(ABC):\n",
        "    def __init__(self, name, species):\n",
        "        self.name = name\n",
        "        self.species = species\n",
        "\n",
        "    @abstractmethod\n",
        "    def make_sound(self):\n",
        "        pass\n",
        "\n",
        "    @abstractmethod\n",
        "    def eat(self):\n",
        "        pass\n",
        "\n",
        "    @abstractmethod\n",
        "    def sleep(self):\n",
        "        pass\n",
        "\n",
        "class Mammal(Animal):\n",
        "    def __init__(self, name, species, fur_color):\n",
        "        super().__init__(name, species)\n",
        "        self.fur_color = fur_color\n",
        "\n",
        "    def make_sound(self):\n",
        "        return \"Some generic mammal sound\"\n",
        "\n",
        "    def eat(self):\n",
        "        return f\"{self.name} the {self.species} is eating.\"\n",
        "\n",
        "    def sleep(self):\n",
        "        return f\"{self.name} the {self.species} is sleeping.\"\n",
        "\n",
        "class Bird(Animal):\n",
        "    def __init__(self, name, species, feather_color):\n",
        "        super().__init__(name, species)\n",
        "        self.feather_color = feather_color\n",
        "\n",
        "    def make_sound(self):\n",
        "        return \"Some generic bird sound\"\n",
        "\n",
        "    def eat(self):\n",
        "        return f\"{self.name} the {self.species} is pecking at seeds.\"\n",
        "\n",
        "    def sleep(self):\n",
        "        return f\"{self.name} the {self.species} is roosting.\"\n",
        "\n",
        "# Example Usage:\n",
        "\n",
        "# Creating instances of Mammal and Bird\n",
        "lion = Mammal(name = \"Leo\", species = \"Lion\", fur_color = \"Golden\")\n",
        "parrot = Bird(name = \"Polly\", species = \"Parrot\", feather_color = \"Green\")\n",
        "\n",
        "# Using common methods defined in the abstract base class\n",
        "print(lion.make_sound())\n",
        "print(lion.eat())\n",
        "print(lion.sleep())\n",
        "\n",
        "print(parrot.make_sound())\n",
        "print(parrot.eat())\n",
        "print(parrot.sleep())\n",
        ""
      ]
    },
    {
      "cell_type": "markdown",
      "id": "1ddddb42-437d-465a-99ae-052b8c39506a",
      "metadata": {
        "id": "1ddddb42-437d-465a-99ae-052b8c39506a"
      },
      "source": [
        "9. Explain the significance of encapsulation in achieving abstraction. Provide examples.\n"
      ]
    },
    {
      "cell_type": "markdown",
      "id": "072550df-d2d0-4a1d-aa25-22acc9b212bf",
      "metadata": {
        "id": "072550df-d2d0-4a1d-aa25-22acc9b212bf"
      },
      "source": [
        "Encapsulation and abstraction are closely related concepts in object-oriented programming, and encapsulation plays a significant role in achieving abstraction. Encapsulation is the bundling of data (attributes) and methods that operate on that data into a single unit, known as a class. It allows the internal details of a class to be hidden from the outside world, providing a way to achieve abstraction by exposing only the essential features and behaviors.\n",
        "\n",
        " # Significance of Encapsulation in Achieving Abstraction:\n",
        "\n",
        "1.Hiding Implementation Details:\n",
        "\n",
        "Encapsulation allows the hiding of the internal details and complexities of a class. The implementation details are encapsulated within the class, making them inaccessible from outside the class.\n",
        "\n",
        "2.Access Control:\n",
        "\n",
        "Encapsulation enables control over the access to the internal state of an object. By using access modifiers (e.g., public, private, protected), developers can specify which attributes and methods are accessible from outside the class.\n",
        "\n",
        "3.Promoting Abstraction:\n",
        "\n",
        "Encapsulation provides a way to create abstract data types. By exposing only relevant methods and hiding the internal details, encapsulation encourages the use of abstract interfaces, achieving a higher level of abstraction.\n",
        "\n",
        "4.Data Integrity:\n",
        "\n",
        "Encapsulation helps in maintaining data integrity by enforcing constraints and validation within the class methods. This ensures that the internal state of an object remains consistent and valid.\n",
        "\n",
        "5.Enhancing Security:\n",
        "\n",
        "Encapsulation improves security by restricting direct access to sensitive data. Private attributes can only be accessed and modified through controlled methods, reducing the risk of unintended manipulation.\n",
        "\n",
        "6.Ease of Maintenance:\n",
        "\n",
        "Encapsulation facilitates easier maintenance of code. If the internal implementation of a class changes, the external code that uses the class doesn't need to be modified as long as the public interface remains unchanged.\n",
        "\n",
        "7.Code Readability:\n",
        "\n",
        "Encapsulation enhances code readability by providing a clear separation between the external interface (public methods) and internal details (implementation). This separation makes the code more understandable and reduces cognitive load.\n",
        "\n",
        " # Examples:\n",
        "Example 1: Encapsulation with Access Modifiers"
      ]
    },
    {
      "cell_type": "code",
      "execution_count": null,
      "id": "f8d9e4fc-d993-4a66-bfb4-b6ae0f6ba832",
      "metadata": {
        "id": "f8d9e4fc-d993-4a66-bfb4-b6ae0f6ba832",
        "outputId": "83b94557-849d-4e08-ce87-bcb647ea676d"
      },
      "outputs": [
        {
          "name": "stdout",
          "output_type": "stream",
          "text": [
            "1000\n",
            "1300\n"
          ]
        }
      ],
      "source": [
        "class BankAccount:\n",
        "    def __init__(self, account_holder, balance):\n",
        "        self._account_holder = account_holder  # Protected attribute\n",
        "        self.__balance = balance  # Private attribute\n",
        "\n",
        "    def get_balance(self):\n",
        "        return self.__balance\n",
        "\n",
        "    def deposit(self, amount):\n",
        "        if amount > 0:\n",
        "            self.__balance += amount\n",
        "\n",
        "    def withdraw(self, amount):\n",
        "        if amount > 0 and amount <= self.__balance:\n",
        "            self.__balance -= amount\n",
        "\n",
        "# Example Usage:\n",
        "account = BankAccount(account_holder=\"John Doe\", balance=1000)\n",
        "print(account.get_balance())  # Accessing balance using a getter method\n",
        "account.deposit(500)  # Modifying balance using a method\n",
        "account.withdraw(200)\n",
        "print(account.get_balance())\n"
      ]
    },
    {
      "cell_type": "markdown",
      "id": "18b8a451-289b-4f3a-8f6a-8f1b75c863e4",
      "metadata": {
        "id": "18b8a451-289b-4f3a-8f6a-8f1b75c863e4"
      },
      "source": [
        "Example 2: Encapsulation with Property Decorators"
      ]
    },
    {
      "cell_type": "code",
      "execution_count": null,
      "id": "b9d44154-61b7-4fdc-9568-56a23636a4ec",
      "metadata": {
        "id": "b9d44154-61b7-4fdc-9568-56a23636a4ec",
        "outputId": "101938f6-7904-41e7-b08c-9f4fa9af2223"
      },
      "outputs": [
        {
          "name": "stdout",
          "output_type": "stream",
          "text": [
            "Toyota\n",
            "Camry\n",
            "2022\n"
          ]
        }
      ],
      "source": [
        "class Car:\n",
        "    def __init__(self, make, model, year):\n",
        "        self._make = make  # Protected attribute\n",
        "        self._model = model  # Protected attribute\n",
        "        self._year = year  # Protected attribute\n",
        "\n",
        "    @property\n",
        "    def make(self):\n",
        "        return self._make\n",
        "\n",
        "    @property\n",
        "    def model(self):\n",
        "        return self._model\n",
        "\n",
        "    @property\n",
        "    def year(self):\n",
        "        return self._year\n",
        "\n",
        "# Example Usage:\n",
        "my_car = Car(make=\"Toyota\", model=\"Camry\", year=2022)\n",
        "print(my_car.make)  # Accessing make using a property\n",
        "print(my_car.model)\n",
        "print(my_car.year)\n"
      ]
    },
    {
      "cell_type": "markdown",
      "id": "09d51292-6f99-490a-9bdc-8bf6e6fb9abb",
      "metadata": {
        "id": "09d51292-6f99-490a-9bdc-8bf6e6fb9abb"
      },
      "source": [
        "10. What is the purpose of abstract methods, and how do they enforce abstraction in Python classes?"
      ]
    },
    {
      "cell_type": "markdown",
      "id": "92292f26-0421-4dde-b163-2a2d3065e560",
      "metadata": {
        "id": "92292f26-0421-4dde-b163-2a2d3065e560"
      },
      "source": [
        "Abstract methods in Python serve the purpose of defining a method signature (declaration) in an abstract base class without providing its implementation. These methods act as placeholders, indicating that any concrete subclass inheriting from the abstract base class must provide a concrete implementation for each abstract method. The primary goals of abstract methods are to enforce a common interface across related classes and to promote abstraction by allowing subclasses to define their own specific behavior.\n",
        "\n",
        " # Key Points:\n",
        "\n",
        "1.Declaration Without Implementation:\n",
        "\n",
        "Abstract methods are declared in an abstract base class without providing a specific implementation. The abstract base class itself may not be instantiated.\n",
        "\n",
        "2.abc Module Usage:\n",
        "\n",
        "Abstract classes and abstract methods are often defined using the abc (Abstract Base Classes) module in Python. The ABC (Abstract Base Class) metaclass and the abstractmethod decorator are key components.\n",
        "\n",
        "3.Enforcing a Contract:\n",
        "\n",
        "Abstract methods define a contract or interface that concrete subclasses must adhere to. Each abstract method represents a behavior that subclasses must implement.\n",
        "\n",
        "4.Promoting Abstraction:\n",
        "\n",
        "Abstract methods allow for the definition of abstract interfaces. They encourage a higher level of abstraction by specifying what methods should exist without dictating how they should be implemented.\n",
        "\n",
        "5.Subclass Responsibility:\n",
        "\n",
        "Concrete subclasses inheriting from an abstract base class must provide concrete implementations for all abstract methods. Failure to do so results in a TypeError during instantiation.\n",
        "\n",
        " # Example:"
      ]
    },
    {
      "cell_type": "code",
      "execution_count": null,
      "id": "bbc213a0-eebc-48eb-802a-1fcd7ca65b32",
      "metadata": {
        "id": "bbc213a0-eebc-48eb-802a-1fcd7ca65b32",
        "outputId": "0a0e6158-b340-4358-b40b-0dbc0afccbd2"
      },
      "outputs": [
        {
          "name": "stdout",
          "output_type": "stream",
          "text": [
            "Circle Area: 78.5\n",
            "Circle Perimeter: 31.400000000000002\n",
            "Square Area: 16\n",
            "Square Perimeter: 16\n"
          ]
        }
      ],
      "source": [
        "from abc import ABC, abstractmethod\n",
        "\n",
        "class Shape(ABC):\n",
        "    @abstractmethod\n",
        "    def area(self):\n",
        "        pass\n",
        "\n",
        "    @abstractmethod\n",
        "    def perimeter(self):\n",
        "        pass\n",
        "\n",
        "class Circle(Shape):\n",
        "    def __init__(self, radius):\n",
        "        self.radius = radius\n",
        "\n",
        "    def area(self):\n",
        "        return 3.14 * self.radius**2\n",
        "\n",
        "    def perimeter(self):\n",
        "        return 2 * 3.14 * self.radius\n",
        "\n",
        "class Square(Shape):\n",
        "    def __init__(self, side_length):\n",
        "        self.side_length = side_length\n",
        "\n",
        "    def area(self):\n",
        "        return self.side_length**2\n",
        "\n",
        "    def perimeter(self):\n",
        "        return 4 * self.side_length\n",
        "\n",
        "# Example Usage:\n",
        "\n",
        "# Attempting to instantiate Shape (an abstract base class) raises an error\n",
        "# shape = Shape()  # Uncommenting this line will result in a TypeError\n",
        "\n",
        "# Creating instances of concrete subclasses\n",
        "circle = Circle(radius=5)\n",
        "square = Square(side_length=4)\n",
        "\n",
        "# Accessing methods of concrete subclasses\n",
        "print(\"Circle Area:\", circle.area())\n",
        "print(\"Circle Perimeter:\", circle.perimeter())\n",
        "\n",
        "print(\"Square Area:\", square.area())\n",
        "print(\"Square Perimeter:\", square.perimeter())\n"
      ]
    },
    {
      "cell_type": "markdown",
      "id": "7c3b52fa-947e-492d-91aa-224893a4c50a",
      "metadata": {
        "id": "7c3b52fa-947e-492d-91aa-224893a4c50a"
      },
      "source": [
        "11. Create a Python class for a vehicle system and demonstrate abstraction by defining common methods (e.g., `start()`, `stop()`) in an abstract base class.\n"
      ]
    },
    {
      "cell_type": "code",
      "execution_count": null,
      "id": "e541b2dc-ab68-470f-b065-71e402cbdcd7",
      "metadata": {
        "id": "e541b2dc-ab68-470f-b065-71e402cbdcd7",
        "outputId": "be371a05-5115-4116-9f19-9acbfcc7fd53"
      },
      "outputs": [
        {
          "name": "stdout",
          "output_type": "stream",
          "text": [
            "The Toyota Camry engine is starting.\n",
            "Is sedan running? True\n",
            "The Toyota Camry engine is stopping.\n",
            "Is sedan running? False\n",
            "The Harley-Devidson Sportster engine is starting.\n",
            "Is bike running? True\n",
            "The Harley-Devidson Sportster engine is stopping.\n",
            "Is bike running? False\n"
          ]
        }
      ],
      "source": [
        "from abc import ABC, abstractmethod\n",
        "\n",
        "class Vehicle(ABC):\n",
        "    def __init__(self, brand, model):\n",
        "        self.brand = brand\n",
        "        self.model = model\n",
        "        self._is_running = False # Protected attribute indicating the running state\n",
        "\n",
        "    @abstractmethod\n",
        "    def start(self):\n",
        "        pass\n",
        "\n",
        "    @abstractmethod\n",
        "    def stop(self):\n",
        "        pass\n",
        "\n",
        "    def is_running(self):\n",
        "        return self._is_running\n",
        "\n",
        "class Car(Vehicle):\n",
        "    def start(self):\n",
        "        if not self._is_running:\n",
        "            print(f\"The {self.brand} {self.model} engine is starting.\")\n",
        "            self._is_running = True\n",
        "        else:\n",
        "            print(f\"The {self.brand} {self.model} engine is already running.\")\n",
        "\n",
        "    def stop(self):\n",
        "        if self._is_running:\n",
        "            print(f\"The {self.brand} {self.model} engine is stopping.\")\n",
        "            self._is_running = False\n",
        "        else:\n",
        "            print(f\"The {self.brand} {self.model} engine is already stopped.\")\n",
        "\n",
        "class Motorcycle(Vehicle):\n",
        "    def start(self):\n",
        "        if not self._is_running:\n",
        "            print(f\"The {self.brand} {self.model} engine is starting.\")\n",
        "            self._is_running = True\n",
        "        else:\n",
        "            print(f\"The {self.brand} {self.model} engine is already running.\")\n",
        "\n",
        "    def stop(self):\n",
        "        if self._is_running:\n",
        "            print(f\"The {self.brand} {self.model} engine is stopping.\")\n",
        "            self._is_running = False\n",
        "        else:\n",
        "            print(f\"The {self.brand} {self.model} engine is already stopped.\")\n",
        "\n",
        "# Example Usage:\n",
        "\n",
        "# Creating instances of Car and Motorcycle\n",
        "sedan = Car(brand = \"Toyota\", model = \"Camry\")\n",
        "bike = Motorcycle(brand = \"Harley-Devidson\", model = \"Sportster\")\n",
        "\n",
        "# Using common methods defined in the abstract base class\n",
        "sedan.start()\n",
        "print(\"Is sedan running?\", sedan.is_running())\n",
        "sedan.stop()\n",
        "print(\"Is sedan running?\", sedan.is_running())\n",
        "\n",
        "bike.start()\n",
        "print(\"Is bike running?\", bike.is_running())\n",
        "bike.stop()\n",
        "print(\"Is bike running?\", bike.is_running())\n",
        "\n",
        "\n",
        ""
      ]
    },
    {
      "cell_type": "markdown",
      "id": "6c6870f9-a394-4134-9278-8ecb001e2b5c",
      "metadata": {
        "id": "6c6870f9-a394-4134-9278-8ecb001e2b5c"
      },
      "source": [
        "12. Describe the use of abstract properties in Python and how they can be employed in abstract classes."
      ]
    },
    {
      "cell_type": "markdown",
      "id": "b1ea670a-e885-411e-bc79-df160e05e550",
      "metadata": {
        "id": "b1ea670a-e885-411e-bc79-df160e05e550"
      },
      "source": [
        "Abstract properties in Python are a mechanism for defining abstract attributes in abstract base classes. Similar to abstract methods, abstract properties specify a contract or interface that concrete subclasses must adhere to by providing concrete implementations for the abstract property. Abstract properties are created using the @property decorator in combination with the @abstractmethod decorator from the abc (Abstract Base Classes) module.\n",
        "\n",
        " # Key Points:\n",
        "\n",
        "1.@property Decorator:\n",
        "\n",
        "The @property decorator is used to create read-only properties in Python. It allows a method to be accessed as an attribute.\n",
        "\n",
        "2.@abstractmethod Decorator:\n",
        "\n",
        "The @abstractmethod decorator from the abc module is used to declare abstract methods and properties in abstract base classes.\n",
        "\n",
        "3.Abstract Property Declaration:\n",
        "\n",
        "Abstract properties are declared in abstract base classes using the @property decorator and the @abstractmethod decorator. They lack an implementation and must be provided by concrete subclasses.\n",
        "\n",
        "4.Concrete Implementation:\n",
        "\n",
        "Concrete subclasses inheriting from an abstract base class must provide a concrete implementation for each abstract property. This involves defining a getter method with the same name as the abstract property.\n",
        "\n",
        " # Example:"
      ]
    },
    {
      "cell_type": "code",
      "execution_count": null,
      "id": "905318f9-074b-4ecf-9fc2-f3b0894ad73c",
      "metadata": {
        "id": "905318f9-074b-4ecf-9fc2-f3b0894ad73c",
        "outputId": "7a9d0ac8-2ec8-45c2-f4df-a708f9e898cc"
      },
      "outputs": [
        {
          "name": "stdout",
          "output_type": "stream",
          "text": [
            "Circle Area: 78.5\n",
            "Circle Perimeter: 31.400000000000002\n",
            "Square Area: 16\n",
            "Square Perimeter: 16\n"
          ]
        }
      ],
      "source": [
        "from abc import ABC, abstractmethod, abstractproperty\n",
        "\n",
        "class Shape(ABC):\n",
        "    @abstractproperty\n",
        "    def area(self):\n",
        "        pass\n",
        "\n",
        "    @abstractproperty\n",
        "    def perimeter(self):\n",
        "        pass\n",
        "\n",
        "class Circle(Shape):\n",
        "    def __init__(self, radius):\n",
        "        self._radius = radius\n",
        "\n",
        "    @property\n",
        "    def area(self):\n",
        "        return 3.14 * self._radius**2\n",
        "\n",
        "    @property\n",
        "    def perimeter(self):\n",
        "        return 2 * 3.14 * self._radius\n",
        "\n",
        "class Square(Shape):\n",
        "    def __init__(self, side_length):\n",
        "        self._side_length = side_length\n",
        "\n",
        "    @property\n",
        "    def area(self):\n",
        "        return self._side_length**2\n",
        "\n",
        "    @property\n",
        "    def perimeter(self):\n",
        "        return 4 * self._side_length\n",
        "\n",
        "# Example Usage;\n",
        "\n",
        "# Creating instances of concrete subclasses\n",
        "circle = Circle(radius = 5)\n",
        "square = Square(side_length = 4)\n",
        "\n",
        "# Accessing abstract properties through concrete implenmentations\n",
        "print(\"Circle Area:\", circle.area)\n",
        "print(\"Circle Perimeter:\", circle.perimeter)\n",
        "\n",
        "print(\"Square Area:\", square.area)\n",
        "print(\"Square Perimeter:\", square.perimeter)"
      ]
    },
    {
      "cell_type": "markdown",
      "id": "b7a81f52-5b02-4920-9b85-03184243e48e",
      "metadata": {
        "id": "b7a81f52-5b02-4920-9b85-03184243e48e"
      },
      "source": [
        "13. Create a Python class hierarchy for employees in a company (e.g., manager, developer, designer) and implement abstraction by defining a common `get_salary()` method."
      ]
    },
    {
      "cell_type": "code",
      "execution_count": null,
      "id": "62b1d9d4-b399-4889-a0b8-05eb8685cc94",
      "metadata": {
        "id": "62b1d9d4-b399-4889-a0b8-05eb8685cc94",
        "outputId": "07472b4d-1ffd-4c55-bba2-2acf5120559d"
      },
      "outputs": [
        {
          "name": "stdout",
          "output_type": "stream",
          "text": [
            "John Manager's Salary: $66000.0\n",
            "Alice Developer's Salary: $75000\n",
            "Bob Designer's Salary: $60000\n"
          ]
        }
      ],
      "source": [
        "from abc import ABC, abstractmethod\n",
        "\n",
        "class Employee(ABC):\n",
        "    def __init__(self, name, employee_id):\n",
        "        self.name = name\n",
        "        self.employee_id = employee_id\n",
        "\n",
        "    @abstractmethod\n",
        "    def get_salary(self):\n",
        "        pass\n",
        "\n",
        "class Manager(Employee):\n",
        "    def __init__(self, name, employee_id, bonus_percentage):\n",
        "        super().__init__(name, employee_id)\n",
        "        self.bonus_percentage = bonus_percentage\n",
        "\n",
        "    def get_salary(self):\n",
        "        base_salary = 60000  # Base salary for managers\n",
        "        bonus_amount = base_salary * (self.bonus_percentage / 100)\n",
        "        total_salary = base_salary + bonus_amount\n",
        "        return total_salary\n",
        "\n",
        "class Developer(Employee):\n",
        "    def __init__(self, name, employee_id, programming_language):\n",
        "        super().__init__(name, employee_id)\n",
        "        self.programming_language = programming_language\n",
        "\n",
        "    def get_salary(self):\n",
        "        base_salary = 70000  # Base salary for developers\n",
        "        bonus_amount = 5000 if self.programming_language == \"Python\" else 0\n",
        "        total_salary = base_salary + bonus_amount\n",
        "        return total_salary\n",
        "\n",
        "class Designer(Employee):\n",
        "    def __init__(self, name, employee_id, years_of_experience):\n",
        "        super().__init__(name, employee_id)\n",
        "        self.years_of_experience = years_of_experience\n",
        "\n",
        "    def get_salary(self):\n",
        "        base_salary = 55000  # Base salary for designers\n",
        "        experience_bonus = min(self.years_of_experience * 1000, 5000)\n",
        "        total_salary = base_salary + experience_bonus\n",
        "        return total_salary\n",
        "\n",
        "# Example Usage:\n",
        "\n",
        "# Creating instances of different employee types\n",
        "manager = Manager(name=\"John Manager\", employee_id=\"M001\", bonus_percentage=10)\n",
        "developer = Developer(name=\"Alice Developer\", employee_id=\"D001\", programming_language=\"Python\")\n",
        "designer = Designer(name=\"Bob Designer\", employee_id=\"DS001\", years_of_experience=5)\n",
        "\n",
        "# Accessing the common method defined in the abstract base class\n",
        "print(f\"{manager.name}'s Salary: ${manager.get_salary()}\")\n",
        "print(f\"{developer.name}'s Salary: ${developer.get_salary()}\")\n",
        "print(f\"{designer.name}'s Salary: ${designer.get_salary()}\")\n",
        "\n",
        ""
      ]
    },
    {
      "cell_type": "markdown",
      "id": "a8c6255b-a981-40f1-858e-6ab3424cfde0",
      "metadata": {
        "id": "a8c6255b-a981-40f1-858e-6ab3424cfde0"
      },
      "source": [
        "14. Discuss the differences between abstract classes and concrete classes in Python, including their\n",
        "instantiation.\n"
      ]
    },
    {
      "cell_type": "markdown",
      "id": "c0138f5f-1112-4d70-a0eb-407d392e34be",
      "metadata": {
        "id": "c0138f5f-1112-4d70-a0eb-407d392e34be"
      },
      "source": [
        "\n",
        "In Python, abstract classes and concrete classes serve different purposes in object-oriented programming. Here are the key differences between abstract classes and concrete classes, including their instantiation:\n",
        "\n",
        " # Abstract Classes:\n",
        "\n",
        "1.Purpose:\n",
        "\n",
        "Abstract classes are designed to be used as a blueprint for other classes. They define a common interface by declaring abstract methods and properties that must be implemented by concrete subclasses.\n",
        "\n",
        "2.Declaration:\n",
        "\n",
        "Abstract classes are created using the ABC (Abstract Base Class) metaclass and the @abstractmethod decorator from the abc module.\n",
        "\n",
        "3.Instantiation:\n",
        "\n",
        "Abstract classes cannot be instantiated directly. Attempting to create an instance of an abstract class results in a TypeError.\n",
        "\n",
        "4.Abstract Methods and Properties:\n",
        "\n",
        "Abstract classes often contain abstract methods and properties that provide a common structure for derived classes. These methods and properties lack implementation in the abstract class and must be implemented by concrete subclasses.\n",
        "\n",
        "5.Example:\n",
        "from abc import ABC, abstractmethod\n",
        "\n",
        "class Shape(ABC):\n",
        "    @abstractmethod\n",
        "    def area(self):\n",
        "        pass\n",
        "\n",
        "    @abstractmethod\n",
        "    def perimeter(self):\n",
        "        pass\n",
        "\n",
        " # Concrete Classes:\n",
        "1.Purpose:\n",
        "\n",
        "Concrete classes provide concrete implementations for abstract methods and properties defined in abstract classes. They can be instantiated directly and are meant to be used as actual objects.\n",
        "\n",
        "2.Declaration:\n",
        "\n",
        "Concrete classes are defined without using the ABC metaclass or the @abstractmethod decorator. They may inherit from abstract classes or other concrete classes.\n",
        "\n",
        "3.Instantiation:\n",
        "\n",
        "Concrete classes can be instantiated directly using the class_name() syntax. Instances of concrete classes represent actual objects with specific behavior.\n",
        "\n",
        "4.Implementation of Abstract Methods:\n",
        "\n",
        "Concrete classes implement the abstract methods and properties declared in abstract classes, providing specific functionality.\n",
        "\n",
        "5.Example:\n",
        "    class Circle(Shape):\n",
        "    def __init__(self, radius):\n",
        "        self.radius = radius\n",
        "\n",
        "    def area(self):\n",
        "        return 3.14 * self.radius**2\n",
        "\n",
        "    def perimeter(self):\n",
        "        return 2 * 3.14 * self.radius\n",
        "\n",
        " # Instantiation Differences:\n",
        "Abstract Classes:\n",
        "\n",
        "Cannot be instantiated directly.\n",
        "Require the creation of concrete subclasses that provide implementations for abstract methods and properties.\n",
        "\n",
        "Concrete Classes:\n",
        "\n",
        "Can be instantiated directly.\n",
        "Represent actual objects and provide specific implementations for methods and properties.\n",
        "\n",
        " # Example:  \n",
        "    \n",
        "#Attempting to instantiate an abstract class (Shape) raises a TypeError\n",
        "\n",
        "#shape = Shape()  # Uncommenting this line will result in a TypeError\n",
        "\n",
        "\n",
        "#Creating an instance of a concrete class (Circle)\n",
        "\n",
        "circle = Circle(radius=5)\n",
        "\n",
        "print(\"Circle Area:\", circle.area())\n",
        "\n",
        "print(\"Circle Perimeter:\", circle.perimeter())\n"
      ]
    },
    {
      "cell_type": "markdown",
      "id": "fbbf62fa-ce96-42a9-88c5-53b281b40ac8",
      "metadata": {
        "id": "fbbf62fa-ce96-42a9-88c5-53b281b40ac8"
      },
      "source": [
        "15. Explain the concept of abstract data types (ADTs) and their role in achieving abstraction in Python."
      ]
    },
    {
      "cell_type": "markdown",
      "id": "91115670-ea5a-4c37-a006-0e24828b41e5",
      "metadata": {
        "id": "91115670-ea5a-4c37-a006-0e24828b41e5"
      },
      "source": [
        "Abstract Data Types (ADTs) are high-level descriptions of data structures or objects that emphasize their behavior and the operations that can be performed on them, rather than their concrete implementations. ADTs provide a way to abstract away the details of how data is stored and manipulated, allowing programmers to focus on what operations can be performed on the data and what properties it should have.\n",
        "\n",
        "# Key Concepts:\n",
        "\n",
        "1.Abstraction:\n",
        "\n",
        "ADTs focus on abstracting the essential characteristics of a data structure or object, providing a conceptual model that hides implementation details. This abstraction allows for a clear separation between the interface (what operations are available) and the implementation (how those operations are carried out).\n",
        "\n",
        "2.Behavior and Operations:\n",
        "\n",
        "ADTs define a set of operations or behaviors that can be performed on the data. These operations include creating, modifying, and accessing the data, as well as any other actions relevant to the specific type of data.\n",
        "\n",
        "3.Encapsulation:\n",
        "\n",
        "ADTs encapsulate the data and the operations that can be performed on it. Encapsulation helps to group related functionalities together, providing a way to manage complexity and maintain a clean interface.\n",
        "\n",
        "4.Separation of Concerns:\n",
        "\n",
        "ADTs separate the concerns of data manipulation from the details of data representation. This separation allows for modularity and makes it easier to modify the underlying implementation without affecting the code that uses the ADT.\n",
        "\n",
        "5.Implementation Flexibility:\n",
        "\n",
        "ADTs provide flexibility in choosing different implementations for the same abstract data type. For example, a list ADT could be implemented as an array, a linked list, or another data structure, and users of the ADT wouldn't need to know the specific implementation details.\n",
        "\n",
        "# Example:\n",
        "Let's consider the abstract data type of a Stack:"
      ]
    },
    {
      "cell_type": "code",
      "execution_count": null,
      "id": "73948db7-73ca-4a9a-aa1e-eea034860ea9",
      "metadata": {
        "id": "73948db7-73ca-4a9a-aa1e-eea034860ea9"
      },
      "outputs": [],
      "source": [
        "from abc import ABC, abstractmethod\n",
        "\n",
        "class Stack(ABC):\n",
        "    @abstractmethod\n",
        "    def push(self, item):\n",
        "        pass\n",
        "\n",
        "    @abstractmethod\n",
        "    def pop(self):\n",
        "        pass\n",
        "\n",
        "    @abstractmethod\n",
        "    def peek(self):\n",
        "        pass\n",
        "\n",
        "    @abstractmethod\n",
        "    def is_empty(self):\n",
        "        pass"
      ]
    },
    {
      "cell_type": "markdown",
      "id": "cc329e01-de96-415c-a722-25c251c5326b",
      "metadata": {
        "id": "cc329e01-de96-415c-a722-25c251c5326b"
      },
      "source": [
        "16. Create a Python class for a computer system, demonstrating abstraction by defining common methods (e.g., `power_on()`, `shutdown()`) in an abstract base class."
      ]
    },
    {
      "cell_type": "code",
      "execution_count": null,
      "id": "514688ce-6583-4312-bae6-ceddc1074db3",
      "metadata": {
        "id": "514688ce-6583-4312-bae6-ceddc1074db3",
        "outputId": "85ae6109-22c6-47ec-97c0-6d11db6e16be"
      },
      "outputs": [
        {
          "name": "stdout",
          "output_type": "stream",
          "text": [
            "Dell OptiPlex Desktop is powering on.\n",
            "Is Desktop powered on? True\n",
            "Dell OptiPlex Desktop is shutting down.\n",
            "Is Desktop powered on? False\n",
            "HP Envy Laptop is powering on.\n",
            "Is Laptop powered on? True\n",
            "HP Envy Laptop is shutting down.\n",
            "Is Laptop powered on? False\n"
          ]
        }
      ],
      "source": [
        "from abc import ABC, abstractmethod\n",
        "\n",
        "class ComputerSystem(ABC):\n",
        "    def __init__(self, brand, model):\n",
        "        self.brand = brand\n",
        "        self.model = model\n",
        "        self.is_powered_on = False\n",
        "\n",
        "    @abstractmethod\n",
        "    def power_on(self):\n",
        "        pass\n",
        "\n",
        "    @abstractmethod\n",
        "    def shutdown(self):\n",
        "        pass\n",
        "\n",
        "class DesktopComputer(ComputerSystem):\n",
        "    def __init__(self, brand, model, monitor_brand):\n",
        "        super().__init__(brand, model)\n",
        "        self.monitor_brand = monitor_brand\n",
        "\n",
        "    def power_on(self):\n",
        "        if not self.is_powered_on:\n",
        "            print(f\"{self.brand} {self.model} Desktop is powering on.\")\n",
        "            self.is_powered_on = True\n",
        "        else:\n",
        "            print(f\"{self.brand} {self.model} Desktop is already powered on.\")\n",
        "\n",
        "    def shutdown(self):\n",
        "        if self.is_powered_on:\n",
        "            print(f\"{self.brand} {self.model} Desktop is shutting down.\")\n",
        "            self.is_powered_on = False\n",
        "        else:\n",
        "            print(f\"{self.brand} {self.model} Desktop is already powered off.\")\n",
        "\n",
        "class Laptop(ComputerSystem):\n",
        "    def __init__(self, brand, model, battery_life_hours):\n",
        "        super().__init__(brand, model)\n",
        "        self.battery_life_hours = battery_life_hours\n",
        "\n",
        "    def power_on(self):\n",
        "        if not self.is_powered_on:\n",
        "            print(f\"{self.brand} {self.model} Laptop is powering on.\")\n",
        "            self.is_powered_on = True\n",
        "        else:\n",
        "            print(f\"{self.brand} {self.model} Laptop is already powered on.\")\n",
        "\n",
        "    def shutdown(self):\n",
        "        if self.is_powered_on:\n",
        "            print(f\"{self.brand} {self.model} Laptop is shutting down.\")\n",
        "            self.is_powered_on = False\n",
        "        else:\n",
        "            print(f\"{self.brand} {self.model} Laptop is already powered off.\")\n",
        "\n",
        "# Example Usage:\n",
        "\n",
        "# Creating instances of different computer systems\n",
        "desktop = DesktopComputer(brand = \"Dell\", model = \"OptiPlex\", monitor_brand = \"Dell Monitor\")\n",
        "laptop = Laptop(brand = \"HP\", model = \"Envy\", battery_life_hours = 8)\n",
        "\n",
        "# Accessing the common methods defined in the abstract base class\n",
        "desktop.power_on()\n",
        "print(\"Is Desktop powered on?\", desktop.is_powered_on)\n",
        "desktop.shutdown()\n",
        "print(\"Is Desktop powered on?\", desktop.is_powered_on)\n",
        "\n",
        "laptop.power_on()\n",
        "print(\"Is Laptop powered on?\", laptop.is_powered_on)\n",
        "laptop.shutdown()\n",
        "print(\"Is Laptop powered on?\", laptop.is_powered_on)\n",
        "\n",
        ""
      ]
    },
    {
      "cell_type": "markdown",
      "id": "d4ddb030-55d3-4337-b22d-73f8b1389be0",
      "metadata": {
        "id": "d4ddb030-55d3-4337-b22d-73f8b1389be0"
      },
      "source": [
        "17. Discuss the benefits of using abstraction in large-scale software development projects.\n",
        "   "
      ]
    },
    {
      "cell_type": "markdown",
      "id": "00e20b65-1cac-4ae7-b2f0-f05ae79f5c4a",
      "metadata": {
        "id": "00e20b65-1cac-4ae7-b2f0-f05ae79f5c4a"
      },
      "source": [
        "Abstraction plays a crucial role in large-scale software development projects by offering several benefits that contribute to the design, development, and maintenance of complex systems. Here are some key advantages of using abstraction in large-scale software development:\n",
        "\n",
        "1.Modularity:\n",
        "\n",
        "Abstraction enables the creation of modular and independent components. Modules with well-defined interfaces can be developed and tested in isolation, making it easier to manage and maintain the overall system.\n",
        "\n",
        "2.Code Reusability:\n",
        "\n",
        "Abstracting common functionalities into reusable components allows developers to reuse code across different parts of the project. This not only reduces redundancy but also enhances maintainability, as changes can be made in a single location and affect all instances of the reused component.\n",
        "\n",
        "3.Maintainability:\n",
        "\n",
        "Abstraction facilitates code maintenance by providing a clear separation between the interface and the implementation. When modifications are required, developers can focus on the high-level design without needing to understand all the underlying details of the implementation.\n",
        "\n",
        "4.Scalability:\n",
        "\n",
        "Abstraction supports scalability by allowing the system to grow without significantly affecting existing components. New features or modules can be added to the system without disrupting the existing structure, provided they adhere to the established interfaces.\n",
        "\n",
        "5.Reduced Complexity:\n",
        "\n",
        "Large-scale systems can be inherently complex. Abstraction helps manage complexity by breaking down the system into smaller, more manageable parts. Developers can then work on individual components without needing to understand the entire system at once.\n",
        "\n",
        "6.Collaboration:\n",
        "\n",
        "Abstraction enhances collaboration among development teams. Different teams or individuals can work on distinct components of the system without interfering with each other, as long as they adhere to the agreed-upon interfaces.\n",
        "\n",
        "7.Testing and Debugging:\n",
        "\n",
        "Abstraction promotes effective testing and debugging. Abstracting components allows for easier testing of individual units and facilitates the identification and isolation of issues. Debugging becomes more straightforward when developers can focus on specific modules.\n",
        "\n",
        "8.Adaptability to Change:\n",
        "\n",
        "Large-scale projects often undergo changes due to evolving requirements. Abstraction makes the system more adaptable to change by allowing modifications to be made within individual components without affecting the entire system. This flexibility is crucial for addressing evolving business needs.\n",
        "\n",
        "9.Documentation and Understanding:\n",
        "\n",
        "Abstraction enhances documentation by providing a clear and high-level overview of the system's architecture and components. Developers can understand and work on different parts of the system more effectively when they have well-defined abstractions.\n",
        "\n",
        "10.Encapsulation and Security:\n",
        "\n",
        "Abstraction, combined with encapsulation, helps protect sensitive information and restrict access to certain functionalities. This is essential for security purposes, especially in systems handling sensitive data."
      ]
    },
    {
      "cell_type": "markdown",
      "id": "751db4cf-b6fe-4d86-9544-c27b64812516",
      "metadata": {
        "id": "751db4cf-b6fe-4d86-9544-c27b64812516"
      },
      "source": [
        "18. Explain how abstraction enhances code reusability and modularity in Python programs."
      ]
    },
    {
      "cell_type": "markdown",
      "id": "54f98d3e-5728-4f01-9914-52ffa40d3730",
      "metadata": {
        "id": "54f98d3e-5728-4f01-9914-52ffa40d3730"
      },
      "source": [
        "Abstraction enhances code reusability and modularity in Python programs by promoting a clear separation between the interface (what the code does) and the implementation details (how it achieves the functionality). This separation allows developers to create modular, independent components with well-defined interfaces, making it easier to reuse code and build scalable and maintainable systems. Here's how abstraction contributes to these aspects in Python programs:\n",
        "\n",
        "# Code Reusability:\n",
        "1.Encapsulation of Functionality:\n",
        "\n",
        "Abstraction encapsulates specific functionality within well-defined units, such as classes or functions, hiding the underlying details. This encapsulation makes it easy to reuse the code without understanding the internal workings, promoting a \"black-box\" approach.\n",
        "\n",
        "2.Abstract Classes and Interfaces:\n",
        "\n",
        "Python supports abstract classes and interfaces using the abc module. Abstract classes define a blueprint with abstract methods, providing a template for concrete implementations. This allows developers to create reusable interfaces that can be implemented by various classes.\n",
        "\n",
        "from abc import ABC, abstractmethod\n",
        "\n",
        "class Shape(ABC):\n",
        "    @abstractmethod\n",
        "    def area(self):\n",
        "        pass\n",
        "\n",
        "class Circle(Shape):\n",
        "    def __init__(self, radius):\n",
        "        self.radius = radius\n",
        "\n",
        "    def area(self):\n",
        "        return 3.14 * self.radius**2\n",
        "\n",
        "3.Polymorphism:\n",
        "\n",
        "Abstraction enables polymorphism, allowing different classes to provide their own implementations for the same interface. This flexibility supports code reuse through a common interface while accommodating diverse implementations.\n",
        "\n",
        "def print_area(shape):\n",
        "    print(\"Area:\", shape.area())\n",
        "\n",
        "circle = Circle(radius=5)\n",
        "print_area(circle)\n",
        "\n",
        "\n",
        "Abstraction enhances code reusability and modularity in Python programs by promoting a clear separation between the interface (what the code does) and the implementation details (how it achieves the functionality). This separation allows developers to create modular, independent components with well-defined interfaces, making it easier to reuse code and build scalable and maintainable systems. Here's how abstraction contributes to these aspects in Python programs:\n",
        "\n",
        "Code Reusability:\n",
        "Encapsulation of Functionality:\n",
        "\n",
        "Abstraction encapsulates specific functionality within well-defined units, such as classes or functions, hiding the underlying details. This encapsulation makes it easy to reuse the code without understanding the internal workings, promoting a \"black-box\" approach.\n",
        "Abstract Classes and Interfaces:\n",
        "\n",
        "Python supports abstract classes and interfaces using the abc module. Abstract classes define a blueprint with abstract methods, providing a template for concrete implementations. This allows developers to create reusable interfaces that can be implemented by various classes.\n",
        "python\n",
        "Copy code\n",
        "from abc import ABC, abstractmethod\n",
        "\n",
        "class Shape(ABC):\n",
        "    @abstractmethod\n",
        "    def area(self):\n",
        "        pass\n",
        "\n",
        "class Circle(Shape):\n",
        "    def __init__(self, radius):\n",
        "        self.radius = radius\n",
        "\n",
        "    def area(self):\n",
        "        return 3.14 * self.radius**2\n",
        "Polymorphism:\n",
        "\n",
        "Abstraction enables polymorphism, allowing different classes to provide their own implementations for the same interface. This flexibility supports code reuse through a common interface while accommodating diverse implementations.\n",
        "python\n",
        "Copy code\n",
        "def print_area(shape):\n",
        "    print(\"Area:\", shape.area())\n",
        "\n",
        "circle = Circle(radius=5)\n",
        "print_area(circle)\n",
        "\n",
        "# Modularity:\n",
        "1.Separation of Concerns:\n",
        "\n",
        "Abstraction separates concerns by breaking down the code into independent, modular components. Each module focuses on a specific functionality or feature, promoting a more organized and maintainable codebase.\n",
        "\n",
        "2.Clear Interfaces:\n",
        "\n",
        "Abstraction ensures that modules communicate through well-defined interfaces. These interfaces specify the interactions between components without exposing unnecessary details. This clarity facilitates the understanding of module dependencies and promotes cleaner integration.\n",
        "\n",
        "3.Encapsulation:\n",
        "\n",
        "Encapsulation, a key aspect of abstraction, involves bundling data and methods within a single unit. This practice enhances modularity by grouping related functionalities together, reducing the impact of changes within a module on the rest of the system.\n",
        "\n",
        "4.Package and Module Structure:\n",
        "\n",
        "Python allows the organization of code into packages and modules. Abstraction encourages the creation of modular structures, where related functionality is grouped together in separate files and directories. This modular organization supports better code navigation and maintenance.\n",
        "\n",
        "my_project/\n",
        "├── main.py\n",
        "├── shapes/\n",
        "│   ├── __init__.py\n",
        "│   ├── circle.py\n",
        "│   └── square.py\n",
        "\n",
        "5.Testability:\n",
        "\n",
        "Abstraction improves testability by isolating modules. Unit testing becomes more straightforward when individual components have well-defined interfaces, making it easier to test each module independently."
      ]
    },
    {
      "cell_type": "markdown",
      "id": "54d066ca-2676-4fa1-ac8e-31669d843950",
      "metadata": {
        "id": "54d066ca-2676-4fa1-ac8e-31669d843950"
      },
      "source": [
        "19. Create a Python class for a library system, implementing abstraction by defining common methods (e.g.,"
      ]
    },
    {
      "cell_type": "code",
      "execution_count": null,
      "id": "d0612ba0-d13a-4454-9770-29c62571b1d2",
      "metadata": {
        "id": "d0612ba0-d13a-4454-9770-29c62571b1d2",
        "outputId": "bae8837c-54c8-4b81-d57f-e340db9a0f12"
      },
      "outputs": [
        {
          "name": "stdout",
          "output_type": "stream",
          "text": [
            "Added 'The Great Gatsby' by F. Scott Fitzgerald to the library.\n",
            "Added 'To Kill a Mockingbird' by Harper Lee to the library.\n",
            "Added 'The Catcher in the Rye' by J.D. Salinger to the library.\n",
            "Books in My Simple Library Library:\n",
            "- The Great Gatsby by F. Scott Fitzgerald\n",
            "- To Kill a Mockingbird by Harper Lee\n",
            "- The Catcher in the Rye by J.D. Salinger\n",
            "Removed 'To Kill a Mockingbird' from the library.\n",
            "Books in My Simple Library Library:\n",
            "- The Great Gatsby by F. Scott Fitzgerald\n",
            "- The Catcher in the Rye by J.D. Salinger\n"
          ]
        }
      ],
      "source": [
        "from abc import ABC, abstractmethod\n",
        "\n",
        "class LibrarySystem(ABC):\n",
        "    def __init__(self, name):\n",
        "        self.name = name\n",
        "        self.books = {}\n",
        "\n",
        "    @abstractmethod\n",
        "    def add_book(self, book_title, author):\n",
        "        pass\n",
        "\n",
        "    @abstractmethod\n",
        "    def remove_book(self, book_title):\n",
        "        pass\n",
        "\n",
        "    def list_books(self):\n",
        "        print(f\"Books in {self.name} Library:\")\n",
        "        for title, author in self.books.items():\n",
        "            print(f\"- {title} by {author}\")\n",
        "\n",
        "class SimpleLibrary(LibrarySystem):\n",
        "    def add_book(self, book_title, author):\n",
        "        if book_title not in self.books:\n",
        "            self.books[book_title] = author\n",
        "            print(f\"Added '{book_title}' by {author} to the library.\")\n",
        "        else:\n",
        "            print(f\"Book '{book_title}' already exists in the library.\")\n",
        "\n",
        "    def remove_book(self, book_title):\n",
        "        if book_title in self.books:\n",
        "            del self.books[book_title]\n",
        "            print(f\"Removed '{book_title}' from the library.\")\n",
        "        else:\n",
        "            print(f\"Book '{book_title}' not found in the library.\")\n",
        "\n",
        "# Example Usage:\n",
        "\n",
        "# Creating an instance of the SimpleLibrary class\n",
        "simple_library = SimpleLibrary(name=\"My Simple Library\")\n",
        "\n",
        "# Adding books to the library\n",
        "simple_library.add_book(\"The Great Gatsby\", \"F. Scott Fitzgerald\")\n",
        "simple_library.add_book(\"To Kill a Mockingbird\", \"Harper Lee\")\n",
        "simple_library.add_book(\"The Catcher in the Rye\", \"J.D. Salinger\")\n",
        "\n",
        "# Listing books in the library\n",
        "simple_library.list_books()\n",
        "\n",
        "# Removing a book from the library\n",
        "simple_library.remove_book(\"To Kill a Mockingbird\")\n",
        "\n",
        "# Listing books again after removal\n",
        "simple_library.list_books()\n"
      ]
    },
    {
      "cell_type": "markdown",
      "id": "6827749d-306d-4e48-b309-0a412e899d86",
      "metadata": {
        "id": "6827749d-306d-4e48-b309-0a412e899d86"
      },
      "source": [
        "20. Describe the concept of method abstraction in Python and how it relates to polymorphism."
      ]
    },
    {
      "cell_type": "markdown",
      "id": "dcb5b588-1848-41de-b0f8-127848078d09",
      "metadata": {
        "id": "dcb5b588-1848-41de-b0f8-127848078d09"
      },
      "source": [
        "Method abstraction in Python refers to the process of creating abstract methods within a class, which are declared in the base class but have no implementation. This concept is closely related to polymorphism, as it allows different classes to provide their own implementations for these abstract methods. Method abstraction and polymorphism together enable the creation of a common interface for classes that share a certain behavior or functionality.\n",
        "\n",
        "# Key Concepts:\n",
        "1.Abstract Methods:\n",
        "\n",
        "Abstract methods are methods declared in an abstract base class (ABC) without providing any implementation. They are marked with the @abstractmethod decorator and can be defined using the ABC (Abstract Base Class) metaclass.\n",
        "\n",
        "from abc import ABC, abstractmethod\n",
        "\n",
        "class Shape(ABC):\n",
        "    @abstractmethod\n",
        "    def area(self):\n",
        "        pass\n",
        "\n",
        "2.Common Interface:\n",
        "\n",
        "Method abstraction allows the creation of a common interface (e.g., area method in the Shape class) that multiple subclasses can implement in their own way.\n",
        "\n",
        "3.Polymorphism:\n",
        "\n",
        "Polymorphism allows objects of different classes to be treated as objects of a common base class. In the context of method abstraction, polymorphism enables different subclasses to provide their own specific implementations for the abstract methods.\n",
        "\n",
        "class Circle(Shape):\n",
        "    def __init__(self, radius):\n",
        "        self.radius = radius\n",
        "\n",
        "    def area(self):\n",
        "        return 3.14 * self.radius**2\n",
        "\n",
        "class Square(Shape):\n",
        "    def __init__(self, side_length):\n",
        "        self.side_length = side_length\n",
        "\n",
        "    def area(self):\n",
        "        return self.side_length**2\n",
        "\n",
        "4.Dynamic Binding:\n",
        "\n",
        "Polymorphism in Python involves dynamic method binding, meaning the method that gets called is determined at runtime based on the actual type of the object. This allows for flexibility and extensibility.\n",
        "\n",
        "def print_area(shape):\n",
        "    print(\"Area:\", shape.area())\n",
        "\n",
        "circle = Circle(radius=5)\n",
        "square = Square(side_length=4)\n",
        "\n",
        "print_area(circle)  # Outputs: Area: 78.5\n",
        "print_area(square)  # Outputs: Area: 16\n",
        "\n",
        "# Example:\n",
        "Let's consider the example of a Shape abstract class with an abstract method area, and two concrete subclasses (Circle and Square) that provide their own implementations for the area method. This demonstrates method abstraction and polymorphism in action."
      ]
    },
    {
      "cell_type": "code",
      "execution_count": null,
      "id": "e9b429cb-8f15-4a43-9662-d132de8fdeb5",
      "metadata": {
        "id": "e9b429cb-8f15-4a43-9662-d132de8fdeb5",
        "outputId": "0bd938dc-029e-4f79-f741-f3d4fa7d4402"
      },
      "outputs": [
        {
          "name": "stdout",
          "output_type": "stream",
          "text": [
            "Circle Area: 78.5\n",
            "Square Area: 16\n"
          ]
        }
      ],
      "source": [
        "from abc import ABC, abstractmethod\n",
        "\n",
        "class Shape(ABC):\n",
        "    @abstractmethod\n",
        "    def area(self):\n",
        "        pass\n",
        "\n",
        "class Circle(Shape):\n",
        "    def __init__(self, radius):\n",
        "        self.radius = radius\n",
        "\n",
        "    def area(self):\n",
        "        return 3.14 * self.radius**2\n",
        "\n",
        "class Square(Shape):\n",
        "    def __init__(self, side_length):\n",
        "        self.side_length = side_length\n",
        "\n",
        "    def area(self):\n",
        "        return self.side_length**2\n",
        "\n",
        "# Example Usage:\n",
        "\n",
        "circle = Circle(radius=5)\n",
        "square = Square(side_length=4)\n",
        "\n",
        "print(\"Circle Area:\", circle.area())  # Outputs: Circle Area: 78.5\n",
        "print(\"Square Area:\", square.area())  # Outputs: Square Area: 16\n"
      ]
    },
    {
      "cell_type": "markdown",
      "id": "76432fbc-3ac2-4d6e-bab7-3b6483d409c9",
      "metadata": {
        "id": "76432fbc-3ac2-4d6e-bab7-3b6483d409c9"
      },
      "source": [
        "# Composition:"
      ]
    },
    {
      "cell_type": "markdown",
      "id": "714fa8a1-48b7-4842-85e6-ffc7acce4a30",
      "metadata": {
        "id": "714fa8a1-48b7-4842-85e6-ffc7acce4a30"
      },
      "source": [
        "1. Explain the concept of composition in Python and how it is used to build complex objects from simpler ones."
      ]
    },
    {
      "cell_type": "markdown",
      "id": "52de09bb-e62f-4886-86e1-b2825d0dcff1",
      "metadata": {
        "id": "52de09bb-e62f-4886-86e1-b2825d0dcff1"
      },
      "source": [
        "Composition in Python is a design principle that involves constructing complex objects by combining or composing simpler objects. Instead of relying on inheritance, composition allows you to create relationships between objects by embedding one or more objects within another. This approach promotes code reuse, flexibility, and modularity. The key idea is to build complex structures by combining simpler, more manageable components.\n",
        "\n",
        "# Key Concepts:\n",
        "1.Object Composition:\n",
        "\n",
        "Composition involves creating relationships between classes by incorporating instances of one class into another. This is achieved by including objects as attributes within another class.\n",
        "\n",
        "2.Has-A Relationship:\n",
        "\n",
        "In composition, the relationship between classes is often described as a \"has-a\" relationship. For example, a car \"has a\" engine, a university \"has a\" faculty, etc.\n",
        "\n",
        "3.Flexibility and Modularity:\n",
        "\n",
        "Composition promotes flexibility by allowing you to change the behavior of a class by modifying its components. It also enhances modularity, as you can modify or replace individual components without affecting the entire system.\n",
        "\n",
        "4.Code Reusability:\n",
        "\n",
        "Composition facilitates code reuse by enabling you to use existing classes as building blocks for creating new classes. This is in contrast to inheritance, where the relationship is based on an \"is-a\" relationship.\n",
        "\n",
        "5.Example:\n",
        "Let's consider an example to illustrate composition. We'll create a Book class and a Author class, and use composition to represent that a book has an author."
      ]
    },
    {
      "cell_type": "code",
      "execution_count": null,
      "id": "e54cfc3c-270c-4da0-bdf4-16b1493f971f",
      "metadata": {
        "id": "e54cfc3c-270c-4da0-bdf4-16b1493f971f",
        "outputId": "2d2eb733-e8bf-40c8-fd2a-9e398f92a3fb"
      },
      "outputs": [
        {
          "name": "stdout",
          "output_type": "stream",
          "text": [
            "Title: Introduction to Python\n",
            "Author: John Doe\n",
            "Birth Year of Author: 1980\n",
            "Year of Publication: 2022\n"
          ]
        }
      ],
      "source": [
        "class Author:\n",
        "    def __init__(self, name, birth_year):\n",
        "        self.name = name\n",
        "        self.birth_year = birth_year\n",
        "\n",
        "class Book:\n",
        "    def __init__(self, title, author, year):\n",
        "        self.title = title\n",
        "        self.author = author  # Composition: Book has an Author\n",
        "        self.year = year\n",
        "\n",
        "    def display_info(self):\n",
        "        print(f\"Title: {self.title}\")\n",
        "        print(f\"Author: {self.author.name}\")\n",
        "        print(f\"Birth Year of Author: {self.author.birth_year}\")\n",
        "        print(f\"Year of Publication: {self.year}\")\n",
        "\n",
        "# Example Usage:\n",
        "\n",
        "# Creating an Author\n",
        "author_john_doe = Author(name=\"John Doe\", birth_year=1980)\n",
        "\n",
        "# Creating a Book with an Author\n",
        "book1 = Book(title=\"Introduction to Python\", author=author_john_doe, year=2022)\n",
        "\n",
        "# Displaying information about the Book\n",
        "book1.display_info()\n"
      ]
    },
    {
      "cell_type": "markdown",
      "id": "2e162110-187f-4141-b992-6ef3c1cf491f",
      "metadata": {
        "id": "2e162110-187f-4141-b992-6ef3c1cf491f"
      },
      "source": [
        "2. Describe the difference between composition and inheritance in object-oriented programming."
      ]
    },
    {
      "cell_type": "markdown",
      "id": "8e91d51a-d36e-408e-8a74-6d8d6bc29f97",
      "metadata": {
        "id": "8e91d51a-d36e-408e-8a74-6d8d6bc29f97"
      },
      "source": [
        "Composition and inheritance are two fundamental concepts in object-oriented programming (OOP), and they represent different approaches to building relationships between classes. Here's a description of the key differences between composition and inheritance:\n",
        "\n",
        "# Composition:\n",
        "1.Relationship Type:\n",
        "\n",
        "Has-A Relationship: Composition represents a \"has-a\" relationship between classes. It allows a class to contain instances of other classes as components or attributes.\n",
        "\n",
        "2.Code Reusability:\n",
        "\n",
        "Favors Code Reusability: Composition promotes code reuse by allowing you to use existing classes as building blocks for creating new classes. You can include instances of other classes without inheriting their implementation.\n",
        "\n",
        "3.Flexibility and Modularity:\n",
        "\n",
        "Promotes Flexibility: Composition provides flexibility by allowing you to change the behavior of a class by modifying or replacing its components. It enhances modularity, as you can modify individual components without affecting the entire system.\n",
        "\n",
        "4.Example:\n",
        "\n",
        "In the example of a Book class containing an Author instance, the relationship is based on composition. A book \"has an\" author, and the Author class is a separate component.\n",
        "\n",
        "class Author:\n",
        "    # ...\n",
        "\n",
        "class Book:\n",
        "    def __init__(self, title, author, year):\n",
        "        self.title = title\n",
        "        self.author = author  # Composition: Book has an Author\n",
        "        self.year = year\n",
        "    # ...\n",
        "\n",
        "# Inheritance:\n",
        "1.Relationship Type:\n",
        "\n",
        "Is-A Relationship: Inheritance represents an \"is-a\" relationship between classes. It allows a subclass to inherit the properties and behavior of a superclass.\n",
        "\n",
        "2.Code Reusability:\n",
        "\n",
        "Favors Code Reusability: Inheritance facilitates code reuse by allowing a subclass to inherit the attributes and methods of a superclass. It promotes the reuse of common functionality.\n",
        "\n",
        "3.Rigidity and Tight Coupling:\n",
        "\n",
        "Potential Rigidity: Inheritance can lead to rigidity and tight coupling between classes. Changes to the superclass can impact subclasses, and modifications to the hierarchy might have cascading effects.\n",
        "\n",
        "4.Example:\n",
        "\n",
        "In the example of a Square subclass inheriting from a Shape superclass, the relationship is based on inheritance. A square \"is a\" shape, and it inherits the common properties and methods from the Shape class.\n",
        "\n",
        "class Shape:\n",
        "    # ...\n",
        "\n",
        "class Square(Shape):  # Inheritance: Square is a Shape\n",
        "    # ...\n",
        "\n",
        "# When to Choose:\n",
        "Composition:\n",
        "\n",
        "Use composition when you want to create relationships based on object containment or aggregation.\n",
        "Choose composition for flexibility, modularity, and when a \"has-a\" relationship makes more sense than an \"is-a\" relationship.\n",
        "Inheritance:\n",
        "\n",
        "Use inheritance when you want to create a specialization or subtype relationship, and when a subclass is a natural extension of a superclass.\n",
        "Choose inheritance for code reuse and when an \"is-a\" relationship accurately represents the nature of the objects."
      ]
    },
    {
      "cell_type": "markdown",
      "id": "111aca0e-9ae7-4bb2-a1df-502f9eecc49d",
      "metadata": {
        "id": "111aca0e-9ae7-4bb2-a1df-502f9eecc49d"
      },
      "source": [
        "3. Create a Python class called `Author` with attributes for name and birthdate. Then, create a `Book` class\n",
        "that contains an instance of `Author` as a composition. Provide an example of creating a `Book` object."
      ]
    },
    {
      "cell_type": "code",
      "execution_count": null,
      "id": "1e0f48b6-379f-4030-8b24-88b1ba83a7a0",
      "metadata": {
        "id": "1e0f48b6-379f-4030-8b24-88b1ba83a7a0",
        "outputId": "677f10d3-425a-4d78-f8a3-bb5b5dfd9e47"
      },
      "outputs": [
        {
          "name": "stdout",
          "output_type": "stream",
          "text": [
            "Title: The Python Journey\n",
            "Author: Jane Doe\n",
            "Author Birthdate: 1990-05-15\n",
            "Year of Publication: 2021\n"
          ]
        }
      ],
      "source": [
        "class Author:\n",
        "    def __init__(self, name, birthdate):\n",
        "        self.name = name\n",
        "        self.birthdate = birthdate\n",
        "\n",
        "class Book:\n",
        "    def __init__(self, title, author, year):\n",
        "        self.title = title\n",
        "        self.author = author  # Composition: Book has an Author\n",
        "        self.year = year\n",
        "\n",
        "    def display_info(self):\n",
        "        print(f\"Title: {self.title}\")\n",
        "        print(f\"Author: {self.author.name}\")\n",
        "        print(f\"Author Birthdate: {self.author.birthdate}\")\n",
        "        print(f\"Year of Publication: {self.year}\")\n",
        "\n",
        "# Example Usage:\n",
        "\n",
        "# Creating an Author\n",
        "author_jane_doe = Author(name=\"Jane Doe\", birthdate=\"1990-05-15\")\n",
        "\n",
        "# Creating a Book with an Author\n",
        "book1 = Book(title=\"The Python Journey\", author=author_jane_doe, year=2021)\n",
        "\n",
        "# Displaying information about the Book\n",
        "book1.display_info()\n"
      ]
    },
    {
      "cell_type": "markdown",
      "id": "fd9343c8-5ac3-4b3a-91ca-8c1586394636",
      "metadata": {
        "id": "fd9343c8-5ac3-4b3a-91ca-8c1586394636"
      },
      "source": [
        "4. Discuss the benefits of using composition over inheritance in Python, especially in terms of code flexibility\n",
        "and reusability."
      ]
    },
    {
      "cell_type": "markdown",
      "id": "2133ba19-0337-4f0e-9b79-652dc859eb2c",
      "metadata": {
        "id": "2133ba19-0337-4f0e-9b79-652dc859eb2c"
      },
      "source": [
        "Using composition over inheritance in Python offers several benefits, especially in terms of code flexibility and reusability. Here are some key advantages:\n",
        "\n",
        "# 1. Code Flexibility:\n",
        "\n",
        "a. Modularity:\n",
        "Composition:\n",
        "Components are separate entities, allowing for easier modification or replacement of individual parts without affecting the entire system.\n",
        "Changes to one component do not necessarily impact other components, promoting a modular design.\n",
        "\n",
        "b. Dynamic Binding:\n",
        "Composition:\n",
        "Components can be dynamically assigned or replaced at runtime, providing flexibility in managing dependencies.\n",
        "The ability to switch components dynamically enhances adaptability to changing requirements.\n",
        "\n",
        "c. Clearer Intent:\n",
        "Composition:\n",
        "The relationship between classes is explicit and based on object containment, making the code more self-explanatory and reducing confusion compared to complex inheritance hierarchies.\n",
        "\n",
        "# 2. Code Reusability:\n",
        "\n",
        "a. Reusable Components:\n",
        "Composition:\n",
        "Encourages the use of existing classes as components, promoting code reuse on a smaller scale.\n",
        "Components can be used in various contexts, contributing to a more flexible and extensible codebase.\n",
        "\n",
        "b. Mix-and-Match:\n",
        "Composition:\n",
        "Components can be combined or composed in different ways to create diverse functionalities, allowing for greater reuse and customization.\n",
        "The ability to mix and match components contributes to a more versatile system.\n",
        "\n",
        "c. Avoids Fragile Base Class Problem:\n",
        "Composition:\n",
        "By avoiding deep inheritance hierarchies, composition reduces the risk of the \"fragile base class\" problem, where changes to a base class unintentionally affect derived classes.\n",
        "\n",
        "# 3. Maintenance and Evolution:\n",
        "\n",
        "a. Easier Maintenance:\n",
        "Composition:\n",
        "Changes to one component do not ripple through the entire system, making maintenance easier and reducing the likelihood of unintended side effects.\n",
        "\n",
        "b. Evolutionary Design:\n",
        "Composition:\n",
        "Supports evolutionary design by allowing components to evolve independently, adapting to new requirements without major upheavals in the existing code.\n",
        "\n",
        "c. Dependency Management:\n",
        "Composition:\n",
        "Dependencies are explicitly managed, making it easier to understand and control the interactions between components.\n",
        "\n",
        "# 4. Avoids Diamond Inheritance Problem:\n",
        "Composition:\n",
        "Eliminates the complexities associated with the diamond inheritance problem, which can occur in multiple inheritance scenarios, leading to ambiguity and potential issues."
      ]
    },
    {
      "cell_type": "markdown",
      "id": "8161ad1b-f885-4604-8b34-a136b4b990b0",
      "metadata": {
        "id": "8161ad1b-f885-4604-8b34-a136b4b990b0"
      },
      "source": [
        "5. How can you implement composition in Python classes? Provide examples of using composition to create\n",
        "complex objects."
      ]
    },
    {
      "cell_type": "markdown",
      "id": "44840713-8632-4650-943a-3885caecf611",
      "metadata": {
        "id": "44840713-8632-4650-943a-3885caecf611"
      },
      "source": [
        "In Python, composition can be implemented by creating relationships between classes where one class contains an instance of another class. This is achieved by including objects as attributes within a class. Here are examples demonstrating composition to create complex objects:\n",
        "\n",
        "# Example 1: Basic Composition"
      ]
    },
    {
      "cell_type": "code",
      "execution_count": null,
      "id": "035d46bf-2885-4ac0-a892-530b404d98e4",
      "metadata": {
        "id": "035d46bf-2885-4ac0-a892-530b404d98e4",
        "outputId": "99caf286-5a44-4942-f419-0dd05920c0d0"
      },
      "outputs": [
        {
          "name": "stdout",
          "output_type": "stream",
          "text": [
            "Car is starting...\n",
            "Engine starting\n"
          ]
        }
      ],
      "source": [
        "class Engine:\n",
        "    def start(self):\n",
        "        print(\"Engine starting\")\n",
        "\n",
        "class Car:\n",
        "    def __init__(self):\n",
        "        self.engine = Engine()  # Composition: Car has an Engine\n",
        "\n",
        "    def start(self):\n",
        "        print(\"Car is starting...\")\n",
        "        self.engine.start()\n",
        "\n",
        "# Example Usage:\n",
        "\n",
        "my_car = Car()\n",
        "my_car.start()\n"
      ]
    },
    {
      "cell_type": "markdown",
      "id": "1a22c8f2-91eb-4689-b4dd-e6395b424df7",
      "metadata": {
        "id": "1a22c8f2-91eb-4689-b4dd-e6395b424df7"
      },
      "source": [
        "In this example, a Car class has an instance of an Engine class as an attribute, demonstrating basic composition. The start method of the Car class calls the start method of the embedded Engine object.\n",
        "\n",
        "# Example 2: Composition with Multiple Components"
      ]
    },
    {
      "cell_type": "code",
      "execution_count": null,
      "id": "ba329051-ad25-4bf8-9557-6306e3cd0e60",
      "metadata": {
        "id": "ba329051-ad25-4bf8-9557-6306e3cd0e60",
        "outputId": "ece19e98-cb19-427d-ef64-ca5bce46f247"
      },
      "outputs": [
        {
          "name": "stdout",
          "output_type": "stream",
          "text": [
            "Computer is computing...\n",
            "CPU processing\n",
            "RAM reading\n"
          ]
        }
      ],
      "source": [
        "class CPU:\n",
        "    def process(self):\n",
        "        print(\"CPU processing\")\n",
        "\n",
        "class RAM:\n",
        "    def read(self):\n",
        "        print(\"RAM reading\")\n",
        "\n",
        "class Computer:\n",
        "    def __init__(self):\n",
        "        self.cpu = CPU()  # Composition: Computer has a CPU\n",
        "        self.ram = RAM()  # Composition: Computer has RAM\n",
        "\n",
        "    def compute(self):\n",
        "        print(\"Computer is computing...\")\n",
        "        self.cpu.process()\n",
        "        self.ram.read()\n",
        "\n",
        "# Example Usage:\n",
        "\n",
        "my_computer = Computer()\n",
        "my_computer.compute()\n"
      ]
    },
    {
      "cell_type": "markdown",
      "id": "40203bed-91fe-4332-8439-cff405f6e901",
      "metadata": {
        "id": "40203bed-91fe-4332-8439-cff405f6e901"
      },
      "source": [
        "In this example, a Computer class is composed of both a CPU and RAM. The compute method of the Computer class demonstrates how the computer utilizes its components.\n",
        "\n",
        "# Example 3: Composition for Configurable Objects"
      ]
    },
    {
      "cell_type": "code",
      "execution_count": null,
      "id": "3e8f6890-3624-4387-95d9-81869c0d7296",
      "metadata": {
        "id": "3e8f6890-3624-4387-95d9-81869c0d7296",
        "outputId": "977fa1fb-8f5f-40fd-fa57-a62d55d56e80"
      },
      "outputs": [
        {
          "name": "stdout",
          "output_type": "stream",
          "text": [
            "Taking a photo...\n",
            "Capturing photo\n",
            "Displaying: Photo captured\n"
          ]
        }
      ],
      "source": [
        "class Screen:\n",
        "    def display(self, content):\n",
        "        print(f\"Displaying: {content}\")\n",
        "\n",
        "class Camera:\n",
        "    def capture(self):\n",
        "        print(\"Capturing photo\")\n",
        "\n",
        "class Smartphone:\n",
        "    def __init__(self):\n",
        "        self.screen = Screen()  # Composition: Smartphone has a Screen\n",
        "        self.camera = Camera()  # Composition: Smartphone has a Camera\n",
        "\n",
        "    def take_photo(self):\n",
        "        print(\"Taking a photo...\")\n",
        "        self.camera.capture()\n",
        "        self.screen.display(\"Photo captured\")\n",
        "\n",
        "# Example Usage:\n",
        "\n",
        "my_smartphone = Smartphone()\n",
        "my_smartphone.take_photo()\n"
      ]
    },
    {
      "cell_type": "markdown",
      "id": "2b975995-6076-4062-b790-3bd93d1ccb4b",
      "metadata": {
        "id": "2b975995-6076-4062-b790-3bd93d1ccb4b"
      },
      "source": [
        "Here, a Smartphone class is composed of a Screen and a Camera. The take_photo method demonstrates how the smartphone uses its components to capture and display a photo."
      ]
    },
    {
      "cell_type": "markdown",
      "id": "63348c3f-d1c7-4451-a3ff-57fbce36c263",
      "metadata": {
        "id": "63348c3f-d1c7-4451-a3ff-57fbce36c263"
      },
      "source": [
        "6. Create a Python class hierarchy for a music player system, using composition to represent playlists and\n",
        "songs."
      ]
    },
    {
      "cell_type": "code",
      "execution_count": null,
      "id": "d49431be-c510-470f-a10c-d0e7d4a86e1d",
      "metadata": {
        "id": "d49431be-c510-470f-a10c-d0e7d4a86e1d",
        "outputId": "e47e31e1-e682-4341-abf6-88d5f5118d08"
      },
      "outputs": [
        {
          "name": "stdout",
          "output_type": "stream",
          "text": [
            "Playing all songs in Favorites playlist:\n",
            "Now playing: Song 1 by Artist A\n",
            "Now playing: Song 2 by Artist B\n",
            "Playlist finished.\n",
            "\n",
            "Playing all songs in Chill Vibes playlist:\n",
            "Now playing: Song 2 by Artist B\n",
            "Now playing: Song 3 by Artist C\n",
            "Playlist finished.\n",
            "\n"
          ]
        }
      ],
      "source": [
        "class Song:\n",
        "    def __init__(self, title, artist, duration):\n",
        "        self.title = title\n",
        "        self.artist = artist\n",
        "        self.duration = duration\n",
        "\n",
        "    def play(self):\n",
        "        print(f\"Now playing: {self.title} by {self.artist}\")\n",
        "\n",
        "class Playlist:\n",
        "    def __init__(self, name):\n",
        "        self.name = name\n",
        "        self.songs = []  # Composition: Playlist has a list of Song objects\n",
        "\n",
        "    def add_song(self, song):\n",
        "        self.songs.append(song)\n",
        "\n",
        "    def play_all(self):\n",
        "        print(f\"Playing all songs in {self.name} playlist:\")\n",
        "        for song in self.songs:\n",
        "            song.play()\n",
        "        print(\"Playlist finished.\\n\")\n",
        "\n",
        "# Example Usage:\n",
        "\n",
        "# Creating songs\n",
        "song1 = Song(\"Song 1\", \"Artist A\", 3.5)\n",
        "song2 = Song(\"Song 2\", \"Artist B\", 4.2)\n",
        "song3 = Song(\"Song 3\", \"Artist C\", 5.0)\n",
        "\n",
        "# Creating playlists\n",
        "playlist1 = Playlist(\"Favorites\")\n",
        "playlist1.add_song(song1)\n",
        "playlist1.add_song(song2)\n",
        "\n",
        "playlist2 = Playlist(\"Chill Vibes\")\n",
        "playlist2.add_song(song2)\n",
        "playlist2.add_song(song3)\n",
        "\n",
        "# Playing playlists\n",
        "playlist1.play_all()\n",
        "playlist2.play_all()\n"
      ]
    },
    {
      "cell_type": "markdown",
      "id": "6507883f-4cdb-4caa-b135-82693883eb2e",
      "metadata": {
        "id": "6507883f-4cdb-4caa-b135-82693883eb2e"
      },
      "source": [
        "7. Explain the concept of \"has-a\" relationships in composition and how it helps design software systems."
      ]
    },
    {
      "cell_type": "markdown",
      "id": "7f14f268-ed82-4a88-9ee6-a4d6a3c0b2f8",
      "metadata": {
        "id": "7f14f268-ed82-4a88-9ee6-a4d6a3c0b2f8"
      },
      "source": [
        "The concept of \"has-a\" relationships in composition refers to the idea that a class can contain an instance of another class as one of its components or attributes. In other words, an object of one class \"has a\" relationship with an object of another class. This relationship is a fundamental part of composition, allowing for the creation of more complex objects by combining simpler ones. Here's an explanation of how \"has-a\" relationships work and their benefits in designing software systems:\n",
        "\n",
        "# Key Points:\n",
        "1.Object Containment:\n",
        "\n",
        "In a \"has-a\" relationship, an object of one class is contained within another class as a component or part.\n",
        "This relationship is established by including an instance of another class as an attribute within the class definition.\n",
        "\n",
        "2.Example:\n",
        "\n",
        "For example, a Car class may \"have an\" Engine class. The Car class contains an instance of the Engine class as one of its attributes.\n",
        "\n",
        "class Engine:\n",
        "    # Engine class definition\n",
        "\n",
        "class Car:\n",
        "    def __init__(self):\n",
        "        self.engine = Engine()  # Composition: Car has an Engine\n",
        "\n",
        "        \n",
        "1.Code Flexibility:\n",
        "\n",
        "\"Has-a\" relationships contribute to code flexibility by allowing the creation of modular and reusable components.\n",
        "Components can be modified or replaced without affecting the entire system, promoting a more maintainable codebase.\n",
        "\n",
        "2.Modularity:\n",
        "\n",
        "Objects with \"has-a\" relationships exhibit modularity, as each component can be designed, tested, and maintained independently.\n",
        "Changes to one component do not necessitate changes to the entire system, enhancing the ease of development and maintenance.\n",
        "\n",
        "3.Reusability:\n",
        "\n",
        "\"Has-a\" relationships promote code reusability by allowing existing classes to be reused as components in the creation of new classes.\n",
        "Components can be mixed and matched to create diverse functionalities, contributing to a more versatile and scalable system.\n",
        "\n",
        "4.Clearer Design Intent:\n",
        "\n",
        "This type of relationship often results in a clearer design intent. When you say a Car \"has an\" Engine, it is more intuitive than saying a Car \"is a\" Engine, which would be indicative of an inheritance relationship.\n",
        "\n",
        "# Example:\n",
        "\n",
        "class SteeringWheel:\n",
        "    # SteeringWheel class definition\n",
        "\n",
        "class Car:\n",
        "    def __init__(self):\n",
        "        self.engine = Engine()  # Composition: Car has an Engine\n",
        "        self.steering_wheel = SteeringWheel()  # Composition: Car has a SteeringWheel\n",
        "\n",
        "In this example, the Car class has \"has-a\" relationships with both the Engine class and the SteeringWheel class. The components (engine and steering wheel) contribute to the overall functionality of the Car."
      ]
    },
    {
      "cell_type": "markdown",
      "id": "f974a92f-cbc4-4562-b40a-526b41d366b2",
      "metadata": {
        "id": "f974a92f-cbc4-4562-b40a-526b41d366b2"
      },
      "source": [
        "8. Create a Python class for a computer system, using composition to represent components like CPU, RAM,\n",
        "and storage devices."
      ]
    },
    {
      "cell_type": "code",
      "execution_count": null,
      "id": "8ad78e62-f3e8-48ed-9f23-3e87f3bc3166",
      "metadata": {
        "id": "8ad78e62-f3e8-48ed-9f23-3e87f3bc3166",
        "outputId": "fe1ba8c2-788c-4f41-c8e2-037f49951eb6"
      },
      "outputs": [
        {
          "name": "stdout",
          "output_type": "stream",
          "text": [
            "Computer performing a task:\n",
            "Intel CPU processing at 3.0 GHz\n",
            "Reading data from 8 GB RAM\n",
            "Reading data from 256 GB SSD storage device\n"
          ]
        }
      ],
      "source": [
        "class CPU:\n",
        "    def __init__(self, brand, speed):\n",
        "        self.brand = brand\n",
        "        self.speed = speed\n",
        "\n",
        "    def process(self):\n",
        "        print(f\"{self.brand} CPU processing at {self.speed} GHz\")\n",
        "\n",
        "class RAM:\n",
        "    def __init__(self, capacity):\n",
        "        self.capacity = capacity\n",
        "\n",
        "    def read(self):\n",
        "        print(f\"Reading data from {self.capacity} GB RAM\")\n",
        "\n",
        "class StorageDevice:\n",
        "    def __init__(self, type, capacity):\n",
        "        self.type = type\n",
        "        self.capacity = capacity\n",
        "\n",
        "    def read_data(self):\n",
        "        print(f\"Reading data from {self.capacity} GB {self.type} storage device\")\n",
        "\n",
        "class Computer:\n",
        "    def __init__(self, cpu, ram, storage):\n",
        "        self.cpu = cpu  # Composition: Computer has a CPU\n",
        "        self.ram = ram  # Composition: Computer has RAM\n",
        "        self.storage = storage  # Composition: Computer has a StorageDevice\n",
        "\n",
        "    def perform_task(self):\n",
        "        print(\"Computer performing a task:\")\n",
        "        self.cpu.process()\n",
        "        self.ram.read()\n",
        "        self.storage.read_data()\n",
        "\n",
        "# Example Usage:\n",
        "\n",
        "# Creating components\n",
        "my_cpu = CPU(brand=\"Intel\", speed=3.0)\n",
        "my_ram = RAM(capacity=8)\n",
        "my_storage = StorageDevice(type=\"SSD\", capacity=256)\n",
        "\n",
        "# Creating a computer with components\n",
        "my_computer = Computer(cpu=my_cpu, ram=my_ram, storage=my_storage)\n",
        "\n",
        "# Performing a task using the computer\n",
        "my_computer.perform_task()\n"
      ]
    },
    {
      "cell_type": "markdown",
      "id": "ead913cd-8790-4341-910d-95de16e9a674",
      "metadata": {
        "id": "ead913cd-8790-4341-910d-95de16e9a674"
      },
      "source": [
        "9. Describe the concept of \"delegation\" in composition and how it simplifies the design of complex systems."
      ]
    },
    {
      "cell_type": "markdown",
      "id": "b80fe5ab-2639-48e9-9621-1f631d1fa00e",
      "metadata": {
        "id": "b80fe5ab-2639-48e9-9621-1f631d1fa00e"
      },
      "source": [
        "In composition, the concept of \"delegation\" involves one object assigning responsibility for a particular task or functionality to another object. This is achieved by including an instance of another class as a component and allowing that component to handle specific operations. Delegation simplifies the design of complex systems by promoting modularity, code reuse, and flexibility. Here's an explanation of how delegation works and its benefits:\n",
        "\n",
        "# Key Points:\n",
        "1.Responsibility Assignment:\n",
        "\n",
        "Delegation involves assigning specific responsibilities or tasks from one class to another.\n",
        "The delegating class focuses on its core functionality and delegates specific tasks to other classes.\n",
        "\n",
        "2.Code Reusability:\n",
        "\n",
        "Delegation promotes code reusability by allowing the reuse of existing classes as components.\n",
        "Components can be easily swapped or replaced, facilitating a more flexible and adaptable system.\n",
        "\n",
        "3.Modularity:\n",
        "\n",
        "Delegation enhances modularity by breaking down complex systems into smaller, more manageable components.\n",
        "Each component is responsible for a specific aspect of the system, making the overall design clearer and more maintainable.\n",
        "\n",
        "4.Flexibility:\n",
        "\n",
        "Delegation allows for greater flexibility in system design. Components can be added, removed, or replaced without affecting the delegating class.\n",
        "This flexibility is especially valuable when adapting to changing requirements or incorporating new features.\n",
        "\n",
        "5.Loose Coupling:\n",
        "\n",
        "Delegation promotes loose coupling between classes. The delegating class is not tightly bound to the implementation details of the delegated class.\n",
        "Changes in the delegated class do not necessarily impact the delegating class, reducing the risk of unintended consequences.\n",
        "\n",
        "# Example:\n",
        "Consider a scenario where a Report class needs to generate a report in different formats (e.g., PDF, HTML). Instead of incorporating the report generation logic directly into the Report class, delegation can be used:"
      ]
    },
    {
      "cell_type": "code",
      "execution_count": null,
      "id": "1631894f-b425-47ba-8ebd-2e9cb6c18caf",
      "metadata": {
        "id": "1631894f-b425-47ba-8ebd-2e9cb6c18caf",
        "outputId": "0b2e1431-7f5e-47ad-af1a-c56eb82e92da"
      },
      "outputs": [
        {
          "name": "stdout",
          "output_type": "stream",
          "text": [
            "Generating PDF report: Report content for PDF\n",
            "Generating HTML report: Report content for HTML\n"
          ]
        }
      ],
      "source": [
        "class PDFGenerator:\n",
        "    def generate(self, content):\n",
        "        # Logic to generate a PDF report\n",
        "        print(\"Generating PDF report:\", content)\n",
        "\n",
        "class HTMLGenerator:\n",
        "    def generate(self, content):\n",
        "        # Logic to generate an HTML report\n",
        "        print(\"Generating HTML report:\", content)\n",
        "\n",
        "class Report:\n",
        "    def __init__(self, content, generator):\n",
        "        self.content = content\n",
        "        self.generator = generator  # Delegation: Report delegates the report generation task to a generator\n",
        "\n",
        "    def generate_report(self):\n",
        "        self.generator.generate(self.content)\n",
        "\n",
        "# Example Usage:\n",
        "\n",
        "# Creating instances of generators\n",
        "pdf_generator = PDFGenerator()\n",
        "html_generator = HTMLGenerator()\n",
        "\n",
        "# Creating reports with different generators\n",
        "pdf_report = Report(content=\"Report content for PDF\", generator=pdf_generator)\n",
        "html_report = Report(content=\"Report content for HTML\", generator=html_generator)\n",
        "\n",
        "# Generating reports using delegation\n",
        "pdf_report.generate_report()\n",
        "html_report.generate_report()\n"
      ]
    },
    {
      "cell_type": "markdown",
      "id": "448fc541-a1ac-432e-8b72-1aba0cc41096",
      "metadata": {
        "id": "448fc541-a1ac-432e-8b72-1aba0cc41096"
      },
      "source": [
        "10. Create a Python class for a car, using composition to represent components like the engine, wheels, and\n",
        "transmission."
      ]
    },
    {
      "cell_type": "code",
      "execution_count": null,
      "id": "b4484911-7502-4dd4-b279-17fa7b171c3c",
      "metadata": {
        "id": "b4484911-7502-4dd4-b279-17fa7b171c3c",
        "outputId": "0062732a-cbbf-4b67-81d9-77d8575efe52"
      },
      "outputs": [
        {
          "name": "stdout",
          "output_type": "stream",
          "text": [
            "Car starting...\n",
            "Engine starting\n",
            "Wheel at Front Left rotating\n",
            "Wheel at Front Right rotating\n",
            "Wheel at Rear Left rotating\n",
            "Wheel at Rear Right rotating\n",
            "Car in motion...\n",
            "Transmission shifting (Automatic)\n",
            "Car stopping...\n",
            "Engine stopping\n"
          ]
        }
      ],
      "source": [
        "class Engine:\n",
        "    def __init__(self, fuel_type, horsepower):\n",
        "        self.fuel_type = fuel_type\n",
        "        self.horsepower = horsepower\n",
        "\n",
        "    def start(self):\n",
        "        print(\"Engine starting\")\n",
        "\n",
        "    def stop(self):\n",
        "        print(\"Engine stopping\")\n",
        "\n",
        "class Wheel:\n",
        "    def __init__(self, position):\n",
        "        self.position = position\n",
        "\n",
        "    def rotate(self):\n",
        "        print(f\"Wheel at {self.position} rotating\")\n",
        "\n",
        "class Transmission:\n",
        "    def __init__(self, transmission_type):\n",
        "        self.transmission_type = transmission_type\n",
        "\n",
        "    def shift(self):\n",
        "        print(f\"Transmission shifting ({self.transmission_type})\")\n",
        "\n",
        "class Car:\n",
        "    def __init__(self, engine, wheels, transmission):\n",
        "        self.engine = engine  # Composition: Car has an Engine\n",
        "        self.wheels = wheels  # Composition: Car has Wheels\n",
        "        self.transmission = transmission  # Composition: Car has a Transmission\n",
        "\n",
        "    def start(self):\n",
        "        print(\"Car starting...\")\n",
        "        self.engine.start()\n",
        "        for wheel in self.wheels:\n",
        "            wheel.rotate()\n",
        "\n",
        "    def drive(self):\n",
        "        print(\"Car in motion...\")\n",
        "        self.transmission.shift()\n",
        "\n",
        "    def stop(self):\n",
        "        print(\"Car stopping...\")\n",
        "        self.engine.stop()\n",
        "\n",
        "# Example Usage:\n",
        "\n",
        "# Creating components\n",
        "car_engine = Engine(fuel_type=\"Gasoline\", horsepower=200)\n",
        "car_wheels = [Wheel(position=\"Front Left\"), Wheel(position=\"Front Right\"), Wheel(position=\"Rear Left\"), Wheel(position=\"Rear Right\")]\n",
        "car_transmission = Transmission(transmission_type=\"Automatic\")\n",
        "\n",
        "# Creating a car with components\n",
        "my_car = Car(engine=car_engine, wheels=car_wheels, transmission=car_transmission)\n",
        "\n",
        "# Performing car operations\n",
        "my_car.start()\n",
        "my_car.drive()\n",
        "my_car.stop()\n"
      ]
    },
    {
      "cell_type": "markdown",
      "id": "28a054d9-bc8b-4d6a-bfb8-044097c00553",
      "metadata": {
        "id": "28a054d9-bc8b-4d6a-bfb8-044097c00553"
      },
      "source": [
        "11. How can you encapsulate and hide the details of composed objects in Python classes to maintain\n",
        "abstraction?"
      ]
    },
    {
      "cell_type": "markdown",
      "id": "4856894c-335f-4be4-8a63-bdb48a0b2d30",
      "metadata": {
        "id": "4856894c-335f-4be4-8a63-bdb48a0b2d30"
      },
      "source": [
        "Encapsulation in Python involves bundling the data (attributes) and methods that operate on the data within a single unit, which is the class. When dealing with composed objects through composition, encapsulation is crucial to maintain abstraction and hide the implementation details of the composed objects. Here are some strategies to encapsulate and hide the details of composed objects in Python classes:\n",
        "\n",
        "1.Private Attributes:\n",
        "\n",
        "Use private attributes (attributes prefixed with a double underscore __) to make them accessible only within the class.\n",
        "This prevents external access and modification of the composed objects' details.\n",
        "\n",
        "class Car:\n",
        "    def __init__(self, engine, wheels, transmission):\n",
        "        self.__engine = engine  # Private attribute: Encapsulation\n",
        "        self.__wheels = wheels  # Private attribute: Encapsulation\n",
        "        self.__transmission = transmission  # Private attribute: Encapsulation\n",
        "\n",
        "2.Getter Methods:\n",
        "\n",
        "Provide getter methods to access the details of composed objects.\n",
        "This allows controlled access to specific attributes while encapsulating the implementation details.\n",
        "\n",
        "class Car:\n",
        "    # ... (previous code)\n",
        "\n",
        "    def get_engine_details(self):\n",
        "        return self.__engine.get_details()\n",
        "\n",
        "    def get_wheel_positions(self):\n",
        "        return [wheel.get_position() for wheel in self.__wheels]\n",
        "\n",
        "    def get_transmission_type(self):\n",
        "        return self.__transmission.get_type()\n",
        "\n",
        "3.Limited Setter Methods:\n",
        "\n",
        "If necessary, provide setter methods with validation to control modifications to the composed objects' details.\n",
        "\n",
        "class Car:\n",
        "    # ... (previous code)\n",
        "\n",
        "    def set_engine_horsepower(self, horsepower):\n",
        "        if isinstance(self.__engine, Engine):\n",
        "            self.__engine.set_horsepower(horsepower)\n",
        "\n",
        "            \n",
        "4.Hide Internal Operations:\n",
        "\n",
        "Keep the internal operations and interactions with composed objects within the class methods.\n",
        "This hides the implementation details and ensures that external code interacts with the class interface.\n",
        "\n",
        "class Car:\n",
        "    # ... (previous code)\n",
        "\n",
        "    def start(self):\n",
        "        print(\"Car starting...\")\n",
        "        self.__engine.start()\n",
        "        for wheel in self.__wheels:\n",
        "            wheel.rotate()\n",
        "\n",
        "    def drive(self):\n",
        "        print(\"Car in motion...\")\n",
        "        self.__transmission.shift()\n",
        "\n",
        "    def stop(self):\n",
        "        print(\"Car stopping...\")\n",
        "        self.__engine.stop()\n"
      ]
    },
    {
      "cell_type": "markdown",
      "id": "eb1b6421-3962-40c8-a871-cef23e1aae56",
      "metadata": {
        "id": "eb1b6421-3962-40c8-a871-cef23e1aae56"
      },
      "source": [
        "12. Create a Python class for a university course, using composition to represent students, instructors, and\n",
        "course materials."
      ]
    },
    {
      "cell_type": "code",
      "execution_count": null,
      "id": "9cca89af-b320-4ed0-8c9a-8a52b8f529b5",
      "metadata": {
        "id": "9cca89af-b320-4ed0-8c9a-8a52b8f529b5",
        "outputId": "c8c423d8-f4a0-4d21-8057-87d45183e292"
      },
      "outputs": [
        {
          "name": "stdout",
          "output_type": "stream",
          "text": [
            "Course Code: CS101, Course Name: Introduction to Python Programming\n",
            "Instructor: Instructor ID: 101, Name: Dr. Smith\n",
            "Students:\n",
            "- Student ID: 1, Name: Alice\n",
            "- Student ID: 2, Name: Bob\n",
            "Course Material: Material Title: Introduction to Python, Content: Basic Python programming concepts\n"
          ]
        }
      ],
      "source": [
        "class Student:\n",
        "    def __init__(self, student_id, name):\n",
        "        self.student_id = student_id\n",
        "        self.name = name\n",
        "\n",
        "    def get_student_info(self):\n",
        "        return f\"Student ID: {self.student_id}, Name: {self.name}\"\n",
        "\n",
        "class Instructor:\n",
        "    def __init__(self, instructor_id, name):\n",
        "        self.instructor_id = instructor_id\n",
        "        self.name = name\n",
        "\n",
        "    def get_instructor_info(self):\n",
        "        return f\"Instructor ID: {self.instructor_id}, Name: {self.name}\"\n",
        "\n",
        "class CourseMaterial:\n",
        "    def __init__(self, title, content):\n",
        "        self.title = title\n",
        "        self.content = content\n",
        "\n",
        "    def get_material_info(self):\n",
        "        return f\"Material Title: {self.title}, Content: {self.content}\"\n",
        "\n",
        "class UniversityCourse:\n",
        "    def __init__(self, course_code, course_name, instructor, students, course_material):\n",
        "        self.course_code = course_code\n",
        "        self.course_name = course_name\n",
        "        self.instructor = instructor  # Composition: Course has an Instructor\n",
        "        self.students = students  # Composition: Course has Students\n",
        "        self.course_material = course_material  # Composition: Course has CourseMaterial\n",
        "\n",
        "    def get_course_info(self):\n",
        "        info = f\"Course Code: {self.course_code}, Course Name: {self.course_name}\\n\"\n",
        "        info += f\"Instructor: {self.instructor.get_instructor_info()}\\n\"\n",
        "        info += \"Students:\\n\"\n",
        "        for student in self.students:\n",
        "            info += f\"- {student.get_student_info()}\\n\"\n",
        "        info += f\"Course Material: {self.course_material.get_material_info()}\"\n",
        "        return info\n",
        "\n",
        "# Example Usage:\n",
        "\n",
        "# Creating students\n",
        "student1 = Student(student_id=1, name=\"Alice\")\n",
        "student2 = Student(student_id=2, name=\"Bob\")\n",
        "\n",
        "# Creating an instructor\n",
        "instructor = Instructor(instructor_id=101, name=\"Dr. Smith\")\n",
        "\n",
        "# Creating course material\n",
        "course_material = CourseMaterial(title=\"Introduction to Python\", content=\"Basic Python programming concepts\")\n",
        "\n",
        "# Creating a university course with components\n",
        "python_course = UniversityCourse(\n",
        "    course_code=\"CS101\",\n",
        "    course_name=\"Introduction to Python Programming\",\n",
        "    instructor=instructor,\n",
        "    students=[student1, student2],\n",
        "    course_material=course_material\n",
        ")\n",
        "\n",
        "# Getting information about the university course\n",
        "print(python_course.get_course_info())\n"
      ]
    },
    {
      "cell_type": "markdown",
      "id": "f78bba3e-18c9-49ef-b890-4fbf3f5abb2f",
      "metadata": {
        "id": "f78bba3e-18c9-49ef-b890-4fbf3f5abb2f"
      },
      "source": [
        "13. Discuss the challenges and drawbacks of composition, such as increased complexity and potential for\n",
        "tight coupling between objects."
      ]
    },
    {
      "cell_type": "markdown",
      "id": "bfb18425-6a98-4499-b7de-4b6b3f788963",
      "metadata": {
        "id": "bfb18425-6a98-4499-b7de-4b6b3f788963"
      },
      "source": [
        "While composition is a powerful and flexible design concept, it does come with certain challenges and drawbacks. Here are some of the challenges associated with composition:\n",
        "\n",
        "1.Increased Complexity:\n",
        "\n",
        "As more components are composed to create complex objects, the overall structure of the system may become more intricate.\n",
        "Managing and understanding the relationships between various components can lead to increased complexity in the code.\n",
        "\n",
        "2.Potential for Tight Coupling:\n",
        "\n",
        "Composition can lead to tight coupling between classes if not managed properly.\n",
        "Tight coupling means that changes in one class may require modifications in other classes, reducing the flexibility and maintainability of the code.\n",
        "\n",
        "3.Dependency Management:\n",
        "\n",
        "Managing dependencies between composed objects can be challenging, especially in large systems with multiple interconnected components.\n",
        "Changes in one component may have a cascading effect, requiring adjustments in other components.\n",
        "\n",
        "4.Initialization Order:\n",
        "\n",
        "The order in which components are initialized can be crucial. Some components may depend on others, and incorrect initialization order can lead to runtime errors or unexpected behavior.\n",
        "\n",
        "5.Inheritance vs. Composition Dilemma:\n",
        "\n",
        "Choosing between inheritance and composition can be challenging. Composition is often preferred over inheritance, but determining the right balance and avoiding unnecessary complexity is crucial.\n",
        "\n",
        "6.Code Duplication:\n",
        "\n",
        "When multiple classes share common functionality, code duplication may occur if composition is not implemented carefully.\n",
        "Reusing components effectively and avoiding redundancy requires careful consideration.\n",
        "\n",
        "7.Dynamic Changes:\n",
        "\n",
        "Dynamically modifying the composition of an object at runtime may be complex, especially if the system was not initially designed to support such changes.\n",
        "Adapting to dynamic requirements might require additional design considerations.\n",
        "\n",
        "8.Testing and Debugging:\n",
        "\n",
        "Testing and debugging composed systems can be more challenging due to the interconnected nature of the components.\n",
        "Isolating issues to specific components and ensuring that changes do not introduce unintended consequences can be time-consuming.\n",
        "\n",
        "9.Performance Overhead:\n",
        "\n",
        "Composition may introduce some performance overhead, especially if objects need to delegate many calls to their composed components.\n",
        "In certain cases, the overhead might be negligible, but it's essential to consider performance implications."
      ]
    },
    {
      "cell_type": "markdown",
      "id": "449f2fb8-40ed-4ff3-8d03-a0397647da37",
      "metadata": {
        "id": "449f2fb8-40ed-4ff3-8d03-a0397647da37"
      },
      "source": [
        "14. Create a Python class hierarchy for a restaurant system, using composition to represent menus, dishes,\n",
        "and ingredients."
      ]
    },
    {
      "cell_type": "code",
      "execution_count": null,
      "id": "e85d69f1-a205-47f2-8821-8304b9d8575a",
      "metadata": {
        "id": "e85d69f1-a205-47f2-8821-8304b9d8575a",
        "outputId": "71e17850-f527-46d9-ffd9-70b4ceca5461"
      },
      "outputs": [
        {
          "name": "stdout",
          "output_type": "stream",
          "text": [
            "Menu: Italian Cuisine\n",
            "Description: Delicious Italian dishes\n",
            "Dishes:\n",
            "Dish: Margherita Pizza\n",
            "Description: Classic margherita pizza\n",
            "Price: $12.99\n",
            "Ingredients:\n",
            "- 2 pcs of Tomato\n",
            "- 100 g of Cheese\n",
            "- 200 g of Flour\n",
            "- 30 ml of Olive Oil\n",
            "\n",
            "Dish: Tomato Basil Pasta\n",
            "Description: Pasta with tomato and basil sauce\n",
            "Price: $9.99\n",
            "Ingredients:\n",
            "- 2 pcs of Tomato\n",
            "- 100 g of Cheese\n",
            "- 30 ml of Olive Oil\n",
            "\n",
            "\n"
          ]
        }
      ],
      "source": [
        "class Ingredient:\n",
        "    def __init__(self, name, quantity, unit):\n",
        "        self.name = name\n",
        "        self.quantity = quantity\n",
        "        self.unit = unit\n",
        "\n",
        "    def get_description(self):\n",
        "        return f\"{self.quantity} {self.unit} of {self.name}\"\n",
        "\n",
        "class Dish:\n",
        "    def __init__(self, name, description, price, ingredients):\n",
        "        self.name = name\n",
        "        self.description = description\n",
        "        self.price = price\n",
        "        self.ingredients = ingredients  # Composition: Dish has Ingredients\n",
        "\n",
        "    def get_dish_info(self):\n",
        "        info = f\"Dish: {self.name}\\n\"\n",
        "        info += f\"Description: {self.description}\\n\"\n",
        "        info += f\"Price: ${self.price}\\n\"\n",
        "        info += \"Ingredients:\\n\"\n",
        "        for ingredient in self.ingredients:\n",
        "            info += f\"- {ingredient.get_description()}\\n\"\n",
        "        return info\n",
        "\n",
        "class Menu:\n",
        "    def __init__(self, name, description, dishes):\n",
        "        self.name = name\n",
        "        self.description = description\n",
        "        self.dishes = dishes  # Composition: Menu has Dishes\n",
        "\n",
        "    def get_menu_info(self):\n",
        "        info = f\"Menu: {self.name}\\n\"\n",
        "        info += f\"Description: {self.description}\\n\"\n",
        "        info += \"Dishes:\\n\"\n",
        "        for dish in self.dishes:\n",
        "            info += f\"{dish.get_dish_info()}\\n\"\n",
        "        return info\n",
        "\n",
        "# Example Usage:\n",
        "\n",
        "# Creating ingredients\n",
        "tomato = Ingredient(name=\"Tomato\", quantity=2, unit=\"pcs\")\n",
        "cheese = Ingredient(name=\"Cheese\", quantity=100, unit=\"g\")\n",
        "flour = Ingredient(name=\"Flour\", quantity=200, unit=\"g\")\n",
        "olive_oil = Ingredient(name=\"Olive Oil\", quantity=30, unit=\"ml\")\n",
        "\n",
        "# Creating dishes\n",
        "pizza_ingredients = [tomato, cheese, flour, olive_oil]\n",
        "pizza = Dish(name=\"Margherita Pizza\", description=\"Classic margherita pizza\", price=12.99, ingredients=pizza_ingredients)\n",
        "\n",
        "pasta_ingredients = [tomato, cheese, olive_oil]\n",
        "pasta = Dish(name=\"Tomato Basil Pasta\", description=\"Pasta with tomato and basil sauce\", price=9.99, ingredients=pasta_ingredients)\n",
        "\n",
        "# Creating a menu\n",
        "italian_menu_dishes = [pizza, pasta]\n",
        "italian_menu = Menu(name=\"Italian Cuisine\", description=\"Delicious Italian dishes\", dishes=italian_menu_dishes)\n",
        "\n",
        "# Getting information about the menu\n",
        "print(italian_menu.get_menu_info())\n"
      ]
    },
    {
      "cell_type": "markdown",
      "id": "eb03c0e5-c0cd-4727-b57d-17e5533008c8",
      "metadata": {
        "id": "eb03c0e5-c0cd-4727-b57d-17e5533008c8"
      },
      "source": [
        "15. Explain how composition enhances code maintainability and modularity in Python programs."
      ]
    },
    {
      "cell_type": "markdown",
      "id": "d64b91cd-5155-4ace-b1b9-69acc3949208",
      "metadata": {
        "id": "d64b91cd-5155-4ace-b1b9-69acc3949208"
      },
      "source": [
        "Composition enhances code maintainability and modularity in Python programs by promoting a modular and flexible design approach. Here are ways in which composition contributes to these goals:\n",
        "\n",
        "1.Modularity:\n",
        "\n",
        "Composition allows you to break down complex systems into smaller, independent components (classes).\n",
        "Each component encapsulates a specific functionality or behavior, making the code modular and easier to understand.\n",
        "Modules can be developed, tested, and maintained independently, promoting code organization.\n",
        "\n",
        "2.Reusability:\n",
        "\n",
        "Components created through composition can be reused in different contexts, reducing redundancy and promoting a DRY (Don't Repeat Yourself) code philosophy.\n",
        "Reusing well-designed and tested components enhances code reliability and reduces the effort required to implement similar features.\n",
        "\n",
        "3.Flexibility:\n",
        "\n",
        "Composition enables a flexible and adaptable design, where components can be easily replaced or extended without affecting the entire system.\n",
        "New functionality can be added by composing existing components or creating new ones, allowing the system to evolve without major modifications.\n",
        "\n",
        "4.Encapsulation:\n",
        "\n",
        "Components can encapsulate their internal details, exposing only a well-defined interface to the external world.\n",
        "Encapsulation ensures that changes to the internal implementation of a component do not impact other parts of the system, promoting information hiding.\n",
        "\n",
        "5.Maintainability:\n",
        "\n",
        "With composition, maintaining code becomes more straightforward because each component's responsibilities are well-defined.\n",
        "Changes or bug fixes are localized to specific components, reducing the risk of unintended consequences in other parts of the codebase.\n",
        "                                                                                        \n",
        "6.Dependency Management:\n",
        "\n",
        "Composition facilitates managing dependencies between components, making it easier to understand the relationships and interactions between different parts of the system.\n",
        "Dependencies are explicit, and changes to one component are less likely to cause unexpected side effects in others.\n",
        "\n",
        "7.Testing:\n",
        "\n",
        "Components can be tested independently, allowing for more focused and effective unit testing.\n",
        "Unit tests for individual components provide a clear understanding of their behavior, making it easier to identify and fix issues.\n",
        "\n",
        "8.Scalability:\n",
        "\n",
        "Composition supports scalability by allowing new features or components to be added incrementally without disrupting the existing structure.\n",
        "It provides a foundation for building larger and more complex systems in a systematic and organized manner."
      ]
    },
    {
      "cell_type": "markdown",
      "id": "d4ee7b5c-8a2f-4b05-9be5-554d23d38c70",
      "metadata": {
        "id": "d4ee7b5c-8a2f-4b05-9be5-554d23d38c70"
      },
      "source": [
        "16. Create a Python class for a computer game character, using composition to represent attributes like\n",
        "weapons, armor, and inventory."
      ]
    },
    {
      "cell_type": "code",
      "execution_count": null,
      "id": "cee1dcbc-393d-4e31-99d9-5b069ceb356b",
      "metadata": {
        "id": "cee1dcbc-393d-4e31-99d9-5b069ceb356b",
        "outputId": "81f6b612-fad6-46bc-facf-7ba4692dd45d"
      },
      "outputs": [
        {
          "name": "stdout",
          "output_type": "stream",
          "text": [
            "Character: Hero\n",
            "Health: 100\n",
            "Weapon: Weapon: Sword, Damage: 20\n",
            "Armor: Armor: Steel Armor, Defense: 20\n",
            "Inventory:\n",
            "- Health Potion\n",
            "\n"
          ]
        }
      ],
      "source": [
        "class Weapon:\n",
        "    def __init__(self, name, damage):\n",
        "        self.name = name\n",
        "        self.damage = damage\n",
        "\n",
        "    def get_weapon_info(self):\n",
        "        return f\"Weapon: {self.name}, Damage: {self.damage}\"\n",
        "\n",
        "class Armor:\n",
        "    def __init__(self, name, defense):\n",
        "        self.name = name\n",
        "        self.defense = defense\n",
        "\n",
        "    def get_armor_info(self):\n",
        "        return f\"Armor: {self.name}, Defense: {self.defense}\"\n",
        "\n",
        "class Inventory:\n",
        "    def __init__(self):\n",
        "        self.items = []\n",
        "\n",
        "    def add_item(self, item):\n",
        "        self.items.append(item)\n",
        "\n",
        "    def get_inventory_info(self):\n",
        "        if not self.items:\n",
        "            return \"Inventory is empty.\"\n",
        "        else:\n",
        "            info = \"Inventory:\\n\"\n",
        "            for item in self.items:\n",
        "                info += f\"- {item}\\n\"\n",
        "            return info\n",
        "\n",
        "class GameCharacter:\n",
        "    def __init__(self, name, health, weapon, armor):\n",
        "        self.name = name\n",
        "        self.health = health\n",
        "        self.weapon = weapon  # Composition: GameCharacter has a Weapon\n",
        "        self.armor = armor  # Composition: GameCharacter has Armor\n",
        "        self.inventory = Inventory()  # Composition: GameCharacter has an Inventory\n",
        "\n",
        "    def attack(self, target):\n",
        "        damage_dealt = self.weapon.damage\n",
        "        # Apply damage calculation logic here\n",
        "        target.health -= damage_dealt\n",
        "        return damage_dealt\n",
        "\n",
        "    def equip_armor(self, new_armor):\n",
        "        self.armor = new_armor\n",
        "\n",
        "    def pick_up_item(self, item):\n",
        "        self.inventory.add_item(item)\n",
        "\n",
        "    def get_character_info(self):\n",
        "        info = f\"Character: {self.name}\\n\"\n",
        "        info += f\"Health: {self.health}\\n\"\n",
        "        info += f\"Weapon: {self.weapon.get_weapon_info()}\\n\"\n",
        "        info += f\"Armor: {self.armor.get_armor_info()}\\n\"\n",
        "        info += f\"{self.inventory.get_inventory_info()}\"\n",
        "        return info\n",
        "\n",
        "# Example Usage:\n",
        "\n",
        "# Creating weapons\n",
        "sword = Weapon(name=\"Sword\", damage=20)\n",
        "bow = Weapon(name=\"Bow\", damage=15)\n",
        "\n",
        "# Creating armor\n",
        "leather_armor = Armor(name=\"Leather Armor\", defense=10)\n",
        "steel_armor = Armor(name=\"Steel Armor\", defense=20)\n",
        "\n",
        "# Creating a game character\n",
        "hero = GameCharacter(name=\"Hero\", health=100, weapon=sword, armor=leather_armor)\n",
        "\n",
        "# Performing actions\n",
        "enemy = GameCharacter(name=\"Enemy\", health=50, weapon=bow, armor=steel_armor)\n",
        "hero.attack(enemy)\n",
        "hero.pick_up_item(\"Health Potion\")\n",
        "hero.equip_armor(steel_armor)\n",
        "\n",
        "# Getting information about the game character\n",
        "print(hero.get_character_info())\n"
      ]
    },
    {
      "cell_type": "markdown",
      "id": "5c032203-12be-4c9a-8603-c03d030031cf",
      "metadata": {
        "id": "5c032203-12be-4c9a-8603-c03d030031cf"
      },
      "source": [
        "17. Describe the concept of \"aggregation\" in composition and how it differs from simple composition."
      ]
    },
    {
      "cell_type": "markdown",
      "id": "bef9ddb5-3111-445c-b88c-1b8eedc227b4",
      "metadata": {
        "id": "bef9ddb5-3111-445c-b88c-1b8eedc227b4"
      },
      "source": [
        "\"Aggregation\" is a concept in composition that represents a relationship between two objects where one object contains or is associated with another object, but the objects have an independent lifecycle. Unlike simple composition, aggregation implies a weaker form of ownership or a more relaxed relationship between the containing and the contained objects.\n",
        "\n",
        "Here are the key characteristics of aggregation:\n",
        "\n",
        "1.Independent Lifecycle:\n",
        "\n",
        "In aggregation, the objects involved have independent lifecycles. The contained object can exist on its own and is not exclusively owned or managed by the containing object.\n",
        "If the containing object is destroyed, it doesn't necessarily imply the destruction of the contained object.\n",
        "\n",
        "2.Weaker Relationship:\n",
        "\n",
        "Aggregation implies a weaker relationship compared to simple composition. The contained object might be shared among multiple containing objects, and it can exist independently of any particular container.\n",
        "This implies that the contained object may have a broader scope of usability beyond its association with a specific container.\n",
        "\n",
        "3.Flexibility and Reusability:\n",
        "\n",
        "Aggregation promotes flexibility and reusability by allowing the contained object to be reused in various contexts. It's not tightly bound to a specific container, making it more versatile.\n",
        "The contained object can be part of different aggregations or used independently in other parts of the system.\n",
        "\n",
        "4.Optional Relationship:\n",
        "\n",
        "The relationship in aggregation is often optional. The containing object may or may not have a reference to the contained object at a given time.\n",
        "The contained object can exist independently, and it can be associated with different containers dynamically.\n",
        "Here's a simple example to illustrate aggregation:"
      ]
    },
    {
      "cell_type": "code",
      "execution_count": null,
      "id": "2ee4457c-efd6-4f50-b7b3-250d2720769a",
      "metadata": {
        "id": "2ee4457c-efd6-4f50-b7b3-250d2720769a"
      },
      "outputs": [],
      "source": [
        "class Department:\n",
        "    def __init__(self, name):\n",
        "        self.name = name\n",
        "        self.employees = []  # Aggregation: Department has Employees\n",
        "\n",
        "    def add_employee(self, employee):\n",
        "        self.employees.append(employee)\n",
        "\n",
        "class Employee:\n",
        "    def __init__(self, name, employee_id):\n",
        "        self.name = name\n",
        "        self.employee_id = employee_id\n",
        "\n",
        "# Example Usage:\n",
        "\n",
        "# Creating instances\n",
        "engineering = Department(name=\"Engineering\")\n",
        "marketing = Department(name=\"Marketing\")\n",
        "\n",
        "alice = Employee(name=\"Alice\", employee_id=1)\n",
        "bob = Employee(name=\"Bob\", employee_id=2)\n",
        "\n",
        "# Aggregation: Adding employees to departments\n",
        "engineering.add_employee(alice)\n",
        "marketing.add_employee(bob)\n",
        "\n",
        "# Changing departments dynamically\n",
        "engineering.add_employee(bob)\n",
        "marketing.add_employee(alice)\n"
      ]
    },
    {
      "cell_type": "markdown",
      "id": "f6d88dca-ed17-4117-a3f9-a4ce04b94820",
      "metadata": {
        "id": "f6d88dca-ed17-4117-a3f9-a4ce04b94820"
      },
      "source": [
        "18. Create a Python class for a house, using composition to represent rooms, furniture, and appliances."
      ]
    },
    {
      "cell_type": "code",
      "execution_count": null,
      "id": "ce696d61-cff1-4ffd-94e7-dd516b7bb810",
      "metadata": {
        "id": "ce696d61-cff1-4ffd-94e7-dd516b7bb810",
        "outputId": "704f49c7-99b4-4a51-c06c-8aac97959081"
      },
      "outputs": [
        {
          "name": "stdout",
          "output_type": "stream",
          "text": [
            "House: My House\n",
            "Rooms:\n",
            "Room: Living Room\n",
            "Furniture:\n",
            "- Furniture: Sofa\n",
            "Appliances:\n",
            "- Appliance: Television\n",
            "Room: Kitchen\n",
            "Furniture:\n",
            "- Furniture: Sofa\n",
            "Appliances:\n",
            "- Appliance: Oven\n",
            "\n"
          ]
        }
      ],
      "source": [
        "class Furniture:\n",
        "    def __init__(self, name):\n",
        "        self.name = name\n",
        "\n",
        "    def get_info(self):\n",
        "        return f\"Furniture: {self.name}\"\n",
        "\n",
        "class Appliance:\n",
        "    def __init__(self, name):\n",
        "        self.name = name\n",
        "\n",
        "    def get_info(self):\n",
        "        return f\"Appliance: {self.name}\"\n",
        "\n",
        "class Room:\n",
        "    def __init__(self, name):\n",
        "        self.name = name\n",
        "        self.furniture = []  # Aggregation: Room has Furniture\n",
        "        self.appliances = []  # Aggregation: Room has Appliances\n",
        "\n",
        "    def add_furniture(self, furniture):\n",
        "        self.furniture.append(furniture)\n",
        "\n",
        "    def add_appliance(self, appliance):\n",
        "        self.appliances.append(appliance)\n",
        "\n",
        "    def get_room_info(self):\n",
        "        info = f\"Room: {self.name}\\n\"\n",
        "        info += \"Furniture:\\n\"\n",
        "        for piece in self.furniture:\n",
        "            info += f\"- {piece.get_info()}\\n\"\n",
        "        info += \"Appliances:\\n\"\n",
        "        for appliance in self.appliances:\n",
        "            info += f\"- {appliance.get_info()}\\n\"\n",
        "        return info\n",
        "\n",
        "class House:\n",
        "    def __init__(self, name):\n",
        "        self.name = name\n",
        "        self.rooms = []  # Aggregation: House has Rooms\n",
        "\n",
        "    def add_room(self, room):\n",
        "        self.rooms.append(room)\n",
        "\n",
        "    def get_house_info(self):\n",
        "        info = f\"House: {self.name}\\n\"\n",
        "        info += \"Rooms:\\n\"\n",
        "        for room in self.rooms:\n",
        "            info += room.get_room_info()\n",
        "        return info\n",
        "\n",
        "# Example Usage:\n",
        "\n",
        "# Creating instances\n",
        "living_room = Room(name=\"Living Room\")\n",
        "kitchen = Room(name=\"Kitchen\")\n",
        "\n",
        "sofa = Furniture(name=\"Sofa\")\n",
        "tv = Appliance(name=\"Television\")\n",
        "oven = Appliance(name=\"Oven\")\n",
        "\n",
        "# Aggregation: Adding furniture and appliances to rooms\n",
        "living_room.add_furniture(sofa)\n",
        "living_room.add_appliance(tv)\n",
        "\n",
        "kitchen.add_furniture(sofa)  # This furniture can be moved between rooms\n",
        "kitchen.add_appliance(oven)\n",
        "\n",
        "# Creating the house\n",
        "my_house = House(name=\"My House\")\n",
        "my_house.add_room(living_room)\n",
        "my_house.add_room(kitchen)\n",
        "\n",
        "# Getting information about the house\n",
        "print(my_house.get_house_info())\n"
      ]
    },
    {
      "cell_type": "markdown",
      "id": "a10bae17-590f-4784-a0ec-9dcfd85f4841",
      "metadata": {
        "id": "a10bae17-590f-4784-a0ec-9dcfd85f4841"
      },
      "source": [
        "19. How can you achieve flexibility in composed objects by allowing them to be replaced or modified\n",
        "dynamically at runtime?"
      ]
    },
    {
      "cell_type": "markdown",
      "id": "4e6ff098-c001-47b6-b844-5bbddd07bb5d",
      "metadata": {
        "id": "4e6ff098-c001-47b6-b844-5bbddd07bb5d"
      },
      "source": [
        "Achieving flexibility in composed objects by allowing them to be replaced or modified dynamically at runtime involves implementing strategies that enable dynamic changes without requiring modifications to the existing code. Here are several approaches to achieve such flexibility:\n",
        "\n",
        "1.Interfaces and Polymorphism:\n",
        "\n",
        "Define interfaces or abstract classes for the components within the composed objects.\n",
        "Implement various versions or alternative components that adhere to the same interface.\n",
        "Use polymorphism to switch between different implementations dynamically.\n",
        "\n",
        "class Furniture:\n",
        "   \n",
        "   def get_info(self):\n",
        "        pass\n",
        "\n",
        "class Sofa(Furniture):\n",
        "   \n",
        "   def get_info(self):\n",
        "        return \"Sofa\"\n",
        "\n",
        "class Chair(Furniture):\n",
        "   \n",
        "   def get_info(self):\n",
        "        return \"Chair\"\n",
        "\n",
        "    \n",
        "2.Dependency Injection:\n",
        "\n",
        "Allow components to be injected into the composed objects rather than hard-coding them.\n",
        "Provide a mechanism to dynamically change or update the injected components.\n",
        "\n",
        "class Room:\n",
        "    def __init__(self, furniture):\n",
        "   \n",
        "   self.furniture = furniture\n",
        "\n",
        "    def set_furniture(self, new_furniture):\n",
        "        self.furniture = new_furniture\n",
        "\n",
        "        \n",
        "3.Configuration Files or Settings:\n",
        "\n",
        "Externalize configuration details, such as component names or types, to configuration files or settings.\n",
        "Dynamically read and modify these settings at runtime to change the composition of objects.\n",
        "\n",
        "class Room:\n",
        "    \n",
        "    def __init__(self, furniture_type):\n",
        "        self.furniture = self.create_furniture(furniture_type)\n",
        "\n",
        "    def create_furniture(self, furniture_type):\n",
        "        # Logic to create furniture based on configuration\n",
        "        pass\n",
        "\n",
        "    \n",
        "4.Builder Pattern:\n",
        "\n",
        "Use a builder pattern to construct composed objects with different variations or components.\n",
        "Allow the client code to dynamically choose a specific builder at runtime.\n",
        "\n",
        "class RoomBuilder:\n",
        "    def build(self):\n",
        "        pass\n",
        "\n",
        "class LivingRoomBuilder(RoomBuilder):\n",
        "    def build(self):\n",
        "        # Logic to construct a living room with specific components\n",
        "        pass\n",
        "\n",
        "    \n",
        "5.Decorator Pattern:\n",
        "\n",
        "Apply the decorator pattern to add or modify components dynamically.\n",
        "Decorators can wrap existing components to enhance or alter their behavior.\n",
        "\n",
        "class FurnitureDecorator(Furniture):\n",
        "    \n",
        "    def __init__(self, base_furniture):\n",
        "        self.base_furniture = base_furniture\n",
        "\n",
        "    def get_info(self):\n",
        "        return f\"Enhanced {self.base_furniture.get_info()}\"\n"
      ]
    },
    {
      "cell_type": "markdown",
      "id": "2196c5ac-1071-4c39-90df-9f07a4afbd4f",
      "metadata": {
        "id": "2196c5ac-1071-4c39-90df-9f07a4afbd4f"
      },
      "source": [
        "20. Create a Python class for a social media application, using composition to represent users, posts, and\n",
        "comments."
      ]
    },
    {
      "cell_type": "code",
      "execution_count": null,
      "id": "fca9a22f-e2bc-43bc-a7b2-aaf4b7a6ba92",
      "metadata": {
        "id": "fca9a22f-e2bc-43bc-a7b2-aaf4b7a6ba92",
        "outputId": "122fb19e-4ac2-4e18-d384-a1f67fd3641e"
      },
      "outputs": [
        {
          "name": "stdout",
          "output_type": "stream",
          "text": [
            "User: Alice\n",
            "Posts:\n",
            "- Alice posted:\n",
            "Hello, social media!\n",
            "Comments:\n",
            "- Bob: Hi, Alice!\n",
            "- Alice: Thanks for the comment, Bob!\n",
            "\n",
            "\n",
            "User: Bob\n",
            "\n"
          ]
        }
      ],
      "source": [
        "class Comment:\n",
        "    def __init__(self, user, text):\n",
        "        self.user = user  # Aggregation: Comment has a User\n",
        "        self.text = text\n",
        "\n",
        "    def get_comment_info(self):\n",
        "        return f\"{self.user.username}: {self.text}\"\n",
        "\n",
        "class Post:\n",
        "    def __init__(self, user, content):\n",
        "        self.user = user  # Aggregation: Post has a User\n",
        "        self.content = content\n",
        "        self.comments = []  # Aggregation: Post has Comments\n",
        "\n",
        "    def add_comment(self, comment):\n",
        "        self.comments.append(comment)\n",
        "\n",
        "    def get_post_info(self):\n",
        "        info = f\"{self.user.username} posted:\\n{self.content}\\n\"\n",
        "        if self.comments:\n",
        "            info += \"Comments:\\n\"\n",
        "            for comment in self.comments:\n",
        "                info += f\"- {comment.get_comment_info()}\\n\"\n",
        "        return info\n",
        "\n",
        "class User:\n",
        "    def __init__(self, username):\n",
        "        self.username = username\n",
        "        self.posts = []  # Aggregation: User has Posts\n",
        "\n",
        "    def create_post(self, content):\n",
        "        post = Post(user=self, content=content)\n",
        "        self.posts.append(post)\n",
        "        return post\n",
        "\n",
        "    def comment_on_post(self, post, text):\n",
        "        comment = Comment(user=self, text=text)\n",
        "        post.add_comment(comment)\n",
        "\n",
        "    def get_user_info(self):\n",
        "        info = f\"User: {self.username}\\n\"\n",
        "        if self.posts:\n",
        "            info += \"Posts:\\n\"\n",
        "            for post in self.posts:\n",
        "                info += f\"- {post.get_post_info()}\\n\"\n",
        "        return info\n",
        "\n",
        "# Example Usage:\n",
        "\n",
        "# Creating instances\n",
        "alice = User(username=\"Alice\")\n",
        "bob = User(username=\"Bob\")\n",
        "\n",
        "post_by_alice = alice.create_post(content=\"Hello, social media!\")\n",
        "bob.comment_on_post(post_by_alice, text=\"Hi, Alice!\")\n",
        "alice.comment_on_post(post_by_alice, text=\"Thanks for the comment, Bob!\")\n",
        "\n",
        "# Getting information about users, posts, and comments\n",
        "print(alice.get_user_info())\n",
        "print(bob.get_user_info())\n"
      ]
    },
    {
      "cell_type": "code",
      "execution_count": null,
      "id": "64501c69-19cb-428e-9abf-1e42eb7e27d6",
      "metadata": {
        "id": "64501c69-19cb-428e-9abf-1e42eb7e27d6"
      },
      "outputs": [],
      "source": []
    }
  ],
  "metadata": {
    "kernelspec": {
      "display_name": "Python 3 (ipykernel)",
      "language": "python",
      "name": "python3"
    },
    "language_info": {
      "codemirror_mode": {
        "name": "ipython",
        "version": 3
      },
      "file_extension": ".py",
      "mimetype": "text/x-python",
      "name": "python",
      "nbconvert_exporter": "python",
      "pygments_lexer": "ipython3",
      "version": "3.10.8"
    },
    "colab": {
      "provenance": []
    }
  },
  "nbformat": 4,
  "nbformat_minor": 5
}