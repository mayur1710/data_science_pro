{
  "cells": [
    {
      "cell_type": "markdown",
      "id": "d5145790-97e8-4c48-affe-f7019d99e577",
      "metadata": {
        "id": "d5145790-97e8-4c48-affe-f7019d99e577"
      },
      "source": [
        "Basic If-Else Statements:"
      ]
    },
    {
      "cell_type": "markdown",
      "id": "d55dc87a-bbb9-4aeb-96ae-9036b6c536b8",
      "metadata": {
        "id": "d55dc87a-bbb9-4aeb-96ae-9036b6c536b8"
      },
      "source": [
        "1. Write a Python program to check if a given number is positive or negative."
      ]
    },
    {
      "cell_type": "code",
      "execution_count": null,
      "id": "9a054672-bd3b-4215-ba1b-95a63f93746c",
      "metadata": {
        "id": "9a054672-bd3b-4215-ba1b-95a63f93746c",
        "outputId": "0d23c293-a41d-43dd-c52c-eec6a464b0de"
      },
      "outputs": [
        {
          "name": "stdin",
          "output_type": "stream",
          "text": [
            "Enter a nuber:  7\n"
          ]
        },
        {
          "name": "stdout",
          "output_type": "stream",
          "text": [
            "The entered number is positive.\n"
          ]
        }
      ],
      "source": [
        "# Take user input for a number\n",
        "number = float(input(\"Enter a nuber: \"))\n",
        "\n",
        "# Check if the number is positive, negative, or zero\n",
        "if number > 0:\n",
        "    print(\"The entered number is positive.\")\n",
        "elif number < 0:\n",
        "    print(\"The entered number is negative.\")\n",
        "else:\n",
        "    print(\"The entered number is zero.\")"
      ]
    },
    {
      "cell_type": "markdown",
      "id": "f26ede19-8d0e-45c7-a259-b46f48a09f69",
      "metadata": {
        "id": "f26ede19-8d0e-45c7-a259-b46f48a09f69"
      },
      "source": [
        "The input function is used to take user input, and float() is used to convert the input to a floating-point number. This allows the program to handle decimal numbers as well.\n",
        "\n",
        "The program then uses an if-elif-else statement to check the sign of the entered number:\n",
        "\n",
        "If number > 0, it means the number is positive, and a corresponding message is printed.\n",
        "\n",
        "If number < 0, it means the number is negative, and a corresponding message is printed.\n",
        "\n",
        "If number == 0, it means the number is zero, and a different message is printed.\n",
        "\n",
        "Finally, the program prints the result based on the conditions checked."
      ]
    },
    {
      "cell_type": "markdown",
      "id": "e31e2c4c-5db8-4bd6-9016-15522d903346",
      "metadata": {
        "id": "e31e2c4c-5db8-4bd6-9016-15522d903346"
      },
      "source": [
        "2. Create a program that determines if a person is eligible to vote based on their age.\n"
      ]
    },
    {
      "cell_type": "code",
      "execution_count": null,
      "id": "b553b53c-681c-4c9d-b685-7b8e21ca01a5",
      "metadata": {
        "id": "b553b53c-681c-4c9d-b685-7b8e21ca01a5",
        "outputId": "7703dbcd-5e8f-4fa2-d348-8192b9078289"
      },
      "outputs": [
        {
          "name": "stdin",
          "output_type": "stream",
          "text": [
            "Enter your age:  28\n"
          ]
        },
        {
          "name": "stdout",
          "output_type": "stream",
          "text": [
            "You are eligible to vote.\n"
          ]
        }
      ],
      "source": [
        "# Function to check eligibility to vote\n",
        "def check_voting_eligibility(age):\n",
        "    if age >= 18:\n",
        "        return \"You are eligible to vote.\"\n",
        "    else:\n",
        "        return \"You are not eligible to vote yet.\"\n",
        "\n",
        "# Example: Take user input for age\n",
        "user_age = int(input(\"Enter your age: \"))\n",
        "\n",
        "# Check eligibility to vote\n",
        "eligibility_result = check_voting_eligibility(user_age)\n",
        "\n",
        "# Print the result\n",
        "print(eligibility_result)\n"
      ]
    },
    {
      "cell_type": "markdown",
      "id": "83d96122-d416-4343-b010-a05b29263f0c",
      "metadata": {
        "id": "83d96122-d416-4343-b010-a05b29263f0c"
      },
      "source": [
        "The input function is used to take user input, and float() is used to convert the input to a floating-point number. This allows the program to handle decimal numbers as well.\n",
        "\n",
        "The program then uses an if-elif-else statement to check the sign of the entered number:\n",
        "\n",
        "If number > 0, it means the number is positive, and a corresponding message is printed.\n",
        "\n",
        "If number < 0, it means the number is negative, and a corresponding message is printed.\n",
        "\n",
        "If number == 0, it means the number is zero, and a different message is printed.\n",
        "\n",
        "Finally, the program prints the result based on the conditions checked."
      ]
    },
    {
      "cell_type": "markdown",
      "id": "7a9a66d8-f401-4527-ad5a-449083211488",
      "metadata": {
        "id": "7a9a66d8-f401-4527-ad5a-449083211488"
      },
      "source": [
        "3. Develop a program to find the maximum of two numbers using if-else statements."
      ]
    },
    {
      "cell_type": "code",
      "execution_count": null,
      "id": "54391d9f-bb16-4763-97c3-0737a1149136",
      "metadata": {
        "id": "54391d9f-bb16-4763-97c3-0737a1149136",
        "outputId": "ecb651a2-0aaa-49cc-bab9-40059055fd2b"
      },
      "outputs": [
        {
          "name": "stdin",
          "output_type": "stream",
          "text": [
            "Enter the first number:  15\n",
            "Enter the second number:  8.5\n"
          ]
        },
        {
          "name": "stdout",
          "output_type": "stream",
          "text": [
            "The maximum of 15.0 and 8.5 is: 15.0\n"
          ]
        }
      ],
      "source": [
        "# Take user input for two numbers\n",
        "num1 = float(input(\"Enter the first number: \"))\n",
        "num2 = float(input(\"Enter the second number: \"))\n",
        "\n",
        "# Compare the two numbers to find the maximum\n",
        "if num1 > num2:\n",
        "    max_num = num1\n",
        "else:\n",
        "    max_num = num2\n",
        "\n",
        "# Print the result\n",
        "print(f\"The maximum of {num1} and {num2} is: {max_num}\")\n"
      ]
    },
    {
      "cell_type": "markdown",
      "id": "bee4a9c0-0721-4433-a1ca-ccc7dc563000",
      "metadata": {
        "id": "bee4a9c0-0721-4433-a1ca-ccc7dc563000"
      },
      "source": [
        "The program starts by prompting the user to enter two numbers. The input function is used to take user input, and float() is used to convert the input to floating-point numbers.\n",
        "\n",
        "An if-else statement is used to compare the two numbers.\n",
        "\n",
        "If num1 is greater than num2, it assigns the value of num1 to the variable max_num.\n",
        "\n",
        "Otherwise (if num1 is not greater than num2), it assigns the value of num2 to max_num.\n",
        "\n",
        "The program prints the result using an f-string. It displays the original numbers entered by the user (num1 and num2) and the calculated maximum (max_num)."
      ]
    },
    {
      "cell_type": "markdown",
      "id": "4c48a480-0a40-48a4-8abb-ca75ad29d1b4",
      "metadata": {
        "id": "4c48a480-0a40-48a4-8abb-ca75ad29d1b4"
      },
      "source": [
        "4. Write a Python script to classify a given year as a leap year or not."
      ]
    },
    {
      "cell_type": "code",
      "execution_count": null,
      "id": "5ab53fc0-c7b6-4b2e-9330-3b5945b9c411",
      "metadata": {
        "id": "5ab53fc0-c7b6-4b2e-9330-3b5945b9c411",
        "outputId": "434de5bf-f887-4ba1-be25-d7cca1f4f369"
      },
      "outputs": [
        {
          "name": "stdin",
          "output_type": "stream",
          "text": [
            "Enter a year:  2024\n"
          ]
        },
        {
          "name": "stdout",
          "output_type": "stream",
          "text": [
            "2024 is a leap year.\n"
          ]
        }
      ],
      "source": [
        "# Take user input for the year\n",
        "year = int(input(\"Enter a year: \"))\n",
        "\n",
        "# Check if the year is a leap year\n",
        "if (year % 4 == 0 and year % 100 != 0) or (year % 400 == 0):\n",
        "    print(f\"{year} is a leap year.\")\n",
        "else:\n",
        "    print(f\"{year} is not a leap year.\")\n",
        ""
      ]
    },
    {
      "cell_type": "markdown",
      "id": "615a9552-968d-4110-902b-2d6051278c9d",
      "metadata": {
        "id": "615a9552-968d-4110-902b-2d6051278c9d"
      },
      "source": [
        "The program prompts the user to enter a year, and the input is converted to an integer using int().\n",
        "\n",
        "The program checks if the entered year is a leap year using the leap year rules:\n",
        "\n",
        "If the year is divisible by 4 and not divisible by 100, or\n",
        "If the year is divisible by 400.\n",
        "If the condition is true, it means the year is a leap year.\n",
        "\n",
        "If the year is a leap year, the program prints a message indicating that. Otherwise, it prints a message stating that the year is not a leap year."
      ]
    },
    {
      "cell_type": "markdown",
      "id": "0d55ef53-a704-49b7-b0b9-88b5f369087a",
      "metadata": {
        "id": "0d55ef53-a704-49b7-b0b9-88b5f369087a"
      },
      "source": [
        "5. Create a program that checks whether a character is a vowel or a consonant."
      ]
    },
    {
      "cell_type": "code",
      "execution_count": null,
      "id": "81c8c939-7d30-4a8e-8392-f757539c4e03",
      "metadata": {
        "id": "81c8c939-7d30-4a8e-8392-f757539c4e03",
        "outputId": "6e000cd6-6764-479b-843e-3a39e27d3d7a"
      },
      "outputs": [
        {
          "name": "stdin",
          "output_type": "stream",
          "text": [
            "Enter a characters:  A\n"
          ]
        },
        {
          "name": "stdout",
          "output_type": "stream",
          "text": [
            "The character 'a' is a vowel.\n"
          ]
        }
      ],
      "source": [
        "# Take user input for a character\n",
        "char = input(\"Enter a characters: \")\n",
        "\n",
        "# Check if the input is a single character\n",
        "if len(char) == 1:\n",
        "\n",
        "    # Convert the character to lowercase for case-insensitive comparison\n",
        "    char = char.lower()\n",
        "\n",
        "     # Check if the character is a vowel or a consonant\n",
        "    if char in ('a', 'e', 'i', 'o', 'u'):\n",
        "        print(f\"The character '{char}' is a vowel.\")\n",
        "    else:\n",
        "        print(f\"The character '{char}' is a consonant.\")\n",
        "else:\n",
        "    print(\"Please enter a single character.\")\n",
        "\n",
        "\n",
        "\n",
        "\n",
        "\n",
        "\n",
        "\n",
        "\n",
        "\n"
      ]
    },
    {
      "cell_type": "markdown",
      "id": "ead17550-cd70-4285-8666-dbb8d39446e3",
      "metadata": {
        "id": "ead17550-cd70-4285-8666-dbb8d39446e3"
      },
      "source": [
        "The program prompts the user to enter a character.\n",
        "\n",
        "It checks if the entered input is a single character.\n",
        "\n",
        "The character is converted to lowercase to make the comparison case-insensitive.\n",
        "\n",
        "It checks if the character is one of the vowels ('a', 'e', 'i', 'o', 'u').\n",
        "If true, it prints that the character is a vowel; otherwise, it prints that the character is a consonant.\n",
        "\n",
        "The program prints the result.\n",
        "\n",
        "If the user enters more than one character, it prompts them to enter a single character."
      ]
    },
    {
      "cell_type": "markdown",
      "id": "a7d1e5db-6bd9-44fb-8e84-91903f5a8763",
      "metadata": {
        "id": "a7d1e5db-6bd9-44fb-8e84-91903f5a8763"
      },
      "source": [
        "6. Implement a program to determine whether a given number is even or odd."
      ]
    },
    {
      "cell_type": "code",
      "execution_count": null,
      "id": "b3081b67-d657-4e7e-af4f-ce3f9e5d697a",
      "metadata": {
        "id": "b3081b67-d657-4e7e-af4f-ce3f9e5d697a",
        "outputId": "2900437b-325d-4061-bcff-1234e6354b8b"
      },
      "outputs": [
        {
          "name": "stdin",
          "output_type": "stream",
          "text": [
            "Enter a number:  85\n"
          ]
        },
        {
          "name": "stdout",
          "output_type": "stream",
          "text": [
            "The number 85 is odd.\n"
          ]
        }
      ],
      "source": [
        "# Take user input for a number\n",
        "number = int(input(\"Enter a number: \"))\n",
        "\n",
        "# Check if the number is even or odd\n",
        "if number % 2 == 0:\n",
        "    print(f\"The number {number} is even.\")\n",
        "else:\n",
        "    print(f\"The number {number} is odd.\")"
      ]
    },
    {
      "cell_type": "markdown",
      "id": "608202c9-23cf-442e-9bd1-faca3e386c0e",
      "metadata": {
        "id": "608202c9-23cf-442e-9bd1-faca3e386c0e"
      },
      "source": [
        "The program prompts the user to enter a number, and the input is converted to an integer using int().\n",
        "\n",
        "It checks if the entered number is divisible by 2 (i.e., even). If true, it prints that the number is even; otherwise, it prints that the number is odd.\n",
        "\n",
        "The program prints the result.\n"
      ]
    },
    {
      "cell_type": "markdown",
      "id": "b1bb45fd-c445-48cc-aaf7-59399658bc4d",
      "metadata": {
        "id": "b1bb45fd-c445-48cc-aaf7-59399658bc4d"
      },
      "source": [
        "7. Write a Python function to calculate the absolute value of a number without using the `abs()` function."
      ]
    },
    {
      "cell_type": "code",
      "execution_count": null,
      "id": "410d7a8f-6db1-4cab-b5cf-4a927b0fba6f",
      "metadata": {
        "id": "410d7a8f-6db1-4cab-b5cf-4a927b0fba6f",
        "outputId": "bc13146d-a3a5-4de4-b010-851ef556cb9e"
      },
      "outputs": [
        {
          "name": "stdin",
          "output_type": "stream",
          "text": [
            "Enter a number:  -8.9\n"
          ]
        },
        {
          "name": "stdout",
          "output_type": "stream",
          "text": [
            "The absolute value of -8.9 is: 8.9\n"
          ]
        }
      ],
      "source": [
        "def absolute_value(number):\n",
        "    if number < 0:\n",
        "        return -number\n",
        "    else:\n",
        "        return number\n",
        "\n",
        "# Example usage\n",
        "num = float(input(\"Enter a number: \"))\n",
        "result = absolute_value(num)\n",
        "print(f\"The absolute value of {num} is: {result}\")"
      ]
    },
    {
      "cell_type": "markdown",
      "id": "ad31b1fb-aa3e-4047-b2cf-e27eb9205ca1",
      "metadata": {
        "id": "ad31b1fb-aa3e-4047-b2cf-e27eb9205ca1"
      },
      "source": [
        "The function absolute_value is defined with a parameter number representing the input number.\n",
        "\n",
        "It checks if the number is less than 0, indicating a negative number.\n",
        "\n",
        "If the number is negative, the function returns the negation of the number to obtain the absolute value.\n",
        "\n",
        "If the number is non-negative, the function returns the original number since the absolute value of a non-negative number is the number itself.\n",
        "\n",
        "The user is prompted to enter a number, and the function is called with the entered number.\n",
        "The result is printed.\n"
      ]
    },
    {
      "cell_type": "markdown",
      "id": "9afa753d-4b71-4fdc-a9ff-e290329c00c2",
      "metadata": {
        "id": "9afa753d-4b71-4fdc-a9ff-e290329c00c2"
      },
      "source": [
        "8. Develop a program that determines the largest of three given numbers using if-else statements."
      ]
    },
    {
      "cell_type": "code",
      "execution_count": null,
      "id": "c131008b-e27c-463d-8430-015e7125f7ce",
      "metadata": {
        "id": "c131008b-e27c-463d-8430-015e7125f7ce",
        "outputId": "c1ba391d-f129-48ae-ea79-f55bef038cb7"
      },
      "outputs": [
        {
          "name": "stdin",
          "output_type": "stream",
          "text": [
            "Enter the first number:  12.5\n",
            "Enter the second number:  9.5\n",
            "Enter the third number:  4.8\n"
          ]
        },
        {
          "name": "stdout",
          "output_type": "stream",
          "text": [
            "The largest of 12.5, 9.5, and 4.8 is: 12.5\n"
          ]
        }
      ],
      "source": [
        "# Take user input for three numbers\n",
        "num1 = float(input(\"Enter the first number: \"))\n",
        "num2 = float(input(\"Enter the second number: \"))\n",
        "num3 = float(input(\"Enter the third number: \"))\n",
        "\n",
        "# Determine the largest of three numbers\n",
        "if num1 >= num2 and num1 >= num3:\n",
        "    largest_num = num1\n",
        "elif num2 >= num1 and num2 >= num3:\n",
        "    largest_num = num2\n",
        "else:\n",
        "    largest_num = num3\n",
        "\n",
        "# Print the result\n",
        "print(f\"The largest of {num1}, {num2}, and {num3} is: {largest_num}\")"
      ]
    },
    {
      "cell_type": "markdown",
      "id": "2d25b4c0-8a56-4290-aad9-db651ce1a22a",
      "metadata": {
        "id": "2d25b4c0-8a56-4290-aad9-db651ce1a22a"
      },
      "source": [
        "The program prompts the user to enter three numbers, and the inputs are converted to floating-point numbers using float().\n",
        "\n",
        "The program uses if-else statements to compare the three numbers and determine which one is the largest.\n",
        "\n",
        "It checks three conditions: num1 >= num2 and num1 >= num3, num2 >= num1 and num2 >= num3, and the else statement for the case when neither of the previous conditions is true.\n",
        "\n",
        "The program prints the result indicating the largest of the three numbers."
      ]
    },
    {
      "cell_type": "markdown",
      "id": "9fa16ee7-b117-43d6-96ed-68a80e17168b",
      "metadata": {
        "id": "9fa16ee7-b117-43d6-96ed-68a80e17168b"
      },
      "source": [
        "9. Create a program that checks if a given string is a palindrome."
      ]
    },
    {
      "cell_type": "code",
      "execution_count": null,
      "id": "d2bba727-ac63-4e38-9346-0115e268e633",
      "metadata": {
        "id": "d2bba727-ac63-4e38-9346-0115e268e633",
        "outputId": "34671314-2a2e-483e-f636-066b172c1b5f"
      },
      "outputs": [
        {
          "name": "stdin",
          "output_type": "stream",
          "text": [
            "Enter a string:  \"A man a plan a canal Panama\"\n"
          ]
        },
        {
          "name": "stdout",
          "output_type": "stream",
          "text": [
            "The string '\"A man a plan a canal Panama\"' is a palindrome.\n"
          ]
        }
      ],
      "source": [
        "# Take user input for a string\n",
        "input_string = input(\"Enter a string: \")\n",
        "\n",
        "# Remove spaces and convert to lowercase for case-insensitive comparison\n",
        "cleaned_string = input_string.replace(\" \", \"\").lower()\n",
        "\n",
        "# Check if the cleaned string is a palindrome\n",
        "if cleaned_string == cleaned_string[::-1]:\n",
        "    print(f\"The string '{input_string}' is a palindrome.\")\n",
        "else:\n",
        "    print(f\"The string '{input_string}' is not a palindrome.\")"
      ]
    },
    {
      "cell_type": "markdown",
      "id": "ffd3bdea-7ec7-45de-8c86-c50d67e7d24e",
      "metadata": {
        "id": "ffd3bdea-7ec7-45de-8c86-c50d67e7d24e"
      },
      "source": [
        "The program prompts the user to enter a string.\n",
        "\n",
        "The spaces in the input string are removed using the replace method, and the string is converted to lowercase to perform a case-insensitive comparison.\n",
        "\n",
        "The program checks if the cleaned string is equal to its reverse.\n",
        "The [::-1] slice notation is used to reverse the string.\n",
        "\n",
        "The program prints the result indicating whether the original string is a palindrome or not.\n"
      ]
    },
    {
      "cell_type": "markdown",
      "id": "170cedb4-492f-4f3e-adda-54a0e6fb223b",
      "metadata": {
        "id": "170cedb4-492f-4f3e-adda-54a0e6fb223b"
      },
      "source": [
        "10. Write a Python program to calculate the grade based on a student's score."
      ]
    },
    {
      "cell_type": "code",
      "execution_count": null,
      "id": "c22b2600-0c85-4dd4-9b0d-4e276c2f68df",
      "metadata": {
        "id": "c22b2600-0c85-4dd4-9b0d-4e276c2f68df",
        "outputId": "1ecbd51d-c86a-4f18-b300-94dd42c0421b"
      },
      "outputs": [
        {
          "name": "stdin",
          "output_type": "stream",
          "text": [
            "Enter the student's score:  85\n"
          ]
        },
        {
          "name": "stdout",
          "output_type": "stream",
          "text": [
            "The student's grade is: B\n"
          ]
        }
      ],
      "source": [
        "# Take user input for the student's score\n",
        "score = float(input(\"Enter the student's score: \"))\n",
        "\n",
        "# Define grade ranges\n",
        "A_grade_range = (90, 100)\n",
        "B_grade_range = (80, 89.9)\n",
        "C_grade_range = (70, 79.9)\n",
        "D_grade_range = (60, 69.9)\n",
        "\n",
        "# Calculate the grade\n",
        "if score >= A_grade_range[0] and score <= A_grade_range[1]:\n",
        "    grade = 'A'\n",
        "elif score >= B_grade_range[0] and score <= B_grade_range[1]:\n",
        "    grade = 'B'\n",
        "elif score >= C_grade_range[0] and score <= C_grade_range[1]:\n",
        "    grade = 'C'\n",
        "elif score >= D_grade_range[0] and score <= D_grade_range[1]:\n",
        "    grade = 'D'\n",
        "else:\n",
        "    grade = 'F'\n",
        "\n",
        "# Print the result\n",
        "print(f\"The student's grade is: {grade}\")"
      ]
    },
    {
      "cell_type": "markdown",
      "id": "7d028b71-5bbe-4aa7-802a-91bfd2cfa387",
      "metadata": {
        "id": "7d028b71-5bbe-4aa7-802a-91bfd2cfa387"
      },
      "source": [
        "The program prompts the user to enter the student's score, and the input is converted to a floating-point number using float().\n",
        "\n",
        "Grade ranges are defined for A, B, C, and D grades.\n",
        "\n",
        "The program checks the score against each grade range using if-elif statements and assigns the corresponding grade.\n",
        "\n",
        "The program prints the result indicating the student's grade.\n"
      ]
    },
    {
      "cell_type": "markdown",
      "id": "caf3fc3c-1eeb-4aee-b5be-489a89121591",
      "metadata": {
        "id": "caf3fc3c-1eeb-4aee-b5be-489a89121591"
      },
      "source": [
        "Nested If-Else Statements:"
      ]
    },
    {
      "cell_type": "markdown",
      "id": "b4449ac7-325b-4b7d-bed9-b06fac8cab74",
      "metadata": {
        "id": "b4449ac7-325b-4b7d-bed9-b06fac8cab74"
      },
      "source": [
        "11. Write a program to find the largest among three numbers using nested if-else statements."
      ]
    },
    {
      "cell_type": "code",
      "execution_count": null,
      "id": "716706fe-4516-443f-8896-8eb6825663cb",
      "metadata": {
        "id": "716706fe-4516-443f-8896-8eb6825663cb",
        "outputId": "f4cb970e-d943-46e5-8e1f-076c06506f58"
      },
      "outputs": [
        {
          "name": "stdin",
          "output_type": "stream",
          "text": [
            "Enter the first number:  25\n",
            "Enter the second number:  18\n",
            "Enter the third number:  32\n"
          ]
        },
        {
          "name": "stdout",
          "output_type": "stream",
          "text": [
            "The largest among 25.0, 18.0, and 32.0 is: 32.0\n"
          ]
        }
      ],
      "source": [
        "# Take user input for three numbers\n",
        "num1 = float(input(\"Enter the first number: \"))\n",
        "num2 = float(input(\"Enter the second number: \"))\n",
        "num3 = float(input(\"Enter the third number: \"))\n",
        "\n",
        "# Find the largest among three numbers using nested if-else statements\n",
        "if num1 >= num2:\n",
        "    if num1 >= num3:\n",
        "        largest_num = num1\n",
        "    else:\n",
        "        largest_num = num3\n",
        "else:\n",
        "    if num2 >= num3:\n",
        "        largest_num = num2\n",
        "    else:\n",
        "        largest_num = num3\n",
        "\n",
        "# Print the result\n",
        "print(f\"The largest among {num1}, {num2}, and {num3} is: {largest_num}\")"
      ]
    },
    {
      "cell_type": "markdown",
      "id": "2c393e23-760a-4c51-b6a7-c1630d0729a6",
      "metadata": {
        "id": "2c393e23-760a-4c51-b6a7-c1630d0729a6"
      },
      "source": [
        "The program prompts the user to enter three numbers, and the inputs are converted to floating-point numbers using float().\n",
        "\n",
        "The program uses nested if-else statements to compare the three numbers and determine which one is the largest.\n",
        "The outer if-else statement compares num1 and num2. If num1 is greater or equal, it checks num3. If num1 is the largest, it assigns the value of num1 to largest_num. If not, it checks between num2 and num3 and assigns accordingly.\n",
        "\n",
        "The program prints the result indicating the largest among the three numbers.\n"
      ]
    },
    {
      "cell_type": "markdown",
      "id": "2a74a90f-c451-474f-82a9-9639d08f6f13",
      "metadata": {
        "id": "2a74a90f-c451-474f-82a9-9639d08f6f13"
      },
      "source": [
        "12. Implement a program to determine if a triangle is equilateral, isosceles, or scalene."
      ]
    },
    {
      "cell_type": "code",
      "execution_count": null,
      "id": "e7ebe2d0-74dc-432a-b68b-edfdb9ffcb86",
      "metadata": {
        "id": "e7ebe2d0-74dc-432a-b68b-edfdb9ffcb86",
        "outputId": "a327f584-a5e2-4ced-d7c9-3906e1bdec56"
      },
      "outputs": [
        {
          "name": "stdin",
          "output_type": "stream",
          "text": [
            "Enter the length of side 1:  4\n",
            "Enter the length of side 2:  4\n",
            "Enter the length of side 3:  4\n"
          ]
        },
        {
          "name": "stdout",
          "output_type": "stream",
          "text": [
            "The triangle with sides 4.0, 4.0, and 4.0 is a Equilateral triangle.\n"
          ]
        }
      ],
      "source": [
        "# Take user input for the three sides of the triangle\n",
        "side1 = float(input(\"Enter the length of side 1: \"))\n",
        "side2 = float(input(\"Enter the length of side 2: \"))\n",
        "side3 = float(input(\"Enter the length of side 3: \"))\n",
        "\n",
        "#Check if the input forms a valid triangle\n",
        "if side1 + side2 > side3 and side2 + side3 > side1 and side3 + side1 > side2:\n",
        "    # Determine the type of triangle\n",
        "    if side1 == side2 == side3:\n",
        "        triangle_type = \"Equilateral\"\n",
        "    elif side1 == side2 or side2 == side3 or side3 == side1:\n",
        "        triangle_type = \"Isosceles\"\n",
        "    else:\n",
        "        triangle_type = \"Scalene\"\n",
        "\n",
        "    # Print the result\n",
        "    print(f\"The triangle with sides {side1}, {side2}, and {side3} is a {triangle_type} triangle.\")\n",
        "else:\n",
        "    print(\"The input does not form a valid triangle.\")"
      ]
    },
    {
      "cell_type": "markdown",
      "id": "a53377bb-07fb-48af-9824-6e0e50e1c6af",
      "metadata": {
        "id": "a53377bb-07fb-48af-9824-6e0e50e1c6af"
      },
      "source": [
        "The program prompts the user to enter the lengths of the three sides of the triangle, and the inputs are converted to floating-point numbers using float().\n",
        "\n",
        "The program checks if the input values form a valid triangle based on the triangle inequality theorem.\n",
        "\n",
        "If the input forms a valid triangle, the program uses if-elif-else statements to determine the type of triangle based on side lengths.\n",
        "\n",
        "The program prints the result indicating the type of triangle."
      ]
    },
    {
      "cell_type": "markdown",
      "id": "57aaea66-1cd6-41a1-b9a6-8caf2bbd1d3e",
      "metadata": {
        "id": "57aaea66-1cd6-41a1-b9a6-8caf2bbd1d3e"
      },
      "source": [
        "13. Develop a program that checks if a year is a leap year and also if it is a century year."
      ]
    },
    {
      "cell_type": "code",
      "execution_count": null,
      "id": "8f395827-637b-43a0-a0a8-49ab26ed4d6d",
      "metadata": {
        "id": "8f395827-637b-43a0-a0a8-49ab26ed4d6d",
        "outputId": "213c80f3-39d9-41e6-8ec9-7147bdcc2bbe"
      },
      "outputs": [
        {
          "name": "stdin",
          "output_type": "stream",
          "text": [
            "Enter a year:  2023\n"
          ]
        },
        {
          "name": "stdout",
          "output_type": "stream",
          "text": [
            "2023 is neither a leap year nor a century year.\n"
          ]
        }
      ],
      "source": [
        "# Take user input for a year\n",
        "year = int(input(\"Enter a year: \"))\n",
        "\n",
        "# Check if it's a leap year\n",
        "if (year % 4 == 0 and year % 100 != 0) or (year % 400 == 0):\n",
        "    is_leap_year = True\n",
        "else:\n",
        "    is_leap_year = False\n",
        "\n",
        "# Check if it's a century year\n",
        "is_century_year = year % 100 == 0\n",
        "\n",
        "# Print the results\n",
        "if is_leap_year and is_century_year:\n",
        "    print(f\"{year} is a leap year and a century year.\")\n",
        "elif is_leap_year:\n",
        "    print(f\"{year} is a leap year but not a century year.\")\n",
        "elif is_century_year:\n",
        "    print(f\"{year} is a century year but not a leap year.\")\n",
        "else:\n",
        "    print(f\"{year} is neither a leap year nor a century year.\")\n"
      ]
    },
    {
      "cell_type": "markdown",
      "id": "04116808-3bcb-4b70-8e82-3ced018cba4c",
      "metadata": {
        "id": "04116808-3bcb-4b70-8e82-3ced018cba4c"
      },
      "source": [
        "The program prompts the user to enter a year, and the input is converted to an integer using int().\n",
        "\n",
        "The program checks if the year is a leap year using the conditions for leap years: divisible by 4, not divisible by 100 unless also divisible by 400.\n",
        "\n",
        "The program checks if the year is a century year, which means it's divisible by 100.\n",
        "\n",
        "The program prints the result based on whether the year is a leap year, a century year, or both.\n",
        "\n"
      ]
    },
    {
      "cell_type": "markdown",
      "id": "cfb03e4e-eb62-47cf-96bb-d860ab3fbaa1",
      "metadata": {
        "id": "cfb03e4e-eb62-47cf-96bb-d860ab3fbaa1"
      },
      "source": [
        "14. Write a Python script to determine if a number is positive, negative, or zero."
      ]
    },
    {
      "cell_type": "code",
      "execution_count": null,
      "id": "3ca33094-60d6-4519-a16f-cc455e80cb5f",
      "metadata": {
        "id": "3ca33094-60d6-4519-a16f-cc455e80cb5f",
        "outputId": "4195af27-c681-4817-9248-8baaa304784b"
      },
      "outputs": [
        {
          "name": "stdin",
          "output_type": "stream",
          "text": [
            "Enter a number:  9.5\n"
          ]
        },
        {
          "name": "stdout",
          "output_type": "stream",
          "text": [
            "9.5 is a positive number.\n"
          ]
        }
      ],
      "source": [
        "# Take user input for a number\n",
        "number = float(input(\"Enter a number: \"))\n",
        "\n",
        "# Determine if the number is positive, negative, or zero\n",
        "if number > 0:\n",
        "    print(f\"{number} is a positive number.\")\n",
        "elif number < 0:\n",
        "    print(f\"{number} is a negative number.\")\n",
        "else:\n",
        "    print(\"The number is zero.\")"
      ]
    },
    {
      "cell_type": "markdown",
      "id": "53c6aaff-633e-4de8-a7c9-62f3b424f12a",
      "metadata": {
        "id": "53c6aaff-633e-4de8-a7c9-62f3b424f12a"
      },
      "source": [
        "The program prompts the user to enter a number, and the input is converted to a floating-point number using float().\n",
        "\n",
        "If the number is greater than 0, the program prints that it is a positive number.\n",
        "\n",
        "If the number is less than 0, the program prints that it is a negative number.\n",
        "\n",
        "If the number is neither positive nor negative (i.e., it's equal to 0), the program prints that the number is zero.\n",
        "                                                                            "
      ]
    },
    {
      "cell_type": "markdown",
      "id": "d6595e8d-bc0b-4de1-86ac-c4a362116b8d",
      "metadata": {
        "id": "d6595e8d-bc0b-4de1-86ac-c4a362116b8d"
      },
      "source": [
        "15. Create a program to check if a person is a teenager (between 13 and 19 years old)."
      ]
    },
    {
      "cell_type": "code",
      "execution_count": null,
      "id": "2f725c2a-c9ad-4fb9-abab-bf4212d5eb14",
      "metadata": {
        "id": "2f725c2a-c9ad-4fb9-abab-bf4212d5eb14",
        "outputId": "60c894d3-fb15-4943-80ef-8fbdf7f75f35"
      },
      "outputs": [
        {
          "name": "stdin",
          "output_type": "stream",
          "text": [
            "Enter the person's age:  20\n"
          ]
        },
        {
          "name": "stdout",
          "output_type": "stream",
          "text": [
            "The person is not a teenager.\n"
          ]
        }
      ],
      "source": [
        "# Take user input for age\n",
        "age = int(input(\"Enter the person's age: \"))\n",
        "\n",
        "# Check if the person is a teenager using nested if-else statements\n",
        "if age >= 13:\n",
        "    if age <= 19:\n",
        "        print(\"The person is a teenager.\")\n",
        "    else:\n",
        "        print(\"The person is not a teenager.\")\n",
        "else:\n",
        "    print(\"The person is not a teenager.\")"
      ]
    },
    {
      "cell_type": "markdown",
      "id": "44000671-40dc-4a7b-8a92-d697955177eb",
      "metadata": {
        "id": "44000671-40dc-4a7b-8a92-d697955177eb"
      },
      "source": [
        "The program prompts the user to enter the age of the person, and the input is converted to an integer using int().\n",
        "\n",
        "The program uses nested if-else statements to check if the age falls within the range of 13 to 19 (inclusive). If so, it prints that the person is a teenager. If not, it prints that the person is not a teenager.\n",
        "\n",
        "\n"
      ]
    },
    {
      "cell_type": "markdown",
      "id": "c988e412-4ead-4240-bd32-e134f9972b86",
      "metadata": {
        "id": "c988e412-4ead-4240-bd32-e134f9972b86"
      },
      "source": [
        "16. Develop a program that determines the type of angle based on its measure (acute, obtuse, or right)."
      ]
    },
    {
      "cell_type": "code",
      "execution_count": null,
      "id": "ad8232e4-cbde-44df-9ab6-c2aee0554e63",
      "metadata": {
        "id": "ad8232e4-cbde-44df-9ab6-c2aee0554e63",
        "outputId": "d3d464b4-d0d2-49d1-8782-cfb5d64e3a4e"
      },
      "outputs": [
        {
          "name": "stdin",
          "output_type": "stream",
          "text": [
            "Enter the angle measure in degrees:  50\n"
          ]
        },
        {
          "name": "stdout",
          "output_type": "stream",
          "text": [
            "The angle with measure 50.0 degrees is a Acute angle.\n"
          ]
        }
      ],
      "source": [
        "# Take user input for the angle measure\n",
        "angle_measure = float(input(\"Enter the angle measure in degrees: \"))\n",
        "\n",
        "# Determine the type of angle using nested if-else statements\n",
        "if angle_measure > 0:\n",
        "    if angle_measure < 90:\n",
        "        angle_type = \"Acute\"\n",
        "    elif angle_measure == 90:\n",
        "        angle_type = \"Right\"\n",
        "    else:\n",
        "        angle_type = \"Obtuse\"\n",
        "    print(f\"The angle with measure {angle_measure} degrees is a {angle_type} angle.\")\n",
        "else:\n",
        "    print(\"Please enter a valid positive angle measure.\")\n"
      ]
    },
    {
      "cell_type": "markdown",
      "id": "a6b9fb78-3ca9-462e-a915-771132c21c16",
      "metadata": {
        "id": "a6b9fb78-3ca9-462e-a915-771132c21c16"
      },
      "source": [
        "The program prompts the user to enter the angle measure, and the input is converted to a floating-point number using float().\n",
        "\n",
        "The program uses nested if-else statements to determine the type of angle based on its measure:\n",
        " If the angle is greater than 0 and less than 90, it's acute.\n",
        " If the angle is exactly 90, it's right.\n",
        " If the angle is greater than 90, it's obtuse.\n",
        "\n",
        "If the angle is not a valid positive measure, it prompts the user to enter a valid angle.\n",
        "\n",
        "\n"
      ]
    },
    {
      "cell_type": "markdown",
      "id": "b11a9c52-4436-44b7-b9f1-c1b8b88da456",
      "metadata": {
        "id": "b11a9c52-4436-44b7-b9f1-c1b8b88da456"
      },
      "source": [
        "17. Write a Python program to calculate the roots of a quadratic equation."
      ]
    },
    {
      "cell_type": "code",
      "execution_count": null,
      "id": "2bac9903-1c6f-4cb3-8e6e-2b63c20b6a53",
      "metadata": {
        "id": "2bac9903-1c6f-4cb3-8e6e-2b63c20b6a53",
        "outputId": "ea0f9da0-438b-4a16-8be6-549ac5defc04"
      },
      "outputs": [
        {
          "name": "stdin",
          "output_type": "stream",
          "text": [
            "Enter the coefficient 'a':  1\n",
            "Enter the coefficient 'b':  -3\n",
            "Enter the coefficient 'c':  2\n"
          ]
        },
        {
          "name": "stdout",
          "output_type": "stream",
          "text": [
            "The roots are real and discinct: Root 1 = 2.0, Root 2 = 1.0\n"
          ]
        }
      ],
      "source": [
        "import math\n",
        "\n",
        "# Take user input for coefficients\n",
        "a = float(input(\"Enter the coefficient 'a': \"))\n",
        "b = float(input(\"Enter the coefficient 'b': \"))\n",
        "c = float(input(\"Enter the coefficient 'c': \"))\n",
        "\n",
        "# Calculate the discriminant\n",
        "discriminant = b**2 - 4*a*c\n",
        "\n",
        "# Check the nature of the roots using nested if-else statements\n",
        "if discriminant > 0:\n",
        "    # Two real and discinct roots\n",
        "    root1 = (-b + math.sqrt(discriminant)) / (2*a)\n",
        "    root2 = (-b - math.sqrt(discriminant)) / (2*a)\n",
        "    print(f\"The roots are real and discinct: Root 1 = {root1}, Root 2 = {root2}\")\n",
        "elif discriminant == 0:\n",
        "    # Two real and equal roots\n",
        "    root = -b / (2*a)\n",
        "    print(f\"The roots are real and equal: Root 1 = Root 2 = {root}\")\n",
        "else:\n",
        "    # Complex roots\n",
        "    real_part = -b / (2*a)\n",
        "    imaginary_part = math.sqrt(abs(discriminant)) / (2*a)\n",
        "    root1 = complex(real_part, imaginary_part)\n",
        "    root2 = complex(real_part, -imaginary_part)\n",
        "    print(f\"The roots are complex: Root1 = {root1}, Root 2 = {root2}\")"
      ]
    },
    {
      "cell_type": "markdown",
      "id": "56ade862-7cd3-4fa9-bdfe-8e3c01f91943",
      "metadata": {
        "id": "56ade862-7cd3-4fa9-bdfe-8e3c01f91943"
      },
      "source": [
        "The program prompts the user to enter the coefficients of the quadratic equation (a, b, and c), and the inputs are converted to floating-point numbers using float().\n",
        "\n",
        "The program calculates the discriminant using the formula b^2 - 4ac.\n",
        "\n",
        "The program uses nested if-else statements to check the nature of the roots based on the value of the discriminant.\n",
        "\n",
        "In each branch of the nested if-else statements, the program calculates and prints the roots accordingly.\n"
      ]
    },
    {
      "cell_type": "markdown",
      "id": "b4f2a782-8c5f-4d2f-ab1b-0ee22b2e58a8",
      "metadata": {
        "id": "b4f2a782-8c5f-4d2f-ab1b-0ee22b2e58a8"
      },
      "source": [
        "18. Implement a program to determine the day of the week based on a user-provided number (1 for Monday, 2\n",
        "for Tuesday, etc.)."
      ]
    },
    {
      "cell_type": "code",
      "execution_count": null,
      "id": "7b3e1f7e-81a8-4e2c-a117-6a089e050adc",
      "metadata": {
        "id": "7b3e1f7e-81a8-4e2c-a117-6a089e050adc",
        "outputId": "6a4bef5a-638d-4298-96bb-8e505cbe83ed"
      },
      "outputs": [
        {
          "name": "stdin",
          "output_type": "stream",
          "text": [
            "Enter a number (1 for Monday, 2 for Tuesday, etc.):  4\n"
          ]
        },
        {
          "name": "stdout",
          "output_type": "stream",
          "text": [
            "The day corresponding to the number 4 is: Thursday\n"
          ]
        }
      ],
      "source": [
        "# Take user input for the day number\n",
        "day_number = int(input(\"Enter a number (1 for Monday, 2 for Tuesday, etc.): \"))\n",
        "\n",
        "# Determine the day of the week using nested if-else statements\n",
        "if day_number == 1:\n",
        "    day_name = \"Monday\"\n",
        "elif day_number == 2:\n",
        "    day_name = \"Tuesday\"\n",
        "elif day_number == 3:\n",
        "    day_name = \"Wednesday\"\n",
        "elif day_number == 4:\n",
        "    day_name = \"Thursday\"\n",
        "elif day_number == 5:\n",
        "    day_name = \"Friday\"\n",
        "elif day_number == 6:\n",
        "    day_name = \"Saturday\"\n",
        "elif day_number == 7:\n",
        "    day_name = \"Sunday\"\n",
        "else:\n",
        "    day_name = \"Invalid input. Please enter a number between 1 and 7.\"\n",
        "\n",
        "# Print the day of the week\n",
        "print(f\"The day corresponding to the number {day_number} is: {day_name}\")\n"
      ]
    },
    {
      "cell_type": "markdown",
      "id": "b795dc95-094b-485d-9a9d-6dc602713d0b",
      "metadata": {
        "id": "b795dc95-094b-485d-9a9d-6dc602713d0b"
      },
      "source": [
        "The program prompts the user to enter a number representing a day of the week, and the input is converted to an integer using int().\n",
        "\n",
        "The program uses nested if-else statements to determine the day of the week based on the user-provided number.\n",
        "\n",
        "The program prints the determined day of the week.\n",
        "\n",
        "\n"
      ]
    },
    {
      "cell_type": "markdown",
      "id": "fada18e3-2dfa-4c3c-b5b4-d8405105f60e",
      "metadata": {
        "id": "fada18e3-2dfa-4c3c-b5b4-d8405105f60e"
      },
      "source": [
        "19. Create a program that determines if a year is a leap year and also if it is evenly divisible by 400."
      ]
    },
    {
      "cell_type": "code",
      "execution_count": null,
      "id": "1184b1fa-8a99-481e-aeb9-55ea1e514970",
      "metadata": {
        "id": "1184b1fa-8a99-481e-aeb9-55ea1e514970",
        "outputId": "6f27115b-b2a5-4857-d51a-9cb975c8b255"
      },
      "outputs": [
        {
          "name": "stdin",
          "output_type": "stream",
          "text": [
            "Enter a year:  2024\n"
          ]
        },
        {
          "name": "stdout",
          "output_type": "stream",
          "text": [
            "2024 is a leap year.\n"
          ]
        }
      ],
      "source": [
        "# Take user input for the year\n",
        "year = int(input(\"Enter a year: \"))\n",
        "\n",
        "# Check if it's a leap year usin nested if-else statements\n",
        "if (year % 4 == 0 and year % 100 != 0) or (year % 400 == 0):\n",
        "    print(f\"{year} is a leap year.\")\n",
        "else:\n",
        "    print(f\"{year} is not a leap year.\")"
      ]
    },
    {
      "cell_type": "markdown",
      "id": "2e4702db-50cd-41ed-b6dc-ec3f702b4c6e",
      "metadata": {
        "id": "2e4702db-50cd-41ed-b6dc-ec3f702b4c6e"
      },
      "source": [
        "The program prompts the user to enter a year, and the input is converted to an integer using int().\n",
        "\n",
        "The program uses nested if-else statements to check if the year is a leap year.\n",
        "A leap year is either:\n",
        "   Divisible by 4 and not divisible by 100, or\n",
        "   Divisible by 400.\n",
        "    \n",
        "The program prints whether the entered year is a leap year or not."
      ]
    },
    {
      "cell_type": "markdown",
      "id": "a549ec9f-a1e1-4a70-a2f3-3ea2a39eccad",
      "metadata": {
        "id": "a549ec9f-a1e1-4a70-a2f3-3ea2a39eccad"
      },
      "source": [
        "20. Develop a program that checks if a given number is prime or not using nested if-else statements."
      ]
    },
    {
      "cell_type": "code",
      "execution_count": null,
      "id": "e706905f-1dbb-4dc5-8e0a-c5e7a116766b",
      "metadata": {
        "id": "e706905f-1dbb-4dc5-8e0a-c5e7a116766b",
        "outputId": "343bafe3-866a-456a-e904-73a2ec6638e0"
      },
      "outputs": [
        {
          "name": "stdin",
          "output_type": "stream",
          "text": [
            "Enter a number:  7\n"
          ]
        },
        {
          "name": "stdout",
          "output_type": "stream",
          "text": [
            "7 is a prime number.\n"
          ]
        }
      ],
      "source": [
        "# Take user input for the number\n",
        "num = int(input(\"Enter a number: \"))\n",
        "\n",
        "# Check if the number is prime using nested if-else statements\n",
        "if num > 1:\n",
        "    # Check for factors\n",
        "    for i in range(2, int(num**0.5) + 1):\n",
        "        if num % i == 0:\n",
        "            print(f\"{num} is not a prime number.\")\n",
        "            break\n",
        "    else:\n",
        "        print(f\"{num} is a prime number.\")\n",
        "else:\n",
        "    print(f\"{num} is not a prime number.\")\n"
      ]
    },
    {
      "cell_type": "markdown",
      "id": "a53944a4-44ba-49bd-b196-a62e5d97d96c",
      "metadata": {
        "id": "a53944a4-44ba-49bd-b196-a62e5d97d96c"
      },
      "source": [
        "The program prompts the user to enter a number, and the input is converted to an integer using int().\n",
        "\n",
        "The program uses nested if-else statements to check if the number is a prime number.\n",
        "\n",
        "If the number is greater than 1, it checks for factors up to the square root of the number.\n",
        "\n",
        "If it finds any factor, it prints that the number is not prime. Otherwise, it prints that the number is prime."
      ]
    },
    {
      "cell_type": "markdown",
      "id": "f738e560-6e43-4bfc-8352-c08d32673607",
      "metadata": {
        "id": "f738e560-6e43-4bfc-8352-c08d32673607"
      },
      "source": [
        "Elif Statements:"
      ]
    },
    {
      "cell_type": "markdown",
      "id": "af4c180f-4004-45b0-b2d1-3e5d7714bb63",
      "metadata": {
        "id": "af4c180f-4004-45b0-b2d1-3e5d7714bb63"
      },
      "source": [
        "21. Write a Python program to assign grades based on different ranges of scores using elif statements."
      ]
    },
    {
      "cell_type": "code",
      "execution_count": null,
      "id": "23c3153a-a96d-493c-a8be-4cf2323fa57a",
      "metadata": {
        "id": "23c3153a-a96d-493c-a8be-4cf2323fa57a",
        "outputId": "64066b16-4c98-400c-a84f-29d8f022bfc3"
      },
      "outputs": [
        {
          "name": "stdin",
          "output_type": "stream",
          "text": [
            "Enter the score:  78\n"
          ]
        },
        {
          "name": "stdout",
          "output_type": "stream",
          "text": [
            "The grade for a score of 78.0 is: C\n"
          ]
        }
      ],
      "source": [
        "def assign_grade(score):\n",
        "    if 90 <= score <= 100:\n",
        "        return 'A'\n",
        "    elif 80 <= score <=  90:\n",
        "        return 'B'\n",
        "    elif 70 <= score <= 80:\n",
        "        return 'C'\n",
        "    elif 60 <= score <= 70:\n",
        "        return 'D'\n",
        "    elif 0 <= score < 60:\n",
        "        return 'F'\n",
        "    else:\n",
        "        return 'Invalid score, please enter a score between 0  and 100.'\n",
        "\n",
        "def main():\n",
        "    try:\n",
        "        score = float(input(\"Enter the score: \"))\n",
        "        if 0 <= score <= 100:\n",
        "            grade = assign_grade(score)\n",
        "            print(f\"The grade for a score of {score} is: {grade}\")\n",
        "        else:\n",
        "            print(\"Invalid score, please enter a score between 0 and 100.\")\n",
        "    except ValueError:\n",
        "        print(\"Invalid input. Please enter a numeric score.\")\n",
        "\n",
        "if __name__ == \"__main__\":\n",
        "    main()"
      ]
    },
    {
      "cell_type": "markdown",
      "id": "c8de7382-2910-41bb-9fdd-4ae68107d92e",
      "metadata": {
        "id": "c8de7382-2910-41bb-9fdd-4ae68107d92e"
      },
      "source": [
        "The assign_grade function takes a numerical score as input and returns the corresponding grade based on different score ranges.\n",
        "\n",
        "The main function prompts the user to enter a score, converts it to a float, and then calls the assign_grade function.\n",
        "\n",
        "elif statements are used to define different score ranges and their corresponding grades.\n",
        "\n",
        "The program uses exception handling to handle cases where the user enters invalid input (e.g., non-numeric values).\n",
        "\n",
        "Run the program, enter a score, and it will display the corresponding grade based on the defined score ranges."
      ]
    },
    {
      "cell_type": "markdown",
      "id": "d4c229f6-9a61-434c-a0ef-7b3516141ef4",
      "metadata": {
        "id": "d4c229f6-9a61-434c-a0ef-7b3516141ef4"
      },
      "source": [
        "22. Implement a program to determine the type of a triangle based on its angles."
      ]
    },
    {
      "cell_type": "code",
      "execution_count": null,
      "id": "fb58fb5a-c5f4-42ed-a2a9-b4c16cf9c6f8",
      "metadata": {
        "id": "fb58fb5a-c5f4-42ed-a2a9-b4c16cf9c6f8",
        "outputId": "c17495fd-fe4f-464b-a3ae-1a2e606bd2b3"
      },
      "outputs": [
        {
          "name": "stdin",
          "output_type": "stream",
          "text": [
            "Enter the first angle of the triangle:  70\n",
            "Enter the second angle of the triangle:  50\n",
            "Enter the third angle of the triangle:  45\n"
          ]
        },
        {
          "name": "stdout",
          "output_type": "stream",
          "text": [
            "The triangle is a Invalid Triangle: The sum of angles must be 180 degrees.\n"
          ]
        }
      ],
      "source": [
        "def determine_triangle_type(angle1, angle2, angle3):\n",
        "    if angle1 + angle2 + angle3 == 180:\n",
        "        if angle1 == 90 or angle2 == 90 or angle3 == 90:\n",
        "            return \"Right-angled Triangle\"\n",
        "        elif angle1 < 90 and angle2 < 90 and angle3 < 90:\n",
        "            return \"Actue-angled Triangle\"\n",
        "        else:\n",
        "            return \"Obtuse-angled Triangle\"\n",
        "    else:\n",
        "        return \"Invalid Triangle: The sum of angles must be 180 degrees.\"\n",
        "\n",
        "def main():\n",
        "    try:\n",
        "        angle1 = float(input(\"Enter the first angle of the triangle: \"))\n",
        "        angle2 = float(input(\"Enter the second angle of the triangle: \"))\n",
        "        angle3 = float(input(\"Enter the third angle of the triangle: \"))\n",
        "\n",
        "        triangle_type = determine_triangle_type(angle1, angle2, angle3)\n",
        "        print(f\"The triangle is a {triangle_type}\")\n",
        "    except ValueError:\n",
        "        print(\"Invalid input. Please enter numeric values for angles.\")\n",
        "\n",
        "if __name__ == \"__main__\":\n",
        "    main()"
      ]
    },
    {
      "cell_type": "markdown",
      "id": "7a0fb8f8-1c1b-4981-9660-0cf292ab5198",
      "metadata": {
        "id": "7a0fb8f8-1c1b-4981-9660-0cf292ab5198"
      },
      "source": [
        "The determine_triangle_type function takes three angles of a triangle as input and determines the type of the triangle based on its angles.\n",
        "\n",
        "It checks if the sum of angles is 180 degrees and then categorizes the triangle as right-angled, acute-angled, or obtuse-angled.\n",
        "\n",
        "The main function takes user input for the three angles and calls the determine_triangle_type function.\n",
        "\n",
        "The program uses exception handling to handle cases where the user enters invalid input (e.g., non-numeric values).\n",
        "\n",
        "Run the program, enter the angles of the triangle, and it will display the type of the triangle based on its angles.\n"
      ]
    },
    {
      "cell_type": "markdown",
      "id": "40d0206c-935f-455a-8739-74f9de010662",
      "metadata": {
        "id": "40d0206c-935f-455a-8739-74f9de010662"
      },
      "source": [
        "23. Develop a program to categorize a given person's BMI into underweight, normal, overweight, or obese using\n",
        "elif statements."
      ]
    },
    {
      "cell_type": "code",
      "execution_count": null,
      "id": "2520cd0f-799c-456c-8348-fe8417267808",
      "metadata": {
        "id": "2520cd0f-799c-456c-8348-fe8417267808",
        "outputId": "8189f179-0106-48bc-cbd0-adbe9d25f6d9"
      },
      "outputs": [
        {
          "name": "stdin",
          "output_type": "stream",
          "text": [
            "Enter your weight in kilograms:  65\n",
            "Enter your height in meters:  1.64592\n"
          ]
        },
        {
          "name": "stdout",
          "output_type": "stream",
          "text": [
            "\n",
            "Your BMI is: 23.99\n",
            "You are categorized as: Normal weight\n"
          ]
        }
      ],
      "source": [
        "def calculate_bmi(weight, height):\n",
        "    \"\"\"\n",
        "    Calculate Body Mass Index (BMI) using the formula: BMI = weight(kg) / (height(m) ** 2)\n",
        "    \"\"\"\n",
        "    return weight / (height ** 2)\n",
        "\n",
        "def categorize_bmi(bmi):\n",
        "    \"\"\"\n",
        "    Categorize BMI into underweight, normal, overweight, or obese\n",
        "    \"\"\"\n",
        "    if bmi < 18.5:\n",
        "        return \"Underweight\"\n",
        "    elif 18.5 <= bmi < 24.9:\n",
        "        return \"Normal weight\"\n",
        "    elif 25 <= bmi < 29.9:\n",
        "        return \"Overweight\"\n",
        "    else:\n",
        "        return \"Obese\"\n",
        "\n",
        "def main():\n",
        "    try:\n",
        "        weight = float(input(\"Enter your weight in kilograms: \"))\n",
        "        height = float(input(\"Enter your height in meters: \"))\n",
        "\n",
        "        if weight <= 0 or height <= 0:\n",
        "            print(\"Invalid input. Weight and height must be positive numbers.\")\n",
        "            return\n",
        "\n",
        "        bmi = calculate_bmi(weight, height)\n",
        "        category = categorize_bmi(bmi)\n",
        "\n",
        "        print(f\"\\nYour BMI is: {bmi:.2f}\")\n",
        "        print(f\"You are categorized as: {category}\")\n",
        "\n",
        "    except ValueError:\n",
        "        print(\"Invalid input. Please enter valid numeric values.\")\n",
        "\n",
        "if __name__ == \"__main__\":\n",
        "    main()\n",
        "\n",
        "\n",
        "\n"
      ]
    },
    {
      "cell_type": "markdown",
      "id": "0d733f93-3e28-4aa2-88d3-bd92c21c9e8d",
      "metadata": {
        "id": "0d733f93-3e28-4aa2-88d3-bd92c21c9e8d"
      },
      "source": [
        "The calculate_bmi function calculates the BMI using the formula BMI = weight(kg) / (height(m)^2.\n",
        "\n",
        "\n",
        "The categorize_bmi function categorizes the BMI into underweight, normal weight, overweight, or obese based on predefined ranges.\n",
        "\n",
        "The main function takes user input for weight and height, calculates BMI, and displays the BMI category.\n",
        "\n",
        "The program uses exception handling to handle cases where the user enters invalid input (e.g., non-numeric values, negative values).\n",
        "\n",
        "Run the program, enter the weight and height, and it will display the calculated BMI and the corresponding BMI category.\n",
        "  "
      ]
    },
    {
      "cell_type": "markdown",
      "id": "1016e387-49f1-48dc-beab-f68bc013044e",
      "metadata": {
        "id": "1016e387-49f1-48dc-beab-f68bc013044e"
      },
      "source": [
        "24. Create a program that determines whether a given number is positive, negative, or zero using elif\n",
        "statements."
      ]
    },
    {
      "cell_type": "code",
      "execution_count": null,
      "id": "e91af792-962e-464d-a007-3b3f187356e9",
      "metadata": {
        "id": "e91af792-962e-464d-a007-3b3f187356e9",
        "outputId": "105d6ec0-8b01-4369-b902-b2bab76f9257"
      },
      "outputs": [
        {
          "name": "stdin",
          "output_type": "stream",
          "text": [
            "Enter a number:  -98\n"
          ]
        },
        {
          "name": "stdout",
          "output_type": "stream",
          "text": [
            "The number is Negative.\n"
          ]
        }
      ],
      "source": [
        "def classify_number(number):\n",
        "    if number > 0:\n",
        "        return \"Positive\"\n",
        "    elif number < 0:\n",
        "        return \"Negative\"\n",
        "    else:\n",
        "        return \"Zero\"\n",
        "\n",
        "def main():\n",
        "    try:\n",
        "        number = float(input(\"Enter a number: \"))\n",
        "        classification = classify_number(number)\n",
        "        print(f\"The number is {classification}.\")\n",
        "    except ValueError:\n",
        "        print(\"Invalid input. Please enter a numeric value.\")\n",
        "\n",
        "if __name__ == \"__main__\":\n",
        "    main()"
      ]
    },
    {
      "cell_type": "markdown",
      "id": "38a7a0f7-d9c7-4a23-84cb-1aad795951ac",
      "metadata": {
        "id": "38a7a0f7-d9c7-4a23-84cb-1aad795951ac"
      },
      "source": [
        "The classify_number function takes a number as input and uses elif statements to classify it as positive, negative, or zero.\n",
        "\n",
        "The main function takes user input for a number, converts it to a float, and then calls the classify_number function.\n",
        "\n",
        "The program uses exception handling to handle cases where the user enters invalid input (e.g., non-numeric values).\n",
        "\n",
        "Run the program, enter a number, and it will display whether the number is positive, negative, or zero."
      ]
    },
    {
      "cell_type": "markdown",
      "id": "ba50d9d8-452f-4a7d-b0ae-c7f6ffb3a1f7",
      "metadata": {
        "id": "ba50d9d8-452f-4a7d-b0ae-c7f6ffb3a1f7"
      },
      "source": [
        "25. Write a Python script to determine the type of a character (uppercase, lowercase, or special) using elif\n",
        "statements."
      ]
    },
    {
      "cell_type": "code",
      "execution_count": null,
      "id": "327a7074-4e5a-4f6f-a7cd-e81c4886fce3",
      "metadata": {
        "id": "327a7074-4e5a-4f6f-a7cd-e81c4886fce3",
        "outputId": "08960a9a-200c-4894-9555-49d516f94bfb"
      },
      "outputs": [
        {
          "name": "stdin",
          "output_type": "stream",
          "text": [
            "Enter a character:  Gayatri\n"
          ]
        },
        {
          "name": "stdout",
          "output_type": "stream",
          "text": [
            "Invalid input. Please eneter a single character.\n"
          ]
        }
      ],
      "source": [
        "def classify_character(char):\n",
        "    if char.isupper():\n",
        "        return \"Uppercase\"\n",
        "    elif char.islower():\n",
        "        return \"Lowercase\"\n",
        "    else:\n",
        "        return \"Special Character\"\n",
        "\n",
        "def main():\n",
        "    try:\n",
        "        char = input(\"Enter a character: \")\n",
        "\n",
        "        if len(char) == 1:\n",
        "            classification = classify_character(char)\n",
        "            print(f\"The character '{char}' is {classification}.\")\n",
        "        else:\n",
        "            print(\"Invalid input. Please eneter a single character.\")\n",
        "    except ValueError:\n",
        "        print(\"Invalid input. Please enter a valid character.\")\n",
        "\n",
        "if __name__ == \"__main__\":\n",
        "    main()"
      ]
    },
    {
      "cell_type": "markdown",
      "id": "b72a1dad-cf8e-46ac-8f2f-d714195b50bf",
      "metadata": {
        "id": "b72a1dad-cf8e-46ac-8f2f-d714195b50bf"
      },
      "source": [
        "The classify_character function takes a character as input and uses elif statements to classify it as uppercase, lowercase, or special.\n",
        "\n",
        "The main function takes user input for a character and calls the classify_character function.\n",
        "\n",
        "The program checks if the input is a single character before proceeding with classification.\n",
        "\n",
        "Run the program, enter a character, and it will display the type of the character (uppercase, lowercase, or special)."
      ]
    },
    {
      "cell_type": "markdown",
      "id": "e0d37018-1e20-4f10-85d1-5cb9bdbac870",
      "metadata": {
        "id": "e0d37018-1e20-4f10-85d1-5cb9bdbac870"
      },
      "source": [
        "26. Implement a program to calculate the discounted price based on different purchase amounts using elif\n",
        "statements."
      ]
    },
    {
      "cell_type": "code",
      "execution_count": null,
      "id": "457182cc-0be0-4adf-9a64-12d6350a6844",
      "metadata": {
        "id": "457182cc-0be0-4adf-9a64-12d6350a6844",
        "outputId": "8a6d7271-8a17-4529-dac9-9f8924a199d9"
      },
      "outputs": [
        {
          "name": "stdin",
          "output_type": "stream",
          "text": [
            "Enter the purchase amount:  5000\n"
          ]
        },
        {
          "name": "stdout",
          "output_type": "stream",
          "text": [
            "The discounted price is: $4500.00\n"
          ]
        }
      ],
      "source": [
        "def calculate_discounted_price(purchase_amount):\n",
        "    if purchase_amount >= 1000:\n",
        "        discount_percentage = 10\n",
        "    elif purchase_amount >= 500:\n",
        "        discount_percentage = 5\n",
        "    else:\n",
        "        discount_percentage = 0\n",
        "\n",
        "    discount = (discount_percentage / 100) * purchase_amount\n",
        "    discounted_price = purchase_amount - discount\n",
        "\n",
        "    return discounted_price\n",
        "\n",
        "def main():\n",
        "    try:\n",
        "        purchase_amount = float(input(\"Enter the purchase amount: \"))\n",
        "\n",
        "        if purchase_amount >= 0:\n",
        "            discounted_price = calculate_discounted_price(purchase_amount)\n",
        "            print(f\"The discounted price is: ${discounted_price:.2f}\")\n",
        "        else:\n",
        "            print(\"Invalid input. Purchase amount must be a non-negative number.\")\n",
        "    except ValueError:\n",
        "        print(\"Invalid input. Please enter a numeric value for the purchase amount.\")\n",
        "\n",
        "if __name__ == \"__main__\":\n",
        "    main()"
      ]
    },
    {
      "cell_type": "markdown",
      "id": "d9526be7-bb02-4401-a3ef-3e66b9dd4bcd",
      "metadata": {
        "id": "d9526be7-bb02-4401-a3ef-3e66b9dd4bcd"
      },
      "source": [
        "The calculate_discounted_price function takes a purchase amount as input and calculates the discounted price based on different discount percentages.\n",
        "\n",
        "elif statements are used to determine the discount percentage based on the purchase amount.\n",
        "\n",
        "The discounted price is calculated using the discount percentage.\n",
        "\n",
        "The main function takes user input for the purchase amount and calls the calculate_discounted_price function.\n",
        "\n",
        "The program uses exception handling to handle cases where the user enters invalid input (e.g., non-numeric values).\n",
        "\n",
        "Run the program, enter the purchase amount, and it will display the discounted price based on the defined discount percentages.\n",
        "\n",
        "\n",
        "\n",
        "\n",
        "\n"
      ]
    },
    {
      "cell_type": "markdown",
      "id": "96232818-40eb-4834-b02b-cdf722b97c14",
      "metadata": {
        "id": "96232818-40eb-4834-b02b-cdf722b97c14"
      },
      "source": [
        "27. Develop a program to calculate the electricity bill based on different consumption slabs using elif\n",
        "statements.\n"
      ]
    },
    {
      "cell_type": "code",
      "execution_count": null,
      "id": "35bab886-eab7-4b53-a4b0-fd8d466de14d",
      "metadata": {
        "id": "35bab886-eab7-4b53-a4b0-fd8d466de14d",
        "outputId": "9e3722ef-96f8-4aa9-8c6a-fc2eb800c750"
      },
      "outputs": [
        {
          "name": "stdin",
          "output_type": "stream",
          "text": [
            "Enter the units consumed:  10\n"
          ]
        },
        {
          "name": "stdout",
          "output_type": "stream",
          "text": [
            "The electricity bill is: $25.00\n"
          ]
        }
      ],
      "source": [
        "def calculate_electricity_bill(units_consumed):\n",
        "    if units_consumed <= 50:\n",
        "        rate_per_unit = 2.5\n",
        "    elif units_consumed <= 150:\n",
        "        rate_per_unit = 5.0\n",
        "    elif units_consumed <= 300:\n",
        "        rate_per_unit = 7.5\n",
        "    else:\n",
        "        rate_per_unit = 10.0\n",
        "\n",
        "    total_bill = units_consumed * rate_per_unit\n",
        "    return total_bill\n",
        "\n",
        "def main():\n",
        "    try:\n",
        "        units_consumed = float(input(\"Enter the units consumed: \"))\n",
        "\n",
        "        if units_consumed >= 0:\n",
        "            electricity_bill = calculate_electricity_bill(units_consumed)\n",
        "            print(f\"The electricity bill is: ${electricity_bill:.2f}\")\n",
        "        else:\n",
        "            print(\"Invalid input. Units consumed must be a non-negative number.\")\n",
        "    except ValueError:\n",
        "        print(\"Invalid input. Please enter a numeric value for the units consumed.\")\n",
        "\n",
        "if __name__ == \"__main__\":\n",
        "    main()\n"
      ]
    },
    {
      "cell_type": "markdown",
      "id": "c4f960c6-bbbe-4cfe-8013-07751cb49c86",
      "metadata": {
        "id": "c4f960c6-bbbe-4cfe-8013-07751cb49c86"
      },
      "source": [
        "The calculate_electricity_bill function takes the units consumed as input and calculates the electricity bill based on different consumption slabs.\n",
        "\n",
        "elif statements are used to determine the rate per unit based on the units consumed.\n",
        "\n",
        "The total bill is calculated by multiplying the units consumed with the rate per unit.\n",
        "\n",
        "The main function takes user input for the units consumed and calls the calculate_electricity_bill function.\n",
        "\n",
        "The program uses exception handling to handle cases where the user enters invalid input (e.g., non-numeric values).\n",
        "\n",
        "Run the program, enter the units consumed, and it will display the electricity bill based on the defined consumption slabs.\n",
        "\n",
        "\n",
        "\n",
        "\n",
        "\n",
        "\n",
        "\n"
      ]
    },
    {
      "cell_type": "markdown",
      "id": "46948c23-255f-409a-ad62-692823b236f3",
      "metadata": {
        "id": "46948c23-255f-409a-ad62-692823b236f3"
      },
      "source": [
        "28. Create a program to determine the type of quadrilateral based on its angles and sides using elif\n",
        "statements."
      ]
    },
    {
      "cell_type": "code",
      "execution_count": null,
      "id": "56ebcd44-e1e9-4378-a92e-54defcd24faf",
      "metadata": {
        "id": "56ebcd44-e1e9-4378-a92e-54defcd24faf",
        "outputId": "1f4dc67c-7d4b-4fd2-f377-c1906b6cc1c0"
      },
      "outputs": [
        {
          "name": "stdout",
          "output_type": "stream",
          "text": [
            "The quadrilateral is a Quadrilateral type not recognized.\n"
          ]
        }
      ],
      "source": [
        "def determine_quadrilateral_type(sides, angles):\n",
        "    num_sides = len(sides)\n",
        "\n",
        "    if num_sides != 4 or len(angles) != 4:\n",
        "        return \"Invalid input: Quadrilateral must have 4 sides and 4 angles.\"\n",
        "\n",
        "    # Check if it's a square (all sides equal, all angles 90 degrees)\n",
        "    if all(side == sides[0] for side in sides) and all(angle == 90 for angle in angles):\n",
        "        return \"Square\"\n",
        "\n",
        "    # Check if it's a rectangle (opposite sides equal, all angles 90 degrees)\n",
        "    elif sides[0] == sides[2] and sides[1] == sides[3] and all(angle == 90 for angle in angles):\n",
        "        return \"Rectangle\"\n",
        "\n",
        "    # Check if it's a parallelogram (Opposite sides equal)\n",
        "    elif sides[0] == sides[2] and sides[1] == sides[3]:\n",
        "        return \"Parallelogram\"\n",
        "\n",
        "    # Check if it's a rhombus (all sides equal)\n",
        "    elif all(side == sides[0] for side in sides):\n",
        "        return \"Rhombus\"\n",
        "\n",
        "    # Check if it's a trapezoid (only one pair of opposite sides parallel)\n",
        "    elif sides[0] == sides[2] or sides[1] == sides[3]:\n",
        "        return \"Trapezoid\"\n",
        "\n",
        "    else:\n",
        "        return \"Quadrilateral type not recognized.\"\n",
        "\n",
        "# Example usage:\n",
        "sides = [4, 4, 6, 6] # Modify as needed\n",
        "angles = [90, 90, 90, 90] # Modify as needed\n",
        "\n",
        "quadrilateral_type = determine_quadrilateral_type(sides, angles)\n",
        "print(f\"The quadrilateral is a {quadrilateral_type}\")\n",
        "\n"
      ]
    },
    {
      "cell_type": "markdown",
      "id": "5360177c-89d8-48ec-bea8-25504318e769",
      "metadata": {
        "id": "5360177c-89d8-48ec-bea8-25504318e769"
      },
      "source": [
        "We define a function called determine_quadrilateral_type that takes two arguments: sides (a list representing the lengths of the sides) and angles (a list representing the angles of the quadrilateral).\n",
        "\n",
        "We check if the input is valid by ensuring that there are exactly 4 sides and 4 angles. If not, the function returns an error message.\n",
        "\n",
        "We check if all sides are equal (side == sides[0]) and if all angles are 90 degrees. If both conditions are true, the quadrilateral is identified as a square.\n",
        "\n",
        "We check if opposite sides are equal (sides[0] == sides[2] and sides[1] == sides[3]) and if all angles are 90 degrees. If both conditions are true, the quadrilateral is identified as a rectangle.\n",
        "\n",
        "We check if opposite sides are equal. If true, the quadrilateral is identified as a parallelogram.\n",
        "\n",
        "We check if all sides are equal. If true, the quadrilateral is identified as a rhombus.\n",
        "\n",
        "We check if only one pair of opposite sides is parallel. If true, the quadrilateral is identified as a trapezoid.\n",
        "\n",
        "If none of the above conditions are met, the function returns a message indicating that the quadrilateral type is not recognized.\n",
        "\n",
        "We provide an example with specific values for sides and angles, call the function, and print the result."
      ]
    },
    {
      "cell_type": "markdown",
      "id": "7be2578e-f163-4b59-89fc-128abeb1fd20",
      "metadata": {
        "id": "7be2578e-f163-4b59-89fc-128abeb1fd20"
      },
      "source": [
        "29. Write a Python script to determine the season based on a user-provided month using elif statements."
      ]
    },
    {
      "cell_type": "code",
      "execution_count": null,
      "id": "8f6af2ea-36a9-478f-b3c0-c2e1a9bac8fe",
      "metadata": {
        "id": "8f6af2ea-36a9-478f-b3c0-c2e1a9bac8fe",
        "outputId": "27710931-8773-4359-ee00-7d45846cc97e"
      },
      "outputs": [
        {
          "name": "stdin",
          "output_type": "stream",
          "text": [
            "Enter a month:  february\n"
          ]
        },
        {
          "name": "stdout",
          "output_type": "stream",
          "text": [
            "The season for February is Winter.\n"
          ]
        }
      ],
      "source": [
        "# Function to determine the season based on the month\n",
        "def determine_season(month):\n",
        "    # Convert month to lowercase for case-insensitivity\n",
        "    month = month.lower()\n",
        "\n",
        "    # Check if the input is a valid month\n",
        "    if month not in ['january', 'february', 'march', 'april', 'may', 'june', 'july', 'august', 'september', 'october', 'november', 'december']:\n",
        "        return \"Invalid input: Please enter a valid month.\"\n",
        "\n",
        "    # Determine the season using elif statements\n",
        "    if month in ['december', 'january', 'february']:\n",
        "        season = \"Winter\"\n",
        "    elif month in ['march', 'april', 'may']:\n",
        "        season = \"Spring\"\n",
        "    elif month in ['june', 'july', 'august']:\n",
        "        season = \"Autumn\"\n",
        "\n",
        "    return f\"The season for {month.capitalize()} is {season}.\"\n",
        "\n",
        "# Example usage:\n",
        "user_month = input(\"Enter a month: \")\n",
        "result = determine_season(user_month)\n",
        "print(result)\n",
        ""
      ]
    },
    {
      "cell_type": "markdown",
      "id": "cb323063-f7f6-45d4-af12-009f33fd7990",
      "metadata": {
        "id": "cb323063-f7f6-45d4-af12-009f33fd7990"
      },
      "source": [
        "We define a function called determine_season that takes a month as input.\n",
        "\n",
        "We convert the input month to lowercase to make the comparison case-insensitive.\n",
        "\n",
        "We check if the input month is valid. If not, the function returns an error message.\n",
        "\n",
        "We use elif statements to determine the season based on the input month.\n",
        "\n",
        "We return a formatted string indicating the season for the provided month.\n",
        "\n",
        "We take user input for a month, call the function, and print the result.\n"
      ]
    },
    {
      "cell_type": "markdown",
      "id": "3bcc5b32-c454-49f6-9c02-9cc582db9fa7",
      "metadata": {
        "id": "3bcc5b32-c454-49f6-9c02-9cc582db9fa7"
      },
      "source": [
        "30. Implement a program to determine the type of a year (leap or common) and month (30 or 31 days) using\n",
        "elif statements."
      ]
    },
    {
      "cell_type": "code",
      "execution_count": null,
      "id": "30993d8d-0977-44a8-9248-5da64c2d468c",
      "metadata": {
        "id": "30993d8d-0977-44a8-9248-5da64c2d468c",
        "outputId": "7f2dcd1c-f98f-458c-d8e2-a22b87a3f49c"
      },
      "outputs": [
        {
          "name": "stdin",
          "output_type": "stream",
          "text": [
            "Enter a year:  2025\n",
            "Enter a month (1-12):  5\n"
          ]
        },
        {
          "name": "stdout",
          "output_type": "stream",
          "text": [
            "The year 2025 is a Common Year, and 31 Days month.\n"
          ]
        }
      ],
      "source": [
        "# Function to determine the type of year and month\n",
        "def determine_year_month_type(year, month):\n",
        "    # Check if the input year is a leap year\n",
        "    if (year % 4 == 0 and year % 100 != 0) or (year % 400 ==0):\n",
        "        year_type = \"Leap Year\"\n",
        "    else:\n",
        "        year_type = \"Common Year\"\n",
        "\n",
        "    # Check if the input month has 30 or 31 days\n",
        "    if month in [1, 3, 5, 7, 8, 10, 12]:\n",
        "        month_type = \"31 Days\"\n",
        "    elif month in [4, 6, 9, 11]:\n",
        "        month_type = \"30 Days\"\n",
        "    elif month == 2:\n",
        "        month_type = \"28 or 29 Days\"\n",
        "    else:\n",
        "        month_type = \"Invalid Month\"\n",
        "\n",
        "    return f\"The year {year} is a {year_type}, and {month_type} month.\"\n",
        "\n",
        "# Example usage:\n",
        "user_year = int(input(\"Enter a year: \"))\n",
        "user_month = int(input(\"Enter a month (1-12): \"))\n",
        "result = determine_year_month_type(user_year, user_month)\n",
        "print(result)"
      ]
    },
    {
      "cell_type": "markdown",
      "id": "510e1732-07eb-4c37-b71c-c6c91ae3a536",
      "metadata": {
        "id": "510e1732-07eb-4c37-b71c-c6c91ae3a536"
      },
      "source": [
        "Basic Level:"
      ]
    },
    {
      "cell_type": "markdown",
      "id": "28ca4029-a6ae-4884-8228-e95f18efd66f",
      "metadata": {
        "id": "28ca4029-a6ae-4884-8228-e95f18efd66f"
      },
      "source": [
        "1. Write a Python program that checks if a given number is positive, negative, or zero."
      ]
    },
    {
      "cell_type": "code",
      "execution_count": null,
      "id": "3484e6f8-9128-405f-9e0f-534e169b50ba",
      "metadata": {
        "id": "3484e6f8-9128-405f-9e0f-534e169b50ba",
        "outputId": "fb18b78d-8a66-41e2-a4fc-2377e3e1cce0"
      },
      "outputs": [
        {
          "name": "stdin",
          "output_type": "stream",
          "text": [
            "Enter a number:  0\n"
          ]
        },
        {
          "name": "stdout",
          "output_type": "stream",
          "text": [
            "The number 0.0 is Zero.\n"
          ]
        }
      ],
      "source": [
        "# Function to check the sign of a number\n",
        "def check_number_sign(number):\n",
        "    # Check if the number is greater than 0\n",
        "    if number > 0:\n",
        "        sign = \"Positive\"\n",
        "    # Check if the number is less than 0\n",
        "    elif number < 0:\n",
        "        sign = \"Negative\"\n",
        "    # If neither condition is met, the number is 0\n",
        "    else:\n",
        "        sign = \"Zero\"\n",
        "\n",
        "    return f\"The number {number} is {sign}.\"\n",
        "\n",
        "# Example usage:\n",
        "user_number = float(input(\"Enter a number: \"))\n",
        "result = check_number_sign(user_number)\n",
        "print(result)"
      ]
    },
    {
      "cell_type": "markdown",
      "id": "b3ebd6f7-9c89-4f15-88fe-f191f9f455ee",
      "metadata": {
        "id": "b3ebd6f7-9c89-4f15-88fe-f191f9f455ee"
      },
      "source": [
        "We define a function called check_number_sign that takes a number as input.\n",
        "\n",
        "We use an if statement to check if the input number is greater than 0. If true, the sign is set to \"Positive.\"\n",
        "\n",
        "We use an elif statement to check if the input number is less than 0. If true, the sign is set to \"Negative.\"\n",
        "\n",
        "If neither of the previous conditions is met, it means the number is 0, and the sign is set to \"Zero.\"\n",
        "\n",
        "We return a formatted string indicating the sign of the input number.\n",
        "\n",
        "We take user input for a number, call the function, and print the result."
      ]
    },
    {
      "cell_type": "markdown",
      "id": "c56965a0-2fc0-4391-b980-c3d6d55e39db",
      "metadata": {
        "id": "c56965a0-2fc0-4391-b980-c3d6d55e39db"
      },
      "source": [
        "2. Create a program to determine if a person is eligible to vote based on their age."
      ]
    },
    {
      "cell_type": "code",
      "execution_count": null,
      "id": "6f27568d-337a-4ce2-b2f9-5bfaeddb18da",
      "metadata": {
        "id": "6f27568d-337a-4ce2-b2f9-5bfaeddb18da",
        "outputId": "d0fce033-0cf2-484b-eabb-a95fada1e5f8"
      },
      "outputs": [
        {
          "name": "stdin",
          "output_type": "stream",
          "text": [
            "Enter the person's age:  60\n"
          ]
        },
        {
          "name": "stdout",
          "output_type": "stream",
          "text": [
            "At the age of 60, the person is Eligible to Vote.\n"
          ]
        }
      ],
      "source": [
        "# function to check voter eligiblity\n",
        "def check_voter_eligiblity(age):\n",
        "    # Check if the age is greater than or equal to the voting age (18)\n",
        "    if age >= 18:\n",
        "        eligibility = \"Eligible to vote\"\n",
        "    else:\n",
        "        eligibility = \"Not Eligible to vote\"\n",
        "\n",
        "    return f\"At the age of {age}, the person is {eligibility}.\"\n",
        "\n",
        "# Example usage:\n",
        "user_age = int(input(\"Enter the person's age: \"))\n",
        "result = check_voter_eligibility(user_age)\n",
        "print(result)"
      ]
    },
    {
      "cell_type": "markdown",
      "id": "615c1d33-d92a-47ea-abff-04c8c71a43e9",
      "metadata": {
        "id": "615c1d33-d92a-47ea-abff-04c8c71a43e9"
      },
      "source": [
        "We define a function called check_voter_eligibility that takes a person's age as input.\n",
        "\n",
        "We use an if statement to check if the input age is greater than or equal to the voting age (18). If true, the eligibility is set to \"Eligible to Vote\"; otherwise, it's set to \"Not Eligible to Vote.\"\n",
        "\n",
        "We return a formatted string indicating the age and voter eligibility status.\n",
        "\n",
        "We take user input for a person's age, call the function, and print the result."
      ]
    },
    {
      "cell_type": "markdown",
      "id": "4773f788-7ae1-40ad-9c16-f1fee5f475b6",
      "metadata": {
        "id": "4773f788-7ae1-40ad-9c16-f1fee5f475b6"
      },
      "source": [
        "3. Write a program to find the maximum of two given numbers using conditional statements."
      ]
    },
    {
      "cell_type": "code",
      "execution_count": null,
      "id": "ffd9e344-f18b-44fd-8f4d-a230f2203097",
      "metadata": {
        "id": "ffd9e344-f18b-44fd-8f4d-a230f2203097",
        "outputId": "0af09acd-7c3e-41fb-98af-a2c92464e640"
      },
      "outputs": [
        {
          "name": "stdin",
          "output_type": "stream",
          "text": [
            "Enter the first number:  654\n",
            "Enter the second number:  753\n"
          ]
        },
        {
          "name": "stdout",
          "output_type": "stream",
          "text": [
            "The maximum of 654.0 and 753.0 is: 753.0\n"
          ]
        }
      ],
      "source": [
        "# Function to find the maximum of two numbers\n",
        "def find_maximum(num1, num2):\n",
        "    # Use conditional statements to compare the numbers\n",
        "    if num1 > num2:\n",
        "        maximum = num1\n",
        "    else:\n",
        "        maximum = num2\n",
        "\n",
        "    return f\"The maximum of {num1} and {num2} is: {maximum}\"\n",
        "\n",
        "# Example usage:\n",
        "user_num1 = float(input(\"Enter the first number: \"))\n",
        "user_num2 = float(input(\"Enter the second number: \"))\n",
        "result = find_maximum(user_num1, user_num2)\n",
        "print(result)"
      ]
    },
    {
      "cell_type": "markdown",
      "id": "226c8b61-4f8c-414c-a22f-a06382a70852",
      "metadata": {
        "id": "226c8b61-4f8c-414c-a22f-a06382a70852"
      },
      "source": [
        "We define a function called find_maximum that takes two numbers (num1 and num2) as input.\n",
        "\n",
        "We use an if statement to check if num1 is greater than num2. If true, maximum is assigned the value of num1; otherwise, it's assigned the value of num2.\n",
        "\n",
        "We return a formatted string indicating the original numbers and the maximum value.\n",
        "\n",
        "We take user input for two numbers, call the function, and print the result.\n"
      ]
    },
    {
      "cell_type": "markdown",
      "id": "86b5bdec-db16-443e-997b-8a34f06c07f1",
      "metadata": {
        "id": "86b5bdec-db16-443e-997b-8a34f06c07f1"
      },
      "source": [
        "4. Develop a program that calculates the grade of a student based on their exam score."
      ]
    },
    {
      "cell_type": "code",
      "execution_count": null,
      "id": "1ca524b1-1182-4f60-bb28-4ecf0e6b44e1",
      "metadata": {
        "id": "1ca524b1-1182-4f60-bb28-4ecf0e6b44e1",
        "outputId": "44a8f81b-1c08-4fa5-fe80-032bd86b356f"
      },
      "outputs": [
        {
          "name": "stdin",
          "output_type": "stream",
          "text": [
            "Enter the student's exam score:  85\n"
          ]
        },
        {
          "name": "stdout",
          "output_type": "stream",
          "text": [
            "For a score of 85.0, the grade is: B\n"
          ]
        }
      ],
      "source": [
        "# Function to calculate the grade based on the exam score\n",
        "def calculate_grade(score):\n",
        "    # Use conditional statements to determine the grade\n",
        "    if 90 <= score <= 100:\n",
        "        grade = \"A\"\n",
        "    elif 80 <= score < 90:\n",
        "        grade = \"B\"\n",
        "    elif 70 <= score < 80:\n",
        "        grade = \"C\"\n",
        "    elif 60 <= score < 70:\n",
        "        grade = \"D\"\n",
        "    else:\n",
        "        grade = \"F\"\n",
        "\n",
        "    return f\"For a score of {score}, the grade is: {grade}\"\n",
        "\n",
        "# Example usage:\n",
        "user_score = float(input(\"Enter the student's exam score: \"))\n",
        "result = calculate_grade(user_score)\n",
        "print(result)"
      ]
    },
    {
      "cell_type": "markdown",
      "id": "3812b3de-4fde-4380-bac7-6e2e7f4c0f27",
      "metadata": {
        "id": "3812b3de-4fde-4380-bac7-6e2e7f4c0f27"
      },
      "source": [
        "We define a function called calculate_grade that takes a student's exam score as input.\n",
        "\n",
        "We use if-elif-else statements to categorize the exam score into different grade ranges. Each range corresponds to a specific grade.\n",
        "\n",
        "We return a formatted string indicating the original exam score and the corresponding grade.\n",
        "\n",
        "We take user input for the exam score, call the function, and print the result."
      ]
    },
    {
      "cell_type": "markdown",
      "id": "1de1d7ac-0132-4268-a110-4199af1bea09",
      "metadata": {
        "id": "1de1d7ac-0132-4268-a110-4199af1bea09"
      },
      "source": [
        "5. Create a program that checks if a year is a leap year or not."
      ]
    },
    {
      "cell_type": "code",
      "execution_count": null,
      "id": "8cfc13db-53ad-427f-87e8-5a3f717251f5",
      "metadata": {
        "id": "8cfc13db-53ad-427f-87e8-5a3f717251f5",
        "outputId": "6a0d7cf2-aa07-4572-bd1b-3d00038121e3"
      },
      "outputs": [
        {
          "name": "stdin",
          "output_type": "stream",
          "text": [
            "Enter a year:  2026\n"
          ]
        },
        {
          "name": "stdout",
          "output_type": "stream",
          "text": [
            "The year 2026 is: Not a Leap Year\n"
          ]
        }
      ],
      "source": [
        "# Function to check if a year is a leap year\n",
        "def is_leap_year(year):\n",
        "    # Use conditional statements to determine leap year criteria\n",
        "    if (year % 4 == 0 and year % 100 != 0) or (year % 400 == 0):\n",
        "        leap_status = \"Leap Year\"\n",
        "    else:\n",
        "        leap_status = \"Not a Leap Year\"\n",
        "\n",
        "    return f\"The year {year} is: {leap_status}\"\n",
        "\n",
        "# Example usage:\n",
        "user_year = int(input(\"Enter a year: \"))\n",
        "result = is_leap_year(user_year)\n",
        "print(result)"
      ]
    },
    {
      "cell_type": "markdown",
      "id": "6b32412f-da77-43c4-8ea3-08d23bd9606b",
      "metadata": {
        "id": "6b32412f-da77-43c4-8ea3-08d23bd9606b"
      },
      "source": [
        "We define a function called is_leap_year that takes a year as input.\n",
        "\n",
        "We use if-else statements with conditions to check if the year is a leap year.\n",
        "\n",
        "The conditions (year % 4 == 0 and year % 100 != 0) or (year % 400 == 0) determine the leap year criteria.\n",
        "\n",
        "We return a formatted string indicating the original year and whether it is a leap year or not.\n",
        "\n",
        "We take user input for the year, call the function, and print the result."
      ]
    },
    {
      "cell_type": "markdown",
      "id": "492cc0f8-2a21-4796-b5bd-be6baec46fda",
      "metadata": {
        "id": "492cc0f8-2a21-4796-b5bd-be6baec46fda"
      },
      "source": [
        "6. Write a program to classify a triangle based on its sides' lengths."
      ]
    },
    {
      "cell_type": "code",
      "execution_count": null,
      "id": "1e8331f8-054a-4999-8fac-32a4515519d9",
      "metadata": {
        "id": "1e8331f8-054a-4999-8fac-32a4515519d9",
        "outputId": "c0a568a8-ba38-401b-c5ab-2653daf4ee1a"
      },
      "outputs": [
        {
          "name": "stdin",
          "output_type": "stream",
          "text": [
            "Enter the length of the first side:  50\n",
            "Enter the length of the second side:  60\n",
            "Enter the length of the third side:  70\n"
          ]
        },
        {
          "name": "stdout",
          "output_type": "stream",
          "text": [
            "A triangle with side lengths 50.0, 60.0, and 70.0 is: Scalene Triangle\n"
          ]
        }
      ],
      "source": [
        "# Function to classify a triangle based on side lengths\n",
        "def classify_triangle(side1, side2, side3):\n",
        "    # Use conditional statements to determine triangle type\n",
        "    if side1 == side2 == side3:\n",
        "        triangle_type = \"Equilatgeral Triangle\"\n",
        "    elif side1 == side2 or side1 == side3 or side2 == side3:\n",
        "        triangle_type = \"Isosceles Triangle\"\n",
        "    else:\n",
        "        triangle_type = \"Scalene Triangle\"\n",
        "\n",
        "    return f\"A triangle with side lengths {side1}, {side2}, and {side3} is: {triangle_type}\"\n",
        "\n",
        "# Example usage:\n",
        "user_side1 = float(input(\"Enter the length of the first side: \"))\n",
        "user_side2 = float(input(\"Enter the length of the second side: \"))\n",
        "user_side3 = float(input(\"Enter the length of the third side: \"))\n",
        "result = classify_triangle(user_side1, user_side2, user_side3)\n",
        "print(result)"
      ]
    },
    {
      "cell_type": "markdown",
      "id": "d289061d-7dad-402b-ba8d-23b687efaed0",
      "metadata": {
        "id": "d289061d-7dad-402b-ba8d-23b687efaed0"
      },
      "source": [
        "We define a function called classify_triangle that takes the lengths of three sides as input.\n",
        "\n",
        "We use if-elif-else statements to classify the triangle based on the lengths of its sides.\n",
        "\n",
        "If all sides are equal, it's an equilateral triangle. If any two sides are equal, it's an isosceles triangle. Otherwise, it's a scalene triangle.\n",
        "\n",
        "We return a formatted string indicating the original side lengths and the type of triangle.\n",
        "\n",
        "We take user input for the side lengths, call the function, and print the result."
      ]
    },
    {
      "cell_type": "markdown",
      "id": "d1530ed1-0800-48a1-ba60-5d5030f80f32",
      "metadata": {
        "id": "d1530ed1-0800-48a1-ba60-5d5030f80f32"
      },
      "source": [
        "7. Build a program that determines the largest of three given numbers."
      ]
    },
    {
      "cell_type": "code",
      "execution_count": null,
      "id": "859c82a3-0b27-4d96-86cd-e95087ad6cb6",
      "metadata": {
        "id": "859c82a3-0b27-4d96-86cd-e95087ad6cb6",
        "outputId": "ce13cfda-0690-45f5-da6a-e8274a977d21"
      },
      "outputs": [
        {
          "name": "stdin",
          "output_type": "stream",
          "text": [
            "Enter the first numbers:  268\n",
            "Enter the second number:  751\n",
            "Enter the third number:  649\n"
          ]
        },
        {
          "name": "stdout",
          "output_type": "stream",
          "text": [
            "The largest among 268.0, 751.0, and 649.0 is: 751.0\n"
          ]
        }
      ],
      "source": [
        "# Function to find the largest among three numbers\n",
        "def find_largest(num1, num2, num3):\n",
        "    # Use conditional statements to compare numbers\n",
        "    if num1 >= num2 and num1 >= num3:\n",
        "        largest_num = num1\n",
        "    elif num2 >= num1 and num2 >= num3:\n",
        "        largest_num = num2\n",
        "    else:\n",
        "        largest_num = num3\n",
        "\n",
        "    return f\"The largest among {num1}, {num2}, and {num3} is: {largest_num}\"\n",
        "\n",
        "# Example usage:\n",
        "user_num1 = float(input(\"Enter the first numbers: \"))\n",
        "user_num2 = float(input(\"Enter the second number: \"))\n",
        "user_num3 = float(input(\"Enter the third number: \"))\n",
        "result = find_largest(user_num1, user_num2, user_num3)\n",
        "print(result)"
      ]
    },
    {
      "cell_type": "markdown",
      "id": "566c4654-9e4d-4b5d-a22c-4c5f650a4ce3",
      "metadata": {
        "id": "566c4654-9e4d-4b5d-a22c-4c5f650a4ce3"
      },
      "source": [
        "We define a function called find_largest that takes three numbers as input.\n",
        "\n",
        "We use if-elif-else statements to compare the three numbers and determine the largest one.\n",
        "\n",
        "We return a formatted string indicating the original numbers and the largest among them.\n",
        "\n",
        "We take user input for three numbers, call the function, and print the result."
      ]
    },
    {
      "cell_type": "markdown",
      "id": "05ca4063-f03b-472d-b954-f9e78b2dabcc",
      "metadata": {
        "id": "05ca4063-f03b-472d-b954-f9e78b2dabcc"
      },
      "source": [
        "8. Develop a program that checks whether a character is a vowel or a consonant."
      ]
    },
    {
      "cell_type": "code",
      "execution_count": null,
      "id": "6dd68879-02cf-464e-8a2c-f350af8d600e",
      "metadata": {
        "id": "6dd68879-02cf-464e-8a2c-f350af8d600e",
        "outputId": "dc22adc1-bc36-4839-b8c1-d2a8f7df92a5"
      },
      "outputs": [
        {
          "name": "stdin",
          "output_type": "stream",
          "text": [
            "Enter a character:  P\n"
          ]
        },
        {
          "name": "stdout",
          "output_type": "stream",
          "text": [
            "The charater 'P' is a consonant.\n"
          ]
        }
      ],
      "source": [
        "# Functgion to check if a character is a vowel or consonant\n",
        "def check_vowel_consonant(char):\n",
        "    # Convert the character to lowercase for case-insensitivity\n",
        "    char_lower = char.lower()\n",
        "\n",
        "    # Use conditional statements to check if the character is a vowel or consonant\n",
        "    if char_lower in('a', 'e', 'i', 'o', 'u'):\n",
        "        result = f\"The character '{char}' is a vowel.\"\n",
        "    else:\n",
        "        result = f\"The charater '{char}' is a consonant.\"\n",
        "\n",
        "    return result\n",
        "\n",
        "# Example usage:\n",
        "user_char = input(\"Enter a character: \")\n",
        "\n",
        "# Check if the input is a single character\n",
        "if len(user_char) == 1:\n",
        "    result = check_vowel_consonant(user_char)\n",
        "    print(result)\n",
        "else:\n",
        "    print(\"Please enter a single character.\")"
      ]
    },
    {
      "cell_type": "markdown",
      "id": "77dcaed7-03bc-4c6f-99a0-8fe7e46b8840",
      "metadata": {
        "id": "77dcaed7-03bc-4c6f-99a0-8fe7e46b8840"
      },
      "source": [
        "We define a function called check_vowel_consonant that takes a character as input.\n",
        "\n",
        "We convert the input character to lowercase to make the comparison case-insensitive.\n",
        "\n",
        "We use an if-else statement to check if the lowercase character is in the set of vowels ('a', 'e', 'i', 'o', 'u').\n",
        "\n",
        "We return a formatted string indicating whether the character is a vowel or a consonant.\n",
        "\n",
        "We take user input for a character, check if it's a single character, call the function, and print the result."
      ]
    },
    {
      "cell_type": "markdown",
      "id": "f57e71f3-adaf-42f0-ae89-b2a13de462fc",
      "metadata": {
        "id": "f57e71f3-adaf-42f0-ae89-b2a13de462fc"
      },
      "source": [
        "9. Create a program to calculate the total cost of a shopping cart based on discounts."
      ]
    },
    {
      "cell_type": "code",
      "execution_count": null,
      "id": "f92d5717-7f88-4e8f-8105-cd5591f0e1b4",
      "metadata": {
        "id": "f92d5717-7f88-4e8f-8105-cd5591f0e1b4",
        "outputId": "585980cd-0621-4187-e0de-e2041a8a571e"
      },
      "outputs": [
        {
          "name": "stdout",
          "output_type": "stream",
          "text": [
            "The total cost of the shopping cart with a 10% discount is: $99.00\n"
          ]
        }
      ],
      "source": [
        "# Function to calculate total cost with discounts\n",
        "def calculate_total_cost(cart_items, discount_percentage):\n",
        "    # Calculate total cost without discounts\n",
        "    total_cost = sum(cart_items)\n",
        "\n",
        "    # Calculate discount amount\n",
        "    discount_amount = (discount_percentage / 100) * total_cost\n",
        "\n",
        "    # Apply discount to total cost\n",
        "    discounted_total_cost = total_cost - discount_amount\n",
        "\n",
        "    return discounted_total_cost\n",
        "\n",
        "# Example usage:\n",
        "cart_items = [50, 30, 20, 10]  # Example prices of items in the shopping cart\n",
        "discount_percentage = 10  # Example discount percentage\n",
        "\n",
        "# Call the function to calculate the total cost with discounts\n",
        "total_cost_with_discount = calculate_total_cost(cart_items, discount_percentage)\n",
        "\n",
        "# Print the result\n",
        "print(f\"The total cost of the shopping cart with a {discount_percentage}% discount is: ${total_cost_with_discount:.2f}\")\n"
      ]
    },
    {
      "cell_type": "markdown",
      "id": "7383c38f-de72-4273-af8d-fd62c297e464",
      "metadata": {
        "id": "7383c38f-de72-4273-af8d-fd62c297e464"
      },
      "source": [
        "10. Write a program that checks if a given number is even or odd."
      ]
    },
    {
      "cell_type": "code",
      "execution_count": null,
      "id": "570babbc-de74-49c8-927a-7db41f34f809",
      "metadata": {
        "id": "570babbc-de74-49c8-927a-7db41f34f809",
        "outputId": "e8e45a9a-3e3e-4825-b5c9-04b54086f147"
      },
      "outputs": [
        {
          "name": "stdin",
          "output_type": "stream",
          "text": [
            "Enter a number:  423\n"
          ]
        },
        {
          "name": "stdout",
          "output_type": "stream",
          "text": [
            "The number 423 is Odd.\n"
          ]
        }
      ],
      "source": [
        "# Function to check if a number is even or odd\n",
        "def check_even_odd(number):\n",
        "    if number % 2 == 0:\n",
        "        return \"Even\"\n",
        "    else:\n",
        "        return \"Odd\"\n",
        "\n",
        "# Example usage:\n",
        "user_input = int(input(\"Enter a number: \")) # Take user input for a number\n",
        "\n",
        "# Call the function to check if the number is even or odd\n",
        "result = check_even_odd(user_input)\n",
        "\n",
        "# Print the result\n",
        "print(f\"The number {user_input} is {result}.\")"
      ]
    },
    {
      "cell_type": "markdown",
      "id": "e92ff24f-dec1-4ff5-8ef1-248ccd99311a",
      "metadata": {
        "id": "e92ff24f-dec1-4ff5-8ef1-248ccd99311a"
      },
      "source": [
        "Intermediate Level:\n"
      ]
    },
    {
      "cell_type": "markdown",
      "id": "b0e15b29-6e3e-4a3f-9893-dc21a6edfe6b",
      "metadata": {
        "id": "b0e15b29-6e3e-4a3f-9893-dc21a6edfe6b"
      },
      "source": [
        "11. Write a program that calculates the roots of a quadratic equation ."
      ]
    },
    {
      "cell_type": "code",
      "execution_count": null,
      "id": "20679a08-aa99-4f32-bb94-ec6789930270",
      "metadata": {
        "id": "20679a08-aa99-4f32-bb94-ec6789930270"
      },
      "outputs": [],
      "source": [
        "import math\n",
        "\n",
        "# Function to calculate the roots of a quadratic equation\n",
        "def calculate_roots(a, b, c):\n",
        "    # Calculate the discriminant\n",
        "    discriminant = b**2 - 4*a*c\n",
        "\n",
        "    # Check if the discriminant is non-negative\n",
        "    if discriminant >= 0:\n",
        "        # Calculate the roots using the quadratic formula\n",
        "        root1 = (-b + math.sqrt(discriminant)) / (2*a)\n",
        "        root2 = (-b - math.sqrt(discriminant)) / (2*a)\n",
        "        return root1, root2\n",
        "    else:\n",
        "        # If the discriminant is negative , roots are complex numbers\n",
        "        real_part = -b / (2*a)\n",
        "        imaginary_part = math.sqrt(abs(discriminant)) / (2*a)\n",
        "        root1 = complex(real_part, imaginary_part)\n",
        "        root2 = complex(real_part, -imaginary_part)\n",
        "        return root1"
      ]
    },
    {
      "cell_type": "markdown",
      "id": "5a2e8216-3a64-4a78-a2ae-ab3e3c8fe0a5",
      "metadata": {
        "id": "5a2e8216-3a64-4a78-a2ae-ab3e3c8fe0a5"
      },
      "source": [
        "12. Create a program that determines the day of the week based on the day number (1-7).\n"
      ]
    },
    {
      "cell_type": "code",
      "execution_count": null,
      "id": "a19b535e-4ea9-45a6-9da4-9ba268c46e1e",
      "metadata": {
        "id": "a19b535e-4ea9-45a6-9da4-9ba268c46e1e",
        "outputId": "83285a16-e4e9-403f-9187-bd924866d347"
      },
      "outputs": [
        {
          "name": "stdin",
          "output_type": "stream",
          "text": [
            "Enter the day number (1-7):  8\n"
          ]
        },
        {
          "name": "stdout",
          "output_type": "stream",
          "text": [
            "The day of the week for day number 8 is: Invalid day number\n"
          ]
        }
      ],
      "source": [
        "# Function to determine the day of the week\n",
        "def determine_day_of_week(day_number):\n",
        "    # Define a list of days of the week\n",
        "    days_of_week = [\"Monday\", \"Tuesday\", \"Wednesday\", \"Thursday\", \"Friday\", \"Saturday\", \"Sunday\"]\n",
        "\n",
        "    # Check if the day_number is within the valid range\n",
        "    if 1 <= day_number <= 7:\n",
        "        # Use the day_of_week[day_number -1]\n",
        "        return day_of_week[day_number -1]\n",
        "    else:\n",
        "        return \"Invalid day number\"\n",
        "\n",
        "# Example usage:\n",
        "day_number = int(input(\"Enter the day number (1-7): \")) # Take user input for the day number\n",
        "\n",
        "# Call the function to determine the day of the week\n",
        "day_of_week = determine_day_of_week(day_number)\n",
        "\n",
        "# Print the result\n",
        "print(f\"The day of the week for day number {day_number} is: {day_of_week}\")"
      ]
    },
    {
      "cell_type": "markdown",
      "id": "efc96475-d178-4a0c-ae3e-36f2419782fd",
      "metadata": {
        "id": "efc96475-d178-4a0c-ae3e-36f2419782fd"
      },
      "source": [
        "We define a function named determine_day_of_week that takes a parameter day_number.\n",
        "\n",
        "We define a list containing the days of the week.\n",
        "\n",
        "We check if the user-inputted day_number is within the valid range (1-7).\n",
        "\n",
        "If the day_number is valid, we use it to index the days_of_week list and return the corresponding day.\n",
        "\n",
        "If the day_number is not within the valid range, we return an error message.\n",
        "\n",
        "We take user input for the day number and convert it to an integer.\n",
        "\n",
        "We call the determine_day_of_week function with the user-inputted day number.\n",
        "\n",
        "We print the determined day of the week based on the day number.\n"
      ]
    },
    {
      "cell_type": "markdown",
      "id": "96b7e85f-8628-4017-ad36-04651aa8f4f2",
      "metadata": {
        "id": "96b7e85f-8628-4017-ad36-04651aa8f4f2"
      },
      "source": [
        "13. Develop a program that calculates the factorial of a given number using recursion."
      ]
    },
    {
      "cell_type": "code",
      "execution_count": null,
      "id": "898a3a36-20ec-4c7e-bcc1-efe823b28f7e",
      "metadata": {
        "id": "898a3a36-20ec-4c7e-bcc1-efe823b28f7e",
        "outputId": "327395be-1027-4b7a-f9ec-ecaf9ae55cee"
      },
      "outputs": [
        {
          "name": "stdin",
          "output_type": "stream",
          "text": [
            "Enter a non-negative integer to calculate its factorial:  8\n"
          ]
        },
        {
          "name": "stdout",
          "output_type": "stream",
          "text": [
            "The factorial of 8 is: 40320\n"
          ]
        }
      ],
      "source": [
        "# Function to calculate factorial using recursion\n",
        "def calculate_factorial(n):\n",
        "    # Base case: factorial of 0 is 1\n",
        "    if n == 0:\n",
        "        return 1\n",
        "    # Recursive case: n! = n * (n-1)!\n",
        "    else:\n",
        "        return n * calculate_factorial(n - 1)\n",
        "\n",
        "# Example usage:\n",
        "# Take user input for the number\n",
        "number = int(input(\"Enter a non-negative integer to calculate its factorial: \"))\n",
        "\n",
        "# Call the function to calculate factorial\n",
        "factorial_result = calculate_factorial(number)\n",
        "\n",
        "# Print the result\n",
        "print(f\"The factorial of {number} is: {factorial_result}\")"
      ]
    },
    {
      "cell_type": "markdown",
      "id": "c9f8d731-e22f-4175-8cd7-f2867d6155ea",
      "metadata": {
        "id": "c9f8d731-e22f-4175-8cd7-f2867d6155ea"
      },
      "source": [
        "We define a function named calculate_factorial that takes a parameter n.\n",
        "\n",
        "This is the base case for recursion. If n is 0, the factorial is 1.\n",
        "\n",
        "In the recursive case, we use the formula n! = n * (n-1)!. The function calls itself with n - 1 until it reaches the base case.\n",
        "\n",
        "We take user input for the number and convert it to an integer.\n",
        "\n",
        "We call the calculate_factorial function with the user-inputted number.\n",
        "\n",
        "We print the calculated factorial of the inputted number."
      ]
    },
    {
      "cell_type": "markdown",
      "id": "efd417c0-04f7-48b5-82a5-06829e190bee",
      "metadata": {
        "id": "efd417c0-04f7-48b5-82a5-06829e190bee"
      },
      "source": [
        "14. Write a program to find the largest among three numbers without using the `max()` function."
      ]
    },
    {
      "cell_type": "code",
      "execution_count": null,
      "id": "a17f21f3-d370-40bf-9c44-b7860f8242fe",
      "metadata": {
        "id": "a17f21f3-d370-40bf-9c44-b7860f8242fe",
        "outputId": "756777b5-731f-4278-afe4-6744ebf76e3f"
      },
      "outputs": [
        {
          "name": "stdin",
          "output_type": "stream",
          "text": [
            "Enter the first number:  96\n",
            "Enter the second number:  45\n",
            "Enter the third number:  28\n"
          ]
        },
        {
          "name": "stdout",
          "output_type": "stream",
          "text": [
            "The largest number among 96.0, 45.0, and 28.0 is: 96.0\n"
          ]
        }
      ],
      "source": [
        "# Function to find the largest among three numbers\n",
        "def find_largest(num1, num2, num3):\n",
        "    if num1 >= num2 and num1 >= num3:\n",
        "        return num1\n",
        "    elif num2 >= num1 and num2 >= num3:\n",
        "        return num2\n",
        "    else:\n",
        "        return num3\n",
        "\n",
        "# Example usage:\n",
        "# Take user input for three numbers\n",
        "num1 = float(input(\"Enter the first number: \"))\n",
        "num2 = float(input(\"Enter the second number: \"))\n",
        "num3 = float(input(\"Enter the third number: \"))\n",
        "\n",
        "# Call the function to find the largest\n",
        "largest_number = find_largest(num1, num2, num3)\n",
        "\n",
        "# Print the result\n",
        "print(f\"The largest number among {num1}, {num2}, and {num3} is: {largest_number}\")"
      ]
    },
    {
      "cell_type": "markdown",
      "id": "1ad182eb-bc0c-44ac-9d77-f7bb5e40d8f3",
      "metadata": {
        "id": "1ad182eb-bc0c-44ac-9d77-f7bb5e40d8f3"
      },
      "source": [
        "We define a function named find_largest that takes three parameters: num1, num2, and num3.\n",
        "\n",
        "We use a series of if, elif, and else statements to compare the numbers and return the largest one.\n",
        "\n",
        "For example, if num1 is greater than or equal to both num2 and num3, we return num1 as the largest.\n",
        "\n",
        "We take user input for three numbers and convert them to floating-point numbers.\n",
        "\n",
        "We call the find_largest function with the user-inputted numbers.\n",
        "\n",
        "We print the result, indicating the largest number among the inputted values."
      ]
    },
    {
      "cell_type": "markdown",
      "id": "837d3931-4298-474b-af92-b436db19a555",
      "metadata": {
        "id": "837d3931-4298-474b-af92-b436db19a555"
      },
      "source": [
        "15. Create a program that simulates a basic ATM transaction menu."
      ]
    },
    {
      "cell_type": "code",
      "execution_count": null,
      "id": "32f47dca-b68a-4e50-b160-e3b5e9a6911e",
      "metadata": {
        "id": "32f47dca-b68a-4e50-b160-e3b5e9a6911e",
        "outputId": "ce5bc3c9-b23c-4a94-811f-21ec4e08ae74"
      },
      "outputs": [
        {
          "name": "stdout",
          "output_type": "stream",
          "text": [
            "\n",
            "===== ATM Menu =====\n",
            "1. Check Balance\n",
            "2. Deposit Money\n",
            "3. Withdraw Money\n",
            "4. Exit\n"
          ]
        },
        {
          "name": "stdin",
          "output_type": "stream",
          "text": [
            "Enter your choice (1-4):  5858\n"
          ]
        },
        {
          "name": "stdout",
          "output_type": "stream",
          "text": [
            "Invalid choice. Please enter a number between 1 and 4.\n",
            "\n",
            "===== ATM Menu =====\n",
            "1. Check Balance\n",
            "2. Deposit Money\n",
            "3. Withdraw Money\n",
            "4. Exit\n"
          ]
        },
        {
          "name": "stdin",
          "output_type": "stream",
          "text": [
            "Enter your choice (1-4):  3\n",
            "Enter the amount to withdraw: $ 5000\n"
          ]
        },
        {
          "name": "stdout",
          "output_type": "stream",
          "text": [
            "Insufficient funds. Cannot withdraw.\n",
            "\n",
            "===== ATM Menu =====\n",
            "1. Check Balance\n",
            "2. Deposit Money\n",
            "3. Withdraw Money\n",
            "4. Exit\n"
          ]
        },
        {
          "name": "stdin",
          "output_type": "stream",
          "text": [
            "Enter your choice (1-4):  4\n"
          ]
        },
        {
          "name": "stdout",
          "output_type": "stream",
          "text": [
            "Exiting the ATM. Thank you!\n"
          ]
        }
      ],
      "source": [
        "class ATM:\n",
        "    def __init__(self, balance=0):\n",
        "        self.balance = balance\n",
        "\n",
        "    def check_balance(self):\n",
        "        return f\"Your balance is ${self.balance}\"\n",
        "\n",
        "    def deposit(self, amount):\n",
        "        self.balance += amount\n",
        "        return f\"${amount} deposited successfully. Your new balance is ${self.balance}\"\n",
        "\n",
        "    def withdraw(self, amount):\n",
        "        if amount > self.balance:\n",
        "            return \"Insufficient funds. Cannot withdraw.\"\n",
        "        else:\n",
        "            self.balance -= amount\n",
        "            return f\"${amount} withdrawn successfully. Your new balance is ${self.balance}\"\n",
        "\n",
        "# Example usage:\n",
        "# Create an ATM instance with an initial balance\n",
        "my_atm = ATM(balance=1000)\n",
        "\n",
        "# Display the ATM menu\n",
        "while True:\n",
        "    print(\"\\n===== ATM Menu =====\")\n",
        "    print(\"1. Check Balance\")\n",
        "    print(\"2. Deposit Money\")\n",
        "    print(\"3. Withdraw Money\")\n",
        "    print(\"4. Exit\")\n",
        "\n",
        "    choice = int(input(\"Enter your choice (1-4): \"))\n",
        "\n",
        "    if choice == 1:\n",
        "        print(my_atm.check_balance())\n",
        "    elif choice == 2:\n",
        "        deposit_amount = float(input(\"Enter the amount to deposit: $\"))\n",
        "        print(my_atm.deposit(deposit_amount))\n",
        "    elif choice == 3:\n",
        "        withdraw_amount = float(input(\"Enter the amount to withdraw: $\"))\n",
        "        print(my_atm.withdraw(withdraw_amount))\n",
        "    elif choice == 4:\n",
        "        print(\"Exiting the ATM. Thank you!\")\n",
        "        break\n",
        "    else:\n",
        "        print(\"Invalid choice. Please enter a number between 1 and 4.\")\n"
      ]
    },
    {
      "cell_type": "markdown",
      "id": "3259cefb-5d4b-426a-9f1e-3239e2234c1b",
      "metadata": {
        "id": "3259cefb-5d4b-426a-9f1e-3239e2234c1b"
      },
      "source": [
        "We define a class named ATM with an __init__ method to initialize the ATM's balance.\n",
        "\n",
        "The class contains methods for checking the balance, depositing money, and withdrawing money.\n",
        "\n",
        "We create an instance of the ATM class with an initial balance of $1000.\n",
        "\n",
        "We use a while loop to continuously display the ATM menu and take user input.\n",
        "\n",
        "Based on the user's choice, we call the corresponding method of the ATM class or exit the program.\n"
      ]
    },
    {
      "cell_type": "markdown",
      "id": "8d344c70-bde5-4f88-a810-e69c9726ae6a",
      "metadata": {
        "id": "8d344c70-bde5-4f88-a810-e69c9726ae6a"
      },
      "source": [
        "16. Build a program that checks if a given string is a palindrome or not."
      ]
    },
    {
      "cell_type": "code",
      "execution_count": null,
      "id": "7a17d222-6f0e-4806-bb1b-c07f4ca232da",
      "metadata": {
        "id": "7a17d222-6f0e-4806-bb1b-c07f4ca232da",
        "outputId": "db45cfd0-31da-47ab-a40b-4c3a82490929"
      },
      "outputs": [
        {
          "name": "stdin",
          "output_type": "stream",
          "text": [
            "Enter a string:  Python is a versatile language.\n"
          ]
        },
        {
          "name": "stdout",
          "output_type": "stream",
          "text": [
            "Python is a versatile language. is not a palindrome.\n"
          ]
        }
      ],
      "source": [
        "def is_palindrome(s):\n",
        "    # Convert the string to lowercase and remove spaces\n",
        "    s = s.lower().replace(\" \", \"\")\n",
        "\n",
        "    # Compare the original string with its reverse\n",
        "    return s == s[::-1]\n",
        "\n",
        "# Example usage:\n",
        "user_input = input(\"Enter a string: \")\n",
        "result = is_palindrome(user_input)\n",
        "\n",
        "if result:\n",
        "    print(f\"{user_input} is a palindrome.\")\n",
        "else:\n",
        "    print(f\"{user_input} is not a palindrome.\")"
      ]
    },
    {
      "cell_type": "markdown",
      "id": "369cf52e-7532-49fe-960c-9973adcb420e",
      "metadata": {
        "id": "369cf52e-7532-49fe-960c-9973adcb420e"
      },
      "source": [
        "We define a function named is_palindrome that takes a string s as input.\n",
        "\n",
        "We convert the input string to lowercase using lower() to make the palindrome check case-insensitive.\n",
        "\n",
        "We also remove spaces from the string using replace(\" \", \"\") to ignore spaces in the palindrome check.\n",
        "\n",
        "We use slicing ([::-1]) to reverse the string.\n",
        "\n",
        "We compare the original string with its reverse. If they are the same, the string is a palindrome.\n",
        "\n",
        "We take user input for a string and call the is_palindrome function to check if it's a palindrome.\n",
        "\n",
        "We print the result based on whether the string is a palindrome or not.\n"
      ]
    },
    {
      "cell_type": "markdown",
      "id": "7c988e68-2931-424f-bb18-3b2736dcb483",
      "metadata": {
        "id": "7c988e68-2931-424f-bb18-3b2736dcb483"
      },
      "source": [
        "17. Write a program that calculates the average of a list of numbers, excluding the smallest and largest values."
      ]
    },
    {
      "cell_type": "code",
      "execution_count": null,
      "id": "87fa38d9-4ad1-4c0b-bd0c-2465345eff79",
      "metadata": {
        "id": "87fa38d9-4ad1-4c0b-bd0c-2465345eff79",
        "outputId": "86465013-397c-4a14-c564-01029d96c0b4"
      },
      "outputs": [
        {
          "name": "stdin",
          "output_type": "stream",
          "text": [
            "Enter a list of numbers separated by spaces:  8 6 1 4 9\n"
          ]
        },
        {
          "name": "stdout",
          "output_type": "stream",
          "text": [
            "The average (excluding the smallest and largest values) is: 6.0\n"
          ]
        }
      ],
      "source": [
        "def calculate_average(numbers):\n",
        "    if len(numbers) < 3:\n",
        "        print(\"List should have at least three numbers for meaningful calculation.\")\n",
        "        return\n",
        "\n",
        "    # Exclude the smallest and largest values\n",
        "    numbers.sort() # Sort the list in ascending order\n",
        "    excluded_numbers = numbers[1:-1]\n",
        "\n",
        "    # Calculate the average of the remaining values\n",
        "    average = sum(excluded_numbers) / len(excluded_numbers)\n",
        "\n",
        "    return average\n",
        "\n",
        "# Example usage:\n",
        "user_input = input(\"Enter a list of numbers separated by spaces: \")\n",
        "numbers_list = [float(num) for num in user_input.split()]\n",
        "\n",
        "result = calculate_average(numbers_list)\n",
        "\n",
        "if result is not None:\n",
        "    print(f\"The average (excluding the smallest and largest values) is: {result}\")"
      ]
    },
    {
      "cell_type": "markdown",
      "id": "6ab43c0f-0105-48ae-b52c-f7ac28899e6d",
      "metadata": {
        "id": "6ab43c0f-0105-48ae-b52c-f7ac28899e6d"
      },
      "source": [
        "The program takes a list of numbers from the user.\n",
        "\n",
        "It converts the input into a list of floats.\n",
        "\n",
        "The calculate_average function is called with the list of numbers.\n",
        "\n",
        "The function calculates the average excluding the smallest and largest values.\n",
        "\n",
        "The program then prints the original list of numbers and the calculated average."
      ]
    },
    {
      "cell_type": "markdown",
      "id": "2321a935-bd38-4a87-b06a-8c0519df089a",
      "metadata": {
        "id": "2321a935-bd38-4a87-b06a-8c0519df089a"
      },
      "source": [
        "18. Develop a program that converts a given temperature from Celsius to Fahrenheit."
      ]
    },
    {
      "cell_type": "code",
      "execution_count": null,
      "id": "84c2867b-b35e-4172-b1d6-1f36d3758cb1",
      "metadata": {
        "id": "84c2867b-b35e-4172-b1d6-1f36d3758cb1",
        "outputId": "ffb8187d-5086-4094-fe3f-d4499048e6f4"
      },
      "outputs": [
        {
          "name": "stdin",
          "output_type": "stream",
          "text": [
            "Enter the temperature in Celsius:  82\n"
          ]
        },
        {
          "name": "stdout",
          "output_type": "stream",
          "text": [
            "82.0 degrees Celsius is equal to 179.60 degrees Fahrenheit.\n"
          ]
        }
      ],
      "source": [
        "def celsius_to_fahrenheit(celsius):\n",
        "    # Formula to convert Celsius to Fahrenheit: F = (c * 9/5) +32\n",
        "    fahrenheit = (celsius * 9/5) + 32\n",
        "    return fahrenheit\n",
        "\n",
        "# Example usage:\n",
        "celsius_temperature = float(input(\"Enter the temperature in Celsius: \"))\n",
        "fahrenheit_temperature = celsius_to_fahrenheit(celsius_temperature)\n",
        "\n",
        "print(f\"{celsius_temperature} degrees Celsius is equal to {fahrenheit_temperature:.2f} degrees Fahrenheit.\")"
      ]
    },
    {
      "cell_type": "markdown",
      "id": "c0367dce-e66d-44ac-8109-7518368c8e54",
      "metadata": {
        "id": "c0367dce-e66d-44ac-8109-7518368c8e54"
      },
      "source": [
        "The program defines a function called celsius_to_fahrenheit that takes a temperature in Celsius as input.\n",
        "\n",
        "It uses the formula F = (c * 9/5) + 32 to convert Celsius to Fahrenheit.\n",
        "\n",
        "The result (temperature in Fahrenheit) is returned.\n",
        "\n",
        "The program takes user input for the temperature in Celsius.\n",
        "\n",
        "Calls the celsius_to_fahrenheit function with the user-provided temperature.\n",
        "\n",
        "Prints the original Celsius temperature and the equivalent Fahrenheit temperature."
      ]
    },
    {
      "cell_type": "markdown",
      "id": "47d0d108-d3c7-487f-9fd2-e8a86f9d73da",
      "metadata": {
        "id": "47d0d108-d3c7-487f-9fd2-e8a86f9d73da"
      },
      "source": [
        "19. Create a program that simulates a basic calculator for addition, subtraction, multiplication, and division."
      ]
    },
    {
      "cell_type": "code",
      "execution_count": null,
      "id": "a29a817c-04ca-4945-9dd2-11c3cc255646",
      "metadata": {
        "id": "a29a817c-04ca-4945-9dd2-11c3cc255646",
        "outputId": "9a964d64-5f6c-471c-9395-84549b560b91"
      },
      "outputs": [
        {
          "name": "stdin",
          "output_type": "stream",
          "text": [
            "Enter the first number:  84\n",
            "Enter the second number:  53\n",
            "Enter the operation (+, -, *, /):  /\n"
          ]
        },
        {
          "name": "stdout",
          "output_type": "stream",
          "text": [
            "The result of 84.0 / 53.0 is: 1.5849056603773586\n"
          ]
        }
      ],
      "source": [
        "def add(x, y):\n",
        "    return x + y\n",
        "\n",
        "def subtract(x, y):\n",
        "    return x - y\n",
        "\n",
        "def multiply(x, y):\n",
        "    return x * y\n",
        "\n",
        "def divide(x, y):\n",
        "    if y == 0:\n",
        "        return \"Cannot divide by zero.\"\n",
        "    return x / y\n",
        "\n",
        "# Usage input for numbers and operation\n",
        "num1 = float(input(\"Enter the first number: \"))\n",
        "num2 = float(input(\"Enter the second number: \"))\n",
        "operation = input(\"Enter the operation (+, -, *, /): \")\n",
        "\n",
        "# Perform the selected operation\n",
        "result = None\n",
        "if operation == '+':\n",
        "    result = add(num1, num2)\n",
        "elif operation == '-':\n",
        "    result = subtract(num1, num2)\n",
        "elif operation == '*':\n",
        "    result = multiply(num1, num2)\n",
        "elif operation == '/':\n",
        "    result = divide(num1, num2)\n",
        "else:\n",
        "    print(\"Invalid operation. Please enter +, -, *, or /.\")\n",
        "\n",
        "# Display the result\n",
        "if result is not None:\n",
        "    print(f\"The result of {num1} {operation} {num2} is: {result}\")\n",
        ""
      ]
    },
    {
      "cell_type": "markdown",
      "id": "42c853d2-589e-4bb1-814e-b2429e815712",
      "metadata": {
        "id": "42c853d2-589e-4bb1-814e-b2429e815712"
      },
      "source": [
        "The program defines separate functions (add, subtract, multiply, divide) for each operation.\n",
        "\n",
        "Takes user input for two numbers (num1 and num2) and the desired operation (operation).\n",
        "\n",
        "Uses conditional statements to determine the selected operation and perform the calculation.\n",
        "\n",
        "Prints the result of the operation.\n"
      ]
    },
    {
      "cell_type": "markdown",
      "id": "6d0377e3-bae7-4490-9135-e4d38056e766",
      "metadata": {
        "id": "6d0377e3-bae7-4490-9135-e4d38056e766"
      },
      "source": [
        "20. Write a program that determines the roots of a cubic equation using the Cardano formula."
      ]
    },
    {
      "cell_type": "code",
      "execution_count": null,
      "id": "d8367236-8fe4-42e0-8757-15d4e5acab7f",
      "metadata": {
        "id": "d8367236-8fe4-42e0-8757-15d4e5acab7f",
        "outputId": "328d066f-66cf-4895-d97a-1e67c6677de2"
      },
      "outputs": [
        {
          "name": "stdin",
          "output_type": "stream",
          "text": [
            "Enter the coefficient a:  95\n",
            "Enter the coefficient b:  75\n",
            "Enter the coefficient c:  35\n",
            "Enter the coefficient d:  15\n"
          ]
        },
        {
          "name": "stdout",
          "output_type": "stream",
          "text": [
            "The roots of the cubic equation are: ((-0.6098850357461006+0j), (-0.08979432423221291-0.5008289155779038j), (-0.08979432423221269+0.5008289155779037j))\n"
          ]
        }
      ],
      "source": [
        "import cmath  # Importing complex math module for handling complex roots\n",
        "\n",
        "def cubic_roots(a, b, c, d):\n",
        "    # Calculate discriminant and other intermediate values\n",
        "    delta0 = b**2 - 3*a*c\n",
        "    delta1 = 2*b**3 - 9*a*b*c + 27*a**2*d\n",
        "    C = (delta1 + cmath.sqrt(delta1**2 - 4*delta0**3)) / 2\n",
        "    u = C**(1/3)\n",
        "\n",
        "    # Calculate roots using Cardano formula\n",
        "    root1 = -1/(3*a) * (b + u + delta0/u)\n",
        "    root2 = -1/(3*a) * (b + cmath.exp(2j * cmath.pi/3) * u + delta0/(u * cmath.exp(2j * cmath.pi/3)))\n",
        "    root3 = -1/(3*a) * (b + cmath.exp(4j * cmath.pi/3) * u + delta0/(u * cmath.exp(4j * cmath.pi/3)))\n",
        "\n",
        "    return root1, root2, root3\n",
        "\n",
        "# User input for coefficients\n",
        "a = float(input(\"Enter the coefficient a: \"))\n",
        "b = float(input(\"Enter the coefficient b: \"))\n",
        "c = float(input(\"Enter the coefficient c: \"))\n",
        "d = float(input(\"Enter the coefficient d: \"))\n",
        "\n",
        "# Calculate and display the roots\n",
        "roots = cubic_roots(a, b, c, d)\n",
        "print(f\"The roots of the cubic equation are: {roots}\")\n"
      ]
    },
    {
      "cell_type": "markdown",
      "id": "e47093b0-81c2-462f-a320-32522f72e68f",
      "metadata": {
        "id": "e47093b0-81c2-462f-a320-32522f72e68f"
      },
      "source": [
        "Advanced Level:"
      ]
    },
    {
      "cell_type": "markdown",
      "id": "ac742800-7a2a-4c24-86bd-50f8c02a75ee",
      "metadata": {
        "id": "ac742800-7a2a-4c24-86bd-50f8c02a75ee"
      },
      "source": [
        "21. Create a program that calculates the income tax based on the user's income and tax brackets."
      ]
    },
    {
      "cell_type": "code",
      "execution_count": null,
      "id": "6baf061a-cf49-4846-84bd-ac86f40ec26b",
      "metadata": {
        "id": "6baf061a-cf49-4846-84bd-ac86f40ec26b",
        "outputId": "0a8c2c97-fe16-4cff-d3bb-bab78cdbe280"
      },
      "outputs": [
        {
          "name": "stdin",
          "output_type": "stream",
          "text": [
            "Enter your annual income:  50000\n"
          ]
        },
        {
          "name": "stdout",
          "output_type": "stream",
          "text": [
            "Your income tax for the year is: $10000.00\n"
          ]
        }
      ],
      "source": [
        "# Take user input for income\n",
        "income = float(input(\"Enter your annual income: \"))\n",
        "\n",
        "# Define tax brackets and rates\n",
        "tax_brackets = [10000, 40000, 80000, 150000]  # Example brackets, you can adjust as needed\n",
        "tax_rates = [0.1, 0.2, 0.3, 0.4, 0.5]  # Corresponding tax rates\n",
        "\n",
        "# Initialize variables\n",
        "tax_owed = 0\n",
        "\n",
        "# Calculate income tax using nested if-else statements\n",
        "if income <= tax_brackets[0]:\n",
        "    tax_owed = income * tax_rates[0]\n",
        "elif income <= tax_brackets[1]:\n",
        "    tax_owed = tax_brackets[0] * tax_rates[0] + (income - tax_brackets[0]) * tax_rates[1]\n",
        "elif income <= tax_brackets[2]:\n",
        "    tax_owed = tax_brackets[0] * tax_rates[0] + (tax_brackets[1] - tax_brackets[0]) * tax_rates[1] + (income - tax_brackets[1]) * tax_rates[2]\n",
        "elif income <= tax_brackets[3]:\n",
        "    tax_owed = tax_brackets[0] * tax_rates[0] + (tax_brackets[1] - tax_brackets[0]) * tax_rates[1] + (tax_brackets[2] - tax_brackets[1]) * tax_rates[2] + (income - tax_brackets[2]) * tax_rates[3]\n",
        "else:\n",
        "    tax_owed = tax_brackets[0] * tax_rates[0] + (tax_brackets[1] - tax_brackets[0]) * tax_rates[1] + (tax_brackets[2] - tax_brackets[1]) * tax_rates[2] + (tax_brackets[3] - tax_brackets[2]) * tax_rates[3] + (income - tax_brackets[3]) * tax_rates[4]\n",
        "\n",
        "# Print the calculated income tax\n",
        "print(f\"Your income tax for the year is: ${tax_owed:.2f}\")\n",
        ""
      ]
    },
    {
      "cell_type": "markdown",
      "id": "a88c6720-002b-493f-9fb4-7031c5d59729",
      "metadata": {
        "id": "a88c6720-002b-493f-9fb4-7031c5d59729"
      },
      "source": [
        "The program prompts the user to enter their annual income, and the input is converted to a floating-point number using float().\n",
        "\n",
        "The program defines tax brackets and corresponding tax rates. Adjust these values based on your tax system.\n",
        "\n",
        "The program uses nested if-else statements to calculate income tax based on the provided tax brackets and rates.\n",
        "\n",
        "The program prints the calculated income tax.\n",
        "\n"
      ]
    },
    {
      "cell_type": "markdown",
      "id": "a863a6a2-115b-4aac-94b4-2504ecf63edd",
      "metadata": {
        "id": "a863a6a2-115b-4aac-94b4-2504ecf63edd"
      },
      "source": [
        "22. Write a program that simulates a rock-paper-scissors game against the computer."
      ]
    },
    {
      "cell_type": "code",
      "execution_count": null,
      "id": "47f49507-ee8d-426a-8b8b-ac751da7dbca",
      "metadata": {
        "id": "47f49507-ee8d-426a-8b8b-ac751da7dbca",
        "outputId": "0f0a4765-b13b-4d53-ad74-12aaaec6af0b"
      },
      "outputs": [
        {
          "name": "stdin",
          "output_type": "stream",
          "text": [
            "Enter your choice (rock, paper, or scissors):  Paper\n"
          ]
        },
        {
          "name": "stdout",
          "output_type": "stream",
          "text": [
            "\n",
            "You chose: paper\n",
            "Computer chose: scissors\n",
            "Computer wins!\n"
          ]
        },
        {
          "name": "stdin",
          "output_type": "stream",
          "text": [
            "\n",
            "Do you want to play again? (yes/no):  yes\n",
            "Enter your choice (rock, paper, or scissors):  scissor\n"
          ]
        },
        {
          "name": "stdout",
          "output_type": "stream",
          "text": [
            "Invalid choice. Please enter rock, paper, or scissors.\n"
          ]
        },
        {
          "name": "stdin",
          "output_type": "stream",
          "text": [
            "Enter your choice (rock, paper, or scissors):  scissors\n"
          ]
        },
        {
          "name": "stdout",
          "output_type": "stream",
          "text": [
            "\n",
            "You chose: scissors\n",
            "Computer chose: scissors\n",
            "It's a tie!\n"
          ]
        },
        {
          "name": "stdin",
          "output_type": "stream",
          "text": [
            "\n",
            "Do you want to play again? (yes/no):  no\n"
          ]
        },
        {
          "name": "stdout",
          "output_type": "stream",
          "text": [
            "Thanks for playing! Goodbye.\n"
          ]
        }
      ],
      "source": [
        "import random\n",
        "\n",
        "def get_user_choice():\n",
        "    \"\"\" Get user's choice: rock, paper, or scissors.\"\"\"\n",
        "    while True:\n",
        "        user_choice = input(\"Enter your choice (rock, paper, or scissors): \").lower()\n",
        "        if user_choice in ['rock', 'paper', 'scissors']:\n",
        "            return user_choice\n",
        "        else:\n",
        "            print(\"Invalid choice. Please enter rock, paper, or scissors.\")\n",
        "\n",
        "def get_computer_choice():\n",
        "    \"\"\"Generate a random choice for the computer.\"\"\"\n",
        "    return random.choice(['rock', 'paper', 'scissors'])\n",
        "\n",
        "def determine_winner(user_choice, computer_choice):\n",
        "    \"\"\"Determine the winner of the game.\"\"\"\n",
        "    if user_choice == computer_choice:\n",
        "        return \"It's a tie!\"\n",
        "    elif (user_choice == 'rock' and computer_choice == 'scissors') or \\\n",
        "         (user_choice == 'paper' and computer_choice == 'rock') or \\\n",
        "         (user_choice == 'scissors' and computer_choice == 'paper'):\n",
        "        return \"You win!\"\n",
        "    else:\n",
        "        return \"Computer wins!\"\n",
        "\n",
        "# Main game loop\n",
        "while True:\n",
        "          # Get user and computer choices\n",
        "          user_choice = get_user_choice()\n",
        "          computer_choice = get_computer_choice()\n",
        "\n",
        "          # Display choice\n",
        "          print(f\"\\nYou chose: {user_choice}\")\n",
        "          print(f\"Computer chose: {computer_choice}\")\n",
        "\n",
        "          # Determine and print the winner\n",
        "          result = determine_winner(user_choice, computer_choice)\n",
        "          print(result)\n",
        "\n",
        "          # Ask the user if they want to play again\n",
        "          play_again = input(\"\\nDo you want to play again? (yes/no): \").lower()\n",
        "          if play_again != 'yes':\n",
        "             print(\"Thanks for playing! Goodbye.\")\n",
        "             break"
      ]
    },
    {
      "cell_type": "markdown",
      "id": "25159afc-f7d2-4178-9a0a-686218d72c6f",
      "metadata": {
        "id": "25159afc-f7d2-4178-9a0a-686218d72c6f"
      },
      "source": [
        "The get_user_choice function takes user input for their choice and validates it.\n",
        "\n",
        "The get_computer_choice function generates a random choice for the computer.\n",
        "\n",
        "The determine_winner function compares the user's and computer's choices to determine the winner.\n",
        "\n",
        "The program runs a loop where the user can play the game multiple times.\n",
        "It gets user and computer choices, displays them, determines the winner, and asks if the user wants to play again."
      ]
    },
    {
      "cell_type": "markdown",
      "id": "8fd3620f-73f4-48c1-9aa4-4864d0c27d02",
      "metadata": {
        "id": "8fd3620f-73f4-48c1-9aa4-4864d0c27d02"
      },
      "source": [
        "23. Develop a program that generates a random password based on user preferences (length, complexity)."
      ]
    },
    {
      "cell_type": "code",
      "execution_count": null,
      "id": "fa14a9cd-cf88-4a8b-82af-b5f87da91f6a",
      "metadata": {
        "id": "fa14a9cd-cf88-4a8b-82af-b5f87da91f6a",
        "outputId": "81d67fbf-19ba-43fa-be09-84dc9cb08f73"
      },
      "outputs": [
        {
          "name": "stdin",
          "output_type": "stream",
          "text": [
            "Enter the length of the password:  12\n",
            "Enter the complexity (uppercase, lowercase, digits, special - separated by commas):  V8#7X*%PzKmW\n"
          ]
        },
        {
          "name": "stdout",
          "output_type": "stream",
          "text": [
            "Invalid complexity. Please choose at least one option.\n"
          ]
        }
      ],
      "source": [
        "import random\n",
        "import string\n",
        "\n",
        "def generate_password(length, complexity):\n",
        "    \"\"\"Generate a random password based on user preferences.\"\"\"\n",
        "    characters = ''\n",
        "\n",
        "    if 'uppercase' in complexity:\n",
        "        characters += string.ascii_uppercase\n",
        "    if 'lowercase' in complexity:\n",
        "        characters += string.ascii_lowercase\n",
        "    if 'digits' in complexity:\n",
        "        characters += string.digits\n",
        "    if 'special' in complexity:\n",
        "        characters += string.punctuation\n",
        "\n",
        "    if not characters:\n",
        "        print(\"Invalid complexity. Please choose at least one option.\")\n",
        "        return None\n",
        "\n",
        "    password = ''.join(random.choice(characters) for _ in range(length))\n",
        "    return password\n",
        "\n",
        "# Get user preferences\n",
        "length = int(input(\"Enter the length of the password: \"))\n",
        "complexity = input(\"Enter the complexity (uppercase, lowercase, digits, special - separated by commas): \").lower().split(',')\n",
        "\n",
        "# Generate and print the password\n",
        "password = generate_password(length, complexity)\n",
        "if password:\n",
        "    print(f\"Generated Password: {password}\")\n",
        "\n",
        "\n",
        "\n",
        "\n",
        ""
      ]
    },
    {
      "cell_type": "markdown",
      "id": "3a646784-2562-4563-b176-238851134cfc",
      "metadata": {
        "id": "3a646784-2562-4563-b176-238851134cfc"
      },
      "source": [
        "The program prompts the user to enter the desired length and complexity of the password.\n",
        "\n",
        "The generate_password function takes the desired length and complexity as input.\n",
        "It constructs a string of characters based on the selected complexity options.\n",
        "It then generates a random password by choosing characters from the constructed string.\n",
        "\n",
        "The program gets the user's input for the length and complexity of the password.\n",
        "\n",
        "The program calls the generate_password function with the user's preferences.\n",
        "If the complexity is invalid (no options selected), it prints an error message.\n",
        "Otherwise, it prints the generated password.\n"
      ]
    },
    {
      "cell_type": "markdown",
      "id": "49e0eb40-c19e-4d77-806b-c157243956c8",
      "metadata": {
        "id": "49e0eb40-c19e-4d77-806b-c157243956c8"
      },
      "source": [
        "24. Create a program that implements a simple text-based adventure game with branching scenarios."
      ]
    },
    {
      "cell_type": "code",
      "execution_count": null,
      "id": "f44af965-32b0-47c1-9194-973728a0cbc6",
      "metadata": {
        "id": "f44af965-32b0-47c1-9194-973728a0cbc6",
        "outputId": "f902e170-c908-4c0b-ecf7-fe3bbc383301"
      },
      "outputs": [
        {
          "name": "stdout",
          "output_type": "stream",
          "text": [
            "Welcome to the Adventure Game!\n",
            "You find yourself standing at a crossroads.\n",
            "There are three paths in front of you.\n",
            "\n",
            "Choose your path:\n",
            "1. The Forest\n",
            "2. The Mountains\n",
            "3. The Cave\n"
          ]
        },
        {
          "name": "stdin",
          "output_type": "stream",
          "text": [
            "Enter the number of your chosen path:  2\n"
          ]
        },
        {
          "name": "stdout",
          "output_type": "stream",
          "text": [
            "\n",
            "You climb the towering mountains.\n",
            "At the summit, you see a dragon guarding a treasure chest.\n"
          ]
        },
        {
          "name": "stdin",
          "output_type": "stream",
          "text": [
            "Do you want to approach the dragon? (yes/no):  yes\n"
          ]
        },
        {
          "name": "stdout",
          "output_type": "stream",
          "text": [
            "\n",
            "The dragon breathes fire and you narrowly escape.\n"
          ]
        }
      ],
      "source": [
        "import time\n",
        "\n",
        "def introduction():\n",
        "    print(\"Welcome to the Adventure Game!\")\n",
        "    time.sleep(1)\n",
        "    print(\"You find yourself standing at a crossroads.\")\n",
        "    time.sleep(1)\n",
        "    print(\"There are three paths in front of you.\")\n",
        "\n",
        "def choose_path():\n",
        "    print(\"\\nChoose your path:\")\n",
        "    print(\"1. The Forest\")\n",
        "    print(\"2. The Mountains\")\n",
        "    print(\"3. The Cave\")\n",
        "\n",
        "    choice = input(\"Enter the number of your chosen path: \")\n",
        "\n",
        "    if choice == '1':\n",
        "        forest_path()\n",
        "    elif choice == '2':\n",
        "        mountain_path()\n",
        "    elif choice == '3':\n",
        "        cave_path()\n",
        "    else:\n",
        "        print(\"Invalid choice. Please enter a number between 1 and 3.\")\n",
        "        choose_path()\n",
        "\n",
        "def forest_path():\n",
        "    print(\"\\nYou enter the dense forest.\")\n",
        "    time.sleep(1)\n",
        "    print(\"As you walk deeper, you hear mysterious sounds.\")\n",
        "    time.sleep(1)\n",
        "    print(\"You come across a clearing with a magical pool.\")\n",
        "\n",
        "    choice = input(\"Do you want to drink from the pool? (yes/no): \").lower()\n",
        "\n",
        "    if choice == 'yes':\n",
        "        print(\"\\nYou feel a surge of energy and gain magical powers!\")\n",
        "        ending(\"forest\")\n",
        "    elif choice == 'no':\n",
        "        print(\"You decide not to drink from the pool.\")\n",
        "        ending(\"safe\")\n",
        "    else:\n",
        "        print(\"Invalid choice. Please enter 'yes' or 'no'.\")\n",
        "        forest_path()\n",
        "\n",
        "def mountain_path():\n",
        "    print(\"\\nYou climb the towering mountains.\")\n",
        "    time.sleep(1)\n",
        "    print(\"At the summit, you see a dragon guarding a treasure chest.\")\n",
        "\n",
        "    choice = input(\"Do you want to approach the dragon? (yes/no): \").lower()\n",
        "\n",
        "    if choice == 'yes':\n",
        "        print(\"\\nThe dragon breathes fire and you narrowly escape.\")\n",
        "        ending(\"dangerous\")\n",
        "    elif choice == 'no':\n",
        "        print(\"You decide not to approach the dragon.\")\n",
        "        ending(\"safe\")\n",
        "    else:\n",
        "        print(\"Invalid choice. Please enter 'yes' or 'no'.\")\n",
        "        mountain_path()\n",
        "\n",
        "def cave_path():\n",
        "    print(\"\\nYou enter a dark cave.\")\n",
        "    time.sleep(1)\n",
        "    print(\"There are glowing mushrooms illuminating the path.\")\n",
        "\n",
        "    choice = input(\"Do you want to explore deeper into the cave? (yes/no): \").lower()\n",
        "\n",
        "    if choice == 'yes':\n",
        "        print(\"\\nYou discover a hidden treasure chest!\")\n",
        "        ending(\"treasure\")\n",
        "    elif chioce == 'no':\n",
        "        print(\"You decide not to explore deeper into the cave.\")\n",
        "        ending(\"safe\")\n",
        "    else:\n",
        "        print(\"Invalid choice. Please enter 'yes' or 'no'.\")\n",
        "        cave_path()\n",
        "\n",
        "def ending(result):\n",
        "    if result == \"forest\":\n",
        "        print(\"\\nCongratulations! You have gained magical powers and successfully completed the adventure.\")\n",
        "    elif result == \"danderous\":\n",
        "        print(\"\\nGame Over! Approaching the dragon was too dangerous.\")\n",
        "    elif result == \"treasure\":\n",
        "        print(\"\\nCongratulations! You found a hidden treasure and successfully completed the adventure.\")\n",
        "    elif result == \"safe\":\n",
        "        print(\"\\nYou chose a safe path and completed the adventure.\")\n",
        "\n",
        "# Main game loop\n",
        "introduction()\n",
        "choose_path()\n",
        "\n",
        "\n",
        "\n",
        "\n",
        "\n",
        "\n",
        "\n",
        "\n",
        "\n",
        "\n",
        "\n",
        ""
      ]
    },
    {
      "cell_type": "markdown",
      "id": "7090890d-87c7-45ee-af98-00081206fba0",
      "metadata": {
        "id": "7090890d-87c7-45ee-af98-00081206fba0"
      },
      "source": [
        "import time\n",
        "This line imports the time module, which will be used to introduce delays in the text, giving a more interactive feel to the game.\n",
        "\n",
        "The introduction function sets the stage for the adventure by printing an introductory message with a short delay between each line.\n",
        "\n",
        "The choose_path function presents the player with the options to choose a path and then calls the respective function (forest_path, mountain_path, or cave_path) based on their input.\n",
        "\n",
        "The forest_path function represents the scenario where the player chooses the forest path. It introduces the forest setting, presents a choice to drink from a magical pool, and then calls the ending function with the appropriate result.\n",
        "\n",
        "The mountain_path function represents the scenario where the player chooses the mountain path. It introduces the mountain setting, presents a choice to approach a dragon, and then calls the ending function with the appropriate result.\n",
        "\n",
        "The cave_path function represents the scenario where the player chooses the cave path. It introduces the cave setting, presents a choice to explore deeper, and then calls the ending function with the appropriate result.\n",
        "\n",
        "The ending function prints a message based on the result of the player's choices.\n",
        "\n",
        "The main game loop starts by calling the introduction function to set the stage. It then calls the choose_path function to let the player choose their path, and the subsequent functions handle the branching scenarios.\n",
        "\n"
      ]
    },
    {
      "cell_type": "markdown",
      "id": "a6eeaf91-d228-4f7d-914d-22e403f9d13e",
      "metadata": {
        "id": "a6eeaf91-d228-4f7d-914d-22e403f9d13e"
      },
      "source": [
        "25. Build a program that solves a linear equation for x, considering different cases."
      ]
    },
    {
      "cell_type": "code",
      "execution_count": null,
      "id": "74242467-0538-49de-a836-063448f704bd",
      "metadata": {
        "id": "74242467-0538-49de-a836-063448f704bd",
        "outputId": "07efcb74-7073-4ef0-a231-e8a73adf01ca"
      },
      "outputs": [
        {
          "name": "stdout",
          "output_type": "stream",
          "text": [
            "The solution for the linear equation 2x + -8 = 0 is x = 4.0\n",
            "No solution. The equation is inconsistent.\n",
            "The solution for the linear equation 3x + 0 = 0 is x = 0.0\n",
            "Infinite solutions. The equation is always true.\n"
          ]
        }
      ],
      "source": [
        "def solve_linear_equation(a, b):\n",
        "    if a == 0:\n",
        "        if b == 0:\n",
        "            print(\"Infinite solutions. The equation is always true.\")\n",
        "        else:\n",
        "            print(\"No solution. The equation is inconsistent.\")\n",
        "    else:\n",
        "        x = -b / a\n",
        "        print(f\"The solution for the linear equation {a}x + {b} = 0 is x = {x}\")\n",
        "\n",
        "# Test cases\n",
        "# Case 1: a and b are non-zero\n",
        "solve_linear_equation(2, -8)\n",
        "\n",
        "# Case 2: a is zero, b is non-zero\n",
        "solve_linear_equation(0, 5)\n",
        "\n",
        "# Case 3: b is zero, a is non-zero\n",
        "solve_linear_equation(3, 0)\n",
        "\n",
        "# Case 4: a and b are zero\n",
        "solve_linear_equation(0,0)\n"
      ]
    },
    {
      "cell_type": "markdown",
      "id": "70762573-8f90-4dd1-b83d-056398a297c4",
      "metadata": {
        "id": "70762573-8f90-4dd1-b83d-056398a297c4"
      },
      "source": [
        "The solve_linear_equation function takes two parameters, a and b, representing the coefficients in the linear equation.\n",
        "\n",
        "Inside the function, it checks for different cases:\n",
        "\n",
        "If a is zero, it checks whether b is also zero. If yes, it prints \"Infinite solutions. The equation is always true.\" Otherwise, it prints \"No solution. The equation is inconsistent.\"\n",
        "If a is non-zero, it calculates the solution for x using the formula x=−b/a and prints the result.\n",
        "Test cases demonstrate different scenarios:\n",
        "\n",
        "Case 1: Both a and b are non-zero.\n",
        "Case 2: a is zero, b is non-zero.\n",
        "Case 3: b is zero, a is non-zero.\n",
        "Case 4: Both a and b are zero.\n"
      ]
    },
    {
      "cell_type": "markdown",
      "id": "f2054594-35bc-4ca6-b356-5cb89f2220b2",
      "metadata": {
        "id": "f2054594-35bc-4ca6-b356-5cb89f2220b2"
      },
      "source": [
        "26. Write a program that simulates a basic quiz game with multiple-choice questions and scoring."
      ]
    },
    {
      "cell_type": "code",
      "execution_count": null,
      "id": "fcf80619-5966-4c91-875e-8d716b9812e7",
      "metadata": {
        "id": "fcf80619-5966-4c91-875e-8d716b9812e7",
        "outputId": "b36191d5-3eca-4ff7-c32c-2fb2569b51c2"
      },
      "outputs": [
        {
          "name": "stdout",
          "output_type": "stream",
          "text": [
            "Welcome to the Python Quiz!\n",
            "\n",
            "What is the capital of France?\n",
            "A. Berlin\n",
            "B. Paris\n",
            "C. Rome\n",
            "D. Madrid\n"
          ]
        },
        {
          "name": "stdin",
          "output_type": "stream",
          "text": [
            "Your answer (Enter the letter):  B\n"
          ]
        },
        {
          "name": "stdout",
          "output_type": "stream",
          "text": [
            "Correct!\n",
            "\n",
            "What is the largest planet in our solar system?\n",
            "A. Venus\n",
            "B. Jupiter\n",
            "C. Mars\n",
            "D. Saturn\n"
          ]
        },
        {
          "name": "stdin",
          "output_type": "stream",
          "text": [
            "Your answer (Enter the letter):  D\n"
          ]
        },
        {
          "name": "stdout",
          "output_type": "stream",
          "text": [
            "Wrong! The correct answer is B.\n",
            "\n",
            "Which programming language is this quiz written in?\n",
            "A. Java\n",
            "B. Python\n",
            "C. C++\n",
            "D. JavaScript\n"
          ]
        },
        {
          "name": "stdin",
          "output_type": "stream",
          "text": [
            "Your answer (Enter the letter):  B\n"
          ]
        },
        {
          "name": "stdout",
          "output_type": "stream",
          "text": [
            "Correct!\n",
            "\n",
            "Quiz completed!\n",
            "Your final score: 2/3\n"
          ]
        }
      ],
      "source": [
        "import random\n",
        "\n",
        "def quiz():\n",
        "    print(\"Welcome to the Python Quiz!\")\n",
        "    score = 0\n",
        "\n",
        "    # Questions and Answers\n",
        "    questions = [\n",
        "        {\"question\": \"What is the capital of France?\", \"options\": [\"A. Berlin\", \"B. Paris\", \"C. Rome\", \"D. Madrid\"], \"answer\": \"B\"},\n",
        "        {\"question\": \"Which programming language is this quiz written in?\", \"options\": [\"A. Java\", \"B. Python\", \"C. C++\", \"D. JavaScript\"], \"answer\": \"B\"},\n",
        "        {\"question\": \"What is the largest planet in our solar system?\", \"options\": [\"A. Venus\", \"B. Jupiter\", \"C. Mars\", \"D. Saturn\"], \"answer\": \"B\"},\n",
        "    ]\n",
        "\n",
        "    # Shuffle questions to make the quiz more interesting\n",
        "    random.shuffle(questions)\n",
        "\n",
        "    for q in questions:\n",
        "        print(\"\\n\" + q[\"question\"])\n",
        "        for option in q[\"options\"]:\n",
        "            print(option)\n",
        "\n",
        "        user_answer = input(\"Your answer (Enter the letter): \").upper()\n",
        "\n",
        "        if user_answer == q[\"answer\"]:\n",
        "            print(\"Correct!\")\n",
        "            score += 1\n",
        "        else:\n",
        "            print(f\"Wrong! The correct answer is {q['answer']}.\")\n",
        "\n",
        "    print(\"\\nQuiz completed!\")\n",
        "    print(f\"Your final score: {score}/{len(questions)}\")\n",
        "\n",
        "# Run the quiz\n",
        "quiz()\n",
        "\n",
        ""
      ]
    },
    {
      "cell_type": "markdown",
      "id": "b6adceee-0973-4dcc-907e-dd9e395c1b96",
      "metadata": {
        "id": "b6adceee-0973-4dcc-907e-dd9e395c1b96"
      },
      "source": [
        "The quiz function initializes a score variable and defines a list of multiple-choice questions with options and correct answers.\n",
        "\n",
        "The questions are shuffled randomly to add variety to the quiz.\n",
        "\n",
        "The function then iterates through each question, presents the options to the player, takes their input, and compares it with the correct answer.\n",
        "\n",
        "The player's score is updated based on correct answers.\n",
        "\n",
        "After completing the quiz, the player's final score is displayed."
      ]
    },
    {
      "cell_type": "markdown",
      "id": "1b0b41a2-b943-44f5-9b7c-38364d210884",
      "metadata": {
        "id": "1b0b41a2-b943-44f5-9b7c-38364d210884"
      },
      "source": [
        "27. Develop a program that determines whether a given year is a prime number or not."
      ]
    },
    {
      "cell_type": "code",
      "execution_count": null,
      "id": "aae98a3b-3b1e-4843-ae18-caf8029a7948",
      "metadata": {
        "id": "aae98a3b-3b1e-4843-ae18-caf8029a7948",
        "outputId": "19fcaa14-1321-426a-844d-b81ea25635ed"
      },
      "outputs": [
        {
          "name": "stdin",
          "output_type": "stream",
          "text": [
            "Enter a year to check if it's prime:  2024\n"
          ]
        },
        {
          "name": "stdout",
          "output_type": "stream",
          "text": [
            "2024 is not a prime year.\n"
          ]
        }
      ],
      "source": [
        "def is_prime_year(year):\n",
        "    if year <= 1:\n",
        "        return False # Years less than or equal to 1 are not prime\n",
        "\n",
        "    for i in range(2, int(year**0.5) + 1):\n",
        "        if year % i == 0:\n",
        "            return False # If the year is divisible by any number between 2 and sqrt(year), it's not prime\n",
        "\n",
        "    return True # If no divisors are found, the year is prime\n",
        "\n",
        "# Test the program\n",
        "year_to_check = int(input(\"Enter a year to check if it's prime: \"))\n",
        "\n",
        "if is_prime_year(year_to_check):\n",
        "    print(f\"{year_to_check} is a prime year.\")\n",
        "else:\n",
        "    print(f\"{year_to_check} is not a prime year.\")"
      ]
    },
    {
      "cell_type": "markdown",
      "id": "7cfcf397-5a6f-423b-998e-4774e5870515",
      "metadata": {
        "id": "7cfcf397-5a6f-423b-998e-4774e5870515"
      },
      "source": [
        "The is_prime function checks if a given number (in this case, a year) is prime. It returns True if the number is prime and False otherwise.\n",
        "\n",
        "The function iterates through numbers from 2 to the square root of the input number. If the input number is divisible evenly by any number in this range, it is not prime.\n",
        "\n",
        "The main function takes user input for a year, converts it to an integer, and then checks if the year is prime using the is_prime function.\n",
        "\n",
        "The __main__ block ensures that the main function is called when the script is run.\n",
        "\n",
        "The program uses exception handling to handle cases where the user enters invalid input (e.g., non-integer values)."
      ]
    },
    {
      "cell_type": "markdown",
      "id": "5b7a6738-fc3a-4504-bb08-5a2adddb5ac8",
      "metadata": {
        "id": "5b7a6738-fc3a-4504-bb08-5a2adddb5ac8"
      },
      "source": [
        "28. Create a program that sorts three numbers in ascending order using conditional statements."
      ]
    },
    {
      "cell_type": "code",
      "execution_count": null,
      "id": "959cb5a4-7926-4bc2-aea6-9dd384b370f4",
      "metadata": {
        "id": "959cb5a4-7926-4bc2-aea6-9dd384b370f4",
        "outputId": "87ae42b1-8734-4530-9476-94997b0acd23"
      },
      "outputs": [
        {
          "name": "stdin",
          "output_type": "stream",
          "text": [
            "Enter the first number:  108\n",
            "Enter the second number:  56\n",
            "Enter the third number:  8\n"
          ]
        },
        {
          "name": "stdout",
          "output_type": "stream",
          "text": [
            "Sorted Numbers: (8.0, 56.0, 108.0)\n"
          ]
        }
      ],
      "source": [
        "def sort_numbers(num1, num2, num3):\n",
        "    if num1 <= num2 <= num3:\n",
        "        sorted_nums = (num1, num2, num3)\n",
        "    elif num1 <= num3 <= num2:\n",
        "        sorted_nums = (num1, num3, num2)\n",
        "    elif num2 <= num1 <= num3:\n",
        "        sorted_nums = (num2, num1, num3)\n",
        "    elif num2 <= num3 <= num1:\n",
        "        sorted_nums = (num2, num3, num1)\n",
        "    elif num3 <= num1 <= num2:\n",
        "        sorted_nums = (num3, num1, num2)\n",
        "    else:\n",
        "        sorted_nums = (num3, num2, num1)\n",
        "\n",
        "    return sorted_nums\n",
        "\n",
        "def main():\n",
        "    try:\n",
        "        num1 = float(input(\"Enter the first number: \"))\n",
        "        num2 = float(input(\"Enter the second number: \"))\n",
        "        num3 = float(input(\"Enter the third number: \"))\n",
        "\n",
        "        sorted_numbers = sort_numbers(num1, num2, num3)\n",
        "\n",
        "        print(f\"Sorted Numbers: {sorted_numbers}\")\n",
        "    except ValueError:\n",
        "        print(\"Invalid input. Please enter valid numbers.\")\n",
        "\n",
        "if __name__ == \"__main__\":\n",
        "    main()"
      ]
    },
    {
      "cell_type": "markdown",
      "id": "027a19c0-67c6-4f12-86f2-2a66daa739c7",
      "metadata": {
        "id": "027a19c0-67c6-4f12-86f2-2a66daa739c7"
      },
      "source": [
        "The sort_numbers function takes three numbers as input and uses conditional statements to determine the correct order of the numbers.\n",
        "\n",
        "It compares the numbers in different orders and assigns the sorted tuple to the variable sorted_nums.\n",
        "\n",
        "The main function takes user input for three numbers, converts them to float values, and then calls the sort_numbers function.\n",
        "\n",
        "The __main__ block ensures that the main function is called when the script is run.\n",
        "\n",
        "The program uses exception handling to handle cases where the user enters invalid input (e.g., non-numeric values).\n",
        "\n",
        "\n"
      ]
    },
    {
      "cell_type": "markdown",
      "id": "a0037021-a774-456f-a27a-ee9e4093ad35",
      "metadata": {
        "id": "a0037021-a774-456f-a27a-ee9e4093ad35"
      },
      "source": [
        "29. Build a program that determines the roots of a quartic equation using numerical methods."
      ]
    },
    {
      "cell_type": "code",
      "execution_count": null,
      "id": "151792ab-12b1-4561-9d46-e51182ad1fae",
      "metadata": {
        "id": "151792ab-12b1-4561-9d46-e51182ad1fae",
        "outputId": "9f213e8f-b894-4600-c8ff-97fb10af6afe"
      },
      "outputs": [
        {
          "name": "stdout",
          "output_type": "stream",
          "text": [
            "One root of the quartic equation is approximately: -1.200253\n"
          ]
        }
      ],
      "source": [
        "def quartic_equation(x, coefficients):\n",
        "    \"\"\"\n",
        "    Evaluate the quartic equation f(x) = ax^4 + bx^3 + cx^2 + dx + e\n",
        "    \"\"\"\n",
        "    a, b, c, d, e = coefficients\n",
        "    return a * x**4 + b * x**3 + c * x**2 + d * x + e\n",
        "\n",
        "def derivative_quartic(x, coefficients):\n",
        "    \"\"\"\n",
        "    Compute the derivative of the quartic equation f'(x) = 4ax^3 + 3bx^2 + 2cx + d\n",
        "    \"\"\"\n",
        "    a, b, c, d, _ = coefficients\n",
        "    return 4 * a * x**3 + 3 * b * x**2 + 2 * c * x + d\n",
        "\n",
        "def newton_method_quartic(coefficients, initial_guess, tolerance=1e-6, max_iterations=100):\n",
        "    \"\"\"\n",
        "    Use Newton's method to find a root of the quartic equation\n",
        "    \"\"\"\n",
        "    x = initial_guess\n",
        "    iteration = 0\n",
        "\n",
        "    while abs(quartic_equation(x, coefficients)) > tolerance and iteration < max_iterations:\n",
        "        x = x - quartic_equation(x, coefficients) / derivative_quartic(x, coefficients)\n",
        "        iteration += 1\n",
        "\n",
        "    if abs(quartic_equation(x, coefficients)) <= tolerance:\n",
        "        return x\n",
        "    else:\n",
        "        print(\"Newton's method did not converge.\")\n",
        "        return None\n",
        "\n",
        "def main():\n",
        "    # Example coefficients of the quartic equation: f(x) = x^4 - 5x^3 + 2x^2 + 8x - 4\n",
        "    coefficients = [1, -5, 2, 8, -4]\n",
        "\n",
        "    # Find one root using Newton's method\n",
        "    initial_guess = 1.0\n",
        "    root = newton_method_quartic(coefficients, initial_guess)\n",
        "\n",
        "    if root is not None:\n",
        "        print(f\"One root of the quartic equation is approximately: {root:.6f}\")\n",
        "\n",
        "if __name__ == \"__main__\":\n",
        "    main()\n",
        "\n",
        "\n",
        "\n",
        ""
      ]
    },
    {
      "cell_type": "markdown",
      "id": "28fbfc68-9de1-4875-be6f-81720f4e13fa",
      "metadata": {
        "id": "28fbfc68-9de1-4875-be6f-81720f4e13fa"
      },
      "source": [
        "The quartic_equation function evaluates the quartic equation f(x)=ax^4+bx^3+cx^2+dx+e.\n",
        "\n",
        "The derivative_quartic function computes the derivative of the quartic equation f'(x)=4ax^3+3bx^2+2cx+d.\n",
        "    \n",
        "The newton_method_quartic function uses Newton's method to find a root of the quartic equation.\n",
        "\n",
        "The main function demonstrates the usage of the program with an example quartic equation.\n",
        "\n"
      ]
    },
    {
      "cell_type": "markdown",
      "id": "9fa395a2-d281-44b6-b49c-1f9f175112fa",
      "metadata": {
        "id": "9fa395a2-d281-44b6-b49c-1f9f175112fa"
      },
      "source": [
        "30. Write a program that calculates the BMI (Body Mass Index) and provides health recommendations based\n",
        "on the user's input."
      ]
    },
    {
      "cell_type": "code",
      "execution_count": null,
      "id": "717ff89c-3759-492a-a917-2479d9aee27c",
      "metadata": {
        "id": "717ff89c-3759-492a-a917-2479d9aee27c",
        "outputId": "2f3cde6a-63ee-4c12-80cf-c0fff31059db"
      },
      "outputs": [
        {
          "name": "stdin",
          "output_type": "stream",
          "text": [
            "Enter your weight in kilograms:  69\n",
            "Enter your height in meters:  1.646\n"
          ]
        },
        {
          "name": "stdout",
          "output_type": "stream",
          "text": [
            "\n",
            "Your BMI is: 25.47\n",
            "Overweight: Consider losing some weight for a healthier BMI.\n"
          ]
        }
      ],
      "source": [
        "def calculate_bmi(weight, height):\n",
        "    \"\"\"\n",
        "    Calculate Body Mass Index (BMI) using the formula: BMI = weight(kg) / (height(m) ** 2)\n",
        "    \"\"\"\n",
        "    return weight / (height ** 2)\n",
        "\n",
        "def health_recommendations(bmi):\n",
        "    \"\"\"\n",
        "    Provide health recommendations based on BMI values\n",
        "    \"\"\"\n",
        "    if bmi < 18.5:\n",
        "        return \"Underweight: Consider gaining some weight for a healthier BMI.\"\n",
        "    elif 18.5 <= bmi < 24.9:\n",
        "        return \"Normal weight: Keep maintaining a healthy lifestyle.\"\n",
        "    elif 25 <= bmi < 29.9:\n",
        "        return \"Overweight: Consider losing some weight for a healthier BMI.\"\n",
        "    else:\n",
        "        return \"Obese: It is recommended to consult with a healthcare professional for weight management.\"\n",
        "\n",
        "def main():\n",
        "    try:\n",
        "        weight = float(input(\"Enter your weight in kilograms: \"))\n",
        "        height = float(input(\"Enter your height in meters: \"))\n",
        "\n",
        "        if weight <= 0 or height <= 0:\n",
        "            print(\"Invalid input. Weight and height must be positive numbers.\")\n",
        "            return\n",
        "\n",
        "        bmi = calculate_bmi(weight, height)\n",
        "        recommendations = health_recommendations(bmi)\n",
        "\n",
        "        print(f\"\\nYour BMI is: {bmi:.2f}\")\n",
        "        print(recommendations)\n",
        "\n",
        "    except ValueError:\n",
        "        print(\"Invalid input. Please enter valid numeric values.\")\n",
        "\n",
        "if __name__ == \"__main__\":\n",
        "    main()\n"
      ]
    },
    {
      "cell_type": "markdown",
      "id": "77ad82c9-48e7-4c60-a1d6-a2c8c51bab56",
      "metadata": {
        "id": "77ad82c9-48e7-4c60-a1d6-a2c8c51bab56"
      },
      "source": [
        "The calculate_bmi function calculates the BMI using the formula BMI= weight (kg)/height (m)^2.\n",
        "\n",
        "The health_recommendations function provides health recommendations based on BMI categories.\n",
        "\n",
        "The main function takes user input for weight and height, calculates BMI, and displays health recommendations.\n",
        "\n",
        "The program uses exception handling to handle cases where the user enters invalid input (e.g., non-numeric values, negative values)."
      ]
    },
    {
      "cell_type": "markdown",
      "id": "3fd9163b-93f1-49da-a98a-7db71cfd3fb8",
      "metadata": {
        "id": "3fd9163b-93f1-49da-a98a-7db71cfd3fb8"
      },
      "source": [
        "Challenge Level:"
      ]
    },
    {
      "cell_type": "markdown",
      "id": "1842b89d-96fb-4753-96b8-bf80b051b893",
      "metadata": {
        "id": "1842b89d-96fb-4753-96b8-bf80b051b893"
      },
      "source": [
        "31. Create a program that validates a password based on complexity rules (length, characters, etc.)."
      ]
    },
    {
      "cell_type": "code",
      "execution_count": null,
      "id": "d8226617-2f53-4fa3-a3db-07e590ed9d54",
      "metadata": {
        "id": "d8226617-2f53-4fa3-a3db-07e590ed9d54",
        "outputId": "eea2f393-2d2c-49df-e286-27b4ffb923d9"
      },
      "outputs": [
        {
          "name": "stdin",
          "output_type": "stream",
          "text": [
            "Enter your password:  Gayatri@8676\n"
          ]
        },
        {
          "name": "stdout",
          "output_type": "stream",
          "text": [
            "Password is valid.\n"
          ]
        }
      ],
      "source": [
        "import re\n",
        "\n",
        "def validate_password(password):\n",
        "    # Define complexity rules\n",
        "    min_length = 8\n",
        "    has_lowercase = re.search(\"[a-z]\", password) is not None\n",
        "    has_uppercase = re.search(\"[A-Z]\", password) is not None\n",
        "    has_digit = re.search(\"\\d\", password) is not None\n",
        "    has_special_char = re.search(\"[!@#$%^&*(),.?\\\":{}|<>]\", password) is not None\n",
        "\n",
        "    # Check if password meets all complexity rules\n",
        "    if len(password) < min_length:\n",
        "        return \"Password must be at least 8 characters long.\"\n",
        "    elif not has_lowercase:\n",
        "        return \"Password must contain at least one lowercase letter.\"\n",
        "    elif not has_uppercase:\n",
        "        return \"Password must contain at least one uppercase letter.\"\n",
        "    elif not has_digit:\n",
        "        return \"Password must contain at least one digit.\"\n",
        "    elif not has_special_char:\n",
        "        return \"Password must contain at least one special character.\"\n",
        "    else:\n",
        "        return \"Password is valid.\"\n",
        "\n",
        "# User input for password\n",
        "password = input(\"Enter your password: \")\n",
        "\n",
        "# Validate the password\n",
        "result = validate_password(password)\n",
        "print(result)\n"
      ]
    },
    {
      "cell_type": "markdown",
      "id": "8f41f6c7-b838-4d24-8417-2da5bb192feb",
      "metadata": {
        "id": "8f41f6c7-b838-4d24-8417-2da5bb192feb"
      },
      "source": [
        "32. Develop a program that performs matrix addition and subtraction based on user input."
      ]
    },
    {
      "cell_type": "code",
      "execution_count": null,
      "id": "35c96f46-8d26-4584-9281-6cf1b1a9e0cb",
      "metadata": {
        "id": "35c96f46-8d26-4584-9281-6cf1b1a9e0cb",
        "outputId": "ad4b1b71-9e36-4b5a-fd45-432adcd5a99e"
      },
      "outputs": [
        {
          "name": "stdout",
          "output_type": "stream",
          "text": [
            "Enter details for the first matrix: \n"
          ]
        },
        {
          "name": "stdin",
          "output_type": "stream",
          "text": [
            "Enter the number of rows:  2\n",
            "Enter the number of columns:  2\n",
            "Enter element at position (1, 1:  1\n",
            "Enter element at position (1, 2:  2\n",
            "Enter element at position (2, 1:  3\n",
            "Enter element at position (2, 2:  4\n"
          ]
        },
        {
          "name": "stdout",
          "output_type": "stream",
          "text": [
            "\n",
            "Enter details for the second matrix: \n"
          ]
        },
        {
          "name": "stdin",
          "output_type": "stream",
          "text": [
            "Enter the number of rows:  2\n",
            "Enter the number of columns:  2\n",
            "Enter element at position (1, 1:  5\n",
            "Enter element at position (1, 2:  6\n",
            "Enter element at position (2, 1:  7\n",
            "Enter element at position (2, 2:  8\n"
          ]
        },
        {
          "name": "stdout",
          "output_type": "stream",
          "text": [
            "\n",
            "Matrix Addition:\n",
            "[6.0, 8.0]\n",
            "[10.0, 12.0]\n",
            "\n",
            "Matrix Subtraction: \n",
            "[-4.0, -4.0]\n",
            "[-4.0, -4.0]\n"
          ]
        }
      ],
      "source": [
        "def get_matrix():\n",
        "    rows = int(input(\"Enter the number of rows: \"))\n",
        "    cols = int(input(\"Enter the number of columns: \"))\n",
        "\n",
        "    matrix = []\n",
        "    for i in range(rows):\n",
        "        row = []\n",
        "        for j in range(cols):\n",
        "            element = float(input(f\"Enter element at position ({i+1}, {j+1}: \"))\n",
        "            row.append(element)\n",
        "        matrix.append(row)\n",
        "\n",
        "    return matrix\n",
        "\n",
        "def print_matrix(matrix):\n",
        "    for row in matrix:\n",
        "        print(row)\n",
        "\n",
        "def add_matrices(matrix1, matrix2):\n",
        "    result_matrix = []\n",
        "    for i in range(len(matrix1)):\n",
        "        result_row = [a + b for a, b in zip(matrix1[i], matrix2[i])]\n",
        "        result_matrix.append(result_row)\n",
        "    return result_matrix\n",
        "\n",
        "def subtract_matrices(matrix1, matrix2):\n",
        "    result_matrix = []\n",
        "    for i in range(len(matrix1)):\n",
        "        result_row = [a - b for a, b in zip(matrix1[i], matrix2[i])]\n",
        "        result_matrix.append(result_row)\n",
        "    return result_matrix\n",
        "\n",
        "# Get matrices from the user\n",
        "print(\"Enter details for the first matrix: \")\n",
        "matrix1 = get_matrix()\n",
        "\n",
        "print(\"\\nEnter details for the second matrix: \")\n",
        "matrix2 = get_matrix()\n",
        "\n",
        "# Check if matrices are compatible for addition and subtraction\n",
        "if len(matrix1) == len(matrix2) and len(matrix1[0]) == len(matrix2[0]):\n",
        "    # Perform addition\n",
        "    sum_matrix = add_matrices(matrix1, matrix2)\n",
        "    print(\"\\nMatrix Addition:\")\n",
        "    print_matrix(sum_matrix)\n",
        "\n",
        "    # Perform subtraction\n",
        "    diff_matrix = subtract_matrices(matrix1, matrix2)\n",
        "    print(\"\\nMatrix Subtraction: \")\n",
        "    print_matrix(diff_matrix)\n",
        "else:\n",
        "    print(\"\\nMatrices are not compatible for addition and subtraction.\")\n",
        ""
      ]
    },
    {
      "cell_type": "markdown",
      "id": "565d85aa-70e6-43d8-8af2-553f4fb7e8b6",
      "metadata": {
        "id": "565d85aa-70e6-43d8-8af2-553f4fb7e8b6"
      },
      "source": [
        "The get_matrix function is used to take input for a matrix from the user.\n",
        "\n",
        "The print_matrix function is used to display a matrix.\n",
        "\n",
        "The add_matrices function adds two matrices element-wise.\n",
        "\n",
        "The subtract_matrices function subtracts one matrix from another element-wise.\n",
        "\n",
        "The program prompts the user to enter details for two matrices and checks if they are compatible for addition and subtraction.\n",
        "\n",
        "If compatible, it performs matrix addition and subtraction, and the results are displayed.\n",
        "\n"
      ]
    },
    {
      "cell_type": "markdown",
      "id": "8acf8343-16ff-4f63-b1e4-42d5ac8b2f3a",
      "metadata": {
        "id": "8acf8343-16ff-4f63-b1e4-42d5ac8b2f3a"
      },
      "source": [
        "33. Write a program that calculates the greatest common divisor (GCD) of two numbers using the Euclidean\n",
        "algorithm."
      ]
    },
    {
      "cell_type": "code",
      "execution_count": null,
      "id": "112eabf9-b3a1-4e87-977f-3232ede21531",
      "metadata": {
        "id": "112eabf9-b3a1-4e87-977f-3232ede21531",
        "outputId": "2c1558e4-71d9-48b5-8538-de9ee9479e34"
      },
      "outputs": [
        {
          "name": "stdin",
          "output_type": "stream",
          "text": [
            "Enter the first number:  96\n",
            "Enter the second number:  14\n"
          ]
        },
        {
          "name": "stdout",
          "output_type": "stream",
          "text": [
            "The GCD of 96 and 14 is: 2\n"
          ]
        }
      ],
      "source": [
        "def calculate_gcd(a,b):\n",
        "    # Implementing the Euclidean algorithm\n",
        "    while b:\n",
        "        a, b = b, a % b\n",
        "\n",
        "    return a\n",
        "\n",
        "# Get input from the user\n",
        "num1 = int(input(\"Enter the first number: \"))\n",
        "num2 = int(input(\"Enter the second number: \"))\n",
        "\n",
        "# Calculate and display the GCD\n",
        "gcd = calculate_gcd(num1, num2)\n",
        "print(f\"The GCD of {num1} and {num2} is: {gcd}\")"
      ]
    },
    {
      "cell_type": "markdown",
      "id": "f131d955-c8e3-466c-a5dc-3f1c676ddb39",
      "metadata": {
        "id": "f131d955-c8e3-466c-a5dc-3f1c676ddb39"
      },
      "source": [
        "34. Build a program that performs matrix multiplication using nested loops and conditional statements.\n"
      ]
    },
    {
      "cell_type": "code",
      "execution_count": null,
      "id": "6071ee19-ef0d-42d4-9f68-875c04f948d8",
      "metadata": {
        "id": "6071ee19-ef0d-42d4-9f68-875c04f948d8",
        "outputId": "10a139ad-52f1-4575-db72-f09db5ebc27a"
      },
      "outputs": [
        {
          "name": "stdout",
          "output_type": "stream",
          "text": [
            "Result of Matrix Multiplication: \n",
            "[58, 64]\n",
            "[0, 0]\n"
          ]
        }
      ],
      "source": [
        "def matrix_multiply(matrix1, matrix2):\n",
        "    rows1 = len(matrix1)\n",
        "    cols1 = len(matrix1[0])\n",
        "    rows2 = len(matrix2)\n",
        "    cols2 = len(matrix2[0])\n",
        "\n",
        "    # Check if matrix multiplication is possible\n",
        "    if cols1 != rows2:\n",
        "        print(\"Matrix multiplication is not possible.\")\n",
        "        return None\n",
        "    # Initialize the result matrix with zeros\n",
        "    result = [[0 for _ in range(cols2)] for _ in range(rows1)]\n",
        "\n",
        "    # Perform matrix multiplication using nested loops\n",
        "    for i in range(rows1):\n",
        "        for j in range(cols2):\n",
        "            for k in range(cols1):\n",
        "                result[i][j] += matrix1[i][k] * matrix2[k][j]\n",
        "        return result\n",
        "\n",
        "# Example usage\n",
        "matrix_A = [[1, 2, 3], [4, 5, 6]]\n",
        "matrix_B = [[7, 8], [9, 10], [11, 12]]\n",
        "\n",
        "\n",
        "# Perform matrix multiplication\n",
        "result_matrix = matrix_multiply(matrix_A, matrix_B)\n",
        "\n",
        "# Display the result\n",
        "if result_matrix:\n",
        "    print(\"Result of Matrix Multiplication: \")\n",
        "    for row in result_matrix:\n",
        "        print(row)"
      ]
    },
    {
      "cell_type": "markdown",
      "id": "cba7877e-0314-4e74-b949-ed66a9737e57",
      "metadata": {
        "id": "cba7877e-0314-4e74-b949-ed66a9737e57"
      },
      "source": [
        "The matrix_multiply function takes two matrices (matrix1 and matrix2) as input.\n",
        "\n",
        "It checks if matrix multiplication is possible by comparing the number of columns in the first matrix (cols1) with the number of rows in the second matrix (rows2).\n",
        "\n",
        "If matrix multiplication is possible, it initializes a result matrix with zeros and uses nested loops to perform the multiplication.\n",
        "\n",
        "The innermost loop calculates each element of the result matrix by multiplying corresponding elements of the input matrices and accumulating the sum.\n",
        "\n",
        "The function returns the result matrix.\n",
        "\n",
        "In the example, two matrices (matrix_A and matrix_B) are provided, and their multiplication result is displayed.\n",
        "\n"
      ]
    },
    {
      "cell_type": "markdown",
      "id": "8bf2dbf9-bc8f-4f94-8831-c54cd37a05d0",
      "metadata": {
        "id": "8bf2dbf9-bc8f-4f94-8831-c54cd37a05d0"
      },
      "source": [
        "35. Create a program that simulates a basic text-based tic-tac-toe game against the computer."
      ]
    },
    {
      "cell_type": "code",
      "execution_count": null,
      "id": "5799be47-54f9-4076-a28f-8bfddcb770e6",
      "metadata": {
        "id": "5799be47-54f9-4076-a28f-8bfddcb770e6"
      },
      "outputs": [],
      "source": [
        "import random\n",
        "\n",
        "def print_board(board):\n",
        "    for row in board:\n",
        "        print(\" | \".join(row))\n",
        "        print(\"-\" * 9)\n",
        "\n",
        "def check_winner(board, player):\n",
        "    # Check rows, columns, and diagonals for a win\n",
        "    for i in range(3):\n",
        "        if all(board[i][j] == player for j in range(3)) or \\\n",
        "           all(board[j][i] == player for j in range(3)):\n",
        "            return True\n",
        "    if all(board[i][i] == player for i in range(3)) or \\\n",
        "       all(board[i][2 - i] == player for i in range(3)):\n",
        "        return True\n",
        "    return False\n",
        "\n",
        "def is_board_full(board):\n",
        "    # Check if the board is full\n",
        "    return all(board[i][j] != ' ' for i in range(3) for j in range(3))\n",
        "\n",
        "def player_move(board):\n",
        "    while True:\n",
        "        try:\n",
        "            row = int(input(\"Enter the row (0, 1, or 2): \"))\n",
        "            col = int(input(\"Enter the column (0, 1, or 2): \"))\n",
        "            if 0 <= row < 3 and 0 <= col < 3 and board[row][col] == ' ':\n",
        "                return row, col\n",
        "            else:\n",
        "                print(\"Invalid move. Try again.\")\n",
        "        except ValueError:\n",
        "            print(\"Invalid input. Enter numbers for row and column.\")\n",
        "\n",
        "def computer_move(board):\n",
        "    empty_cells = [(i, j) for i in range(3) for j in range(3) if board[i][j] == ' ']\n",
        "    return random.choice(empty_cells)\n",
        "\n",
        "def play_tic_tac_toe():\n",
        "    board = [[' ' for _ in range(3)] for _ in range(3)]\n",
        "    players = ['X', 'O']\n",
        "    current_player = random.choice(players)\n",
        "\n",
        "    print(\"Welcome to Tic-Tac-Toe!\")\n",
        "    print_board(board)\n",
        "\n",
        "    while True:\n",
        "        if current_player == 'X':\n",
        "            row, col = player_move(board)\n",
        "        else:\n",
        "            print(\"Computer's turn:\")\n",
        "            row, col = computer_move(board)\n",
        "\n",
        "        board[row][col] = current_player\n",
        "        print_board(board)\n",
        "\n",
        "        if check_winner(board, current_player):\n",
        "            print(f\"{current_player} wins!\")\n",
        "            break\n",
        "        elif is_board_full(board):\n",
        "            print(\"It's a tie!\")\n",
        "            break\n",
        "\n",
        "        current_player = 'O' if current_player == 'X' else 'X'\n",
        "\n",
        "if __name__ == \"__main__\":\n",
        "    play_tic_tac_toe()\n",
        "\n",
        "\n",
        "\n",
        ""
      ]
    },
    {
      "cell_type": "markdown",
      "id": "b8dbad8e-55b7-4f84-881d-161eb53734ec",
      "metadata": {
        "id": "b8dbad8e-55b7-4f84-881d-161eb53734ec"
      },
      "source": [
        "36. Write a program that generates Fibonacci numbers up to a specified term using iterative methods.\n",
        "\n",
        "\n"
      ]
    },
    {
      "cell_type": "code",
      "execution_count": null,
      "id": "057238f6-5ee7-4246-84f3-e3cac90c7aba",
      "metadata": {
        "id": "057238f6-5ee7-4246-84f3-e3cac90c7aba",
        "outputId": "afe09fdf-150d-47fd-a383-38672212d349"
      },
      "outputs": [
        {
          "name": "stdin",
          "output_type": "stream",
          "text": [
            "Enter the number of Fibonacci terms to generate:  9\n"
          ]
        },
        {
          "name": "stdout",
          "output_type": "stream",
          "text": [
            "Fibonacci sequence up to 9 terms: [0, 1, 1, 2, 3, 5, 8, 13, 21]\n"
          ]
        }
      ],
      "source": [
        "def generate_fibonacci(n):\n",
        "    fibonacci_sequence = [0, 1]\n",
        "    while len(fibonacci_sequence) < n:\n",
        "        next_number = fibonacci_sequence[-1] + fibonacci_sequence[-2]\n",
        "        fibonacci_sequence.append(next_number)\n",
        "    return fibonacci_sequence\n",
        "\n",
        "# Take user input for the number of terms\n",
        "n = int(input(\"Enter the number of Fibonacci terms to generate: \"))\n",
        "\n",
        "# Generate and print Fibonacci sequence\n",
        "fibonacci_sequence = generate_fibonacci(n)\n",
        "print(f\"Fibonacci sequence up to {n} terms: {fibonacci_sequence}\")"
      ]
    },
    {
      "cell_type": "markdown",
      "id": "c9e8a9b3-0070-4585-81d7-5b6e21380919",
      "metadata": {
        "id": "c9e8a9b3-0070-4585-81d7-5b6e21380919"
      },
      "source": [
        "The generate_fibonacci function initializes the Fibonacci sequence with the first two terms (0 and 1).\n",
        "\n",
        "It then uses a while loop to calculate and append the next Fibonacci numbers until the desired number of terms is reached.\n",
        "\n",
        "The user is prompted to enter the number of Fibonacci terms they want to generate.\n",
        "\n",
        "The program calls the generate_fibonacci function and prints the resulting Fibonacci sequence."
      ]
    },
    {
      "cell_type": "markdown",
      "id": "5a7c9f9e-eaa5-488e-829c-7dd559d55a0e",
      "metadata": {
        "id": "5a7c9f9e-eaa5-488e-829c-7dd559d55a0e"
      },
      "source": [
        "37. Develop a program that calculates the nth term of the Fibonacci sequence using memoization."
      ]
    },
    {
      "cell_type": "code",
      "execution_count": null,
      "id": "15431b93-ea9b-46aa-8329-5510a3ab319f",
      "metadata": {
        "id": "15431b93-ea9b-46aa-8329-5510a3ab319f",
        "outputId": "9c8c86c1-f38a-4cd5-990e-88b59ae139ff"
      },
      "outputs": [
        {
          "name": "stdin",
          "output_type": "stream",
          "text": [
            "Enter the value of n for the nth Fibonacci term:  9\n"
          ]
        },
        {
          "name": "stdout",
          "output_type": "stream",
          "text": [
            "The 9th Fibonacci term is: 34\n"
          ]
        }
      ],
      "source": [
        "# Function to calculate the nth Fibonacci term with memoization\n",
        "def fibonacci(n, memo={}):\n",
        "    # Check if the result is already memoized\n",
        "    if n in memo:\n",
        "        return memo[n]\n",
        "\n",
        "    # Base cases\n",
        "    if n == 0:\n",
        "        return 0\n",
        "    elif n == 1:\n",
        "        return 1\n",
        "\n",
        "    # Recursive calculation with memoization\n",
        "    result = fibonacci(n - 1, memo) + fibonacci(n - 2, memo)\n",
        "\n",
        "    # Memoize the result\n",
        "    memo[n] = result\n",
        "\n",
        "    return result\n",
        "\n",
        "# Get user input for the desired term\n",
        "n = int(input(\"Enter the value of n for the nth Fibonacci term: \"))\n",
        "\n",
        "# Calculate and print the nth Fibonacci term\n",
        "result = fibonacci(n)\n",
        "print(f\"The {n}th Fibonacci term is: {result}\")\n"
      ]
    },
    {
      "cell_type": "markdown",
      "id": "dd3b5c9f-46bf-4c8c-92f1-17454c5f8e4b",
      "metadata": {
        "id": "dd3b5c9f-46bf-4c8c-92f1-17454c5f8e4b"
      },
      "source": [
        "The fibonacci function takes an additional parameter memo to store the previously calculated results.\n",
        "\n",
        "It first checks if the result for the given n is already memoized. If yes, it returns the memoized result.\n",
        "\n",
        "If n is 0 or 1, it returns the corresponding base cases (0 or 1).\n",
        "\n",
        "Otherwise, it recursively calculates the nth term by summing the results of the (n-1)th and (n-2)th terms.\n",
        "\n",
        "The result is then memoized before returning."
      ]
    },
    {
      "cell_type": "markdown",
      "id": "04ed7b7b-b011-43f7-a933-a1603cb32b78",
      "metadata": {
        "id": "04ed7b7b-b011-43f7-a933-a1603cb32b78"
      },
      "source": [
        "38. Create a program that generates a calendar for a given month and year using conditional statements."
      ]
    },
    {
      "cell_type": "code",
      "execution_count": null,
      "id": "2bcdde83-33fb-4dbf-9e29-957fe1f05fb9",
      "metadata": {
        "id": "2bcdde83-33fb-4dbf-9e29-957fe1f05fb9",
        "outputId": "6912db81-658e-47ca-9dd3-286705420d5c"
      },
      "outputs": [
        {
          "name": "stdin",
          "output_type": "stream",
          "text": [
            "Enter the year:  2025\n",
            "Enter the month (1-12):  2\n"
          ]
        },
        {
          "name": "stdout",
          "output_type": "stream",
          "text": [
            "====================\n",
            "February 2025\n",
            "====================\n",
            "Mo Tu We Th Fr Sa Su\n",
            "       1  2 \n",
            " 3  4  5  6  7  8  9 \n",
            "10 11 12 13 14 15 16 \n",
            "17 18 19 20 21 22 23 \n",
            "24 25 26 27 28 \n"
          ]
        }
      ],
      "source": [
        "import calendar\n",
        "\n",
        "def generate_calendar(year, month):\n",
        "    # Determine the first day of the month and the number of days in the month\n",
        "    first_day, num_days = calendar.monthrange(year, month)\n",
        "\n",
        "    # Print the header\n",
        "    print(f\"{'='*20}\")\n",
        "    print(f\"{calendar.month_name[month]} {year}\")\n",
        "    print(f\"{'='*20}\")\n",
        "    print(\"Mo Tu We Th Fr Sa Su\")\n",
        "\n",
        "    # Print leading spaces for the first day\n",
        "    print(\" \" * first_day, end=\" \")\n",
        "\n",
        "    # Print the days of the month\n",
        "    for day in range(1, num_days + 1):\n",
        "        print(f\"{day:2}\", end=\" \")\n",
        "        if (day + first_day) % 7 == 0 or day == num_days:\n",
        "            print() # Move to the next line after every 7 days or at the end of the month\n",
        "\n",
        "# Get user input for the year and month\n",
        "year = int(input(\"Enter the year: \"))\n",
        "month = int(input(\"Enter the month (1-12): \"))\n",
        "\n",
        "# Generate and print the calendar\n",
        "generate_calendar(year, month)"
      ]
    },
    {
      "cell_type": "markdown",
      "id": "12e0ede4-dfed-4c37-a353-b5497b12346d",
      "metadata": {
        "id": "12e0ede4-dfed-4c37-a353-b5497b12346d"
      },
      "source": [
        "The calendar.monthrange(year, month) function is used to get the first day of the month (first_day) and the number of days in the month (num_days).\n",
        "\n",
        "The header of the calendar is printed, showing the month and year.\n",
        "\n",
        "Leading spaces are printed based on the first_day to align the days with the correct weekdays.\n",
        "\n",
        "The days of the month are printed in a grid format. A newline is added after every 7 days or at the end of the month.\n",
        "\n",
        "The user is prompted to enter the year and month for which they want to generate the calendar.\n"
      ]
    },
    {
      "cell_type": "markdown",
      "id": "33f52945-f12f-46cf-858e-0ce2a16bf014",
      "metadata": {
        "id": "33f52945-f12f-46cf-858e-0ce2a16bf014"
      },
      "source": [
        "39. Build a program that simulates a basic text-based blackjack game against the computer."
      ]
    },
    {
      "cell_type": "code",
      "execution_count": null,
      "id": "7128150f-0940-4e8a-95fb-7ad476d0aad4",
      "metadata": {
        "id": "7128150f-0940-4e8a-95fb-7ad476d0aad4",
        "outputId": "49eee9f8-6e0d-4754-a205-7633617c9c90"
      },
      "outputs": [
        {
          "name": "stdout",
          "output_type": "stream",
          "text": [
            "Welcome to Blackjack!\n",
            "\n",
            "Your hand:\n",
            "J of Spades\n",
            "K of Hearts\n",
            "Total value: 20\n"
          ]
        },
        {
          "name": "stdin",
          "output_type": "stream",
          "text": [
            "Do you want to hit or stand?  hit\n"
          ]
        },
        {
          "name": "stdout",
          "output_type": "stream",
          "text": [
            "\n",
            "Your hand:\n",
            "J of Spades\n",
            "K of Hearts\n",
            "Q of Hearts\n",
            "Total value: 30\n",
            "Bust! You lose.\n"
          ]
        }
      ],
      "source": [
        "import random\n",
        "\n",
        "def create_deck():\n",
        "    ranks = ['2', '3', '4', '5', '6', '7', '8', '9', '10', 'J', 'Q', 'K', 'A']\n",
        "    suits = ['Hearts', 'Diamonds', 'Clubs', 'Spades']\n",
        "    deck = [{'rank': rank, 'suit':suit} for rank in ranks for suit in suits]\n",
        "    random.shuffle(deck)\n",
        "    return deck\n",
        "\n",
        "def calculate_hand_value(hand):\n",
        "    value = 0\n",
        "    num_aces = 0\n",
        "\n",
        "    for card in hand:\n",
        "        if card['rank'] in ['K', 'Q', 'J']:\n",
        "            value += 10\n",
        "        elif card['rank'] == 'A':\n",
        "            value += 11\n",
        "            num_aces += 1\n",
        "        else:\n",
        "            value += int(card['rank'])\n",
        "\n",
        "    while value > 21 and num_aces:\n",
        "        value -= 10\n",
        "        num_aces -= 1\n",
        "\n",
        "    return value\n",
        "\n",
        "def display_hand(hand):\n",
        "    for card in hand:\n",
        "        print(f\"{card['rank']} of {card['suit']}\")\n",
        "\n",
        "def blackjack():\n",
        "    deck = create_deck()\n",
        "    player_hand = [deck.pop(), deck.pop()]\n",
        "    dealer_hand = [deck.pop(), deck.pop()]\n",
        "\n",
        "    print(\"Welcome to Blackjack!\")\n",
        "\n",
        "    while True:\n",
        "        print(\"\\nYour hand:\")\n",
        "        display_hand(player_hand)\n",
        "        player_value = calculate_hand_value(player_hand)\n",
        "        print(f\"Total value: {player_value}\")\n",
        "\n",
        "        if player_value == 21:\n",
        "            print(\"Blackjack! You win!\")\n",
        "            break\n",
        "        elif player_value > 21:\n",
        "            print(\"Bust! You lose.\")\n",
        "            break\n",
        "\n",
        "        action = input(\"Do you want to hit or stand? \").lower()\n",
        "        if action == 'hit':\n",
        "            player_hand.append(deck.pop())\n",
        "        elif action == 'stand':\n",
        "            # Dealer's turn\n",
        "            while calculate_hand_value(dealer_hand) < 17:\n",
        "                dealer_hand.append(deck.pop())\n",
        "\n",
        "            print(\"\\nDealer's hand:\")\n",
        "            display_hand(dealer_hand)\n",
        "            dealer_value = calculate_hand_value(dealer_hand)\n",
        "            print(f\"Total value: {dealer_value}\")\n",
        "\n",
        "            if dealer_value > 21:\n",
        "                print(\"Dealer bust! You win!\")\n",
        "            elif dealer_value >= player_value:\n",
        "                print(\"Dealer wins!\")\n",
        "            else:\n",
        "                print(\"You win!\")\n",
        "\n",
        "            break\n",
        "        else:\n",
        "            print(\"Invalid input. Please enter 'hit' or 'stand'.\")\n",
        "\n",
        "if __name__ == \"__main__\":\n",
        "    blackjack()"
      ]
    },
    {
      "cell_type": "markdown",
      "id": "41e85b4e-1345-4c7d-9af7-25bb32b3cb2d",
      "metadata": {
        "id": "41e85b4e-1345-4c7d-9af7-25bb32b3cb2d"
      },
      "source": [
        "create_deck: Creates and shuffles a deck of cards.\n",
        "\n",
        "calculate_hand_value: Calculates the total value of a hand, considering the special case of aces.\n",
        "\n",
        "display_hand: Prints the cards in a hand.\n",
        "\n",
        "blackjack: The main game loop that handles player and dealer turns, user input, and determines the winner based on the rules of blackjack."
      ]
    },
    {
      "cell_type": "markdown",
      "id": "ac085582-0630-45dd-9179-231fe5f17072",
      "metadata": {
        "id": "ac085582-0630-45dd-9179-231fe5f17072"
      },
      "source": [
        "40. Write a program that generates the prime factors of a given number using trial division."
      ]
    },
    {
      "cell_type": "code",
      "execution_count": null,
      "id": "8264e006-df5d-48a7-b755-d09951b58750",
      "metadata": {
        "id": "8264e006-df5d-48a7-b755-d09951b58750",
        "outputId": "33feaab4-14c7-463b-910a-5f284e3dd237"
      },
      "outputs": [
        {
          "name": "stdin",
          "output_type": "stream",
          "text": [
            "Enter a number:  45\n"
          ]
        },
        {
          "name": "stdout",
          "output_type": "stream",
          "text": [
            "Prime factors of 45: [3, 3, 5]\n"
          ]
        }
      ],
      "source": [
        "def prime_factors(n):\n",
        "    factors = []\n",
        "\n",
        "    # Divide by 2 until it's not divisible\n",
        "    while n % 2 == 0:\n",
        "        factors.append(2)\n",
        "        n = n // 2\n",
        "\n",
        "    # Check odd numbers starting from 3\n",
        "    for i in range(3, int(n**0.5) + 1, 2):\n",
        "        while n % i == 0:\n",
        "            factors.append(i)\n",
        "            n = n // i\n",
        "\n",
        "    # If n is a prime number greater than 2\n",
        "    if n > 2:\n",
        "        factors.append(n)\n",
        "\n",
        "    return factors\n",
        "\n",
        "# Get user input for the number\n",
        "number = int(input(\"Enter a number: \"))\n",
        "\n",
        "# Get the prime factors\n",
        "factors = prime_factors(number)\n",
        "\n",
        "# Display the result\n",
        "print(f\"Prime factors of {number}: {factors}\")\n"
      ]
    },
    {
      "cell_type": "markdown",
      "id": "3d4a527e-96b1-4c3a-a81b-29ac2735389e",
      "metadata": {
        "id": "3d4a527e-96b1-4c3a-a81b-29ac2735389e"
      },
      "source": [
        "prime_factors: The main function that calculates the prime factors of a given number using trial division.\n",
        "\n",
        "The function starts by dividing the number by 2 until it's no longer divisible by 2.\n",
        "\n",
        "It then checks odd numbers starting from 3 up to the square root of the remaining number. For each divisor found, it appends it to the factors list and updates the number.\n",
        "\n",
        "Finally, if the remaining number is a prime number greater than 2, it is also added to the factors list.\n",
        "\n",
        "User input is taken to get the number for which prime factors need to be calculated.\n",
        "\n",
        "The result is then displayed.\n",
        "\n",
        "For example, if you enter 24, the output will be:"
      ]
    }
  ],
  "metadata": {
    "kernelspec": {
      "display_name": "Python 3 (ipykernel)",
      "language": "python",
      "name": "python3"
    },
    "language_info": {
      "codemirror_mode": {
        "name": "ipython",
        "version": 3
      },
      "file_extension": ".py",
      "mimetype": "text/x-python",
      "name": "python",
      "nbconvert_exporter": "python",
      "pygments_lexer": "ipython3",
      "version": "3.10.8"
    },
    "colab": {
      "provenance": []
    }
  },
  "nbformat": 4,
  "nbformat_minor": 5
}