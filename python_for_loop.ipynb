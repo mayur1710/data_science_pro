{
  "nbformat": 4,
  "nbformat_minor": 0,
  "metadata": {
    "colab": {
      "provenance": []
    },
    "kernelspec": {
      "name": "python3",
      "display_name": "Python 3"
    },
    "language_info": {
      "name": "python"
    }
  },
  "cells": [
    {
      "cell_type": "code",
      "execution_count": null,
      "metadata": {
        "id": "Ys6mKWBagbfB"
      },
      "outputs": [],
      "source": []
    },
    {
      "cell_type": "markdown",
      "source": [
        "**Python For loop assignment and List comprehension**"
      ],
      "metadata": {
        "id": "fx-R4vBtTzwW"
      }
    },
    {
      "cell_type": "markdown",
      "source": [
        "**1. Print numbers from 1 to 10 using a for loop:**"
      ],
      "metadata": {
        "id": "IJsMRkP3go2m"
      }
    },
    {
      "cell_type": "code",
      "source": [
        "# Program to print numbers from 1 to 10 using a for loop\n",
        "\n",
        "# Using the range function to generate numbers from 1 to 10\n",
        "for i in range(1, 11):\n",
        "    print(i)\n"
      ],
      "metadata": {
        "colab": {
          "base_uri": "https://localhost:8080/"
        },
        "id": "IRK9BSLXgsmO",
        "outputId": "0b89e365-063f-4c4f-88d3-6496569d4d02"
      },
      "execution_count": null,
      "outputs": [
        {
          "output_type": "stream",
          "name": "stdout",
          "text": [
            "1\n",
            "2\n",
            "3\n",
            "4\n",
            "5\n",
            "6\n",
            "7\n",
            "8\n",
            "9\n",
            "10\n"
          ]
        }
      ]
    },
    {
      "cell_type": "markdown",
      "source": [
        "*The range(1, 11) function generates numbers from 1 to 10\n",
        "\n",
        "The for loop iterates over these numbers.\n",
        "\n",
        "The print(i) statement prints each number in the range.\n",
        "\n",
        "\n"
      ],
      "metadata": {
        "id": "nQHYZak7g2zF"
      }
    },
    {
      "cell_type": "markdown",
      "source": [
        "**2. Calculate the sum of all numbers in a list using a for loop:**"
      ],
      "metadata": {
        "id": "7_Q8aVLZhSpP"
      }
    },
    {
      "cell_type": "code",
      "source": [
        "# Program to calculate the sum of numbers in a list using a for loop\n",
        "\n",
        "# Input list of numbers\n",
        "numbers = [1, 2, 3, 4, 5]\n",
        "\n",
        "# Initialize sum_result to store the sum\n",
        "sum_result = 0\n",
        "\n",
        "# Using a for loop to iterate through the list and calculate the sum\n",
        "for num in numbers:\n",
        "    sum_result += num\n",
        "\n",
        "# Print the result\n",
        "print(\"Sum:\", sum_result)\n"
      ],
      "metadata": {
        "colab": {
          "base_uri": "https://localhost:8080/"
        },
        "id": "ohv9tv4thMaI",
        "outputId": "f426acb3-604e-4a9f-fc17-91d8d9d29926"
      },
      "execution_count": null,
      "outputs": [
        {
          "output_type": "stream",
          "name": "stdout",
          "text": [
            "Sum: 15\n"
          ]
        }
      ]
    },
    {
      "cell_type": "markdown",
      "source": [
        "The program defines a list of numbers.\n",
        "\n",
        "A variable sum_result is initialized to store the sum of numbers.\n",
        "\n",
        "The for loop iterates through each element in the list, and the sum is calculated.\n",
        "\n",
        "The final sum is printed."
      ],
      "metadata": {
        "id": "jez9SgfihbM4"
      }
    },
    {
      "cell_type": "markdown",
      "source": [
        "**3.Print characters of a string in reverse order using a for loop:**"
      ],
      "metadata": {
        "id": "4Fy505c-hhTd"
      }
    },
    {
      "cell_type": "code",
      "source": [
        "# Program to print characters of a string in reverse order using a for loop\n",
        "\n",
        "# Input string\n",
        "my_string = \"Hello, World!\"\n",
        "\n",
        "# Using a for loop and reversed function to iterate through the string in reverse order\n",
        "for char in reversed(my_string):\n",
        "    print(char)\n"
      ],
      "metadata": {
        "colab": {
          "base_uri": "https://localhost:8080/"
        },
        "id": "0DzBB6oGho-A",
        "outputId": "a8a7765e-ce47-4057-dffe-7a00e06c52ec"
      },
      "execution_count": null,
      "outputs": [
        {
          "output_type": "stream",
          "name": "stdout",
          "text": [
            "!\n",
            "d\n",
            "l\n",
            "r\n",
            "o\n",
            "W\n",
            " \n",
            ",\n",
            "o\n",
            "l\n",
            "l\n",
            "e\n",
            "H\n"
          ]
        }
      ]
    },
    {
      "cell_type": "markdown",
      "source": [
        "The program defines a string.\n",
        "\n",
        "The for loop iterates over the reversed version of the string using the reversed() function.\n",
        "\n",
        "Each character is printed, resulting in the characters being displayed in reverse order."
      ],
      "metadata": {
        "id": "VSMurdjyhtvJ"
      }
    },
    {
      "cell_type": "markdown",
      "source": [
        "**4. Find the factorial of a given number using a for loop:**"
      ],
      "metadata": {
        "id": "j0AfrJbbhz2J"
      }
    },
    {
      "cell_type": "code",
      "source": [
        "# Program to find the factorial of a given number using a for loop\n",
        "\n",
        "# Input number\n",
        "number = int(input(\"Enter a number\"))\n",
        "\n",
        "# Initialize factorial to store the result\n",
        "factorial = 1\n",
        "\n",
        "# Using a for loop to calculate the factorial\n",
        "for i in range(1, number + 1):\n",
        "    factorial *= i\n",
        "\n",
        "# Print the result\n",
        "print(\"Factorial:\", factorial)\n"
      ],
      "metadata": {
        "colab": {
          "base_uri": "https://localhost:8080/"
        },
        "id": "PYq-WgPUh5Fs",
        "outputId": "5851af43-422d-4356-d322-7a4e35888217"
      },
      "execution_count": null,
      "outputs": [
        {
          "output_type": "stream",
          "name": "stdout",
          "text": [
            "Enter a number5\n",
            "Factorial: 120\n"
          ]
        }
      ]
    },
    {
      "cell_type": "markdown",
      "source": [
        "The program takes an input number.\n",
        "\n",
        "A variable factorial is initialized to store the result.\n",
        "\n",
        "The for loop iterates from 1 to the input number, and the factorial is calculated.\n",
        "\n",
        "The final factorial is printed."
      ],
      "metadata": {
        "id": "EYRLYNCDjJzr"
      }
    },
    {
      "cell_type": "markdown",
      "source": [
        "**5. Print the multiplication table of a given number using a for loop:**"
      ],
      "metadata": {
        "id": "B5XrazaXjUdz"
      }
    },
    {
      "cell_type": "code",
      "source": [
        "# Program to print the multiplication table of a given number using a for loop\n",
        "\n",
        "# Input number\n",
        "num = int(input(\"Enter a no: \"))\n",
        "\n",
        "# Using a for loop to iterate and print the multiplication table\n",
        "for i in range(1, 11):\n",
        "    print(f\"{num} x {i} = {num * i}\")\n"
      ],
      "metadata": {
        "colab": {
          "base_uri": "https://localhost:8080/"
        },
        "id": "CUGyszskja9s",
        "outputId": "2b42db19-18a0-45aa-930e-36e6b994bad7"
      },
      "execution_count": null,
      "outputs": [
        {
          "output_type": "stream",
          "name": "stdout",
          "text": [
            "Enter a no: 10\n",
            "10 x 1 = 10\n",
            "10 x 2 = 20\n",
            "10 x 3 = 30\n",
            "10 x 4 = 40\n",
            "10 x 5 = 50\n",
            "10 x 6 = 60\n",
            "10 x 7 = 70\n",
            "10 x 8 = 80\n",
            "10 x 9 = 90\n",
            "10 x 10 = 100\n"
          ]
        }
      ]
    },
    {
      "cell_type": "markdown",
      "source": [
        "The program takes an input number.\n",
        "\n",
        "The for loop iterates from 1 to 10.\n",
        "\n",
        "Inside the loop, the multiplication of the input number and the current iteration value is printed in the desired format."
      ],
      "metadata": {
        "id": "7mNPGVw2jpwB"
      }
    },
    {
      "cell_type": "markdown",
      "source": [
        "**6. Count the number of even and odd numbers in a list using a for loop:**"
      ],
      "metadata": {
        "id": "qTTnsmqwjwVN"
      }
    },
    {
      "cell_type": "code",
      "source": [
        "# Program to count the number of even and odd numbers in a list using a for loop\n",
        "\n",
        "# Input list of numbers\n",
        "numbers = [1, 2, 3, 4, 5, 6, 7, 8, 9]\n",
        "\n",
        "# Initialize counters for even and odd numbers\n",
        "even_count = 0\n",
        "odd_count = 0\n",
        "\n",
        "# Using a for loop to iterate through the list and count even and odd numbers\n",
        "for num in numbers:\n",
        "    if num % 2 == 0:\n",
        "        even_count += 1\n",
        "    else:\n",
        "        odd_count += 1\n",
        "\n",
        "# Print the results\n",
        "print(\"Even numbers:\", even_count)\n",
        "print(\"Odd numbers:\", odd_count)\n"
      ],
      "metadata": {
        "colab": {
          "base_uri": "https://localhost:8080/"
        },
        "id": "EHPRj-Eajhrq",
        "outputId": "069ef65e-83d9-4971-d72f-fd79620f2fcb"
      },
      "execution_count": null,
      "outputs": [
        {
          "output_type": "stream",
          "name": "stdout",
          "text": [
            "Even numbers: 4\n",
            "Odd numbers: 5\n"
          ]
        }
      ]
    },
    {
      "cell_type": "markdown",
      "source": [
        "First defined list\n",
        "\n",
        "even_count and odd_count, are initialized to 0.\n",
        "\n",
        "The for loop iterates through each number in the list and checks whether it's even or odd, updating the respective counters.\n",
        "\n",
        "The final counts are printed."
      ],
      "metadata": {
        "id": "ciaLAhhPj7Pp"
      }
    },
    {
      "cell_type": "markdown",
      "source": [
        "**7. Print squares of numbers from 1 to 5 using a for loop:**"
      ],
      "metadata": {
        "id": "zu0dXMH0kJZR"
      }
    },
    {
      "cell_type": "code",
      "source": [
        "# Program to print squares of numbers from 1 to 5 using a for loop\n",
        "\n",
        "# Using a for loop to iterate and print the squares\n",
        "for i in range(1, 6):\n",
        "    print(f\" square of {i} is {i**2}\")\n"
      ],
      "metadata": {
        "colab": {
          "base_uri": "https://localhost:8080/"
        },
        "id": "7Fc9wkCKkPEJ",
        "outputId": "1543e319-c08d-414a-b300-7c0b18f66352"
      },
      "execution_count": null,
      "outputs": [
        {
          "output_type": "stream",
          "name": "stdout",
          "text": [
            " square of 1 is 1\n",
            " square of 2 is 4\n",
            " square of 3 is 9\n",
            " square of 4 is 16\n",
            " square of 5 is 25\n"
          ]
        }
      ]
    },
    {
      "cell_type": "markdown",
      "source": [
        "The for loop iterates from 1 to 5\n",
        "\n",
        "Inside the loop, the square of the current iteration value is calculated using i**2\n",
        "\n",
        "The result is printed i"
      ],
      "metadata": {
        "id": "-vI17kG7kdmU"
      }
    },
    {
      "cell_type": "markdown",
      "source": [
        "**8. Find the length of a string without using the len() function**"
      ],
      "metadata": {
        "id": "5Lj3iQsekilY"
      }
    },
    {
      "cell_type": "code",
      "source": [
        "# Program to find the length of a string without using the len() function\n",
        "\n",
        "# Input string\n",
        "my_string = input(\"Enter string: \")\n",
        "\n",
        "# Initialize length variable to store the length\n",
        "length = 0\n",
        "\n",
        "# Using a for loop to iterate through the string and count characters\n",
        "for char in my_string:\n",
        "    length += 1\n",
        "\n",
        "# Print the result\n",
        "print(\"Length of string is :\", length)\n"
      ],
      "metadata": {
        "colab": {
          "base_uri": "https://localhost:8080/"
        },
        "id": "24IoGQwNkYNF",
        "outputId": "64be6b7b-eb27-4212-c625-55133ee8bc1e"
      },
      "execution_count": null,
      "outputs": [
        {
          "output_type": "stream",
          "name": "stdout",
          "text": [
            "Enter string: mayuresh\n",
            "Length of strin is : 8\n"
          ]
        }
      ]
    },
    {
      "cell_type": "markdown",
      "source": [
        "Take string from user\n",
        "\n",
        "A variable length is initialized to 0.\n",
        "\n",
        "The for loop iterates through each character in the string, incrementing the length counter.\n",
        "\n",
        "The final length is printed."
      ],
      "metadata": {
        "id": "Dw2BFXfSlCYp"
      }
    },
    {
      "cell_type": "markdown",
      "source": [
        "**9. Calculate the average of a list of numbers using a for loop:**"
      ],
      "metadata": {
        "id": "6FoHN7SflRrX"
      }
    },
    {
      "cell_type": "code",
      "source": [
        "# Program to calculate the average of a list of numbers using a for loop\n",
        "\n",
        "# Input list of numbers\n",
        "numbers = [1, 2, 3, 4, 5]\n",
        "\n",
        "# Initialize total to store the sum\n",
        "total = 0\n",
        "\n",
        "# Using a for loop to iterate through the list and calculate the sum\n",
        "for num in numbers:\n",
        "    total += num\n",
        "\n",
        "# Calculate the average\n",
        "average = total / len(numbers)\n",
        "\n",
        "# Print the result\n",
        "print(\"Average:\", average)\n"
      ],
      "metadata": {
        "colab": {
          "base_uri": "https://localhost:8080/"
        },
        "id": "b_YKQ8QGlWNf",
        "outputId": "a3d6f51c-2762-4f46-82f0-ed58ce6bf7dc"
      },
      "execution_count": null,
      "outputs": [
        {
          "output_type": "stream",
          "name": "stdout",
          "text": [
            "Average: 3.0\n"
          ]
        }
      ]
    },
    {
      "cell_type": "markdown",
      "source": [
        "A variable total is initialized to store the sum of numbers.\n",
        "\n",
        "The for loop iterates through each number in the list, and the sum is calculated.\n",
        "\n",
        "The average is then calculated by dividing the sum by the length of the list, and the result is printed."
      ],
      "metadata": {
        "id": "TJ-cSetJladT"
      }
    },
    {
      "cell_type": "markdown",
      "source": [
        "**10. Print the first n Fibonacci numbers using a for loop:**"
      ],
      "metadata": {
        "id": "ShOaIuhGlhyK"
      }
    },
    {
      "cell_type": "code",
      "source": [
        "# Program to print the first n Fibonacci numbers using a for loop\n",
        "\n",
        "# Function to generate Fibonacci sequence\n",
        "def generate_fibonacci(n):\n",
        "    fibonacci_sequence = [0, 1]\n",
        "\n",
        "    for i in range(2, n):\n",
        "        next_number = fibonacci_sequence[-1] + fibonacci_sequence[-2]\n",
        "        fibonacci_sequence.append(next_number)\n",
        "\n",
        "    return fibonacci_sequence\n",
        "\n",
        "# Input: Number of Fibonacci numbers to print\n",
        "n = int(input(\"Enter the value for n : \"))\n",
        "\n",
        "# Generate and print the first n Fibonacci numbers\n",
        "fibonacci_numbers = generate_fibonacci(n)\n",
        "print(f\"The first {n} Fibonacci numbers are:\", fibonacci_numbers)\n"
      ],
      "metadata": {
        "colab": {
          "base_uri": "https://localhost:8080/"
        },
        "id": "wRWt2YFCllqQ",
        "outputId": "5a48c979-7558-4754-bc03-bc374b16751f"
      },
      "execution_count": null,
      "outputs": [
        {
          "output_type": "stream",
          "name": "stdout",
          "text": [
            "Enter the value for n : 15\n",
            "The first 15 Fibonacci numbers are: [0, 1, 1, 2, 3, 5, 8, 13, 21, 34, 55, 89, 144, 233, 377]\n"
          ]
        }
      ]
    },
    {
      "cell_type": "markdown",
      "source": [
        " defines a function generate_fibonacci to generate the Fibonacci sequence up to the given number n.\n",
        "\n",
        "Inside the function, a list fibonacci_sequence is initialized with the first two Fibonacci numbers.\n",
        "\n",
        "The for loop iterates from 2 to n, calculating the next Fibonacci number and appending it to the sequence.\n",
        "\n",
        "The main part of the program sets the value of n and then calls the generate_fibonacci function to obtain the first n Fibonacci numbers.\n",
        "\n"
      ],
      "metadata": {
        "id": "2dOvdzvdl29J"
      }
    },
    {
      "cell_type": "markdown",
      "source": [
        "**11. Check if a given list contains any duplicates using a for loop:**"
      ],
      "metadata": {
        "id": "0ZjmAB_5m5qt"
      }
    },
    {
      "cell_type": "code",
      "source": [
        "# Program to check if a given list contains any duplicates using a for loop\n",
        "\n",
        "# Input list\n",
        "my_list = [1, 2, 3, 4, 5, 2]\n",
        "\n",
        "# Initialize a set to store unique elements\n",
        "unique_elements = set()\n",
        "\n",
        "# Flag to check for duplicates\n",
        "has_duplicates = False\n",
        "\n",
        "# Using a for loop to iterate through the list\n",
        "for item in my_list:\n",
        "    if item in unique_elements:\n",
        "        has_duplicates = True\n",
        "        break\n",
        "    else:\n",
        "        unique_elements.add(item)\n",
        "\n",
        "# Print the result\n",
        "if has_duplicates:\n",
        "    print(\"The list contains duplicates.\")\n",
        "else:\n",
        "    print(\"The list does not contain duplicates.\")\n"
      ],
      "metadata": {
        "colab": {
          "base_uri": "https://localhost:8080/"
        },
        "id": "7jx6At_Jm8pB",
        "outputId": "33ffad52-6c39-485d-a51f-c277709c2e14"
      },
      "execution_count": null,
      "outputs": [
        {
          "output_type": "stream",
          "name": "stdout",
          "text": [
            "The list contains duplicates.\n"
          ]
        }
      ]
    },
    {
      "cell_type": "markdown",
      "source": [
        "\n",
        "It uses a for loop to iterate through each item in the list.\n",
        "Inside the loop, it checks if the current item is already in the set.\n",
        "\n",
        "If yes, it sets has_duplicates to True and breaks out of the loop.\n",
        "\n",
        "If no duplicates are found, it adds the current item to the set.\n",
        "The final result is printed based on whether duplicates were found."
      ],
      "metadata": {
        "id": "AXHg7OxOnCFc"
      }
    },
    {
      "cell_type": "markdown",
      "source": [
        "**12. Print the prime numbers in a given range using a for loop:**"
      ],
      "metadata": {
        "id": "hV77TsPYnQAM"
      }
    },
    {
      "cell_type": "code",
      "source": [
        "# Program to print prime numbers in a given range using a for loop\n",
        "\n",
        "# Input range\n",
        "start_range = int(input(\"set start range:\"))\n",
        "end_range = int(input(\"set end range:\"))\n",
        "\n",
        "# Using a for loop to iterate through the range\n",
        "for num in range(start_range, end_range + 1):\n",
        "    if num > 1:\n",
        "        for i in range(2, int(num**0.5) + 1):\n",
        "            if num % i == 0:\n",
        "                break\n",
        "        else:\n",
        "            print(num)\n"
      ],
      "metadata": {
        "colab": {
          "base_uri": "https://localhost:8080/"
        },
        "id": "Yor7zT8OnT2O",
        "outputId": "17e553b7-3a60-4d0c-b66f-806de94bfe79"
      },
      "execution_count": null,
      "outputs": [
        {
          "output_type": "stream",
          "name": "stdout",
          "text": [
            "set start range:1\n",
            "set end range:50\n",
            "2\n",
            "3\n",
            "5\n",
            "7\n",
            "11\n",
            "13\n",
            "17\n",
            "19\n",
            "23\n",
            "29\n",
            "31\n",
            "37\n",
            "41\n",
            "43\n",
            "47\n"
          ]
        }
      ]
    },
    {
      "cell_type": "markdown",
      "source": [
        "The program uses a nested for loop to iterate through the given range of numbers.\n",
        "\n",
        "The outer loop iterates through each number in the specified range.\n",
        "\n",
        "The inner loop checks if the current number is prime by dividing it by numbers from 2 to the square root of the current number.\n",
        "\n",
        "If the inner loop completes without finding a factor, the number is prime, and it is printed"
      ],
      "metadata": {
        "id": "ktRAOY6Vn53O"
      }
    },
    {
      "cell_type": "markdown",
      "source": [
        "**13. Count the number of vowels in a string using a for loop:**"
      ],
      "metadata": {
        "id": "MfUmUaJQoDQz"
      }
    },
    {
      "cell_type": "code",
      "source": [
        "# Program to count the number of vowels in a string using a for loop\n",
        "\n",
        "# Input string\n",
        "my_string = input(\"Enter string : \")\n",
        "\n",
        "# Initialize vowel count\n",
        "vowel_count = 0\n",
        "\n",
        "# Using a for loop to iterate through the string\n",
        "for char in my_string:\n",
        "    if char.lower() in \"aeiou\":\n",
        "        vowel_count += 1\n",
        "\n",
        "# Print the result\n",
        "print(\"Number of vowels:\", vowel_count)\n"
      ],
      "metadata": {
        "colab": {
          "base_uri": "https://localhost:8080/"
        },
        "id": "Q5CJkitZnypx",
        "outputId": "22322da6-3467-4ab1-e823-3b92bc77e296"
      },
      "execution_count": null,
      "outputs": [
        {
          "output_type": "stream",
          "name": "stdout",
          "text": [
            "Enter string : mayuresh\n",
            "Number of vowels: 3\n"
          ]
        }
      ]
    },
    {
      "cell_type": "markdown",
      "source": [
        "The program initializes a counter (vowel_count) to keep track of the number of vowels.\n",
        "\n",
        "It uses a for loop to iterate through each character in the input string.\n",
        "\n",
        "Inside the loop, it checks if the lowercase version of the character is a vowel. If yes, it increments the vowel count.\n",
        "\n",
        "The final count is printed."
      ],
      "metadata": {
        "id": "HTdRzAfhob3t"
      }
    },
    {
      "cell_type": "markdown",
      "source": [
        "**14. Find the maximum element in a 2D list using a nested for loop:**"
      ],
      "metadata": {
        "id": "9lpydUJhofWN"
      }
    },
    {
      "cell_type": "code",
      "source": [
        "# Program to find the maximum element in a 2D list using nested for loops\n",
        "\n",
        "# Input 2D list\n",
        "matrix = [\n",
        "    [1, 2, 3],\n",
        "    [4, 5, 6],\n",
        "    [7, 8, 9]\n",
        "]\n",
        "\n",
        "# Initialize max_element with the minimum possible value\n",
        "max_element = float('-inf')\n",
        "\n",
        "# Using nested for loops to iterate through the matrix\n",
        "for row in matrix:\n",
        "    for element in row:\n",
        "        if element > max_element:\n",
        "            max_element = element\n",
        "\n",
        "# Print the result\n",
        "print(\"Maximum element:\", max_element)\n"
      ],
      "metadata": {
        "colab": {
          "base_uri": "https://localhost:8080/"
        },
        "id": "HOqOzhg-opEL",
        "outputId": "e514b73f-a882-4c81-fe93-b7f269c20da3"
      },
      "execution_count": null,
      "outputs": [
        {
          "output_type": "stream",
          "name": "stdout",
          "text": [
            "Maximum element: 9\n"
          ]
        }
      ]
    },
    {
      "cell_type": "markdown",
      "source": [
        "The program initializes max_element to the minimum possible value (float('-inf')).\n",
        "\n",
        "It uses nested for loops to iterate through each element in the 2D list.\n",
        "\n",
        "Inside the inner loop, it compares the current element with the current maximum (max_element). If the current element is greater, it updates max_element.\n",
        "\n"
      ],
      "metadata": {
        "id": "JKfMhJqmou48"
      }
    },
    {
      "cell_type": "markdown",
      "source": [
        "**15. Remove all occurrences of a specific element from a list using a for loop:**"
      ],
      "metadata": {
        "id": "wCOmAiIIo5ae"
      }
    },
    {
      "cell_type": "code",
      "source": [
        "# Program to remove all occurrences of a specific element from a list using a for loop\n",
        "\n",
        "# Input list\n",
        "my_list = [1, 2, 3, 4, 2, 5, 2]\n",
        "\n",
        "# Element to be removed\n",
        "element_to_remove = 2\n",
        "\n",
        "# Using a for loop to iterate through the list and remove occurrences\n",
        "for item in my_list[:]:  # Create a copy to avoid modifying the list during iteration\n",
        "    if item == element_to_remove:\n",
        "        my_list.remove(item)\n",
        "\n",
        "# Print the modified list\n",
        "print(\"List after removing\", element_to_remove, \":\", my_list)\n"
      ],
      "metadata": {
        "colab": {
          "base_uri": "https://localhost:8080/"
        },
        "id": "ewsTX1d9o-M0",
        "outputId": "20a30757-8ff2-46eb-98d4-eefbf13ee0bb"
      },
      "execution_count": null,
      "outputs": [
        {
          "output_type": "stream",
          "name": "stdout",
          "text": [
            "List after removing 2 : [1, 3, 4, 5]\n"
          ]
        }
      ]
    },
    {
      "cell_type": "markdown",
      "source": [
        "The program removes all occurrences of a specific element (element_to_remove) from the list (my_list).\n",
        "\n",
        "It creates a copy of the list using slicing (my_list[:]) to avoid modifying the list during iteration.\n",
        "\n",
        "It uses a for loop to iterate through the copy of the list and removes occurrences of the specified element.\n",
        "\n",
        "The modified list is printed."
      ],
      "metadata": {
        "id": "54bnL4KypD_K"
      }
    },
    {
      "cell_type": "markdown",
      "source": [
        "**16. Generate a multiplication table for numbers from 1 to 5 using a nested for loop:**"
      ],
      "metadata": {
        "id": "A-ZzER-8pKe9"
      }
    },
    {
      "cell_type": "code",
      "source": [
        "# Program to generate a multiplication table for numbers from 1 to 5 using nested for loops\n",
        "\n",
        "# Using nested for loops to generate the multiplication table\n",
        "for i in range(1, 6):\n",
        "    for j in range(1, 11):\n",
        "        print(f\"{i} x {j} = {i * j}\")\n"
      ],
      "metadata": {
        "colab": {
          "base_uri": "https://localhost:8080/"
        },
        "id": "g7DCEA1QpOjj",
        "outputId": "08e2922c-7722-49b9-ee9a-68ceb0c4fa94"
      },
      "execution_count": null,
      "outputs": [
        {
          "output_type": "stream",
          "name": "stdout",
          "text": [
            "1 x 1 = 1\n",
            "1 x 2 = 2\n",
            "1 x 3 = 3\n",
            "1 x 4 = 4\n",
            "1 x 5 = 5\n",
            "1 x 6 = 6\n",
            "1 x 7 = 7\n",
            "1 x 8 = 8\n",
            "1 x 9 = 9\n",
            "1 x 10 = 10\n",
            "2 x 1 = 2\n",
            "2 x 2 = 4\n",
            "2 x 3 = 6\n",
            "2 x 4 = 8\n",
            "2 x 5 = 10\n",
            "2 x 6 = 12\n",
            "2 x 7 = 14\n",
            "2 x 8 = 16\n",
            "2 x 9 = 18\n",
            "2 x 10 = 20\n",
            "3 x 1 = 3\n",
            "3 x 2 = 6\n",
            "3 x 3 = 9\n",
            "3 x 4 = 12\n",
            "3 x 5 = 15\n",
            "3 x 6 = 18\n",
            "3 x 7 = 21\n",
            "3 x 8 = 24\n",
            "3 x 9 = 27\n",
            "3 x 10 = 30\n",
            "4 x 1 = 4\n",
            "4 x 2 = 8\n",
            "4 x 3 = 12\n",
            "4 x 4 = 16\n",
            "4 x 5 = 20\n",
            "4 x 6 = 24\n",
            "4 x 7 = 28\n",
            "4 x 8 = 32\n",
            "4 x 9 = 36\n",
            "4 x 10 = 40\n",
            "5 x 1 = 5\n",
            "5 x 2 = 10\n",
            "5 x 3 = 15\n",
            "5 x 4 = 20\n",
            "5 x 5 = 25\n",
            "5 x 6 = 30\n",
            "5 x 7 = 35\n",
            "5 x 8 = 40\n",
            "5 x 9 = 45\n",
            "5 x 10 = 50\n"
          ]
        }
      ]
    },
    {
      "cell_type": "markdown",
      "source": [
        "The program uses nested for loops to generate a multiplication table for numbers from 1 to 5.\n",
        "\n",
        "The outer loop (for i in range(1, 6)) iterates through numbers from 1 to 5.\n",
        "\n",
        "The inner loop (for j in range(1, 11)) iterates through numbers from 1 to 10.\n",
        "\n",
        "Inside the inner loop, it prints the multiplication expression and result in the desired format."
      ],
      "metadata": {
        "id": "5LqJ4tk6pZbz"
      }
    },
    {
      "cell_type": "markdown",
      "source": [
        "**17. Convert a list of Fahrenheit temperatures to Celsius using a for loop:**\n"
      ],
      "metadata": {
        "id": "Uxb3A2ulpnPu"
      }
    },
    {
      "cell_type": "code",
      "source": [
        "# Using a for loop to iterate through the list and convert temperatures\n",
        "fahrenheit_temps = [32, 68, 95, 104]  # Sample Fahrenheit temperatures\n",
        "celsius_temps = [(temp - 32) * 5/9 for temp in fahrenheit_temps]\n",
        "\n",
        "# Print the result\n",
        "print(\"Celsius Temperatures:\", celsius_temps)\n",
        "\n",
        "\n"
      ],
      "metadata": {
        "colab": {
          "base_uri": "https://localhost:8080/"
        },
        "id": "uLjbGhWSpw19",
        "outputId": "121ceca9-6eea-4793-b1a4-d893c11a1d04"
      },
      "execution_count": null,
      "outputs": [
        {
          "output_type": "stream",
          "name": "stdout",
          "text": [
            "Celsius Temperatures: [0.0, 20.0, 35.0, 40.0]\n"
          ]
        }
      ]
    },
    {
      "cell_type": "markdown",
      "source": [
        "The program uses a list comprehension to iterate through each temperature in the Fahrenheit list and converts it to Celsius.\n",
        "\n",
        "The formula **(temp - 32) * 5/9** is applied to each temperature in the list.\n",
        "\n",
        "The resulting Celsius temperatures are stored in the celsius_temps list.\n",
        "\n"
      ],
      "metadata": {
        "id": "B4n46SvLuFev"
      }
    },
    {
      "cell_type": "markdown",
      "source": [
        "**18. Print common elements from two lists using a for loop:**"
      ],
      "metadata": {
        "id": "or40KRfwuWci"
      }
    },
    {
      "cell_type": "code",
      "source": [
        "# Program to print common elements from two lists using a for loop\n",
        "\n",
        "# Input lists\n",
        "list1 = [1, 2, 3, 4, 5]\n",
        "list2 = [3, 4, 5, 6, 7]\n",
        "\n",
        "# Using a for loop to iterate through the first list and check for common elements\n",
        "common_elements = [element for element in list1 if element in list2]\n",
        "\n",
        "# Print the result\n",
        "print(\"Common elements:\", common_elements)\n"
      ],
      "metadata": {
        "colab": {
          "base_uri": "https://localhost:8080/"
        },
        "id": "Fy0WYriRubXw",
        "outputId": "c98590e1-144d-4a3a-cda6-8675d1d0f56e"
      },
      "execution_count": null,
      "outputs": [
        {
          "output_type": "stream",
          "name": "stdout",
          "text": [
            "Common elements: [3, 4, 5]\n"
          ]
        }
      ]
    },
    {
      "cell_type": "markdown",
      "source": [
        "The program uses a list comprehension to iterate through elements in the first list (list1).\n",
        "\n",
        "For each element in list1, it checks if the element is also present in the second list (list2).\n",
        "\n",
        "The common elements are stored in the common_elements list."
      ],
      "metadata": {
        "id": "VIzHptIBulLa"
      }
    },
    {
      "cell_type": "markdown",
      "source": [
        "**19. Print the pattern of right-angled triangles using a for loop:**"
      ],
      "metadata": {
        "id": "qviUajv8uq-i"
      }
    },
    {
      "cell_type": "code",
      "source": [
        "# Program to print the pattern of right-angled triangles using a for loop\n",
        "\n",
        "# Input number of rows\n",
        "num_rows = 5\n",
        "\n",
        "# Using a for loop to iterate through rows\n",
        "for i in range(1, num_rows + 1):\n",
        "    print('* ' * i)\n"
      ],
      "metadata": {
        "colab": {
          "base_uri": "https://localhost:8080/"
        },
        "id": "NUNifzZzuu5_",
        "outputId": "a92cb101-03b0-450b-8fab-adcb4bedd0a2"
      },
      "execution_count": null,
      "outputs": [
        {
          "output_type": "stream",
          "name": "stdout",
          "text": [
            "* \n",
            "* * \n",
            "* * * \n",
            "* * * * \n",
            "* * * * * \n"
          ]
        }
      ]
    },
    {
      "cell_type": "markdown",
      "source": [
        "The program uses a for loop to iterate through rows, where each row represents a line of the right-angled triangle.\n",
        "\n",
        "Inside the loop, it prints '*' multiplied by the current row number.\n",
        "The number of '*' characters printed in each row corresponds to the row number."
      ],
      "metadata": {
        "id": "Hg131sKou1wQ"
      }
    },
    {
      "cell_type": "markdown",
      "source": [
        "**20. Find the greatest common divisor (GCD) of two numbers using a for loop:**"
      ],
      "metadata": {
        "id": "18cmwf4su8S-"
      }
    },
    {
      "cell_type": "code",
      "source": [
        "# Program to find the greatest common divisor (GCD) of two numbers using a for loop\n",
        "\n",
        "# Function to find GCD\n",
        "def find_gcd(a, b):\n",
        "    while b:\n",
        "        a, b = b, a % b\n",
        "    return a\n",
        "\n",
        "# Input numbers\n",
        "num1 = int(input(\"enter value of num 1: \"))\n",
        "num2 = int(input(\"enter value of num 2: \"))\n",
        "\n",
        "# Using the function to find GCD\n",
        "gcd_result = find_gcd(num1, num2)\n",
        "\n",
        "# Print the result\n",
        "print(\"GCD of\", num1, \"and\", num2, \"is:\", gcd_result)\n"
      ],
      "metadata": {
        "colab": {
          "base_uri": "https://localhost:8080/"
        },
        "id": "VEupvZ36vANZ",
        "outputId": "ca72561d-3671-41f5-f1fe-6cc2b180ca57"
      },
      "execution_count": null,
      "outputs": [
        {
          "output_type": "stream",
          "name": "stdout",
          "text": [
            "enter value of num 1: 6\n",
            "enter value of num 2: 12\n",
            "GCD of 6 and 12 is: 6\n"
          ]
        }
      ]
    },
    {
      "cell_type": "markdown",
      "source": [
        "The program defines a function find_gcd that implements the Euclidean algorithm to find the greatest common divisor (GCD) of two numbers.\n",
        "The function is then used to find the GCD of two input numbers (num1 and num2)"
      ],
      "metadata": {
        "id": "aoq8FWo9va8i"
      }
    },
    {
      "cell_type": "markdown",
      "source": [
        "2**1. Calculate the sum of the digits of numbers in a list using a list comprehension:**"
      ],
      "metadata": {
        "id": "8h0yDD1Fvhj7"
      }
    },
    {
      "cell_type": "code",
      "source": [
        "# Input list of numbers\n",
        "number_list = [123, 456, 789]\n",
        "\n",
        "# Using list comprehension to calculate the sum of digits for each number\n",
        "digit_sums = [sum(int(digit) for digit in str(number)) for number in number_list]\n",
        "\n",
        "# Print the result\n",
        "print(\"Sum of digits for each number:\", digit_sums)\n"
      ],
      "metadata": {
        "id": "fO1KYAsNuom8",
        "colab": {
          "base_uri": "https://localhost:8080/"
        },
        "outputId": "8c6077df-d3fb-4bd0-d2f1-d03db0c35fb0"
      },
      "execution_count": 1,
      "outputs": [
        {
          "output_type": "stream",
          "name": "stdout",
          "text": [
            "Sum of digits for each number: [6, 15, 24]\n"
          ]
        }
      ]
    },
    {
      "cell_type": "markdown",
      "source": [
        "The program uses a list comprehension to iterate through each number in the number_list.\n",
        "\n",
        "For each number, it converts it to a string and then converts each digit back to an integer.\n",
        "\n",
        "The sum function calculates the sum of these digits.\n",
        "\n",
        "sums are stored in the digit_sums list."
      ],
      "metadata": {
        "id": "5BH4-uL-NCD8"
      }
    },
    {
      "cell_type": "markdown",
      "source": [
        "**22. Find the prime factors of a given number using a for loop and list comprehension:**"
      ],
      "metadata": {
        "id": "EZl8ceoqNJG0"
      }
    },
    {
      "cell_type": "code",
      "source": [
        "# Function to find prime factors of a number\n",
        "def prime_factors(n):\n",
        "    factors = [factor for factor in range(2, n + 1) if n % factor == 0]\n",
        "    return [factor for factor in factors if all(factor % i != 0 for i in range(2, int(factor**0.5) + 1))]\n",
        "\n",
        "# Input number\n",
        "num = int(input(\"Enter a number\"))\n",
        "\n",
        "# Find prime factors using the function\n",
        "result = prime_factors(num)\n",
        "\n",
        "# Print the result\n",
        "print(f\"Prime factors of {num}: {result}\")\n",
        "\n",
        "\n"
      ],
      "metadata": {
        "colab": {
          "base_uri": "https://localhost:8080/"
        },
        "id": "oeyu-nc5NMX4",
        "outputId": "2134fd53-04ea-4d5b-c696-7f45a9c72d42"
      },
      "execution_count": 11,
      "outputs": [
        {
          "output_type": "stream",
          "name": "stdout",
          "text": [
            "Enter a number65\n",
            "Prime factors of 65: [5, 13]\n"
          ]
        }
      ]
    },
    {
      "cell_type": "markdown",
      "source": [
        "The program defines a function prime_factors that finds all factors of a given number.\n",
        "\n",
        "The list comprehension uses this function to find all factors of the input number.\n",
        "\n",
        "It then filters the prime factors by checking if each factor is divisible only by 1 and itself.\n",
        "The result is a list of prime factors for the given number."
      ],
      "metadata": {
        "id": "ml37cIx_Nogb"
      }
    },
    {
      "cell_type": "markdown",
      "source": [
        "**23. Extract unique elements from a list and store them in a new list using list comprehension:**"
      ],
      "metadata": {
        "id": "N-teW_EoNvjt"
      }
    },
    {
      "cell_type": "code",
      "source": [
        "# Input list with duplicates\n",
        "original_list = [1, 2, 2, 3, 4, 4, 5]\n",
        "\n",
        "# Extract unique elements using list comprehension\n",
        "unique_elements = list(set(original_list))\n",
        "\n",
        "# Print the result\n",
        "print(\"Original List:\", original_list)\n",
        "print(\"Unique Elements:\", unique_elements)\n"
      ],
      "metadata": {
        "colab": {
          "base_uri": "https://localhost:8080/"
        },
        "id": "FaUpAz8kNy3C",
        "outputId": "e6dc340e-5049-4cd2-8217-2e75d1451468"
      },
      "execution_count": 6,
      "outputs": [
        {
          "output_type": "stream",
          "name": "stdout",
          "text": [
            "Original List: [1, 2, 2, 3, 4, 4, 5]\n",
            "Unique Elements: [1, 2, 3, 4, 5]\n"
          ]
        }
      ]
    },
    {
      "cell_type": "markdown",
      "source": [
        " program uses a set to automatically remove duplicates from the original_list.\n",
        "\n",
        " set is then converted back to a list using list() to maintain the original order of elements.\n",
        "\n",
        " result is a list containing only the unique elements."
      ],
      "metadata": {
        "id": "EKdE9bC5N2IX"
      }
    },
    {
      "cell_type": "markdown",
      "source": [
        "**24. Generate a list of all palindromic numbers up to a specified limit using list comprehension:**"
      ],
      "metadata": {
        "id": "WU_oNw_mN8du"
      }
    },
    {
      "cell_type": "code",
      "source": [
        "# Input limit\n",
        "limit = 100\n",
        "\n",
        "# Generate palindromic numbers using list comprehension\n",
        "palindromic_numbers = [num for num in range(limit + 1) if str(num) == str(num)[::-1]]\n",
        "\n",
        "# Print the result\n",
        "print(\"Palindromic Numbers up to\", limit, \":\", palindromic_numbers)\n"
      ],
      "metadata": {
        "colab": {
          "base_uri": "https://localhost:8080/"
        },
        "id": "AznVuM86OBVn",
        "outputId": "3636c900-930d-4c39-a37d-498f91d86aa4"
      },
      "execution_count": 7,
      "outputs": [
        {
          "output_type": "stream",
          "name": "stdout",
          "text": [
            "Palindromic Numbers up to 100 : [0, 1, 2, 3, 4, 5, 6, 7, 8, 9, 11, 22, 33, 44, 55, 66, 77, 88, 99]\n"
          ]
        }
      ]
    },
    {
      "cell_type": "markdown",
      "source": [
        " program uses a list comprehension to iterate through numbers up to the specified limit.\n",
        "\n",
        "For each number, it checks if the string representation of the number is the same in reverse.\n",
        "\n",
        "If true, the number is a palindrome, and it is included in the palindromic_numbers list."
      ],
      "metadata": {
        "id": "cIxIQXp2OGXM"
      }
    },
    {
      "cell_type": "markdown",
      "source": [
        "**25. Flatten a nested list using list comprehension:**"
      ],
      "metadata": {
        "id": "BfS1a1fMOJqG"
      }
    },
    {
      "cell_type": "code",
      "source": [
        "# Input nested list\n",
        "nested_list = [[1, 2, 3], [4, 5, 6], [7, 8, 9]]\n",
        "\n",
        "# Flatten the nested list using list comprehension\n",
        "flattened_list = [element for sublist in nested_list for element in sublist]\n",
        "\n",
        "# Print the result\n",
        "print(\"Nested List:\", nested_list)\n",
        "print(\"Flattened List:\", flattened_list)\n"
      ],
      "metadata": {
        "colab": {
          "base_uri": "https://localhost:8080/"
        },
        "id": "RTx_byt4OM_d",
        "outputId": "4f4ea663-f586-482c-85c0-9494e99e68bd"
      },
      "execution_count": 8,
      "outputs": [
        {
          "output_type": "stream",
          "name": "stdout",
          "text": [
            "Nested List: [[1, 2, 3], [4, 5, 6], [7, 8, 9]]\n",
            "Flattened List: [1, 2, 3, 4, 5, 6, 7, 8, 9]\n"
          ]
        }
      ]
    },
    {
      "cell_type": "markdown",
      "source": [
        " program uses a nested list comprehension to iterate through each element in each sublist of the nested_list.\n",
        "\n",
        " result is a flattened list containing all elements from the original nested list."
      ],
      "metadata": {
        "id": "wTg6mHsvOPuO"
      }
    },
    {
      "cell_type": "markdown",
      "source": [
        "**26. Compute the sum of even and odd numbers in a list separately using list comprehension:**"
      ],
      "metadata": {
        "id": "BO8oEyEjOTpe"
      }
    },
    {
      "cell_type": "code",
      "source": [
        "# Input list of numbers\n",
        "number_list = [1, 2, 3, 4, 5, 6, 7, 8, 9]\n",
        "\n",
        "# Compute sum of even and odd numbers using list comprehension\n",
        "sum_even_odd = {\n",
        "    'Sum of Even Numbers': sum(num for num in number_list if num % 2 == 0),\n",
        "    'Sum of Odd Numbers': sum(num for num in number_list if num % 2 != 0)\n",
        "}\n",
        "\n",
        "# Print the result\n",
        "print(\"Number List:\", number_list)\n",
        "print(\"Sum of Even and Odd Numbers:\", sum_even_odd)\n"
      ],
      "metadata": {
        "colab": {
          "base_uri": "https://localhost:8080/"
        },
        "id": "WiiwoUdyOXyB",
        "outputId": "f721ca3f-e6af-4e54-8ba5-a1cb18d4df0d"
      },
      "execution_count": 9,
      "outputs": [
        {
          "output_type": "stream",
          "name": "stdout",
          "text": [
            "Number List: [1, 2, 3, 4, 5, 6, 7, 8, 9]\n",
            "Sum of Even and Odd Numbers: {'Sum of Even Numbers': 20, 'Sum of Odd Numbers': 25}\n"
          ]
        }
      ]
    },
    {
      "cell_type": "markdown",
      "source": [
        "program uses a dictionary comprehension to compute the sum of even and odd numbers separately.\n",
        "\n",
        "It iterates through the number_list using list comprehensions with conditions for even and odd numbers.\n",
        "\n",
        " result is a dictionary containing the sums of even and odd numbers."
      ],
      "metadata": {
        "id": "LLPKRDWSOZ3c"
      }
    },
    {
      "cell_type": "markdown",
      "source": [
        "**27. Generate a list of squares of odd numbers between 1 and 10 using list comprehension:**"
      ],
      "metadata": {
        "id": "6ZfGK0RIOd1c"
      }
    },
    {
      "cell_type": "code",
      "source": [
        "# Generate squares of odd numbers using list comprehension\n",
        "squares_of_odd = [num**2 for num in range(1, 11) if num % 2 != 0]\n",
        "\n",
        "# Print the result\n",
        "print(\"Squares of Odd Numbers between 1 and 10:\", squares_of_odd)\n"
      ],
      "metadata": {
        "colab": {
          "base_uri": "https://localhost:8080/"
        },
        "id": "ytZYShd5Ogrq",
        "outputId": "b96e8b70-ffa1-4ad0-ab51-c66ac1c1fadf"
      },
      "execution_count": 10,
      "outputs": [
        {
          "output_type": "stream",
          "name": "stdout",
          "text": [
            "Squares of Odd Numbers between 1 and 10: [1, 9, 25, 49, 81]\n"
          ]
        }
      ]
    },
    {
      "cell_type": "markdown",
      "source": [
        " program uses a list comprehension to iterate through numbers from 1 to 10.\n",
        "\n",
        "It squares each odd number by checking if the number is not divisible by 2 (num % 2 != 0).\n",
        "\n",
        " result is a list of squares of odd numbers between 1 and 10."
      ],
      "metadata": {
        "id": "0IZV2kWfOyjA"
      }
    },
    {
      "cell_type": "markdown",
      "source": [
        "**28. Combine two lists into a dictionary using list comprehension:**"
      ],
      "metadata": {
        "id": "kX6-A4wOO3MM"
      }
    },
    {
      "cell_type": "code",
      "source": [
        "# Input lists\n",
        "keys = ['a', 'b', 'c']\n",
        "values = [1, 2, 3]\n",
        "\n",
        "# Combine lists into a dictionary using list comprehension\n",
        "result_dict = {k: v for k, v in zip(keys, values)}\n",
        "\n",
        "# Print the result\n",
        "print(\"Keys:\", keys)\n",
        "print(\"Values:\", values)\n",
        "print(\"Combined Dictionary:\", result_dict)\n"
      ],
      "metadata": {
        "colab": {
          "base_uri": "https://localhost:8080/"
        },
        "id": "zjL56I00O6OK",
        "outputId": "4fe263e9-ea39-4b76-8ac0-e59dd6f9d7e2"
      },
      "execution_count": 12,
      "outputs": [
        {
          "output_type": "stream",
          "name": "stdout",
          "text": [
            "Keys: ['a', 'b', 'c']\n",
            "Values: [1, 2, 3]\n",
            "Combined Dictionary: {'a': 1, 'b': 2, 'c': 3}\n"
          ]
        }
      ]
    },
    {
      "cell_type": "markdown",
      "source": [
        "program uses a dictionary comprehension to combine two lists (keys and values) into a dictionary.\n",
        "\n",
        "It uses the zip function to pair elements with the same index from both lists.\n",
        "\n",
        " result is a dictionary where each key-value pair comes from the corresponding indices of the input lists."
      ],
      "metadata": {
        "id": "lajnj68UO8zf"
      }
    },
    {
      "cell_type": "markdown",
      "source": [
        "**29. Extract vowels from a string and store them in a list using list comprehension:**"
      ],
      "metadata": {
        "id": "zCJU6nmVPGJQ"
      }
    },
    {
      "cell_type": "code",
      "source": [
        "# Input string\n",
        "my_string = input(\"Enter string : \")\n",
        "\n",
        "# Extract vowels using list comprehension\n",
        "vowels = [char for char in my_string if char.lower() in \"aeiou\"]\n",
        "\n",
        "# Print the result\n",
        "print(\"Original String:\", my_string)\n",
        "print(\"Extracted Vowels:\", vowels)\n"
      ],
      "metadata": {
        "colab": {
          "base_uri": "https://localhost:8080/"
        },
        "id": "GCLX_cewPI3m",
        "outputId": "8ab694f7-8093-4f67-c05e-63013dbf4dec"
      },
      "execution_count": 14,
      "outputs": [
        {
          "output_type": "stream",
          "name": "stdout",
          "text": [
            "Enter string : hello\n",
            "Original String: hello\n",
            "Extracted Vowels: ['e', 'o']\n"
          ]
        }
      ]
    },
    {
      "cell_type": "markdown",
      "source": [
        "program uses a list comprehension to iterate through each character in the input string.\n",
        "\n",
        "It checks if the lowercase version of the character is a vowel (char.lower() in \"aeiou\").\n",
        "\n",
        "result is a list containing the extracted vowels from the original string."
      ],
      "metadata": {
        "id": "7J0tIvNEPakg"
      }
    },
    {
      "cell_type": "markdown",
      "source": [
        "**30. Remove all non-numeric characters from a list of strings using list comprehension:**"
      ],
      "metadata": {
        "id": "X9TWeCZjPft1"
      }
    },
    {
      "cell_type": "code",
      "source": [
        "# Input list of strings\n",
        "string_list = ['abc123', '456def', '789ghi']\n",
        "\n",
        "# Remove non-numeric characters using list comprehension\n",
        "numeric_strings = [''.join(char for char in string if char.isnumeric()) for string in string_list]\n",
        "\n",
        "# Print the result\n",
        "print(\"Original String List:\", string_list)\n",
        "print(\"Numeric Strings:\", numeric_strings)\n"
      ],
      "metadata": {
        "id": "yWccFvGsPiH1",
        "outputId": "c32b2824-de20-4910-9238-58d2c0787dec",
        "colab": {
          "base_uri": "https://localhost:8080/"
        }
      },
      "execution_count": 15,
      "outputs": [
        {
          "output_type": "stream",
          "name": "stdout",
          "text": [
            "Original String List: ['abc123', '456def', '789ghi']\n",
            "Numeric Strings: ['123', '456', '789']\n"
          ]
        }
      ]
    },
    {
      "cell_type": "markdown",
      "source": [
        "program uses a nested list comprehension to iterate through each character in each string of the string_list.\n",
        "\n",
        "It checks if each character is numeric using char.isnumeric().\n",
        "\n",
        " result is a list of strings where each string contains only numeric characters."
      ],
      "metadata": {
        "id": "zQE2A54BPq2r"
      }
    },
    {
      "cell_type": "markdown",
      "source": [
        "**31. Generate a list of prime numbers using the Sieve of Eratosthenes algorithm and list comprehension:**"
      ],
      "metadata": {
        "id": "t4x-GwLZPwqt"
      }
    },
    {
      "cell_type": "code",
      "source": [
        "# Input limit\n",
        "limit = int(input(\" Enter your Limit : \"))\n",
        "\n",
        "# Implement the Sieve of Eratosthenes algorithm using list comprehension\n",
        "sieve = [True] * (limit + 1)\n",
        "sieve[0], sieve[1] = False, False\n",
        "\n",
        "for num in range(2, int(limit**0.5) + 1):\n",
        "    if sieve[num]:\n",
        "        sieve[num*num : limit+1 : num] = [False] * len(range(num*num, limit+1, num))\n",
        "\n",
        "# Generate the list of prime numbers using list comprehension\n",
        "prime_numbers = [num for num in range(2, limit + 1) if sieve[num]]\n",
        "\n",
        "# Print the result\n",
        "print(\"Prime Numbers up to\", limit, \":\", prime_numbers)\n"
      ],
      "metadata": {
        "id": "VV9GWyVxQDX3",
        "outputId": "d298286d-0bba-4e51-ead4-967776b9768d",
        "colab": {
          "base_uri": "https://localhost:8080/"
        }
      },
      "execution_count": 17,
      "outputs": [
        {
          "output_type": "stream",
          "name": "stdout",
          "text": [
            " Enter your Limit : 50\n",
            "Prime Numbers up to 50 : [2, 3, 5, 7, 11, 13, 17, 19, 23, 29, 31, 37, 41, 43, 47]\n"
          ]
        }
      ]
    },
    {
      "cell_type": "markdown",
      "source": [
        "program uses the Sieve of Eratosthenes algorithm to efficiently find prime numbers up to a given limit.\n",
        "\n",
        "It initializes a boolean list (sieve) where each index represents a number, and True indicates a potential prime.\n",
        "\n",
        "It marks multiples of each prime as False in the sieve.\n",
        "\n",
        " resulting list comprehension filters out non-prime numbers."
      ],
      "metadata": {
        "id": "eQhJOAUBQVD9"
      }
    },
    {
      "cell_type": "markdown",
      "source": [
        "**32. Generate a list of all Pythagorean triplets up to a specified limit using list comprehension:**"
      ],
      "metadata": {
        "id": "XLOaZlaxQbrW"
      }
    },
    {
      "cell_type": "code",
      "source": [
        "# Input limit\n",
        "limit = 20\n",
        "\n",
        "# Generate Pythagorean triplets using list comprehension\n",
        "pythagorean_triplets = [(a, b, c) for a in range(1, limit+1)\n",
        "                         for b in range(a, limit+1)\n",
        "                         for c in range(b, limit+1) if a**2 + b**2 == c**2]\n",
        "\n",
        "# Print the result\n",
        "print(\"Pythagorean Triplets up to\", limit, \":\", pythagorean_triplets)\n"
      ],
      "metadata": {
        "id": "uTQGjp2eRo34",
        "outputId": "1ad6e8f7-3c63-4976-fe57-58dc908b017c",
        "colab": {
          "base_uri": "https://localhost:8080/"
        }
      },
      "execution_count": 18,
      "outputs": [
        {
          "output_type": "stream",
          "name": "stdout",
          "text": [
            "Pythagorean Triplets up to 20 : [(3, 4, 5), (5, 12, 13), (6, 8, 10), (8, 15, 17), (9, 12, 15), (12, 16, 20)]\n"
          ]
        }
      ]
    },
    {
      "cell_type": "markdown",
      "source": [
        " program uses nested list comprehension to generate Pythagorean triplets.\n",
        "\n",
        "It iterates through combinations of a, b, and c in the specified range.\n",
        "\n",
        " condition a**2 + b**2 == c**2 ensures that the combination forms a Pythagorean triplet."
      ],
      "metadata": {
        "id": "K8mn8we3RsU4"
      }
    },
    {
      "cell_type": "markdown",
      "source": [
        "**33. Generate a list of all possible combinations of two lists using list comprehension:**"
      ],
      "metadata": {
        "id": "DiOspJ4XRxMZ"
      }
    },
    {
      "cell_type": "code",
      "source": [
        "# Input lists\n",
        "list1 = [1, 2, 3]\n",
        "list2 = ['a', 'b']\n",
        "\n",
        "# Generate all possible combinations using list comprehension\n",
        "combinations = [(x, y) for x in list1 for y in list2]\n",
        "\n",
        "# Print the result\n",
        "print(\"List 1:\", list1)\n",
        "print(\"List 2:\", list2)\n",
        "print(\"All Possible Combinations:\", combinations)\n"
      ],
      "metadata": {
        "id": "enqTdT6eRz4F",
        "outputId": "dda77a0a-978a-44f9-8595-64dd44646527",
        "colab": {
          "base_uri": "https://localhost:8080/"
        }
      },
      "execution_count": 19,
      "outputs": [
        {
          "output_type": "stream",
          "name": "stdout",
          "text": [
            "List 1: [1, 2, 3]\n",
            "List 2: ['a', 'b']\n",
            "All Possible Combinations: [(1, 'a'), (1, 'b'), (2, 'a'), (2, 'b'), (3, 'a'), (3, 'b')]\n"
          ]
        }
      ]
    },
    {
      "cell_type": "markdown",
      "source": [
        "program uses nested list comprehension to create all possible combinations of elements from two lists.\n",
        "\n",
        "It iterates through each element of the first list (list1) and pairs it with each element of the second list (list2)."
      ],
      "metadata": {
        "id": "stGTUdnOR4gp"
      }
    },
    {
      "cell_type": "markdown",
      "source": [
        "**34. Calculate the mean, median, and mode of a list of numbers using list comprehension:**"
      ],
      "metadata": {
        "id": "I0Pnt5XtSDQS"
      }
    },
    {
      "cell_type": "code",
      "source": [
        "# Input list of numbers\n",
        "numbers = [1, 2, 3, 4, 5, 5, 6, 7, 8, 9]\n",
        "\n",
        "# Calculate mean using list comprehension\n",
        "mean = sum(numbers) / len(numbers)\n",
        "\n",
        "# Calculate median using list comprehension\n",
        "sorted_numbers = sorted(numbers)\n",
        "median = (sorted_numbers[len(numbers)//2] + sorted_numbers[(len(numbers)-1)//2]) / 2\n",
        "\n",
        "# Calculate mode using list comprehension\n",
        "mode = max(set(numbers), key=numbers.count)\n",
        "\n",
        "# Print the result\n",
        "print(\"List of Numbers:\", numbers)\n",
        "print(\"Mean:\", mean)\n",
        "print(\"Median:\", median)\n",
        "print(\"Mode:\", mode)\n"
      ],
      "metadata": {
        "id": "56naYj4fSBjd",
        "outputId": "31cef237-59e2-4df6-ad0a-a020a8b7633b",
        "colab": {
          "base_uri": "https://localhost:8080/"
        }
      },
      "execution_count": 20,
      "outputs": [
        {
          "output_type": "stream",
          "name": "stdout",
          "text": [
            "List of Numbers: [1, 2, 3, 4, 5, 5, 6, 7, 8, 9]\n",
            "Mean: 5.0\n",
            "Median: 5.0\n",
            "Mode: 5\n"
          ]
        }
      ]
    },
    {
      "cell_type": "markdown",
      "source": [
        "program calculates the mean, median, and mode of a list of numbers using list comprehension.\n",
        "\n",
        " mean is computed by dividing the sum of numbers by the count of numbers.\n",
        "\n",
        " median is calculated based on whether the count of numbers is even or odd.\n",
        "\n",
        "\n",
        " mode is determined by finding the most frequently occurring number in the list."
      ],
      "metadata": {
        "id": "W3ibQI76SLqY"
      }
    },
    {
      "cell_type": "markdown",
      "source": [
        "**35. Generate Pascal's triangle up to a specified number of rows using list comprehension:**"
      ],
      "metadata": {
        "id": "1xCDwQhySUds"
      }
    },
    {
      "cell_type": "code",
      "source": [
        "# Input number of rows\n",
        "num_rows = int(input(\"ENter no of Rows : \"))\n",
        "\n",
        "# Generate Pascal's triangle\n",
        "pascals_triangle = []\n",
        "\n",
        "for i in range(num_rows):\n",
        "    if i == 0:\n",
        "        row = [1]\n",
        "    else:\n",
        "        row = [1]\n",
        "        for j in range(1, i):\n",
        "            row.append(pascals_triangle[i-1][j-1] + pascals_triangle[i-1][j])\n",
        "        row.append(1)\n",
        "    pascals_triangle.append(row)\n",
        "\n",
        "# Print the result\n",
        "print(\"Pascal's Triangle up to\", num_rows, \"rows:\")\n",
        "for row in pascals_triangle:\n",
        "    print(row)\n"
      ],
      "metadata": {
        "id": "dkD9UPctSXRC",
        "outputId": "d2647dc3-029c-4c11-a1cf-aa969b64ca0b",
        "colab": {
          "base_uri": "https://localhost:8080/"
        }
      },
      "execution_count": 23,
      "outputs": [
        {
          "output_type": "stream",
          "name": "stdout",
          "text": [
            "ENter no of Rows : 10\n",
            "Pascal's Triangle up to 10 rows:\n",
            "[1]\n",
            "[1, 1]\n",
            "[1, 2, 1]\n",
            "[1, 3, 3, 1]\n",
            "[1, 4, 6, 4, 1]\n",
            "[1, 5, 10, 10, 5, 1]\n",
            "[1, 6, 15, 20, 15, 6, 1]\n",
            "[1, 7, 21, 35, 35, 21, 7, 1]\n",
            "[1, 8, 28, 56, 70, 56, 28, 8, 1]\n",
            "[1, 9, 36, 84, 126, 126, 84, 36, 9, 1]\n"
          ]
        }
      ]
    },
    {
      "cell_type": "markdown",
      "source": [
        "program generates Pascal's triangle up to a specified number of rows using nested list comprehension.\n",
        "\n",
        "It initializes the first row with a single element 1 and builds subsequent rows based on the sum of elements from the previous row."
      ],
      "metadata": {
        "id": "ptTZiRofSnSj"
      }
    },
    {
      "cell_type": "markdown",
      "source": [
        "**36. Calculate the sum of the digits of a factorial of numbers from 1 to 5 using list comprehension:**"
      ],
      "metadata": {
        "id": "NiTEd8QySsfh"
      }
    },
    {
      "cell_type": "code",
      "source": [
        "# Function to calculate factorial\n",
        "def factorial(n):\n",
        "    return 1 if n == 0 else n * factorial(n-1)\n",
        "\n",
        "# Calculate the sum of digits using list comprehension\n",
        "sum_of_digits = [sum(int(digit) for digit in str(factorial(num))) for num in range(1, 6)]\n",
        "\n",
        "# Print the result\n",
        "print(\"Sum of digits of factorials:\", sum_of_digits)\n"
      ],
      "metadata": {
        "id": "Vf2WWDFISu6Q",
        "outputId": "9f1d6b4e-31ba-4865-a7cd-9244e25b596d",
        "colab": {
          "base_uri": "https://localhost:8080/"
        }
      },
      "execution_count": 24,
      "outputs": [
        {
          "output_type": "stream",
          "name": "stdout",
          "text": [
            "Sum of digits of factorials: [1, 2, 6, 6, 3]\n"
          ]
        }
      ]
    },
    {
      "cell_type": "markdown",
      "source": [
        " program calculates the sum of digits of factorials for numbers from 1 to 5 using list comprehension.\n",
        "\n",
        "It defines a factorial function to compute the factorial of a number.\n",
        "\n",
        "list comprehension iterates over the range of numbers and calculates the sum of digits for the factorial of each number."
      ],
      "metadata": {
        "id": "fKRti-8oSxR9"
      }
    },
    {
      "cell_type": "markdown",
      "source": [
        "**37. Find the longest word in a sentence using list comprehension:**"
      ],
      "metadata": {
        "id": "Yj5npeDqS1lg"
      }
    },
    {
      "cell_type": "code",
      "source": [
        "# Input sentence\n",
        "sentence = input(\" Enter your sentence : \")\n",
        "\n",
        "# Find the longest word using list comprehension\n",
        "longest_word = max((word.strip(\".,\") for word in sentence.split()), key=len)\n",
        "\n",
        "# Print the result\n",
        "print(\"Sentence:\", sentence)\n",
        "print(\"Longest Word:\", longest_word)\n"
      ],
      "metadata": {
        "id": "57_1e9S2S46j",
        "outputId": "4e087493-87e2-42f4-86ae-9a8ac1c8c5a1",
        "colab": {
          "base_uri": "https://localhost:8080/"
        }
      },
      "execution_count": 26,
      "outputs": [
        {
          "output_type": "stream",
          "name": "stdout",
          "text": [
            " Enter your sentence : my name is mayuresh\n",
            "Sentence: my name is mayuresh\n",
            "Longest Word: mayuresh\n"
          ]
        }
      ]
    },
    {
      "cell_type": "markdown",
      "source": [
        " program finds the longest word in a sentence using list comprehension.\n",
        "\n",
        "It splits the sentence into words and uses the max function with a custom key function to find the word with the maximum length."
      ],
      "metadata": {
        "id": "1qNPKCYyTGIB"
      }
    },
    {
      "cell_type": "markdown",
      "source": [
        "**38. Filter a list of strings to include only those with more than three vowels using list comprehension:**\n",
        "\n"
      ],
      "metadata": {
        "id": "XQ78MAvrTIf9"
      }
    },
    {
      "cell_type": "code",
      "source": [
        "# Input list of strings\n",
        "string_list = ['hello', 'world', 'programming', 'python','aeiou']\n",
        "\n",
        "# Filter strings with more than three vowels using list comprehension\n",
        "filtered_strings = [string for string in string_list if sum(1 for char in string.lower() if char in 'aeiou') > 3]\n",
        "\n",
        "# Print the result\n",
        "print(\"Original String List:\", string_list)\n",
        "print(\"Filtered Strings:\", filtered_strings)\n"
      ],
      "metadata": {
        "id": "Ldcb7DPxTMv6",
        "outputId": "c1202647-b056-45e2-f9ba-73233d216c6f",
        "colab": {
          "base_uri": "https://localhost:8080/"
        }
      },
      "execution_count": 28,
      "outputs": [
        {
          "output_type": "stream",
          "name": "stdout",
          "text": [
            "Original String List: ['hello', 'world', 'programming', 'python', 'aeiou']\n",
            "Filtered Strings: ['aeiou']\n"
          ]
        }
      ]
    },
    {
      "cell_type": "markdown",
      "source": [
        "program filters a list of strings to include only those with more than three vowels using list comprehension.\n",
        "\n",
        "It uses a nested list comprehension to count the number of vowels in each string and filters strings with more than three vowels."
      ],
      "metadata": {
        "id": "bLd8gu0zTWc1"
      }
    },
    {
      "cell_type": "markdown",
      "source": [
        "**39. Calculate the sum of the digits of numbers from 1 to 1000 using list comprehension:**"
      ],
      "metadata": {
        "id": "XhVAUaeLTaA5"
      }
    },
    {
      "cell_type": "code",
      "source": [
        "# Calculate the sum of digits using list comprehension\n",
        "sum_of_digits = [sum(int(digit) for digit in str(num)) for num in range(1, 1001)]\n",
        "\n",
        "# Print the result\n",
        "print(\"Sum of digits of numbers from 1 to 1000:\", sum_of_digits)\n"
      ],
      "metadata": {
        "id": "97evap5aTdu1",
        "outputId": "5749736d-1b7d-41c7-cd97-af0d7d22fec5",
        "colab": {
          "base_uri": "https://localhost:8080/"
        }
      },
      "execution_count": 29,
      "outputs": [
        {
          "output_type": "stream",
          "name": "stdout",
          "text": [
            "Sum of digits of numbers from 1 to 1000: [1, 2, 3, 4, 5, 6, 7, 8, 9, 1, 2, 3, 4, 5, 6, 7, 8, 9, 10, 2, 3, 4, 5, 6, 7, 8, 9, 10, 11, 3, 4, 5, 6, 7, 8, 9, 10, 11, 12, 4, 5, 6, 7, 8, 9, 10, 11, 12, 13, 5, 6, 7, 8, 9, 10, 11, 12, 13, 14, 6, 7, 8, 9, 10, 11, 12, 13, 14, 15, 7, 8, 9, 10, 11, 12, 13, 14, 15, 16, 8, 9, 10, 11, 12, 13, 14, 15, 16, 17, 9, 10, 11, 12, 13, 14, 15, 16, 17, 18, 1, 2, 3, 4, 5, 6, 7, 8, 9, 10, 2, 3, 4, 5, 6, 7, 8, 9, 10, 11, 3, 4, 5, 6, 7, 8, 9, 10, 11, 12, 4, 5, 6, 7, 8, 9, 10, 11, 12, 13, 5, 6, 7, 8, 9, 10, 11, 12, 13, 14, 6, 7, 8, 9, 10, 11, 12, 13, 14, 15, 7, 8, 9, 10, 11, 12, 13, 14, 15, 16, 8, 9, 10, 11, 12, 13, 14, 15, 16, 17, 9, 10, 11, 12, 13, 14, 15, 16, 17, 18, 10, 11, 12, 13, 14, 15, 16, 17, 18, 19, 2, 3, 4, 5, 6, 7, 8, 9, 10, 11, 3, 4, 5, 6, 7, 8, 9, 10, 11, 12, 4, 5, 6, 7, 8, 9, 10, 11, 12, 13, 5, 6, 7, 8, 9, 10, 11, 12, 13, 14, 6, 7, 8, 9, 10, 11, 12, 13, 14, 15, 7, 8, 9, 10, 11, 12, 13, 14, 15, 16, 8, 9, 10, 11, 12, 13, 14, 15, 16, 17, 9, 10, 11, 12, 13, 14, 15, 16, 17, 18, 10, 11, 12, 13, 14, 15, 16, 17, 18, 19, 11, 12, 13, 14, 15, 16, 17, 18, 19, 20, 3, 4, 5, 6, 7, 8, 9, 10, 11, 12, 4, 5, 6, 7, 8, 9, 10, 11, 12, 13, 5, 6, 7, 8, 9, 10, 11, 12, 13, 14, 6, 7, 8, 9, 10, 11, 12, 13, 14, 15, 7, 8, 9, 10, 11, 12, 13, 14, 15, 16, 8, 9, 10, 11, 12, 13, 14, 15, 16, 17, 9, 10, 11, 12, 13, 14, 15, 16, 17, 18, 10, 11, 12, 13, 14, 15, 16, 17, 18, 19, 11, 12, 13, 14, 15, 16, 17, 18, 19, 20, 12, 13, 14, 15, 16, 17, 18, 19, 20, 21, 4, 5, 6, 7, 8, 9, 10, 11, 12, 13, 5, 6, 7, 8, 9, 10, 11, 12, 13, 14, 6, 7, 8, 9, 10, 11, 12, 13, 14, 15, 7, 8, 9, 10, 11, 12, 13, 14, 15, 16, 8, 9, 10, 11, 12, 13, 14, 15, 16, 17, 9, 10, 11, 12, 13, 14, 15, 16, 17, 18, 10, 11, 12, 13, 14, 15, 16, 17, 18, 19, 11, 12, 13, 14, 15, 16, 17, 18, 19, 20, 12, 13, 14, 15, 16, 17, 18, 19, 20, 21, 13, 14, 15, 16, 17, 18, 19, 20, 21, 22, 5, 6, 7, 8, 9, 10, 11, 12, 13, 14, 6, 7, 8, 9, 10, 11, 12, 13, 14, 15, 7, 8, 9, 10, 11, 12, 13, 14, 15, 16, 8, 9, 10, 11, 12, 13, 14, 15, 16, 17, 9, 10, 11, 12, 13, 14, 15, 16, 17, 18, 10, 11, 12, 13, 14, 15, 16, 17, 18, 19, 11, 12, 13, 14, 15, 16, 17, 18, 19, 20, 12, 13, 14, 15, 16, 17, 18, 19, 20, 21, 13, 14, 15, 16, 17, 18, 19, 20, 21, 22, 14, 15, 16, 17, 18, 19, 20, 21, 22, 23, 6, 7, 8, 9, 10, 11, 12, 13, 14, 15, 7, 8, 9, 10, 11, 12, 13, 14, 15, 16, 8, 9, 10, 11, 12, 13, 14, 15, 16, 17, 9, 10, 11, 12, 13, 14, 15, 16, 17, 18, 10, 11, 12, 13, 14, 15, 16, 17, 18, 19, 11, 12, 13, 14, 15, 16, 17, 18, 19, 20, 12, 13, 14, 15, 16, 17, 18, 19, 20, 21, 13, 14, 15, 16, 17, 18, 19, 20, 21, 22, 14, 15, 16, 17, 18, 19, 20, 21, 22, 23, 15, 16, 17, 18, 19, 20, 21, 22, 23, 24, 7, 8, 9, 10, 11, 12, 13, 14, 15, 16, 8, 9, 10, 11, 12, 13, 14, 15, 16, 17, 9, 10, 11, 12, 13, 14, 15, 16, 17, 18, 10, 11, 12, 13, 14, 15, 16, 17, 18, 19, 11, 12, 13, 14, 15, 16, 17, 18, 19, 20, 12, 13, 14, 15, 16, 17, 18, 19, 20, 21, 13, 14, 15, 16, 17, 18, 19, 20, 21, 22, 14, 15, 16, 17, 18, 19, 20, 21, 22, 23, 15, 16, 17, 18, 19, 20, 21, 22, 23, 24, 16, 17, 18, 19, 20, 21, 22, 23, 24, 25, 8, 9, 10, 11, 12, 13, 14, 15, 16, 17, 9, 10, 11, 12, 13, 14, 15, 16, 17, 18, 10, 11, 12, 13, 14, 15, 16, 17, 18, 19, 11, 12, 13, 14, 15, 16, 17, 18, 19, 20, 12, 13, 14, 15, 16, 17, 18, 19, 20, 21, 13, 14, 15, 16, 17, 18, 19, 20, 21, 22, 14, 15, 16, 17, 18, 19, 20, 21, 22, 23, 15, 16, 17, 18, 19, 20, 21, 22, 23, 24, 16, 17, 18, 19, 20, 21, 22, 23, 24, 25, 17, 18, 19, 20, 21, 22, 23, 24, 25, 26, 9, 10, 11, 12, 13, 14, 15, 16, 17, 18, 10, 11, 12, 13, 14, 15, 16, 17, 18, 19, 11, 12, 13, 14, 15, 16, 17, 18, 19, 20, 12, 13, 14, 15, 16, 17, 18, 19, 20, 21, 13, 14, 15, 16, 17, 18, 19, 20, 21, 22, 14, 15, 16, 17, 18, 19, 20, 21, 22, 23, 15, 16, 17, 18, 19, 20, 21, 22, 23, 24, 16, 17, 18, 19, 20, 21, 22, 23, 24, 25, 17, 18, 19, 20, 21, 22, 23, 24, 25, 26, 18, 19, 20, 21, 22, 23, 24, 25, 26, 27, 1]\n"
          ]
        }
      ]
    },
    {
      "cell_type": "markdown",
      "source": [
        "program calculates the sum of digits for numbers from 1 to 1000 using list comprehension.\n",
        "\n",
        "It iterates over the range of numbers and calculates the sum of digits for each number."
      ],
      "metadata": {
        "id": "6zMA80gDTjqO"
      }
    },
    {
      "cell_type": "markdown",
      "source": [
        "**40. Generate a list of prime palindromic numbers using list comprehension:**"
      ],
      "metadata": {
        "id": "2IrO0EhqTmwF"
      }
    },
    {
      "cell_type": "code",
      "source": [
        "# Function to check if a number is prime\n",
        "def is_prime(num):\n",
        "    return num > 1 and all(num % i != 0 for i in range(2, int(num**0.5) + 1))\n",
        "\n",
        "# Generate prime palindromic numbers using list comprehension\n",
        "prime_palindromes = [num for num in range(1, 1000) if is_prime(num) and str(num) == str(num)[::-1]]\n",
        "\n",
        "# Print the result\n",
        "print(\"Prime Palindromic Numbers up to 1000:\", prime_palindromes)\n"
      ],
      "metadata": {
        "id": "r3A0yIF4TphQ",
        "outputId": "a9a3434c-de53-4c85-98b0-cb193a4d979b",
        "colab": {
          "base_uri": "https://localhost:8080/"
        }
      },
      "execution_count": 30,
      "outputs": [
        {
          "output_type": "stream",
          "name": "stdout",
          "text": [
            "Prime Palindromic Numbers up to 1000: [2, 3, 5, 7, 11, 101, 131, 151, 181, 191, 313, 353, 373, 383, 727, 757, 787, 797, 919, 929]\n"
          ]
        }
      ]
    },
    {
      "cell_type": "markdown",
      "source": [
        "program generates a list of prime palindromic numbers using list comprehension.\n",
        "It defines a is_prime function to check if a number is prime.\n",
        "\n",
        " list comprehension filters numbers that are both prime and palindromic (read the same backward as forward)."
      ],
      "metadata": {
        "id": "_VctDE-OTsJj"
      }
    }
  ]
}