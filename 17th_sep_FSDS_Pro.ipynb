{
  "cells": [
    {
      "cell_type": "markdown",
      "id": "6dcc437a-3d52-401d-8ae6-2baef1de1477",
      "metadata": {
        "id": "6dcc437a-3d52-401d-8ae6-2baef1de1477"
      },
      "source": [
        "# For Loop:"
      ]
    },
    {
      "cell_type": "markdown",
      "id": "adc7c43a-f25f-4d85-b0f6-2cbaa78fc9d7",
      "metadata": {
        "id": "adc7c43a-f25f-4d85-b0f6-2cbaa78fc9d7"
      },
      "source": [
        "1. Write a Python program to print numbers from 1 to 10 using a for loop.\n"
      ]
    },
    {
      "cell_type": "code",
      "execution_count": null,
      "id": "ce15f5a1-a268-476e-b5ce-e8f7860b24d3",
      "metadata": {
        "id": "ce15f5a1-a268-476e-b5ce-e8f7860b24d3",
        "outputId": "472e6cc9-073d-4912-fdb1-d36cf5bd115c"
      },
      "outputs": [
        {
          "name": "stdout",
          "output_type": "stream",
          "text": [
            "1\n",
            "2\n",
            "3\n",
            "4\n",
            "5\n",
            "6\n",
            "7\n",
            "8\n",
            "9\n",
            "10\n"
          ]
        }
      ],
      "source": [
        "# Usin a for loop to print numbers from 1 to 10\n",
        "for number in range(1, 11):\n",
        "    print(number)"
      ]
    },
    {
      "cell_type": "markdown",
      "id": "3c95492b-0e5e-4ba5-b35b-7726b6f8d822",
      "metadata": {
        "id": "3c95492b-0e5e-4ba5-b35b-7726b6f8d822"
      },
      "source": [
        "2. Explain the difference between a for loop and a while loop in Python.\n"
      ]
    },
    {
      "cell_type": "markdown",
      "id": "f6f5c453-8b03-4583-819f-cbfd0cb3ca13",
      "metadata": {
        "id": "f6f5c453-8b03-4583-819f-cbfd0cb3ca13"
      },
      "source": [
        "'for' loop is generally used when the number of iteration is knonw, while 'while' loop is used when the number of iterations is determined by a condition.\n",
        "\n",
        "'for' loop is more concise and often used for iterating over sequences, while 'while' loop provides more flexibility in controlling the loop execution based on a condition.\n",
        "\n",
        "'for' loop is suitable when you have a specific sequence or iterable to iterate over and 'while' loop is suitable when you want to repeat a block of code until a certain condition is met."
      ]
    },
    {
      "cell_type": "markdown",
      "id": "0778d445-912a-4014-a6cb-78b4eff2cb2b",
      "metadata": {
        "id": "0778d445-912a-4014-a6cb-78b4eff2cb2b"
      },
      "source": [
        "3. Write a Python program to calculate the sum of all numbers from 1 to 100 using a for loop.\n"
      ]
    },
    {
      "cell_type": "code",
      "execution_count": null,
      "id": "1b76b88c-e098-4674-8f01-f6c054ae1a61",
      "metadata": {
        "id": "1b76b88c-e098-4674-8f01-f6c054ae1a61",
        "outputId": "27cb9bac-3856-42aa-b082-733fa427a850"
      },
      "outputs": [
        {
          "name": "stdout",
          "output_type": "stream",
          "text": [
            "Sum of numbers from 1 to 100: 5050\n"
          ]
        }
      ],
      "source": [
        "# Initialize the sum variable\n",
        "total_sum = 0\n",
        "\n",
        "# Iterate through numbers from 1 to 100(inclusive)\n",
        "for number in range( 1, 101):\n",
        "    # Add each number to the sum\n",
        "    total_sum += number\n",
        "\n",
        "# Print the result\n",
        "print(\"Sum of numbers from 1 to 100:\", total_sum)"
      ]
    },
    {
      "cell_type": "markdown",
      "id": "f0f86988-e3e9-49d7-8b2b-51aaf5d7e22d",
      "metadata": {
        "id": "f0f86988-e3e9-49d7-8b2b-51aaf5d7e22d"
      },
      "source": [
        "4. How do you iterate through a list using a for loop in Python?\n"
      ]
    },
    {
      "cell_type": "code",
      "execution_count": null,
      "id": "2e9ad03f-9754-456d-a024-75c2b670900c",
      "metadata": {
        "id": "2e9ad03f-9754-456d-a024-75c2b670900c",
        "outputId": "6d571f7c-c03e-4818-9df9-09c7fb5c121e"
      },
      "outputs": [
        {
          "name": "stdout",
          "output_type": "stream",
          "text": [
            "1\n",
            "2\n",
            "3\n",
            "4\n",
            "5\n"
          ]
        }
      ],
      "source": [
        "my_list = [1, 2, 3, 4, 5]\n",
        "\n",
        "for item in my_list:\n",
        "    # Code to execute for each item in the list\n",
        "    print(item)"
      ]
    },
    {
      "cell_type": "markdown",
      "id": "f6fdc879-c0f8-4d49-9432-7721b3558425",
      "metadata": {
        "id": "f6fdc879-c0f8-4d49-9432-7721b3558425"
      },
      "source": [
        "5. Write a Python program to find the product of all elements in a list using a for loop.\n"
      ]
    },
    {
      "cell_type": "code",
      "execution_count": null,
      "id": "df23a82a-bbe8-46cb-b1f6-693cefb7c780",
      "metadata": {
        "id": "df23a82a-bbe8-46cb-b1f6-693cefb7c780",
        "outputId": "94e3fca3-8225-4bd9-8e90-9a3022592a6c"
      },
      "outputs": [
        {
          "name": "stdout",
          "output_type": "stream",
          "text": [
            "The product of element in the list [2, 3, 4, 5] is: 120\n"
          ]
        }
      ],
      "source": [
        "# Function to find the product of elements in a list\n",
        "def find_product(my_list):\n",
        "    product = 1 # Initialize product to 1\n",
        "\n",
        "    # Iterate through each element in the list\n",
        "    for num in my_list:\n",
        "        product *= num # Multiply the current element with the product\n",
        "\n",
        "    return product\n",
        "\n",
        "# Example usage\n",
        "my_list = [2, 3, 4, 5]\n",
        "result = find_product(my_list)\n",
        "\n",
        "print(f\"The product of element in the list {my_list} is: {result}\")"
      ]
    },
    {
      "cell_type": "markdown",
      "id": "d65c5caa-6d05-455b-b6b4-855f32999d18",
      "metadata": {
        "id": "d65c5caa-6d05-455b-b6b4-855f32999d18"
      },
      "source": [
        "6. Create a Python program that prints all even numbers from 1 to 20 using a for loop.\n"
      ]
    },
    {
      "cell_type": "code",
      "execution_count": null,
      "id": "26457f42-d34a-4eca-a7fe-3a22b60bb477",
      "metadata": {
        "id": "26457f42-d34a-4eca-a7fe-3a22b60bb477",
        "outputId": "2fb1062c-07b3-497f-c5ab-c087e6bad5d8"
      },
      "outputs": [
        {
          "name": "stdout",
          "output_type": "stream",
          "text": [
            "2\n",
            "4\n",
            "6\n",
            "8\n",
            "10\n",
            "12\n",
            "14\n",
            "16\n",
            "18\n",
            "20\n"
          ]
        }
      ],
      "source": [
        "# Print all even numbers from 1 to 20 using a for loop\n",
        "for number in range(2, 21, 2):\n",
        "    print(number)"
      ]
    },
    {
      "cell_type": "markdown",
      "id": "09063c9f-3915-4198-a455-3ad49658a2d1",
      "metadata": {
        "id": "09063c9f-3915-4198-a455-3ad49658a2d1"
      },
      "source": [
        "7. Write a Python program that calculates the factorial of a number using a for loop.\n"
      ]
    },
    {
      "cell_type": "code",
      "execution_count": null,
      "id": "64290c6b-adf8-4b32-88f3-1e36f649d27d",
      "metadata": {
        "id": "64290c6b-adf8-4b32-88f3-1e36f649d27d",
        "outputId": "117d145d-cb9c-46a6-b787-3f8077fc9106"
      },
      "outputs": [
        {
          "name": "stdin",
          "output_type": "stream",
          "text": [
            "Enter a non-negative integer to calculate its factorial:  9\n"
          ]
        },
        {
          "name": "stdout",
          "output_type": "stream",
          "text": [
            "The factorial of 9 is: 362880\n"
          ]
        }
      ],
      "source": [
        "# Function to calculate factorial using a for loop\n",
        "def calculate_factorial(number):\n",
        "    factorial = 1\n",
        "    # Check if the number is negative, zero or positive\n",
        "    if number < 0:\n",
        "        print(\"Factorial is not defined for negative numbers.\")\n",
        "    elif number == 0:\n",
        "        print(\"Factorial of 0 is 1.\")\n",
        "    else:\n",
        "        # Calculate factorail for positive numbers\n",
        "        for i in range(1, number + 1):\n",
        "            factorial *= i\n",
        "        print(f\"The factorial of {number} is: {factorial}\")\n",
        "\n",
        "# Input: Get a number from the user\n",
        "user_input = int(input(\"Enter a non-negative integer to calculate its factorial: \"))\n",
        "# Call the fuction to calculate and print the factorial\n",
        "calculate_factorial(user_input)"
      ]
    },
    {
      "cell_type": "markdown",
      "id": "79c43302-82e0-4ef3-ac78-94b0c8368ce3",
      "metadata": {
        "id": "79c43302-82e0-4ef3-ac78-94b0c8368ce3"
      },
      "source": [
        "8. How can you iterate through the characters of a string using a for loop in Python?\n",
        "\n"
      ]
    },
    {
      "cell_type": "code",
      "execution_count": null,
      "id": "68c08d44-5b51-4c90-aa16-776cb691588e",
      "metadata": {
        "id": "68c08d44-5b51-4c90-aa16-776cb691588e",
        "outputId": "b85b21e7-f0cc-4732-dd57-d21db3467d4d"
      },
      "outputs": [
        {
          "name": "stdout",
          "output_type": "stream",
          "text": [
            "H\n",
            "e\n",
            "l\n",
            "l\n",
            "o\n",
            ",\n",
            " \n",
            "W\n",
            "o\n",
            "r\n",
            "l\n",
            "d\n",
            "!\n"
          ]
        }
      ],
      "source": [
        "# Define a string\n",
        "my_string = \"Hello, World!\"\n",
        "\n",
        "# Iterate throught the characters using a for loop\n",
        "for char in my_string:\n",
        "    print(char)"
      ]
    },
    {
      "cell_type": "markdown",
      "id": "31d68008-734d-4b71-847e-aee9a1cd94a1",
      "metadata": {
        "id": "31d68008-734d-4b71-847e-aee9a1cd94a1"
      },
      "source": [
        "9. Write a Python program to find the largest number in a list using a for loop.\n"
      ]
    },
    {
      "cell_type": "code",
      "execution_count": null,
      "id": "e674a665-ee48-4916-8386-8f3f5cffc15e",
      "metadata": {
        "id": "e674a665-ee48-4916-8386-8f3f5cffc15e",
        "outputId": "874fa171-80e2-43c4-a253-483d869ef84b"
      },
      "outputs": [
        {
          "name": "stdout",
          "output_type": "stream",
          "text": [
            "The largest number in the list is: 20\n"
          ]
        }
      ],
      "source": [
        "# Define a list of numbers\n",
        "numbers = [10, 5, 8, 15, 20, 3, 12]\n",
        "\n",
        "# Initialize a variable to store the largest number\n",
        "largest_number = numbers[0]\n",
        "\n",
        "# Iterate throught the list to find the largest number\n",
        "for num in numbers:\n",
        "    if num > largest_number:\n",
        "        largest_number = num\n",
        "\n",
        "# Print the result\n",
        "print(f\"The largest number in the list is: {largest_number}\")"
      ]
    },
    {
      "cell_type": "markdown",
      "id": "78601a55-c21f-43a6-a892-d97248f7a74e",
      "metadata": {
        "id": "78601a55-c21f-43a6-a892-d97248f7a74e"
      },
      "source": [
        "10. Create a Python program that prints the Fibonacci sequence up to a specified limit using a for loop.\n",
        "\n"
      ]
    },
    {
      "cell_type": "code",
      "execution_count": null,
      "id": "c8a91628-5787-431a-b50a-d9ff02715f86",
      "metadata": {
        "id": "c8a91628-5787-431a-b50a-d9ff02715f86",
        "outputId": "9a0020d3-44a4-4173-f5a2-050046b63180"
      },
      "outputs": [
        {
          "name": "stdin",
          "output_type": "stream",
          "text": [
            "Enter the limit for the Fibonacci sequence:  12\n"
          ]
        },
        {
          "name": "stdout",
          "output_type": "stream",
          "text": [
            "Fibonacci sequence up to 12: [0, 1, 1]\n"
          ]
        }
      ],
      "source": [
        "# Function to generate Fibonacci sequence up to a specified limit\n",
        "def generate_fibonacci(limit):\n",
        "    fibonacci_sequence = [0, 1]\n",
        "\n",
        "    # Generate Fibonacci sequence using a for loop\n",
        "    for i in range(2, limit):\n",
        "        next_term = fibonacci_sequence[-1] + fibonacci_sequence[-2]\n",
        "        fibonacci_sequence.append(next_term)\n",
        "\n",
        "        if next_term > limit:\n",
        "            break\n",
        "\n",
        "        return fibonacci_sequence\n",
        "\n",
        "# Input: Specify the limit for the Fibonacci sequence\n",
        "limit = int(input(\"Enter the limit for the Fibonacci sequence: \"))\n",
        "\n",
        "# Generate and print the Fibonacci sequence\n",
        "fibonacci_result = generate_fibonacci(limit)\n",
        "print(f\"Fibonacci sequence up to {limit}: {fibonacci_result}\")"
      ]
    },
    {
      "cell_type": "markdown",
      "id": "4da4ce7a-e9a9-4154-8aa7-956ef67a0d15",
      "metadata": {
        "id": "4da4ce7a-e9a9-4154-8aa7-956ef67a0d15"
      },
      "source": [
        "11. Write a Python program to count the number of vowels in a given string using a for loop.\n"
      ]
    },
    {
      "cell_type": "code",
      "execution_count": null,
      "id": "78f406fe-7e70-437d-8e51-46c6b9e0dc22",
      "metadata": {
        "id": "78f406fe-7e70-437d-8e51-46c6b9e0dc22",
        "outputId": "3f0ebbbb-a428-4d4a-be88-4b290b5fad0d"
      },
      "outputs": [
        {
          "name": "stdin",
          "output_type": "stream",
          "text": [
            "Enter a string:  Python is a versatile language.\n"
          ]
        },
        {
          "name": "stdout",
          "output_type": "stream",
          "text": [
            "The number of vowels in the string is: 11\n"
          ]
        }
      ],
      "source": [
        "# Function to count vowels in a string\n",
        "def count_vowels(input_string):\n",
        "    # Define a set of vowels\n",
        "    vowels = set(\"aeiouAEIOU\")\n",
        "\n",
        "    # Initialze a variable to store the count\n",
        "    vowel_count = 0\n",
        "\n",
        "    # Iterate through each character in the string\n",
        "    for char in input_string:\n",
        "        # Check if the character is a vowel\n",
        "        if char in vowels:\n",
        "            vowel_count += 1\n",
        "\n",
        "    # Return the final count\n",
        "    return vowel_count\n",
        "\n",
        "# Get user input\n",
        "user_input = input(\"Enter a string: \")\n",
        "\n",
        "# Call the function and display the result\n",
        "result = count_vowels(user_input)\n",
        "print(f\"The number of vowels in the string is: {result}\")"
      ]
    },
    {
      "cell_type": "markdown",
      "id": "234c5219-e395-4ec1-b165-4569fcbc50a9",
      "metadata": {
        "id": "234c5219-e395-4ec1-b165-4569fcbc50a9"
      },
      "source": [
        "12. Create a Python program that generates a multiplication table for a given number using a for loop\n"
      ]
    },
    {
      "cell_type": "code",
      "execution_count": null,
      "id": "5c96cd87-3a55-46a9-b931-d27e7bd0d635",
      "metadata": {
        "id": "5c96cd87-3a55-46a9-b931-d27e7bd0d635",
        "outputId": "09ddad37-245a-4338-d79c-a8e0f20db0cb"
      },
      "outputs": [
        {
          "name": "stdin",
          "output_type": "stream",
          "text": [
            "Enter a number to generate the multiplication table:  28\n"
          ]
        },
        {
          "name": "stdout",
          "output_type": "stream",
          "text": [
            "Multiplication Table for 28:\n",
            "\n",
            "28 * 1 = 28\n",
            "28 * 2 = 56\n",
            "28 * 3 = 84\n",
            "28 * 4 = 112\n",
            "28 * 5 = 140\n",
            "28 * 6 = 168\n",
            "28 * 7 = 196\n",
            "28 * 8 = 224\n",
            "28 * 9 = 252\n",
            "28 * 10 = 280\n"
          ]
        }
      ],
      "source": [
        "# Get user input for the number\n",
        "number = int(input(\"Enter a number to generate the multiplication table: \"))\n",
        "\n",
        "# Define the range of the multiplication table\n",
        "table_range = 10\n",
        "\n",
        "# Generatge and print the multiplication table\n",
        "print(f\"Multiplication Table for {number}:\\n\")\n",
        "for i in range(1, table_range + 1):\n",
        "    result = number * i\n",
        "    print(f\"{number} * {i} = {result}\")"
      ]
    },
    {
      "cell_type": "markdown",
      "id": "0b207487-8979-4782-90a3-c81eb6b0b76a",
      "metadata": {
        "id": "0b207487-8979-4782-90a3-c81eb6b0b76a"
      },
      "source": [
        "13. Write a Python program to reverse a list using a for loop.\n"
      ]
    },
    {
      "cell_type": "code",
      "execution_count": null,
      "id": "488d1961-3c90-48b7-a274-fbef6eae1653",
      "metadata": {
        "id": "488d1961-3c90-48b7-a274-fbef6eae1653",
        "outputId": "69519c5c-e2cc-440a-ad44-5875238a0b77"
      },
      "outputs": [
        {
          "name": "stdout",
          "output_type": "stream",
          "text": [
            "Original Lists: [1, 2, 3, 4, 5]\n",
            "Reversed Lists: [5, 4, 3, 2, 1]\n"
          ]
        }
      ],
      "source": [
        "# Function to reverse a list using a for loop\n",
        "def reverse_list(original_list):\n",
        "    reversed_list = []\n",
        "\n",
        "    # Iterate through the original list in reverse order\n",
        "    for i in range(len(original_list) -1, -1, -1):\n",
        "        reversed_list.append(original_list[i])\n",
        "\n",
        "    return reversed_list\n",
        "\n",
        "# Example usage\n",
        "input_list = [1, 2, 3, 4, 5]\n",
        "result = reverse_list(input_list)\n",
        "\n",
        "# Print the original and reversed lists\n",
        "print(\"Original Lists:\", input_list)\n",
        "print(\"Reversed Lists:\", result)"
      ]
    },
    {
      "cell_type": "markdown",
      "id": "0a5c0218-6cd0-4f31-ab5c-08ab3ce2a908",
      "metadata": {
        "id": "0a5c0218-6cd0-4f31-ab5c-08ab3ce2a908"
      },
      "source": [
        "14. Write a Python program to find the common elements between two lists using a for loop.\n",
        "\n"
      ]
    },
    {
      "cell_type": "code",
      "execution_count": null,
      "id": "904ebe80-bd59-4552-800c-930ce121858d",
      "metadata": {
        "id": "904ebe80-bd59-4552-800c-930ce121858d",
        "outputId": "4f67f53e-170b-4ebb-a73b-60f88f238a81"
      },
      "outputs": [
        {
          "name": "stdout",
          "output_type": "stream",
          "text": [
            "List A: [1, 2, 3, 4, 5]\n",
            "List B: [3, 4, 5, 6, 7]\n",
            "Common Elements: [3, 4, 5]\n"
          ]
        }
      ],
      "source": [
        "# Function to find common elements between two lists using a for loop\n",
        "def find_common_elements(list1, list2):\n",
        "    common_elements = []\n",
        "\n",
        "    # Iterate through elements of the first list\n",
        "    for element in list1:\n",
        "        # Check if the element is present in the second list\n",
        "        if element in list2 and element not in common_elements:\n",
        "            common_elements.append(element)\n",
        "\n",
        "    return common_elements\n",
        "\n",
        "# Example usage\n",
        "list_a = [1, 2, 3, 4, 5]\n",
        "list_b = [3, 4, 5, 6, 7]\n",
        "result = find_common_elements(list_a, list_b)\n",
        "\n",
        "# Print the original lists and the common elements\n",
        "print(\"List A:\", list_a)\n",
        "print(\"List B:\", list_b)\n",
        "print(\"Common Elements:\",result)"
      ]
    },
    {
      "cell_type": "markdown",
      "id": "e94bc52f-966d-4131-b695-2bceeb91e421",
      "metadata": {
        "id": "e94bc52f-966d-4131-b695-2bceeb91e421"
      },
      "source": [
        "15. Explain how to use a for loop to iterate through the keys and values of a dictionary in Python.\n",
        "\n"
      ]
    },
    {
      "cell_type": "code",
      "execution_count": null,
      "id": "ce0e4982-df8f-4e64-b3f7-e299a313a9f8",
      "metadata": {
        "id": "ce0e4982-df8f-4e64-b3f7-e299a313a9f8",
        "outputId": "d881a0ad-29a0-475a-9280-dc599ec72b6a"
      },
      "outputs": [
        {
          "name": "stdout",
          "output_type": "stream",
          "text": [
            "Key: a, Value: 1\n",
            "Key: b, Value: 2\n",
            "Key: c, Value: 3\n",
            "Key: d, Value: 4\n"
          ]
        }
      ],
      "source": [
        "# We can use the items() method of a dictionary to get a view of the dictionary's key-value pairs, and then iterate through these pairs using a for loop.\n",
        "\n",
        "# Sample dictionary\n",
        "my_dict = {'a': 1, 'b': 2, 'c': 3, 'd': 4}\n",
        "\n",
        "# Iterating through keys and values using items()\n",
        "for key, value in my_dict.items():\n",
        "    print(f\"Key: {key}, Value: {value}\")"
      ]
    },
    {
      "cell_type": "markdown",
      "id": "68283dc8-31da-486a-88cc-91e894dc2c46",
      "metadata": {
        "id": "68283dc8-31da-486a-88cc-91e894dc2c46"
      },
      "source": [
        "The items() method returns a view object that displays a list of a dictionary's key-value tuple pairs.\n",
        "\n",
        "In the for loop, we use the tuple unpacking syntax to assign the current key and value to the variables key and value on each iteration.\n",
        "\n",
        "The loop body can then use these variables to access both the key and the corresponding value in the dictionary.\n"
      ]
    },
    {
      "cell_type": "markdown",
      "id": "a079b28e-be0e-4f96-9084-6bf31d4c0adf",
      "metadata": {
        "id": "a079b28e-be0e-4f96-9084-6bf31d4c0adf"
      },
      "source": [
        "16. Write a Python program to find the GCD (Greatest Common Divisor) of two numbers using a for loop.\n"
      ]
    },
    {
      "cell_type": "code",
      "execution_count": null,
      "id": "1377ea06-ff5f-4b03-84bf-766e61a6cfe0",
      "metadata": {
        "id": "1377ea06-ff5f-4b03-84bf-766e61a6cfe0",
        "outputId": "d12355f9-6a3b-4353-97a9-58924187e029"
      },
      "outputs": [
        {
          "name": "stdin",
          "output_type": "stream",
          "text": [
            "Enter the first number:  16\n",
            "Enter the second number:  24\n"
          ]
        },
        {
          "name": "stdout",
          "output_type": "stream",
          "text": [
            "The GCD of 16 and 24 is: 8\n"
          ]
        }
      ],
      "source": [
        "# Function to find the GCD using a for loop\n",
        "def find_gcd(num1, num2):\n",
        "    # Find the smaller of the two numbers\n",
        "    smaller = min(num1, num2)\n",
        "\n",
        "    # Initialize GCD to 1 (minimum possible GCD)\n",
        "    gcd = 1\n",
        "\n",
        "    # Iterate from 1 to the smaller of the two numbers\n",
        "    for i in range(1, smaller + 1):\n",
        "        # Check if i divides both numbers\n",
        "        if num1 % i == 0 and num2 % i == 0:\n",
        "            gcd = i # Update GCD\n",
        "\n",
        "    return gcd\n",
        "\n",
        "# Input numbers\n",
        "num1 = int(input(\"Enter the first number: \"))\n",
        "num2 = int(input(\"Enter the second number: \"))\n",
        "\n",
        "# Find and print the GCD\n",
        "result_gcd = find_gcd(num1, num2)\n",
        "print(f\"The GCD of {num1} and {num2} is: {result_gcd}\")"
      ]
    },
    {
      "cell_type": "markdown",
      "id": "8c0b7e45-9e56-4a50-9892-beceac72b237",
      "metadata": {
        "id": "8c0b7e45-9e56-4a50-9892-beceac72b237"
      },
      "source": [
        "17. Create a Python program that checks if a string is a palindrome using a for loop.\n"
      ]
    },
    {
      "cell_type": "code",
      "execution_count": null,
      "id": "6d6f1b51-236f-480d-b9f2-6590c016cb72",
      "metadata": {
        "id": "6d6f1b51-236f-480d-b9f2-6590c016cb72",
        "outputId": "746502cb-9504-4cfb-f09b-823dc36ecf10"
      },
      "outputs": [
        {
          "name": "stdin",
          "output_type": "stream",
          "text": [
            "Enter a string:  A man, a plan, a canal, Panama!\n"
          ]
        },
        {
          "name": "stdout",
          "output_type": "stream",
          "text": [
            "A man, a plan, a canal, Panama! is not a palindrome.\n"
          ]
        }
      ],
      "source": [
        "# Function to check if a string is a palindrome using a for loop\n",
        "def is_palindrome(input_str):\n",
        "    # Remove spaces and convert to lowercase for case-insensitive comparison\n",
        "    cleaned_str = input_str.replace(\" \", \"\").lower()\n",
        "\n",
        "    # Initialize indices for the forward and backward traversal\n",
        "    start_index = 0\n",
        "    end_index = len(cleaned_str) - 1\n",
        "\n",
        "    # Iterate until the start index is less than the end index\n",
        "    while start_index < end_index:\n",
        "        # Check if characters at the start and end indices are equal\n",
        "        if cleaned_str[start_index] != cleaned_str[end_index]:\n",
        "            return False # Not a palindrome\n",
        "\n",
        "        # Move indices towards each other\n",
        "        start_index += 1\n",
        "        end_index -= 1\n",
        "\n",
        "    return True # It's a palindrome\n",
        "\n",
        "# Input string\n",
        "user_input = input(\"Enter a string: \")\n",
        "\n",
        "# Check if the string is a palindrome\n",
        "if is_palindrome(user_input):\n",
        "    print(f\"{user_input} is a palindrome!\")\n",
        "else:\n",
        "    print(f\"{user_input} is not a palindrome.\")"
      ]
    },
    {
      "cell_type": "markdown",
      "id": "cb4dd8ee-b69f-418a-8368-42e80eb4bd89",
      "metadata": {
        "id": "cb4dd8ee-b69f-418a-8368-42e80eb4bd89"
      },
      "source": [
        "18. Write a Python program to remove duplicates from a list using a for loop.\n",
        "\n"
      ]
    },
    {
      "cell_type": "code",
      "execution_count": null,
      "id": "a881a191-e935-4f3f-b916-630345d17ca5",
      "metadata": {
        "id": "a881a191-e935-4f3f-b916-630345d17ca5",
        "outputId": "e444d3bb-638c-4d21-d5db-6e13e376d26f"
      },
      "outputs": [
        {
          "name": "stdout",
          "output_type": "stream",
          "text": [
            "Original List: [1, 2, 2, 3, 4, 5, 4]\n",
            "List with Duplicates Removed: [1, 2, 3, 4, 5]\n"
          ]
        }
      ],
      "source": [
        "def remove_duplicates(input_list):\n",
        "    unique_list = []\n",
        "    for item in input_list:\n",
        "        if item not in unique_list:\n",
        "            unique_list.append(item)\n",
        "    return unique_list\n",
        "\n",
        "# Example usage\n",
        "original_list = [1, 2, 2, 3, 4, 5, 4]\n",
        "result_list = remove_duplicates(original_list)\n",
        "\n",
        "print(\"Original List:\", original_list)\n",
        "print(\"List with Duplicates Removed:\", result_list)"
      ]
    },
    {
      "cell_type": "markdown",
      "id": "2ae086d3-b71f-4ff6-91e9-87726932fe69",
      "metadata": {
        "id": "2ae086d3-b71f-4ff6-91e9-87726932fe69"
      },
      "source": [
        "19. Create a Python program that counts the number of words in a sentence using a for loop.\n",
        "\n"
      ]
    },
    {
      "cell_type": "code",
      "execution_count": null,
      "id": "18aacc40-b6f5-479f-bfe4-453eae65396c",
      "metadata": {
        "id": "18aacc40-b6f5-479f-bfe4-453eae65396c",
        "outputId": "90941c65-0702-43cb-9ccf-bf530c371ce2"
      },
      "outputs": [
        {
          "name": "stdout",
          "output_type": "stream",
          "text": [
            "Sentence: This is a sample sentence with seven words.\n",
            "Number of Words: 8\n"
          ]
        }
      ],
      "source": [
        "def count_words(sentence):\n",
        "    word_count = 0\n",
        "    in_word = False  # Flag to track if currently inside a word\n",
        "\n",
        "    for char in sentence:\n",
        "        if char.isalnum():  # Check if the character is alphanumeric (part of a word)\n",
        "            in_word = True\n",
        "        elif in_word:\n",
        "            # If the character is not alphanumeric and we were inside a word, it's the end of the word\n",
        "            word_count += 1\n",
        "            in_word = False\n",
        "\n",
        "    # Check for the last word if the sentence doesn't end with punctuation\n",
        "    if in_word:\n",
        "        word_count += 1\n",
        "\n",
        "    return word_count\n",
        "\n",
        "# Example usage:\n",
        "input_sentence = \"This is a sample sentence with seven words.\"\n",
        "result_count = count_words(input_sentence)\n",
        "\n",
        "print(\"Sentence:\", input_sentence)\n",
        "print(\"Number of Words:\", result_count)\n"
      ]
    },
    {
      "cell_type": "markdown",
      "id": "7a55b0bc-7d22-4016-bda5-daed7374893a",
      "metadata": {
        "id": "7a55b0bc-7d22-4016-bda5-daed7374893a"
      },
      "source": [
        "20. Write a Python program to find the sum of all odd numbers from 1 to 50 using a for loop.\n"
      ]
    },
    {
      "cell_type": "code",
      "execution_count": null,
      "id": "8a02159d-0061-492d-9881-26af826b8faf",
      "metadata": {
        "id": "8a02159d-0061-492d-9881-26af826b8faf",
        "outputId": "7ed31f8b-93a3-40fc-8dc6-51b281dc5f55"
      },
      "outputs": [
        {
          "name": "stdout",
          "output_type": "stream",
          "text": [
            "Sum of odd numbers from 1 to 50: 625\n"
          ]
        }
      ],
      "source": [
        "# Initialize the sum\n",
        "odd_sum = 0\n",
        "\n",
        "# Iterate through numbers from 1 to 50 using a for loop\n",
        "for number in range(1, 51):\n",
        "    # Check if the number is odd\n",
        "    if number % 2 != 0:\n",
        "        # If it's odd, add it to the sum\n",
        "        odd_sum += number\n",
        "\n",
        "# Print the result\n",
        "print(\"Sum of odd numbers from 1 to 50:\", odd_sum)\n"
      ]
    },
    {
      "cell_type": "markdown",
      "id": "276b5125-a297-4564-8c65-a0d0c0016989",
      "metadata": {
        "id": "276b5125-a297-4564-8c65-a0d0c0016989"
      },
      "source": [
        "21. Write a Python program that checks if a given year is a leap year using a for loop.\n"
      ]
    },
    {
      "cell_type": "code",
      "execution_count": null,
      "id": "a8fc50dc-e54f-4c19-8036-0e327dfa356a",
      "metadata": {
        "id": "a8fc50dc-e54f-4c19-8036-0e327dfa356a",
        "outputId": "fd033706-4f38-4310-f4b4-5d587b763b81"
      },
      "outputs": [
        {
          "name": "stdin",
          "output_type": "stream",
          "text": [
            "Enter a year:  2028\n"
          ]
        },
        {
          "name": "stdout",
          "output_type": "stream",
          "text": [
            "2028 is a leap year.\n"
          ]
        }
      ],
      "source": [
        "# Function to check if a year is a leap year\n",
        "def is_leap_year(year):\n",
        "    # Check if the year is divisible by 4\n",
        "    if year % 4 == 0:\n",
        "        # If divisible by 4, check if it's not divisible by 100 or divisible by 400\n",
        "        if (year % 100 != 0) or (year % 400 == 0):\n",
        "            return True # It's a leap year\n",
        "    return False # It's not a leap year\n",
        "\n",
        "# Input: Get the year from the user\n",
        "year = int(input(\"Enter a year: \"))\n",
        "\n",
        "# Check if the entered year is a leap year\n",
        "if is_leap_year(year):\n",
        "    print(f\"{year} is a leap year.\")\n",
        "else:\n",
        "    print(f\"{year} is not a leap year.\")"
      ]
    },
    {
      "cell_type": "markdown",
      "id": "bce370da-f6fd-436d-8923-91e25b8102e7",
      "metadata": {
        "id": "bce370da-f6fd-436d-8923-91e25b8102e7"
      },
      "source": [
        "22. Create a Python program that calculates the square root of a number using a for loop.\n",
        "\n"
      ]
    },
    {
      "cell_type": "code",
      "execution_count": null,
      "id": "0c750672-b89f-4a0b-a66c-92f212b20374",
      "metadata": {
        "id": "0c750672-b89f-4a0b-a66c-92f212b20374",
        "outputId": "b2bdd325-0170-4950-9de6-76d192e6f48f"
      },
      "outputs": [
        {
          "name": "stdin",
          "output_type": "stream",
          "text": [
            "Enter a number:  7\n"
          ]
        },
        {
          "name": "stdout",
          "output_type": "stream",
          "text": [
            "The square root of 7.0 is approximately 2.64575\n"
          ]
        }
      ],
      "source": [
        "def calculate_square_root(number, precision=0.0001, max_iterations=100):\n",
        "    # Ensure the number is non-negative\n",
        "    if number < 0:\n",
        "        raise ValueError(\"Cannot calculate the square root of a negative number.\")\n",
        "\n",
        "    # Initial guess for the square root\n",
        "    guess = number / 2.0\n",
        "\n",
        "    # Iterate to refine the guess using a for loop\n",
        "    for _ in range(max_iterations):\n",
        "        # Newton-Raphson formula for approximation\n",
        "        new_guess = 0.5 * (guess + number / guess)\n",
        "\n",
        "        # Check if the difference between concsecutive guesses is within the desired precision\n",
        "        if abs(new_guess - guess) < precision:\n",
        "            return new_guess # Return the approximate square root\n",
        "\n",
        "        guess = new_guess # Update the guess for the next iteration\n",
        "\n",
        "    # If the loop doesn't converge, return the last guess\n",
        "    return guess\n",
        "\n",
        "# Input: Get the number from the user\n",
        "number = float(input(\"Enter a number: \"))\n",
        "\n",
        "# Calculate and print the square root\n",
        "result = calculate_square_root(number)\n",
        "print(f\"The square root of {number} is approximately {result:.5f}\")"
      ]
    },
    {
      "cell_type": "markdown",
      "id": "a38b9e02-a8b3-4811-a575-dac829ed730d",
      "metadata": {
        "id": "a38b9e02-a8b3-4811-a575-dac829ed730d"
      },
      "source": [
        "23. Write a Python program to find the LCM (Least Common Multiple) of two numbers using a for loop.\n"
      ]
    },
    {
      "cell_type": "code",
      "execution_count": null,
      "id": "33a5f21d-88e3-424e-b130-015b827a611a",
      "metadata": {
        "id": "33a5f21d-88e3-424e-b130-015b827a611a",
        "outputId": "edcecea4-579e-4075-8554-fd550994b327"
      },
      "outputs": [
        {
          "name": "stdin",
          "output_type": "stream",
          "text": [
            "Enter the first number:  96\n",
            "Enter the second number:  45\n"
          ]
        },
        {
          "name": "stdout",
          "output_type": "stream",
          "text": [
            "The LCM of 96 and 45 is: 1440\n"
          ]
        }
      ],
      "source": [
        "def calculate_gcd(x, y):\n",
        "    \"\"\"Function to calculate the Greatest Common Divisor (GCD) using Euclidean Algorithm.\"\"\"\n",
        "    while y:\n",
        "        x, y = y, x % y\n",
        "    return x\n",
        "\n",
        "def calculate_lcm(x, y):\n",
        "    \"\"\"Function to calculate the Least Common Multiple (LCM) using GCD.\"\"\"\n",
        "    if x == 0 or y == 0:\n",
        "        return 0\n",
        "\n",
        "    # LCM is the product of two numbers divided by their GCD\n",
        "    gcd = calculate_gcd(x, y)\n",
        "    lcm = abs(x * y) // gcd\n",
        "    return lcm\n",
        "\n",
        "# Input: Get the numbers from the user\n",
        "num1 = int(input(\"Enter the first number: \"))\n",
        "num2 = int(input(\"Enter the second number: \"))\n",
        "\n",
        "# Calculate and print the LCM\n",
        "lcm_result = calculate_lcm(num1, num2)\n",
        "print(f\"The LCM of {num1} and {num2} is: {lcm_result}\")\n"
      ]
    },
    {
      "cell_type": "markdown",
      "id": "7482e697-b0c3-4640-bad4-f092b8b791a2",
      "metadata": {
        "id": "7482e697-b0c3-4640-bad4-f092b8b791a2"
      },
      "source": [
        "# If else :\n"
      ]
    },
    {
      "cell_type": "markdown",
      "id": "f945f41d-cd05-424a-98da-206a14c46898",
      "metadata": {
        "id": "f945f41d-cd05-424a-98da-206a14c46898"
      },
      "source": [
        "1. Write a Python program to check if a number is positive, negative, or zero using an if-else statement.\n"
      ]
    },
    {
      "cell_type": "code",
      "execution_count": null,
      "id": "0df7619a-1d5b-46f1-9a07-dcbdd69861a5",
      "metadata": {
        "id": "0df7619a-1d5b-46f1-9a07-dcbdd69861a5",
        "outputId": "5ce5378e-bab0-435e-db1f-5dfeb067dca2"
      },
      "outputs": [
        {
          "name": "stdin",
          "output_type": "stream",
          "text": [
            "Enter a number:  58\n"
          ]
        },
        {
          "name": "stdout",
          "output_type": "stream",
          "text": [
            "The number is positive.\n"
          ]
        }
      ],
      "source": [
        "# Get input from the user\n",
        "number = float(input(\"Enter a number: \"))\n",
        "\n",
        "# Check if the number is positive, negative, or zero\n",
        "if number > 0:\n",
        "    print(\"The number is positive.\")\n",
        "elif number < 0:\n",
        "    print(\"The number is negative.\")\n",
        "else:\n",
        "    print(\"The number is zero.\")"
      ]
    },
    {
      "cell_type": "markdown",
      "id": "f9ed874a-4b22-4730-b35f-fe460d059b98",
      "metadata": {
        "id": "f9ed874a-4b22-4730-b35f-fe460d059b98"
      },
      "source": [
        "2. Create a Python program that checks if a given number is even or odd using an if-else statement.\n"
      ]
    },
    {
      "cell_type": "code",
      "execution_count": null,
      "id": "5321a6ca-bb55-4a8a-915d-ab19176096bb",
      "metadata": {
        "id": "5321a6ca-bb55-4a8a-915d-ab19176096bb",
        "outputId": "faa1a9dd-0762-45d5-d960-8c7edab87d52"
      },
      "outputs": [
        {
          "name": "stdin",
          "output_type": "stream",
          "text": [
            "Enter a number:  91\n"
          ]
        },
        {
          "name": "stdout",
          "output_type": "stream",
          "text": [
            "The number is odd.\n"
          ]
        }
      ],
      "source": [
        "# Get input from the user\n",
        "number = int(input(\"Enter a number: \"))\n",
        "\n",
        "# Check if the number is even or odd\n",
        "if number % 2 == 0:\n",
        "    print(\"The number is even.\")\n",
        "else:\n",
        "    print(\"The number is odd.\")"
      ]
    },
    {
      "cell_type": "markdown",
      "id": "1e82ac97-7cdb-4e4c-91a0-97f43234c76f",
      "metadata": {
        "id": "1e82ac97-7cdb-4e4c-91a0-97f43234c76f"
      },
      "source": [
        "3. How can you use nested if-else statements in Python, and provide an example?\n",
        "\n"
      ]
    },
    {
      "cell_type": "code",
      "execution_count": null,
      "id": "5b0941f9-4f6c-442c-af58-5439e4ede14a",
      "metadata": {
        "id": "5b0941f9-4f6c-442c-af58-5439e4ede14a",
        "outputId": "1301d800-fbd2-4f4b-c0ab-82f41a4ecf66"
      },
      "outputs": [
        {
          "name": "stdin",
          "output_type": "stream",
          "text": [
            "Enter your age:  18\n"
          ]
        },
        {
          "name": "stdout",
          "output_type": "stream",
          "text": [
            "You are eligible to vote.\n"
          ]
        },
        {
          "name": "stdin",
          "output_type": "stream",
          "text": [
            "Is this your first time voting? (yes/no):  yes\n"
          ]
        },
        {
          "name": "stdout",
          "output_type": "stream",
          "text": [
            "Welcome! Make sure to cast your vote responsibly.\n"
          ]
        }
      ],
      "source": [
        "# Get input from the user\n",
        "age = int(input(\"Enter your age: \"))\n",
        "\n",
        "# Outer if-else statement to check if the person is eligible for voting\n",
        "if age >= 18:\n",
        "    print(\"You are eligible to vote.\")\n",
        "\n",
        "    # Nested if-else statement to check if the person is a first-time voter\n",
        "    first_time_voter = input(\"Is this your first time voting? (yes/no): \").lower()\n",
        "    if first_time_voter == \"yes\":\n",
        "        print(\"Welcome! Make sure to cast your vote responsibly.\")\n",
        "    else:\n",
        "        print(\"Thank you for participating in the democratic process.\")\n",
        "else:\n",
        "    print(\"Sorry, you are not eligible to vote yet.\")"
      ]
    },
    {
      "cell_type": "markdown",
      "id": "118c757f-72ac-441c-800c-810ceab1d3c7",
      "metadata": {
        "id": "118c757f-72ac-441c-800c-810ceab1d3c7"
      },
      "source": [
        "4. Write a Python program to determine the largest of three numbers using if-else.\n",
        "\n"
      ]
    },
    {
      "cell_type": "code",
      "execution_count": null,
      "id": "60676aff-7ffb-4b18-84f6-6599501402af",
      "metadata": {
        "id": "60676aff-7ffb-4b18-84f6-6599501402af",
        "outputId": "26a0c521-1cea-4393-8e67-3ac3c4641770"
      },
      "outputs": [
        {
          "name": "stdin",
          "output_type": "stream",
          "text": [
            "Enter the first number:  156\n",
            "Enter the second number:  258\n",
            "Enter the third number:  369\n"
          ]
        },
        {
          "name": "stdout",
          "output_type": "stream",
          "text": [
            "The largest number is: 369.0\n"
          ]
        }
      ],
      "source": [
        "# Get input from the user\n",
        "num1 = float(input(\"Enter the first number: \"))\n",
        "num2 = float(input(\"Enter the second number: \"))\n",
        "num3 = float(input(\"Enter the third number: \"))\n",
        "\n",
        "# Check which number is the largest\n",
        "if num1 >= num2 and num1 >= num3:\n",
        "    largest = num1\n",
        "elif num2 >= num1 and num2 >= num3:\n",
        "    largest = num2\n",
        "else:\n",
        "    largest = num3\n",
        "\n",
        "# Print the result\n",
        "print(\"The largest number is:\", largest)"
      ]
    },
    {
      "cell_type": "markdown",
      "id": "0c169bd2-9a62-441c-8dc7-e349b105f02d",
      "metadata": {
        "id": "0c169bd2-9a62-441c-8dc7-e349b105f02d"
      },
      "source": [
        "5. Write a Python program that calculates the absolute value of a number using if-else.\n"
      ]
    },
    {
      "cell_type": "code",
      "execution_count": null,
      "id": "7d685d1e-ffd7-49e6-a80f-316c7e04057d",
      "metadata": {
        "id": "7d685d1e-ffd7-49e6-a80f-316c7e04057d",
        "outputId": "a40e54e5-fe39-4fca-c0b5-72caf72b0e53"
      },
      "outputs": [
        {
          "name": "stdin",
          "output_type": "stream",
          "text": [
            "Enter a number:  821\n"
          ]
        },
        {
          "name": "stdout",
          "output_type": "stream",
          "text": [
            "The absolute value of 821.0 is: 821.0\n"
          ]
        }
      ],
      "source": [
        "# Get input from the user\n",
        "number = float(input(\"Enter a number: \"))\n",
        "\n",
        "# Calculate the absolute value usingg if-else\n",
        "if number < 0:\n",
        "    absoulte_value = -number\n",
        "else:\n",
        "    absolute_value = number\n",
        "\n",
        "# Print the result\n",
        "print(\"The absolute value of\", number, \"is:\", absolute_value)"
      ]
    },
    {
      "cell_type": "markdown",
      "id": "e3ffa40c-7381-4d77-abc0-44ba96c5e628",
      "metadata": {
        "id": "e3ffa40c-7381-4d77-abc0-44ba96c5e628"
      },
      "source": [
        "6. Create a Python program that checks if a given character is a vowel or consonant using if-else.\n",
        "\n"
      ]
    },
    {
      "cell_type": "code",
      "execution_count": null,
      "id": "32af554c-11b9-4cf8-a735-785e410cdd63",
      "metadata": {
        "id": "32af554c-11b9-4cf8-a735-785e410cdd63",
        "outputId": "186998dc-0e36-4c3b-bd78-f26b14bdb011"
      },
      "outputs": [
        {
          "name": "stdin",
          "output_type": "stream",
          "text": [
            "Enter a single character:  65\n"
          ]
        },
        {
          "name": "stdout",
          "output_type": "stream",
          "text": [
            "Please enter a single character.\n"
          ]
        }
      ],
      "source": [
        "# Get input from the user\n",
        "character = input(\"Enter a single character: \")\n",
        "\n",
        "# Ensure the input is a single character\n",
        "if len(character) == 1:\n",
        "    # Check if the character is a vowel or a consonant using if-else\n",
        "    if character.lower() in ['a', 'e', 'i', 'o', 'u']:\n",
        "        print(f\"The character '{character}' is a vowel.\")\n",
        "    else:\n",
        "        print(f\"The character '{character}' is a consonant.\")\n",
        "else:\n",
        "    print(\"Please enter a single character.\")"
      ]
    },
    {
      "cell_type": "markdown",
      "id": "0adf9166-9baa-429c-8ada-032effcae48b",
      "metadata": {
        "id": "0adf9166-9baa-429c-8ada-032effcae48b"
      },
      "source": [
        "7. Write a Python program to determine if a user is eligible to vote based on their age using if-else.\n"
      ]
    },
    {
      "cell_type": "code",
      "execution_count": null,
      "id": "a46c3189-9897-4638-a501-03e203f8a197",
      "metadata": {
        "id": "a46c3189-9897-4638-a501-03e203f8a197",
        "outputId": "0b4ebe0e-9b6f-4b05-f30f-2934d1809c07"
      },
      "outputs": [
        {
          "name": "stdin",
          "output_type": "stream",
          "text": [
            "Enter your age:  15\n"
          ]
        },
        {
          "name": "stdout",
          "output_type": "stream",
          "text": [
            "Sorry, you are not eligible to vote yet.\n"
          ]
        }
      ],
      "source": [
        "# Get input from the user\n",
        "age = int(input(\"Enter your age: \"))\n",
        "\n",
        "# Check if the user is eligible to vote using if-else\n",
        "if age >= 18:\n",
        "    print(\"You are eligible to vote.\")\n",
        "else:\n",
        "    print(\"Sorry, you are not eligible to vote yet.\")"
      ]
    },
    {
      "cell_type": "markdown",
      "id": "f91359c4-94ba-4eaa-acce-c5362c587f33",
      "metadata": {
        "id": "f91359c4-94ba-4eaa-acce-c5362c587f33"
      },
      "source": [
        "8. Create a Python program that calculates the discount amount based on the purchase amount using if-else.\n",
        "\n"
      ]
    },
    {
      "cell_type": "code",
      "execution_count": null,
      "id": "848d018a-bbfc-483f-b0ee-385da4213ddb",
      "metadata": {
        "id": "848d018a-bbfc-483f-b0ee-385da4213ddb",
        "outputId": "c964ebc8-c132-463d-c083-8b8d02d8f091"
      },
      "outputs": [
        {
          "name": "stdin",
          "output_type": "stream",
          "text": [
            "Enter the purchase amout:  898\n"
          ]
        },
        {
          "name": "stdout",
          "output_type": "stream",
          "text": [
            "Purchase Amount: $898.00\n",
            "Discount Type: 10%\n",
            "Discount Amount: $89.80\n",
            "Discount Price: $808.20\n"
          ]
        }
      ],
      "source": [
        "# Get input from the user\n",
        "purchase_amount = float(input(\"Enter the purchase amout: \"))\n",
        "\n",
        "# Define discount rates\n",
        "discount_rate_1 = 0.1\n",
        "discount_rate_2 = 0.05\n",
        "\n",
        "# Calculate the discount based on the purchase amount using if-else\n",
        "if purchase_amount >= 100:\n",
        "    discount_amount = purchase_amount * discount_rate_1\n",
        "    discount_type = \"10%\"\n",
        "elif purchase_amount >= 50:\n",
        "    discount_amount = purchase_amount * discount_rate_2\n",
        "    discount_type = \"5%\"\n",
        "else:\n",
        "    discount_amount = 0\n",
        "    discount_type = \"No discount\"\n",
        "\n",
        "# Calculate the discount price\n",
        "discount_price = purchase_amount - discount_amount\n",
        "\n",
        "# Print the result\n",
        "print(f\"Purchase Amount: ${purchase_amount:.2f}\")\n",
        "print(f\"Discount Type: {discount_type}\")\n",
        "print(f\"Discount Amount: ${discount_amount:.2f}\")\n",
        "print(f\"Discount Price: ${discount_price:.2f}\")"
      ]
    },
    {
      "cell_type": "markdown",
      "id": "a598a54a-0df7-48c5-9ef1-9cbbf77286f5",
      "metadata": {
        "id": "a598a54a-0df7-48c5-9ef1-9cbbf77286f5"
      },
      "source": [
        "9. Write a Python program to check if a number is within a specified range using if-else.\n"
      ]
    },
    {
      "cell_type": "code",
      "execution_count": null,
      "id": "3c62f96e-fccf-4859-813a-249298d21a39",
      "metadata": {
        "id": "3c62f96e-fccf-4859-813a-249298d21a39",
        "outputId": "865f1b6b-70d5-4a13-c5f1-a84c0055857e"
      },
      "outputs": [
        {
          "name": "stdin",
          "output_type": "stream",
          "text": [
            "Enter a number:  60\n"
          ]
        },
        {
          "name": "stdout",
          "output_type": "stream",
          "text": [
            "The number 60.0 is outside the specified range.\n"
          ]
        }
      ],
      "source": [
        "# Define the specified range\n",
        "lower_limit = 10\n",
        "upper_limit = 50\n",
        "\n",
        "# Get input from the user\n",
        "number = float(input(\"Enter a number: \"))\n",
        "\n",
        "# Check if the number is within the specified range using if-else\n",
        "if lower_limit <= number <= upper_limit:\n",
        "    print(f\"The number {number} is within the range[{lower_limit}, {upper_limit}].\")\n",
        "else:\n",
        "    print(f\"The number {number} is outside the specified range.\")"
      ]
    },
    {
      "cell_type": "markdown",
      "id": "6835a883-c0d4-4554-8acf-f043e6c11ac2",
      "metadata": {
        "id": "6835a883-c0d4-4554-8acf-f043e6c11ac2"
      },
      "source": [
        "10. Create a Python program that determines the grade of a student based on their score using if-else.\n"
      ]
    },
    {
      "cell_type": "code",
      "execution_count": null,
      "id": "b1da8d8c-d62b-4fa4-bb52-3b79f05f0162",
      "metadata": {
        "id": "b1da8d8c-d62b-4fa4-bb52-3b79f05f0162",
        "outputId": "47a86a38-befa-463f-bcf9-531f575f70c5"
      },
      "outputs": [
        {
          "name": "stdin",
          "output_type": "stream",
          "text": [
            "Enter the student's score:  79\n"
          ]
        },
        {
          "name": "stdout",
          "output_type": "stream",
          "text": [
            "The student's score of 79.0 corresponds to grade C,\n"
          ]
        }
      ],
      "source": [
        "# Get input from the user\n",
        "score = float(input(\"Enter the student's score: \"))\n",
        "\n",
        "# Determine the grade based on the score using if-else\n",
        "if 90 <= score <= 100:\n",
        "    grade = \"A\"\n",
        "elif 80 <= score <90:\n",
        "    grade = \"B\"\n",
        "elif 70 <= score < 80:\n",
        "    grade = \"C\"\n",
        "elif 60 <= score < 70:\n",
        "    grade = \"D\"\n",
        "elif 0 <= score < 60:\n",
        "    grade = \"F\"\n",
        "else:\n",
        "    print(\"Invalid score. Please enter a score between 0 and 100.\")\n",
        "    exit()\n",
        "\n",
        "# Print the result\n",
        "print(f\"The student's score of {score} corresponds to grade {grade},\")"
      ]
    },
    {
      "cell_type": "markdown",
      "id": "e8cf80f6-2b8a-43da-a3a2-1cbf281c8371",
      "metadata": {
        "id": "e8cf80f6-2b8a-43da-a3a2-1cbf281c8371"
      },
      "source": [
        "11. Write a Python program to check if a string is empty or not using if-else.\n",
        "\n"
      ]
    },
    {
      "cell_type": "code",
      "execution_count": null,
      "id": "e61f86e3-2191-40cf-a72a-25d3863bdad3",
      "metadata": {
        "id": "e61f86e3-2191-40cf-a72a-25d3863bdad3",
        "outputId": "345ca221-69c8-4087-b22b-affad5eb4460"
      },
      "outputs": [
        {
          "name": "stdin",
          "output_type": "stream",
          "text": [
            "Enter a string:  Python is versatile language\n"
          ]
        },
        {
          "name": "stdout",
          "output_type": "stream",
          "text": [
            "The string is not empty.\n"
          ]
        }
      ],
      "source": [
        "# Get input from the user\n",
        "user_input = input(\"Enter a string: \")\n",
        "\n",
        "# Check if the string is empty or not using if-else\n",
        "if user_input:\n",
        "    print(\"The string is not empty.\")\n",
        "else:\n",
        "    print(\"The string is empty.\")"
      ]
    },
    {
      "cell_type": "markdown",
      "id": "517d6f20-56c1-4cbe-951f-2a44e474f464",
      "metadata": {
        "id": "517d6f20-56c1-4cbe-951f-2a44e474f464"
      },
      "source": [
        "12. Create a Python program that identifies the type of a triangle (e.g., equilateral, isosceles, or scalene) based on input values using if-else.\n",
        "\n"
      ]
    },
    {
      "cell_type": "code",
      "execution_count": null,
      "id": "250f6281-07f3-4b88-9a1f-26f08eb7b3a8",
      "metadata": {
        "id": "250f6281-07f3-4b88-9a1f-26f08eb7b3a8",
        "outputId": "239e1f1f-9bfa-4648-c784-7c767feb781d"
      },
      "outputs": [
        {
          "name": "stdin",
          "output_type": "stream",
          "text": [
            "Enter the length of side 1:  61\n",
            "Enter the length of side 2:  25\n",
            "Enter the length of side 3:  45\n"
          ]
        },
        {
          "name": "stdout",
          "output_type": "stream",
          "text": [
            "The triangle is a Scalene triangle.\n"
          ]
        }
      ],
      "source": [
        "# Get input from the user for the sides of the triangle\n",
        "side1 = float(input(\"Enter the length of side 1: \"))\n",
        "side2 = float(input(\"Enter the length of side 2: \"))\n",
        "side3 = float(input(\"Enter the length of side 3: \"))\n",
        "\n",
        "# Check the type of triangle using if-else\n",
        "if side1 == side2 == side3:\n",
        "    triangle_type = \"Equilateral\"\n",
        "elif side1 == side2 or side1 == side3 or side2 == side3:\n",
        "    triangle_type = \"Isosceles\"\n",
        "else:\n",
        "    triangle_type = \"Scalene\"\n",
        "\n",
        "# Print the result\n",
        "print(f\"The triangle is a {triangle_type} triangle.\")"
      ]
    },
    {
      "cell_type": "markdown",
      "id": "e30ef2c9-e361-4fcd-934d-17a0b033b565",
      "metadata": {
        "id": "e30ef2c9-e361-4fcd-934d-17a0b033b565"
      },
      "source": [
        "13. Write a Python program to determine the day of the week based on a user-provided number using if-else.\n"
      ]
    },
    {
      "cell_type": "code",
      "execution_count": null,
      "id": "1df12e56-46a1-4abd-85e2-212224c71ad6",
      "metadata": {
        "id": "1df12e56-46a1-4abd-85e2-212224c71ad6",
        "outputId": "0dc63565-a5b1-4a96-d217-0518c7f4ce97"
      },
      "outputs": [
        {
          "name": "stdin",
          "output_type": "stream",
          "text": [
            "Enter a number (1-7) representing the day of the week:  1\n"
          ]
        },
        {
          "name": "stdout",
          "output_type": "stream",
          "text": [
            "The day corresponding to the number 1 is Monday.\n"
          ]
        }
      ],
      "source": [
        "# Get input from the user\n",
        "day_number = int(input(\"Enter a number (1-7) representing the day of the week: \"))\n",
        "\n",
        "# Determine the day of the week using if-else\n",
        "if day_number == 1:\n",
        "    day_name = \"Monday\"\n",
        "elif day_number == 2:\n",
        "    day_name = \"Tuesday\"\n",
        "elif day_number == 3:\n",
        "    day_name = \"Wednesday\"\n",
        "elif day_number == 4:\n",
        "    day_name = \"Thursday\"\n",
        "elif day_number == 5:\n",
        "    day_name = \"Friday\"\n",
        "elif day_number == 6:\n",
        "    day_name = \"Saturday\"\n",
        "elif day_number == 7:\n",
        "    day_name = \"Sunday\"\n",
        "else:\n",
        "    print(\"Invalid input. Please enter a number between 1 and 7.\")\n",
        "    exit()\n",
        "\n",
        "# Print the result\n",
        "print(f\"The day corresponding to the number {day_number} is {day_name}.\")"
      ]
    },
    {
      "cell_type": "markdown",
      "id": "e2bc46db-6e07-45ce-a7bb-a9df7ea1f926",
      "metadata": {
        "id": "e2bc46db-6e07-45ce-a7bb-a9df7ea1f926"
      },
      "source": [
        "14. Create a Python program that checks if a given year is a leap year using both if-else and a function.\n",
        "\n",
        "\n"
      ]
    },
    {
      "cell_type": "code",
      "execution_count": null,
      "id": "2a6c426d-4157-4f3f-b452-3e063863581c",
      "metadata": {
        "id": "2a6c426d-4157-4f3f-b452-3e063863581c",
        "outputId": "8d31ce53-4f80-4344-a38d-fda466918ecb"
      },
      "outputs": [
        {
          "name": "stdin",
          "output_type": "stream",
          "text": [
            "Enter a year:  2029\n"
          ]
        },
        {
          "name": "stdout",
          "output_type": "stream",
          "text": [
            "2029 is not a leap year.\n"
          ]
        }
      ],
      "source": [
        "def is_leap_year(year):\n",
        "    \"\"\"\n",
        "    Check if a given year is a leap year.\n",
        "\n",
        "    Parameters:\n",
        "    - year: The year to be checked.\n",
        "\n",
        "    Returns:\n",
        "    - True if the year is a leap year, False otherwise.\n",
        "    \"\"\"\n",
        "    if (year % 4 == 0 and year % 100 != 0) or (year % 400 == 0):\n",
        "        return True\n",
        "    else:\n",
        "        return False\n",
        "\n",
        "# Get input from the user\n",
        "year = int(input(\"Enter a year: \"))\n",
        "\n",
        "# Check if the year is a leap year using the function\n",
        "if is_leap_year(year):\n",
        "    print(f\"{year} is a leap year.\")\n",
        "else:\n",
        "    print(f\"{year} is not a leap year.\")"
      ]
    },
    {
      "cell_type": "markdown",
      "id": "41a0f830-4caf-4694-8b59-77ff561d8c0a",
      "metadata": {
        "id": "41a0f830-4caf-4694-8b59-77ff561d8c0a"
      },
      "source": [
        "15. How do you use the \"assert\" statement in Python to add debugging checks within if-else blocks?\n",
        "\n"
      ]
    },
    {
      "cell_type": "code",
      "execution_count": null,
      "id": "500f3611-4d2b-4c98-be03-4ce0a1919d75",
      "metadata": {
        "id": "500f3611-4d2b-4c98-be03-4ce0a1919d75",
        "outputId": "764e5e91-7a5c-4e05-aa8d-9a82b27e47ff"
      },
      "outputs": [
        {
          "name": "stdin",
          "output_type": "stream",
          "text": [
            "Enter the numerator:  65\n",
            "Enter the denominator:  4\n"
          ]
        },
        {
          "name": "stdout",
          "output_type": "stream",
          "text": [
            "Result of the division: 16.25\n"
          ]
        }
      ],
      "source": [
        "def divide(a, b):\n",
        "    assert b != 0, \"Cannot divide by zero\"\n",
        "\n",
        "    result = a /b\n",
        "    return result\n",
        "\n",
        "# Example usage\n",
        "numerator = float(input(\"Enter the numerator: \"))\n",
        "denominator = float(input(\"Enter the denominator: \"))\n",
        "\n",
        "if denominator != 0:\n",
        "    result = divide(numerator, denominator)\n",
        "    print(\"Result of the division:\",result)\n",
        "else:\n",
        "    print(\"Error: Division by zero.\")"
      ]
    },
    {
      "cell_type": "markdown",
      "id": "f727411c-1d57-4aa7-93b7-9b85d6229dd7",
      "metadata": {
        "id": "f727411c-1d57-4aa7-93b7-9b85d6229dd7"
      },
      "source": [
        "16. Create a Python program that determines the eligibility of a person for a senior citizen discount based on age using if-else.\n"
      ]
    },
    {
      "cell_type": "code",
      "execution_count": null,
      "id": "4d90c9ea-cff0-47f8-bb30-88d586ce860d",
      "metadata": {
        "id": "4d90c9ea-cff0-47f8-bb30-88d586ce860d",
        "outputId": "ea60aad9-e051-4268-faf7-265cd1e6ce79"
      },
      "outputs": [
        {
          "name": "stdin",
          "output_type": "stream",
          "text": [
            "Enter your age:  63\n"
          ]
        },
        {
          "name": "stdout",
          "output_type": "stream",
          "text": [
            "Congratulations! You are eligible for a senior citizen discount.\n"
          ]
        }
      ],
      "source": [
        "# Get input from the user\n",
        "age = int(input(\"Enter your age: \"))\n",
        "\n",
        "# Define the age threshold for senior citizen discount\n",
        "senior_citizen_age = 60\n",
        "\n",
        "# Check eligibility for seniot citizen discount using if-else\n",
        "if age >= senior_citizen_age:\n",
        "    print(\"Congratulations! You are eligible for a senior citizen discount.\")\n",
        "else:\n",
        "    print(\"Sorry, you are not eligible for a senior citizen discount at this time.\")"
      ]
    },
    {
      "cell_type": "markdown",
      "id": "21a07cfe-08ce-4013-83b9-3285490de4bf",
      "metadata": {
        "id": "21a07cfe-08ce-4013-83b9-3285490de4bf"
      },
      "source": [
        "17. Write a Python program to categorize a given character as uppercase, lowercase, or neither using if-else.\n",
        "\n"
      ]
    },
    {
      "cell_type": "code",
      "execution_count": null,
      "id": "6f5ef792-26bc-4f59-8f04-bc01bb8983c0",
      "metadata": {
        "id": "6f5ef792-26bc-4f59-8f04-bc01bb8983c0",
        "outputId": "c9bb6627-37dd-4520-ff9b-53426f339d93"
      },
      "outputs": [
        {
          "name": "stdin",
          "output_type": "stream",
          "text": [
            "Enter a single character:  g\n"
          ]
        },
        {
          "name": "stdout",
          "output_type": "stream",
          "text": [
            "The character 'g' is lowercase.\n"
          ]
        }
      ],
      "source": [
        "# Get the input from the user\n",
        "character = input(\"Enter a single character: \")\n",
        "\n",
        "# Check if the character is uppercase, lowercase, or neither using if-else\n",
        "if character.isalpha():\n",
        "    if character.islower():\n",
        "        print(f\"The character '{character}' is lowercase.\")\n",
        "    elif character.isupper():\n",
        "        print(f\"The character '{character}' is uppercase.\")\n",
        "else:\n",
        "    print(f\"The input '{character}' is not a valid alphabetical character.\")"
      ]
    },
    {
      "cell_type": "markdown",
      "id": "0609dbc6-468d-45bb-a3f0-7c4cdc973282",
      "metadata": {
        "id": "0609dbc6-468d-45bb-a3f0-7c4cdc973282"
      },
      "source": [
        "18. Write a Python program to determine the roots of a quadratic equation using if-else.\n",
        "\n"
      ]
    },
    {
      "cell_type": "code",
      "execution_count": null,
      "id": "fa0258ad-bdf2-4c37-8188-8f0d1d3511f8",
      "metadata": {
        "id": "fa0258ad-bdf2-4c37-8188-8f0d1d3511f8",
        "outputId": "a7ae3760-95eb-49c2-bfdf-5b908085231b"
      },
      "outputs": [
        {
          "name": "stdin",
          "output_type": "stream",
          "text": [
            "Enter the coefficient a:  6\n",
            "Enter the coefficient b:  9\n",
            "Enter the coefficient c:  3\n"
          ]
        },
        {
          "name": "stdout",
          "output_type": "stream",
          "text": [
            "The roots are real and distinct: -0.5 and -1.0\n"
          ]
        }
      ],
      "source": [
        "import math\n",
        "\n",
        "# Get input coefficients from the user\n",
        "a = float(input(\"Enter the coefficient a: \"))\n",
        "b = float(input(\"Enter the coefficient b: \"))\n",
        "c = float(input(\"Enter the coefficient c: \"))\n",
        "\n",
        "# Calculate the discriminant\n",
        "discriminant = b**2 - 4*a*c\n",
        "\n",
        "# Check the nature of the roots using if-else\n",
        "if discriminant > 0:\n",
        "    # Two distinct real roots\n",
        "    root1 = (-b + math.sqrt(discriminant)) / (2*a)\n",
        "    root2 = (-b - math.sqrt(discriminant)) / (2*a)\n",
        "    print(f\"The roots are real and distinct: {root1} and {root2}\")\n",
        "elif discriminant == 0:\n",
        "    # One real root (double root)\n",
        "    root = -b / (2*a)\n",
        "    print(f\"The root is real and equal: {root}\")\n",
        "else:\n",
        "    # Complex roots\n",
        "    real_part = -b / (2*a)\n",
        "    imaginary_part = math.sqrt(abs(discriminant)) / (2*a)\n",
        "    root1 = f\"{real_part} + {imaginary_part}i\"\n",
        "    root2 = f\"{real_part} - {imaginary_part}i\"\n",
        "    print(f\"The roots are complex: {root1} and {root2}\")\n"
      ]
    },
    {
      "cell_type": "markdown",
      "id": "3f51cd1f-89ce-412e-8a7d-044a6a9d8a91",
      "metadata": {
        "id": "3f51cd1f-89ce-412e-8a7d-044a6a9d8a91"
      },
      "source": [
        "19. Create a Python program that checks if a given year is a century year or not using if-else.\n"
      ]
    },
    {
      "cell_type": "code",
      "execution_count": null,
      "id": "349930dd-d7ed-4c35-a3a2-7ada90b1cfc2",
      "metadata": {
        "id": "349930dd-d7ed-4c35-a3a2-7ada90b1cfc2",
        "outputId": "9bba6660-203e-4e89-ec62-84fd0d49bc68"
      },
      "outputs": [
        {
          "name": "stdin",
          "output_type": "stream",
          "text": [
            "Enter a year:  2029\n"
          ]
        },
        {
          "name": "stdout",
          "output_type": "stream",
          "text": [
            "2029 is not a century year.\n"
          ]
        }
      ],
      "source": [
        "# Get input from the user\n",
        "year = int(input(\"Enter a year: \"))\n",
        "\n",
        "# Check if the year is a century year using if-else\n",
        "if year % 100 == 0:\n",
        "    print(f\"{year} is a century year.\")\n",
        "else:\n",
        "    print(f\"{year} is not a century year.\")"
      ]
    },
    {
      "cell_type": "markdown",
      "id": "8f77acc6-4847-42fc-88b9-d9625d6b8283",
      "metadata": {
        "id": "8f77acc6-4847-42fc-88b9-d9625d6b8283"
      },
      "source": [
        "20. Write a Python program to determine if a given number is a perfect square using if-else.\n"
      ]
    },
    {
      "cell_type": "code",
      "execution_count": null,
      "id": "abaeae5b-ffcc-4c53-8a95-2382db965621",
      "metadata": {
        "id": "abaeae5b-ffcc-4c53-8a95-2382db965621",
        "outputId": "ecc4d180-508e-487d-ce0a-265aa548b8c2"
      },
      "outputs": [
        {
          "name": "stdin",
          "output_type": "stream",
          "text": [
            "Enter a number:  77\n"
          ]
        },
        {
          "name": "stdout",
          "output_type": "stream",
          "text": [
            "77 is not a perfect square.\n"
          ]
        }
      ],
      "source": [
        "# Get input from the user\n",
        "number = int(input(\"Enter a number: \"))\n",
        "\n",
        "# Check if the number is a perfectg square using if-else\n",
        "if number >= 0:\n",
        "    square_root = int(number**0.5)\n",
        "    if square_root**2 == number:\n",
        "        print(f\"{number} is a perfect square.\")\n",
        "    else:\n",
        "        print(f\"{number} is not a perfect square.\")\n",
        "else:\n",
        "    print(\"Please enter a non-negative number.\")"
      ]
    },
    {
      "cell_type": "markdown",
      "id": "8ff263bf-0c11-45d7-a77b-9d3ea9ab7ccb",
      "metadata": {
        "id": "8ff263bf-0c11-45d7-a77b-9d3ea9ab7ccb"
      },
      "source": [
        "21. Explain the purpose of the \"continue\" and \"break\" statements within if-else loops.\n",
        "\n"
      ]
    },
    {
      "cell_type": "markdown",
      "id": "c6db4ba2-05b2-413e-a690-05c51a794b57",
      "metadata": {
        "id": "c6db4ba2-05b2-413e-a690-05c51a794b57"
      },
      "source": [
        "In Python, the continue and break statements are used within loops, including if-else loops (for example, within while or for loops). Here's an explanation of their purposes:\n",
        "\n",
        "continue statement:\n",
        "\n",
        "The continue statement is used to skip the rest of the code inside a loop for the current iteration and move to the next iteration.\n",
        "When the continue statement is encountered, the remaining code within the loop for the current iteration is skipped, and the loop proceeds with the next iteration.\n",
        "It is often used to skip certain iterations based on a condition without terminating the entire loop."
      ]
    },
    {
      "cell_type": "code",
      "execution_count": null,
      "id": "c8dc1460-ad99-45c6-a0e2-687d4e8dadcc",
      "metadata": {
        "id": "c8dc1460-ad99-45c6-a0e2-687d4e8dadcc",
        "outputId": "728b2239-8ce3-4ab4-e633-d0d83b60c5c4"
      },
      "outputs": [
        {
          "name": "stdout",
          "output_type": "stream",
          "text": [
            "1\n",
            "2\n",
            "4\n",
            "5\n"
          ]
        }
      ],
      "source": [
        "for i in range(1, 6):\n",
        "    if i == 3:\n",
        "        continue  # Skip iteration when i is 3\n",
        "    print(i)\n"
      ]
    },
    {
      "cell_type": "markdown",
      "id": "ddd81208-1ecb-42ab-b1f5-b12d34b82c6d",
      "metadata": {
        "id": "ddd81208-1ecb-42ab-b1f5-b12d34b82c6d"
      },
      "source": [
        "Break statement:\n",
        "\n",
        "The break statement is used to terminate the loop prematurely, causing the program to exit the loop and continue with the next code outside the loop.\n",
        "When the break statement is encountered, the loop immediately exits, regardless of whether the loop condition is still true.\n",
        "It is often used to exit a loop early based on a certain condition."
      ]
    },
    {
      "cell_type": "code",
      "execution_count": null,
      "id": "e21a21be-9b7c-4ee9-b326-e1134342611b",
      "metadata": {
        "id": "e21a21be-9b7c-4ee9-b326-e1134342611b",
        "outputId": "e1fb856e-0d57-4cb9-f529-0d06b0f3aaab"
      },
      "outputs": [
        {
          "name": "stdout",
          "output_type": "stream",
          "text": [
            "1\n",
            "2\n",
            "3\n"
          ]
        }
      ],
      "source": [
        "for i in range(1, 6):\n",
        "    if i == 4:\n",
        "        break  # Exit the loop when i is 4\n",
        "    print(i)\n"
      ]
    },
    {
      "cell_type": "markdown",
      "id": "470aa181-0f56-4883-94fb-e65ab2d4ded4",
      "metadata": {
        "id": "470aa181-0f56-4883-94fb-e65ab2d4ded4"
      },
      "source": [
        "22. Create a Python program that calculates the BMI (Body Mass Index) of a person based on their weight and height using if-else.\n"
      ]
    },
    {
      "cell_type": "code",
      "execution_count": null,
      "id": "1cd9fa05-373d-416d-a7a3-2bb2632c4b08",
      "metadata": {
        "id": "1cd9fa05-373d-416d-a7a3-2bb2632c4b08",
        "outputId": "97136104-14bb-46db-e36f-2b232c933f8f"
      },
      "outputs": [
        {
          "name": "stdin",
          "output_type": "stream",
          "text": [
            "Enter your weight in kilograms:  69\n",
            "Enter your height in meters:  1.45\n"
          ]
        },
        {
          "name": "stdout",
          "output_type": "stream",
          "text": [
            "Your BMI is: 32.82\n",
            "You are categorized as: Obese\n"
          ]
        }
      ],
      "source": [
        "# Get input from the user\n",
        "weight_kg = float(input(\"Enter your weight in kilograms: \"))\n",
        "height_m = float(input(\"Enter your height in meters: \"))\n",
        "\n",
        "# Calculate BMI\n",
        "bmi = weight_kg / (height_m ** 2)\n",
        "\n",
        "# Categarize BMI using if-else statements\n",
        "if bmi < 18.5:\n",
        "    category = \"Underweight\"\n",
        "elif 18.5 <= bmi < 24.9:\n",
        "    category = \"Normal weigght\"\n",
        "elif 25 <= bmi < 29.9:\n",
        "    category = \"Overweight\"\n",
        "else:\n",
        "    category = \"Obese\"\n",
        "\n",
        "# Print the result\n",
        "print(f\"Your BMI is: {bmi:.2f}\")\n",
        "print(f\"You are categorized as: {category}\")"
      ]
    },
    {
      "cell_type": "markdown",
      "id": "922aa93b-6ffb-49c0-9719-45457cbc0af4",
      "metadata": {
        "id": "922aa93b-6ffb-49c0-9719-45457cbc0af4"
      },
      "source": [
        "23. How can you use the \"filter()\" function with if-else statements to filter elements from a list?\n",
        "\n"
      ]
    },
    {
      "cell_type": "code",
      "execution_count": null,
      "id": "4408a8f5-e734-44d0-bb1e-e2fe0f96a17b",
      "metadata": {
        "id": "4408a8f5-e734-44d0-bb1e-e2fe0f96a17b",
        "outputId": "ba5a3ea6-66ec-4c22-f470-d071e710444d"
      },
      "outputs": [
        {
          "name": "stdout",
          "output_type": "stream",
          "text": [
            "Original list: [1, 2, 3, 4, 5, 6, 7, 8, 9, 10]\n",
            "Filtered list (even numbers): [2, 4, 6, 8, 10]\n"
          ]
        }
      ],
      "source": [
        "# Function to filter even numbers using if-else\n",
        "def filter_even(number):\n",
        "    if number % 2 == 0:\n",
        "        return True\n",
        "    else:\n",
        "        return False\n",
        "\n",
        "# List of numbers\n",
        "numbers = [1, 2, 3, 4, 5, 6, 7, 8, 9, 10]\n",
        "\n",
        "# Use filter() with the filter_even function\n",
        "filtered_numbers = filter(filter_even, numbers)\n",
        "\n",
        "# Convert the filtered_numbers iterator to a list\n",
        "result_list = list(filtered_numbers)\n",
        "\n",
        "# Print the result\n",
        "print(\"Original list:\", numbers)\n",
        "print(\"Filtered list (even numbers):\", result_list)"
      ]
    },
    {
      "cell_type": "markdown",
      "id": "b0a5473a-2777-4c4a-94f8-ff7aecf961bc",
      "metadata": {
        "id": "b0a5473a-2777-4c4a-94f8-ff7aecf961bc"
      },
      "source": [
        "24. Write a Python program to determine if a given number is prime or not using if-else.\n"
      ]
    },
    {
      "cell_type": "code",
      "execution_count": null,
      "id": "db2bb555-abdc-4424-abff-233810c3721c",
      "metadata": {
        "id": "db2bb555-abdc-4424-abff-233810c3721c",
        "outputId": "b91b7078-033e-4fa9-ec1b-94deb1923091"
      },
      "outputs": [
        {
          "name": "stdin",
          "output_type": "stream",
          "text": [
            "Enter a number:  15\n"
          ]
        },
        {
          "name": "stdout",
          "output_type": "stream",
          "text": [
            "15 is not a prime number.\n"
          ]
        }
      ],
      "source": [
        "# Function to check if a number is prime\n",
        "def is_prime(number):\n",
        "    if number <= 1:\n",
        "        return False\n",
        "    for i in range(2, int(number**0.5) + 1):\n",
        "        if number % i == 0:\n",
        "            return False\n",
        "    return True\n",
        "\n",
        "# Get input from the user\n",
        "number = int(input(\"Enter a number: \"))\n",
        "\n",
        "# Check if the number is prime using the is_prime function\n",
        "if is_prime(number):\n",
        "    print(f\"{number} is a prime number.\")\n",
        "else:\n",
        "    print(f\"{number} is not a prime number.\")"
      ]
    },
    {
      "cell_type": "markdown",
      "id": "84756dbf-46bf-43f9-9283-52fce22b98ec",
      "metadata": {
        "id": "84756dbf-46bf-43f9-9283-52fce22b98ec"
      },
      "source": [
        "# Map :-\n"
      ]
    },
    {
      "cell_type": "markdown",
      "id": "7c985e1a-4451-4101-b3e0-c46b0909f6fb",
      "metadata": {
        "id": "7c985e1a-4451-4101-b3e0-c46b0909f6fb"
      },
      "source": [
        "1. Explain the purpose of the `map()` function in Python and provide an example of how it can be used to apply a function to each element of an iterable.\n"
      ]
    },
    {
      "cell_type": "code",
      "execution_count": null,
      "id": "ab198cfb-3096-4c82-b5f0-b8a26303acc8",
      "metadata": {
        "id": "ab198cfb-3096-4c82-b5f0-b8a26303acc8",
        "outputId": "8ddfd3db-c502-4827-f279-066a23261e39"
      },
      "outputs": [
        {
          "name": "stdout",
          "output_type": "stream",
          "text": [
            "Original numbers: [1, 2, 3, 4, 5]\n",
            "Squared numbers: [1, 4, 9, 16, 25]\n"
          ]
        }
      ],
      "source": [
        "# Functgion to square a number\n",
        "def square(x):\n",
        "    return x ** 2\n",
        "\n",
        "# List of numbers\n",
        "numbers = [1, 2, 3, 4, 5]\n",
        "\n",
        "# Use map() to square each element in the list\n",
        "squared_numbers = map(square, numbers)\n",
        "\n",
        "# Convert the result to a list for printing\n",
        "result_list = list(squared_numbers)\n",
        "\n",
        "# Print the orginal and squared lists\n",
        "print(\"Original numbers:\", numbers)\n",
        "print(\"Squared numbers:\", result_list)"
      ]
    },
    {
      "cell_type": "markdown",
      "id": "93a42e80-0e01-4561-bf31-e431482afd1a",
      "metadata": {
        "id": "93a42e80-0e01-4561-bf31-e431482afd1a"
      },
      "source": [
        "2. Write a Python program that uses the `map()` function to square each element of a list of numbers."
      ]
    },
    {
      "cell_type": "code",
      "execution_count": null,
      "id": "7a8d67f8-d013-4695-8e59-fe5cde63c539",
      "metadata": {
        "id": "7a8d67f8-d013-4695-8e59-fe5cde63c539",
        "outputId": "b54316f6-2d20-4047-eef8-3b68116aa582"
      },
      "outputs": [
        {
          "name": "stdout",
          "output_type": "stream",
          "text": [
            "Original numbers: [1, 2, 3, 4, 5]\n",
            "Squared numbers: [1, 4, 9, 16, 25]\n"
          ]
        }
      ],
      "source": [
        "# Function to square a number\n",
        "def square(x):\n",
        "    return x ** 2\n",
        "\n",
        "# List of numbers\n",
        "numbers = [1, 2, 3, 4, 5]\n",
        "\n",
        "# Use map() to square each element in the list\n",
        "squared_numbers = map(square, numbers)\n",
        "\n",
        "# Convert the result to a list for printing\n",
        "result_list = list(squared_numbers)\n",
        "\n",
        "# Print the original and squared lists\n",
        "print(\"Original numbers:\", numbers)\n",
        "print(\"Squared numbers:\", result_list)\n"
      ]
    },
    {
      "cell_type": "markdown",
      "id": "fab58e45-2c5c-485e-9f76-f6e50b957e61",
      "metadata": {
        "id": "fab58e45-2c5c-485e-9f76-f6e50b957e61"
      },
      "source": [
        "3. How does the `map()` function differ from a list comprehension in Python, and when would you choose one over the other?\n"
      ]
    },
    {
      "cell_type": "markdown",
      "id": "15957cb7-a120-4ce5-8771-8b65a42d2c2f",
      "metadata": {
        "id": "15957cb7-a120-4ce5-8771-8b65a42d2c2f"
      },
      "source": [
        "The map() function and list comprehensions in Python are both used to transform or operate on elements of an iterable. However, they have some differences in terms of syntax, use cases, and readability. Here are the key distinctions:\n",
        "\n",
        "1.Syntax:\n",
        "\n",
        "map(): Involves using a separate function and applying it to each element of the iterable.\n",
        "List Comprehension: Provides a concise and expressive syntax for generating a new list by specifying the transformation or filtering directly.\n",
        "\n",
        "2.Return Type:\n",
        "\n",
        "map(): Returns an iterator. If needed, it can be converted to a list using list().\n",
        "List Comprehension: Returns a new list.\n",
        "\n",
        "3.Readability:\n",
        "\n",
        "map(): May be considered less readable by some for simple operations, especially when a separate function is involved.\n",
        "List Comprehension: Often considered more readable and concise, especially for straightforward operations.\n",
        "\n",
        "4.Functionality:\n",
        "\n",
        "map(): More general-purpose, as it can be used with any iterable and any function.\n",
        "List Comprehension: More concise when the goal is to create a new list.\n",
        "\n",
        "5.Applicability:\n",
        "\n",
        "map(): Useful when you have an existing function and want to apply it to every element of an iterable.\n",
        "List Comprehension: Useful when you want to create a new list by specifying the transformation or filtering directly.\n",
        "\n",
        "The choice between map() and list comprehension depends on the specific use case, personal preference, and the complexity of the operation. List comprehensions are often favored for simple transformations, while map() may be preferred when working with existing functions and more complex operations.\n",
        "\n",
        "\n",
        "\n",
        "\n",
        "\n",
        "\n"
      ]
    },
    {
      "cell_type": "markdown",
      "id": "1d077846-000d-4297-824c-66b3a26876b9",
      "metadata": {
        "id": "1d077846-000d-4297-824c-66b3a26876b9"
      },
      "source": [
        "4. Create a Python program that uses the `map()` function to convert a list of names to uppercase.\n"
      ]
    },
    {
      "cell_type": "code",
      "execution_count": null,
      "id": "04d0ea24-89db-4060-8903-7897a6b40d98",
      "metadata": {
        "id": "04d0ea24-89db-4060-8903-7897a6b40d98",
        "outputId": "3c04760b-f792-47db-8004-2c7a7ca27809"
      },
      "outputs": [
        {
          "name": "stdout",
          "output_type": "stream",
          "text": [
            "Original names: ['Alice', 'Bob', 'Charlie', 'David', 'Eve']\n",
            "Uppercase names: ['ALICE', 'BOB', 'CHARLIE', 'DAVID', 'EVE']\n"
          ]
        }
      ],
      "source": [
        "# List of names\n",
        "names = [\"Alice\", \"Bob\", \"Charlie\", \"David\", \"Eve\"]\n",
        "\n",
        "# Use map() to convert each name to uppercase\n",
        "uppercase_names = map(str.upper, names)\n",
        "\n",
        "# Convert the result to a list for printing\n",
        "result_list = list(uppercase_names)\n",
        "\n",
        "# Print the original and uppercase lists\n",
        "print(\"Original names:\", names)\n",
        "print(\"Uppercase names:\", result_list)"
      ]
    },
    {
      "cell_type": "markdown",
      "id": "493e11e1-ccab-4a28-89f9-cd5c0e3df360",
      "metadata": {
        "id": "493e11e1-ccab-4a28-89f9-cd5c0e3df360"
      },
      "source": [
        "5. Write a Python program that uses the `map()` function to calculate the length of each word in a list of strings.\n"
      ]
    },
    {
      "cell_type": "code",
      "execution_count": null,
      "id": "ab5ac632-69ff-4205-9fab-e4cfe65092fa",
      "metadata": {
        "id": "ab5ac632-69ff-4205-9fab-e4cfe65092fa",
        "outputId": "939701e4-1792-49f8-b294-d0fd4f07e4cf"
      },
      "outputs": [
        {
          "name": "stdout",
          "output_type": "stream",
          "text": [
            "Original words: ['apple', 'banana', 'orange', 'grape', 'kiwi']\n",
            "Lengths of words: [5, 6, 6, 5, 4]\n"
          ]
        }
      ],
      "source": [
        "# List of strings\n",
        "word_list = [\"apple\", \"banana\", \"orange\", \"grape\", \"kiwi\"]\n",
        "\n",
        "# Use map() to calculate the length of each word\n",
        "word_lengths = map(len, word_list)\n",
        "\n",
        "# Convert the result to a list for printing\n",
        "result_list = list(word_lengths)\n",
        "\n",
        "# Print the original list and the lengths of the words\n",
        "print(\"Original words:\", word_list)\n",
        "print(\"Lengths of words:\", result_list)"
      ]
    },
    {
      "cell_type": "markdown",
      "id": "fe2f88b2-25e7-461b-a9c8-d40b6802a327",
      "metadata": {
        "id": "fe2f88b2-25e7-461b-a9c8-d40b6802a327"
      },
      "source": [
        "6. How can you use the `map()` function to apply a custom function to elements of multiple lists simultaneously in Python?\n",
        "\n"
      ]
    },
    {
      "cell_type": "code",
      "execution_count": null,
      "id": "b36c05bd-4832-4687-b887-3f5bacfbacd7",
      "metadata": {
        "id": "b36c05bd-4832-4687-b887-3f5bacfbacd7",
        "outputId": "a8d09804-c460-47c6-81ca-7657882d1653"
      },
      "outputs": [
        {
          "name": "stdout",
          "output_type": "stream",
          "text": [
            "List 1: [1, 2, 3, 4, 5]\n",
            "List 2: [10, 20, 30, 40, 50]\n",
            "Result: [11, 22, 33, 44, 55]\n"
          ]
        }
      ],
      "source": [
        "# Custom function that adds corresponding elements of two lists\n",
        "def add_elements(x, y):\n",
        "    return x + y\n",
        "\n",
        "# Two lists of numbers\n",
        "list1 = [1, 2, 3, 4, 5]\n",
        "list2 = [10, 20, 30, 40, 50]\n",
        "\n",
        "# Use map() to apply the custom function to corresponding elements\n",
        "result = map(add_elements, list1, list2)\n",
        "\n",
        "# Convert the result to a list for printing\n",
        "result_list = list(result)\n",
        "\n",
        "# Printing the original lists and the result\n",
        "print(\"List 1:\", list1)\n",
        "print(\"List 2:\", list2)\n",
        "print(\"Result:\", result_list)"
      ]
    },
    {
      "cell_type": "markdown",
      "id": "e0ae2dce-134f-4ec0-aae0-608129dcf8fc",
      "metadata": {
        "id": "e0ae2dce-134f-4ec0-aae0-608129dcf8fc"
      },
      "source": [
        "7. Create a Python program that uses `map()` to convert a list of temperatures from Celsius to Fahrenheit.\n"
      ]
    },
    {
      "cell_type": "code",
      "execution_count": null,
      "id": "c7529535-14fc-4820-a63e-f754d2a861de",
      "metadata": {
        "id": "c7529535-14fc-4820-a63e-f754d2a861de",
        "outputId": "c86d1b35-b173-4661-d438-a1e7d5c51abb"
      },
      "outputs": [
        {
          "name": "stdout",
          "output_type": "stream",
          "text": [
            "Temperatures in Celsius: [0, 10, 20, 30, 40]\n",
            "Temperatures in Fahrenheit: [32.0, 50.0, 68.0, 86.0, 104.0]\n"
          ]
        }
      ],
      "source": [
        "# Custom function to convert Celsius to Fahrenheit\n",
        "def celsius_to_fahrenheit(celsius):\n",
        "    return (9/5) * celsius + 32\n",
        "\n",
        "# List of temperatures in Celsius\n",
        "temperatures_celsius = [0, 10, 20, 30, 40]\n",
        "\n",
        "# Use map() to convert temperatures from Celsius to Fahrenheit\n",
        "temperatures_fahrenheit = map(celsius_to_fahrenheit, temperatures_celsius)\n",
        "\n",
        "# Convert the result to a list for printing\n",
        "result_list = list(temperatures_fahrenheit)\n",
        "\n",
        "# Print the original temperatures and the converted temperatures\n",
        "print(\"Temperatures in Celsius:\", temperatures_celsius)\n",
        "print(\"Temperatures in Fahrenheit:\", result_list)\n"
      ]
    },
    {
      "cell_type": "markdown",
      "id": "789ea863-d0ca-4c0c-8984-1ce0ec989749",
      "metadata": {
        "id": "789ea863-d0ca-4c0c-8984-1ce0ec989749"
      },
      "source": [
        "8. Write a Python program that uses the `map()` function to round each element of a list of floating-point numbers to the nearest integer.\n"
      ]
    },
    {
      "cell_type": "code",
      "execution_count": null,
      "id": "440cfc47-0655-4a39-ae6b-600cefbb9fb9",
      "metadata": {
        "id": "440cfc47-0655-4a39-ae6b-600cefbb9fb9",
        "outputId": "8aee24a4-c9d5-4ea8-de9b-48cea1314325"
      },
      "outputs": [
        {
          "name": "stdout",
          "output_type": "stream",
          "text": [
            "Original floating-point numbers: [3.14, 2.718, 1.5, 4.9, 6.75]\n",
            "Rounded integers: [3, 3, 2, 5, 7]\n"
          ]
        }
      ],
      "source": [
        "# List of floating-point numbers\n",
        "float_numbers = [3.14, 2.718, 1.5, 4.9, 6.75]\n",
        "\n",
        "# Use map() to round each element to the nearest integer\n",
        "rounded_integers = map(round, float_numbers)\n",
        "\n",
        "# Convert the result to a list for printing\n",
        "result_list = list(rounded_integers)\n",
        "\n",
        "# Print the original list and the rounded integers\n",
        "print(\"Original floating-point numbers:\", float_numbers)\n",
        "print(\"Rounded integers:\", result_list)\n"
      ]
    },
    {
      "cell_type": "markdown",
      "id": "171b165d-8df8-44b1-9548-b5d4ecf28da8",
      "metadata": {
        "id": "171b165d-8df8-44b1-9548-b5d4ecf28da8"
      },
      "source": [
        "# Reduce :-\n"
      ]
    },
    {
      "cell_type": "markdown",
      "id": "bbb28b77-4efc-44aa-8260-f62100886ff2",
      "metadata": {
        "id": "bbb28b77-4efc-44aa-8260-f62100886ff2"
      },
      "source": [
        "1. What is the `reduce()` function in Python, and what module should you import to use it? Provide an example of its basic usage.\n"
      ]
    },
    {
      "cell_type": "markdown",
      "id": "8fff4a95-9175-4519-8ddb-bbab049d1ef3",
      "metadata": {
        "id": "8fff4a95-9175-4519-8ddb-bbab049d1ef3"
      },
      "source": [
        "The reduce() function in Python is a built-in function that is part of the functools module. It is used to apply a binary function successively to the elements of an iterable, reducing the iterable to a single accumulated result. The binary function should take two arguments.\n",
        "\n",
        "Here's the basic syntax of the reduce() function:\n",
        "functools.reduce(function, iterable, initializer=None)\n",
        "\n",
        "function: The binary function to apply successively to the elements of the iterable.\n",
        "iterable: The iterable (e.g., list, tuple) whose elements will be successively reduced by the binary function.\n",
        "initializer (optional): An initial value for the accumulator. If provided, the reduction starts with this value; otherwise, the first two elements of the iterable are used.\n",
        "\n",
        "To use the reduce() function, you need to import it from the functools module. Here's an example:"
      ]
    },
    {
      "cell_type": "code",
      "execution_count": null,
      "id": "945a672a-f764-42f8-aaec-6a6964ede572",
      "metadata": {
        "id": "945a672a-f764-42f8-aaec-6a6964ede572",
        "outputId": "0f6a8c33-2b65-4aa3-f10c-e4cf1feb0bf2"
      },
      "outputs": [
        {
          "name": "stdout",
          "output_type": "stream",
          "text": [
            "Sum of numbers: 15\n"
          ]
        }
      ],
      "source": [
        "from functools import reduce\n",
        "\n",
        "# Binary function to add two numbers\n",
        "def add(x, y):\n",
        "    return x + y\n",
        "\n",
        "# List of numbers\n",
        "numbers = [1, 2, 3, 4, 5]\n",
        "\n",
        "# Use reduce() to calculate the sum of the numbers\n",
        "result = reduce(add, numbers)\n",
        "\n",
        "# Print the result\n",
        "print(\"Sum of numbers:\", result)"
      ]
    },
    {
      "cell_type": "markdown",
      "id": "c3546479-38b5-48fc-b73f-d78b852136a2",
      "metadata": {
        "id": "c3546479-38b5-48fc-b73f-d78b852136a2"
      },
      "source": [
        "2. Write a Python program that uses the `reduce()` function to find the product of all elements in a list.\n"
      ]
    },
    {
      "cell_type": "code",
      "execution_count": null,
      "id": "6cf20742-c8ef-4163-a238-72a9c7417d36",
      "metadata": {
        "id": "6cf20742-c8ef-4163-a238-72a9c7417d36",
        "outputId": "bc9cffd3-eeb4-4fba-927b-6b8327c5aaab"
      },
      "outputs": [
        {
          "name": "stdout",
          "output_type": "stream",
          "text": [
            "Product of numbers: 120\n"
          ]
        }
      ],
      "source": [
        "from functools import reduce\n",
        "\n",
        "# Binary function to multiply two numbers\n",
        "def multiply(x, y):\n",
        "    return x * y\n",
        "\n",
        "# List of numbers\n",
        "numbers = [2, 3, 4, 5]\n",
        "\n",
        "# Use reduce() to calculate the product of the numbers\n",
        "product = reduce(multiply, numbers)\n",
        "\n",
        "# Print the result\n",
        "print(\"Product of numbers:\", product)"
      ]
    },
    {
      "cell_type": "markdown",
      "id": "5aae326d-57ca-418b-b1db-289232f32480",
      "metadata": {
        "id": "5aae326d-57ca-418b-b1db-289232f32480"
      },
      "source": [
        "3. Create a Python program that uses `reduce()` to find the maximum element in a list of numbers.\n",
        "\n"
      ]
    },
    {
      "cell_type": "code",
      "execution_count": null,
      "id": "0f028b8a-5d9a-4845-aec9-4f755cc84909",
      "metadata": {
        "id": "0f028b8a-5d9a-4845-aec9-4f755cc84909",
        "outputId": "a4b48d6e-26cd-455b-e2bc-a6080808f9ec"
      },
      "outputs": [
        {
          "name": "stdout",
          "output_type": "stream",
          "text": [
            "Maximum element: 11\n"
          ]
        }
      ],
      "source": [
        "from functools import reduce\n",
        "\n",
        "# Binary function to find the maximum of two numbers\n",
        "def find_max(x, y):\n",
        "    return max(x, y)\n",
        "\n",
        "# List of numbers\n",
        "numbers = [8, 3, 11, 5, 2]\n",
        "\n",
        "# Use reduce() to find the maximum element in the list\n",
        "max_element = reduce(find_max, numbers)\n",
        "\n",
        "# Print the result\n",
        "print(\"Maximum element:\", max_element)"
      ]
    },
    {
      "cell_type": "markdown",
      "id": "4f8e6c1e-0f1e-432a-8652-7ea1420b5765",
      "metadata": {
        "id": "4f8e6c1e-0f1e-432a-8652-7ea1420b5765"
      },
      "source": [
        "4. How can you use the `reduce()` function to concatenate a list of strings into a single string?\n",
        "\n"
      ]
    },
    {
      "cell_type": "markdown",
      "id": "7cd2b139-f8c6-4a2c-b714-087fdcae273e",
      "metadata": {
        "id": "7cd2b139-f8c6-4a2c-b714-087fdcae273e"
      },
      "source": [
        "To concatenate a list of strings into a single string using the reduce() function, you can define a binary function that concatenates two strings and then apply this function successively to the elements of the list. The reduce() function will take care of the cumulative concatenation.\n",
        "\n",
        "Here's an example Python program:"
      ]
    },
    {
      "cell_type": "code",
      "execution_count": null,
      "id": "f1d7a590-07a8-4e29-a860-b4c1aed0200d",
      "metadata": {
        "id": "f1d7a590-07a8-4e29-a860-b4c1aed0200d",
        "outputId": "5ea87097-2f87-4cd1-9a78-dd41d0997309"
      },
      "outputs": [
        {
          "name": "stdout",
          "output_type": "stream",
          "text": [
            "Concatenated string: Hello, World!\n"
          ]
        }
      ],
      "source": [
        "from functools import reduce\n",
        "\n",
        "# Binary function to concatenate two strings\n",
        "def concatenate_strings(x, y):\n",
        "    return x + y\n",
        "\n",
        "# List of strings\n",
        "string_list = [\"Hello\", \", \", \"World\", \"!\"]\n",
        "\n",
        "# Use reduce() to concatenate the strings\n",
        "concatenated_string = reduce(concatenate_strings, string_list)\n",
        "\n",
        "# Print the result\n",
        "print(\"Concatenated string:\", concatenated_string)"
      ]
    },
    {
      "cell_type": "markdown",
      "id": "a6a07104-740c-4f80-994e-96e35a293e97",
      "metadata": {
        "id": "a6a07104-740c-4f80-994e-96e35a293e97"
      },
      "source": [
        "The concatenate_strings function is a binary function that takes two strings and concatenates them using the + operator.\n",
        "The reduce() function is applied to the string_list, using the concatenate_strings function. It successively concatenates the strings in the list.\n",
        "The result is the concatenated string."
      ]
    },
    {
      "cell_type": "markdown",
      "id": "ae86a289-a565-4e2a-9464-d74007a0660d",
      "metadata": {
        "id": "ae86a289-a565-4e2a-9464-d74007a0660d"
      },
      "source": [
        "5. Write a Python program that calculates the factorial of a number using the `reduce()` function.\n"
      ]
    },
    {
      "cell_type": "code",
      "execution_count": null,
      "id": "cf112c80-95f0-44ea-b820-c82f8415d2b1",
      "metadata": {
        "id": "cf112c80-95f0-44ea-b820-c82f8415d2b1",
        "outputId": "2fa36aea-97be-43cc-fe79-87190d5481e1"
      },
      "outputs": [
        {
          "name": "stdin",
          "output_type": "stream",
          "text": [
            "Enter a number:  9\n"
          ]
        },
        {
          "name": "stdout",
          "output_type": "stream",
          "text": [
            "The factorial of 9 is: 362880\n"
          ]
        }
      ],
      "source": [
        "from functools import reduce\n",
        "\n",
        "# Binary function to multiply two numbers\n",
        "def multiply(x, y):\n",
        "    return x * y\n",
        "\n",
        "# Function to calculate factorial using reduce()\n",
        "def factorial(n):\n",
        "    # Use reduce() to multiply numbers from 1 to n\n",
        "    return reduce(multiply, range(1, n + 1), 1)\n",
        "\n",
        "# Input: Number for which factorial is to be calculated\n",
        "number = int(input(\"Enter a number: \"))\n",
        "\n",
        "# Calculate and print the factorial\n",
        "result = factorial(number)\n",
        "print(f\"The factorial of {number} is: {result}\")"
      ]
    },
    {
      "cell_type": "markdown",
      "id": "56ac032c-9a1f-43a5-bb89-6a1fe8b5792c",
      "metadata": {
        "id": "56ac032c-9a1f-43a5-bb89-6a1fe8b5792c"
      },
      "source": [
        "6. Create a Python program that uses `reduce()` to find the GCD (Greatest Common Divisor) of a list of numbers.\n"
      ]
    },
    {
      "cell_type": "code",
      "execution_count": null,
      "id": "7058b279-51c8-4b8a-b0c2-c7b0c6209f28",
      "metadata": {
        "id": "7058b279-51c8-4b8a-b0c2-c7b0c6209f28",
        "outputId": "b9a74577-d7c7-416e-e956-cac90d9bdb50"
      },
      "outputs": [
        {
          "name": "stdout",
          "output_type": "stream",
          "text": [
            "GCD of the numbers: 12\n"
          ]
        }
      ],
      "source": [
        "from functools import reduce\n",
        "from math import gcd\n",
        "\n",
        "# List of numbers\n",
        "numbers = [24, 36, 48, 60]\n",
        "\n",
        "# Use reduce() with math.gcd() to find the GCD of the numbers\n",
        "gcd_result = reduce(gcd, numbers)\n",
        "\n",
        "# Print the result\n",
        "print(\"GCD of the numbers:\", gcd_result)\n",
        "\n"
      ]
    },
    {
      "cell_type": "markdown",
      "id": "a9c06cb3-69e0-45ac-b9f6-7a779546ec1a",
      "metadata": {
        "id": "a9c06cb3-69e0-45ac-b9f6-7a779546ec1a"
      },
      "source": [
        "7. Write a Python program that uses the `reduce()` function to find the sum of the digits of a given number.\n",
        "\n"
      ]
    },
    {
      "cell_type": "code",
      "execution_count": null,
      "id": "74961207-02f7-4a58-b3c6-c3cfab47d371",
      "metadata": {
        "id": "74961207-02f7-4a58-b3c6-c3cfab47d371",
        "outputId": "6e5b80a3-bbdf-45e5-eac7-ebec9fe4028b"
      },
      "outputs": [
        {
          "name": "stdin",
          "output_type": "stream",
          "text": [
            "Enter a number:  15\n"
          ]
        },
        {
          "name": "stdout",
          "output_type": "stream",
          "text": [
            "The sum of digits in 15 is: 6\n"
          ]
        }
      ],
      "source": [
        "from functools import reduce\n",
        "\n",
        "# Function to calculate the sum of digits\n",
        "def sum_of_digits(x, y):\n",
        "    return int(x) + int(y)\n",
        "\n",
        "# Input: Number for which sum of digits is to be calculated\n",
        "number = int(input(\"Enter a number: \"))\n",
        "\n",
        "# Convert the number to a string to get its digits\n",
        "digits_str = str(number)\n",
        "\n",
        "# Use reduce() to calculate the sum of digits\n",
        "sum_digits = reduce(sum_of_digits, digits_str, 0)\n",
        "\n",
        "# Print the result\n",
        "print(f\"The sum of digits in {number} is: {sum_digits}\")"
      ]
    },
    {
      "cell_type": "markdown",
      "id": "f500b46e-f85c-4ae7-939d-10a27a86c8a5",
      "metadata": {
        "id": "f500b46e-f85c-4ae7-939d-10a27a86c8a5"
      },
      "source": [
        "# Filter :-\n"
      ]
    },
    {
      "cell_type": "markdown",
      "id": "037cd4cc-5eb4-47d6-9032-fef778123f73",
      "metadata": {
        "id": "037cd4cc-5eb4-47d6-9032-fef778123f73"
      },
      "source": [
        "1. Explain the purpose of the `filter()` function in Python and provide an example of how it can be used to filter elements from an iterable.\n"
      ]
    },
    {
      "cell_type": "markdown",
      "id": "8506b378-6d68-41ee-a44e-0f774a5914da",
      "metadata": {
        "id": "8506b378-6d68-41ee-a44e-0f774a5914da"
      },
      "source": [
        "The filter() function in Python is a built-in function that is used to construct an iterator from elements of an iterable for which a function returns true. In other words, it filters the elements of an iterable based on a specified condition.\n",
        "\n",
        "The syntax of the filter() function is as follows:\n",
        "filter(function, iterable)\n",
        "\n",
        "function: A function that tests whether each element of an iterable satisfies a certain condition. If None, it simply returns the elements of the iterable that are true.\n",
        "iterable: The iterable (e.g., list, tuple) whose elements will be filtered.\n",
        "\n",
        "Here's an example to illustrate how the filter() function can be used:"
      ]
    },
    {
      "cell_type": "code",
      "execution_count": null,
      "id": "04897eee-c855-4a4f-b619-e296631235ea",
      "metadata": {
        "id": "04897eee-c855-4a4f-b619-e296631235ea",
        "outputId": "b2898442-37b5-480e-e51c-e4d96a7bfeff"
      },
      "outputs": [
        {
          "name": "stdout",
          "output_type": "stream",
          "text": [
            "Original numbers: [1, 2, 3, 4, 5, 6, 7, 8, 9, 10]\n",
            "Even numbers: [2, 4, 6, 8, 10]\n"
          ]
        }
      ],
      "source": [
        "# Function to check if a number is even\n",
        "def is_even(number):\n",
        "    return number % 2 == 0\n",
        "\n",
        "# List of numbers\n",
        "numbers = [1, 2, 3, 4, 5, 6, 7, 8, 9, 10]\n",
        "\n",
        "# Use filter() to get even numbers from the list\n",
        "even_numbers = filter(is_even, numbers)\n",
        "\n",
        "# Convert the result to a list for printing\n",
        "result_list = list(even_numbers)\n",
        "\n",
        "# Print the original list and the filtered even numbers\n",
        "print(\"Original numbers:\", numbers)\n",
        "print(\"Even numbers:\", result_list)"
      ]
    },
    {
      "cell_type": "markdown",
      "id": "6435ad56-8b6a-4883-99a7-632e68311e54",
      "metadata": {
        "id": "6435ad56-8b6a-4883-99a7-632e68311e54"
      },
      "source": [
        "2. Write a Python program that uses the `filter()` function to select even numbers from a list of integers.\n"
      ]
    },
    {
      "cell_type": "code",
      "execution_count": null,
      "id": "ebd0f66c-9ee1-4470-9382-7e24ae1078ac",
      "metadata": {
        "id": "ebd0f66c-9ee1-4470-9382-7e24ae1078ac",
        "outputId": "a6f58ea3-6570-437f-d6c4-b2f8fed9d489"
      },
      "outputs": [
        {
          "name": "stdout",
          "output_type": "stream",
          "text": [
            "Original integers: [1, 2, 3, 4, 5, 6, 7, 8, 9, 10]\n",
            "Even numbers: [2, 4, 6, 8, 10]\n"
          ]
        }
      ],
      "source": [
        "# Function to check if a number is even\n",
        "def is_even(number):\n",
        "    return number % 2 == 0\n",
        "\n",
        "# List of integers\n",
        "integers = [1, 2, 3, 4, 5, 6, 7, 8, 9, 10]\n",
        "\n",
        "# Use filter() to select even numbers from the list\n",
        "even_numbers = filter(is_even, integers)\n",
        "\n",
        "# Convert the result to a list for printing\n",
        "result_list = list(even_numbers)\n",
        "\n",
        "# Printing the original list and the selected even numbers\n",
        "print(\"Original integers:\", integers)\n",
        "print(\"Even numbers:\", result_list)"
      ]
    },
    {
      "cell_type": "markdown",
      "id": "5ee62dcd-3cf8-436d-8e7f-f76496733565",
      "metadata": {
        "id": "5ee62dcd-3cf8-436d-8e7f-f76496733565"
      },
      "source": [
        "3. Create a Python program that uses the `filter()` function to select names that start with a specific letter from a list of strings.\n",
        "\n"
      ]
    },
    {
      "cell_type": "code",
      "execution_count": null,
      "id": "5460dce2-f048-445f-be48-5f6c2aa6ea56",
      "metadata": {
        "id": "5460dce2-f048-445f-be48-5f6c2aa6ea56",
        "outputId": "20aef925-4259-42dc-bcd6-e134081deac6"
      },
      "outputs": [
        {
          "name": "stdout",
          "output_type": "stream",
          "text": [
            "Original names: ['Alice', 'Bob', 'Charlie', 'David', 'Eve', 'Emma']\n",
            "Names starting with 'D': ['David']\n"
          ]
        }
      ],
      "source": [
        "# Function to check if a name starts with a specific letter\n",
        "def starts_with_letter(name, letter):\n",
        "    return name.startswith(letter)\n",
        "\n",
        "# List of names\n",
        "names = [\"Alice\", \"Bob\", \"Charlie\", \"David\", \"Eve\", \"Emma\"]\n",
        "\n",
        "# Specify the letter to filter by\n",
        "target_letter = \"D\"\n",
        "\n",
        "# Use filter() to select names starting with the specified letter\n",
        "selected_names = filter(lambda x: starts_with_letter(x, target_letter), names)\n",
        "\n",
        "# Convert the result to a list for printing\n",
        "result_list = list(selected_names)\n",
        "\n",
        "# Print the original list and the selected names\n",
        "print(\"Original names:\", names)\n",
        "print(f\"Names starting with '{target_letter}':\", result_list)"
      ]
    },
    {
      "cell_type": "markdown",
      "id": "5831007f-76a2-4bf7-b905-a65ba613b070",
      "metadata": {
        "id": "5831007f-76a2-4bf7-b905-a65ba613b070"
      },
      "source": [
        "4. Write a Python program that uses the `filter()` function to select prime numbers from a list of integers.\n",
        "\n"
      ]
    },
    {
      "cell_type": "code",
      "execution_count": null,
      "id": "ee558878-21cd-42ba-9b6b-1be2af8f0d28",
      "metadata": {
        "id": "ee558878-21cd-42ba-9b6b-1be2af8f0d28",
        "outputId": "1f572c43-7567-463d-ea0c-36c20f09bc83"
      },
      "outputs": [
        {
          "name": "stdout",
          "output_type": "stream",
          "text": [
            "Original integgers: [2, 3, 4, 5, 6, 7, 8, 9, 10, 11, 12, 13]\n",
            "Prime numbers: [2, 3, 5, 7, 11, 13]\n"
          ]
        }
      ],
      "source": [
        "# Function to check if a number is prime\n",
        "def is_prime(number):\n",
        "    if number < 2:\n",
        "        return False\n",
        "    for i in range(2, int(number**0.5) + 1):\n",
        "        if number % i == 0:\n",
        "            return False\n",
        "    return True\n",
        "\n",
        "# List of integgers\n",
        "integers = [2, 3, 4, 5, 6, 7, 8, 9, 10, 11, 12, 13]\n",
        "\n",
        "# Use filter() to select prime numbers from the list\n",
        "prime_numbers = filter(is_prime, integers)\n",
        "\n",
        "# Convert the result to a list for printing\n",
        "result_list = list(prime_numbers)\n",
        "\n",
        "# Print the original list and the selected prime numbers\n",
        "print(\"Original integgers:\", integers)\n",
        "print(\"Prime numbers:\", result_list)"
      ]
    },
    {
      "cell_type": "markdown",
      "id": "505826b4-817e-4c2a-bec6-439b87144eae",
      "metadata": {
        "id": "505826b4-817e-4c2a-bec6-439b87144eae"
      },
      "source": [
        "5. How can you use the `filter()` function to remove None values from a list in Python?\n"
      ]
    },
    {
      "cell_type": "code",
      "execution_count": null,
      "id": "a054f63a-7cbf-4124-81ae-be38c0c2fc63",
      "metadata": {
        "id": "a054f63a-7cbf-4124-81ae-be38c0c2fc63",
        "outputId": "138e2a2b-0ab6-4d32-e4e4-3f474589a8e5"
      },
      "outputs": [
        {
          "name": "stdout",
          "output_type": "stream",
          "text": [
            "Original list: [1, None, 'apple', None, 5, None, 'banana']\n",
            "Filtered list without None values: [1, 'apple', 5, 'banana']\n"
          ]
        }
      ],
      "source": [
        "# List with None values\n",
        "mixed_list = [1, None, \"apple\", None, 5, None, \"banana\"]\n",
        "\n",
        "# Use filter() to remove None values from the list\n",
        "filtered_list = filter(lambda x:x is not None, mixed_list)\n",
        "\n",
        "# Convert the result to a list for printing\n",
        "result_list = list(filtered_list)\n",
        "\n",
        "# Print the original list and the filtered list without None values\n",
        "print(\"Original list:\", mixed_list)\n",
        "print(\"Filtered list without None values:\", result_list)"
      ]
    },
    {
      "cell_type": "markdown",
      "id": "fd0e8325-b498-4642-b1ce-c824784d4de0",
      "metadata": {
        "id": "fd0e8325-b498-4642-b1ce-c824784d4de0"
      },
      "source": [
        "6. Create a Python program that uses `filter()` to select words longer than a certain length from a list of strings.\n",
        "\n"
      ]
    },
    {
      "cell_type": "code",
      "execution_count": null,
      "id": "dfb8b586-7baa-43c3-83a6-152894d0c680",
      "metadata": {
        "id": "dfb8b586-7baa-43c3-83a6-152894d0c680",
        "outputId": "61f19e4f-6761-4274-c781-1479ca745eab"
      },
      "outputs": [
        {
          "name": "stdout",
          "output_type": "stream",
          "text": [
            "Original words: ['apple', 'banana', 'kiwi', 'orange', 'grape', 'pear']\n",
            "Word longer than 5 characters: ['banana', 'orange']\n"
          ]
        }
      ],
      "source": [
        "# Function to check if a word has length greater than a specified value\n",
        "def is_long_word(word, length):\n",
        "    return len(word) > length\n",
        "\n",
        "# List of strings\n",
        "word_list = [\"apple\", \"banana\", \"kiwi\", \"orange\", \"grape\", \"pear\"]\n",
        "\n",
        "# Specify the minimum length for words\n",
        "min_length = 5\n",
        "\n",
        "# Use filter() to select words longer than the specified length\n",
        "selected_words = filter(lambda x: is_long_word(x, min_length), word_list)\n",
        "\n",
        "# Convert the result to a list for printing\n",
        "result_list = list(selected_words)\n",
        "\n",
        "# Print the original list and the selected long words\n",
        "print(\"Original words:\", word_list)\n",
        "print(f\"Word longer than {min_length} characters:\", result_list)"
      ]
    },
    {
      "cell_type": "markdown",
      "id": "9039c8ae-6b57-4a97-858d-e2907dd7c16d",
      "metadata": {
        "id": "9039c8ae-6b57-4a97-858d-e2907dd7c16d"
      },
      "source": [
        "7. Write a Python program that uses the `filter()` function to select elements greater than a specified threshold from a list of values.\n",
        "\n"
      ]
    },
    {
      "cell_type": "code",
      "execution_count": null,
      "id": "52f3c460-beb0-4a61-a1a4-a0459b4dbf95",
      "metadata": {
        "id": "52f3c460-beb0-4a61-a1a4-a0459b4dbf95",
        "outputId": "54e69a87-0c89-4f70-db6e-94d0e8e6d6b3"
      },
      "outputs": [
        {
          "name": "stdout",
          "output_type": "stream",
          "text": [
            "Original values: [10, 25, 5, 30, 15, 8, 20]\n",
            "Values greater than 15: [25, 30, 20]\n"
          ]
        }
      ],
      "source": [
        "# Function to check if a value is greater than a specified threshold\n",
        "def is_greater_than_threshold(value, threshold):\n",
        "    return value > threshold\n",
        "\n",
        "# List of values\n",
        "values = [10, 25, 5, 30, 15, 8, 20]\n",
        "\n",
        "# Specify the threshold\n",
        "threshold_value = 15\n",
        "\n",
        "# Use filter() to select values greater than the specified threshold\n",
        "selected_values = filter(lambda x: is_greater_than_threshold(x, threshold_value), values)\n",
        "\n",
        "# Convert the result to a list for printing\n",
        "result_list = list(selected_values)\n",
        "\n",
        "# Print the original list and the selected values greater than the threshold\n",
        "print(\"Original values:\", values)\n",
        "print(f\"Values greater than {threshold_value}:\", result_list)\n"
      ]
    },
    {
      "cell_type": "markdown",
      "id": "4a121121-ca2d-4f04-a1f6-6da99e3c23e6",
      "metadata": {
        "id": "4a121121-ca2d-4f04-a1f6-6da99e3c23e6"
      },
      "source": [
        "# Recursion:-\n"
      ]
    },
    {
      "cell_type": "markdown",
      "id": "5b69f2d9-8825-49f4-9923-330a612883e1",
      "metadata": {
        "id": "5b69f2d9-8825-49f4-9923-330a612883e1"
      },
      "source": [
        "1. Explain the concept of recursion in Python. How does it differ from iteration?"
      ]
    },
    {
      "cell_type": "markdown",
      "id": "b94ba95d-2818-49d8-a037-bdc44c9d5ac3",
      "metadata": {
        "id": "b94ba95d-2818-49d8-a037-bdc44c9d5ac3"
      },
      "source": [
        "Recursion and iteration are both programming concepts that involve repetitive execution of code, but they differ in their approaches to achieving repetition.\n",
        "\n",
        "Recursion:\n",
        "\n",
        "Recursion is a programming technique where a function calls itself in order to solve a problem.\n",
        "\n",
        "In a recursive function, the problem is divided into smaller instances of the same problem, and the function is called with these smaller instances.\n",
        "\n",
        "Each recursive call contributes to solving the overall problem.\n",
        "\n",
        "Recursive functions have a base case that defines when the recursion should stop, preventing an infinite loop of recursive calls.\n",
        "\n",
        "Recursion is often used to solve problems that can be naturally divided into smaller subproblems.\n",
        "\n",
        "Example of a recursive function to calculate the factorial of a number:\n",
        "    \n",
        "def factorial(n):\n",
        "    if n == 0 or n == 1:\n",
        "        return 1\n",
        "    else:\n",
        "        return n * factorial(n-1)\n",
        "\n",
        "Iteration:\n",
        "\n",
        "Iteration is a programming concept where a set of instructions is repeated a specified number of times or until a certain condition is met.\n",
        "\n",
        "It involves the use of loops (e.g., for loop or while loop) to repeatedly execute a block of code.\n",
        "\n",
        "The repetition is achieved by maintaining a control structure (e.g., a loop counter in the case of for loop or a condition in the case of while loop).\n",
        "\n",
        "Iteration is often used when the number of repetitions is known in advance or can be determined through a condition.\n",
        "\n",
        "Example of an iterative function to calculate the factorial of a number:\n",
        "    \n",
        "def factorial_iterative(n):\n",
        "    result = 1\n",
        "    for i in range(1, n + 1):\n",
        "        result *= i\n",
        "    return result\n",
        "\n",
        "\n",
        "Differences:\n",
        "\n",
        "Recursion relies on the function calling itself to solve smaller instances of the problem, while iteration uses loops to repeatedly execute a block of code.\n",
        "\n",
        "Recursion often leads to more concise and elegant code for certain problems, but it may have a higher overhead due to the function call stack.\n",
        "\n",
        "Iteration is generally more efficient in terms of space complexity, as it doesn't involve the same level of function call overhead.\n",
        "\n",
        "Some problems are more naturally suited for recursion, while others may be better solved using iteration.\n",
        "\n",
        "Both recursion and iteration have their advantages and disadvantages, and the choice between them often depends on the specific problem at hand and the programming language being used.\n"
      ]
    },
    {
      "cell_type": "markdown",
      "id": "9329e216-de8e-4b59-9b46-7660dfa4360c",
      "metadata": {
        "id": "9329e216-de8e-4b59-9b46-7660dfa4360c"
      },
      "source": [
        "2. Write a Python program to calculate the factorial of a number using recursion.\n"
      ]
    },
    {
      "cell_type": "code",
      "execution_count": null,
      "id": "0c916429-d908-43d8-8400-d34bd6ea35a2",
      "metadata": {
        "id": "0c916429-d908-43d8-8400-d34bd6ea35a2",
        "outputId": "ef693f7f-82f2-4bf5-d094-a80f57c4aee8"
      },
      "outputs": [
        {
          "name": "stdin",
          "output_type": "stream",
          "text": [
            "Enter a number:  8\n"
          ]
        },
        {
          "name": "stdout",
          "output_type": "stream",
          "text": [
            "The factorial of 8 is: 40320\n"
          ]
        }
      ],
      "source": [
        "def factorial(n):\n",
        "    # Base case: factorial of 0 or 1 is 1\n",
        "    if n == 0 or n == 1:\n",
        "        return 1\n",
        "    else:\n",
        "        # Recursive case: n! = n * (n - 1)!\n",
        "        return n * factorial(n - 1)\n",
        "\n",
        "# Input: Number for which factorial is to be calculated\n",
        "number = int(input(\"Enter a number: \"))\n",
        "\n",
        "# Calculate and print the factorial\n",
        "result = factorial(number)\n",
        "print(f\"The factorial of {number} is: {result}\")"
      ]
    },
    {
      "cell_type": "markdown",
      "id": "0be79ee7-97f8-4c09-bca1-d4ed09f42c5c",
      "metadata": {
        "id": "0be79ee7-97f8-4c09-bca1-d4ed09f42c5c"
      },
      "source": [
        "3. Create a recursive Python function to find the nth Fibonacci number.\n"
      ]
    },
    {
      "cell_type": "code",
      "execution_count": null,
      "id": "4cb22884-18cb-41d3-a283-1019637bfa36",
      "metadata": {
        "id": "4cb22884-18cb-41d3-a283-1019637bfa36",
        "outputId": "84e909c1-ff76-4490-85f4-ec6c48852b44"
      },
      "outputs": [
        {
          "name": "stdin",
          "output_type": "stream",
          "text": [
            "Enter the value of n:  8\n"
          ]
        },
        {
          "name": "stdout",
          "output_type": "stream",
          "text": [
            "The 8th Fibonacci number is: 21\n"
          ]
        }
      ],
      "source": [
        "def fibonacci(n):\n",
        "    # Base case: Fibonacci of 0 is 0, and Fibonacci of 1 is 1\n",
        "    if n == 0:\n",
        "        return 0\n",
        "    elif n == 1:\n",
        "        return 1\n",
        "    else:\n",
        "        # Recursive case: Fibonacci(n) = Fibonacci(n -1) + Fibonacci(n - 2)\n",
        "        return fibonacci(n - 1) + fibonacci(n - 2)\n",
        "\n",
        "# Input: Value of n for which Fibonacci number is to be calculated\n",
        "n = int(input(\"Enter the value of n: \"))\n",
        "\n",
        "# Calculate and print the nth Fibonnaci number\n",
        "result = fibonacci(n)\n",
        "print(f\"The {n}th Fibonacci number is: {result}\")\n",
        ""
      ]
    },
    {
      "cell_type": "markdown",
      "id": "ce2e87c6-4191-446c-9026-76a0f5074258",
      "metadata": {
        "id": "ce2e87c6-4191-446c-9026-76a0f5074258"
      },
      "source": [
        "4. Write a recursive Python function to calculate the sum of all elements in a list.\n",
        "\n"
      ]
    },
    {
      "cell_type": "code",
      "execution_count": null,
      "id": "a0aa27f4-a45d-4075-83aa-823064671e41",
      "metadata": {
        "id": "a0aa27f4-a45d-4075-83aa-823064671e41",
        "outputId": "2353920e-9971-431d-9c72-32f2ccbec4fd"
      },
      "outputs": [
        {
          "name": "stdout",
          "output_type": "stream",
          "text": [
            "The sum of the list is: 15\n"
          ]
        }
      ],
      "source": [
        "def recursive_sum(lst):\n",
        "    # Base case: If the list is empty, the sum is 0\n",
        "    if not lst:\n",
        "        return 0\n",
        "    else:\n",
        "        # Recursive case: Sum = first element + sum of the rest of the elements\n",
        "        return lst[0] + recursive_sum(lst[1:])\n",
        "\n",
        "# Input: List of numbers\n",
        "numbers = [1, 2, 3, 4, 5]\n",
        "\n",
        "# Calculate and print the sum of the list using the recursive function\n",
        "result = recursive_sum(numbers)\n",
        "print(f\"The sum of the list is: {result}\")\n"
      ]
    },
    {
      "cell_type": "markdown",
      "id": "1bab0a1d-d12b-48b2-accf-3740fc7e9f6a",
      "metadata": {
        "id": "1bab0a1d-d12b-48b2-accf-3740fc7e9f6a"
      },
      "source": [
        "5. How can you prevent a recursive function from running indefinitely, causing a stack overflow error?\n",
        "\n"
      ]
    },
    {
      "cell_type": "markdown",
      "id": "8f3408fc-90d4-4ad4-9c6d-6674cf863aa5",
      "metadata": {
        "id": "8f3408fc-90d4-4ad4-9c6d-6674cf863aa5"
      },
      "source": [
        "To prevent a recursive function from running indefinitely and causing a stack overflow error, you should ensure that your recursive function has a well-defined base case that will eventually be reached. The base case is a condition under which the recursion stops and the function returns a result directly without making further recursive calls.\n",
        "\n",
        "Here are some guidelines to prevent infinite recursion:\n",
        "\n",
        "Define a Base Case:\n",
        "\n",
        "Ensure that your recursive function has a base case. This is the condition that signals the end of recursion.\n",
        "The base case should be such that it can be reached through the recursive calls.\n",
        "Ensure Progress Toward the Base Case:\n",
        "\n",
        "Make sure that each recursive call brings the problem closer to the base case.\n",
        "If the recursive calls do not lead to a smaller or simpler instance of the problem, the recursion may not converge.\n",
        "Debugging with Print Statements:\n",
        "\n",
        "Add print statements to trace the flow of your recursive function. This can help you understand where the recursion is going and whether it's progressing toward the base case.\n",
        "Check Inputs:\n",
        "\n",
        "Ensure that the inputs passed to the recursive function are appropriate and move the problem toward the base case."
      ]
    },
    {
      "cell_type": "markdown",
      "id": "8144c37e-a6b7-4c78-bc24-c74ae07b469f",
      "metadata": {
        "id": "8144c37e-a6b7-4c78-bc24-c74ae07b469f"
      },
      "source": [
        "6. Create a recursive Python function to find the greatest common divisor (GCD) of two numbers using the Euclidean algorithm.\n"
      ]
    },
    {
      "cell_type": "code",
      "execution_count": null,
      "id": "3d156377-b42d-4287-a2c0-49b7e4ce48ab",
      "metadata": {
        "id": "3d156377-b42d-4287-a2c0-49b7e4ce48ab",
        "outputId": "906093e3-cd0e-45e3-968e-25ade4a7e7df"
      },
      "outputs": [
        {
          "name": "stdin",
          "output_type": "stream",
          "text": [
            "Enter the first number:  15\n",
            "Enter the second number:  26\n"
          ]
        },
        {
          "name": "stdout",
          "output_type": "stream",
          "text": [
            "The GCD of 15 and 26 is: 1\n"
          ]
        }
      ],
      "source": [
        "def euclidean_gcd(a, b):\n",
        "    # Base case: GCD(a, 0) = a\n",
        "    if b == 0:\n",
        "        return a\n",
        "    else:\n",
        "        # Recursive case: GCD(a, b) = GCD(b, a % b)\n",
        "        return euclidean_gcd(b, a % b)\n",
        "\n",
        "# Input: Two numbers for which GCD is to be calculated\n",
        "num1 = int(input(\"Enter the first number: \"))\n",
        "num2 = int(input(\"Enter the second number: \"))\n",
        "\n",
        "# Calculate and print the GCD using the recursive function\n",
        "result = euclidean_gcd(num1, num2)\n",
        "print(f\"The GCD of {num1} and {num2} is: {result}\")"
      ]
    },
    {
      "cell_type": "markdown",
      "id": "258be4c9-6186-44ee-8c06-ff40f9a5821d",
      "metadata": {
        "id": "258be4c9-6186-44ee-8c06-ff40f9a5821d"
      },
      "source": [
        "7. Write a recursive Python function to reverse a string.\n"
      ]
    },
    {
      "cell_type": "code",
      "execution_count": null,
      "id": "efab1b1c-e994-4ab6-9c28-3ec248584ebe",
      "metadata": {
        "id": "efab1b1c-e994-4ab6-9c28-3ec248584ebe",
        "outputId": "467b7886-6472-4e05-a2ce-03ac12f1c506"
      },
      "outputs": [
        {
          "name": "stdin",
          "output_type": "stream",
          "text": [
            "Enter a string:  Python is a versatile language.\n"
          ]
        },
        {
          "name": "stdout",
          "output_type": "stream",
          "text": [
            "The reversed string is: .egaugnal elitasrev a si nohtyP\n"
          ]
        }
      ],
      "source": [
        "def recursive_reverse_string(input_str):\n",
        "    # Base case: if the string is empty or has one character, it is already reversed\n",
        "    if len(input_str) <= 1:\n",
        "        return input_str\n",
        "    else:\n",
        "        # Recursive case: reverse the substring excluding the first character and concatenate the first character at the end\n",
        "        return recursive_reverse_string(input_str[1:]) + input_str[0]\n",
        "\n",
        "# Input: String to be reversed\n",
        "input_string = input(\"Enter a string: \")\n",
        "\n",
        "# Reverse the string using the recursive function\n",
        "result = recursive_reverse_string(input_string)\n",
        "print(f\"The reversed string is: {result}\")"
      ]
    },
    {
      "cell_type": "markdown",
      "id": "93a72a32-7088-46d9-b482-1e5a8b9c30d2",
      "metadata": {
        "id": "93a72a32-7088-46d9-b482-1e5a8b9c30d2"
      },
      "source": [
        "8. Create a recursive Python function to calculate the power of a number (x^n).\n"
      ]
    },
    {
      "cell_type": "code",
      "execution_count": null,
      "id": "5f3f79d0-af81-40e5-bcd6-49587f16dde1",
      "metadata": {
        "id": "5f3f79d0-af81-40e5-bcd6-49587f16dde1",
        "outputId": "081d1374-dec0-4acf-f2bf-400111c3d4d6"
      },
      "outputs": [
        {
          "name": "stdin",
          "output_type": "stream",
          "text": [
            "Enter the base (x):  3\n",
            "Enter the exponent (n):  7\n"
          ]
        },
        {
          "name": "stdout",
          "output_type": "stream",
          "text": [
            "3.0^7 is: 2187.0\n"
          ]
        }
      ],
      "source": [
        "def power(x, n):\n",
        "    # Base case: x^0 is always 1\n",
        "    if n == 0:\n",
        "        return 1\n",
        "    else:\n",
        "        # Recursive case: x^n = x * x^(n-1)\n",
        "        return x * power(x, n-1)\n",
        "\n",
        "# Input: Base (x) and exponent (n)\n",
        "base = float(input(\"Enter the base (x): \"))\n",
        "exponent = int(input(\"Enter the exponent (n): \"))\n",
        "\n",
        "# Calculate and print the result using the recursive function\n",
        "result = power(base, exponent)\n",
        "print(f\"{base}^{exponent} is: {result}\")"
      ]
    },
    {
      "cell_type": "markdown",
      "id": "d81eb664-8b09-4b72-bb4e-5d771f47c5c2",
      "metadata": {
        "id": "d81eb664-8b09-4b72-bb4e-5d771f47c5c2"
      },
      "source": [
        "9. Write a recursive Python function to find all permutations of a given string.\n"
      ]
    },
    {
      "cell_type": "code",
      "execution_count": null,
      "id": "5cc10283-b044-4f0c-b2ce-fa417797acaf",
      "metadata": {
        "id": "5cc10283-b044-4f0c-b2ce-fa417797acaf",
        "outputId": "454df34a-73b1-44c7-ac7e-4df6aa2a0d6d"
      },
      "outputs": [
        {
          "name": "stdin",
          "output_type": "stream",
          "text": [
            "Enter a string:  ABC\n"
          ]
        },
        {
          "name": "stdout",
          "output_type": "stream",
          "text": [
            "All permutations of ABC:\n",
            "ABC\n",
            "ACB\n",
            "BAC\n",
            "BCA\n",
            "CAB\n",
            "CBA\n"
          ]
        }
      ],
      "source": [
        "def permutations(input_str):\n",
        "    # Base case: If the string hase only one character or is empty, return the string itself\n",
        "    if len(input_str) <= 1:\n",
        "        return [input_str]\n",
        "\n",
        "    # Recursive case: Generate permutations by fixing each character at the beginning\n",
        "    result = []\n",
        "    for i in range(len(input_str)):\n",
        "        first_char = input_str[i]\n",
        "        remaining_chars = input_str[:i] + input_str[i+1:]\n",
        "\n",
        "        # Recursive call to find permutations of the remaining characters\n",
        "        for perm in permutations(remaining_chars):\n",
        "            result.append(first_char + perm)\n",
        "\n",
        "    return result\n",
        "\n",
        "# Input: string for which permutations are to be found\n",
        "input_string = input(\"Enter a string: \")\n",
        "\n",
        "# Find and print all permutations using the recursive function\n",
        "result = permutations(input_string)\n",
        "print(f\"All permutations of {input_string}:\")\n",
        "for perm in result:\n",
        "    print(perm)"
      ]
    },
    {
      "cell_type": "markdown",
      "id": "13810245-1f67-4e1e-acf8-9e1e76b9bca7",
      "metadata": {
        "id": "13810245-1f67-4e1e-acf8-9e1e76b9bca7"
      },
      "source": [
        "10. Write a recursive Python function to check if a string is a palindrome.\n",
        "\n"
      ]
    },
    {
      "cell_type": "code",
      "execution_count": null,
      "id": "9623145a-64c5-4f99-b44e-40e748f74a48",
      "metadata": {
        "id": "9623145a-64c5-4f99-b44e-40e748f74a48",
        "outputId": "20bf6c95-5484-45e0-b424-014328a36823"
      },
      "outputs": [
        {
          "name": "stdin",
          "output_type": "stream",
          "text": [
            "Enter a string:  radar\n"
          ]
        },
        {
          "name": "stdout",
          "output_type": "stream",
          "text": [
            "radar is a palindrome.\n"
          ]
        }
      ],
      "source": [
        "def is_palindrome(input_str):\n",
        "    # Base case: If the string has one character or is empty, it is a palindrome\n",
        "    if len(input_str) <= 1:\n",
        "        return True\n",
        "\n",
        "    # Recursive case: Check if the first and last characters are equal and recrucively check the substring between the first and last characters.\n",
        "    return input_str[0] == input_str[-1] and is_palindrome(input_str[1:-1])\n",
        "\n",
        "# Input: String to check for palindrome\n",
        "input_string = input(\"Enter a string: \")\n",
        "\n",
        "# Check and print if the string is a palindrome using the recursive function\n",
        "if is_palindrome(input_string):\n",
        "    print(f\"{input_string} is a palindrome.\")\n",
        "else:\n",
        "    print(f\"{input_string} is not a palindrome.\")"
      ]
    },
    {
      "cell_type": "markdown",
      "id": "da6e54a3-3958-44d9-8d5b-e908c81561af",
      "metadata": {
        "id": "da6e54a3-3958-44d9-8d5b-e908c81561af"
      },
      "source": [
        "11. Create a recursive Python function to generate all possible combinations of a list of elements.\n"
      ]
    },
    {
      "cell_type": "code",
      "execution_count": null,
      "id": "74f594e3-94e6-40fd-ade6-b682604210d6",
      "metadata": {
        "id": "74f594e3-94e6-40fd-ade6-b682604210d6",
        "outputId": "20c5afd0-8f9c-4a2b-c291-7cb6dca10814"
      },
      "outputs": [
        {
          "name": "stdin",
          "output_type": "stream",
          "text": [
            "Enter a list of elements (comma-separated):  A, B, C\n"
          ]
        },
        {
          "name": "stdout",
          "output_type": "stream",
          "text": [
            "All possible combinations: [[], ['C'], ['B'], ['B', 'C'], ['A'], ['A', 'C'], ['A', 'B'], ['A', 'B', 'C']]\n"
          ]
        }
      ],
      "source": [
        "def generate_combinations(elements):\n",
        "    # Base case: If the list is empty, return an empty list\n",
        "    if not elements:\n",
        "        return [[]]\n",
        "\n",
        "    # Recursive case: Generate combinations by includingg or excluding the first element\n",
        "    first_element = elements[0]\n",
        "    remaining_elements = elements[1:]\n",
        "\n",
        "    # Recursive call to generate conbinations without the first element\n",
        "    combinations_without_first = generate_combinations(remaining_elements)\n",
        "\n",
        "    # Combine the results with and without the first element\n",
        "    combinations_with_first = [[first_element] + combo for combo in combinations_without_first]\n",
        "\n",
        "    # combine combinations with and without the first element\n",
        "    all_combinations = combinations_without_first + combinations_with_first\n",
        "\n",
        "    return all_combinations\n",
        "\n",
        "# Input: List of elements for which combinations are to be generated\n",
        "elements_list = input(\"Enter a list of elements (comma-separated): \").split(',')\n",
        "\n",
        "# Remove leading/trailing whitespaces from each element\n",
        "elements_list = [element.strip() for element in elements_list]\n",
        "\n",
        "# Generate and print all possible combinations using the recursive function\n",
        "result = generate_combinations(elements_list)\n",
        "print(f\"All possible combinations: {result}\")"
      ]
    },
    {
      "cell_type": "markdown",
      "id": "e4a4588c-9263-4130-be4c-7419d67ee636",
      "metadata": {
        "id": "e4a4588c-9263-4130-be4c-7419d67ee636"
      },
      "source": [
        "\n",
        "# Basics of Functions:\n",
        "\n"
      ]
    },
    {
      "cell_type": "markdown",
      "id": "de66c71c-1a8b-476d-badd-e6702da7bc72",
      "metadata": {
        "id": "de66c71c-1a8b-476d-badd-e6702da7bc72"
      },
      "source": [
        "1. What is a function in Python, and why is it used?\n"
      ]
    },
    {
      "cell_type": "markdown",
      "id": "5386f986-4a16-4d99-bdc4-80fdcb25de7a",
      "metadata": {
        "id": "5386f986-4a16-4d99-bdc4-80fdcb25de7a"
      },
      "source": [
        "In Python, a function is a named block of code that performs a specific task or set of tasks. Functions provide a way to organize and structure code into manageable and reusable units. In essence, a function is a self-contained and modular building block of a program.\n",
        "\n",
        "Here are key aspects of functions in Python:\n",
        "\n",
        "Function Definition:\n",
        "\n",
        "Functions are defined using the def keyword, followed by the function name, parameters (if any), a colon, and the function body.\n",
        "The function body is a block of code indented below the function definition.\n",
        "\n",
        "def my_function(parameter1, parameter2):\n",
        "    # Function body\n",
        "    # Code to perform a specific task\n",
        "    \n",
        "Function Call:\n",
        "\n",
        "Functions are executed by calling them with the function name followed by parentheses, and arguments (if any) enclosed within the parentheses.\n",
        "\n",
        "result = my_function(arg1, arg2)\n",
        "\n",
        "\n",
        "Parameters and Arguments:\n",
        "\n",
        "Parameters are variables specified in the function definition.\n",
        "Arguments are the actual values passed to the function when it is called.\n",
        "Return Statement:\n",
        "\n",
        "A function can optionally return a value using the return statement. The returned value can be assigned to a variable or used directly.\n",
        "\n",
        "def add_numbers(a, b):\n",
        "    return a + b\n",
        "\n",
        "result = add_numbers(3, 5)\n",
        "\n",
        "\n",
        "Code Reusability:\n",
        "\n",
        "Functions promote code reusability by encapsulating a specific functionality that can be used in different parts of a program.\n",
        "Instead of duplicating code, you define a function once and call it wherever needed.\n",
        "Modularity:\n",
        "\n",
        "Functions help break down a program into smaller, more manageable parts, making the code more modular and easier to understand.\n",
        "Each function can focus on a specific task, leading to more maintainable code.\n",
        "Abstraction:\n",
        "\n",
        "Functions provide a level of abstraction, allowing you to use a function without needing to know the details of its implementation.\n",
        "This makes it easier to work with complex programs."
      ]
    },
    {
      "cell_type": "markdown",
      "id": "c2c92a30-5880-4112-a5c3-935d462f4396",
      "metadata": {
        "id": "c2c92a30-5880-4112-a5c3-935d462f4396"
      },
      "source": [
        "2. How do you define a function in Python? Provide an example.\n"
      ]
    },
    {
      "cell_type": "markdown",
      "id": "495daf7a-17ed-48c7-9bdd-b8cb990aeaa6",
      "metadata": {
        "id": "495daf7a-17ed-48c7-9bdd-b8cb990aeaa6"
      },
      "source": [
        "In Python, you can define a function using the def keyword followed by the function name, a set of parentheses for parameters (if any), a colon, and the function body.\n",
        "\n",
        "Here's the basic syntax:\n",
        "\n",
        "def function_name(parameter1, parameter2, ...):\n",
        "    # Function body\n",
        "    # Code to perform a specific task\n",
        "    return result  # Optional: if the function returns a value\n",
        "\n",
        "Here's an example of a simple function that adds two numbers:"
      ]
    },
    {
      "cell_type": "code",
      "execution_count": null,
      "id": "a0c032a7-c2fe-4afc-93e1-4e95312ab1c3",
      "metadata": {
        "id": "a0c032a7-c2fe-4afc-93e1-4e95312ab1c3",
        "outputId": "680a357d-3c74-470b-d3ab-5f00d16c605d"
      },
      "outputs": [
        {
          "name": "stdout",
          "output_type": "stream",
          "text": [
            "The sum is: 8\n"
          ]
        }
      ],
      "source": [
        "def add_numbers(a, b):\n",
        "    # Function body: adding two numbers\n",
        "    result = a + b\n",
        "    return result  # Returning the result\n",
        "\n",
        "# Calling the function and storing the result in a variable\n",
        "sum_result = add_numbers(3, 5)\n",
        "\n",
        "# Printing the result\n",
        "print(\"The sum is:\", sum_result)\n"
      ]
    },
    {
      "cell_type": "markdown",
      "id": "af5984da-e136-4c7f-b395-c436bc37e4b5",
      "metadata": {
        "id": "af5984da-e136-4c7f-b395-c436bc37e4b5"
      },
      "source": [
        "3. Explain the difference between a function definition and a function call.\n"
      ]
    },
    {
      "cell_type": "markdown",
      "id": "0fc68afa-b45e-4143-aaf1-ba5d32fd6cd3",
      "metadata": {
        "id": "0fc68afa-b45e-4143-aaf1-ba5d32fd6cd3"
      },
      "source": [
        "Function Definition:\n",
        "\n",
        "A function definition is the process of creating and specifying the details of a function.\n",
        "It involves using the def keyword followed by the function name, parameters (if any), a colon, and the function body.\n",
        "The function body contains the code that defines what the function does when called.\n",
        "A function definition is a blueprint or template for the function's behavior.\n",
        "Example of a function definition:\n",
        "\n",
        "def add_numbers(a, b):\n",
        "    # Function body: adding two numbers\n",
        "    result = a + b\n",
        "    return result\n",
        "\n",
        "Function Call:\n",
        "\n",
        "A function call is the act of invoking or executing a function that has been previously defined.\n",
        "It involves using the function name followed by parentheses and passing any required arguments (values) inside the parentheses.\n",
        "When a function is called, the program executes the code within the function body based on the specified parameters.\n",
        "A function call is the actual usage of a function in a program.\n",
        "Example of a function call:\n",
        "    \n",
        "Calling the function and passing arguments\n",
        "sum_result = add_numbers(3, 5)\n",
        "\n",
        "\n",
        "    "
      ]
    },
    {
      "cell_type": "markdown",
      "id": "cf36fdae-9da0-4ba1-bcff-84744f2c3c2d",
      "metadata": {
        "id": "cf36fdae-9da0-4ba1-bcff-84744f2c3c2d"
      },
      "source": [
        "4. Write a Python program that defines a function to calculate the sum of two numbers and then calls the function.\n"
      ]
    },
    {
      "cell_type": "code",
      "execution_count": null,
      "id": "6a01d452-8dfd-4477-aa0b-efed05aad701",
      "metadata": {
        "id": "6a01d452-8dfd-4477-aa0b-efed05aad701",
        "outputId": "f7744938-b736-4b2d-b325-259d00693724"
      },
      "outputs": [
        {
          "name": "stdin",
          "output_type": "stream",
          "text": [
            "Enter the first number:  25\n",
            "Enter the second number:  95\n"
          ]
        },
        {
          "name": "stdout",
          "output_type": "stream",
          "text": [
            " The sum of 25.0 and 95.0 is: 120.0\n"
          ]
        }
      ],
      "source": [
        "# Function definition\n",
        "def calculate_sum(a, b):\n",
        "    result = a + b\n",
        "    return result\n",
        "\n",
        "# Input: Taking two numbers from the user\n",
        "num1 = float(input(\"Enter the first number: \"))\n",
        "num2 = float(input(\"Enter the second number: \"))\n",
        "\n",
        "# Function call\n",
        "sum_result = calculate_sum(num1, num2)\n",
        "\n",
        "# Output: Printing the result\n",
        "print(f\" The sum of {num1} and {num2} is: {sum_result}\")"
      ]
    },
    {
      "cell_type": "markdown",
      "id": "61baf733-b747-4ed3-9a48-b1fe79362ca5",
      "metadata": {
        "id": "61baf733-b747-4ed3-9a48-b1fe79362ca5"
      },
      "source": [
        "5. What is a function signature, and what information does it typically include?\n",
        "\n"
      ]
    },
    {
      "cell_type": "markdown",
      "id": "7f86818a-4967-49e5-a798-6b3e5613c5c2",
      "metadata": {
        "id": "7f86818a-4967-49e5-a798-6b3e5613c5c2"
      },
      "source": [
        "A function signature in programming refers to the declaration of a function, providing essential information about the function's interface without detailing its implementation. The function signature typically includes the following information:\n",
        "\n",
        "Function Name:\n",
        "\n",
        "The name that identifies the function. It serves as a unique identifier within the program.\n",
        "Example: calculate_sum in def calculate_sum(a, b):.\n",
        "\n",
        "Return Type:\n",
        "\n",
        "The data type of the value that the function returns, if any.\n",
        "Example: float in def calculate_sum(a, b) -> float: indicates that the function returns a floating-point number.\n",
        "\n",
        "Parameters (if any):\n",
        "\n",
        "The variables (or parameters) that the function accepts. These represent the input values required for the function to perform its task.\n",
        "Example: (a, b) in def calculate_sum(a, b): indicates that the function takes two parameters named a and b.\n",
        "\n",
        "Parameter Types (optional):\n",
        "\n",
        "Optionally, the data types of the parameters can be specified, providing additional information about the expected types.\n",
        "Example: (a: float, b: float) in def calculate_sum(a: float, b: float) -> float: specifies that a and b are expected to be of type float.\n",
        "\n",
        "Return Type Annotation (optional):\n",
        "\n",
        "An optional type annotation that indicates the expected data type of the return value. This is not enforced by the interpreter but serves as documentation.\n",
        "Example: -> float in def calculate_sum(a, b) -> float: indicates that the function is expected to return a float.\n",
        "\n",
        "Here's an example of a function signature incorporating these elements:\n",
        "def calculate_sum(a: float, b: float) -> float:\n",
        "    \"\"\"\n",
        "    Calculates the sum of two numbers.\n",
        "    \n",
        "    Parameters:\n",
        "    - a (float): The first number.\n",
        "    - b (float): The second number.\n",
        "    \n",
        "    Returns:\n",
        "    - float: The sum of a and b.\n",
        "    \"\"\"\n",
        "    result = a + b\n",
        "    return result\n",
        "\n",
        "In this example:\n",
        "\n",
        "Function Name: calculate_sum\n",
        "Parameters: a and b (with type annotations)\n",
        "Return Type: float (with a return type annotation)\n",
        "Documentation: A docstring providing additional information about the function.\n",
        "The function signature is crucial for understanding how to use a function correctly and what to expect in terms of input and output. It serves as a form of documentation and helps improve code readability and maintainability.\n",
        "\n",
        "\n",
        "\n"
      ]
    },
    {
      "cell_type": "markdown",
      "id": "cbf8b874-b7c8-4b84-9d89-583525a45c85",
      "metadata": {
        "id": "cbf8b874-b7c8-4b84-9d89-583525a45c85"
      },
      "source": [
        "6. Create a Python function that takes two arguments and returns their product.\n",
        "\n",
        "\n",
        "\n",
        "\n"
      ]
    },
    {
      "cell_type": "code",
      "execution_count": null,
      "id": "5c34eec4-a47f-44db-9874-3cf1b45d6da3",
      "metadata": {
        "id": "5c34eec4-a47f-44db-9874-3cf1b45d6da3",
        "outputId": "0abf1ce2-d4bc-4fc1-9d99-7898e4eab1b9"
      },
      "outputs": [
        {
          "name": "stdin",
          "output_type": "stream",
          "text": [
            "Enter the first number:  98\n",
            "Enter the second number:  48\n"
          ]
        },
        {
          "name": "stdout",
          "output_type": "stream",
          "text": [
            "The product of 98.0 and 48.0 is: 4704.0\n"
          ]
        }
      ],
      "source": [
        "def calculate_product(a, b):\n",
        "    \"\"\"\n",
        "    Calculates the product of two numbers.\n",
        "\n",
        "    Parameters:\n",
        "    - a: The first number.\n",
        "    - b: The second number.\n",
        "\n",
        "    Returns:\n",
        "    - The product of a and b.\n",
        "    \"\"\"\n",
        "    result = a * b\n",
        "    return result\n",
        "\n",
        "# Example of using the function\n",
        "num1 = float(input(\"Enter the first number: \"))\n",
        "num2 = float(input(\"Enter the second number: \"))\n",
        "\n",
        "# Calling the function and printing the result\n",
        "product_result = calculate_product(num1, num2)\n",
        "print(f\"The product of {num1} and {num2} is: {product_result}\")\n",
        "\n",
        "\n",
        "\n",
        "\n",
        "\n",
        "\n",
        "\n"
      ]
    },
    {
      "cell_type": "markdown",
      "id": "b2aa8540-29bf-402e-967c-642e6e42bcd7",
      "metadata": {
        "id": "b2aa8540-29bf-402e-967c-642e6e42bcd7"
      },
      "source": [
        "# Function Parameters and Arguments:"
      ]
    },
    {
      "cell_type": "markdown",
      "id": "e04bb0ca-6e2d-4dea-a7e0-06cc5181887b",
      "metadata": {
        "id": "e04bb0ca-6e2d-4dea-a7e0-06cc5181887b"
      },
      "source": [
        "1. Explain the concepts of formal parameters and actual arguments in Python functions.\n"
      ]
    },
    {
      "cell_type": "markdown",
      "id": "d315d1ad-1978-459b-bf06-ff74e3196d36",
      "metadata": {
        "id": "d315d1ad-1978-459b-bf06-ff74e3196d36"
      },
      "source": [
        "In Python functions, formal parameters and actual arguments are terms used to describe the variables involved in the definition and invocation of a function. Let's explore these concepts:\n",
        "\n",
        "1.Formal Parameters:\n",
        "\n",
        "Formal parameters are placeholders for the values that a function expects to receive when it is called.\n",
        "They are defined in the function signature as part of the function definition.\n",
        "Formal parameters act as variables within the function's body, representing the values provided during the function call.\n",
        "These parameters are essentially the names used to reference the input values within the function.\n",
        "\n",
        "Example:\n",
        "def add_numbers(x, y):\n",
        "    # x and y are formal parameters\n",
        "    result = x + y\n",
        "    return result\n",
        "\n",
        "2.Actual Arguments:\n",
        "\n",
        "Actual arguments, also known as arguments or parameters, are the real values passed to a function when it is called.\n",
        "They are provided in the function call and correspond to the formal parameters in the function definition.\n",
        "The values assigned to the formal parameters during the function call are the actual arguments.\n",
        "Actual arguments can take various forms, such as literals, variables, or expressions.\n",
        "\n",
        "Example:\n",
        " 3 and 5 are actual arguments\n",
        "sum_result = add_numbers(3, 5)\n",
        "\n",
        "In the example above, x and y in the function add_numbers are formal parameters. When calling the function with add_numbers(3, 5), the values 3 and 5 are actual arguments. During the function execution, x is assigned the value 3, and y is assigned the value 5.\n",
        "\n",
        "There are different types of actual arguments, including:\n",
        "\n",
        "Positional Arguments:\n",
        "add_numbers(3, 5)\n",
        "\n",
        "\n",
        "Keyword Arguments:\n",
        "add_numbers(x=3, y=5)\n",
        "\n",
        "Default Arguments:\n",
        "def add_numbers(x=0, y=0):\n",
        "  \n",
        "Variable-Length Arguments:\n",
        "def sum_all(*args):\n",
        "\n",
        "Understanding the distinction between formal parameters and actual arguments is crucial for writing functions that can be used flexibly with different inputs. It allows for the creation of reusable and versatile functions in Python.\n",
        "\n",
        "\n"
      ]
    },
    {
      "cell_type": "markdown",
      "id": "0545985c-ab01-4971-aa41-9956d5eb21ef",
      "metadata": {
        "id": "0545985c-ab01-4971-aa41-9956d5eb21ef"
      },
      "source": [
        "2. Write a Python program that defines a function with default argument values.\n"
      ]
    },
    {
      "cell_type": "code",
      "execution_count": null,
      "id": "3ddfa628-1863-414a-ab87-b694046af2d4",
      "metadata": {
        "id": "3ddfa628-1863-414a-ab87-b694046af2d4",
        "outputId": "30782ccf-ac0d-42b3-a8af-e7d93313f014"
      },
      "outputs": [
        {
          "name": "stdout",
          "output_type": "stream",
          "text": [
            "Hello, Guest!\n",
            "Good morning, Alice!\n"
          ]
        }
      ],
      "source": [
        "def greet(name=\"Guest\", greeting=\"Hello\"):\n",
        "    \"\"\"\n",
        "    Greers a person with a custom message.\n",
        "\n",
        "    Parameters:\n",
        "    - name (str): The name of the person (default is \"Guest\").\n",
        "    - greeting (str): The greeting message (default is \"Hello\").\n",
        "\n",
        "    Returns:\n",
        "    - str: The formatted greeting message.\n",
        "    \"\"\"\n",
        "    return f\"{greeting}, {name}!\"\n",
        "\n",
        "# Example of using the function with default values\n",
        "default_greeting = greet()\n",
        "print(default_greeting)\n",
        "\n",
        "# Example of using the function with custom values\n",
        "custom_greeting = greet(name = \"Alice\", greeting = \"Good morning\")\n",
        "print(custom_greeting)"
      ]
    },
    {
      "cell_type": "markdown",
      "id": "1a5ac3d0-5792-40fa-a1b4-722966dd9538",
      "metadata": {
        "id": "1a5ac3d0-5792-40fa-a1b4-722966dd9538"
      },
      "source": [
        "3. How do you use keyword arguments in Python function calls? Provide an example.\n",
        "\n"
      ]
    },
    {
      "cell_type": "markdown",
      "id": "d952d08d-fc26-4b57-b405-6992d59136df",
      "metadata": {
        "id": "d952d08d-fc26-4b57-b405-6992d59136df"
      },
      "source": [
        "In Python, keyword arguments allow you to specify arguments for a function by explicitly mentioning the parameter names along with their values in the function call. This provides clarity and flexibility, especially when dealing with functions that have multiple parameters.\n",
        "\n",
        "Let's look at an example:\n"
      ]
    },
    {
      "cell_type": "code",
      "execution_count": null,
      "id": "44702e85-cc02-427d-a3ef-aeb3ce3156ae",
      "metadata": {
        "id": "44702e85-cc02-427d-a3ef-aeb3ce3156ae",
        "outputId": "dc615223-57ad-46d5-ede2-d705f33dc5dc"
      },
      "outputs": [
        {
          "name": "stdout",
          "output_type": "stream",
          "text": [
            "Good morning, Alice!\n",
            "Hello, Bob!\n"
          ]
        }
      ],
      "source": [
        "def greet(name, greeting=\"Hello\"):\n",
        "    \"\"\"\n",
        "    Greets a person with a custom message.\n",
        "\n",
        "    Parameters:\n",
        "    - name (str): The name of the person.\n",
        "    - greeting (str): The greeting message (default is \"Hello\").\n",
        "\n",
        "    Returns:\n",
        "    - str: The formatted greeting message.\n",
        "    \"\"\"\n",
        "    return f\"{greeting}, {name}!\"\n",
        "\n",
        "# Example of using keyword arguments\n",
        "custom_greeting = greet(name=\"Alice\", greeting=\"Good morning\")\n",
        "print(custom_greeting)\n",
        "\n",
        "# Another example using the default value for greeting\n",
        "default_greeting = greet(name=\"Bob\")\n",
        "print(default_greeting)\n"
      ]
    },
    {
      "cell_type": "markdown",
      "id": "699cba6c-6cb3-4bbf-b61a-106dafa8d090",
      "metadata": {
        "id": "699cba6c-6cb3-4bbf-b61a-106dafa8d090"
      },
      "source": [
        "4. Create a Python function that accepts a variable number of arguments and calculates their sum.\n"
      ]
    },
    {
      "cell_type": "code",
      "execution_count": null,
      "id": "91524f3d-b97a-4b1d-9c9b-5f35c26fa604",
      "metadata": {
        "id": "91524f3d-b97a-4b1d-9c9b-5f35c26fa604",
        "outputId": "a926d876-e17e-4fcc-a2a2-8b4fb797b4b4"
      },
      "outputs": [
        {
          "name": "stdout",
          "output_type": "stream",
          "text": [
            "The sum is: 15\n"
          ]
        }
      ],
      "source": [
        "def calculate_sum(*args):\n",
        "    \"\"\"\n",
        "    Calculates the sum of a variable number of arguments.\n",
        "\n",
        "    Parameters:\n",
        "    - *args: Variable number of positional arguments.\n",
        "\n",
        "    Returns:\n",
        "    - int or float: The sum of the arguments.\n",
        "    \"\"\"\n",
        "    return sum(args)\n",
        "\n",
        "# Example of using the function\n",
        "result = calculate_sum(1, 2, 3, 4, 5)\n",
        "print(f\"The sum is: {result}\")"
      ]
    },
    {
      "cell_type": "markdown",
      "id": "50f7646f-64cc-46ac-9a62-d9a105f73d9f",
      "metadata": {
        "id": "50f7646f-64cc-46ac-9a62-d9a105f73d9f"
      },
      "source": [
        "5. What is the purpose of the `*args` and `**kwargs` syntax in function parameter lists?\n"
      ]
    },
    {
      "cell_type": "markdown",
      "id": "597d54ff-b9fc-43df-a8b8-56f19c2032d7",
      "metadata": {
        "id": "597d54ff-b9fc-43df-a8b8-56f19c2032d7"
      },
      "source": [
        "1.*args: Variable Number of Positional Arguments:\n",
        "\n",
        "The *args syntax allows a function to accept a variable number of positional arguments.\n",
        "It collects additional positional arguments passed to the function into a tuple.\n",
        "The term \"args\" is a convention, but the * symbol is what enables this functionality.\n",
        "\n",
        "Example:\n",
        "\n",
        "\n"
      ]
    },
    {
      "cell_type": "code",
      "execution_count": null,
      "id": "854bbf50-8d79-423e-9992-6ae03289185c",
      "metadata": {
        "id": "854bbf50-8d79-423e-9992-6ae03289185c",
        "outputId": "71a032eb-6cf5-4649-8250-c5bd8b7b56a6"
      },
      "outputs": [
        {
          "name": "stdout",
          "output_type": "stream",
          "text": [
            "1\n",
            "2\n",
            "3\n",
            "4\n",
            "5\n"
          ]
        }
      ],
      "source": [
        "def example_function(*args):\n",
        "    for arg in args:\n",
        "        print(arg)\n",
        "\n",
        "example_function(1, 2, 3, 4, 5)\n"
      ]
    },
    {
      "cell_type": "markdown",
      "id": "8c2e7337-2647-4855-b7bc-e103c61fbf3f",
      "metadata": {
        "id": "8c2e7337-2647-4855-b7bc-e103c61fbf3f"
      },
      "source": [
        "2.**kwargs: Variable Number of Keyword Arguments:\n",
        "\n",
        "The **kwargs syntax allows a function to accept a variable number of keyword arguments.\n",
        "It collects additional keyword arguments passed to the function into a dictionary.\n",
        "The term \"kwargs\" is a convention, and the ** symbol enables this functionality.\n",
        "\n",
        "Example:"
      ]
    },
    {
      "cell_type": "code",
      "execution_count": null,
      "id": "18a8e839-81ad-48cc-845f-6b1d5ef2752a",
      "metadata": {
        "id": "18a8e839-81ad-48cc-845f-6b1d5ef2752a",
        "outputId": "6e82fca3-10d0-4d5c-a8e5-cac23ce3419c"
      },
      "outputs": [
        {
          "name": "stdout",
          "output_type": "stream",
          "text": [
            "name: Alice\n",
            "age: 30\n",
            "city: Wonderland\n"
          ]
        }
      ],
      "source": [
        "def example_function(**kwargs):\n",
        "    for key, value in kwargs.items():\n",
        "        print(f\"{key}: {value}\")\n",
        "\n",
        "example_function(name=\"Alice\", age=30, city=\"Wonderland\")\n"
      ]
    },
    {
      "cell_type": "markdown",
      "id": "e53098ca-a132-42d3-a607-35d81ec8509d",
      "metadata": {
        "id": "e53098ca-a132-42d3-a607-35d81ec8509d"
      },
      "source": [
        "# Return Values and Scoping:\n"
      ]
    },
    {
      "cell_type": "markdown",
      "id": "485b956e-c0c8-4704-a108-3174e26c0756",
      "metadata": {
        "id": "485b956e-c0c8-4704-a108-3174e26c0756"
      },
      "source": [
        "1. Describe the role of the `return` statement in Python functions and provide examples.\n"
      ]
    },
    {
      "cell_type": "markdown",
      "id": "94941d48-87e5-43b5-8d98-3fc4165d7468",
      "metadata": {
        "id": "94941d48-87e5-43b5-8d98-3fc4165d7468"
      },
      "source": [
        "In Python, the return statement is used to specify the value or values that a function should return to the caller. When a function encounters a return statement, it immediately terminates, and the specified value is sent back to the point where the function was called. The return statement can also be used to indicate that a function should exit early, even if the end of the function code has not been reached.\n",
        "\n",
        "Here are the key points about the return statement:\n",
        "\n",
        "1.Returning a Value:\n",
        "\n",
        "The most common use of return is to send a value back to the caller.\n",
        "The returned value can be of any data type, including integers, floats, strings, lists, etc.\n",
        "\n",
        "Example:"
      ]
    },
    {
      "cell_type": "code",
      "execution_count": null,
      "id": "106d53ca-7b2b-4f91-b978-ad13a44d76c5",
      "metadata": {
        "id": "106d53ca-7b2b-4f91-b978-ad13a44d76c5",
        "outputId": "e85b9dbd-9ae3-4af5-a766-e37dd3fb348b"
      },
      "outputs": [
        {
          "name": "stdout",
          "output_type": "stream",
          "text": [
            "The sum is: 8\n"
          ]
        }
      ],
      "source": [
        "def add_numbers(a, b):\n",
        "    result = a + b\n",
        "    return result\n",
        "\n",
        "sum_result = add_numbers(3, 5)\n",
        "print(f\"The sum is: {sum_result}\")\n"
      ]
    },
    {
      "cell_type": "markdown",
      "id": "d2ec6012-b51a-4d3c-b2af-fef4c0cd673f",
      "metadata": {
        "id": "d2ec6012-b51a-4d3c-b2af-fef4c0cd673f"
      },
      "source": [
        "2.Exiting Early:\n",
        "\n",
        "The return statement can be used to exit a function early, before the end of the function code is reached.\n",
        "This is often used in conditional statements to handle special cases.\n",
        "\n",
        "Example:"
      ]
    },
    {
      "cell_type": "code",
      "execution_count": null,
      "id": "949083c0-3c57-4ea3-adec-6ecdeaa2a139",
      "metadata": {
        "id": "949083c0-3c57-4ea3-adec-6ecdeaa2a139"
      },
      "outputs": [],
      "source": [
        "def divide(a, b):\n",
        "    if b == 0:\n",
        "        print(\"Cannot divide by zero.\")\n",
        "        return  # Exit early if division by zero is attempted\n",
        "    result = a / b\n",
        "    return result\n"
      ]
    },
    {
      "cell_type": "markdown",
      "id": "dd47329b-2c51-433a-9513-946ba263b8a4",
      "metadata": {
        "id": "dd47329b-2c51-433a-9513-946ba263b8a4"
      },
      "source": [
        "3.Returning Multiple Values:\n",
        "\n",
        "A function can return multiple values by separating them with commas.\n",
        "The values are returned as a tuple.\n",
        "\n",
        "Example:"
      ]
    },
    {
      "cell_type": "code",
      "execution_count": null,
      "id": "9debd56f-33a0-4d37-b444-9ca5d34c46c4",
      "metadata": {
        "id": "9debd56f-33a0-4d37-b444-9ca5d34c46c4",
        "outputId": "88e51fd2-0ca0-404f-8846-e68a4254415e"
      },
      "outputs": [
        {
          "name": "stdout",
          "output_type": "stream",
          "text": [
            "Quotient: 3, Remainder: 1\n"
          ]
        }
      ],
      "source": [
        "def get_quotient_and_remainder(a, b):\n",
        "    quotient = a // b\n",
        "    remainder = a % b\n",
        "    return quotient, remainder\n",
        "\n",
        "result = get_quotient_and_remainder(10, 3)\n",
        "print(f\"Quotient: {result[0]}, Remainder: {result[1]}\")\n"
      ]
    },
    {
      "cell_type": "markdown",
      "id": "b53ef5c1-9060-4c21-9780-f5bf15225412",
      "metadata": {
        "id": "b53ef5c1-9060-4c21-9780-f5bf15225412"
      },
      "source": [
        "4.No Return Value (None):\n",
        "\n",
        "If a function does not explicitly include a return statement, it implicitly returns None.\n",
        "A function without a return statement is also considered to return None.\n",
        "\n",
        "Example:"
      ]
    },
    {
      "cell_type": "code",
      "execution_count": null,
      "id": "da393e0e-c018-4bb7-9d9e-f2e566b10fa5",
      "metadata": {
        "id": "da393e0e-c018-4bb7-9d9e-f2e566b10fa5",
        "outputId": "9f6a4e54-4d8b-411a-8a74-db789716f413"
      },
      "outputs": [
        {
          "name": "stdout",
          "output_type": "stream",
          "text": [
            "Hello, Alice!\n",
            "None\n"
          ]
        }
      ],
      "source": [
        "def greet(name):\n",
        "    print(f\"Hello, {name}!\")\n",
        "\n",
        "result = greet(\"Alice\")\n",
        "print(result)  # Output: None\n"
      ]
    },
    {
      "cell_type": "markdown",
      "id": "5213c4c4-5a19-4f15-93f1-38af60591c7c",
      "metadata": {
        "id": "5213c4c4-5a19-4f15-93f1-38af60591c7c"
      },
      "source": [
        "The return statement is crucial for functions to communicate results back to the calling code. It allows functions to be more modular, as their output can be used in different parts of a program. Understanding the role of return is fundamental when working with functions in Python."
      ]
    },
    {
      "cell_type": "markdown",
      "id": "c6d52be2-d642-4d33-aec6-34e62af32303",
      "metadata": {
        "id": "c6d52be2-d642-4d33-aec6-34e62af32303"
      },
      "source": [
        "2. Explain the concept of variable scope in Python, including local and global variables.\n"
      ]
    },
    {
      "cell_type": "markdown",
      "id": "dbb4a0b6-b3b2-4c32-a592-4f3db782b536",
      "metadata": {
        "id": "dbb4a0b6-b3b2-4c32-a592-4f3db782b536"
      },
      "source": [
        "In Python, variable scope refers to the region or context in a program where a variable can be accessed or modified. Understanding variable scope is crucial for writing code that behaves as expected and for avoiding unintended side effects. In Python, there are two main types of variable scope: local scope and global scope.\n",
        "\n",
        "1.Local Scope:\n",
        "\n",
        "A variable defined within a function is said to have a local scope.\n",
        "It is accessible only within the function where it is defined and cannot be directly accessed outside that function.\n",
        "The lifetime of a local variable is limited to the duration of the function call.\n",
        "\n",
        "Example:"
      ]
    },
    {
      "cell_type": "code",
      "execution_count": null,
      "id": "8ba5c952-e215-4973-90c9-8e0b6332bce7",
      "metadata": {
        "id": "8ba5c952-e215-4973-90c9-8e0b6332bce7",
        "outputId": "3e572bf2-73b9-4a54-d4d2-ba6f2a81fe09"
      },
      "outputs": [
        {
          "name": "stdout",
          "output_type": "stream",
          "text": [
            "I am local\n"
          ]
        }
      ],
      "source": [
        "def my_function():\n",
        "    local_variable = \"I am local\"\n",
        "    print(local_variable)\n",
        "\n",
        "my_function()\n",
        "# print(local_variable)  # This would result in an error\n"
      ]
    },
    {
      "cell_type": "markdown",
      "id": "baa10faf-2aac-4de8-af52-26dbb3f3d25d",
      "metadata": {
        "id": "baa10faf-2aac-4de8-af52-26dbb3f3d25d"
      },
      "source": [
        "2.Global Scope:\n",
        "\n",
        "A variable defined outside any function or block is said to have a global scope.\n",
        "It can be accessed and modified from any part of the program, both inside and outside functions.\n",
        "The lifetime of a global variable extends throughout the entire program.\n",
        "\n",
        "Example:"
      ]
    },
    {
      "cell_type": "code",
      "execution_count": null,
      "id": "d75228bd-3cce-4a07-9cd5-b2e1dc3b71ca",
      "metadata": {
        "id": "d75228bd-3cce-4a07-9cd5-b2e1dc3b71ca",
        "outputId": "da3fe0a9-5f2b-474c-a267-f05d78015b0a"
      },
      "outputs": [
        {
          "name": "stdout",
          "output_type": "stream",
          "text": [
            "I am global\n",
            "I am global\n"
          ]
        }
      ],
      "source": [
        "global_variable = \"I am global\"\n",
        "\n",
        "def my_function():\n",
        "    print(global_variable)\n",
        "\n",
        "my_function()\n",
        "print(global_variable)\n"
      ]
    },
    {
      "cell_type": "markdown",
      "id": "7f1db576-9ff4-4526-9f76-dde4830adac7",
      "metadata": {
        "id": "7f1db576-9ff4-4526-9f76-dde4830adac7"
      },
      "source": [
        "3.Scope Hierarchy:\n",
        "\n",
        "When a variable is referenced, Python searches for the variable in a specific order: local scope, then enclosing (non-local) scopes, and finally the global scope.\n",
        "If a variable is not found in the local scope, Python looks for it in enclosing scopes (e.g., if the function is defined within another function), and then in the global scope.\n",
        "If the variable is not found in any of these scopes, Python raises a NameError.\n",
        "\n",
        "Example:"
      ]
    },
    {
      "cell_type": "code",
      "execution_count": null,
      "id": "4ae5482e-f1f6-4c71-8704-a16edee39ef7",
      "metadata": {
        "id": "4ae5482e-f1f6-4c71-8704-a16edee39ef7",
        "outputId": "b6f505fa-a728-4ec9-ab96-f67bcdb6f975"
      },
      "outputs": [
        {
          "name": "stdout",
          "output_type": "stream",
          "text": [
            "I am in the outer function\n"
          ]
        }
      ],
      "source": [
        "global_variable = \"I am global\"\n",
        "\n",
        "def outer_function():\n",
        "    outer_variable = \"I am in the outer function\"\n",
        "\n",
        "    def inner_function():\n",
        "        print(outer_variable)  # Accessing outer_variable from the enclosing scope\n",
        "\n",
        "    inner_function()\n",
        "\n",
        "outer_function()\n"
      ]
    },
    {
      "cell_type": "markdown",
      "id": "c9794500-00c2-4073-897c-7591fe7d09d6",
      "metadata": {
        "id": "c9794500-00c2-4073-897c-7591fe7d09d6"
      },
      "source": [
        "4.Modifying Global Variables from within a Function:\n",
        "\n",
        "While global variables can be accessed from within a function, modifying them requires using the global keyword.\n",
        "\n",
        "Example:"
      ]
    },
    {
      "cell_type": "code",
      "execution_count": null,
      "id": "c92cbc2f-6d99-424a-9a87-e99ba5f6a6e7",
      "metadata": {
        "id": "c92cbc2f-6d99-424a-9a87-e99ba5f6a6e7",
        "outputId": "b0cecdb9-8a6a-4de1-f38d-0f53a1243a1a"
      },
      "outputs": [
        {
          "name": "stdout",
          "output_type": "stream",
          "text": [
            "I have been modified\n"
          ]
        }
      ],
      "source": [
        "global_variable = \"I am global\"\n",
        "\n",
        "def modify_global():\n",
        "    global global_variable  # Declare the intention to modify the global variable\n",
        "    global_variable = \"I have been modified\"\n",
        "\n",
        "modify_global()\n",
        "print(global_variable)\n"
      ]
    },
    {
      "cell_type": "markdown",
      "id": "59d24012-ad05-4e5f-a8fb-92037ad5cdf5",
      "metadata": {
        "id": "59d24012-ad05-4e5f-a8fb-92037ad5cdf5"
      },
      "source": [
        "In summary, local variables are confined to the function where they are defined, while global variables can be accessed and modified from anywhere in the program. When working with functions, it's important to be mindful of variable scope to avoid naming conflicts and ensure the correct values are used within the appropriate context."
      ]
    },
    {
      "cell_type": "markdown",
      "id": "262aceaf-7986-48b5-8c9c-90af2bfbab16",
      "metadata": {
        "id": "262aceaf-7986-48b5-8c9c-90af2bfbab16"
      },
      "source": [
        "3. Write a Python program that demonstrates the use of global variables within functions.\n"
      ]
    },
    {
      "cell_type": "code",
      "execution_count": null,
      "id": "30dee54e-5ba8-4729-929b-703b12bb3fae",
      "metadata": {
        "id": "30dee54e-5ba8-4729-929b-703b12bb3fae",
        "outputId": "c17f67f5-5571-4b3c-df09-b991a5ad0130"
      },
      "outputs": [
        {
          "name": "stdout",
          "output_type": "stream",
          "text": [
            "Before function calls: I am a global varibal\n",
            "Inside the function: I am a global varibal\n",
            "After modification: I have been modified\n"
          ]
        }
      ],
      "source": [
        "# Global varible\n",
        "global_variable = \"I am a global varibal\"\n",
        "\n",
        "def read_global_variable():\n",
        "    # Accessing the global variable within a function\n",
        "    print(\"Inside the function:\", global_variable)\n",
        "\n",
        "def modify_global_variable():\n",
        "    # Modifying the global variable within a function\n",
        "    global global_variable # Declare the intention to modify the global variable\n",
        "    global_variable = \"I have been modified\"\n",
        "\n",
        "# Display the global variable before function calls\n",
        "print(\"Before function calls:\", global_variable)\n",
        "\n",
        "# Call the function to read the global variable\n",
        "read_global_variable()\n",
        "\n",
        "# Call the function to modify the global variable\n",
        "modify_global_variable()\n",
        "\n",
        "# Display the global variable after modification\n",
        "print(\"After modification:\", global_variable)"
      ]
    },
    {
      "cell_type": "markdown",
      "id": "bf19febf-89be-42fb-8b46-f0e62285cf1b",
      "metadata": {
        "id": "bf19febf-89be-42fb-8b46-f0e62285cf1b"
      },
      "source": [
        "4. Create a Python function that calculates the factorial of a number and returns it.\n"
      ]
    },
    {
      "cell_type": "code",
      "execution_count": null,
      "id": "5c459e00-086e-4bde-8b75-1af615dbd120",
      "metadata": {
        "id": "5c459e00-086e-4bde-8b75-1af615dbd120",
        "outputId": "3238f935-c5e6-4edc-ff0b-1c8094443ccf"
      },
      "outputs": [
        {
          "name": "stdout",
          "output_type": "stream",
          "text": [
            "The factorial of 5 is: 120\n"
          ]
        }
      ],
      "source": [
        "def calculate_factorial(number):\n",
        "    \"\"\"\n",
        "    Calculates the factorial of a non-negative integer.\n",
        "\n",
        "    Parameters:\n",
        "    - number (int): The non-negative integer for which to calculate the factorial.\n",
        "\n",
        "    Returns:\n",
        "    - int: The factorial of the input number.\n",
        "    \"\"\"\n",
        "    # Base case: Factorial of 0 is 1\n",
        "    if number == 0:\n",
        "        return 1\n",
        "    else:\n",
        "        # Recursive case: n! = n * (n-1)!\n",
        "        return number * calculate_factorial(number - 1)\n",
        "\n",
        "# Example of using the function\n",
        "input_number = 5\n",
        "factorial_result = calculate_factorial(input_number)\n",
        "\n",
        "print(f\"The factorial of {input_number} is: {factorial_result}\")\n"
      ]
    },
    {
      "cell_type": "markdown",
      "id": "d36eaaf3-e077-43d7-9230-fd45ecca916a",
      "metadata": {
        "id": "d36eaaf3-e077-43d7-9230-fd45ecca916a"
      },
      "source": [
        "5. How can you access variables defined outside a function from within the function?\n"
      ]
    },
    {
      "cell_type": "markdown",
      "id": "c55f7290-cd5c-404a-86ec-bb36b369a97f",
      "metadata": {
        "id": "c55f7290-cd5c-404a-86ec-bb36b369a97f"
      },
      "source": [
        "1.Local Scope:\n",
        "\n",
        "Variables defined within a function have local scope and are only accessible within that function.\n",
        "If a variable with the same name exists in both the local and global scopes, the local variable takes precedence within the function.\n",
        "\n",
        "2.Enclosing (Non-Local) Scope:\n",
        "\n",
        "If a function is defined within another function, the inner function can access variables from the outer (enclosing) function's scope.\n",
        "The inner function can use these variables directly, and any changes made to them will affect the variables in the outer function.\n",
        "\n",
        "3.Global Scope:\n",
        "\n",
        "Variables defined outside all functions have global scope and can be accessed from any part of the program, including within functions.\n",
        "\n",
        "Here's an example to illustrate accessing variables from various scopes:"
      ]
    },
    {
      "cell_type": "code",
      "execution_count": null,
      "id": "54e62a5b-169a-4dc0-a07f-7061cce08ead",
      "metadata": {
        "id": "54e62a5b-169a-4dc0-a07f-7061cce08ead",
        "outputId": "aff37b93-c15b-463d-acf0-3bce1475f802"
      },
      "outputs": [
        {
          "name": "stdout",
          "output_type": "stream",
          "text": [
            "Inside inner function:\n",
            "I am in the outer function\n",
            "I am a global variable\n",
            "Outside functions:\n",
            "I am a global variable\n"
          ]
        }
      ],
      "source": [
        "# Global variable\n",
        "global_variable = \"I am a global variable\"\n",
        "\n",
        "def outer_function():\n",
        "    # Enclosing (non-local) variable\n",
        "    enclosing_variable = \"I am in the outer function\"\n",
        "\n",
        "    def inner_function():\n",
        "        # Accessing variables from the outer (enclosing) and global scopes\n",
        "        print(\"Inside inner function:\")\n",
        "        print(enclosing_variable)\n",
        "        print(global_variable)\n",
        "\n",
        "    # Call the inner function\n",
        "    inner_function()\n",
        "\n",
        "# Call the outer function\n",
        "outer_function()\n",
        "\n",
        "# Accessing global variable directly\n",
        "print(\"Outside functions:\")\n",
        "print(global_variable)\n"
      ]
    },
    {
      "cell_type": "markdown",
      "id": "21e44e64-4599-4a54-b3b2-3ad591459e69",
      "metadata": {
        "id": "21e44e64-4599-4a54-b3b2-3ad591459e69"
      },
      "source": [
        "# Lambda Functions and Higher-Order Functions:\n"
      ]
    },
    {
      "cell_type": "markdown",
      "id": "0f3ad8ee-ac24-467a-aaf2-18f5483702cb",
      "metadata": {
        "id": "0f3ad8ee-ac24-467a-aaf2-18f5483702cb"
      },
      "source": [
        "1. What are lambda functions in Python, and when are they typically used?\n"
      ]
    },
    {
      "cell_type": "markdown",
      "id": "24e3823b-ff94-4e5e-8bad-3a71f6f040ab",
      "metadata": {
        "id": "24e3823b-ff94-4e5e-8bad-3a71f6f040ab"
      },
      "source": [
        "In Python, a lambda function, also known as an anonymous function or a lambda expression, is a concise way to create small, unnamed functions. Lambda functions are defined using the lambda keyword, and they can take any number of arguments but can only have one expression. The result of the expression is implicitly returned from the lambda function.\n",
        "\n",
        "The general syntax of a lambda function is as follows:\n",
        "\n",
        "lambda arguments: expression\n",
        "\n",
        "Lambda functions are typically used in situations where a small function is needed for a short duration and creating a full function using the def keyword would be overly verbose. They are commonly employed in functional programming constructs like map(), filter(), and sorted(), where a simple function is required as an argument.\n",
        "\n",
        "Here are some key points about lambda functions:\n",
        "\n",
        "1.Anonymous Functions:\n",
        "\n",
        "Lambda functions are anonymous because they don't have a name like regular functions defined using def.\n",
        "They are often used for short-lived operations where the creation of a full function is unnecessary.\n",
        "\n",
        "2.Single Expression:\n",
        "\n",
        "Lambda functions are limited to a single expression, which is evaluated and returned.\n",
        "The lack of statements and multiple expressions makes lambda functions concise.\n",
        "\n",
        "3.Use of lambda:\n",
        "\n",
        "The lambda keyword is used to define a lambda function.\n",
        "The syntax includes the list of arguments, a colon, and the expression to be evaluated.\n",
        "\n",
        "4.Example:\n",
        "add = lambda x, y: x + y\n",
        "print(add(2, 3))  # Output: 5\n",
        "\n",
        "In this example, a lambda function add takes two arguments x and y and returns their sum.\n",
        "\n",
        "5.Common Use Cases:\n",
        "\n",
        "Lambda functions are often used in functional programming constructs like map(), filter(), and sorted().\n",
        "They are useful for defining quick, throwaway functions without the need for a full function definition.\n",
        "\n",
        "6.Functional Programming:\n",
        "\n",
        "Lambda functions align with the principles of functional programming, where functions are treated as first-class citizens and can be passed around as arguments.\n",
        "\n",
        "Example using map() with a lambda function:\n",
        "\n",
        "\n"
      ]
    },
    {
      "cell_type": "code",
      "execution_count": null,
      "id": "ed9ff155-cebe-4ee1-96b5-b45ae4ea0587",
      "metadata": {
        "id": "ed9ff155-cebe-4ee1-96b5-b45ae4ea0587",
        "outputId": "482a9a87-0187-4007-b28c-611f6a8e7f1f"
      },
      "outputs": [
        {
          "name": "stdout",
          "output_type": "stream",
          "text": [
            "[1, 4, 9, 16, 25]\n"
          ]
        }
      ],
      "source": [
        "numbers = [1, 2, 3, 4, 5]\n",
        "squared = list(map(lambda x: x**2, numbers))\n",
        "print(squared)  # Output: [1, 4, 9, 16, 25]\n"
      ]
    },
    {
      "cell_type": "markdown",
      "id": "abe28d3e-11e4-456b-956c-fc64b305fa95",
      "metadata": {
        "id": "abe28d3e-11e4-456b-956c-fc64b305fa95"
      },
      "source": [
        "2. Write a Python program that uses lambda functions to sort a list of tuples based on the second element.\n"
      ]
    },
    {
      "cell_type": "code",
      "execution_count": null,
      "id": "19380495-448d-43f7-b30f-7dddedcbebe1",
      "metadata": {
        "id": "19380495-448d-43f7-b30f-7dddedcbebe1",
        "outputId": "4473c463-f640-467a-8ce8-0236abe0af47"
      },
      "outputs": [
        {
          "name": "stdout",
          "output_type": "stream",
          "text": [
            "Sorted list of tuples based on the second element:\n",
            "[(4, 1), (3, 2), (1, 5), (5, 7), (2, 8)]\n"
          ]
        }
      ],
      "source": [
        "# List of tuples\n",
        "tuples_list = [(1, 5), (3, 2), (2, 8), (4, 1), (5, 7)]\n",
        "\n",
        "# Sorting the list of tuples based on the second element\n",
        "sorted_tuples = sorted(tuples_list, key=lambda x: x[1])\n",
        "\n",
        "# Display the sorted list\n",
        "print(\"Sorted list of tuples based on the second element:\")\n",
        "print(sorted_tuples)\n"
      ]
    },
    {
      "cell_type": "markdown",
      "id": "047de4da-2550-4167-ae6b-d2b445793e69",
      "metadata": {
        "id": "047de4da-2550-4167-ae6b-d2b445793e69"
      },
      "source": [
        "3. Explain the concept of higher-order functions in Python, and provide an example.\n"
      ]
    },
    {
      "cell_type": "markdown",
      "id": "5a151c25-b8e1-422e-abbf-b07d327320cf",
      "metadata": {
        "id": "5a151c25-b8e1-422e-abbf-b07d327320cf"
      },
      "source": [
        "In Python, a higher-order function is a function that can take one or more functions as arguments or can return a function as its result. Essentially, it treats functions as first-class citizens, allowing them to be manipulated and used in the same way as other data types, such as integers or strings. Higher-order functions play a crucial role in functional programming, enabling more flexible and modular code.\n",
        "\n",
        "Here are the key concepts related to higher-order functions:\n",
        "\n",
        "1.Functions as Arguments:\n",
        "\n",
        "Higher-order functions can accept other functions as arguments.\n",
        "This allows the passing of behavior or functionality as a parameter.\n",
        "\n",
        "2.Functions as Return Values:\n",
        "\n",
        "Higher-order functions can return functions as their results.\n",
        "This enables the creation of functions on-the-fly or the generation of specialized functions.\n",
        "\n",
        "3.Example:"
      ]
    },
    {
      "cell_type": "code",
      "execution_count": null,
      "id": "051927a5-d6b9-462e-b3fd-41828272d8d5",
      "metadata": {
        "id": "051927a5-d6b9-462e-b3fd-41828272d8d5",
        "outputId": "e46764b7-c8a1-4482-b2f7-86b12c3d56bd"
      },
      "outputs": [
        {
          "name": "stdout",
          "output_type": "stream",
          "text": [
            "Original numbers: [1, 2, 3, 4, 5]\n",
            "Squared numbers: [1, 4, 9, 16, 25]\n"
          ]
        }
      ],
      "source": [
        "def operate_on_numbers(numbers, operation):\n",
        "    \"\"\"\n",
        "    Applies the specified operation to each number in the list.\n",
        "\n",
        "    Parameters:\n",
        "    - numbers (list): List of numbers.\n",
        "    - operation (function): A function that takes a number as input and performs an operation.\n",
        "\n",
        "    Returns:\n",
        "    - list: List of results after applying the operation to each number.\n",
        "    \"\"\"\n",
        "    result = []\n",
        "    for number in numbers:\n",
        "        result.append(operation(number))\n",
        "    return result\n",
        "\n",
        "# Example usage: Using a higher-order function to square each number in a list\n",
        "numbers_list = [1, 2, 3, 4, 5]\n",
        "squared_numbers = operate_on_numbers(numbers_list, lambda x: x**2)\n",
        "\n",
        "print(\"Original numbers:\", numbers_list)\n",
        "print(\"Squared numbers:\", squared_numbers)\n"
      ]
    },
    {
      "cell_type": "markdown",
      "id": "24ec8e1b-1871-46c4-a062-f7a60b95e41a",
      "metadata": {
        "id": "24ec8e1b-1871-46c4-a062-f7a60b95e41a"
      },
      "source": [
        "4. Create a Python function that takes a list of numbers and a function as arguments, applying the function to each element in the list.\n",
        "\n"
      ]
    },
    {
      "cell_type": "code",
      "execution_count": null,
      "id": "de9b0385-a57d-4e51-97fd-5840effc64f3",
      "metadata": {
        "id": "de9b0385-a57d-4e51-97fd-5840effc64f3",
        "outputId": "f997bdff-6ea3-4cd3-bd0c-fa6f8bd98a7b"
      },
      "outputs": [
        {
          "name": "stdout",
          "output_type": "stream",
          "text": [
            "Original numbers: [1, 2, 3, 4, 5]\n",
            "Squared numbers: [1, 4, 9, 16, 25]\n"
          ]
        }
      ],
      "source": [
        "def apply_function_to_list(numbers, custom_function):\n",
        "    \"\"\"\n",
        "    Applies the specified function to each element in the list.\n",
        "\n",
        "    Parameters:\n",
        "    - numbers (list): List of numbers.\n",
        "    - custom_function (function): A function that takes a number as input and performs an operation.\n",
        "\n",
        "    Returns:\n",
        "    - list: List of results after applying the function to each element.\n",
        "    \"\"\"\n",
        "    result = [custom_function(number) for number in numbers]\n",
        "    return result\n",
        "\n",
        "# Example usage: Using the function to square each number in a list\n",
        "numbers_list = [1, 2, 3, 4, 5]\n",
        "squared_numbers = apply_function_to_list(numbers_list, lambda x: x**2)\n",
        "\n",
        "print(\"Original numbers:\", numbers_list)\n",
        "print(\"Squared numbers:\", squared_numbers)\n"
      ]
    },
    {
      "cell_type": "markdown",
      "id": "6f9b61e4-5b00-4641-80de-bccfb479bde1",
      "metadata": {
        "id": "6f9b61e4-5b00-4641-80de-bccfb479bde1"
      },
      "source": [
        "# Built-in Functions:"
      ]
    },
    {
      "cell_type": "markdown",
      "id": "8b242dc6-f085-4053-afd0-53f6fffd7284",
      "metadata": {
        "id": "8b242dc6-f085-4053-afd0-53f6fffd7284"
      },
      "source": [
        "1. Describe the role of built-in functions like `len()`, `max()`, and `min()` in Python.\n"
      ]
    },
    {
      "cell_type": "markdown",
      "id": "5b2ed675-bc16-4110-89d5-a6deb7f18f9b",
      "metadata": {
        "id": "5b2ed675-bc16-4110-89d5-a6deb7f18f9b"
      },
      "source": [
        "Built-in functions like len(), max(), and min() in Python serve specific roles related to common operations on data structures and values. These functions are part of the Python standard library and are readily available for use without the need for explicit import statements. Here's a brief overview of each function:\n",
        "\n",
        "1.len():\n",
        "\n",
        "Role: Calculates the length or the number of items in an iterable (such as a string, list, tuple, or dictionary).\n",
        "\n",
        "Usage:  "
      ]
    },
    {
      "cell_type": "code",
      "execution_count": null,
      "id": "f05e6ddc-aca3-488a-8ad1-ca8d69799b54",
      "metadata": {
        "id": "f05e6ddc-aca3-488a-8ad1-ca8d69799b54",
        "outputId": "bb1e434c-0a36-4533-be13-d15f7df6652e"
      },
      "outputs": [
        {
          "name": "stdout",
          "output_type": "stream",
          "text": [
            "5\n"
          ]
        }
      ],
      "source": [
        "my_list = [1, 2, 3, 4, 5]\n",
        "length_of_list = len(my_list)\n",
        "print(length_of_list)  # Output: 5\n"
      ]
    },
    {
      "cell_type": "markdown",
      "id": "77d6451b-7e3f-44c8-945d-b4c44e5043ac",
      "metadata": {
        "id": "77d6451b-7e3f-44c8-945d-b4c44e5043ac"
      },
      "source": [
        "2.max():\n",
        "\n",
        "Role: Returns the maximum value from a collection (e.g., a list or tuple) or the maximum of two or more arguments.\n",
        "\n",
        "Usage:"
      ]
    },
    {
      "cell_type": "code",
      "execution_count": null,
      "id": "96e1a63e-7eca-49ab-94b9-7d6f445e86ae",
      "metadata": {
        "id": "96e1a63e-7eca-49ab-94b9-7d6f445e86ae",
        "outputId": "6e5c41bc-64f3-4d89-af5e-64b3e8ca0060"
      },
      "outputs": [
        {
          "name": "stdout",
          "output_type": "stream",
          "text": [
            "8\n"
          ]
        }
      ],
      "source": [
        "my_numbers = [5, 2, 8, 1, 7]\n",
        "maximum_value = max(my_numbers)\n",
        "print(maximum_value)  # Output: 8\n"
      ]
    },
    {
      "cell_type": "markdown",
      "id": "4b2de407-5b01-4871-b8ad-77965e3c6834",
      "metadata": {
        "id": "4b2de407-5b01-4871-b8ad-77965e3c6834"
      },
      "source": [
        "3.min():\n",
        "\n",
        "Role: Returns the minimum value from a collection or the minimum of two or more arguments.\n",
        "\n",
        "Usage:"
      ]
    },
    {
      "cell_type": "code",
      "execution_count": null,
      "id": "02f70419-d708-49c5-8297-cd73f7a59d65",
      "metadata": {
        "id": "02f70419-d708-49c5-8297-cd73f7a59d65",
        "outputId": "865cfb49-75bb-4c82-d8ce-5a565b152651"
      },
      "outputs": [
        {
          "name": "stdout",
          "output_type": "stream",
          "text": [
            "1\n"
          ]
        }
      ],
      "source": [
        "my_numbers = [5, 2, 8, 1, 7]\n",
        "minimum_value = min(my_numbers)\n",
        "print(minimum_value)  # Output: 1\n"
      ]
    },
    {
      "cell_type": "markdown",
      "id": "86b78256-903d-46e4-9b51-6989d37c1821",
      "metadata": {
        "id": "86b78256-903d-46e4-9b51-6989d37c1821"
      },
      "source": [
        "These functions simplify common operations and are widely used in various scenarios:\n",
        "\n",
        "Data Analysis: len() is used to determine the size of datasets, while max() and min() help identify extreme values.\n",
        "Iteration: len() is useful for determining the number of iterations in a loop.\n",
        "String Manipulation: len() is used to find the length of strings, while max() and min() can identify characters based on ASCII values.\n",
        "Algorithmic Operations: max() and min() are crucial for finding maximum and minimum values in lists, respectively."
      ]
    },
    {
      "cell_type": "markdown",
      "id": "4cfc4f00-3c55-4183-b1f7-790c6c438245",
      "metadata": {
        "id": "4cfc4f00-3c55-4183-b1f7-790c6c438245"
      },
      "source": [
        "2. Write a Python program that uses the `map()` function to apply a function to each element of a list."
      ]
    },
    {
      "cell_type": "code",
      "execution_count": null,
      "id": "07229018-3890-444f-9d23-f9fef29c3506",
      "metadata": {
        "id": "07229018-3890-444f-9d23-f9fef29c3506",
        "outputId": "695bdd02-1f88-4f70-9b4a-f324370be037"
      },
      "outputs": [
        {
          "name": "stdout",
          "output_type": "stream",
          "text": [
            "Original numbers: [1, 2, 3, 4, 5]\n",
            "Squared numbers: [1, 4, 9, 16, 25]\n"
          ]
        }
      ],
      "source": [
        "# Function to square a number\n",
        "def square(x):\n",
        "    return x ** 2\n",
        "\n",
        "# List of numbers\n",
        "numbers = [1, 2, 3, 4, 5]\n",
        "\n",
        "# Using map() to apply the square function to each element in the list\n",
        "squared_numbers = list(map(square, numbers))\n",
        "\n",
        "# Display the original and squared numbers\n",
        "print(\"Original numbers:\", numbers)\n",
        "print(\"Squared numbers:\", squared_numbers)\n"
      ]
    },
    {
      "cell_type": "markdown",
      "id": "445c5850-7d62-4c23-8640-4f3156621520",
      "metadata": {
        "id": "445c5850-7d62-4c23-8640-4f3156621520"
      },
      "source": [
        "3. How does the `filter()` function work in Python, and when would you use it?\n"
      ]
    },
    {
      "cell_type": "markdown",
      "id": "759020fa-7534-44d3-b486-ea4edf042db7",
      "metadata": {
        "id": "759020fa-7534-44d3-b486-ea4edf042db7"
      },
      "source": [
        "In Python, the filter() function is used to construct an iterator from elements of an iterable for which a function returns true. It filters elements based on whether they satisfy a specified condition.\n",
        "\n",
        "The general syntax of the filter() function is:\n",
        "    filter(function, iterable)\n",
        "\n",
        "function: A function that tests whether each element of an iterable returns true or false. If None, it simply returns the elements of the iterable that are true.\n",
        "iterable: An iterable (e.g., a list, tuple, or string) whose elements are tested by the function.\n",
        "The filter() function returns an iterator containing only the elements from the original iterable that satisfy the specified condition.\n",
        "\n",
        "Here's a simple example to illustrate how filter() works:   "
      ]
    },
    {
      "cell_type": "code",
      "execution_count": null,
      "id": "a1e1f79d-e5ff-4e0a-b4b2-b0ac3347ccb5",
      "metadata": {
        "id": "a1e1f79d-e5ff-4e0a-b4b2-b0ac3347ccb5",
        "outputId": "d5520be7-38a4-4bcf-e80e-f105c092b4e0"
      },
      "outputs": [
        {
          "name": "stdout",
          "output_type": "stream",
          "text": [
            "Original numbers: [1, 2, 3, 4, 5, 6, 7, 8, 9, 10]\n",
            "Even numbers: [2, 4, 6, 8, 10]\n"
          ]
        }
      ],
      "source": [
        "# Function to filter even numbers\n",
        "def is_even(num):\n",
        "    return num % 2 == 0\n",
        "\n",
        "# List of numbers\n",
        "numbers = [1, 2, 3, 4, 5, 6, 7, 8, 9, 10]\n",
        "\n",
        "# Use filter() to get only even numbers\n",
        "even_numbers = filter(is_even, numbers)\n",
        "\n",
        "# Convert the result to a list and display\n",
        "print(\"Original numbers:\", numbers)\n",
        "print(\"Even numbers:\", list(even_numbers))\n"
      ]
    },
    {
      "cell_type": "markdown",
      "id": "dc27fb47-ff5e-4ff6-b887-cac55dc95bb9",
      "metadata": {
        "id": "dc27fb47-ff5e-4ff6-b887-cac55dc95bb9"
      },
      "source": [
        "4. Create a Python program that uses the `reduce()` function to find the product of all elements in a list.\n"
      ]
    },
    {
      "cell_type": "code",
      "execution_count": null,
      "id": "5fa315e8-c57a-4161-be33-68dd8166eb76",
      "metadata": {
        "id": "5fa315e8-c57a-4161-be33-68dd8166eb76",
        "outputId": "abd64582-0b22-48f4-cab5-23e9f01187a9"
      },
      "outputs": [
        {
          "name": "stdout",
          "output_type": "stream",
          "text": [
            "Original numbers: [1, 2, 3, 4, 5]\n",
            "Product of all elements: 120\n"
          ]
        }
      ],
      "source": [
        "from functools import reduce\n",
        "\n",
        "# Function to calculate the product of two numbers\n",
        "def multiply(x, y):\n",
        "    return x * y\n",
        "\n",
        "# List of numbers\n",
        "numbers = [1, 2, 3, 4, 5]\n",
        "\n",
        "# Use reduce() to find the product of all elements in the list\n",
        "product = reduce(multiply, numbers)\n",
        "\n",
        "# Display the original list and the product\n",
        "print(\"Original numbers:\", numbers)\n",
        "print(\"Product of all elements:\", product)\n"
      ]
    },
    {
      "cell_type": "markdown",
      "id": "faf4f07f-9acd-48e0-a7c5-210385fa6b4f",
      "metadata": {
        "id": "faf4f07f-9acd-48e0-a7c5-210385fa6b4f"
      },
      "source": [
        "# Function Documentation and Best Practices:\n"
      ]
    },
    {
      "cell_type": "markdown",
      "id": "84a3a06d-96bb-4a66-b1b4-ddd1a54fc7d5",
      "metadata": {
        "id": "84a3a06d-96bb-4a66-b1b4-ddd1a54fc7d5"
      },
      "source": [
        "1. Explain the purpose of docstrings in Python functions and how to write them.\n"
      ]
    },
    {
      "cell_type": "markdown",
      "id": "603dc4fa-6a3b-44c4-9a9c-66a49cdae671",
      "metadata": {
        "id": "603dc4fa-6a3b-44c4-9a9c-66a49cdae671"
      },
      "source": [
        "\n",
        "Docstrings, or documentation strings, in Python serve the purpose of providing documentation for functions, modules, classes, and methods. They are a form of inline documentation that describes the purpose, usage, and behavior of the code they document. Properly written docstrings are essential for creating self-explanatory and maintainable code. They are also used by tools like Sphinx to generate documentation.\n",
        "\n",
        "Here are key points about the purpose of docstrings and how to write them:\n",
        "\n",
        "1.Documentation Purpose:\n",
        "\n",
        "Docstrings serve as human-readable documentation for code elements.\n",
        "They provide information about what a function, module, class, or method does, as well as details about its parameters, return values, and usage.\n",
        "\n",
        "2.Writing Format:\n",
        "\n",
        "Docstrings are written as triple-quoted strings (either single or double quotes) immediately following the definition of a function, module, class, or method.\n",
        "The triple-quoted string can span multiple lines for detailed documentation.\n",
        "\n",
        "3.Location:\n",
        "\n",
        "For functions, docstrings are typically placed immediately below the function definition.\n",
        "For modules, classes, and methods, docstrings are placed at the beginning of the respective block.\n",
        "\n",
        "4.Content:\n",
        "\n",
        "A good docstring typically includes a brief description of the purpose, followed by more detailed information about parameters, return values, and usage examples.\n",
        "It may also include information about any exceptions raised and additional notes.\n",
        "\n",
        "5.Example:"
      ]
    },
    {
      "cell_type": "code",
      "execution_count": null,
      "id": "7f2161d1-d769-4001-a051-44f921d42932",
      "metadata": {
        "id": "7f2161d1-d769-4001-a051-44f921d42932"
      },
      "outputs": [],
      "source": [
        "def add_numbers(a, b):\n",
        "    \"\"\"\n",
        "    Adds two numbers together.\n",
        "\n",
        "    Parameters:\n",
        "    - a (int): The first number.\n",
        "    - b (int): The second number.\n",
        "\n",
        "    Returns:\n",
        "    - int: The sum of the two numbers.\n",
        "    \"\"\"\n",
        "    return a + b\n"
      ]
    },
    {
      "cell_type": "markdown",
      "id": "3818c257-6470-42a0-af93-5d94265a0a9b",
      "metadata": {
        "id": "3818c257-6470-42a0-af93-5d94265a0a9b"
      },
      "source": [
        "6.Accessing Docstrings:\n",
        "\n",
        "You can access the docstring of a function or module using the .__doc__ attribute.\n",
        "For example: print(add_numbers.__doc__)\n",
        "\n",
        "7.Tools and Conventions:\n",
        "\n",
        "Following certain conventions, such as those outlined in PEP 257, helps maintain consistency in docstring writing.\n",
        "Tools like Sphinx can automatically generate documentation based on well-formatted docstrings.\n"
      ]
    },
    {
      "cell_type": "markdown",
      "id": "a9a1bb31-c3b7-4bfb-a560-5ec290a70e6e",
      "metadata": {
        "id": "a9a1bb31-c3b7-4bfb-a560-5ec290a70e6e"
      },
      "source": [
        "2. Describe some best practices for naming functions and variables in Python, including naming conventions and guidelines.\n"
      ]
    },
    {
      "cell_type": "markdown",
      "id": "d8a196f4-1d2e-4f92-8cae-ba15c803f027",
      "metadata": {
        "id": "d8a196f4-1d2e-4f92-8cae-ba15c803f027"
      },
      "source": [
        "aming conventions and guidelines in Python are important for writing clean, readable, and maintainable code. Consistent and meaningful names make it easier for you and others to understand the purpose and functionality of functions and variables. Here are some best practices for naming functions and variables in Python:\n",
        "\n",
        "Functions:\n",
        "1.Use Descriptive Names:\n",
        "\n",
        "Choose names that clearly and concisely convey the purpose of the function.\n",
        "Avoid single-letter or overly abbreviated names unless they are widely understood, like i for an iterator.\n",
        "\n",
        "2.Follow Snake Case:\n",
        "\n",
        "Use lowercase letters with underscores to separate words (snake_case).\n",
        "Example: calculate_total_cost, validate_input.\n",
        "\n",
        "3.Verb-Noun Naming:\n",
        "\n",
        "Begin function names with a verb that describes the action the function performs.\n",
        "Follow it with a noun that describes the object or concept the action is applied to.\n",
        "Example: calculate_price, validate_user_input.\n",
        "\n",
        "4.Avoid Generic Names:\n",
        "\n",
        "Avoid generic names like temp, foo, or bar.\n",
        "Use names that provide context and meaning.\n",
        "\n",
        "5.Be Consistent:\n",
        "\n",
        "Maintain consistency in naming across your codebase.\n",
        "If you use a certain naming style for one function, stick to it throughout the project.\n",
        "\n",
        "Variables:\n",
        "1.Use Descriptive Names:\n",
        "\n",
        "Similar to functions, choose names that clearly indicate the purpose of the variable.\n",
        "Avoid generic names like temp or data.\n",
        "\n",
        "2.Follow Snake Case:\n",
        "\n",
        "Use lowercase letters with underscores to separate words (snake_case).\n",
        "Example: user_age, total_cost.\n",
        "\n",
        "3.Avoid Single-Letter Names:\n",
        "\n",
        "Use meaningful names even for short-lived variables.\n",
        "Exception: Common loop index variables like i, j, k are widely understood.\n",
        "\n",
        "4.Choose Consistent Names:\n",
        "\n",
        "If a variable represents similar information as a function, use a similar naming style.\n",
        "Example: If you have a function calculate_price, use a variable like price_total.\n",
        "\n",
        "5.Use Constants for Constants:\n",
        "\n",
        "If a variable represents a constant value, use uppercase letters with underscores (UPPER_CASE).\n",
        "Example: MAX_VALUE, PI.\n",
        "\n",
        "General Naming Guidelines:\n",
        "1.Avoid Reserved Words:\n",
        "\n",
        "Do not use Python reserved words as function or variable names (e.g., class, if, for).\n",
        "\n",
        "2.Follow PEP 8:\n",
        "\n",
        "PEP 8 is the style guide for Python code. It provides guidelines for naming conventions and other coding standards.\n",
        "Follow PEP 8 recommendations for consistency in your code.\n",
        "\n",
        "3.Use Meaningful Prefixes:\n",
        "\n",
        "In some cases, using prefixes can provide additional context.\n",
        "Example: is_valid for a boolean variable indicating validity.\n",
        "Be Mindful of Scope:\n",
        "\n",
        "Choose names that make the scope and purpose of a variable or function clear.\n",
        "Avoid shadowing built-in names or using names that might lead to confusion.\n",
        "By following these best practices, you can create code that is more readable, maintainable, and conducive to collaboration within a development team. Consistency is key, so choose a naming convention and stick to it throughout your project.\n",
        "\n",
        "\n",
        "\n",
        "\n",
        "\n",
        "\n",
        "\n"
      ]
    },
    {
      "cell_type": "code",
      "execution_count": null,
      "id": "90286cbe-b45e-4bde-8fbb-a886d1043ed3",
      "metadata": {
        "id": "90286cbe-b45e-4bde-8fbb-a886d1043ed3"
      },
      "outputs": [],
      "source": []
    }
  ],
  "metadata": {
    "kernelspec": {
      "display_name": "Python 3 (ipykernel)",
      "language": "python",
      "name": "python3"
    },
    "language_info": {
      "codemirror_mode": {
        "name": "ipython",
        "version": 3
      },
      "file_extension": ".py",
      "mimetype": "text/x-python",
      "name": "python",
      "nbconvert_exporter": "python",
      "pygments_lexer": "ipython3",
      "version": "3.10.8"
    },
    "colab": {
      "provenance": []
    }
  },
  "nbformat": 4,
  "nbformat_minor": 5
}