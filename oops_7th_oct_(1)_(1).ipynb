{
  "cells": [
    {
      "cell_type": "code",
      "execution_count": 2,
      "id": "8b6a7b1a-3ff5-4b22-be3e-d3b2d7aa7e3a",
      "metadata": {
        "id": "8b6a7b1a-3ff5-4b22-be3e-d3b2d7aa7e3a"
      },
      "outputs": [],
      "source": [
        "class a :\n",
        "\n",
        "    def test(self):\n",
        "        print(\"this test method is a part of class a\")\n",
        "\n",
        "    def test1(self):\n",
        "        print(\"this is test1 from class a \")"
      ]
    },
    {
      "cell_type": "code",
      "execution_count": 3,
      "id": "8e4d306f-fdb4-47a0-a93d-597f5b21d30b",
      "metadata": {
        "id": "8e4d306f-fdb4-47a0-a93d-597f5b21d30b"
      },
      "outputs": [],
      "source": [
        "obj_a = a()"
      ]
    },
    {
      "cell_type": "code",
      "execution_count": 4,
      "id": "81ef5597-cf96-4ed9-a4f6-21e2e93aca70",
      "metadata": {
        "colab": {
          "base_uri": "https://localhost:8080/"
        },
        "id": "81ef5597-cf96-4ed9-a4f6-21e2e93aca70",
        "outputId": "edbb68d9-69a8-4062-e46e-c577f42affa4"
      },
      "outputs": [
        {
          "output_type": "stream",
          "name": "stdout",
          "text": [
            "this test method is a part of class a\n"
          ]
        }
      ],
      "source": [
        "obj_a.test()"
      ]
    },
    {
      "cell_type": "code",
      "execution_count": 5,
      "id": "11ee63d6-433d-48dc-ada0-5dd6771310ba",
      "metadata": {
        "id": "11ee63d6-433d-48dc-ada0-5dd6771310ba"
      },
      "outputs": [],
      "source": [
        "class b(a) :\n",
        "    def test1b(self):\n",
        "        print(\"this is a part of class b \")"
      ]
    },
    {
      "cell_type": "code",
      "execution_count": 6,
      "id": "badaedfe-57d1-43c6-9193-e5afb0f31dbc",
      "metadata": {
        "id": "badaedfe-57d1-43c6-9193-e5afb0f31dbc"
      },
      "outputs": [],
      "source": [
        "obj_b = b()"
      ]
    },
    {
      "cell_type": "code",
      "execution_count": 7,
      "id": "3ce19f61-ba8e-4050-9d4d-614adfd964c5",
      "metadata": {
        "colab": {
          "base_uri": "https://localhost:8080/"
        },
        "id": "3ce19f61-ba8e-4050-9d4d-614adfd964c5",
        "outputId": "1f370a0f-a24e-4554-83b1-3134cc36821b"
      },
      "outputs": [
        {
          "output_type": "stream",
          "name": "stdout",
          "text": [
            "this test method is a part of class a\n"
          ]
        }
      ],
      "source": [
        "obj_b.test()"
      ]
    },
    {
      "cell_type": "code",
      "execution_count": 8,
      "id": "5e473fae-e094-4407-99df-16a04ab4c80a",
      "metadata": {
        "colab": {
          "base_uri": "https://localhost:8080/"
        },
        "id": "5e473fae-e094-4407-99df-16a04ab4c80a",
        "outputId": "8109d881-0e9c-4e11-abdc-806baf06e40d"
      },
      "outputs": [
        {
          "output_type": "stream",
          "name": "stdout",
          "text": [
            "this is test1 from class a \n"
          ]
        }
      ],
      "source": [
        "obj_b.test1()"
      ]
    },
    {
      "cell_type": "code",
      "execution_count": 10,
      "id": "02a8f055-535f-4bc2-adc1-575445f82570",
      "metadata": {
        "colab": {
          "base_uri": "https://localhost:8080/"
        },
        "id": "02a8f055-535f-4bc2-adc1-575445f82570",
        "outputId": "92e5dbb1-caba-410f-80b2-1bfe6af2eb32"
      },
      "outputs": [
        {
          "output_type": "execute_result",
          "data": {
            "text/plain": [
              "<__main__.b at 0x7a2d9e674a30>"
            ]
          },
          "metadata": {},
          "execution_count": 10
        }
      ],
      "source": [
        "obj_b"
      ]
    },
    {
      "cell_type": "code",
      "execution_count": 11,
      "id": "59361cd3-c0c4-4ddd-abac-cbe3275ade5f",
      "metadata": {
        "id": "59361cd3-c0c4-4ddd-abac-cbe3275ade5f"
      },
      "outputs": [],
      "source": [
        "class lecture:\n",
        "\n",
        "    def topic(self):\n",
        "        print(\"todays class we are discussing about inheritance condept in oops\")\n",
        "\n",
        "    def timing(self):\n",
        "        print(\"timing for todays class is 9 AM IST\")\n",
        "\n",
        "    def end_time(self):\n",
        "        print(\"today i will try to end class bit early\")"
      ]
    },
    {
      "cell_type": "code",
      "execution_count": 12,
      "id": "6e3dd2de-883e-4e9e-98a0-4a7089af1627",
      "metadata": {
        "id": "6e3dd2de-883e-4e9e-98a0-4a7089af1627"
      },
      "outputs": [],
      "source": [
        "class student(lecture):\n",
        "\n",
        "    def student_details(self):\n",
        "        print(\"this class will give you a student details\")"
      ]
    },
    {
      "cell_type": "code",
      "execution_count": 13,
      "id": "c2ad2a89-0f29-4410-86c4-e33f47b4186d",
      "metadata": {
        "id": "c2ad2a89-0f29-4410-86c4-e33f47b4186d"
      },
      "outputs": [],
      "source": [
        "naval = student()"
      ]
    },
    {
      "cell_type": "code",
      "execution_count": 14,
      "id": "38c86e7f-5560-464a-b597-c88a74819f1a",
      "metadata": {
        "colab": {
          "base_uri": "https://localhost:8080/"
        },
        "id": "38c86e7f-5560-464a-b597-c88a74819f1a",
        "outputId": "6e45dcf7-a7fe-48c8-d767-d1536bc37f3e"
      },
      "outputs": [
        {
          "output_type": "stream",
          "name": "stdout",
          "text": [
            "todays class we are discussing about inheritance condept in oops\n"
          ]
        }
      ],
      "source": [
        "naval.topic()"
      ]
    },
    {
      "cell_type": "code",
      "execution_count": 15,
      "id": "02efc8a4-f995-4f85-87d2-620ccc0f61fa",
      "metadata": {
        "colab": {
          "base_uri": "https://localhost:8080/"
        },
        "id": "02efc8a4-f995-4f85-87d2-620ccc0f61fa",
        "outputId": "b470cc76-f23c-49a2-8fd8-9546c1a2859e"
      },
      "outputs": [
        {
          "output_type": "stream",
          "name": "stdout",
          "text": [
            "timing for todays class is 9 AM IST\n"
          ]
        }
      ],
      "source": [
        "satish = student()\n",
        "satish.timing()"
      ]
    },
    {
      "cell_type": "code",
      "execution_count": 16,
      "id": "03932972-a58b-46e5-a3f8-ffc43c84ce53",
      "metadata": {
        "id": "03932972-a58b-46e5-a3f8-ffc43c84ce53"
      },
      "outputs": [],
      "source": [
        "class teacher(student):\n",
        "    def details(self):\n",
        "        print(\"this will give you a details about teacher\")"
      ]
    },
    {
      "cell_type": "code",
      "execution_count": 17,
      "id": "fff36c1b-f1e9-467e-b29f-c304aa9feec9",
      "metadata": {
        "colab": {
          "base_uri": "https://localhost:8080/"
        },
        "id": "fff36c1b-f1e9-467e-b29f-c304aa9feec9",
        "outputId": "d843280b-a600-401a-d83d-bce253f9ad6c"
      },
      "outputs": [
        {
          "output_type": "stream",
          "name": "stdout",
          "text": [
            "timing for todays class is 9 AM IST\n"
          ]
        }
      ],
      "source": [
        "sudh = teacher()\n",
        "sudh.timing()"
      ]
    },
    {
      "cell_type": "code",
      "execution_count": 18,
      "id": "a5e8c94b-de62-4ef5-8eba-81259d83dd3d",
      "metadata": {
        "id": "a5e8c94b-de62-4ef5-8eba-81259d83dd3d"
      },
      "outputs": [],
      "source": [
        "class lecture:\n",
        "    def topic(self):\n",
        "        print(\"todays class we are discussing about inheritance condept in oops\")\n",
        "\n",
        "    def timing(self):\n",
        "        print(\"timing for todays class is 9 AM IST\")\n",
        "\n",
        "    def end_time(self):\n",
        "        print(\"today i will try to end class bit early\")"
      ]
    },
    {
      "cell_type": "code",
      "execution_count": 19,
      "id": "2007141c-1b71-4cd4-9bed-a3cd8d851baa",
      "metadata": {
        "id": "2007141c-1b71-4cd4-9bed-a3cd8d851baa"
      },
      "outputs": [],
      "source": [
        "class student:\n",
        "\n",
        "    def student_details(self):\n",
        "        print(\"this class will give you a student details\")\n",
        "\n",
        "    def timing(self):\n",
        "        print(\"this is a timing fun from student class\")\n",
        ""
      ]
    },
    {
      "cell_type": "code",
      "execution_count": 20,
      "id": "272860d3-1fac-475b-8c09-0490069224bc",
      "metadata": {
        "id": "272860d3-1fac-475b-8c09-0490069224bc"
      },
      "outputs": [],
      "source": [
        "class teacher(lecture,student):\n",
        "    def details(self):\n",
        "        print(\"this will give you a details about teacher\")"
      ]
    },
    {
      "cell_type": "code",
      "execution_count": 21,
      "id": "f4a9ae16-f0e3-4a4a-a003-38773611cd2a",
      "metadata": {
        "id": "f4a9ae16-f0e3-4a4a-a003-38773611cd2a"
      },
      "outputs": [],
      "source": [
        "krish = teacher()"
      ]
    },
    {
      "cell_type": "code",
      "execution_count": 22,
      "id": "6dc85f37-219e-4c72-927c-9aebb550fea9",
      "metadata": {
        "colab": {
          "base_uri": "https://localhost:8080/"
        },
        "id": "6dc85f37-219e-4c72-927c-9aebb550fea9",
        "outputId": "313e9f4e-b489-40e7-f724-76681326e7b6"
      },
      "outputs": [
        {
          "output_type": "stream",
          "name": "stdout",
          "text": [
            "timing for todays class is 9 AM IST\n"
          ]
        }
      ],
      "source": [
        "krish.timing()"
      ]
    },
    {
      "cell_type": "code",
      "execution_count": 23,
      "id": "8bcbac88-9172-4a31-a191-9c4b9a1c6eac",
      "metadata": {
        "colab": {
          "base_uri": "https://localhost:8080/"
        },
        "id": "8bcbac88-9172-4a31-a191-9c4b9a1c6eac",
        "outputId": "6f8736c3-fac6-4e7f-fd99-ba6f976a3663"
      },
      "outputs": [
        {
          "output_type": "stream",
          "name": "stdout",
          "text": [
            "this class will give you a student details\n"
          ]
        }
      ],
      "source": [
        "krish.student_details()"
      ]
    },
    {
      "cell_type": "markdown",
      "id": "86b47d4f-860e-4702-83a0-0145887ab41a",
      "metadata": {
        "id": "86b47d4f-860e-4702-83a0-0145887ab41a"
      },
      "source": [
        "Problem 1: Bank Account Create a class representing a bank account with attributes like account number, account holder name, and balance. Implement methods to deposit and withdraw money from the account.\n",
        "\n",
        "Problem 2: Employee Management Create a class representing an employee with attributes like employee ID, name, and salary. Implement methods to calculate the yearly bonus and display employee details.\n",
        "\n",
        "Problem 3: Vehicle Rental Create a class representing a vehicle rental system. Implement methods to rent a vehicle, return a vehicle, and display available vehicles.\n",
        "\n",
        "Problem 4: Library Catalog Create classes representing a library and a book. Implement methods to add books to the library, borrow books, and display available books.\n",
        "\n",
        "Problem 5: Product Inventory Create classes representing a product and an inventory system. Implement methods to add products to the inventory, update product quantity, and display available products.\n",
        "\n",
        "Problem 6: Shape Calculation Create a class representing a shape with attributes like length, width, and height. Implement methods to calculate the area and perimeter of the shape.\n",
        "\n",
        "Problem 7: Student Management Create a class representing a student with attributes like student ID, name, and grades. Implement methods to calculate the average grade and display student details.\n",
        "\n",
        "Problem 8: Email Management Create a class representing an email with attributes like sender, recipient, and subject. Implement methods to send an email and display email details.\n",
        "\n",
        "Problem 9: Social Media Profile Create a class representing a social media profile with attributes like username and posts. Implement methods to add posts, display posts, and search for posts by keyword.\n",
        "\n",
        "Problem 10: ToDo List Create a class representing a ToDo list with attributes like tasks and due dates. Implement methods to add tasks, mark tasks as completed, and display pending tasks."
      ]
    },
    {
      "cell_type": "markdown",
      "id": "b82413f2-1735-4eb7-8e60-70692cfafb28",
      "metadata": {
        "id": "b82413f2-1735-4eb7-8e60-70692cfafb28"
      },
      "source": [
        "Problem 1: Bank Account Create a class representing a bank account with attributes like account number, account holder name, and balance. Implement methods to deposit and withdraw money from the account."
      ]
    },
    {
      "cell_type": "code",
      "execution_count": 26,
      "id": "0dfa4112-d197-44c2-ac23-2f48bbe67b0f",
      "metadata": {
        "colab": {
          "base_uri": "https://localhost:8080/"
        },
        "id": "0dfa4112-d197-44c2-ac23-2f48bbe67b0f",
        "outputId": "e182e74c-e39f-45d2-8fe3-fa24aec3799e"
      },
      "outputs": [
        {
          "output_type": "stream",
          "name": "stdout",
          "text": [
            "Account Holder: Mayuresh\n",
            "Account Number: 123456789\n",
            "Current Balance: $400.0\n"
          ]
        }
      ],
      "source": [
        "class BankAccount:\n",
        "    def __init__(self, account_number, account_holder, balance=0.0):\n",
        "        \"\"\"\n",
        "        Initialize a BankAccount object.\n",
        "\n",
        "        Parameters:\n",
        "        - account_number (str): Account number.\n",
        "        - account_holder (str): Account holder's name.\n",
        "        - balance (float): Initial balance (default is 0.0).\n",
        "        \"\"\"\n",
        "        self.account_number = account_number\n",
        "        self.account_holder = account_holder\n",
        "        self.balance = balance\n",
        "\n",
        "    def deposit(self, amount):\n",
        "        \"\"\"\n",
        "        Deposit money into the account.\n",
        "\n",
        "        Parameters:\n",
        "        - amount (float): Amount to deposit.\n",
        "\n",
        "        Returns:\n",
        "        - float: Updated balance after the deposit.\n",
        "        \"\"\"\n",
        "        if amount > 0:\n",
        "            self.balance += amount\n",
        "            return self.balance\n",
        "        else:\n",
        "            print(\"Invalid deposit amount. Please deposit a positive amount.\")\n",
        "            return self.balance\n",
        "\n",
        "    def withdraw(self, amount):\n",
        "        \"\"\"\n",
        "        Withdraw money from the account.\n",
        "\n",
        "        Parameters:\n",
        "        - amount (float): Amount to withdraw.\n",
        "\n",
        "        Returns:\n",
        "        - float: Updated balance after the withdrawal.\n",
        "        \"\"\"\n",
        "        if amount > 0 and amount <= self.balance:\n",
        "            self.balance -= amount\n",
        "            return self.balance\n",
        "        elif amount <= 0:\n",
        "            print(\"Invalid withdrawal amount. Please withdraw a positive amount.\")\n",
        "        else:\n",
        "            print(\"Insufficient funds. Cannot withdraw more than the current balance.\")\n",
        "        return self.balance\n",
        "\n",
        "    def get_balance(self):\n",
        "        \"\"\"\n",
        "        Get the current balance of the account.\n",
        "\n",
        "        Returns:\n",
        "        - float: Current balance.\n",
        "        \"\"\"\n",
        "        return self.balance\n",
        "\n",
        "\n",
        "# Example usage:\n",
        "# Create a BankAccount object\n",
        "account1 = BankAccount(account_number=\"123456789\", account_holder=\"Mayuresh\", balance=100.0)\n",
        "\n",
        "# Deposit money\n",
        "account1.deposit(500.0)\n",
        "\n",
        "# Withdraw money\n",
        "account1.withdraw(200.0)\n",
        "\n",
        "# Get the current balance\n",
        "current_balance = account1.get_balance()\n",
        "\n",
        "# Display the information\n",
        "print(f\"Account Holder: {account1.account_holder}\")\n",
        "print(f\"Account Number: {account1.account_number}\")\n",
        "print(f\"Current Balance: ${current_balance}\")\n"
      ]
    },
    {
      "cell_type": "markdown",
      "id": "e142bfac-d234-45f0-b4ca-27fd04904af9",
      "metadata": {
        "id": "e142bfac-d234-45f0-b4ca-27fd04904af9"
      },
      "source": [
        "Problem 2: Employee Management Create a class representing an employee with attributes like employee ID, name, and salary. Implement methods to calculate the yearly bonus and display employee details."
      ]
    },
    {
      "cell_type": "code",
      "execution_count": 27,
      "id": "a1a3a9c3-8cfa-4758-b163-c35a769e8c09",
      "metadata": {
        "colab": {
          "base_uri": "https://localhost:8080/"
        },
        "id": "a1a3a9c3-8cfa-4758-b163-c35a769e8c09",
        "outputId": "5a957c15-ef55-476d-8a1a-ab0dd9fad409"
      },
      "outputs": [
        {
          "output_type": "stream",
          "name": "stdout",
          "text": [
            "Yearly Bonus: $6000.00\n",
            "Employee ID: 101\n",
            "Name: Mayur\n",
            "Salary: $60000.00\n"
          ]
        }
      ],
      "source": [
        "class Employee:\n",
        "    def __init__(self, employee_id, name, salary):\n",
        "        \"\"\"\n",
        "        Initialize an Employee object.\n",
        "\n",
        "        Parameters:\n",
        "        - employee_id (int): Employee ID.\n",
        "        - name (str): Employee's name.\n",
        "        - salary (float): Employee's salary.\n",
        "        \"\"\"\n",
        "        self.employee_id = employee_id\n",
        "        self.name = name\n",
        "        self.salary = salary\n",
        "\n",
        "    def calculate_yearly_bonus(self, bonus_percentage):\n",
        "        \"\"\"\n",
        "        Calculate the yearly bonus for the employee.\n",
        "\n",
        "        Parameters:\n",
        "        - bonus_percentage (float): Bonus percentage based on salary.\n",
        "\n",
        "        Returns:\n",
        "        - float: Yearly bonus amount.\n",
        "        \"\"\"\n",
        "        if bonus_percentage >= 0:\n",
        "            bonus_amount = (bonus_percentage / 100) * self.salary\n",
        "            return bonus_amount\n",
        "        else:\n",
        "            print(\"Invalid bonus percentage. Please provide a non-negative value.\")\n",
        "            return 0.0\n",
        "\n",
        "    def display_employee_details(self):\n",
        "        \"\"\"\n",
        "        Display the details of the employee.\n",
        "        \"\"\"\n",
        "        print(f\"Employee ID: {self.employee_id}\")\n",
        "        print(f\"Name: {self.name}\")\n",
        "        print(f\"Salary: ${self.salary:.2f}\")\n",
        "\n",
        "# Example usage:\n",
        "# Create an Employee object\n",
        "employee1 = Employee(employee_id=101, name=\"Mayur\", salary=60000.0)\n",
        "\n",
        "# Calculate and display yearly bonus\n",
        "bonus_percentage = 10.0  # Example bonus percentage\n",
        "yearly_bonus = employee1.calculate_yearly_bonus(bonus_percentage)\n",
        "print(f\"Yearly Bonus: ${yearly_bonus:.2f}\")\n",
        "\n",
        "# Display employee details\n",
        "employee1.display_employee_details()\n",
        "\n",
        ""
      ]
    },
    {
      "cell_type": "markdown",
      "id": "535f6be9-cf34-4637-998f-ac94beeecdc8",
      "metadata": {
        "id": "535f6be9-cf34-4637-998f-ac94beeecdc8"
      },
      "source": [
        "Problem 3: Vehicle Rental Create a class representing a vehicle rental system. Implement methods to rent a vehicle, return a vehicle, and display available vehicles."
      ]
    },
    {
      "cell_type": "code",
      "execution_count": null,
      "id": "71cf3353-dc32-475b-bc58-2a822a2fed4f",
      "metadata": {
        "id": "71cf3353-dc32-475b-bc58-2a822a2fed4f",
        "outputId": "a13705e9-f578-4dfe-fc6c-f6c6d9a8742b"
      },
      "outputs": [
        {
          "name": "stdout",
          "output_type": "stream",
          "text": [
            "Available Vehicles:\n",
            "1 - Sedan\n",
            "2 - SUV\n",
            "3 - Truck\n",
            "Vehicle 2 rented successfully.\n",
            "Available Vehicles:\n",
            "1 - Sedan\n",
            "3 - Truck\n",
            "Vehicle 2 returned successfully.\n",
            "Available Vehicles:\n",
            "1 - Sedan\n",
            "2 - SUV\n",
            "3 - Truck\n"
          ]
        }
      ],
      "source": [
        "class Vehicle:\n",
        "    def __init__(self, vehicle_id, model, is_available=True):\n",
        "        \"\"\"\n",
        "        Initialize a Vehicle object.\n",
        "\n",
        "        Parameters:\n",
        "        - vehicle_id (int): Vehicle ID.\n",
        "        - model (str): Model of the vehicle.\n",
        "        - is_available (bool): Availability status (default is True).\n",
        "        \"\"\"\n",
        "        self.vehicle_id = vehicle_id\n",
        "        self.model = model\n",
        "        self.is_available = is_available\n",
        "\n",
        "    def rent_vehicle(self):\n",
        "        \"\"\"\n",
        "        Rent the vehicle.\n",
        "\n",
        "        Returns:\n",
        "        - str: Rental status message.\n",
        "        \"\"\"\n",
        "        if self.is_available:\n",
        "            self.is_available = False\n",
        "            return f\"Vehicle {self.vehicle_id} rented successfully.\"\n",
        "        else:\n",
        "            return f\"Vehicle {self.vehicle_id} is not available for rent.\"\n",
        "\n",
        "    def return_vehicle(self):\n",
        "        \"\"\"\n",
        "        Return the vehicle.\n",
        "\n",
        "        Returns:\n",
        "        - str: Return status message.\n",
        "        \"\"\"\n",
        "        if not self.is_available:\n",
        "            self.is_available = True\n",
        "            return f\"Vehicle {self.vehicle_id} returned successfully.\"\n",
        "        else:\n",
        "            return f\"Vehicle {self.vehicle_id} is already available.\"\n",
        "\n",
        "class VehicleRentalSystem:\n",
        "    def __init__(self):\n",
        "        \"\"\"\n",
        "        Initialize a VehicleRentalSystem object.\n",
        "        \"\"\"\n",
        "        self.vehicles = []\n",
        "\n",
        "    def add_vehicle(self, vehicle):\n",
        "        \"\"\"\n",
        "        Add a vehicle to the rental system.\n",
        "\n",
        "        Parameters:\n",
        "        - vehicle (Vehicle): Vehicle object to add.\n",
        "        \"\"\"\n",
        "        self.vehicles.append(vehicle)\n",
        "\n",
        "    def display_available_vehicles(self):\n",
        "        \"\"\"\n",
        "        Display the available vehicles in the system.\n",
        "        \"\"\"\n",
        "        print(\"Available Vehicles:\")\n",
        "        for vehicle in self.vehicles:\n",
        "            if vehicle.is_available:\n",
        "                print(f\"{vehicle.vehicle_id} - {vehicle.model}\")\n",
        "\n",
        "# Example usage:\n",
        "# Create Vehicle objects\n",
        "vehicle1 = Vehicle(vehicle_id=1, model=\"Sedan\")\n",
        "vehicle2 = Vehicle(vehicle_id=2, model=\"SUV\")\n",
        "vehicle3 = Vehicle(vehicle_id=3, model=\"Truck\")\n",
        "\n",
        "# Create a VehicleRentalSystem object\n",
        "rental_system = VehicleRentalSystem()\n",
        "\n",
        "# Add vehicles to the rental system\n",
        "rental_system.add_vehicle(vehicle1)\n",
        "rental_system.add_vehicle(vehicle2)\n",
        "rental_system.add_vehicle(vehicle3)\n",
        "\n",
        "# Display available vehicles before renting\n",
        "rental_system.display_available_vehicles()\n",
        "\n",
        "# Rent a vehicle\n",
        "rental_status = vehicle2.rent_vehicle()\n",
        "print(rental_status)\n",
        "\n",
        "# Display available vehicles after renting\n",
        "rental_system.display_available_vehicles()\n",
        "\n",
        "# Return the rented vehicle\n",
        "return_status = vehicle2.return_vehicle()\n",
        "print(return_status)\n",
        "\n",
        "# Display available vehicles after returning\n",
        "rental_system.display_available_vehicles()\n"
      ]
    },
    {
      "cell_type": "markdown",
      "id": "aebaa59c-f685-4eae-95c5-fdb678b75ab7",
      "metadata": {
        "id": "aebaa59c-f685-4eae-95c5-fdb678b75ab7"
      },
      "source": [
        "Problem 4: Library Catalog Create classes representing a library and a book. Implement methods to add books to the library, borrow books, and display available books."
      ]
    },
    {
      "cell_type": "code",
      "execution_count": null,
      "id": "1b8bd94f-7934-4fac-bdb3-2959bda7e787",
      "metadata": {
        "id": "1b8bd94f-7934-4fac-bdb3-2959bda7e787",
        "outputId": "d6e18bf9-2b02-40eb-e624-82c8eaf21383"
      },
      "outputs": [
        {
          "name": "stdout",
          "output_type": "stream",
          "text": [
            "Available Books:\n",
            "1 - 'Introduction to Python Programming'\n",
            "2 - 'Data Structures and Algorithms'\n",
            "3 - 'The Art of Fiction'\n",
            "Book 2 ('Data Structures and Algorithms') borrowed successfully.\n",
            "Available Books:\n",
            "1 - 'Introduction to Python Programming'\n",
            "3 - 'The Art of Fiction'\n",
            "Book 2 ('Data Structures and Algorithms') returned successfully.\n",
            "Available Books:\n",
            "1 - 'Introduction to Python Programming'\n",
            "2 - 'Data Structures and Algorithms'\n",
            "3 - 'The Art of Fiction'\n"
          ]
        }
      ],
      "source": [
        "class Book:\n",
        "    def __init__(self, book_id, title, is_available=True):\n",
        "        \"\"\"\n",
        "        Initialize a Book object.\n",
        "\n",
        "        Parameters:\n",
        "        - book_id (int): Book ID.\n",
        "        - title (str): Title of the book.\n",
        "        - is_available (bool): Availability status (default is True).\n",
        "        \"\"\"\n",
        "        self.book_id = book_id\n",
        "        self.title = title\n",
        "        self.is_available = is_available\n",
        "\n",
        "    def borrow_book(self):\n",
        "        \"\"\"\n",
        "        Borrow the book.\n",
        "\n",
        "        Returns:\n",
        "        - str: Borrow status message.\n",
        "        \"\"\"\n",
        "        if self.is_available:\n",
        "            self.is_available = False\n",
        "            return f\"Book {self.book_id} ('{self.title}') borrowed successfully.\"\n",
        "        else:\n",
        "            return f\"Book {self.book_id} ('{self.title}') is not available for borrowing.\"\n",
        "\n",
        "    def return_book(self):\n",
        "        \"\"\"\n",
        "        Return the book.\n",
        "\n",
        "        Returns:\n",
        "        - str: Return status message.\n",
        "        \"\"\"\n",
        "        if not self.is_available:\n",
        "            self.is_available = True\n",
        "            return f\"Book {self.book_id} ('{self.title}') returned successfully.\"\n",
        "        else:\n",
        "            return f\"Book {self.book_id} ('{self.title}') is already available.\"\n",
        "\n",
        "class Library:\n",
        "    def __init__(self):\n",
        "        \"\"\"\n",
        "        Initialize a Library object.\n",
        "        \"\"\"\n",
        "        self.books = []\n",
        "\n",
        "    def add_book(self, book):\n",
        "        \"\"\"\n",
        "        Add a book to the library.\n",
        "\n",
        "        Parameters:\n",
        "        - book (Book): Book object to add.\n",
        "        \"\"\"\n",
        "        self.books.append(book)\n",
        "\n",
        "    def display_available_books(self):\n",
        "        \"\"\"\n",
        "        Display the available books in the library.\n",
        "        \"\"\"\n",
        "        print(\"Available Books:\")\n",
        "        for book in self.books:\n",
        "            if book.is_available:\n",
        "                print(f\"{book.book_id} - '{book.title}'\")\n",
        "\n",
        "# Example usage:\n",
        "# Create Book objects\n",
        "book1 = Book(book_id=1, title=\"Introduction to Python Programming\")\n",
        "book2 = Book(book_id=2, title=\"Data Structures and Algorithms\")\n",
        "book3 = Book(book_id=3, title=\"The Art of Fiction\")\n",
        "\n",
        "# Create a Library object\n",
        "library = Library()\n",
        "\n",
        "# Add books to the library\n",
        "library.add_book(book1)\n",
        "library.add_book(book2)\n",
        "library.add_book(book3)\n",
        "\n",
        "# Display available books before borrowing\n",
        "library.display_available_books()\n",
        "\n",
        "# Borrow a book\n",
        "borrow_status = book2.borrow_book()\n",
        "print(borrow_status)\n",
        "\n",
        "# Display available books after borrowing\n",
        "library.display_available_books()\n",
        "\n",
        "# Return the borrowed book\n",
        "return_status = book2.return_book()\n",
        "print(return_status)\n",
        "\n",
        "# Display available books after returning\n",
        "library.display_available_books()\n"
      ]
    },
    {
      "cell_type": "markdown",
      "id": "be47dc1f-037e-4daf-9076-43a74b820429",
      "metadata": {
        "id": "be47dc1f-037e-4daf-9076-43a74b820429"
      },
      "source": [
        "Problem 5: Product Inventory Create classes representing a product and an inventory system. Implement methods to add products to the inventory, update product quantity, and display available products."
      ]
    },
    {
      "cell_type": "code",
      "execution_count": null,
      "id": "dfc6df1d-8839-40a0-ab05-120ec33f537f",
      "metadata": {
        "id": "dfc6df1d-8839-40a0-ab05-120ec33f537f",
        "outputId": "c9b767a3-5783-4f66-b925-de056580eda9"
      },
      "outputs": [
        {
          "name": "stdout",
          "output_type": "stream",
          "text": [
            "Available Products:\n",
            "101 - 'Laptop' (Price: $1200.00, Quantity: 10)\n",
            "102 - 'Smartphone' (Price: $500.00, Quantity: 20)\n",
            "103 - 'Headphones' (Price: $50.00, Quantity: 50)\n",
            "Quantity of product 102 ('Smartphone') updated successfully.\n",
            "Available Products:\n",
            "101 - 'Laptop' (Price: $1200.00, Quantity: 10)\n",
            "102 - 'Smartphone' (Price: $500.00, Quantity: 25)\n",
            "103 - 'Headphones' (Price: $50.00, Quantity: 50)\n"
          ]
        }
      ],
      "source": [
        "class Product:\n",
        "    def __init__(self, product_id, name, price, quantity):\n",
        "        \"\"\"\n",
        "        Initialize a Product object.\n",
        "\n",
        "        Parameters:\n",
        "        - product_id (int): Product ID.\n",
        "        - name (str): Name of the product.\n",
        "        - price (float): Price of the product.\n",
        "        - quantity (int): Quantity of the product in stock.\n",
        "        \"\"\"\n",
        "        self.product_id = product_id\n",
        "        self.name = name\n",
        "        self.price = price\n",
        "        self.quantity = quantity\n",
        "\n",
        "    def update_quantity(self, new_quantity):\n",
        "        \"\"\"\n",
        "        Update the quantity of the product.\n",
        "\n",
        "        Parameters:\n",
        "        - new_quantity (int): New quantity of the product.\n",
        "\n",
        "        Returns:\n",
        "        - str: Update status message.\n",
        "        \"\"\"\n",
        "        if new_quantity >= 0:\n",
        "            self.quantity = new_quantity\n",
        "            return f\"Quantity of product {self.product_id} ('{self.name}') updated successfully.\"\n",
        "        else:\n",
        "            return \"Invalid quantity. Please provide a non-negative value.\"\n",
        "\n",
        "class InventorySystem:\n",
        "    def __init__(self):\n",
        "        \"\"\"\n",
        "        Initialize an InventorySystem object.\n",
        "        \"\"\"\n",
        "        self.products = []\n",
        "\n",
        "    def add_product(self, product):\n",
        "        \"\"\"\n",
        "        Add a product to the inventory system.\n",
        "\n",
        "        Parameters:\n",
        "        - product (Product): Product object to add.\n",
        "        \"\"\"\n",
        "        self.products.append(product)\n",
        "\n",
        "    def display_available_products(self):\n",
        "        \"\"\"\n",
        "        Display the available products in the inventory system.\n",
        "        \"\"\"\n",
        "        print(\"Available Products:\")\n",
        "        for product in self.products:\n",
        "            print(f\"{product.product_id} - '{product.name}' (Price: ${product.price:.2f}, Quantity: {product.quantity})\")\n",
        "\n",
        "# Example usage:\n",
        "# Create Product objects\n",
        "product1 = Product(product_id=101, name=\"Laptop\", price=1200.0, quantity=10)\n",
        "product2 = Product(product_id=102, name=\"Smartphone\", price=500.0, quantity=20)\n",
        "product3 = Product(product_id=103, name=\"Headphones\", price=50.0, quantity=50)\n",
        "\n",
        "# Create an InventorySystem object\n",
        "inventory_system = InventorySystem()\n",
        "\n",
        "# Add products to the inventory system\n",
        "inventory_system.add_product(product1)\n",
        "inventory_system.add_product(product2)\n",
        "inventory_system.add_product(product3)\n",
        "\n",
        "# Display available products before updating quantity\n",
        "inventory_system.display_available_products()\n",
        "\n",
        "# Update quantity of a product\n",
        "update_status = product2.update_quantity(25)\n",
        "print(update_status)\n",
        "\n",
        "# Display available products after updating quantity\n",
        "inventory_system.display_available_products()\n"
      ]
    },
    {
      "cell_type": "markdown",
      "id": "73bae5c1-80b1-4b6b-9b90-590916819650",
      "metadata": {
        "id": "73bae5c1-80b1-4b6b-9b90-590916819650"
      },
      "source": [
        "Problem 6: Shape Calculation Create a class representing a shape with attributes like length, width, and height. Implement methods to calculate the area and perimeter of the shape."
      ]
    },
    {
      "cell_type": "code",
      "execution_count": null,
      "id": "dd798cc2-85ac-4669-ba30-6e996f3987b0",
      "metadata": {
        "id": "dd798cc2-85ac-4669-ba30-6e996f3987b0",
        "outputId": "bba9d949-0123-4eae-9e6b-e5708cb78844"
      },
      "outputs": [
        {
          "name": "stdout",
          "output_type": "stream",
          "text": [
            "Rectangle Area: 15, Perimeter: 16\n",
            "Triangle Area: 12.0, Perimeter: 12\n"
          ]
        }
      ],
      "source": [
        "class Triangle(Shape):\n",
        "    def calculate_area(self):\n",
        "        \"\"\"\n",
        "        Calculate the area of a triangle.\n",
        "\n",
        "        Returns:\n",
        "        - float: Area of the triangle.\n",
        "        \"\"\"\n",
        "        return 0.5 * self.length * self.height\n",
        "\n",
        "    def calculate_perimeter(self):\n",
        "        \"\"\"\n",
        "        Calculate the perimeter of a triangle.\n",
        "\n",
        "        Returns:\n",
        "        - float: Perimeter of the triangle.\n",
        "        \"\"\"\n",
        "        return self.length + self.width + self.height\n",
        "\n",
        "# Example usage:\n",
        "# Create Rectangle and Triangle objects\n",
        "rectangle = Rectangle(length=5, width=3)\n",
        "triangle = Triangle(length=4, height=6, width=2)\n",
        "\n",
        "# Calculate and display area and perimeter of the rectangle\n",
        "rectangle_area = rectangle.calculate_area()\n",
        "rectangle_perimeter = rectangle.calculate_perimeter()\n",
        "print(f\"Rectangle Area: {rectangle_area}, Perimeter: {rectangle_perimeter}\")\n",
        "\n",
        "# Calculate and display area and perimeter of the triangle\n",
        "triangle_area = triangle.calculate_area()\n",
        "triangle_perimeter = triangle.calculate_perimeter()\n",
        "print(f\"Triangle Area: {triangle_area}, Perimeter: {triangle_perimeter}\")\n",
        "\n",
        "\n",
        ""
      ]
    },
    {
      "cell_type": "markdown",
      "id": "6434de04-d8b5-4442-a736-e39bf209c7af",
      "metadata": {
        "id": "6434de04-d8b5-4442-a736-e39bf209c7af"
      },
      "source": [
        "Problem 7: Student Management Create a class representing a student with attributes like student ID, name, and grades. Implement methods to calculate the average grade and display student details.\n"
      ]
    },
    {
      "cell_type": "code",
      "execution_count": 28,
      "id": "35941ad4-d53c-41e9-9d4f-369138bf90fb",
      "metadata": {
        "colab": {
          "base_uri": "https://localhost:8080/"
        },
        "id": "35941ad4-d53c-41e9-9d4f-369138bf90fb",
        "outputId": "c75866e2-81f7-4e5f-83b6-3410b8e65f28"
      },
      "outputs": [
        {
          "output_type": "stream",
          "name": "stdout",
          "text": [
            "Student ID: 1\n",
            "Name: Alice\n",
            "Grades: 88, 95\n",
            "Average Grade: 91.50\n",
            "\n",
            "\n",
            "Student ID: 2\n",
            "Name: Bob\n",
            "Grades: 90, 85, 92, 88\n",
            "Average Grade: 88.75\n"
          ]
        }
      ],
      "source": [
        "class Student:\n",
        "    def __init__(self, student_id, name, grades=[]):\n",
        "        \"\"\"\n",
        "        Initialize a Student object.\n",
        "\n",
        "        Parameters:\n",
        "        - student_id (int): Student ID.\n",
        "        - name (str): Name of the student.\n",
        "        - grades (list): List of grades for the student (default is an empty list).\n",
        "        \"\"\"\n",
        "        self.student_id = student_id\n",
        "        self.name = name\n",
        "        self.grades = grades\n",
        "\n",
        "    def add_grade(self, grade):\n",
        "        \"\"\"\n",
        "        Add a grade to the student's grades.\n",
        "\n",
        "        Parameters:\n",
        "        - grade (float): Grade to add.\n",
        "        \"\"\"\n",
        "        self.grades.append(grade)\n",
        "\n",
        "    def calculate_average_grade(self):\n",
        "        \"\"\"\n",
        "        Calculate the average grade of the student.\n",
        "\n",
        "        Returns:\n",
        "        - float: Average grade.\n",
        "        \"\"\"\n",
        "        if not self.grades:\n",
        "            return 0.0  # Avoid division by zero for an empty list\n",
        "        return sum(self.grades) / len(self.grades)\n",
        "\n",
        "    def display_student_details(self):\n",
        "        \"\"\"\n",
        "        Display details of the student.\n",
        "        \"\"\"\n",
        "        print(f\"Student ID: {self.student_id}\")\n",
        "        print(f\"Name: {self.name}\")\n",
        "        print(f\"Grades: {', '.join(map(str, self.grades))}\")\n",
        "        print(f\"Average Grade: {self.calculate_average_grade():.2f}\")\n",
        "\n",
        "# Example usage:\n",
        "# Create Student objects\n",
        "student1 = Student(student_id=1, name=\"Alice\")\n",
        "student2 = Student(student_id=2, name=\"Bob\", grades=[90, 85, 92])\n",
        "\n",
        "# Add grades to students\n",
        "student1.add_grade(88)\n",
        "student1.add_grade(95)\n",
        "student2.add_grade(88)\n",
        "\n",
        "# Display details of the students\n",
        "student1.display_student_details()\n",
        "print(\"\\n\")  # Add a line break for better readability\n",
        "student2.display_student_details()\n"
      ]
    },
    {
      "cell_type": "markdown",
      "id": "3b81c8f3-7028-45ee-81a2-b11b1e8754e8",
      "metadata": {
        "id": "3b81c8f3-7028-45ee-81a2-b11b1e8754e8"
      },
      "source": [
        "Problem 8: Email Management Create a class representing an email with attributes like sender, recipient, and subject. Implement methods to send an email and display email details."
      ]
    },
    {
      "cell_type": "code",
      "execution_count": 30,
      "id": "fda46ded-cf5a-4769-ab22-51c0576484db",
      "metadata": {
        "colab": {
          "base_uri": "https://localhost:8080/"
        },
        "id": "fda46ded-cf5a-4769-ab22-51c0576484db",
        "outputId": "e912be40-b576-4a4a-fdf1-85f8d0d9e17e"
      },
      "outputs": [
        {
          "output_type": "stream",
          "name": "stdout",
          "text": [
            "Sender: mayur@example.com\n",
            "Recipient: sushant@example.com\n",
            "Subject: Meeting Tomorrow\n",
            "Content:\n",
            "Hi Sush, let's meet tomorrow at 2 PM.\n",
            "\n",
            "\n",
            "Sender: sush@example.com\n",
            "Recipient: Ketan@example.com\n",
            "Subject: Project Update\n",
            "Content:\n",
            "Hi Ketan, here's the latest update on the project.\n",
            "\n",
            "\n",
            "Email sent from mayur@example.com to sushant@example.com with subject 'Meeting Tomorrow'.\n",
            "Email sent from sush@example.com to Ketan@example.com with subject 'Project Update'.\n"
          ]
        }
      ],
      "source": [
        "class Email:\n",
        "    def __init__(self, sender, recipient, subject, content):\n",
        "        \"\"\"\n",
        "        Initialize an Email object.\n",
        "\n",
        "        Parameters:\n",
        "        - sender (str): Email sender.\n",
        "        - recipient (str): Email recipient.\n",
        "        - subject (str): Email subject.\n",
        "        - content (str): Email content.\n",
        "        \"\"\"\n",
        "        self.sender = sender\n",
        "        self.recipient = recipient\n",
        "        self.subject = subject\n",
        "        self.content = content\n",
        "\n",
        "    def send_email(self):\n",
        "        \"\"\"\n",
        "        Send the email.\n",
        "\n",
        "        Returns:\n",
        "        - str: Confirmation message for sending the email.\n",
        "        \"\"\"\n",
        "        # Logic for sending email (placeholder)\n",
        "        # You can customize this method based on your email sending mechanism\n",
        "        return f\"Email sent from {self.sender} to {self.recipient} with subject '{self.subject}'.\"\n",
        "\n",
        "    def display_email_details(self):\n",
        "        \"\"\"\n",
        "        Display details of the email.\n",
        "        \"\"\"\n",
        "        print(f\"Sender: {self.sender}\")\n",
        "        print(f\"Recipient: {self.recipient}\")\n",
        "        print(f\"Subject: {self.subject}\")\n",
        "        print(\"Content:\")\n",
        "        print(self.content)\n",
        "\n",
        "# Example usage:\n",
        "# Create Email objects\n",
        "email1 = Email(sender=\"mayur@example.com\", recipient=\"sushant@example.com\", subject=\"Meeting Tomorrow\", content=\"Hi Sush, let's meet tomorrow at 2 PM.\")\n",
        "email2 = Email(sender=\"sush@example.com\", recipient=\"Ketan@example.com\", subject=\"Project Update\", content=\"Hi Ketan, here's the latest update on the project.\")\n",
        "\n",
        "# Display details of the emails before sending\n",
        "email1.display_email_details()\n",
        "print(\"\\n\")  # Add a line break for better readability\n",
        "email2.display_email_details()\n",
        "\n",
        "# Send the emails\n",
        "send_status1 = email1.send_email()\n",
        "send_status2 = email2.send_email()\n",
        "\n",
        "# Display confirmation messages\n",
        "print(\"\\n\")  # Add a line break for better readability\n",
        "print(send_status1)\n",
        "print(send_status2)\n"
      ]
    },
    {
      "cell_type": "markdown",
      "id": "4afd88ee-89ea-4fed-857e-5db630d7fb4e",
      "metadata": {
        "id": "4afd88ee-89ea-4fed-857e-5db630d7fb4e"
      },
      "source": [
        "Problem 9: Social Media Profile Create a class representing a social media profile with attributes like username and posts. Implement methods to add posts, display posts, and search for posts by keyword."
      ]
    },
    {
      "cell_type": "code",
      "execution_count": null,
      "id": "205c0d67-77c2-485c-83bd-522bf22e5773",
      "metadata": {
        "id": "205c0d67-77c2-485c-83bd-522bf22e5773",
        "outputId": "a70d8089-84aa-46c4-d956-04ac467ba556"
      },
      "outputs": [
        {
          "name": "stdout",
          "output_type": "stream",
          "text": [
            "Posts by john_doe:\n",
            "1. Enjoying a sunny day at the beach!\n",
            "2. Trying out a new recipe for dinner.\n",
            "3. Coding late into the night. #Programming\n",
            "\n",
            "Search Results:\n",
            "1. Coding late into the night. #Programming\n"
          ]
        }
      ],
      "source": [
        "class SocialMediaProfile:\n",
        "    def __init__(self, username):\n",
        "        \"\"\"\n",
        "        Initialize a SocialMediaProfile object.\n",
        "\n",
        "        Parameters:\n",
        "        - username (str): Username of the social media profile.\n",
        "        \"\"\"\n",
        "        self.username = username\n",
        "        self.posts = []\n",
        "\n",
        "    def add_post(self, post_content):\n",
        "        \"\"\"\n",
        "        Add a post to the social media profile.\n",
        "\n",
        "        Parameters:\n",
        "        - post_content (str): Content of the post.\n",
        "        \"\"\"\n",
        "        self.posts.append(post_content)\n",
        "\n",
        "    def display_posts(self):\n",
        "        \"\"\"\n",
        "        Display all posts in the social media profile.\n",
        "        \"\"\"\n",
        "        print(f\"Posts by {self.username}:\")\n",
        "        for index, post in enumerate(self.posts, start=1):\n",
        "            print(f\"{index}. {post}\")\n",
        "\n",
        "    def search_posts_by_keyword(self, keyword):\n",
        "        \"\"\"\n",
        "        Search for posts containing a specific keyword.\n",
        "\n",
        "        Parameters:\n",
        "        - keyword (str): Keyword to search for.\n",
        "\n",
        "        Returns:\n",
        "        - list: List of posts containing the keyword.\n",
        "        \"\"\"\n",
        "        matching_posts = [post for post in self.posts if keyword.lower() in post.lower()]\n",
        "        return matching_posts\n",
        "\n",
        "# Example usage:\n",
        "# Create SocialMediaProfile object\n",
        "profile = SocialMediaProfile(username=\"john_doe\")\n",
        "\n",
        "# Add posts to the profile\n",
        "profile.add_post(\"Enjoying a sunny day at the beach!\")\n",
        "profile.add_post(\"Trying out a new recipe for dinner.\")\n",
        "profile.add_post(\"Coding late into the night. #Programming\")\n",
        "\n",
        "# Display all posts in the profile\n",
        "profile.display_posts()\n",
        "\n",
        "# Search for posts containing the keyword \"coding\"\n",
        "search_results = profile.search_posts_by_keyword(\"coding\")\n",
        "\n",
        "# Display search results\n",
        "print(\"\\nSearch Results:\")\n",
        "for index, post in enumerate(search_results, start=1):\n",
        "    print(f\"{index}. {post}\")\n"
      ]
    },
    {
      "cell_type": "markdown",
      "id": "fa872c36-264c-4a22-813d-95f8ec41dc17",
      "metadata": {
        "id": "fa872c36-264c-4a22-813d-95f8ec41dc17"
      },
      "source": [
        "Problem 10: ToDo List Create a class representing a ToDo list with attributes like tasks and due dates. Implement methods to add tasks, mark tasks as completed, and display pending tasks."
      ]
    },
    {
      "cell_type": "code",
      "execution_count": null,
      "id": "38a08d9e-a764-4af1-8efb-23389f87ce90",
      "metadata": {
        "id": "38a08d9e-a764-4af1-8efb-23389f87ce90",
        "outputId": "2f41a8d6-aeec-4857-9f7c-3fb197833999"
      },
      "outputs": [
        {
          "name": "stdout",
          "output_type": "stream",
          "text": [
            "Pending Tasks:\n",
            "- Finish project\n",
            "- Buy groceries (Due Date: 2024-02-01)\n",
            "- Call client\n",
            "Task 'Buy groceries' marked as completed.\n",
            "\n",
            "After marking task as completed:\n",
            "Pending Tasks:\n",
            "- Finish project\n",
            "- Call client\n"
          ]
        }
      ],
      "source": [
        "class ToDoList:\n",
        "    def __init__(self):\n",
        "        \"\"\"\n",
        "        Initialize a ToDoList object.\n",
        "        \"\"\"\n",
        "        self.tasks = []\n",
        "        self.due_dates = {}\n",
        "\n",
        "    def add_task(self, task, due_date=None):\n",
        "        \"\"\"\n",
        "        Add a task to the ToDo list.\n",
        "\n",
        "        Parameters:\n",
        "        - task (str): Task description.\n",
        "        - due_date (str, optional): Due date for the task (default is None).\n",
        "        \"\"\"\n",
        "        self.tasks.append(task)\n",
        "        if due_date:\n",
        "            self.due_dates[task] = due_date\n",
        "\n",
        "    def mark_task_completed(self, task):\n",
        "        \"\"\"\n",
        "        Mark a task as completed.\n",
        "\n",
        "        Parameters:\n",
        "        - task (str): Task to mark as completed.\n",
        "        \"\"\"\n",
        "        if task in self.tasks:\n",
        "            print(f\"Task '{task}' marked as completed.\")\n",
        "            self.tasks.remove(task)\n",
        "            if task in self.due_dates:\n",
        "                del self.due_dates[task]\n",
        "        else:\n",
        "            print(f\"Task '{task}' not found in the ToDo list.\")\n",
        "\n",
        "    def display_pending_tasks(self):\n",
        "        \"\"\"\n",
        "        Display pending tasks in the ToDo list.\n",
        "        \"\"\"\n",
        "        print(\"Pending Tasks:\")\n",
        "        for task in self.tasks:\n",
        "            due_date_info = f\" (Due Date: {self.due_dates[task]})\" if task in self.due_dates else \"\"\n",
        "            print(f\"- {task}{due_date_info}\")\n",
        "\n",
        "# Example usage:\n",
        "# Create ToDoList object\n",
        "todo_list = ToDoList()\n",
        "\n",
        "# Add tasks to the ToDo list\n",
        "todo_list.add_task(\"Finish project\")\n",
        "todo_list.add_task(\"Buy groceries\", due_date=\"2024-02-01\")\n",
        "todo_list.add_task(\"Call client\")\n",
        "\n",
        "# Display pending tasks\n",
        "todo_list.display_pending_tasks()\n",
        "\n",
        "# Mark a task as completed\n",
        "todo_list.mark_task_completed(\"Buy groceries\")\n",
        "\n",
        "# Display updated pending tasks\n",
        "print(\"\\nAfter marking task as completed:\")\n",
        "todo_list.display_pending_tasks()\n"
      ]
    },
    {
      "cell_type": "code",
      "execution_count": null,
      "id": "209dd451-819a-44ac-91e8-f76d81c9595d",
      "metadata": {
        "id": "209dd451-819a-44ac-91e8-f76d81c9595d"
      },
      "outputs": [],
      "source": []
    }
  ],
  "metadata": {
    "kernelspec": {
      "display_name": "Python 3 (ipykernel)",
      "language": "python",
      "name": "python3"
    },
    "language_info": {
      "codemirror_mode": {
        "name": "ipython",
        "version": 3
      },
      "file_extension": ".py",
      "mimetype": "text/x-python",
      "name": "python",
      "nbconvert_exporter": "python",
      "pygments_lexer": "ipython3",
      "version": "3.10.8"
    },
    "colab": {
      "provenance": []
    }
  },
  "nbformat": 4,
  "nbformat_minor": 5
}