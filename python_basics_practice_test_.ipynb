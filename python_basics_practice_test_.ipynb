{
  "cells": [
    {
      "cell_type": "markdown",
      "id": "78ba52b9-cf3a-4610-8b46-d68a0ab35ae9",
      "metadata": {
        "id": "78ba52b9-cf3a-4610-8b46-d68a0ab35ae9"
      },
      "source": [
        " **String Based Assignment Problem**\n",
        "\n",
        "\n"
      ]
    },
    {
      "cell_type": "markdown",
      "id": "cd2f0c0e-5b03-4289-bd26-13db3e572190",
      "metadata": {
        "id": "cd2f0c0e-5b03-4289-bd26-13db3e572190"
      },
      "source": [
        "**1**. Write a program to reverse a string."
      ]
    },
    {
      "cell_type": "code",
      "execution_count": 2,
      "id": "11a7f946-40c4-4adf-a09b-ef91eac38942",
      "metadata": {
        "id": "11a7f946-40c4-4adf-a09b-ef91eac38942"
      },
      "outputs": [],
      "source": [
        "def reverse_string(input_string):\n",
        "    return input_string[::-1]"
      ]
    },
    {
      "cell_type": "code",
      "execution_count": 3,
      "id": "67ad5f2a-7d92-4086-863e-f29578ae2ca5",
      "metadata": {
        "colab": {
          "base_uri": "https://localhost:8080/"
        },
        "id": "67ad5f2a-7d92-4086-863e-f29578ae2ca5",
        "outputId": "669f3102-e4e5-4fc6-ea0c-0f5fd630f022"
      },
      "outputs": [
        {
          "output_type": "stream",
          "name": "stdout",
          "text": [
            "Input_string: Hello World\n",
            "Reverse string: dlroW olleH\n"
          ]
        }
      ],
      "source": [
        "input_string = \"Hello World\"\n",
        "reverse_string = reverse_string(input_string)\n",
        "print(\"Input_string:\",input_string)\n",
        "print(\"Reverse string:\", reverse_string)"
      ]
    },
    {
      "cell_type": "markdown",
      "id": "6df0151c-7403-4341-8e85-d106b7105683",
      "metadata": {
        "id": "6df0151c-7403-4341-8e85-d106b7105683"
      },
      "source": [
        "The functiuon reverse_string that takes an input string and return its reverse using([::-1])"
      ]
    },
    {
      "cell_type": "markdown",
      "id": "5e21a1b5-62f1-4c51-876c-75e17eed51a8",
      "metadata": {
        "id": "5e21a1b5-62f1-4c51-876c-75e17eed51a8"
      },
      "source": [
        "2. Check if a string is a palindrome."
      ]
    },
    {
      "cell_type": "code",
      "execution_count": null,
      "id": "5a5f0b4b-001f-4b2e-8b1b-5ae4c57209ff",
      "metadata": {
        "id": "5a5f0b4b-001f-4b2e-8b1b-5ae4c57209ff"
      },
      "outputs": [],
      "source": [
        "def isPalindrome(input_string):\n",
        "    cleaned_string= ' '.join(char.lower() for char in input_string if char.isalnum())\n",
        "    return cleaned_string == cleaned_string[::-1]"
      ]
    },
    {
      "cell_type": "code",
      "execution_count": null,
      "id": "0fd0de73-e91e-4f7e-a7af-f8e92cf5a144",
      "metadata": {
        "id": "0fd0de73-e91e-4f7e-a7af-f8e92cf5a144",
        "outputId": "58076308-3080-4eff-e94c-33a80c35d756"
      },
      "outputs": [
        {
          "name": "stdout",
          "output_type": "stream",
          "text": [
            "the string \"I'm Great coder in the world\" is a palindrome: False\n"
          ]
        }
      ],
      "source": [
        "test_string = \"I'm Great coder in the world\"\n",
        "result = isPalindrome(test_string)\n",
        "print(f'the string \"{test_string}\" is a palindrome: {result}')"
      ]
    },
    {
      "cell_type": "code",
      "execution_count": null,
      "id": "777ce267-9ad4-4fdb-b70b-e83112a9850a",
      "metadata": {
        "id": "777ce267-9ad4-4fdb-b70b-e83112a9850a",
        "outputId": "99295010-b7af-4c61-f479-61deab7d962d"
      },
      "outputs": [
        {
          "name": "stdout",
          "output_type": "stream",
          "text": [
            "the string \"A man, a plan, a canal, Panama!\" is a palindrome: True\n"
          ]
        }
      ],
      "source": [
        "test_string = \"A man, a plan, a canal, Panama!\"\n",
        "result = isPalindrome(test_string)\n",
        "print(f'the string \"{test_string}\" is a palindrome: {result}')"
      ]
    },
    {
      "cell_type": "markdown",
      "id": "1f4847bb-4bf9-49b6-9fc9-8469e9c67b6f",
      "metadata": {
        "id": "1f4847bb-4bf9-49b6-9fc9-8469e9c67b6f"
      },
      "source": [
        "The function isPalindrome that removes non-alphanumeric character, converts the string to lowercase and then check if it reads the same backward."
      ]
    },
    {
      "cell_type": "markdown",
      "id": "7c2f7d61-d712-4465-875e-3cad21d2fced",
      "metadata": {
        "id": "7c2f7d61-d712-4465-875e-3cad21d2fced"
      },
      "source": [
        "3. Convert a string to uppercase."
      ]
    },
    {
      "cell_type": "code",
      "execution_count": null,
      "id": "55e2e36f-e3cd-4e15-9a4d-4ed52a057ed2",
      "metadata": {
        "id": "55e2e36f-e3cd-4e15-9a4d-4ed52a057ed2",
        "outputId": "c577c552-1572-4d42-dcb3-ab9292ac930b"
      },
      "outputs": [
        {
          "name": "stdout",
          "output_type": "stream",
          "text": [
            "Input string: Gayatri Kale\n",
            "Uppercase string: GAYATRI KALE\n"
          ]
        }
      ],
      "source": [
        "input_string = \"Gayatri Kale\"\n",
        "uppercase_string = input_string.upper()\n",
        "\n",
        "print(\"Input string:\",input_string)\n",
        "print(\"Uppercase string:\", uppercase_string)\n"
      ]
    },
    {
      "cell_type": "markdown",
      "id": "a166487c-c893-4f98-bede-22c0d7805275",
      "metadata": {
        "id": "a166487c-c893-4f98-bede-22c0d7805275"
      },
      "source": [
        "input_string = \"Gayatri Kale\" : the input string the we want to convert to uppercase.\n",
        "\n",
        "uppercase_string = input_string.uppercase(): upper() can be apply to string to convert then to uppercase.this method is involved input_string, and the result is stored in the variable uppercase_string.\n",
        "\n",
        "print(\"Input string:\",input_string)\n",
        "print(\"Uppercase string:\", uppercase_string) : This will display the input string and its uppercase version.\n"
      ]
    },
    {
      "cell_type": "markdown",
      "id": "98ee4fdb-49cc-46e3-96bf-1f57cebeb8ad",
      "metadata": {
        "id": "98ee4fdb-49cc-46e3-96bf-1f57cebeb8ad"
      },
      "source": [
        "4. Convert a string to lowercase."
      ]
    },
    {
      "cell_type": "code",
      "execution_count": null,
      "id": "317ad786-d8f1-4127-bbb7-18c848cbb9e1",
      "metadata": {
        "id": "317ad786-d8f1-4127-bbb7-18c848cbb9e1",
        "outputId": "1c73773b-f948-416a-95f6-f6e323c1ac1a"
      },
      "outputs": [
        {
          "name": "stdout",
          "output_type": "stream",
          "text": [
            "Input string: GAYATRI KALE\n",
            "Lowercase string: gayatri kale\n"
          ]
        }
      ],
      "source": [
        "input_string = \"GAYATRI KALE\"\n",
        "lowercase_string = input_string.lower()\n",
        "\n",
        "print(\"Input string:\", input_string)\n",
        "print(\"Lowercase string:\", lowercase_string)"
      ]
    },
    {
      "cell_type": "markdown",
      "id": "6078e4f7-e4d5-4788-9f47-1def49ec98a1",
      "metadata": {
        "id": "6078e4f7-e4d5-4788-9f47-1def49ec98a1"
      },
      "source": [
        "input_string = \"GAYATRI KALE\" : the input string that we want to convert to lowercase.\n",
        "\n",
        "lowercase_string = input_string.lower() : lower() can be applied to string to convert them to lowercase. This method is involved input_string and the result is stored in the variable lowercase_string.\n",
        "\n",
        "print(\"Input string:\", input_string)\n",
        "print(\"Lowercase string:\", lowercase_string): This will display the input string and its lowercase version."
      ]
    },
    {
      "cell_type": "markdown",
      "id": "5fbff424-2668-42d1-ac13-52e14bdcb395",
      "metadata": {
        "id": "5fbff424-2668-42d1-ac13-52e14bdcb395"
      },
      "source": [
        "5. Count the number of vowels in a string."
      ]
    },
    {
      "cell_type": "code",
      "execution_count": 4,
      "id": "08501fce-d809-4d1f-93de-8ec524a25d35",
      "metadata": {
        "colab": {
          "base_uri": "https://localhost:8080/"
        },
        "id": "08501fce-d809-4d1f-93de-8ec524a25d35",
        "outputId": "03d0f082-7944-4677-f006-9b4e64e5469e"
      },
      "outputs": [
        {
          "output_type": "stream",
          "name": "stdout",
          "text": [
            "Enter a sentence:hello dada\n",
            "Number of vowels:  3\n"
          ]
        }
      ],
      "source": [
        "# Declaring the variable to take input from the user.\n",
        "sentence = input(\"Enter a sentence:\")\n",
        "\n",
        "# Initialize to zero.\n",
        "no_vowels = 0\n",
        "\n",
        "# Specify the vowels that we want to count. Here, we consider both uppercase and lowercase vowels.\n",
        "vowels = \"aeiouAEIOU\"\n",
        "\n",
        "# for loop to iterate though each char in the input string.\n",
        "for char  in input_string:\n",
        "\n",
        "    # within the loop, check if each character is vowel by using the in operator to see if it is exists in the vowels string.\n",
        "    if char in vowels:\n",
        "\n",
        "        #if character is a vowel, increment the vowel_count variable.\n",
        "        no_vowels +=1\n",
        "\n",
        "# Print the input string and the no. of vowels.\n",
        "print(\"Number of vowels: \", no_vowels)"
      ]
    },
    {
      "cell_type": "markdown",
      "id": "712d8ba9-54b2-4a80-bddb-7702aacedb37",
      "metadata": {
        "id": "712d8ba9-54b2-4a80-bddb-7702aacedb37"
      },
      "source": [
        "6. Count the number of consonants in a string."
      ]
    },
    {
      "cell_type": "code",
      "execution_count": 5,
      "id": "a39474d7-982d-4722-a1d6-630e15c28845",
      "metadata": {
        "colab": {
          "base_uri": "https://localhost:8080/"
        },
        "id": "a39474d7-982d-4722-a1d6-630e15c28845",
        "outputId": "91f60afa-bf47-49c0-d5b0-db68e2f398d0"
      },
      "outputs": [
        {
          "output_type": "stream",
          "name": "stdout",
          "text": [
            " Enter a string:raje tumhich\n",
            "The number of consonants in the string is: 7\n"
          ]
        }
      ],
      "source": [
        "# Taking the input from the user\n",
        "sentence = input(\" Enter a string:\")\n",
        "\n",
        "# Converting the string to lowercase to ensuring a case insentive count.\n",
        "lowercase_input = sentence.lower()\n",
        "\n",
        "#intializing counter\n",
        "consonant_count = 0\n",
        "\n",
        "#Iterate through each character in the string and check if it's a consonant.\n",
        "# This step ensuring that only alphabetic character are considered and vowels are excluded from the count.\n",
        "for char in lowercase_input:\n",
        "    if char.isalpha() and char not in \"aeiou\":\n",
        "        consonant_count += 1\n",
        "\n",
        "# Print the total count of consonants.\n",
        "print(\"The number of consonants in the string is:\",consonant_count)\n",
        ""
      ]
    },
    {
      "cell_type": "markdown",
      "id": "881795a6-84c6-4d0f-9a7e-8fa5b474fcef",
      "metadata": {
        "id": "881795a6-84c6-4d0f-9a7e-8fa5b474fcef"
      },
      "source": [
        "7. Remove all whitespaces from a string."
      ]
    },
    {
      "cell_type": "code",
      "execution_count": null,
      "id": "35e5bbf2-acbf-42c0-a37f-dc518d29adb4",
      "metadata": {
        "id": "35e5bbf2-acbf-42c0-a37f-dc518d29adb4",
        "outputId": "f2c3ad04-b2e0-4015-daed-5d1d281bdfb4"
      },
      "outputs": [
        {
          "name": "stdout",
          "output_type": "stream",
          "text": [
            "string without white spaces: Peterputhisphoneinhispocket.\n"
          ]
        }
      ],
      "source": [
        "# Taking the input from the user.\n",
        "input= \" Peter put his phone in his pocket. \"\n",
        "\n",
        "#Using replace method to remove all white spaces from string. This step replaces each space character with an empty string.\n",
        "no_whitespace = sentence.replace(\" \",\"\")\n",
        "\n",
        "# Print the modified string with no white spaces.\n",
        "print(\"string without white spaces:\",no_whitespace)"
      ]
    },
    {
      "cell_type": "markdown",
      "id": "883a44f8-b35d-4d3d-ae6b-c9a39ef1d223",
      "metadata": {
        "id": "883a44f8-b35d-4d3d-ae6b-c9a39ef1d223"
      },
      "source": [
        "8. Find the length of a string without using the `len()` function."
      ]
    },
    {
      "cell_type": "code",
      "execution_count": null,
      "id": "657d2839-95cf-4b7e-9568-2c9f4efa4d41",
      "metadata": {
        "id": "657d2839-95cf-4b7e-9568-2c9f4efa4d41",
        "outputId": "d8bcd2d7-bde0-448d-a2ba-a2a2d579215d"
      },
      "outputs": [
        {
          "name": "stdout",
          "output_type": "stream",
          "text": [
            "Length of the string: 40\n"
          ]
        }
      ],
      "source": [
        "# Taking input from the users.\n",
        "input = \" Harry has a habit of humming in public.\"\n",
        "\n",
        "#Initializing a counter variable to keep track of the length.\n",
        "length_counter = 0\n",
        "\n",
        "# Iterating through each char in the string using a for loop.In each iteration,increment the counter.\n",
        "for char in input:\n",
        "    length_counter += 1\n",
        "\n",
        "#Print the calculated length of the string.\n",
        "print(\"Length of the string:\", length_counter)\n",
        ""
      ]
    },
    {
      "cell_type": "markdown",
      "id": "7b49dc7b-fe20-48a1-9df5-5004b09d42a1",
      "metadata": {
        "id": "7b49dc7b-fe20-48a1-9df5-5004b09d42a1"
      },
      "source": [
        "9. Check if a string contains a specific word."
      ]
    },
    {
      "cell_type": "code",
      "execution_count": null,
      "id": "b93e57b9-692b-4c7d-a374-972b104d67cd",
      "metadata": {
        "id": "b93e57b9-692b-4c7d-a374-972b104d67cd",
        "outputId": "42eb1440-432e-445c-dc01-39b25ba7e15d"
      },
      "outputs": [
        {
          "name": "stdout",
          "output_type": "stream",
          "text": [
            "The string contains the word 'powerful'\n"
          ]
        }
      ],
      "source": [
        "#Taking the input and the specific word to check from the user.\n",
        "input = \"Python is a powerful programming language.\"\n",
        "specific_word = \"powerful\"\n",
        "\n",
        "#Using in operator to check if the specific word is present in the input string.\n",
        "#The in operator returns True if the specified word is found in the string, otherwise, it returns False.\n",
        "contains_word = specific_word in input\n",
        "\n",
        "                #Print whether the string contains the specific word or not.\n",
        "if contains_word:\n",
        "        print(f\"The string contains the word '{specific_word}'\")\n",
        "else:\n",
        "        print(f\"The string does not contains the word '{specific_word}'\")"
      ]
    },
    {
      "cell_type": "markdown",
      "id": "a9ed6d0d-1ac3-4281-beb9-ef3c126844ab",
      "metadata": {
        "id": "a9ed6d0d-1ac3-4281-beb9-ef3c126844ab"
      },
      "source": [
        "10. Replace a word in a string with another word."
      ]
    },
    {
      "cell_type": "code",
      "execution_count": null,
      "id": "b13a1bce-feb9-42c7-9a68-4108f19f35dd",
      "metadata": {
        "id": "b13a1bce-feb9-42c7-9a68-4108f19f35dd",
        "outputId": "bd45e45a-a8cb-4c56-dc27-20878cc029db"
      },
      "outputs": [
        {
          "name": "stdout",
          "output_type": "stream",
          "text": [
            "Modified string: Python is a great programming language.\n"
          ]
        }
      ],
      "source": [
        "#Taking input form the user the word to be replaced and the replacement word from the user.\n",
        "input = \"Python is a powerful programming language.\"\n",
        "word_to_replace = \"powerful\"\n",
        "replacement_word = \"great\"\n",
        "\n",
        "#Using the replace method to replace occurances of the specified word with the replacement word in the input string.\n",
        "#this method returns a new string with the specified replacement.\n",
        "modified_string = input.replace(word_to_replace, replacement_word)\n",
        "\n",
        "#Print the modified string with the word replaced.\n",
        "print(\"Modified string:\", modified_string)"
      ]
    },
    {
      "cell_type": "markdown",
      "id": "c4cb393b-6be3-479f-8214-c993f6b7d1ee",
      "metadata": {
        "id": "c4cb393b-6be3-479f-8214-c993f6b7d1ee"
      },
      "source": [
        "11. Count the occurrences of a word in a string."
      ]
    },
    {
      "cell_type": "code",
      "execution_count": null,
      "id": "576fa9e7-4d44-4e0f-b3de-4752fc04d837",
      "metadata": {
        "id": "576fa9e7-4d44-4e0f-b3de-4752fc04d837",
        "outputId": "998864c5-3cee-45e5-e74a-41500ef5a716"
      },
      "outputs": [
        {
          "name": "stdout",
          "output_type": "stream",
          "text": [
            "The word 'Python' occurs 2 times in the string.\n"
          ]
        }
      ],
      "source": [
        "# Take the input from the user, the word whose occurrence we want to count.\n",
        "input = \"Python is a versatile programming language. Python is also known for its readability.\"\n",
        "word_to_count = \"Python\"\n",
        "\n",
        "#Using the split method to split the input into a list of words.This step seperates the string into individual words based on spaces.\n",
        "words_list = input.split()\n",
        "\n",
        "#Initialze a counter variable to keep track of the occurrences of the specified word.\n",
        "word_count = 0\n",
        "\n",
        "#Iterate through the words in the list and increment the counter each time the specified word is found.\n",
        "for word in words_list:\n",
        "    if word == word_to_count:\n",
        "        word_count += 1\n",
        "\n",
        "#print the total count of occurrences.\n",
        "print(f\"The word '{word_to_count}' occurs {word_count} times in the string.\")\n"
      ]
    },
    {
      "cell_type": "markdown",
      "id": "45b2dce7-2ab4-4ddd-978b-bbf9a58ded68",
      "metadata": {
        "id": "45b2dce7-2ab4-4ddd-978b-bbf9a58ded68"
      },
      "source": [
        "12. Find the first occurrence of a word in a string."
      ]
    },
    {
      "cell_type": "code",
      "execution_count": null,
      "id": "25a81464-62f0-4238-9b1b-74a137bb2cd5",
      "metadata": {
        "id": "25a81464-62f0-4238-9b1b-74a137bb2cd5",
        "outputId": "64d255dd-4238-4faa-d4ec-c303d535dba9"
      },
      "outputs": [
        {
          "name": "stdout",
          "output_type": "stream",
          "text": [
            "The first occurrence of 'python' is at index 6.\n"
          ]
        }
      ],
      "source": [
        "#Taking input from user.\n",
        "input = \"Python is a versatile programming language. python is also known for its readability.\"\n",
        "\n",
        "#Word to find the first occurence\n",
        "word_to_find = \"python\"\n",
        "\n",
        "#Split the string into a list of words\n",
        "words_list = input.split()\n",
        "\n",
        "#Find the first occurrence\n",
        "first_occurrence_index = -1 #Defaulf value if the word is not found.\n",
        "\n",
        "for i,word in enumerate(words_list):\n",
        "    if word == word_to_find:\n",
        "        first_occurrence_index = i\n",
        "        break\n",
        "\n",
        "#Display the result.\n",
        "if first_occurrence_index != -1:\n",
        "    print(f\"The first occurrence of '{word_to_find}' is at index {first_occurrence_index}.\")\n",
        "else:\n",
        "    print(f\"The word '{word_to_find}' is not found in the string.\")"
      ]
    },
    {
      "cell_type": "markdown",
      "id": "bc546af8-68f5-4bb9-9114-e8b5cd4f50f6",
      "metadata": {
        "id": "bc546af8-68f5-4bb9-9114-e8b5cd4f50f6"
      },
      "source": [
        "12. Find the first occurrence of a word in a string."
      ]
    },
    {
      "cell_type": "code",
      "execution_count": null,
      "id": "b784b64f-5946-4abc-a3ce-ba5f8a083b08",
      "metadata": {
        "id": "b784b64f-5946-4abc-a3ce-ba5f8a083b08",
        "outputId": "8199a35a-98ac-4fe7-c0e7-889bec7c99db"
      },
      "outputs": [
        {
          "name": "stdout",
          "output_type": "stream",
          "text": [
            "The last occurrence of 'python' is at index 6.\n"
          ]
        }
      ],
      "source": [
        "#input from user\n",
        "input =  \"Python is a versatile programming language. python is also known for its readability.\"\n",
        "\n",
        "#Word to find the first occurence\n",
        "word_to_find = \"python\"\n",
        "\n",
        "#Split the string into a list of words\n",
        "words_list = input.split()\n",
        "\n",
        "#Find the last occurrence\n",
        "last_occurrence_index = -1 #Default value if the word is not found.\n",
        "\n",
        "for i,word in enumerate(words_list):\n",
        "    if word == word_to_find:\n",
        "        last_occurrence_index = i\n",
        "\n",
        "#Display the result\n",
        "if last_occurrence_index != -1:\n",
        "    print(f\"The last occurrence of '{word_to_find}' is at index {last_occurrence_index}.\")\n",
        "else:\n",
        "    print(f\"The word '{word_to_find}' is not found in the string.\")"
      ]
    },
    {
      "cell_type": "markdown",
      "id": "3b7767c8-39d9-447c-a689-8d7eb6c168d1",
      "metadata": {
        "id": "3b7767c8-39d9-447c-a689-8d7eb6c168d1"
      },
      "source": [
        "13. Find the last occurrence of a word in a string."
      ]
    },
    {
      "cell_type": "code",
      "execution_count": null,
      "id": "a9472b7b-058e-466e-ad0b-3eb087f0e673",
      "metadata": {
        "id": "a9472b7b-058e-466e-ad0b-3eb087f0e673",
        "outputId": "e81d6a76-9621-4ee2-ea31-d9a5ba85f715"
      },
      "outputs": [
        {
          "name": "stdout",
          "output_type": "stream",
          "text": [
            "The last occurrence of 'Python' is at index 0.\n"
          ]
        }
      ],
      "source": [
        "# Taking input from the users\n",
        "input =  \"Python is a versatile programming language. python is also known for its readability.\"\n",
        "\n",
        "# Word to find the last  occurrence\n",
        "word_to_find = \"Python\"\n",
        "\n",
        "# Spliting the string into a list of words\n",
        "words_list = input.split()\n",
        "\n",
        "#Find the last occurrence\n",
        "last_occurrence_index = -1 #Default value if the word is not found\n",
        "\n",
        "for i in range(len(words_list) -1, -1, -1):\n",
        "    if words_list[i] == word_to_find:\n",
        "        last_occurrence_index = i\n",
        "        break\n",
        "\n",
        "#Print the index of the last occurrence or a message if the word is not found.\n",
        "if last_occurrence_index != -1:\n",
        "    print(f\"The last occurrence of '{word_to_find}' is at index {last_occurrence_index}.\")\n",
        "else:\n",
        "    print(f\"The word '{word_to_find}' is not found in the string.\")\n"
      ]
    },
    {
      "cell_type": "markdown",
      "id": "616e07f8-5fd7-40e8-9f61-a386db4d8c30",
      "metadata": {
        "id": "616e07f8-5fd7-40e8-9f61-a386db4d8c30"
      },
      "source": [
        "14. Split a string into a list of words."
      ]
    },
    {
      "cell_type": "code",
      "execution_count": null,
      "id": "d65c1c87-14ae-46a5-a1ae-f9a80b0ae470",
      "metadata": {
        "id": "d65c1c87-14ae-46a5-a1ae-f9a80b0ae470",
        "outputId": "063158d6-5f23-4262-c7eb-a35d805d1e26"
      },
      "outputs": [
        {
          "name": "stdout",
          "output_type": "stream",
          "text": [
            "Original_string: Python is a versatile programming language.\n",
            "List of words: ['Python', 'is', 'a', 'versatile', 'programming', 'language.']\n"
          ]
        }
      ],
      "source": [
        "#Take the input that we want to split into words.\n",
        "input = \"Python is a versatile programming language.\"\n",
        "\n",
        "# Apply the split method to the input. By default, this method splits the string into a list of words based om whitespace.\n",
        "\n",
        "words_list = input.split()\n",
        "\n",
        "\n",
        "#Print both the original string and the list of words.\n",
        "print(\"Original_string:\" , input)\n",
        "print(\"List of words:\" , words_list)\n",
        "\n"
      ]
    },
    {
      "cell_type": "markdown",
      "id": "c296e871-5fe2-4021-a1e2-86dfbad384b5",
      "metadata": {
        "id": "c296e871-5fe2-4021-a1e2-86dfbad384b5"
      },
      "source": [
        "15. Join a list of words into a string."
      ]
    },
    {
      "cell_type": "code",
      "execution_count": null,
      "id": "4269418d-9b4d-4e6b-9442-975a98f9d7d0",
      "metadata": {
        "id": "4269418d-9b4d-4e6b-9442-975a98f9d7d0",
        "outputId": "1c4e3643-edb9-4694-bcd0-fd5082355675"
      },
      "outputs": [
        {
          "name": "stdout",
          "output_type": "stream",
          "text": [
            "Original list of words: ['Python', 'is', 'a', 'versatile', 'programming', 'language.']\n",
            "Joined string: Python is a versatile programming language.\n"
          ]
        }
      ],
      "source": [
        "# Creating a list of words that you want to join into a string\n",
        "words_list = ['Python' , 'is' , 'a' , 'versatile' , 'programming' , 'language.']\n",
        "\n",
        "#Using the join method on a string to concatenate the list of words.\n",
        "joined_string = ' '.join(words_list) # In this example, a space(' ') is used as the separator between the words. We can use any string as a separator.\n",
        "\n",
        "# Print both the original list of words and the joined string.\n",
        "print(\"Original list of words:\" , words_list)\n",
        "print(\"Joined string:\", joined_string)"
      ]
    },
    {
      "cell_type": "markdown",
      "id": "be93b017-41ac-4e75-bf0e-84e31468b6fa",
      "metadata": {
        "id": "be93b017-41ac-4e75-bf0e-84e31468b6fa"
      },
      "source": [
        "16. Convert a string where words are separated by spaces to one where words\n",
        "are separated by underscores."
      ]
    },
    {
      "cell_type": "code",
      "execution_count": null,
      "id": "c6208f1f-43cd-42c6-903e-2dc04638ff60",
      "metadata": {
        "id": "c6208f1f-43cd-42c6-903e-2dc04638ff60",
        "outputId": "85ccf1c0-173f-4ad9-f0a8-bcf236572e5f"
      },
      "outputs": [
        {
          "name": "stdout",
          "output_type": "stream",
          "text": [
            "Original string: Python is a versatile programming language.\n",
            "Converted string: Python_is_a_versatile_programming_language.\n"
          ]
        }
      ],
      "source": [
        "# Taking the input string where words are separated by spaces.\n",
        "input_string = \"Python is a versatile programming language.\"\n",
        "\n",
        "#Using the replace method to replace spaces with underscores in the input string.\n",
        "converted_string = input_string.replace(' ','_')\n",
        "\n",
        "#Print both the original string and the converted string.\n",
        "print(\"Original string:\" , input_string)\n",
        "print(\"Converted string:\", converted_string)"
      ]
    },
    {
      "cell_type": "markdown",
      "id": "638888ad-7205-4101-a316-e15be14adfe8",
      "metadata": {
        "id": "638888ad-7205-4101-a316-e15be14adfe8"
      },
      "source": [
        "17. Check if a string starts with a specific word or phrase."
      ]
    },
    {
      "cell_type": "code",
      "execution_count": null,
      "id": "7dcc02ec-1da9-44d0-a238-229db5145b5b",
      "metadata": {
        "id": "7dcc02ec-1da9-44d0-a238-229db5145b5b",
        "outputId": "6c1b64cc-5719-4199-f01f-974733a0b3bc"
      },
      "outputs": [
        {
          "name": "stdout",
          "output_type": "stream",
          "text": [
            "The string starts with 'Python'.\n"
          ]
        }
      ],
      "source": [
        "# Take the input string and the specific word or phrase to check from the user.\n",
        "input_string = \"Python is known for its readability.\"\n",
        "specific_word = \"Python\"\n",
        "\n",
        "#Use the startswith method to check if the input string starts with the specified word or phrase.\n",
        "starts_with_specific_word =  input_string.startswith(specific_word) # The startswith method returns True if the string starts with the specified prefix, otherwise, it returns Fales.\n",
        "\n",
        "# Print whether the string starts with the specified word or phrase.\n",
        "if starts_with_specific_word:\n",
        "    print(f\"The string starts with '{specific_word}'.\")\n",
        "else:\n",
        "    print(f\"The string does not start with '{specific_word}'.\")\n"
      ]
    },
    {
      "cell_type": "markdown",
      "id": "e5046956-f78b-4498-9e09-68fe0f15ea3c",
      "metadata": {
        "id": "e5046956-f78b-4498-9e09-68fe0f15ea3c"
      },
      "source": [
        "18. Check if a string ends with a specific word or phrase."
      ]
    },
    {
      "cell_type": "code",
      "execution_count": null,
      "id": "3742050b-517a-4e58-a0fa-5933d5544a29",
      "metadata": {
        "id": "3742050b-517a-4e58-a0fa-5933d5544a29",
        "outputId": "17dc9448-dfb9-47d2-bfde-e0dffe9c720c"
      },
      "outputs": [
        {
          "name": "stdout",
          "output_type": "stream",
          "text": [
            "The string does not end with 'readability'.\n"
          ]
        }
      ],
      "source": [
        "# Take the input string and the specific word or phrase to check from the user\n",
        "input_string = \"Python is known for its readability.\"\n",
        "specific_word = \"readability\"\n",
        "\n",
        "# Use the endswith method to check if the input string ends with the specified word or phrase.\n",
        "ends_with_specific_word = input_string.endswith(specific_word)\n",
        "# The endseith method returns True if the string ends with the specified suffix;otherwise,it returns False.\n",
        "\n",
        "# Print whether the string ends with the specified word or phrase.\n",
        "if ends_with_specific_word:\n",
        "    print(f\"The string ends with '{specific_word}'.\")\n",
        "else:\n",
        "    print(f\"The string does not end with '{specific_word}'.\")"
      ]
    },
    {
      "cell_type": "markdown",
      "id": "97377bd3-e831-4198-ae47-41887208655b",
      "metadata": {
        "id": "97377bd3-e831-4198-ae47-41887208655b"
      },
      "source": [
        "19. Convert a string to title case (e.g., \"hello world\" to \"Hello World\")."
      ]
    },
    {
      "cell_type": "code",
      "execution_count": null,
      "id": "c2d48b32-2f84-4a2e-a41b-e7d736fe17c4",
      "metadata": {
        "id": "c2d48b32-2f84-4a2e-a41b-e7d736fe17c4",
        "outputId": "459fdf57-af8d-45aa-9df2-247e2005030f"
      },
      "outputs": [
        {
          "name": "stdout",
          "output_type": "stream",
          "text": [
            "Original string:  hello world\n",
            "Title case string:  Hello World\n"
          ]
        }
      ],
      "source": [
        "# Take the input string that we want to convert to title case.\n",
        "input_string = \"hello world\"\n",
        "\n",
        "# Apply the title method to the input string. This method capitalizes the first letter of each word in the string.\n",
        "title_case_string = input_string.title()\n",
        "\n",
        "#Print both the original string and the string converted to title case.\n",
        "print(\"Original string: \", input_string)\n",
        "print(\"Title case string: \", title_case_string)"
      ]
    },
    {
      "cell_type": "markdown",
      "id": "63da6341-ec2d-4602-abf6-13c30319c224",
      "metadata": {
        "id": "63da6341-ec2d-4602-abf6-13c30319c224"
      },
      "source": [
        "20. Find the longest word in a string."
      ]
    },
    {
      "cell_type": "code",
      "execution_count": null,
      "id": "d304dcca-ba8b-4177-94f5-6b09378cf4a4",
      "metadata": {
        "id": "d304dcca-ba8b-4177-94f5-6b09378cf4a4",
        "outputId": "aa091762-9942-4d34-a217-a2ec3f3fa36f"
      },
      "outputs": [
        {
          "name": "stdout",
          "output_type": "stream",
          "text": [
            "Longest word: programming\n",
            "Length of the longest word: 11\n"
          ]
        }
      ],
      "source": [
        "#Take the input string from the user\n",
        "input_string = \"Python is a versatile programming language, and programming is fun!\"\n",
        "\n",
        "# Use the split method to split the input string into a list of words.\n",
        "words_list = input_string.split()\n",
        "\n",
        "#Initialize variables to keep track of the longest word and its length\n",
        "longest_word = \"\"\n",
        "max_length = 0\n",
        "\n",
        "#Iterate through the words in the list and update the variables if a longer word is found.\n",
        "for word in words_list:\n",
        "    if len(word) > max_length:\n",
        "        longest_word = word\n",
        "        max_length = len(word)\n",
        "\n",
        "# Print the longest word and its length\n",
        "print(\"Longest word:\", longest_word)\n",
        "print(\"Length of the longest word:\", max_length)"
      ]
    },
    {
      "cell_type": "markdown",
      "id": "cfce54b0-be5e-4177-aca8-31a962e073d4",
      "metadata": {
        "id": "cfce54b0-be5e-4177-aca8-31a962e073d4"
      },
      "source": [
        "21. Find the shortest word in a string."
      ]
    },
    {
      "cell_type": "code",
      "execution_count": null,
      "id": "9f957966-b210-40b6-afaa-a72e726834a5",
      "metadata": {
        "id": "9f957966-b210-40b6-afaa-a72e726834a5",
        "outputId": "255097ac-0dc6-46aa-970e-f04bfbf1fb3e"
      },
      "outputs": [
        {
          "name": "stdout",
          "output_type": "stream",
          "text": [
            "Shortest word:  a\n",
            "Length of the shortest word:  1\n"
          ]
        }
      ],
      "source": [
        "# Take the input string from the user\n",
        "input_string = \"Python is a versatile programming language, and programming is fun!\"\n",
        "\n",
        "#Split the string into a list of words\n",
        "words_list = input_string.split()\n",
        "\n",
        "#Initialize variables\n",
        "shortest_word = None\n",
        "min_length = float('inf') #Initialize with positive infinity\n",
        "\n",
        "# Find the shortest word\n",
        "for word in words_list:\n",
        "    if len(word) < min_length:\n",
        "        shortest_word = word\n",
        "        min_length = len(word)\n",
        "\n",
        "#Display the result\n",
        "print(\"Shortest word: \", shortest_word)\n",
        "print(\"Length of the shortest word: \", min_length)"
      ]
    },
    {
      "cell_type": "markdown",
      "id": "c75b56a6-e19a-4925-a200-20fcb1c9701d",
      "metadata": {
        "id": "c75b56a6-e19a-4925-a200-20fcb1c9701d"
      },
      "source": [
        "22. Reverse the order of words in a string."
      ]
    },
    {
      "cell_type": "code",
      "execution_count": null,
      "id": "3307edb4-c434-40ba-884f-4a7050a7babf",
      "metadata": {
        "id": "3307edb4-c434-40ba-884f-4a7050a7babf"
      },
      "outputs": [],
      "source": [
        "input_string = \"Python is a versatile programming language.\"\n",
        "words_list = input_string.split()\n",
        "reversed_words_list = words_list[::-1]\n",
        "reversed_string = ' '.join(reversed_words_list)\n",
        "print(\"Reversed string:\", reversed_string)"
      ]
    },
    {
      "cell_type": "markdown",
      "id": "b0715ab0-02be-44a3-9ad1-04619228c0ad",
      "metadata": {
        "id": "b0715ab0-02be-44a3-9ad1-04619228c0ad"
      },
      "source": [
        "23. Check if a string is alphanumeric.\n"
      ]
    },
    {
      "cell_type": "code",
      "execution_count": null,
      "id": "1c8d8006-8b58-44e8-a2d5-362418090497",
      "metadata": {
        "id": "1c8d8006-8b58-44e8-a2d5-362418090497",
        "outputId": "51a95668-5800-40d3-acbc-e8b37356099b"
      },
      "outputs": [
        {
          "name": "stdout",
          "output_type": "stream",
          "text": [
            "The string 'Hello123' is alphanumeric.\n"
          ]
        }
      ],
      "source": [
        "# Function to check if a string is alphanumeric\n",
        "def is_alphanumeric(input_string):\n",
        "\n",
        "        # Check if the string is alphanumeric using the isalnum() method\n",
        "        return input_string.isalnum()\n",
        "\n",
        "# Example usage\n",
        "test_string = \"Hello123\"\n",
        "result = is_alphanumeric(test_string)\n",
        "\n",
        "# Display the result\n",
        "if result:\n",
        "    print(f\"The string '{test_string}' is alphanumeric.\")\n",
        "else:\n",
        "    print(f\"The string '{test_string}' is not alphanumeric.\")"
      ]
    },
    {
      "cell_type": "markdown",
      "id": "594babae-515e-4112-a54d-9ddc495d6a27",
      "metadata": {
        "id": "594babae-515e-4112-a54d-9ddc495d6a27"
      },
      "source": [
        "24. Extract all digits from a string.\n"
      ]
    },
    {
      "cell_type": "code",
      "execution_count": null,
      "id": "a9f2cbb0-57f2-4173-97d8-2b4666262823",
      "metadata": {
        "id": "a9f2cbb0-57f2-4173-97d8-2b4666262823",
        "outputId": "8b4566e0-1933-4f4b-ebbd-8fffc8a28513"
      },
      "outputs": [
        {
          "name": "stdout",
          "output_type": "stream",
          "text": [
            "The extracted digits from the string are: None\n"
          ]
        }
      ],
      "source": [
        "# Function to extract all digits from a string\n",
        "def extract_digits(input_string):\n",
        "\n",
        "     # Use a list comprehension to extract digits from the string\n",
        "        digits = [char for char in input_string if char.isdigit()]\n",
        "\n",
        "          # Join the extracted digits into a string\n",
        "        result_digit = ' '.join(digits)\n",
        "\n",
        "# Example usage\n",
        "input_str = \"Hello123!\"\n",
        "result = extract_digits(input_str)\n",
        "\n",
        "# Display the result\n",
        "print(f\"The extracted digits from the string are: {result}\")\n",
        ""
      ]
    },
    {
      "cell_type": "markdown",
      "id": "7f40bfcc-ebbc-4c27-94aa-bc45dd26d03c",
      "metadata": {
        "id": "7f40bfcc-ebbc-4c27-94aa-bc45dd26d03c"
      },
      "source": [
        "We define a function extract_digits that takes a string (input_string) as its parameter.\n",
        "List Comprehension to Extract Digits:\n",
        "\n",
        "We use a list comprehension to iterate through each character in the input string (input_string).\n",
        "The condition char.isdigit() checks if the character is a digit (0-9).\n",
        "The result is a list (digits) containing only the numeric characters from the string.\n",
        "\n",
        "\n",
        "We use the join() method to concatenate the extracted digits into a single string.\n",
        "\n",
        "\n",
        "The function returns the final string containing only the extracted digits.\n",
        "\n",
        "\n",
        "We provide an example string (\"Hello123! This is an example with 456 digits.\") and call the extract_digits function with this string.\n",
        "\n",
        "\n",
        "Finally, we print the result, which is the string containing only the extracted digits.\n"
      ]
    },
    {
      "cell_type": "markdown",
      "id": "7d183ba9-0278-48a4-9d6f-c651f2a25c8f",
      "metadata": {
        "id": "7d183ba9-0278-48a4-9d6f-c651f2a25c8f"
      },
      "source": [
        "25. Extract all alphabets from a string.\n"
      ]
    },
    {
      "cell_type": "code",
      "execution_count": null,
      "id": "4a99a66c-cfeb-452e-8e64-c320c2fe5eeb",
      "metadata": {
        "id": "4a99a66c-cfeb-452e-8e64-c320c2fe5eeb",
        "outputId": "43b3a018-c1b4-4fb2-efde-e7d89d703adf"
      },
      "outputs": [
        {
          "name": "stdout",
          "output_type": "stream",
          "text": [
            "The extracted alphabets from the string are: Hello\n"
          ]
        }
      ],
      "source": [
        "# Function to extract all alphabets from a string\n",
        "def extract_alphabets(input_string):\n",
        "    # Use a list comprehension to extract alphabets from the string\n",
        "    alphabets = [char for char in input_string if char.isalpha()]\n",
        "\n",
        "    # Join the extracted alphabets into a string\n",
        "    result_alphabets = ''.join(alphabets)\n",
        "\n",
        "    # Return the final string containing only alphabets\n",
        "    return result_alphabets\n",
        "\n",
        "# Example usage\n",
        "input_str = \"Hello123!\"\n",
        "result = extract_alphabets(input_str)\n",
        "\n",
        "# Display the result\n",
        "print(f\"The extracted alphabets from the string are: {result}\")"
      ]
    },
    {
      "cell_type": "markdown",
      "id": "d2cbddf5-0ea2-44c8-bde7-64ff5ad70c35",
      "metadata": {
        "id": "d2cbddf5-0ea2-44c8-bde7-64ff5ad70c35"
      },
      "source": [
        "\n",
        "\n",
        "We define a function extract_alphabets that takes a string (input_string) as its parameter.\n",
        "List Comprehension to Extract Alphabets:\n",
        "\n",
        "We use a list comprehension to iterate through each character in the input string (input_string).\n",
        "The condition char.isalpha() checks if the character is an alphabet (A-Z or a-z).\n",
        "The result is a list (alphabets) containing only the alphabetic characters from the string.\n",
        "\n",
        "\n",
        "We use the join() method to concatenate the extracted alphabets into a single string.\n",
        "\n",
        "\n",
        "The function returns the final string containing only the extracted alphabets.\n",
        "\n",
        "\n",
        "We provide an example string (\"Hello123! This is an example with 456 digits.\") and call the extract_alphabets function with this string.\n",
        "\n",
        "\n",
        "Finally, we print the result, which is the string containing only the extracted alphabets."
      ]
    },
    {
      "cell_type": "markdown",
      "id": "116d1f9a-4610-4e70-8143-dac3fe1fa3c0",
      "metadata": {
        "id": "116d1f9a-4610-4e70-8143-dac3fe1fa3c0"
      },
      "source": [
        "26. Count the number of uppercase letters in a string."
      ]
    },
    {
      "cell_type": "code",
      "execution_count": null,
      "id": "fcbb337d-b291-496a-b8d1-b24ad7ea8bbc",
      "metadata": {
        "id": "fcbb337d-b291-496a-b8d1-b24ad7ea8bbc",
        "outputId": "0cfb1bee-b87a-476c-80ee-2216dae22657"
      },
      "outputs": [
        {
          "name": "stdout",
          "output_type": "stream",
          "text": [
            "The number of uppercase letters in the string is: 2\n"
          ]
        }
      ],
      "source": [
        "# Function to count uppercase letters in a string\n",
        "def count_uppercase_letters(input_string):\n",
        "    # Initialize a counter variable to keep track of uppercase letters\n",
        "    uppercase_count = 0\n",
        "\n",
        "    # Iterate through each character in the string\n",
        "    for char in input_string:\n",
        "        # Check if the character is an uppercase letter\n",
        "        if char.isupper():\n",
        "            # Increment the counter if it's an uppercase letter\n",
        "            uppercase_count += 1\n",
        "\n",
        "    # Return the final count\n",
        "    return uppercase_count\n",
        "\n",
        "# Example usage\n",
        "input_str = \"Gayatri Kale\"\n",
        "result = count_uppercase_letters(input_str)\n",
        "\n",
        "# Display the result\n",
        "print(f\"The number of uppercase letters in the string is: {result}\")"
      ]
    },
    {
      "cell_type": "markdown",
      "id": "ac989693-1713-4928-b07e-6dff7be4d7e3",
      "metadata": {
        "id": "ac989693-1713-4928-b07e-6dff7be4d7e3"
      },
      "source": [
        "We define a function count_uppercase_letters that takes a string (input_string) as its parameter.\n",
        "\n",
        "\n",
        "We initialize a variable uppercase_count to 0. This variable will be used to keep track of the number of uppercase letters in the string.\n",
        "\n",
        "\n",
        "We use a for loop to iterate through each character in the input string (input_string).\n",
        "\n",
        "\n",
        "Inside the loop, we use the isupper() method to check if the current character is an uppercase letter.\n",
        "If the condition is true, we increment the uppercase_count by 1.\n",
        "\n",
        "\n",
        "After iterating through all the characters in the string, we return the final count of uppercase letters.\n",
        "\n",
        "\n",
        "We provide an example string (\"Hello World! This is an Example String.\") and call the count_uppercase_letters function with this string.\n",
        "\n",
        "\n",
        "Finally, we print the result, indicating the number of uppercase letters in the given string."
      ]
    },
    {
      "cell_type": "markdown",
      "id": "94ab27cd-94b9-4959-9c2d-ac4cc1bbba05",
      "metadata": {
        "id": "94ab27cd-94b9-4959-9c2d-ac4cc1bbba05"
      },
      "source": [
        "27. Count the number of lowercase letters in a string.\n"
      ]
    },
    {
      "cell_type": "code",
      "execution_count": null,
      "id": "cb7a3df4-bbbc-48b2-9329-fae1244ef6a6",
      "metadata": {
        "id": "cb7a3df4-bbbc-48b2-9329-fae1244ef6a6",
        "outputId": "ee756cdb-f13c-4912-8ccb-6c76964bf990"
      },
      "outputs": [
        {
          "name": "stdout",
          "output_type": "stream",
          "text": [
            "The number of lowercase letters in the string is: 9\n"
          ]
        }
      ],
      "source": [
        "# Function to count lowercase letters in a string\n",
        "def count_lowercase_letters(input_string):\n",
        "    # Initialize a counter variable to keep track of lowercase letters\n",
        "    lowercase_count = 0\n",
        "\n",
        "    # Iterate through each character in the string\n",
        "    for char in input_string:\n",
        "        # Check if the character is a lowercase letter\n",
        "        if char.islower():\n",
        "            # Increment the counter if it's a lowercase letter\n",
        "            lowercase_count += 1\n",
        "\n",
        "    # Return the final count\n",
        "    return lowercase_count\n",
        "\n",
        "# Example usage\n",
        "input_str = \"Gayatri Kale.\"\n",
        "result = count_lowercase_letters(input_str)\n",
        "\n",
        "# Display the result\n",
        "print(f\"The number of lowercase letters in the string is: {result}\")"
      ]
    },
    {
      "cell_type": "markdown",
      "id": "9b29a53e-e7be-4b0e-a4dd-f09f0dfe6758",
      "metadata": {
        "id": "9b29a53e-e7be-4b0e-a4dd-f09f0dfe6758"
      },
      "source": [
        "We define a function count_lowercase_letters that takes a string (input_string) as its parameter.\n",
        "\n",
        "\n",
        "We initialize a variable lowercase_count to 0. This variable will be used to keep track of the number of lowercase letters in the string.\n",
        "\n",
        "\n",
        "We use a for loop to iterate through each character in the input string (input_string).\n",
        "\n",
        "\n",
        "Inside the loop, we use the islower() method to check if the current character is a lowercase letter.\n",
        "If the condition is true, we increment the lowercase_count by 1.\n",
        "\n",
        "After iterating through all the characters in the string, we return the final count of lowercase letters.\n",
        "\n",
        "\n",
        "We provide a new example string (\"OpenAI's GPT-3 is an Advanced Language Model.\") and call the count_lowercase_letters function with this string.\n",
        "\n",
        "\n",
        "Finally, we print the result, indicating the number of lowercase letters in the given string.\n"
      ]
    },
    {
      "cell_type": "markdown",
      "id": "79e8820f-23fa-47ea-9181-447743a6660b",
      "metadata": {
        "id": "79e8820f-23fa-47ea-9181-447743a6660b"
      },
      "source": [
        "28. Swap the case of each character in a string.\n"
      ]
    },
    {
      "cell_type": "code",
      "execution_count": null,
      "id": "fd0526a2-57e5-48db-94af-938e6a392938",
      "metadata": {
        "id": "fd0526a2-57e5-48db-94af-938e6a392938",
        "outputId": "cc80ba55-c34b-4278-b9d1-736ff1c580be"
      },
      "outputs": [
        {
          "name": "stdout",
          "output_type": "stream",
          "text": [
            "The string with swapped case is: hELLO wORLD! tHIS IS AN eXAMPLE sTRING.\n"
          ]
        }
      ],
      "source": [
        "# Function to swap the case of each character in a string\n",
        "def swap_case(input_string):\n",
        "    # Initialize an empty string to store the result\n",
        "    swapped_string = \"\"\n",
        "\n",
        "    # Iterate through each character in the input string\n",
        "    for char in input_string:\n",
        "        # Check if the character is an uppercase letter\n",
        "        if char.isupper():\n",
        "            # Convert uppercase to lowercase and append to the result string\n",
        "            swapped_string += char.lower()\n",
        "        # Check if the character is a lowercase letter\n",
        "        elif char.islower():\n",
        "            # Convert lowercase to uppercase and append to the result string\n",
        "            swapped_string += char.upper()\n",
        "        else:\n",
        "            # If the character is not a letter, keep it unchanged\n",
        "            swapped_string += char\n",
        "\n",
        "    # Return the final swapped string\n",
        "    return swapped_string\n",
        "\n",
        "# Example usage\n",
        "input_str = \"Hello World! This is an Example String.\"\n",
        "result = swap_case(input_str)\n",
        "\n",
        "# Display the result\n",
        "print(f\"The string with swapped case is: {result}\")\n"
      ]
    },
    {
      "cell_type": "markdown",
      "id": "e5d0633d-817e-4831-ab7e-c7db9740576e",
      "metadata": {
        "id": "e5d0633d-817e-4831-ab7e-c7db9740576e"
      },
      "source": [
        "We define a function swap_case that takes a string (input_string) as its parameter.\n",
        "Initialize Result String:\n",
        "\n",
        "We initialize an empty string swapped_string to store the result after swapping the case.\n",
        "Iterate Through Characters:\n",
        "\n",
        "We use a for loop to iterate through each character in the input string (input_string).\n",
        "Swap Uppercase and Lowercase:\n",
        "\n",
        "Inside the loop, we use the isupper() and islower() methods to check if the current character is uppercase or lowercase, respectively.\n",
        "If the character is uppercase, we convert it to lowercase and append it to the swapped_string.\n",
        "If the character is lowercase, we convert it to uppercase and append it to the swapped_string.\n",
        "If the character is neither uppercase nor lowercase (e.g., punctuation or space), we keep it unchanged.\n",
        "Return Final Swapped String:\n",
        "\n",
        "After iterating through all the characters in the string, we return the final swapped_string.\n",
        "Example Usage:\n",
        "\n",
        "We provide an example string (\"Hello World! This is an Example String.\") and call the swap_case function with this string.\n",
        "Display Result:\n",
        "\n",
        "Finally, we print the result, which is the input string with the case of each character swapped."
      ]
    },
    {
      "cell_type": "markdown",
      "id": "0d85201c-ebd7-4d33-af77-767c207603e8",
      "metadata": {
        "id": "0d85201c-ebd7-4d33-af77-767c207603e8"
      },
      "source": [
        "29. Remove a specific word from a string."
      ]
    },
    {
      "cell_type": "code",
      "execution_count": null,
      "id": "ca2582f3-ca97-443a-97dc-5d44bd881ccc",
      "metadata": {
        "id": "ca2582f3-ca97-443a-97dc-5d44bd881ccc",
        "outputId": "00c8eb38-2b6e-4a44-cb06-c00633b75e06"
      },
      "outputs": [
        {
          "name": "stdout",
          "output_type": "stream",
          "text": [
            "The string after removing the word is: This is an sentence. Remove this word from the sentence.\n"
          ]
        }
      ],
      "source": [
        "# Function to remove a specific word from a string\n",
        "def remove_word(input_string, word_to_remove):\n",
        "    # Split the input string into a list of words\n",
        "    words = input_string.split()\n",
        "\n",
        "    # Remove the specific word from the list\n",
        "    words = [word for word in words if word.lower() != word_to_remove.lower()]\n",
        "\n",
        "    # Join the remaining words back into a string\n",
        "    result_string = ' '.join(words)\n",
        "\n",
        "    # Return the final string without the specific word\n",
        "    return result_string\n",
        "\n",
        "# Example usage\n",
        "input_str = \"This is an example sentence. Remove this word from the sentence.\"\n",
        "word_to_remove = \"example\"\n",
        "result = remove_word(input_str, word_to_remove)\n",
        "\n",
        "# Display the result\n",
        "print(f\"The string after removing the word is: {result}\")\n"
      ]
    },
    {
      "cell_type": "markdown",
      "id": "ac990a9a-2aa1-4552-beb8-f9bc01169fb2",
      "metadata": {
        "id": "ac990a9a-2aa1-4552-beb8-f9bc01169fb2"
      },
      "source": [
        "30. Check if a string is a valid email address."
      ]
    },
    {
      "cell_type": "code",
      "execution_count": null,
      "id": "2f17e314-00a6-4259-9a01-06d29c94f0bc",
      "metadata": {
        "id": "2f17e314-00a6-4259-9a01-06d29c94f0bc",
        "outputId": "99bbcd69-5e96-4c67-d984-1d3d614d263a"
      },
      "outputs": [
        {
          "name": "stdout",
          "output_type": "stream",
          "text": [
            "The email address 'user@example.com' is valid.\n"
          ]
        }
      ],
      "source": [
        "import re\n",
        "\n",
        "# Function to check if a string is a valid email address\n",
        "def is_valid_email(email):\n",
        "    # Define a regular expression pattern for a valid email address\n",
        "    email_pattern = re.compile(r'^[a-zA-Z0-9._%+-]+@[a-zA-Z0-9.-]+\\.[a-zA-Z]{2,}$')\n",
        "\n",
        "    # Use the re.match() function to check if the email matches the pattern\n",
        "    match = email_pattern.match(email)\n",
        "\n",
        "    # Return True if there is a match (valid email), otherwise return False\n",
        "    return bool(match)\n",
        "\n",
        "# Example usage\n",
        "email_address = \"user@example.com\"\n",
        "result = is_valid_email(email_address)\n",
        "\n",
        "# Display the result\n",
        "if result:\n",
        "    print(f\"The email address '{email_address}' is valid.\")\n",
        "else:\n",
        "    print(f\"The email address '{email_address}' is not valid.\")"
      ]
    },
    {
      "cell_type": "raw",
      "id": "30c9cb9c-c3ba-469a-8e26-1d4546cbf0ac",
      "metadata": {
        "tags": [],
        "id": "30c9cb9c-c3ba-469a-8e26-1d4546cbf0ac"
      },
      "source": [
        "We import the re module, which provides support for regular expressions.\n",
        "\n",
        "\n",
        "We define a regular expression pattern (email_pattern) that checks for a valid email address.\n",
        "The pattern uses the ^ and $ anchors to match the entire string.\n",
        "[a-zA-Z0-9._%+-] matches the username part.\n",
        "@[a-zA-Z0-9.-]+\\.[a-zA-Z]{2,} matches the domain part.\n",
        "\n",
        "We use the re.match() function to check if the email address matches the defined pattern.\n",
        "The match variable will be a match object if the email is valid or None if it's not.\n",
        "\n",
        "\n",
        "We return True if there is a match (indicating a valid email), otherwise, we return False.\n",
        "\n",
        "We provide an example email address (\"user@example.com\") and call the is_valid_email function with this address.\n",
        "\n",
        "\n",
        "Finally, we print whether the provided email address is valid or not."
      ]
    },
    {
      "cell_type": "markdown",
      "id": "88b591ad-a4bf-4881-8a9d-71270c37e649",
      "metadata": {
        "id": "88b591ad-a4bf-4881-8a9d-71270c37e649"
      },
      "source": [
        "31. Extract the username from an email address string."
      ]
    },
    {
      "cell_type": "code",
      "execution_count": null,
      "id": "c7bbc2d9-6d6d-476b-8f64-e3f888f07734",
      "metadata": {
        "id": "c7bbc2d9-6d6d-476b-8f64-e3f888f07734",
        "outputId": "823cd421-2e22-40b7-c12b-6f475fc1058b"
      },
      "outputs": [
        {
          "name": "stdout",
          "output_type": "stream",
          "text": [
            "The username from an email address is: user\n"
          ]
        }
      ],
      "source": [
        "# Function to extract the username from an email address\n",
        "def extract_username(email):\n",
        "\n",
        "       # Use the split() method to separate the username and domain\n",
        "        username = email.split('@')[0]\n",
        "\n",
        "          # Return the extracted username\n",
        "        return username\n",
        "\n",
        "# Example usage\n",
        "email_address = \"user@example.com\"\n",
        "result = extract_username(email_address)\n",
        "\n",
        "# Print the result\n",
        "print(f\"The username from an email address is: {result}\")"
      ]
    },
    {
      "cell_type": "markdown",
      "id": "05844e8b-2b9f-40b9-b55b-58f44fe17821",
      "metadata": {
        "id": "05844e8b-2b9f-40b9-b55b-58f44fe17821"
      },
      "source": [
        "We define a function extract_username that takes an email address (email) as its parameter.\n",
        "\n",
        "We use the split('@') method to split the email address into a list containing two parts: the username and the domain.\n",
        "The [0] index is used to access the first part, which is the username.\n",
        "\n",
        "\n",
        "The function returns the extracted username.\n",
        "\n",
        "\n",
        "We provide an example email address (\"user@example.com\") and call the extract_username function with this address.\n",
        "\n",
        "\n",
        "Finally, we print the result, which is the username extracted from the email address."
      ]
    },
    {
      "cell_type": "markdown",
      "id": "c68cc567-e573-48ce-a12e-d3ac093df7e2",
      "metadata": {
        "id": "c68cc567-e573-48ce-a12e-d3ac093df7e2"
      },
      "source": [
        "32. Extract the domain name from an email address string."
      ]
    },
    {
      "cell_type": "code",
      "execution_count": null,
      "id": "391c7f4a-a7af-468c-aac6-d0841f39ea6d",
      "metadata": {
        "id": "391c7f4a-a7af-468c-aac6-d0841f39ea6d",
        "outputId": "f33e75b9-cf2c-4081-a656-9d01f916d3c9"
      },
      "outputs": [
        {
          "name": "stdout",
          "output_type": "stream",
          "text": [
            "The domain from an email address is:example.com\n"
          ]
        }
      ],
      "source": [
        "# Function to extract the domain name from an email address\n",
        "def extract_domain(email):\n",
        "\n",
        "     # Use the split() method to separate the username and domain\n",
        "        domain = email.split('@')[1]\n",
        "\n",
        "    # Return the extracted domain\n",
        "        return domain\n",
        "\n",
        "#Example usage\n",
        "email_address = \"user@example.com\"\n",
        "result = extract_domain(email_address)\n",
        "\n",
        "#Print the result\n",
        "print(f\"The domain from an email address is:{result}\")\n",
        "\n",
        ""
      ]
    },
    {
      "cell_type": "markdown",
      "id": "5dc31383-bbb1-4db2-a13b-1baeae930fe2",
      "metadata": {
        "id": "5dc31383-bbb1-4db2-a13b-1baeae930fe2"
      },
      "source": [
        "We define a function extract_domain that takes an email address (email) as its parameter.\n",
        "\n",
        "\n",
        "We use the split('@') method to split the email address into a list containing two parts: the username and the domain.\n",
        "The [1] index is used to access the second part, which is the domain.\n",
        "\n",
        "\n",
        "The function returns the extracted domain.\n",
        "\n",
        "\n",
        "We provide an example email address (\"user@example.com\") and call the extract_domain function with this address.\n",
        "\n",
        "\n",
        "Finally, we print the result, which is the domain extracted from the email address."
      ]
    },
    {
      "cell_type": "markdown",
      "id": "37fa2c3a-9f70-4f94-94da-1a747094b97d",
      "metadata": {
        "id": "37fa2c3a-9f70-4f94-94da-1a747094b97d"
      },
      "source": [
        "33. Replace multiple spaces in a string with a single space."
      ]
    },
    {
      "cell_type": "code",
      "execution_count": null,
      "id": "0407d133-d7c1-48e7-8e01-e3b8f89be5d2",
      "metadata": {
        "id": "0407d133-d7c1-48e7-8e01-e3b8f89be5d2",
        "outputId": "ac0af9fb-836f-426b-c5a8-70cddc1a6a16"
      },
      "outputs": [
        {
          "name": "stdout",
          "output_type": "stream",
          "text": [
            "The string with multiple spaces replaced is:This is an example with multiple spaces.\n"
          ]
        }
      ],
      "source": [
        "# Function to replace multiple spaces with a single space in a string\n",
        "def replace_multiple_spaces(input_string):\n",
        "\n",
        "        # Use the split() method to break the string into words\n",
        "        words = input_string.split()\n",
        "\n",
        "        # Use the join() method to concatenate the words with a single space\n",
        "        result_string = ' '.join(words)\n",
        "\n",
        "\n",
        "    # Return the final string with single spaces\n",
        "        return result_string\n",
        "\n",
        "# Example usage\n",
        "input_str = \"This    is   an   example   with   multiple   spaces.\"\n",
        "result = replace_multiple_spaces(input_str)\n",
        "\n",
        "\n",
        "# Display the result\n",
        "print(f\"The string with multiple spaces replaced is:{result}\")"
      ]
    },
    {
      "cell_type": "markdown",
      "id": "ef1505ac-0b3d-4e80-9fe3-f982aa4afb13",
      "metadata": {
        "id": "ef1505ac-0b3d-4e80-9fe3-f982aa4afb13"
      },
      "source": [
        "We define a function replace_multiple_spaces that takes a string (input_string) as its parameter.\n",
        "\n",
        "\n",
        "We use the split() method without any arguments to break the input string into a list of words.\n",
        "This method automatically handles consecutive spaces and treats them as a single delimiter.\n",
        "\n",
        "\n",
        "We use the join() method to concatenate the words back into a string, separating them with a single space.\n",
        "This effectively replaces multiple spaces with a single space.\n",
        "\n",
        "\n",
        "The function returns the final string with single spaces.\n",
        "\n",
        "\n",
        "We provide an example string (\"This is an example with multiple spaces.\") and call the replace_multiple_spaces function with this string.\n",
        "\n",
        "\n",
        "Finally, we print the result, which is the original string with multiple spaces replaced by a single space."
      ]
    },
    {
      "cell_type": "markdown",
      "id": "12abc92d-74e5-4d9d-9125-954b47bae8bd",
      "metadata": {
        "id": "12abc92d-74e5-4d9d-9125-954b47bae8bd"
      },
      "source": [
        "34. Check if a string is a valid URL."
      ]
    },
    {
      "cell_type": "code",
      "execution_count": null,
      "id": "5e363020-d199-40f3-8b92-9d5c07a7ccc7",
      "metadata": {
        "id": "5e363020-d199-40f3-8b92-9d5c07a7ccc7",
        "outputId": "9e990943-3f32-4615-ad6d-c41ac0776ec2"
      },
      "outputs": [
        {
          "name": "stdout",
          "output_type": "stream",
          "text": [
            "The URL 'https://www.example.com/path/to/page?param=value' is valid.\n"
          ]
        }
      ],
      "source": [
        "import re\n",
        "\n",
        "# Function to check if a string is a valid URL\n",
        "def is_valid_url(url):\n",
        "    # Define a regular expression pattern for a valid URL\n",
        "    url_pattern = re.compile(\n",
        "        r'^(https?|ftp):\\/\\/'  # Protocol (http, https, ftp)\n",
        "        r'(?:(?:[a-zA-Z0-9$\\-_.+!*\\'(),;:@&=]|\\%[0-9a-fA-F]{2})+@)?'  # Optional username and password\n",
        "        r'(?:(?:[a-zA-Z0-9](?:[a-zA-Z0-9-]{0,61}[a-zA-Z0-9])?\\.)+[a-zA-Z]{2,}|'  # Domain name\n",
        "        r'localhost|'  # localhost\n",
        "        r'\\d{1,3}\\.\\d{1,3}\\.\\d{1,3}\\.\\d{1,3})'  # Or an IP address\n",
        "        r'(?::\\d+)?'  # Optional port number\n",
        "        r'(?:\\/(?:[a-zA-Z0-9$\\-_.+!*\\'(),;:@&=]|(\\%[0-9a-fA-F]{2}))+)*\\/?'  # Path\n",
        "        r'(?:\\?(?:[a-zA-Z0-9$\\-_.+!*\\'(),;:@&=]|(\\%[0-9a-fA-F]{2}))+)?'  # Query string\n",
        "        r'(?:#(?:[a-zA-Z0-9$\\-_.+!*\\'(),;:@&=]|(\\%[0-9a-fA-F]{2})))?$'  # Fragment identifier\n",
        "    )\n",
        "\n",
        "    # Use the re.match() function to check if the URL matches the pattern\n",
        "    match = url_pattern.match(url)\n",
        "\n",
        "    # Return True if there is a match (valid URL), otherwise return False\n",
        "    return bool(match)\n",
        "\n",
        "# Example usage\n",
        "url = \"https://www.example.com/path/to/page?param=value\"\n",
        "result = is_valid_url(url)\n",
        "\n",
        "# Display the result\n",
        "if result:\n",
        "    print(f\"The URL '{url}' is valid.\")\n",
        "else:\n",
        "    print(f\"The URL '{url}' is not valid.\")\n"
      ]
    },
    {
      "cell_type": "markdown",
      "id": "62c3c749-6619-464a-af38-4e20e93c76a5",
      "metadata": {
        "id": "62c3c749-6619-464a-af38-4e20e93c76a5"
      },
      "source": [
        "We import the re module, which provides support for regular expressions.\n",
        "\n",
        "\n",
        "We define a regular expression pattern (url_pattern) that checks for a valid URL.\n",
        "The pattern covers various components of a URL, including the protocol, optional username and password, domain name, IP address, port number, path, query string, and fragment identifier.\n",
        "\n",
        "\n",
        "We use the re.match() function to check if the URL matches the defined pattern.\n",
        "The match variable will be a match object if the URL is valid or None if it's not.\n",
        "\n",
        "\n",
        "We return True if there is a match (indicating a valid URL), otherwise, we return False.\n",
        "\n",
        "\n",
        "We provide an example URL (\"https://www.example.com/path/to/page?param=value\") and call the is_valid_url function with this URL.\n",
        "\n",
        "\n",
        "Finally, we print whether the provided URL is valid or not."
      ]
    },
    {
      "cell_type": "markdown",
      "id": "736e5165-1c7c-4ab1-9e07-eee6f97c0ad1",
      "metadata": {
        "id": "736e5165-1c7c-4ab1-9e07-eee6f97c0ad1"
      },
      "source": [
        "35. Extract the protocol (http or https) from a URL string."
      ]
    },
    {
      "cell_type": "code",
      "execution_count": null,
      "id": "1c7295f0-40b4-4481-8976-864cc69c3e62",
      "metadata": {
        "id": "1c7295f0-40b4-4481-8976-864cc69c3e62",
        "outputId": "2afa45fe-96d6-41ff-c47f-309a60d05362"
      },
      "outputs": [
        {
          "name": "stdout",
          "output_type": "stream",
          "text": [
            "The protocol extracted from the URL is: https\n"
          ]
        }
      ],
      "source": [
        "import re\n",
        "\n",
        "# Function to extract the protocol from a URL\n",
        "def extract_protocol(url):\n",
        "    # Define a regular expression pattern for extracting the protocol\n",
        "    protocol_pattern = re.compile(r'^(https?|ftp)://')\n",
        "\n",
        "    # Use the re.match() function to find the protocol in the URL\n",
        "    match = protocol_pattern.match(url)\n",
        "\n",
        "    # Return the extracted protocol or None if not found\n",
        "    return match.group(1) if match else None\n",
        "\n",
        "# Example usage\n",
        "url = \"https://www.example.com/path/to/page?param=value\"\n",
        "result = extract_protocol(url)\n",
        "\n",
        "# Display the result\n",
        "if result:\n",
        "    print(f\"The protocol extracted from the URL is: {result}\")\n",
        "else:\n",
        "    print(\"No protocol found in the URL.\")\n"
      ]
    },
    {
      "cell_type": "markdown",
      "id": "8e87e99c-7e70-4545-90a9-e645c7e4c3e3",
      "metadata": {
        "id": "8e87e99c-7e70-4545-90a9-e645c7e4c3e3"
      },
      "source": [
        "We import the re module, which provides support for regular expressions.\n",
        "\n",
        "\n",
        "We define a regular expression pattern (protocol_pattern) that looks for the protocol part in a URL.\n",
        "The pattern (https?|ftp) matches either \"http,\" \"https,\" or \"ftp.\"\n",
        "\n",
        "\n",
        "We use the re.match() function to check if the URL matches the defined pattern.\n",
        "The match variable will be a match object if the protocol is found or None if it's not.\n",
        "\n",
        "\n",
        "If a match is found, we use match.group(1) to retrieve the matched protocol.\n",
        "If no match is found, we return None.\n",
        "\n",
        "\n",
        "We provide an example URL (\"https://www.example.com/path/to/page?param=value\") and call the extract_protocol function with this URL.\n",
        "\n",
        "\n",
        "Finally, we print the result, which is the protocol extracted from the URL."
      ]
    },
    {
      "cell_type": "markdown",
      "id": "31fb79b6-fdfb-4e5e-a3ad-498401020f62",
      "metadata": {
        "id": "31fb79b6-fdfb-4e5e-a3ad-498401020f62"
      },
      "source": [
        "36. Find the frequency of each character in a string."
      ]
    },
    {
      "cell_type": "code",
      "execution_count": null,
      "id": "1d79ff30-c95d-415d-9241-16fc92a4a3d6",
      "metadata": {
        "id": "1d79ff30-c95d-415d-9241-16fc92a4a3d6",
        "outputId": "5e0c64b7-823c-4d9e-b17b-2e00d38cedc2"
      },
      "outputs": [
        {
          "name": "stdout",
          "output_type": "stream",
          "text": [
            "Character frequencies in the string:\n",
            "H: 1\n",
            "e: 1\n",
            "l: 3\n",
            "o: 2\n",
            ",: 1\n",
            " : 1\n",
            "W: 1\n",
            "r: 1\n",
            "d: 1\n",
            "!: 1\n"
          ]
        }
      ],
      "source": [
        "# Function to find the frequency of each character in a string\n",
        "def character_frequency(input_string):\n",
        "    # Create an empty dictionary to store character frequencies\n",
        "    frequency_dict = {}\n",
        "\n",
        "    # Iterate through each character in the string\n",
        "    for char in input_string:\n",
        "        # Increment the count for the current character in the dictionary\n",
        "        frequency_dict[char] = frequency_dict.get(char, 0) + 1\n",
        "\n",
        "    # Return the dictionary containing character frequencies\n",
        "    return frequency_dict\n",
        "\n",
        "# Example usage\n",
        "input_str = \"Hello, World!\"\n",
        "result = character_frequency(input_str)\n",
        "\n",
        "# Display the result\n",
        "print(\"Character frequencies in the string:\")\n",
        "for char, frequency in result.items():\n",
        "    print(f\"{char}: {frequency}\")\n"
      ]
    },
    {
      "cell_type": "markdown",
      "id": "2eee0bfc-b68e-46d5-99a1-f8b7d00f1a1d",
      "metadata": {
        "id": "2eee0bfc-b68e-46d5-99a1-f8b7d00f1a1d"
      },
      "source": [
        "We define a function character_frequency that takes a string (input_string) as its parameter.\n",
        "\n",
        "\n",
        "We create an empty dictionary (frequency_dict) to store the frequencies of each character.\n",
        "\n",
        "\n",
        "We use a for loop to iterate through each character in the input string (input_string).\n",
        "\n",
        "\n",
        "Inside the loop, we use the get() method to retrieve the current count of the character from the dictionary.\n",
        "We increment the count by 1 and update the dictionary with the new count.\n",
        "\n",
        "\n",
        "The function returns the dictionary containing the frequencies of each character.\n",
        "\n",
        "\n",
        "We provide an example string (\"Hello, World!\") and call the character_frequency function with this string.\n",
        "\n",
        "\n",
        "Finally, we print the result, which is the frequencies of each character in the string."
      ]
    },
    {
      "cell_type": "markdown",
      "id": "4251b2d8-5481-48b8-abbc-9387e66e546f",
      "metadata": {
        "id": "4251b2d8-5481-48b8-abbc-9387e66e546f"
      },
      "source": [
        "37. Remove all punctuation from a string."
      ]
    },
    {
      "cell_type": "code",
      "execution_count": null,
      "id": "0eab264a-d5c1-4070-849f-2094e4ef6c69",
      "metadata": {
        "id": "0eab264a-d5c1-4070-849f-2094e4ef6c69",
        "outputId": "6036bc54-b044-44ea-c720-2a442e165358"
      },
      "outputs": [
        {
          "name": "stdout",
          "output_type": "stream",
          "text": [
            "The string without punctuation is:\n",
            "Hello World This is an example with punctuation\n"
          ]
        }
      ],
      "source": [
        "import string\n",
        "\n",
        "# Function to remove all punctuation from a string\n",
        "def remove_punctuation(input_string):\n",
        "    # Use string.punctuation to get a string containing all punctuation characters\n",
        "    punctuation_chars = string.punctuation\n",
        "\n",
        "    # Use str.translate() to remove punctuation from the string\n",
        "    translation_table = str.maketrans(\"\", \"\", punctuation_chars)\n",
        "    result_string = input_string.translate(translation_table)\n",
        "\n",
        "    # Return the string without punctuation\n",
        "    return result_string\n",
        "\n",
        "# Example usage\n",
        "input_str = \"Hello, World! This is an example with punctuation.\"\n",
        "result = remove_punctuation(input_str)\n",
        "\n",
        "# Display the result\n",
        "print(f\"The string without punctuation is:\\n{result}\")\n"
      ]
    },
    {
      "cell_type": "markdown",
      "id": "e703cd30-f55d-4cd2-b3ea-a74a0b7c75d1",
      "metadata": {
        "id": "e703cd30-f55d-4cd2-b3ea-a74a0b7c75d1"
      },
      "source": [
        "We import the string module, which provides a string containing all ASCII punctuation characters.\n",
        "\n",
        "\n",
        "We use string.punctuation to get a string containing all punctuation characters.\n",
        "\n",
        "\n",
        "We use str.maketrans(\"\", \"\", punctuation_chars) to create a translation table.\n",
        "We use str.translate() to remove characters listed in the translation table from the input string.\n",
        "\n",
        "\n",
        "The function returns the string without punctuation.\n",
        "\n",
        "\n",
        "We provide an example string (\"Hello, World! This is an example with punctuation.\") and call the remove_punctuation function with this string.\n",
        "\n",
        "\n",
        "Finally, we print the result, which is the original string with punctuation removed."
      ]
    },
    {
      "cell_type": "markdown",
      "id": "328b9607-43ca-47f5-bfd2-17ebfa1062de",
      "metadata": {
        "id": "328b9607-43ca-47f5-bfd2-17ebfa1062de"
      },
      "source": [
        "38. Check if a string contains only digits."
      ]
    },
    {
      "cell_type": "code",
      "execution_count": null,
      "id": "7e294445-96d8-4854-97f7-4d4e541d89b3",
      "metadata": {
        "id": "7e294445-96d8-4854-97f7-4d4e541d89b3",
        "outputId": "84dfbbfa-9656-4b46-d9d0-9253f13763b1"
      },
      "outputs": [
        {
          "name": "stdout",
          "output_type": "stream",
          "text": [
            "The string '12345' contains only digits.\n"
          ]
        }
      ],
      "source": [
        "# Function to check if a string contains only digits\n",
        "def contains_only_digits(input_string):\n",
        "    # Use the isdigit() method to check if each character is a digit\n",
        "    return all(char.isdigit() for char in input_string)\n",
        "\n",
        "# Example usage\n",
        "test_string = \"12345\"\n",
        "result = contains_only_digits(test_string)\n",
        "\n",
        "# Display the result\n",
        "if result:\n",
        "    print(f\"The string '{test_string}' contains only digits.\")\n",
        "else:\n",
        "    print(f\"The string '{test_string}' does not contain only digits.\")\n"
      ]
    },
    {
      "cell_type": "markdown",
      "id": "5bddacde-beea-43d2-90d5-d597d7f6da5c",
      "metadata": {
        "id": "5bddacde-beea-43d2-90d5-d597d7f6da5c"
      },
      "source": [
        "We define a function contains_only_digits that takes a string (input_string) as its parameter.\n",
        "\n",
        "\n",
        "We use the isdigit() method, which is a built-in string method in Python.\n",
        "This method returns True if all characters in the string are digits (0-9), and False otherwise.\n",
        "\n",
        "\n",
        "The function returns the result obtained from applying the isdigit() method to each character in the string using a generator expression and the all() function.\n",
        "\n",
        "\n",
        "We provide an example string (\"12345\") and call the contains_only_digits function with this string.\n",
        "\n",
        "\n",
        "Finally, we print whether the provided string contains only digits or not."
      ]
    },
    {
      "cell_type": "markdown",
      "id": "5934a975-defe-4981-b057-0b650bd6633e",
      "metadata": {
        "id": "5934a975-defe-4981-b057-0b650bd6633e"
      },
      "source": [
        "39. Check if a string contains only alphabets."
      ]
    },
    {
      "cell_type": "code",
      "execution_count": null,
      "id": "c64ddce2-a8dc-42c7-a53b-1cfd89abdcfa",
      "metadata": {
        "id": "c64ddce2-a8dc-42c7-a53b-1cfd89abdcfa",
        "outputId": "4917effc-9a00-403d-b8e8-1bf06d1be97e"
      },
      "outputs": [
        {
          "name": "stdout",
          "output_type": "stream",
          "text": [
            "The string 'Hello' contains only alphabets.\n"
          ]
        }
      ],
      "source": [
        "# Function to check if a string contains only alphabets\n",
        "def contains_only_alphabets(input_string):\n",
        "    # Use the isalpha() method to check if each character is an alphabet\n",
        "    return all(char.isalpha() for char in input_string)\n",
        "\n",
        "# Example usage\n",
        "test_string = \"Hello\"\n",
        "result = contains_only_alphabets(test_string)\n",
        "\n",
        "# Display the result\n",
        "if result:\n",
        "    print(f\"The string '{test_string}' contains only alphabets.\")\n",
        "else:\n",
        "    print(f\"The string '{test_string}' does not contain only alphabets.\")\n"
      ]
    },
    {
      "cell_type": "markdown",
      "id": "17f682b6-965c-44b4-9907-592b7f5f6a66",
      "metadata": {
        "id": "17f682b6-965c-44b4-9907-592b7f5f6a66"
      },
      "source": [
        "We define a function contains_only_alphabets that takes a string (input_string) as its parameter.\n",
        "\n",
        "\n",
        "We use the isalpha() method, which is a built-in string method in Python.\n",
        "This method returns True if all characters in the string are alphabets (A-Z or a-z), and False otherwise.\n",
        "\n",
        "\n",
        "The function returns the result obtained from applying the isalpha() method to each character in the string using a generator expression and the all() function.\n",
        "\n",
        "\n",
        "We provide an example string (\"Hello\") and call the contains_only_alphabets function with this string.\n",
        "\n",
        "\n",
        "Finally, we print whether the provided string contains only alphabets or not."
      ]
    },
    {
      "cell_type": "markdown",
      "id": "78f6df38-4298-41c8-81ba-f749c546b5b5",
      "metadata": {
        "id": "78f6df38-4298-41c8-81ba-f749c546b5b5"
      },
      "source": [
        "40. Convert a string to a list of characters."
      ]
    },
    {
      "cell_type": "code",
      "execution_count": null,
      "id": "048bd133-fdec-499b-9bfd-cf8f2d81a079",
      "metadata": {
        "id": "048bd133-fdec-499b-9bfd-cf8f2d81a079",
        "outputId": "2315796e-7166-44f8-b829-576f278172b3"
      },
      "outputs": [
        {
          "name": "stdout",
          "output_type": "stream",
          "text": [
            "The string converted to a list of characters is: ['H', 'e', 'l', 'l', 'o']\n"
          ]
        }
      ],
      "source": [
        "# Function to convert a string to a list of characters\n",
        "def string_to_list(input_string):\n",
        "    # Use list() to convert the string to a list of characters\n",
        "    characters_list = list(input_string)\n",
        "\n",
        "    # Return the list of characters\n",
        "    return characters_list\n",
        "\n",
        "# Example usage\n",
        "input_str = \"Hello\"\n",
        "result = string_to_list(input_str)\n",
        "\n",
        "# Display the result\n",
        "print(f\"The string converted to a list of characters is: {result}\")\n"
      ]
    },
    {
      "cell_type": "markdown",
      "id": "a90e931a-ed2d-440f-80ec-6df542372db3",
      "metadata": {
        "id": "a90e931a-ed2d-440f-80ec-6df542372db3"
      },
      "source": [
        "We define a function string_to_list that takes a string (input_string) as its parameter.\n",
        "\n",
        "\n",
        "We use the list() function to convert the input string to a list of characters.\n",
        "The list() function treats the input string as an iterable and creates a list where each character becomes an element.\n",
        "\n",
        "\n",
        "The function returns the list of characters.\n",
        "\n",
        "\n",
        "We provide an example string (\"Hello\") and call the string_to_list function with this string.\n",
        "\n",
        "\n",
        "Finally, we print the result, which is the original string converted to a list of characters."
      ]
    },
    {
      "cell_type": "markdown",
      "id": "542c3a3f-0780-4911-9bc3-7e1cb522b204",
      "metadata": {
        "id": "542c3a3f-0780-4911-9bc3-7e1cb522b204"
      },
      "source": [
        "41. Check if two strings are anagrams."
      ]
    },
    {
      "cell_type": "code",
      "execution_count": null,
      "id": "e782aaff-1ea4-4a00-afe5-8d90e8516092",
      "metadata": {
        "id": "e782aaff-1ea4-4a00-afe5-8d90e8516092",
        "outputId": "c2d0834d-0961-4959-9380-b83c871f1f00"
      },
      "outputs": [
        {
          "name": "stdout",
          "output_type": "stream",
          "text": [
            "The strings 'Listen' and 'Silent' are anagrams.\n"
          ]
        }
      ],
      "source": [
        "# Function to check if two strings are anagrams\n",
        "def are_anagrams(str1, str2):\n",
        "    # Remove spaces and convert to lowercase for case-insensitive comparison\n",
        "    str1 = str1.replace(\" \", \"\").lower()\n",
        "    str2 = str2.replace(\" \", \"\").lower()\n",
        "\n",
        "    # Check if the sorted characters of both strings are the same\n",
        "    return sorted(str1) == sorted(str2)\n",
        "\n",
        "# Example usage\n",
        "string1 = \"Listen\"\n",
        "string2 = \"Silent\"\n",
        "result = are_anagrams(string1, string2)\n",
        "\n",
        "# Display the result\n",
        "if result:\n",
        "    print(f\"The strings '{string1}' and '{string2}' are anagrams.\")\n",
        "else:\n",
        "    print(f\"The strings '{string1}' and '{string2}' are not anagrams.\")\n"
      ]
    },
    {
      "cell_type": "markdown",
      "id": "2fda5d63-f633-4971-a39c-f71519d35fa7",
      "metadata": {
        "id": "2fda5d63-f633-4971-a39c-f71519d35fa7"
      },
      "source": [
        "We define a function are_anagrams that takes two strings (str1 and str2) as its parameters.\n",
        "\n",
        "\n",
        "We remove spaces from both strings and convert them to lowercase to perform a case-insensitive comparison.\n",
        "\n",
        "\n",
        "We use the sorted() function to obtain sorted lists of characters for both strings.\n",
        "We check if the sorted lists of characters for both strings are equal.\n",
        "\n",
        "\n",
        "The function returns True if the strings are anagrams and False otherwise.\n",
        "\n",
        "\n",
        "We provide two example strings (\"Listen\" and \"Silent\") and call the are_anagrams function with these strings.\n",
        "\n",
        "\n",
        "Finally, we print whether the provided strings are anagrams or not."
      ]
    },
    {
      "cell_type": "markdown",
      "id": "52f2a872-187d-48d0-b323-1ed1dde870d8",
      "metadata": {
        "id": "52f2a872-187d-48d0-b323-1ed1dde870d8"
      },
      "source": [
        "42. Encode a string using a Caesar cipher."
      ]
    },
    {
      "cell_type": "code",
      "execution_count": null,
      "id": "3e4e88f4-09d5-4c5f-a6cd-fe0ddbf34793",
      "metadata": {
        "id": "3e4e88f4-09d5-4c5f-a6cd-fe0ddbf34793",
        "outputId": "cfcb677b-34ce-401e-b481-d7f22f371e5a"
      },
      "outputs": [
        {
          "name": "stdout",
          "output_type": "stream",
          "text": [
            "The encoded string using a Caesar cipher is: Khoor, Zruog!\n"
          ]
        }
      ],
      "source": [
        "# Function to encode a string using a Caesar cipher\n",
        "def caesar_cipher_encode(input_string, shift):\n",
        "    # Initialize an empty string to store the encoded result\n",
        "    encoded_string = \"\"\n",
        "\n",
        "    # Iterate through each character in the input string\n",
        "    for char in input_string:\n",
        "        # Check if the character is an alphabet letter\n",
        "        if char.isalpha():\n",
        "            # Determine the case (uppercase or lowercase) of the character\n",
        "            is_uppercase = char.isupper()\n",
        "\n",
        "            # Shift the character by the specified amount\n",
        "            shifted_char = chr((ord(char) - ord('A' if is_uppercase else 'a') + shift) % 26 + ord('A' if is_uppercase else 'a'))\n",
        "\n",
        "            # Append the shifted character to the result string\n",
        "            encoded_string += shifted_char\n",
        "        else:\n",
        "            # Keep non-alphabetic characters unchanged\n",
        "            encoded_string += char\n",
        "\n",
        "    # Return the encoded result string\n",
        "    return encoded_string\n",
        "\n",
        "# Example usage\n",
        "input_str = \"Hello, World!\"\n",
        "shift_amount = 3\n",
        "result = caesar_cipher_encode(input_str, shift_amount)\n",
        "\n",
        "# Display the result\n",
        "print(f\"The encoded string using a Caesar cipher is: {result}\")\n"
      ]
    },
    {
      "cell_type": "markdown",
      "id": "3735fa24-115a-435a-8bb7-250df1ab72d9",
      "metadata": {
        "id": "3735fa24-115a-435a-8bb7-250df1ab72d9"
      },
      "source": [
        "We define a function caesar_cipher_encode that takes a string (input_string) and a shift amount (shift) as its parameters.\n",
        "\n",
        "\n",
        "We initialize an empty string (encoded_string) to store the encoded result.\n",
        "\n",
        "\n",
        "We use a for loop to iterate through each character in the input string (input_string).\n",
        "\n",
        "\n",
        "We use the isalpha() method to check if the character is an alphabet letter.\n",
        "\n",
        "\n",
        "We use the isupper() method to determine whether the character is uppercase or lowercase.\n",
        "\n",
        "\n",
        "We calculate the shifted character using the formula (ord(char) - ord('A' if is_uppercase else 'a') + shift) % 26 + ord('A' if is_uppercase else 'a').\n",
        "This formula ensures that the character is shifted by the specified amount while handling wrapping around the alphabet.\n",
        "\n",
        "\n",
        "We append the shifted character to the result string.\n",
        "\n",
        "\n",
        "If the character is not an alphabet letter, we keep it unchanged.\n",
        "\n",
        "\n",
        "The function returns the encoded result string.\n",
        "\n",
        "\n",
        "We provide an example string (\"Hello, World!\") and a shift amount (3) and call the caesar_cipher_encode function with these parameters.\n",
        "\n",
        "\n",
        "Finally, we print the result, which is the original string encoded using a Caesar cipher."
      ]
    },
    {
      "cell_type": "markdown",
      "id": "bdf420c4-ce77-4b9e-a99e-9c8803ffaaa7",
      "metadata": {
        "id": "bdf420c4-ce77-4b9e-a99e-9c8803ffaaa7"
      },
      "source": [
        "43. Decode a Caesar cipher encoded string."
      ]
    },
    {
      "cell_type": "code",
      "execution_count": null,
      "id": "eca488f8-91e6-490e-b885-590f36702c43",
      "metadata": {
        "id": "eca488f8-91e6-490e-b885-590f36702c43",
        "outputId": "3238041b-b26a-4818-c8d3-dac25f79483d"
      },
      "outputs": [
        {
          "name": "stdout",
          "output_type": "stream",
          "text": [
            "The encoded string using a Caesar cipher is: Khoor, Zruog!\n"
          ]
        }
      ],
      "source": [
        "# Function to encode a string using a Caesar cipher\n",
        "def caesar_cipher_encode(input_string, shift):\n",
        "    # Initialize an empty string to store the encoded result\n",
        "    encoded_string = \"\"\n",
        "\n",
        "    # Iterate through each character in the input string\n",
        "    for char in input_string:\n",
        "        # Check if the character is an alphabet letter\n",
        "        if char.isalpha():\n",
        "            # Determine the case (uppercase or lowercase) of the character\n",
        "            is_uppercase = char.isupper()\n",
        "\n",
        "            # Shift the character by the specified amount\n",
        "            shifted_char = chr((ord(char) - ord('A' if is_uppercase else 'a') + shift) % 26 + ord('A' if is_uppercase else 'a'))\n",
        "\n",
        "            # Append the shifted character to the result string\n",
        "            encoded_string += shifted_char\n",
        "        else:\n",
        "            # Keep non-alphabetic characters unchanged\n",
        "            encoded_string += char\n",
        "\n",
        "    # Return the encoded result string\n",
        "    return encoded_string\n",
        "\n",
        "# Example usage\n",
        "input_str = \"Hello, World!\"\n",
        "shift_amount = 3\n",
        "result = caesar_cipher_encode(input_str, shift_amount)\n",
        "\n",
        "# Display the result\n",
        "print(f\"The encoded string using a Caesar cipher is: {result}\")\n"
      ]
    },
    {
      "cell_type": "markdown",
      "id": "01633756-085a-423b-ab25-940beed643ec",
      "metadata": {
        "id": "01633756-085a-423b-ab25-940beed643ec"
      },
      "source": [
        "We define a function caesar_cipher_encode that takes a string (input_string) and a shift amount (shift) as its parameters.\n",
        "\n",
        "\n",
        "We initialize an empty string (encoded_string) to store the encoded result.\n",
        "Iterate Through Characters\n",
        "\n",
        "We use a for loop to iterate through each character in the input string (input_string).\n",
        "\n",
        "\n",
        "We use the isalpha() method to check if the character is an alphabet letter.\n",
        "\n",
        "\n",
        "We use the isupper() method to determine whether the character is uppercase or lowercase.\n",
        "\n",
        "\n",
        "We calculate the shifted character using the formula (ord(char) - ord('A' if is_uppercase else 'a') + shift) % 26 + ord('A' if is_uppercase else 'a').\n",
        "This formula ensures that the character is shifted by the specified amount while handling wrapping around the alphabet.\n",
        "\n",
        "\n",
        "We append the shifted character to the result string.\n",
        "\n",
        "\n",
        "If the character is not an alphabet letter, we keep it unchanged.\n",
        "\n",
        "\n",
        "The function returns the encoded result string.\n",
        "\n",
        "\n",
        "We provide an example string (\"Hello, World!\") and a shift amount (3) and call the caesar_cipher_encode function with these parameters.\n",
        "\n",
        "\n",
        "Finally, we print the result, which is the original string encoded using a Caesar cipher."
      ]
    },
    {
      "cell_type": "markdown",
      "id": "4d97ddbe-5181-4100-a9b2-df1a9d99daad",
      "metadata": {
        "id": "4d97ddbe-5181-4100-a9b2-df1a9d99daad"
      },
      "source": [
        "44. Find the most frequent word in a string."
      ]
    },
    {
      "cell_type": "code",
      "execution_count": null,
      "id": "287dae3e-d8a2-47ed-9ba2-13b156088653",
      "metadata": {
        "id": "287dae3e-d8a2-47ed-9ba2-13b156088653",
        "outputId": "a8cdf1a8-9372-48ab-9ed3-7cfb9852f806"
      },
      "outputs": [
        {
          "name": "stdout",
          "output_type": "stream",
          "text": [
            "The most frequent word is 'this' with a frequency of 2.\n"
          ]
        }
      ],
      "source": [
        "# Function to find the most frequent word in a string\n",
        "def most_frequent_word(input_string):\n",
        "    # Remove punctuation and convert to lowercase for accurate counting\n",
        "    input_string = input_string.lower()\n",
        "    input_string = ''.join(char if char.isalnum() or char.isspace() else ' ' for char in input_string)\n",
        "\n",
        "    # Split the string into a list of words\n",
        "    words = input_string.split()\n",
        "\n",
        "    # Create a dictionary to store word frequencies\n",
        "    word_frequency = {}\n",
        "\n",
        "    # Iterate through each word and update the frequency in the dictionary\n",
        "    for word in words:\n",
        "        word_frequency[word] = word_frequency.get(word, 0) + 1\n",
        "\n",
        "    # Find the word with the highest frequency\n",
        "    most_frequent_word = max(word_frequency, key=word_frequency.get)\n",
        "\n",
        "    # Return the most frequent word and its frequency\n",
        "    return most_frequent_word, word_frequency[most_frequent_word]\n",
        "\n",
        "# Example usage\n",
        "input_str = \"This is an example. This example demonstrates finding the most frequent word in a string.\"\n",
        "result_word, result_frequency = most_frequent_word(input_str)\n",
        "\n",
        "# Display the result\n",
        "print(f\"The most frequent word is '{result_word}' with a frequency of {result_frequency}.\")\n"
      ]
    },
    {
      "cell_type": "markdown",
      "id": "e0d37160-7eea-4e08-a786-8d1c9fa8d39d",
      "metadata": {
        "id": "e0d37160-7eea-4e08-a786-8d1c9fa8d39d"
      },
      "source": [
        "We define a function most_frequent_word that takes a string (input_string) as its parameter.\n",
        "\n",
        "\n",
        "We remove punctuation from the string and convert it to lowercase to ensure accurate word counting.\n",
        "\n",
        "\n",
        "We use the split() method to break the string into a list of words.\n",
        "\n",
        "\n",
        "We create an empty dictionary (word_frequency) to store word frequencies.\n",
        "\n",
        "\n",
        "We iterate through each word in the list and update its frequency in the dictionary using the get() method.\n",
        "\n",
        "\n",
        "We use the max() function with the key argument set to word_frequency.get to find the word with the highest frequency.\n",
        "\n",
        "\n",
        "The function returns the most frequent word and its frequency.\n",
        "\n",
        "\n",
        "We provide an example string and call the most_frequent_word function with this string.\n",
        "\n",
        "\n",
        "Finally, we print the result, which is the most frequent word and its frequency."
      ]
    },
    {
      "cell_type": "markdown",
      "id": "a40cde38-af28-4bb8-8ed0-bc5ce93fb5bf",
      "metadata": {
        "id": "a40cde38-af28-4bb8-8ed0-bc5ce93fb5bf"
      },
      "source": [
        "45. Find all unique words in a string."
      ]
    },
    {
      "cell_type": "code",
      "execution_count": null,
      "id": "ac5dc03b-f5ba-4f39-835c-20e1f492ffa9",
      "metadata": {
        "id": "ac5dc03b-f5ba-4f39-835c-20e1f492ffa9",
        "outputId": "097df4ef-7e42-4378-b81d-c91be1572304"
      },
      "outputs": [
        {
          "name": "stdout",
          "output_type": "stream",
          "text": [
            "The unique words in the string are: ['a', 'an', 'demonstrates', 'example', 'finding', 'in', 'is', 'string', 'this', 'unique', 'words']\n"
          ]
        }
      ],
      "source": [
        "# Function to find all unique words in a string\n",
        "def unique_words(input_string):\n",
        "    # Remove punctuation and convert to lowercase for accurate counting\n",
        "    input_string = input_string.lower()\n",
        "    input_string = ''.join(char if char.isalnum() or char.isspace() else ' ' for char in input_string)\n",
        "\n",
        "    # Split the string into a list of words\n",
        "    words = input_string.split()\n",
        "\n",
        "    # Create a set to store unique words\n",
        "    unique_word_set = set(words)\n",
        "\n",
        "    # Convert the set back to a sorted list for display\n",
        "    unique_word_list = sorted(list(unique_word_set))\n",
        "\n",
        "    # Return the list of unique words\n",
        "    return unique_word_list\n",
        "\n",
        "# Example usage\n",
        "input_str = \"This is an example. This example demonstrates finding unique words in a string.\"\n",
        "result = unique_words(input_str)\n",
        "\n",
        "# Display the result\n",
        "print(f\"The unique words in the string are: {result}\")\n"
      ]
    },
    {
      "cell_type": "markdown",
      "id": "9e44cbcb-6ecd-4b55-b08d-242e7710cc71",
      "metadata": {
        "id": "9e44cbcb-6ecd-4b55-b08d-242e7710cc71"
      },
      "source": [
        "We define a function unique_words that takes a string (input_string) as its parameter.\n",
        "\n",
        "\n",
        "We remove punctuation from the string and convert it to lowercase to ensure accurate word identification.\n",
        "\n",
        "\n",
        "We use the split() method to break the string into a list of words.\n",
        "\n",
        "\n",
        "We create an empty set (unique_word_set) to store unique words.\n",
        "Sets automatically eliminate duplicate entries.\n",
        "\n",
        "\n",
        "We convert the set back to a sorted list (unique_word_list) for display purposes.\n",
        "\n",
        "\n",
        "The function returns the list of unique words.\n",
        "\n",
        "\n",
        "We provide an example string and call the unique_words function with this string.\n",
        "\n",
        "\n",
        "Finally, we print the result, which is the list of unique words."
      ]
    },
    {
      "cell_type": "markdown",
      "id": "2adc2555-dc59-4a72-b86b-e884a6451d11",
      "metadata": {
        "id": "2adc2555-dc59-4a72-b86b-e884a6451d11"
      },
      "source": [
        "46. Count the number of syllables in a string."
      ]
    },
    {
      "cell_type": "code",
      "execution_count": null,
      "id": "0a7d4f42-3e0a-44ff-a533-fc10b81a67ed",
      "metadata": {
        "id": "0a7d4f42-3e0a-44ff-a533-fc10b81a67ed",
        "outputId": "1cdb2d6d-623f-4bd1-a019-946e210e3442"
      },
      "outputs": [
        {
          "name": "stdout",
          "output_type": "stream",
          "text": [
            "The number of syllables in the string is: 18\n"
          ]
        }
      ],
      "source": [
        "# Function to count the number of syllables in a word\n",
        "def count_syllables_in_word(word):\n",
        "    vowels = \"aeiouy\"\n",
        "    count = 0\n",
        "    is_vowel = False\n",
        "\n",
        "    # Iterate through each character in the word\n",
        "    for char in word.lower():\n",
        "        # Check if the character is a vowel\n",
        "        if char in vowels:\n",
        "            # If the current character is a vowel and the previous character was not, increment the count\n",
        "            if not is_vowel:\n",
        "                count += 1\n",
        "            is_vowel = True\n",
        "        else:\n",
        "            is_vowel = False\n",
        "\n",
        "    # Adjust the count for special cases\n",
        "    if count == 0:\n",
        "        count = 1\n",
        "\n",
        "    return count\n",
        "\n",
        "# Function to count the number of syllables in a string\n",
        "def count_syllables(input_string):\n",
        "    # Remove punctuation and convert to lowercase for accurate counting\n",
        "    input_string = input_string.lower()\n",
        "    input_string = ''.join(char if char.isalnum() or char.isspace() else ' ' for char in input_string)\n",
        "\n",
        "    # Split the string into a list of words\n",
        "    words = input_string.split()\n",
        "\n",
        "    # Count syllables for each word and sum the counts\n",
        "    total_syllables = sum(count_syllables_in_word(word) for word in words)\n",
        "\n",
        "    return total_syllables\n",
        "\n",
        "# Example usage\n",
        "input_str = \"This is an example sentence demonstrating syllable counting.\"\n",
        "result = count_syllables(input_str)\n",
        "\n",
        "# Display the result\n",
        "print(f\"The number of syllables in the string is: {result}\")\n"
      ]
    },
    {
      "cell_type": "markdown",
      "id": "2578a009-63a0-40fa-8de9-0973ea619c56",
      "metadata": {
        "id": "2578a009-63a0-40fa-8de9-0973ea619c56"
      },
      "source": [
        "We define a function count_syllables_in_word that takes a word as its parameter.\n",
        "This function counts the number of syllables in a single word.\n",
        "\n",
        "\n",
        "We define a string of vowels (vowels) and initialize a counter (count) to 0.\n",
        "We also initialize a flag (is_vowel) to keep track of whether the current character is a vowel.\n",
        "\n",
        "\n",
        "We use a for loop to iterate through each character in the word.\n",
        "We check if each character is a vowel and update the count accordingly.\n",
        "\n",
        "\n",
        "If the count is 0, we adjust it to 1. This helps handle cases where a word has no vowels.\n",
        "\n",
        "\n",
        "We define a function count_syllables that takes a string (input_string) as its parameter.\n",
        "This function counts the number of syllables in the entire string.\n",
        "\n",
        "\n",
        "We remove punctuation from the string and convert it to lowercase for accurate counting.\n",
        "\n",
        "\n",
        "We use the split() method to break the string into a list of words.\n",
        "\n",
        "\n",
        "We iterate through each word in the list and use the count_syllables_in_word function to count syllables in each word.\n",
        "We sum the counts for all words to get the total number of syllables.\n",
        "\n",
        "\n",
        "The function returns the total number of syllables in the string.\n",
        "\n",
        "\n",
        "We provide an example string and call the count_syllables function with this string.\n",
        "\n",
        "\n",
        "Finally, we print the result, which is the total number of syllables in the string."
      ]
    },
    {
      "cell_type": "markdown",
      "id": "6a43d266-8d45-42ee-b9da-5b19e6354245",
      "metadata": {
        "id": "6a43d266-8d45-42ee-b9da-5b19e6354245"
      },
      "source": [
        "47. Check if a string contains any special characters."
      ]
    },
    {
      "cell_type": "code",
      "execution_count": null,
      "id": "1cbbda1c-e41c-494a-8b0a-adfc60ff6005",
      "metadata": {
        "id": "1cbbda1c-e41c-494a-8b0a-adfc60ff6005",
        "outputId": "4e40d6f4-d973-4543-8524-0b4762aff48b"
      },
      "outputs": [
        {
          "name": "stdout",
          "output_type": "stream",
          "text": [
            "The string 'Hello123' does not contain special characters.\n"
          ]
        }
      ],
      "source": [
        "# Function to check if a string contains any special characters\n",
        "def contains_special_characters(input_string):\n",
        "    # Iterate through each character in the string\n",
        "    for char in input_string:\n",
        "        # Check if the character is a special character\n",
        "        if not char.isalnum():\n",
        "            return True  # Return True if a special character is found\n",
        "\n",
        "    # Return False if no special characters are found\n",
        "    return False\n",
        "\n",
        "# Example usage\n",
        "test_string = \"Hello123\"\n",
        "result = contains_special_characters(test_string)\n",
        "\n",
        "# Display the result\n",
        "if result:\n",
        "    print(f\"The string '{test_string}' contains special characters.\")\n",
        "else:\n",
        "    print(f\"The string '{test_string}' does not contain special characters.\")\n"
      ]
    },
    {
      "cell_type": "markdown",
      "id": "741016b1-26a6-490b-bc69-cbe383012ea8",
      "metadata": {
        "id": "741016b1-26a6-490b-bc69-cbe383012ea8"
      },
      "source": [
        "We define a function contains_special_characters that takes a string (input_string) as its parameter.\n",
        "\n",
        "\n",
        "We use a for loop to iterate through each character in the input string (input_string).\n",
        "\n",
        "\n",
        "We use the isalnum() method to check if the character is alphanumeric (i.e., a letter or a digit).\n",
        "If the character is not alphanumeric, it is considered a special character.\n",
        "\n",
        "\n",
        "The function returns True if any special characters are found, and False otherwise.\n",
        "\n",
        "\n",
        "We provide an example string (\"Hello123\") and call the contains_special_characters function with this string.\n",
        "\n",
        "\n",
        "Finally, we print whether the provided string contains any special characters or not."
      ]
    },
    {
      "cell_type": "markdown",
      "id": "fd828e50-cc81-4350-b8ad-14d8cb18c6e6",
      "metadata": {
        "id": "fd828e50-cc81-4350-b8ad-14d8cb18c6e6"
      },
      "source": [
        "48. Remove the nth word from a string."
      ]
    },
    {
      "cell_type": "code",
      "execution_count": null,
      "id": "78eb2bb7-058e-4073-9a95-d312afc025bf",
      "metadata": {
        "id": "78eb2bb7-058e-4073-9a95-d312afc025bf",
        "outputId": "85f86e95-54d5-4552-c99d-e796b52710e6"
      },
      "outputs": [
        {
          "name": "stdout",
          "output_type": "stream",
          "text": [
            "The string after removing the 3th word is:\n",
            "This is example sentence.\n"
          ]
        }
      ],
      "source": [
        "# Function to remove the nth word from a string\n",
        "def remove_nth_word(input_string, n):\n",
        "    # Split the string into words\n",
        "    words = input_string.split()\n",
        "\n",
        "    # Check if the index is valid\n",
        "    if 1 <= n <= len(words):\n",
        "        # Remove the nth word\n",
        "        del words[n - 1]\n",
        "\n",
        "        # Join the remaining words into a string\n",
        "        result_string = ' '.join(words)\n",
        "\n",
        "        return result_string\n",
        "    else:\n",
        "        # If the index is invalid, return the original string\n",
        "        return input_string\n",
        "\n",
        "# Example usage\n",
        "input_str = \"This is an example sentence.\"\n",
        "index_to_remove = 3\n",
        "result = remove_nth_word(input_str, index_to_remove)\n",
        "\n",
        "# Display the result\n",
        "print(f\"The string after removing the {index_to_remove}th word is:\\n{result}\")\n"
      ]
    },
    {
      "cell_type": "markdown",
      "id": "212abca5-6a1c-40e5-a4a8-2323212d30e8",
      "metadata": {
        "id": "212abca5-6a1c-40e5-a4a8-2323212d30e8"
      },
      "source": [
        "We define a function remove_nth_word that takes a string (input_string) and an index (n) as its parameters.\n",
        "\n",
        "\n",
        "We use the split() method to break the string into a list of words.\n",
        "\n",
        "\n",
        "We check if the specified index is within the valid range (1 to the number of words in the string).\n",
        "\n",
        "\n",
        "If the index is valid, we use del to remove the word at the specified index.\n",
        "\n",
        "\n",
        "We use join() to concatenate the remaining words into a string.\n",
        "\n",
        "\n",
        "The function returns the modified string if the index is valid, or the original string if the index is invalid.\n",
        "\n",
        "\n",
        "We provide an example string (\"This is an example sentence.\") and an index to remove (3), then call the remove_nth_word function.\n",
        "\n",
        "Finally, we print the result, which is the string after removing the nth word."
      ]
    },
    {
      "cell_type": "markdown",
      "id": "37c09e33-ab06-45c7-a036-19ee76e04065",
      "metadata": {
        "id": "37c09e33-ab06-45c7-a036-19ee76e04065"
      },
      "source": [
        "49. Insert a word at the nth position in a string."
      ]
    },
    {
      "cell_type": "code",
      "execution_count": null,
      "id": "9a6038f8-402d-428e-be9a-48d058b25f88",
      "metadata": {
        "id": "9a6038f8-402d-428e-be9a-48d058b25f88",
        "outputId": "edd442f7-1e05-4fc4-940e-22f6c29f2874"
      },
      "outputs": [
        {
          "name": "stdout",
          "output_type": "stream",
          "text": [
            "The string after inserting 'new' at position 2 is:\n",
            "This is new an example sentence.\n"
          ]
        }
      ],
      "source": [
        "# Function to insert a word at the nth position in a string\n",
        "def insert_word_at_nth_position(input_string, new_word, n):\n",
        "    # Split the string into words\n",
        "    words = input_string.split()\n",
        "\n",
        "    # Check if the index is valid\n",
        "    if 0 <= n <= len(words):\n",
        "        # Insert the new word at the specified index\n",
        "        words.insert(n, new_word)\n",
        "\n",
        "        # Join the words into a string\n",
        "        result_string = ' '.join(words)\n",
        "\n",
        "        return result_string\n",
        "    else:\n",
        "        # If the index is invalid, return the original string\n",
        "        return input_string\n",
        "\n",
        "# Example usage\n",
        "input_str = \"This is an example sentence.\"\n",
        "word_to_insert = \"new\"\n",
        "index_to_insert = 2\n",
        "result = insert_word_at_nth_position(input_str, word_to_insert, index_to_insert)\n",
        "\n",
        "# Display the result\n",
        "print(f\"The string after inserting '{word_to_insert}' at position {index_to_insert} is:\\n{result}\")\n"
      ]
    },
    {
      "cell_type": "markdown",
      "id": "1e3cec32-d048-431e-8fee-4a7bf66acfaf",
      "metadata": {
        "id": "1e3cec32-d048-431e-8fee-4a7bf66acfaf"
      },
      "source": [
        "We define a function insert_word_at_nth_position that takes a string (input_string), a new word (new_word), and an index (n) as its parameters.\n",
        "\n",
        "\n",
        "We use the split() method to break the string into a list of words.\n",
        "\n",
        "\n",
        "We check if the specified index is within the valid range (0 to the number of words in the string).\n",
        "\n",
        "\n",
        "If the index is valid, we use insert() to add the new word at the specified index.\n",
        "\n",
        "\n",
        "We use join() to concatenate the words into a string.\n",
        "\n",
        "\n",
        "The function returns the modified string if the index is valid, or the original string if the index is invalid.\n",
        "\n",
        "\n",
        "We provide an example string (\"This is an example sentence.\"), a new word to insert (\"new\"), and an index to insert at (2), then call the insert_word_at_nth_position function.\n",
        "\n",
        "\n",
        "Finally, we print the result, which is the string after inserting the new word at the specified position."
      ]
    },
    {
      "cell_type": "markdown",
      "id": "87619482-ecab-440d-99f8-6eb8d322f7a3",
      "metadata": {
        "id": "87619482-ecab-440d-99f8-6eb8d322f7a3"
      },
      "source": [
        "50. Convert a CSV string to a list of lists."
      ]
    },
    {
      "cell_type": "code",
      "execution_count": null,
      "id": "6c89d496-32b2-42a0-8132-1c249153b932",
      "metadata": {
        "id": "6c89d496-32b2-42a0-8132-1c249153b932",
        "outputId": "5e91847c-492d-4e4d-af26-6150e925a89b"
      },
      "outputs": [
        {
          "name": "stdout",
          "output_type": "stream",
          "text": [
            "The CSV string converted to a list of lists is:\n",
            "['Name', 'Age', 'Location']\n",
            "['John', '25', 'New York']\n",
            "['Alice', '30', 'San Francisco']\n",
            "['Bob', '22', 'Los Angeles']\n"
          ]
        }
      ],
      "source": [
        "import csv\n",
        "from io import StringIO\n",
        "\n",
        "# Function to convert a CSV string to a list of lists\n",
        "def csv_string_to_list(csv_string):\n",
        "    # Use StringIO to create a file-like object for the csv.reader\n",
        "    csv_file = StringIO(csv_string)\n",
        "\n",
        "    # Use csv.reader to read the CSV data\n",
        "    csv_reader = csv.reader(csv_file)\n",
        "\n",
        "    # Convert the csv_reader object to a list of lists\n",
        "    csv_list = list(csv_reader)\n",
        "\n",
        "    return csv_list\n",
        "\n",
        "# Example usage\n",
        "csv_string = \"Name,Age,Location\\nJohn,25,New York\\nAlice,30,San Francisco\\nBob,22,Los Angeles\"\n",
        "result = csv_string_to_list(csv_string)\n",
        "\n",
        "# Display the result\n",
        "print(\"The CSV string converted to a list of lists is:\")\n",
        "for row in result:\n",
        "    print(row)\n"
      ]
    },
    {
      "cell_type": "raw",
      "id": "c6755328-5e80-413f-8005-cb85ab5cbf2c",
      "metadata": {
        "id": "c6755328-5e80-413f-8005-cb85ab5cbf2c"
      },
      "source": [
        "We import the csv module for CSV handling and the StringIO class from the io module to create a file-like object.\n",
        "\n",
        "\n",
        "We define a function csv_string_to_list that takes a CSV string (csv_string) as its parameter.\n",
        "\n",
        "\n",
        "We use StringIO to create a file-like object (csv_file) from the CSV string.\n",
        "\n",
        "\n",
        "We use csv.reader to read the CSV data from the file-like object.\n",
        "\n",
        "\n",
        "We convert the csv_reader object to a list of lists (csv_list).\n",
        "\n",
        "\n",
        "The function returns the list of lists.\n",
        "\n",
        "\n",
        "We provide an example CSV string and call the csv_string_to_list function with this string.\n",
        "\n",
        "\n",
        "Finally, we print the result, which is the CSV string converted to a list of lists."
      ]
    },
    {
      "cell_type": "markdown",
      "id": "6bb0c657-a0f3-448a-a0e0-5788fa278a83",
      "metadata": {
        "id": "6bb0c657-a0f3-448a-a0e0-5788fa278a83"
      },
      "source": [
        "List Based Practice Problem :"
      ]
    },
    {
      "cell_type": "markdown",
      "id": "df811289-e1fd-42a6-8c37-95fd13eab8f0",
      "metadata": {
        "id": "df811289-e1fd-42a6-8c37-95fd13eab8f0"
      },
      "source": [
        "1. Create a list with integers from 1 to 10."
      ]
    },
    {
      "cell_type": "code",
      "execution_count": null,
      "id": "ec8cf804-b4e6-4017-89b3-1b286a902175",
      "metadata": {
        "id": "ec8cf804-b4e6-4017-89b3-1b286a902175",
        "outputId": "f92b2887-19c8-4b6f-9cd7-aa76ebc50fd1"
      },
      "outputs": [
        {
          "name": "stdout",
          "output_type": "stream",
          "text": [
            "The list of integers from 1 to 10: [1, 2, 3, 4, 5, 6, 7, 8, 9, 10]\n"
          ]
        }
      ],
      "source": [
        "# Use the range() function to generate a sequence of numbers\n",
        "number_range = range(1, 11) # Numbers from 1 to 10 (11 is not included)\n",
        "\n",
        "# Convert the range object to a list\n",
        "number_list = list(number_range)\n",
        "\n",
        "# Display the result\n",
        "print(f\"The list of integers from 1 to 10:\", number_list)"
      ]
    },
    {
      "cell_type": "markdown",
      "id": "18622201-c382-4d5e-8c78-5227ac17b32b",
      "metadata": {
        "id": "18622201-c382-4d5e-8c78-5227ac17b32b"
      },
      "source": [
        "We use the range(1, 11) function to generate a sequence of numbers starting from 1 up to (but not including) 11.\n",
        "\n",
        "We use list(number_range) to convert the range object to a list.\n",
        "\n",
        "Finally, we print the result, which is the list of integers from 1 to 10."
      ]
    },
    {
      "cell_type": "markdown",
      "id": "e53f3237-a53d-44ad-a295-d0360e406dd7",
      "metadata": {
        "id": "e53f3237-a53d-44ad-a295-d0360e406dd7"
      },
      "source": [
        "2. Find the length of a list without using the `len()` function."
      ]
    },
    {
      "cell_type": "code",
      "execution_count": null,
      "id": "2ae5cad7-6c09-4276-b011-e5c82f455496",
      "metadata": {
        "id": "2ae5cad7-6c09-4276-b011-e5c82f455496",
        "outputId": "a513a433-264a-41a4-a3ed-af61c468c248"
      },
      "outputs": [
        {
          "name": "stdout",
          "output_type": "stream",
          "text": [
            "The length of the list is: 10\n"
          ]
        }
      ],
      "source": [
        "#Example list\n",
        "example_list = [1,2,3,4,5,6,7,8,9,10]\n",
        "\n",
        "# Initialize a counter variable\n",
        "length_counter = 0\n",
        "\n",
        "# Iterate through each element in the list\n",
        "for i in example_list:\n",
        "\n",
        "      # Increment the counter for each element\n",
        "        length_counter += 1\n",
        "\n",
        "# Display the result\n",
        "print(f\"The length of the list is: {length_counter}\")"
      ]
    },
    {
      "cell_type": "markdown",
      "id": "aa0bfc80-d9ff-416f-861b-39c49a62e04a",
      "metadata": {
        "id": "aa0bfc80-d9ff-416f-861b-39c49a62e04a"
      },
      "source": [
        "We start with an example list named example_list containing integers from 1 to 10.\n",
        "\n",
        "We initialize a counter variable (length_counter) to 0. This variable will be used to count the elements in the list.\n",
        "\n",
        "We use a for loop to iterate through each element in the list. The loop variable is denoted by _ (underscore) as we don't need its value.\n",
        "\n",
        "For each element encountered in the list, we increment the counter (length_counter) by 1.\n",
        "\n",
        "Finally, we print the result, which is the length of the list obtained by counting the elements."
      ]
    },
    {
      "cell_type": "markdown",
      "id": "dd30373e-00d7-417e-b42f-41430d98cfd3",
      "metadata": {
        "id": "dd30373e-00d7-417e-b42f-41430d98cfd3"
      },
      "source": [
        "3. Append an element to the end of a list."
      ]
    },
    {
      "cell_type": "code",
      "execution_count": null,
      "id": "66024232-e445-46f8-af30-35cfce415280",
      "metadata": {
        "id": "66024232-e445-46f8-af30-35cfce415280",
        "outputId": "8cfd4cb4-0e93-434f-ac24-cfe533b614c8"
      },
      "outputs": [
        {
          "name": "stdout",
          "output_type": "stream",
          "text": [
            "The list after appending the new element is: [1, 2, 3, 4, 5, 6]\n"
          ]
        }
      ],
      "source": [
        "#Example list\n",
        "original_list = [1,2,3,4,5]\n",
        "\n",
        "#Element to append\n",
        "new_element = 6\n",
        "\n",
        "# Use the append() method to add the new element to the end of the list\n",
        "original_list.append(new_element)\n",
        "\n",
        "# Display the updated list\n",
        "print(f\"The list after appending the new element is:\", original_list)"
      ]
    },
    {
      "cell_type": "markdown",
      "id": "1f438b90-fed2-4a04-9780-9a80a4bb582c",
      "metadata": {
        "id": "1f438b90-fed2-4a04-9780-9a80a4bb582c"
      },
      "source": [
        "We start with an example list named original_list containing integers from 1 to 5.\n",
        "\n",
        "We have a new element (new_element) that we want to append to the end of the list. In this example, the new element is 6.\n",
        "\n",
        "We use the append() method on the original_list to add the new element to the end of the list.\n",
        "The append() method modifies the list in place.\n",
        "\n",
        "We print the result, which is the list after appending the new element."
      ]
    },
    {
      "cell_type": "markdown",
      "id": "98e74dcd-f375-4621-a66b-83cafc482e97",
      "metadata": {
        "id": "98e74dcd-f375-4621-a66b-83cafc482e97"
      },
      "source": [
        "4. Insert an element at a specific index in a list."
      ]
    },
    {
      "cell_type": "code",
      "execution_count": null,
      "id": "1e7adc39-0ba2-4f06-8e6b-757082a5b708",
      "metadata": {
        "id": "1e7adc39-0ba2-4f06-8e6b-757082a5b708",
        "outputId": "518cbf40-e348-4c45-a48b-bb3303db5a8b"
      },
      "outputs": [
        {
          "name": "stdout",
          "output_type": "stream",
          "text": [
            "The list after inserting the new element is: [1, 2, 3, 4, 5, 6]\n"
          ]
        }
      ],
      "source": [
        "#Original list\n",
        "original_list = [1,2,3,5,6]\n",
        "\n",
        "#Element to insert\n",
        "new_element = 4\n",
        "\n",
        "#Index to insert the new element\n",
        "insert_index = 3\n",
        "\n",
        "# Use the insert() method to add the new element at the specified index\n",
        "original_list.insert(insert_index, new_element)\n",
        "\n",
        "# Display the updated list\n",
        "print(f\"The list after inserting the new element is:\", original_list)"
      ]
    },
    {
      "cell_type": "markdown",
      "id": "f5e5d842-eedb-49b1-9acb-8a0f62f132ee",
      "metadata": {
        "id": "f5e5d842-eedb-49b1-9acb-8a0f62f132ee"
      },
      "source": [
        "We start with an original list named original_list containing integers from 1 to 6.\n",
        "\n",
        "We have a new element (new_element) that we want to insert into the list. In this example, the new element is 4.\n",
        "\n",
        "We specify the index (insert_index) where we want to insert the new element. In this example, the index is 3.\n",
        "U\n",
        "We use the insert() method on the original_list to add the new element at the specified index.\n",
        "The insert() method modifies the list in place.\n",
        "\n",
        "We print the result, which is the list after inserting the new element."
      ]
    },
    {
      "cell_type": "markdown",
      "id": "955c2a4e-a8e5-4e79-bd68-929f33564e83",
      "metadata": {
        "id": "955c2a4e-a8e5-4e79-bd68-929f33564e83"
      },
      "source": [
        "5. Remove an element from a list by its value."
      ]
    },
    {
      "cell_type": "code",
      "execution_count": null,
      "id": "bd5bdf57-edfd-4228-9ed2-5ad889fb2fcd",
      "metadata": {
        "id": "bd5bdf57-edfd-4228-9ed2-5ad889fb2fcd",
        "outputId": "fb34a07b-19e0-4f6a-fa0b-c1feee557130"
      },
      "outputs": [
        {
          "name": "stdout",
          "output_type": "stream",
          "text": [
            "The list after removing the element is: [1, 2, 3, 5, 6]\n"
          ]
        }
      ],
      "source": [
        "#list\n",
        "original_list = [1,2,3,4,5,6]\n",
        "\n",
        "#Element to remove\n",
        "element_to_remove = 4\n",
        "\n",
        "# Use the remove() method to remove the specified element\n",
        "original_list.remove(element_to_remove)\n",
        "\n",
        "# Use the remove() method to remove the specified element\n",
        "print(f\"The list after removing the element is:\", original_list)"
      ]
    },
    {
      "cell_type": "markdown",
      "id": "25205abe-b0dc-4fc6-a87b-a3695bd37c51",
      "metadata": {
        "id": "25205abe-b0dc-4fc6-a87b-a3695bd37c51"
      },
      "source": [
        "We start with an example list named original_list containing integers, including the value 3 that we want to remove.\n",
        "\n",
        "We specify the element (element_to_remove) that we want to remove from the list. In this example, the element is 3.\n",
        "\n",
        "We use the remove() method on the original_list to remove the specified element.\n",
        "The remove() method modifies the list in place and removes the first occurrence of the specified value.\n",
        "\n",
        "We print the result, which is the list after removing the specified element."
      ]
    },
    {
      "cell_type": "markdown",
      "id": "13705425-9f09-4e3c-9eb5-77df3eca3a5f",
      "metadata": {
        "id": "13705425-9f09-4e3c-9eb5-77df3eca3a5f"
      },
      "source": [
        "6. Remove an element from a list by its index."
      ]
    },
    {
      "cell_type": "code",
      "execution_count": null,
      "id": "23eb409c-39e4-4e67-914d-36c8fd756f52",
      "metadata": {
        "id": "23eb409c-39e4-4e67-914d-36c8fd756f52",
        "outputId": "37588040-c273-4f82-a772-f5a8724f1629"
      },
      "outputs": [
        {
          "name": "stdout",
          "output_type": "stream",
          "text": [
            "The list after removing the element is: [1, 2, 4, 5, 6, 7]\n",
            "Removed element: 3\n"
          ]
        }
      ],
      "source": [
        "#Original list\n",
        "original_list = [1,2,3,4,5,6,7]\n",
        "\n",
        "# Index of the element to remove\n",
        "index_to_remove = 2\n",
        "\n",
        "# Use the pop() method to remove the element at the specified index\n",
        "removed_element = original_list.pop(index_to_remove)\n",
        "\n",
        "# Display the updated list and the removed element\n",
        "print(f\"The list after removing the element is:\", original_list)\n",
        "print(f\"Removed element:\", removed_element)"
      ]
    },
    {
      "cell_type": "markdown",
      "id": "6a87e92e-d8e0-4fb7-b821-ca6f20242064",
      "metadata": {
        "id": "6a87e92e-d8e0-4fb7-b821-ca6f20242064"
      },
      "source": [
        "We start with an example list named original_list containing integers.\n",
        "\n",
        "We specify the index (index_to_remove) of the element that we want to remove from the list. In this example, the index is 2.\n",
        "\n",
        "We use the pop() method on the original_list with the specified index to remove the element.\n",
        "The pop() method modifies the list in place and returns the removed element.\n",
        "\n",
        "We print the result, which is the list after removing the specified element, and we also display the removed element."
      ]
    },
    {
      "cell_type": "markdown",
      "id": "b7448f23-e813-4b32-88cc-af65da73cb18",
      "metadata": {
        "id": "b7448f23-e813-4b32-88cc-af65da73cb18"
      },
      "source": [
        "7. Check if an element exists in a list."
      ]
    },
    {
      "cell_type": "code",
      "execution_count": null,
      "id": "0d451dc9-f5a6-48af-b4eb-a3940d485ad9",
      "metadata": {
        "id": "0d451dc9-f5a6-48af-b4eb-a3940d485ad9",
        "outputId": "bcf83b71-541c-4347-993a-9c94c12af77d"
      },
      "outputs": [
        {
          "name": "stdout",
          "output_type": "stream",
          "text": [
            "The element 3 exists in the list.\n"
          ]
        }
      ],
      "source": [
        "# Example list\n",
        "example_list = [1, 2, 3, 4, 5]\n",
        "\n",
        "# Element to check\n",
        "element_to_check = 3\n",
        "\n",
        "# Use the 'in' keyword to check if the element exists\n",
        "element_exists = element_to_check in example_list\n",
        "\n",
        "# Display the result\n",
        "if element_exists:\n",
        "    print(f\"The element {element_to_check} exists in the list.\")\n",
        "else:\n",
        "    print(f\"The element {element_to_check} does not exist in the list.\")\n"
      ]
    },
    {
      "cell_type": "markdown",
      "id": "60b9545e-b049-467d-8daf-bc3d70ce9fdc",
      "metadata": {
        "id": "60b9545e-b049-467d-8daf-bc3d70ce9fdc"
      },
      "source": [
        "We start with an example list named example_list containing integers.\n",
        "\n",
        "We specify the element (element_to_check) that we want to check for in the list. In this example, the element is 3.\n",
        "\n",
        "We use the in keyword to check if the specified element exists in the list. The result is a boolean value (True or False).\n",
        "\n",
        "We print the result, indicating whether the element exists in the list or not.\n",
        "When you run each of the provided examples, you will get one of the following outputs:\n",
        "\n",
        "If the element exists: \"The element 3 exists in the list.\"\n",
        "If the element does not exist: \"The element 3 does not exist in the list.\"\n",
        "You can modify the element_to_check variable to test different elements.\n",
        "\n",
        "\n",
        "\n",
        "\n",
        "\n",
        "\n"
      ]
    },
    {
      "cell_type": "markdown",
      "id": "368a8b14-5489-452f-92f2-e1011b31f67a",
      "metadata": {
        "id": "368a8b14-5489-452f-92f2-e1011b31f67a"
      },
      "source": [
        "8. Find the index of the first occurrence of an element in a list."
      ]
    },
    {
      "cell_type": "code",
      "execution_count": null,
      "id": "7772d172-746b-4aef-92d7-525a4f3f817c",
      "metadata": {
        "id": "7772d172-746b-4aef-92d7-525a4f3f817c",
        "outputId": "35a87f1a-0e4a-43c9-8d9f-6b57463c494c"
      },
      "outputs": [
        {
          "name": "stdout",
          "output_type": "stream",
          "text": [
            "The index of the first occurrence of 3 is: 2\n"
          ]
        }
      ],
      "source": [
        "# Example list\n",
        "example_list = [1, 2, 3, 4, 3, 5]\n",
        "\n",
        "# Element to find the index of\n",
        "element_to_find = 3\n",
        "\n",
        "# Use the index() method to find the index of the first occurrence\n",
        "try:\n",
        "    index_of_element = example_list.index(element_to_find)\n",
        "    print(f\"The index of the first occurrence of {element_to_find} is: {index_of_element}\")\n",
        "except ValueError:\n",
        "    print(f\"The element {element_to_find} is not in the list.\")\n"
      ]
    },
    {
      "cell_type": "markdown",
      "id": "251699ef-13ac-4cbd-8a52-9db9eed7f2dd",
      "metadata": {
        "id": "251699ef-13ac-4cbd-8a52-9db9eed7f2dd"
      },
      "source": [
        "We start with an example list named example_list containing integers.\n",
        "\n",
        "We specify the element (element_to_find) for which we want to find the index. In this example, the element is 3.\n",
        "\n",
        "We use the index() method on the original_list to find the index of the first occurrence of the specified element.\n",
        "If the element is not found, a ValueError is raised, so we use a try-except block to handle this case.\n",
        "\n",
        "We print the result, which is the index of the first occurrence of the specified element, or a message indicating that the element is not in the list."
      ]
    },
    {
      "cell_type": "markdown",
      "id": "a55e3b30-297d-4ae0-a6e9-40f6aff42515",
      "metadata": {
        "id": "a55e3b30-297d-4ae0-a6e9-40f6aff42515"
      },
      "source": [
        "9. Count the occurrences of an element in a list."
      ]
    },
    {
      "cell_type": "code",
      "execution_count": null,
      "id": "95e21438-3ef2-4227-aeee-6fa1427e4e14",
      "metadata": {
        "id": "95e21438-3ef2-4227-aeee-6fa1427e4e14",
        "outputId": "b69aa959-ab48-45dc-97c7-e86c80fc142e"
      },
      "outputs": [
        {
          "name": "stdout",
          "output_type": "stream",
          "text": [
            "The element 3 appears 3 times in the list.\n"
          ]
        }
      ],
      "source": [
        "# Example list\n",
        "example_list = [1, 2, 3, 4, 3, 5, 3]\n",
        "\n",
        "# Element to count occurrences of\n",
        "element_to_count = 3\n",
        "\n",
        "# Use the count() method to count occurrences of the element\n",
        "occurrences_count = example_list.count(element_to_count)\n",
        "\n",
        "# Display the result\n",
        "print(f\"The element {element_to_count} appears {occurrences_count} times in the list.\")\n"
      ]
    },
    {
      "cell_type": "markdown",
      "id": "c4a92f58-6747-47eb-b7da-dd6e4da056b4",
      "metadata": {
        "id": "c4a92f58-6747-47eb-b7da-dd6e4da056b4"
      },
      "source": [
        "We start with an example list named example_list containing integers.\n",
        "\n",
        "We specify the element (element_to_count) for which we want to count occurrences. In this example, the element is 3.\n",
        "\n",
        "We use the count() method on the original_list to count the occurrences of the specified element.\n",
        "\n",
        "We print the result, which is the count of occurrences of the specified element in the list."
      ]
    },
    {
      "cell_type": "markdown",
      "id": "29d3a1a3-1e73-46a6-bad4-34cd4911f61a",
      "metadata": {
        "id": "29d3a1a3-1e73-46a6-bad4-34cd4911f61a"
      },
      "source": [
        "10. Reverse the order of elements in a list."
      ]
    },
    {
      "cell_type": "code",
      "execution_count": null,
      "id": "6aaa6f96-d9e5-43c8-aaa1-f89ea582f346",
      "metadata": {
        "id": "6aaa6f96-d9e5-43c8-aaa1-f89ea582f346",
        "outputId": "144e7d29-2401-4256-8e2a-da3d96e5843c"
      },
      "outputs": [
        {
          "name": "stdout",
          "output_type": "stream",
          "text": [
            "The list after reversing the order is: [5, 4, 3, 2, 1]\n"
          ]
        }
      ],
      "source": [
        "# Example list\n",
        "example_list = [1, 2, 3, 4, 5]\n",
        "\n",
        "# Use the reverse() method to reverse the order of elements in the list\n",
        "example_list.reverse()\n",
        "\n",
        "# Display the updated list\n",
        "print(\"The list after reversing the order is:\", example_list)\n"
      ]
    },
    {
      "cell_type": "markdown",
      "id": "0bd93304-0ae3-44bb-b5c7-0a0f90653376",
      "metadata": {
        "id": "0bd93304-0ae3-44bb-b5c7-0a0f90653376"
      },
      "source": [
        "We start with an original list named original_list containing integers.\n",
        "\n",
        "We use the reverse() method on the example_list to reverse the order of elements in place.\n",
        "\n",
        "Alternatively, we use slicing ([::-1]) to create a new list with the elements in reversed order.\n",
        "\n",
        "We print the result, which is the list after reversing the order or the new reversed list.\n",
        "When you run each of the provided examples, you will get one of the following outputs:\n",
        "\n",
        "Using reverse(): \"The list after reversing the order is: [5, 4, 3, 2, 1]\"\n",
        "Using slicing: \"The reversed list is: [5, 4, 3, 2, 1]\"\n",
        "\n",
        "Both approaches achieve the same result of reversing the order of elements in the list. You can choose the method that best fits your needs."
      ]
    },
    {
      "cell_type": "markdown",
      "id": "901ff900-33d4-4bfc-9beb-548e7f196685",
      "metadata": {
        "id": "901ff900-33d4-4bfc-9beb-548e7f196685"
      },
      "source": [
        "11. Sort a list in ascending order."
      ]
    },
    {
      "cell_type": "code",
      "execution_count": null,
      "id": "ecac03c2-014d-4275-a063-7b4b6e22059a",
      "metadata": {
        "id": "ecac03c2-014d-4275-a063-7b4b6e22059a",
        "outputId": "2b2dbf04-f952-476a-d694-122839522351"
      },
      "outputs": [
        {
          "name": "stdout",
          "output_type": "stream",
          "text": [
            "The list in ascending order is: [1, 2, 3, 4, 5, 6]\n"
          ]
        }
      ],
      "source": [
        "#Original list\n",
        "original_list = [5,3,4,6,2,1]\n",
        "\n",
        "# Use sorting method to sort the list in ascending order\n",
        "original_list.sort()\n",
        "\n",
        "#Print the result\n",
        "print(f\"The list in ascending order is:\", original_list)"
      ]
    },
    {
      "cell_type": "markdown",
      "id": "d432ce55-002f-4613-a184-6c819e2dfbd2",
      "metadata": {
        "id": "d432ce55-002f-4613-a184-6c819e2dfbd2"
      },
      "source": [
        "We start with an original list named original_list containing integers.\n",
        "\n",
        "We use the sort() method on the original_list to sort the elements in ascending order in place.\n",
        "Using the sorted() Function:\n",
        "\n",
        "We print the result, which is the list after sorting in ascending order or the new sorted list.\n",
        "When you run each of the provided examples, you will get one of the following outputs:\n",
        "\n",
        "Using sort(): \"The list sorted in ascending order is: [1, 2, 3, 5, 8]\"\n"
      ]
    },
    {
      "cell_type": "markdown",
      "id": "c25f1c5f-0932-41d7-b20b-14eca3654fd1",
      "metadata": {
        "id": "c25f1c5f-0932-41d7-b20b-14eca3654fd1"
      },
      "source": [
        "12. Sort a list in descending order."
      ]
    },
    {
      "cell_type": "code",
      "execution_count": null,
      "id": "14e46367-f5f5-49d4-a142-28ce1d73424b",
      "metadata": {
        "id": "14e46367-f5f5-49d4-a142-28ce1d73424b",
        "outputId": "d0d9ec15-a61d-4b48-9e93-dff2a1f824f6"
      },
      "outputs": [
        {
          "name": "stdout",
          "output_type": "stream",
          "text": [
            "The list in descending order is: [6, 5, 4, 3, 2, 1]\n"
          ]
        }
      ],
      "source": [
        "#Original list\n",
        "original_list = [6,3,4,5,2,1]\n",
        "\n",
        "#Use sort() method with reverse = True to sort the list in descending order\n",
        "original_list.sort(reverse = True)\n",
        "\n",
        "#Print the result\n",
        "print(f\"The list in descending order is:\",original_list)"
      ]
    },
    {
      "cell_type": "markdown",
      "id": "5ec5e4e0-4304-479d-a06d-a231962a5a08",
      "metadata": {
        "id": "5ec5e4e0-4304-479d-a06d-a231962a5a08"
      },
      "source": [
        "We start with an  list namedoriginal_list containing integers.\n",
        "\n",
        "We use the sort() method on the example_list with the reverse=True argument to sort the elements in descending order in place.\n",
        "\n",
        "We print the result, which is the list after sorting in descending order or the new sorted list in descending order.\n",
        "When you run each of the provided examples, you will get one of the following outputs:\n",
        "\n",
        "Using sort(): \"The list sorted in descending order is: [8, 5, 3, 2, 1]\""
      ]
    },
    {
      "cell_type": "markdown",
      "id": "e069d7fb-a0ef-4076-ba82-b2db36c94883",
      "metadata": {
        "id": "e069d7fb-a0ef-4076-ba82-b2db36c94883"
      },
      "source": [
        "13. Create a list of even numbers from 1 to 20."
      ]
    },
    {
      "cell_type": "code",
      "execution_count": null,
      "id": "398bd2ea-29ae-45f5-84d1-9d068eb593a9",
      "metadata": {
        "id": "398bd2ea-29ae-45f5-84d1-9d068eb593a9",
        "outputId": "9debe51f-785f-4d54-e83b-38fcc24748d8"
      },
      "outputs": [
        {
          "name": "stdout",
          "output_type": "stream",
          "text": [
            "The list of even numbers from 1 to 20 is: [2, 4, 6, 8, 10, 12, 14, 16, 18, 20]\n"
          ]
        }
      ],
      "source": [
        "# Use the range() function to generate even numbers form 2 to 20\n",
        "even_numbers = range(2, 21, 2)\n",
        "\n",
        "# Convert the range object to a list using list comprehension\n",
        "even_numbers_list = [num for num in even_numbers]\n",
        "\n",
        "# Display the list of even numbers\n",
        "print(f\"The list of even numbers from 1 to 20 is:\",even_numbers_list)\n"
      ]
    },
    {
      "cell_type": "markdown",
      "id": "b79df04b-5e1d-44df-bd5c-3af63f11a21c",
      "metadata": {
        "id": "b79df04b-5e1d-44df-bd5c-3af63f11a21c"
      },
      "source": [
        "We use the range(2, 21, 2) function to generate a sequence of even numbers starting from 2 up to (but not including) 21 with a step size of 2.\n",
        "\n",
        "We use list comprehension to convert the range object to a list containing even numbers.\n",
        "\n",
        "We print the result, which is the list of even numbers from 1 to 20."
      ]
    },
    {
      "cell_type": "markdown",
      "id": "25746835-39d9-406e-9b06-ca7b91b84a11",
      "metadata": {
        "id": "25746835-39d9-406e-9b06-ca7b91b84a11"
      },
      "source": [
        "14. Create a list of odd numbers from 1 to 20."
      ]
    },
    {
      "cell_type": "code",
      "execution_count": null,
      "id": "3e5ecf1e-05f5-4dd9-8a19-03bfca22e194",
      "metadata": {
        "id": "3e5ecf1e-05f5-4dd9-8a19-03bfca22e194",
        "outputId": "f5c3b7be-81be-406a-8063-d1faf557d4f0"
      },
      "outputs": [
        {
          "name": "stdout",
          "output_type": "stream",
          "text": [
            "The list of odd numbers from 1 to 20 is: [1, 3, 5, 7, 9, 11, 13, 15, 17, 19]\n"
          ]
        }
      ],
      "source": [
        "# Use the range() function to generate odd numbers from 1 to 20\n",
        "odd_numbers = range(1,21,2)\n",
        "\n",
        "#Convert the range object to a list using list comprehension\n",
        "odd_numbers_list = [num for num in odd_numbers]\n",
        "\n",
        "#Diplsy the listg of even numbers\n",
        "print(f\"The list of odd numbers from 1 to 20 is:\",odd_numbers_list)"
      ]
    },
    {
      "cell_type": "markdown",
      "id": "9f468f90-d2a9-47e9-b0e3-86125177f415",
      "metadata": {
        "id": "9f468f90-d2a9-47e9-b0e3-86125177f415"
      },
      "source": [
        "We use the range(1, 21, 2) function to generate a sequence of odd numbers starting from 1 up to (but not including) 21 with a step size of 2.\n",
        "\n",
        "We use list comprehension to convert the range object to a list containing odd numbers.\n",
        "\n",
        "We print the result, which is the list of odd numbers from 1 to 20."
      ]
    },
    {
      "cell_type": "markdown",
      "id": "bba2ef4f-75b4-4321-be39-ac443216e05f",
      "metadata": {
        "id": "bba2ef4f-75b4-4321-be39-ac443216e05f"
      },
      "source": [
        "15. Find the sum of all elements in a list."
      ]
    },
    {
      "cell_type": "code",
      "execution_count": null,
      "id": "f637b488-e891-4707-8ad8-ec7e8e8da980",
      "metadata": {
        "id": "f637b488-e891-4707-8ad8-ec7e8e8da980",
        "outputId": "52311ccd-96f7-4f29-db84-5eeaa73b2054"
      },
      "outputs": [
        {
          "name": "stdout",
          "output_type": "stream",
          "text": [
            "The sum of all elements in a list is: 32\n"
          ]
        }
      ],
      "source": [
        "#Original list\n",
        "original_list = (4,5,6,8,9)\n",
        "\n",
        "#Use the sum() function to find the sum of all elements in a list.\n",
        "sum_of_elements = sum(original_list)\n",
        "\n",
        "#Print the result\n",
        "print(f\"The sum of all elements in a list is:\",sum_of_elements)"
      ]
    },
    {
      "cell_type": "markdown",
      "id": "2a476f13-7d5d-4ac4-aaf1-b01df23c43f0",
      "metadata": {
        "id": "2a476f13-7d5d-4ac4-aaf1-b01df23c43f0"
      },
      "source": [
        "We start with an original list named original_list containing integers.\n",
        "\n",
        "We use the sum() function on the example_list to find the sum of all elements.\n",
        "\n",
        "We print the result, which is the sum of all elements in the list."
      ]
    },
    {
      "cell_type": "markdown",
      "id": "1647537f-4f22-47f3-85cd-e624eee6021b",
      "metadata": {
        "id": "1647537f-4f22-47f3-85cd-e624eee6021b"
      },
      "source": [
        "16. Find the maximum value in a list."
      ]
    },
    {
      "cell_type": "code",
      "execution_count": null,
      "id": "0eaa21cb-ce29-4c54-9485-6397890a804e",
      "metadata": {
        "id": "0eaa21cb-ce29-4c54-9485-6397890a804e",
        "outputId": "03719036-064b-4d6c-c259-533c291c8544"
      },
      "outputs": [
        {
          "name": "stdout",
          "output_type": "stream",
          "text": [
            "The maximum value in a list is: 9\n"
          ]
        }
      ],
      "source": [
        "# Original list\n",
        "original_list = [3, 7, 1, 9, 4, 5]\n",
        "\n",
        "#Use the max() function to find the maximum value in a list.\n",
        "max_value = max(original_list)\n",
        "\n",
        "# Display the result\n",
        "print(f\"The maximum value in a list is:\",max_value)"
      ]
    },
    {
      "cell_type": "markdown",
      "id": "e456ff18-948f-4948-8e05-1cabfc196609",
      "metadata": {
        "id": "e456ff18-948f-4948-8e05-1cabfc196609"
      },
      "source": [
        "We start with an original list named original_list containing integers.\n",
        "\n",
        "We use the max() function on the example_list to find the maximum value.\n",
        "\n",
        "We print the result, which is the maximum value in the list."
      ]
    },
    {
      "cell_type": "markdown",
      "id": "27f311b3-5b98-4aaf-bb17-edab92733eed",
      "metadata": {
        "id": "27f311b3-5b98-4aaf-bb17-edab92733eed"
      },
      "source": [
        "17. Find the minimum value in a list."
      ]
    },
    {
      "cell_type": "code",
      "execution_count": null,
      "id": "562bb8c8-7600-4fbd-802c-5b922222dfc1",
      "metadata": {
        "id": "562bb8c8-7600-4fbd-802c-5b922222dfc1",
        "outputId": "6d89459d-f212-429c-a27c-b258da127bfb"
      },
      "outputs": [
        {
          "name": "stdout",
          "output_type": "stream",
          "text": [
            "The minimum value in a list is: 1\n"
          ]
        }
      ],
      "source": [
        "#Original list\n",
        "original_list = [3,7,1,9,4,5]\n",
        "\n",
        "# Use the min() function to find the minimum value in a list.\n",
        "min_value = min(original_list)\n",
        "\n",
        "#Diplay the result\n",
        "print(f\"The minimum value in a list is:\",min_value)"
      ]
    },
    {
      "cell_type": "markdown",
      "id": "6591d265-3e5b-4a3a-9b3b-bf05e9074a37",
      "metadata": {
        "id": "6591d265-3e5b-4a3a-9b3b-bf05e9074a37"
      },
      "source": [
        "We start with an original list named original_list containing integers.\n",
        "\n",
        "We use the max() function on the original_list to find the maximum value.\n",
        "\n",
        "We print the result, which is the maximum value in the list."
      ]
    },
    {
      "cell_type": "markdown",
      "id": "717263a0-93cb-4dc4-9ad2-843234822766",
      "metadata": {
        "id": "717263a0-93cb-4dc4-9ad2-843234822766"
      },
      "source": [
        "18. Create a list of squares of numbers from 1 to 10."
      ]
    },
    {
      "cell_type": "code",
      "execution_count": null,
      "id": "faa216c4-9e78-4b97-9e80-e1e9bc1148d6",
      "metadata": {
        "id": "faa216c4-9e78-4b97-9e80-e1e9bc1148d6",
        "outputId": "df9b281d-d768-46be-d2a3-ed5db6ea59fc"
      },
      "outputs": [
        {
          "name": "stdout",
          "output_type": "stream",
          "text": [
            "The list of squares from 1 to 10 is: [1, 4, 9, 16, 25, 36, 49, 64, 81, 100]\n"
          ]
        }
      ],
      "source": [
        "# Step 1: Use list comprehension to create a list of squares\n",
        "squares_list = [num**2 for num in range(1, 11)]\n",
        "\n",
        "# Step 2: Display the list of squares\n",
        "print(\"The list of squares from 1 to 10 is:\", squares_list)\n"
      ]
    },
    {
      "cell_type": "markdown",
      "id": "539dcbe1-4366-4b9c-9537-e336886e4f82",
      "metadata": {
        "id": "539dcbe1-4366-4b9c-9537-e336886e4f82"
      },
      "source": [
        "We use list comprehension to create a list (squares_list) of squares for each number in the range from 1 to 10.\n",
        "\n",
        "We print the result, which is the list of squares from 1 to 10."
      ]
    },
    {
      "cell_type": "markdown",
      "id": "249a704b-11de-4d36-98a7-2bc31f1521b0",
      "metadata": {
        "id": "249a704b-11de-4d36-98a7-2bc31f1521b0"
      },
      "source": [
        "19. Create a list of random numbers."
      ]
    },
    {
      "cell_type": "code",
      "execution_count": null,
      "id": "0e56a175-abe4-4590-9608-10e57eebbe94",
      "metadata": {
        "id": "0e56a175-abe4-4590-9608-10e57eebbe94",
        "outputId": "34bd9e6a-a6f2-400f-db92-86692a2aeae8"
      },
      "outputs": [
        {
          "name": "stdout",
          "output_type": "stream",
          "text": [
            "The list of random numbers is: [14, 40, 82, 55, 33]\n"
          ]
        }
      ],
      "source": [
        "import random\n",
        "\n",
        "# Define the size of the list and the range of random numbers\n",
        "list_size =5\n",
        "min_value = 1\n",
        "max_value = 100\n",
        "\n",
        "# Use list comprehension to create a list of random numbers\n",
        "random_list_numbers = [random.randint(min_value, max_value) for _ in range (list_size)]\n",
        "\n",
        "# Display the list of random numbers\n",
        "print(f\"The list of random numbers is:\",random_list_numbers)"
      ]
    },
    {
      "cell_type": "markdown",
      "id": "01f40f62-ec95-4775-8a9f-d6f07f008587",
      "metadata": {
        "id": "01f40f62-ec95-4775-8a9f-d6f07f008587"
      },
      "source": [
        "We import the random module to use its functions for generating random numbers.\n",
        "\n",
        "We define the size of the list (list_size) and the range of random numbers (min_value to max_value).\n",
        "\n",
        "We use list comprehension to create a list (random_numbers_list) of random numbers within the specified range.\n",
        "\n",
        "We print the result, which is the list of random numbers."
      ]
    },
    {
      "cell_type": "markdown",
      "id": "8e894613-9f23-4ea7-8ea2-98ca840a8e17",
      "metadata": {
        "id": "8e894613-9f23-4ea7-8ea2-98ca840a8e17"
      },
      "source": [
        "20. Remove duplicates from a list."
      ]
    },
    {
      "cell_type": "code",
      "execution_count": null,
      "id": "9e5520ef-669f-48f7-876c-8b3ce61715e9",
      "metadata": {
        "id": "9e5520ef-669f-48f7-876c-8b3ce61715e9",
        "outputId": "44318b39-f2ef-42f6-f061-8dd0fb8e3d6b"
      },
      "outputs": [
        {
          "name": "stdout",
          "output_type": "stream",
          "text": [
            "The list without duplicate is: [1, 2, 3, 4, 5, 6]\n"
          ]
        }
      ],
      "source": [
        "# Example list with duplicates\n",
        "original_list = [1,2,2,3,4,4,5,6,6]\n",
        "\n",
        "# Convert the list to a set to remove duplicates\n",
        "unique_set = set(original_list)\n",
        "\n",
        "#Convert the set back to a list\n",
        "unique_list = list(unique_set)\n",
        "\n",
        "#Print the list without duplicate\n",
        "print(f\"The list without duplicate is:\",unique_list)"
      ]
    },
    {
      "cell_type": "markdown",
      "id": "5971fe50-2655-45f2-9a55-72f0fcf76716",
      "metadata": {
        "id": "5971fe50-2655-45f2-9a55-72f0fcf76716"
      },
      "source": [
        "We start with an example list named original_list containing duplicate elements.\n",
        "\n",
        "We convert the list to a set (unique_set) to automatically remove duplicates since sets only store unique elements.\n",
        "We then convert the set back to a list (unique_list).\n",
        "\n",
        "We print the result, which is the list without duplicates."
      ]
    },
    {
      "cell_type": "markdown",
      "id": "18ade66e-c1ae-4c31-b85b-bbba45a09819",
      "metadata": {
        "id": "18ade66e-c1ae-4c31-b85b-bbba45a09819"
      },
      "source": [
        "21. Find the common elements between two lists."
      ]
    },
    {
      "cell_type": "code",
      "execution_count": null,
      "id": "0210247b-f2bf-4eca-9e36-749a00f251cb",
      "metadata": {
        "id": "0210247b-f2bf-4eca-9e36-749a00f251cb",
        "outputId": "d5d8e68c-bdb5-4f94-a828-ac1b3bbfa675"
      },
      "outputs": [
        {
          "name": "stdout",
          "output_type": "stream",
          "text": [
            "The common elements between two lists is: [3, 4, 5]\n"
          ]
        }
      ],
      "source": [
        "#Example list\n",
        "list1 = [1, 2, 3, 4, 5]\n",
        "list2 = [3, 4, 5, 6, 7]\n",
        "\n",
        "# Convert lists to sets and find the intersection\n",
        "common_element_set = set(list1).intersection(list2)\n",
        "\n",
        "# Convert the set back to a list\n",
        "common_element_list = list(common_element_set)\n",
        "\n",
        "#Print the result\n",
        "print(f\"The common elements between two lists is:\",common_element_list)"
      ]
    },
    {
      "cell_type": "markdown",
      "id": "1fbcd14e-dd5c-449b-ae99-2d19ccb0282e",
      "metadata": {
        "id": "1fbcd14e-dd5c-449b-ae99-2d19ccb0282e"
      },
      "source": [
        "We start with two example lists, list1 and list2, containing integers.\n",
        "Using Set Intersection:\n",
        "\n",
        "We convert both lists to sets and use the intersection method to find the common elements.\n",
        "We then convert the resulting set back to a list.\n",
        "\n",
        "We print the result, which is the list of common elements between the two lists."
      ]
    },
    {
      "cell_type": "markdown",
      "id": "6bed79bd-a89f-4773-a7f9-f0003832bde0",
      "metadata": {
        "id": "6bed79bd-a89f-4773-a7f9-f0003832bde0"
      },
      "source": [
        "22. Find the difference between two lists."
      ]
    },
    {
      "cell_type": "code",
      "execution_count": null,
      "id": "d0cce644-cb7e-4674-9415-1c1698c5fd75",
      "metadata": {
        "id": "d0cce644-cb7e-4674-9415-1c1698c5fd75",
        "outputId": "89cb1865-dcf9-473c-9f92-97fdde40f5dd"
      },
      "outputs": [
        {
          "name": "stdout",
          "output_type": "stream",
          "text": [
            "The difference between two lists is: [1, 2]\n"
          ]
        }
      ],
      "source": [
        "# Example lists\n",
        "list1 = [1, 2, 3, 4, 5]\n",
        "list2 = [3, 4, 5, 6, 7]\n",
        "\n",
        "# Step 1: Convert lists to sets and find the difference\n",
        "difference_set = set(list1).difference(list2)\n",
        "\n",
        "# Convert the set back to a list\n",
        "difference_list = list(difference_set)\n",
        "\n",
        "#Print the result\n",
        "print(f\"The difference between two lists is:\", difference_list)"
      ]
    },
    {
      "cell_type": "markdown",
      "id": "9b83beb7-88de-4951-99ab-3b69b1e05015",
      "metadata": {
        "id": "9b83beb7-88de-4951-99ab-3b69b1e05015"
      },
      "source": [
        "We start with two example lists, list1 and list2, containing integers.\n",
        "Using Set Difference:\n",
        "\n",
        "We convert both lists to sets and use the difference method to find the elements that are unique to list1.\n",
        "We then convert the resulting set back to a list.\n",
        "\n",
        "We print the result, which is the list of elements that are unique to list1."
      ]
    },
    {
      "cell_type": "markdown",
      "id": "829bbed7-91b1-403f-80ec-1fa0cf9a97f9",
      "metadata": {
        "id": "829bbed7-91b1-403f-80ec-1fa0cf9a97f9"
      },
      "source": [
        "23. Merge two lists."
      ]
    },
    {
      "cell_type": "code",
      "execution_count": null,
      "id": "b74a7caa-9c67-4168-81f3-8106f27f82a0",
      "metadata": {
        "id": "b74a7caa-9c67-4168-81f3-8106f27f82a0",
        "outputId": "e57c594a-cd86-4719-cef6-f987e8c67ea9"
      },
      "outputs": [
        {
          "name": "stdout",
          "output_type": "stream",
          "text": [
            "The merge list is: [1, 2, 3, 4, 5, 6]\n"
          ]
        }
      ],
      "source": [
        "# Example lists\n",
        "list1 = [1, 2, 3]\n",
        "list2 = [4, 5, 6]\n",
        "\n",
        "# Use the extend() method to merge the lists\n",
        "list1.extend(list2)\n",
        "\n",
        "#Display the merge list\n",
        "print(f\"The merge list is:\", list1)"
      ]
    },
    {
      "cell_type": "markdown",
      "id": "b1ec73ea-56ab-4799-b31e-3d3436c08359",
      "metadata": {
        "id": "b1ec73ea-56ab-4799-b31e-3d3436c08359"
      },
      "source": [
        "We start with two example lists, list1 and list2, containing integers.\n",
        "\n",
        "We use the extend() method on list1 to add the elements of list2 to it.\n",
        "\n",
        "We print the result, which is the merged list."
      ]
    },
    {
      "cell_type": "markdown",
      "id": "cdbc714d-4a17-4fd2-804e-5e8eb049cb4c",
      "metadata": {
        "id": "cdbc714d-4a17-4fd2-804e-5e8eb049cb4c"
      },
      "source": [
        "24. Multiply all elements in a list by 2."
      ]
    },
    {
      "cell_type": "code",
      "execution_count": null,
      "id": "2b3daac1-6f49-4f1b-9539-6828fc5fb578",
      "metadata": {
        "id": "2b3daac1-6f49-4f1b-9539-6828fc5fb578",
        "outputId": "ac5ef2be-ed4b-4dde-d0b3-52755b75103f"
      },
      "outputs": [
        {
          "name": "stdout",
          "output_type": "stream",
          "text": [
            "The multilpy all elements in a list by 2 is: [2, 4, 6, 8, 10, 12]\n"
          ]
        }
      ],
      "source": [
        "#Example list\n",
        "original_list = [1,2,3,4,5,6]\n",
        "\n",
        "# Use list comprehension to multiply each element by 2\n",
        "doubled_list = [item * 2 for item in original_list]\n",
        "\n",
        "#Display the multiplied list\n",
        "print(f\"The multilpy all elements in a list by 2 is:\",doubled_list)"
      ]
    },
    {
      "cell_type": "markdown",
      "id": "7de9b23b-95d8-437f-b2e5-5abcd22dbc35",
      "metadata": {
        "id": "7de9b23b-95d8-437f-b2e5-5abcd22dbc35"
      },
      "source": [
        "We start with an example list named original_list containing integers.\n",
        "\n",
        "We use list comprehension to iterate through original_list and multiply each element by 2, creating a new list (doubled_list).\n",
        "\n",
        "We print the result, which is the list after multiplying each element by 2."
      ]
    },
    {
      "cell_type": "markdown",
      "id": "f0352aee-9672-40e3-a1e8-b9870aaf5773",
      "metadata": {
        "id": "f0352aee-9672-40e3-a1e8-b9870aaf5773"
      },
      "source": [
        "25. Filter out all even numbers from a list."
      ]
    },
    {
      "cell_type": "code",
      "execution_count": null,
      "id": "04885031-c521-4691-b943-abd716953180",
      "metadata": {
        "id": "04885031-c521-4691-b943-abd716953180",
        "outputId": "48e3aba1-eff0-4393-c054-8f939e528e55"
      },
      "outputs": [
        {
          "name": "stdout",
          "output_type": "stream",
          "text": [
            "The list after filtering out even numbers is: [1, 3, 5, 7, 9]\n"
          ]
        }
      ],
      "source": [
        "#Original list\n",
        "original_list = [1,2,3,4,5,6,7,8,9,10]\n",
        "\n",
        "# Use list comprehension to filter out even numbers\n",
        "filtered_list = [item for item in original_list if item % 2 != 0]\n",
        "\n",
        "# Diplay the filtered list\n",
        "print(f\"The list after filtering out even numbers is:\", filtered_list)"
      ]
    },
    {
      "cell_type": "markdown",
      "id": "25ea0a4f-29bc-48c9-b4db-bd7efd4bf506",
      "metadata": {
        "id": "25ea0a4f-29bc-48c9-b4db-bd7efd4bf506"
      },
      "source": [
        "We start with an example list named original_list containing integers.\n",
        "\n",
        "We use list comprehension to iterate through original_list and include only the elements that are not even (filtered by the condition item % 2 != 0).\n",
        "\n",
        "We print the result, which is the list after filtering out even numbers."
      ]
    },
    {
      "cell_type": "markdown",
      "id": "cfc829c9-57ce-4f48-b237-5bfca0e01d9b",
      "metadata": {
        "id": "cfc829c9-57ce-4f48-b237-5bfca0e01d9b"
      },
      "source": [
        "26. Convert a list of strings to a list of integers."
      ]
    },
    {
      "cell_type": "code",
      "execution_count": null,
      "id": "649081a1-7e6b-422a-ae66-1dd6d1fb6da2",
      "metadata": {
        "id": "649081a1-7e6b-422a-ae66-1dd6d1fb6da2",
        "outputId": "b60eea9d-d243-46c7-ca2c-6226c7aa3119"
      },
      "outputs": [
        {
          "name": "stdout",
          "output_type": "stream",
          "text": [
            "The list of integers is: [1, 2, 3, 4, 5, 6]\n"
          ]
        }
      ],
      "source": [
        "# Example list of strings\n",
        "string_list = ['1','2','3','4','5','6']\n",
        "\n",
        "#Use list comprehension to convert strings to integers\n",
        "integer_list = [int(item) for item in string_list]\n",
        "\n",
        "#Display the list of integers\n",
        "print(f\"The list of integers is:\", integer_list)"
      ]
    },
    {
      "cell_type": "markdown",
      "id": "650eb684-b443-4a27-b1a3-ca0b7d224b67",
      "metadata": {
        "id": "650eb684-b443-4a27-b1a3-ca0b7d224b67"
      },
      "source": [
        "We start with an example list named string_list containing strings representing integers.\n",
        "Using List Comprehension:\n",
        "\n",
        "We use list comprehension to iterate through string_list and convert each string to an integer using the int() function.\n",
        "Display the Result:\n",
        "\n",
        "We print the result, which is the list of integers."
      ]
    },
    {
      "cell_type": "markdown",
      "id": "794c6205-506c-49ab-98ff-ca2bdfb2eb1f",
      "metadata": {
        "id": "794c6205-506c-49ab-98ff-ca2bdfb2eb1f"
      },
      "source": [
        "27. Convert a list of integers to a list of strings."
      ]
    },
    {
      "cell_type": "code",
      "execution_count": null,
      "id": "103e71ba-63ee-481a-bb03-d33b3a5ca402",
      "metadata": {
        "id": "103e71ba-63ee-481a-bb03-d33b3a5ca402",
        "outputId": "40bc3c47-0854-4650-dd41-f0f6f49f51c8"
      },
      "outputs": [
        {
          "name": "stdout",
          "output_type": "stream",
          "text": [
            "The list of strings is: ['1', '2', '3', '4', '5', '6']\n"
          ]
        }
      ],
      "source": [
        "#Example list of intergers\n",
        "integer_list = [1,2,3,4,5,6]\n",
        "\n",
        "#Use list comprehension to convert intergers to strings\n",
        "string_list = [str(item) for item in integer_list]\n",
        "\n",
        "#Display the list of string\n",
        "print(f\"The list of strings is:\",string_list)"
      ]
    },
    {
      "cell_type": "markdown",
      "id": "ccead919-a88d-41eb-8fbb-ed2e1b9fb43d",
      "metadata": {
        "id": "ccead919-a88d-41eb-8fbb-ed2e1b9fb43d"
      },
      "source": [
        "We start with an example list named integer_list containing integers.\n",
        "\n",
        "We use list comprehension to iterate through integer_list and convert each integer to a string using the str() function.\n",
        "\n",
        "We print the result, which is the list of strings."
      ]
    },
    {
      "cell_type": "markdown",
      "id": "d3f6b2b3-7a5a-48f5-9171-ccc345b75369",
      "metadata": {
        "id": "d3f6b2b3-7a5a-48f5-9171-ccc345b75369"
      },
      "source": [
        "28. Flatten a nested list."
      ]
    },
    {
      "cell_type": "code",
      "execution_count": null,
      "id": "db8826ef-ae0c-49f8-aca3-3a9c721fa38a",
      "metadata": {
        "id": "db8826ef-ae0c-49f8-aca3-3a9c721fa38a",
        "outputId": "2efc2d39-6848-4016-910e-9423d04bb74f"
      },
      "outputs": [
        {
          "name": "stdout",
          "output_type": "stream",
          "text": [
            "The flattened list is: [1, 2, 3, 4, 5, 6, 7, 8, 9]\n"
          ]
        }
      ],
      "source": [
        "#Example nested list\n",
        "nested_list = [[1, 2, 3], [4, 5, 6], [7, 8, 9]]\n",
        "\n",
        "#Use nested list comprehension to flatten the list\n",
        "flattended_list = [item for sublist in nested_list for item in sublist]\n",
        "\n",
        "# Diplay the flattended list\n",
        "print(f\"The flattened list is:\",flattended_list)"
      ]
    },
    {
      "cell_type": "markdown",
      "id": "76200f18-a414-4a0b-911c-92f2eb336065",
      "metadata": {
        "id": "76200f18-a414-4a0b-911c-92f2eb336065"
      },
      "source": [
        "We start with an example nested list named nested_list containing sublists.\n",
        "Using Nested List Comprehension:\n",
        "\n",
        "We use nested list comprehension to iterate through both the outer list and each sublist, effectively flattening the structure.\n",
        "Display the Result:\n",
        "\n",
        "We print the result, which is the flattened list."
      ]
    },
    {
      "cell_type": "markdown",
      "id": "c7332952-d971-40a7-845a-9a7c3614df4f",
      "metadata": {
        "id": "c7332952-d971-40a7-845a-9a7c3614df4f"
      },
      "source": [
        "29. Create a list of the first 10 Fibonacci numbers."
      ]
    },
    {
      "cell_type": "code",
      "execution_count": null,
      "id": "0e093b5b-64a0-4f7d-acbc-7cb112e5d65e",
      "metadata": {
        "id": "0e093b5b-64a0-4f7d-acbc-7cb112e5d65e",
        "outputId": "0e7f32ba-9f0e-4fe1-a9e3-d7e40a1e8856"
      },
      "outputs": [
        {
          "name": "stdout",
          "output_type": "stream",
          "text": [
            "The first 10 Fibonacci numbers are: [0, 1, 1, 2, 3, 5, 8, 13, 21, 34]\n"
          ]
        }
      ],
      "source": [
        "# Step 1: Initialize variables for the first two Fibonacci numbers\n",
        "fibonacci_numbers = [0, 1]\n",
        "\n",
        "# Step 2: Use a loop to generate the next 8 Fibonacci numbers\n",
        "for _ in range(8):\n",
        "    next_number = fibonacci_numbers[-1] + fibonacci_numbers[-2]\n",
        "    fibonacci_numbers.append(next_number)\n",
        "\n",
        "# Step 3: Display the list of the first 10 Fibonacci numbers\n",
        "print(\"The first 10 Fibonacci numbers are:\", fibonacci_numbers)\n"
      ]
    },
    {
      "cell_type": "markdown",
      "id": "5a572e9e-1f4f-4622-b3fb-22a7733afe29",
      "metadata": {
        "id": "5a572e9e-1f4f-4622-b3fb-22a7733afe29"
      },
      "source": [
        "We start with the first two Fibonacci numbers, which are 0 and 1.\n",
        "\n",
        "We use a loop to generate the next 8 Fibonacci numbers. The loop calculates each Fibonacci number by adding the two preceding numbers and appends it to the list.\n",
        "\n",
        "We print the result, which is the list of the first 10 Fibonacci numbers."
      ]
    },
    {
      "cell_type": "markdown",
      "id": "349bff80-23d1-4395-b366-ccea82596ec1",
      "metadata": {
        "id": "349bff80-23d1-4395-b366-ccea82596ec1"
      },
      "source": [
        "30. Check if a list is sorted."
      ]
    },
    {
      "cell_type": "code",
      "execution_count": null,
      "id": "1e003c4f-9e18-46b3-875b-2d6826ad798d",
      "metadata": {
        "id": "1e003c4f-9e18-46b3-875b-2d6826ad798d",
        "outputId": "51203aaa-8649-4670-e9d4-e073744fcd9f"
      },
      "outputs": [
        {
          "name": "stdout",
          "output_type": "stream",
          "text": [
            "The list is sorted.\n"
          ]
        }
      ],
      "source": [
        "# Example list\n",
        "sorted_list = [1, 2, 3, 4, 5]\n",
        "\n",
        "# Step 1: Use a loop to check if the list is sorted\n",
        "is_sorted = all(sorted_list[i] <= sorted_list[i + 1] for i in range(len(sorted_list) - 1))\n",
        "\n",
        "# Step 2: Display the result\n",
        "if is_sorted:\n",
        "    print(\"The list is sorted.\")\n",
        "else:\n",
        "    print(\"The list is not sorted.\")\n",
        "\n",
        ""
      ]
    },
    {
      "cell_type": "markdown",
      "id": "b59360c7-7e58-4c9b-990e-d4c5c8aca02e",
      "metadata": {
        "id": "b59360c7-7e58-4c9b-990e-d4c5c8aca02e"
      },
      "source": [
        "We start with an example list named sorted_list containing integers.\n",
        "\n",
        "We use a loop to check if each element in the list is less than or equal to its successor. The all() function ensures that the condition holds for all pairs of adjacent elements.\n",
        "\n",
        "We print the result, indicating whether the list is sorted or not."
      ]
    },
    {
      "cell_type": "markdown",
      "id": "e9dec2bb-4c68-4a6e-87ac-3acccaa3c5b7",
      "metadata": {
        "id": "e9dec2bb-4c68-4a6e-87ac-3acccaa3c5b7"
      },
      "source": [
        "31. Rotate a list to the left by `n` positions."
      ]
    },
    {
      "cell_type": "code",
      "execution_count": null,
      "id": "6a3f31f0-ea88-46d4-a4f9-1255b1ac5a2b",
      "metadata": {
        "id": "6a3f31f0-ea88-46d4-a4f9-1255b1ac5a2b",
        "outputId": "39d390ee-ee42-4031-c694-83096c076a86"
      },
      "outputs": [
        {
          "name": "stdout",
          "output_type": "stream",
          "text": [
            "The list after rotate to the left by n position: [5, 1, 2, 3, 4]\n"
          ]
        }
      ],
      "source": [
        "#Original list\n",
        "original_list = [1,2,3,4,5]\n",
        "\n",
        "# Number of positions to rotate\n",
        "n = 4\n",
        "\n",
        "#Use slicing to rotate the list to the left by n positions\n",
        "rotated_list = original_list [n:] + original_list [:n]\n",
        "\n",
        "#Display the rotated list\n",
        "print(f\"The list after rotate to the left by n position:\",rotated_list)"
      ]
    },
    {
      "cell_type": "markdown",
      "id": "65ac1be3-f93d-40eb-b88d-8dfd5b0a8c00",
      "metadata": {
        "id": "65ac1be3-f93d-40eb-b88d-8dfd5b0a8c00"
      },
      "source": [
        "We start with an original list named original_list containing integers.\n",
        "\n",
        "We define the number of positions to rotate the list to the left (in this case, n = 4).\n",
        "\n",
        "We use slicing to create a new list (rotated_list) by combining the sublist starting from position n to the end and the sublist from the beginning up to position n.\n",
        "\n",
        "We print the result, which is the list after rotating it to the left by n positions."
      ]
    },
    {
      "cell_type": "markdown",
      "id": "0dc064ec-693e-46ab-99c4-ca797a305ae8",
      "metadata": {
        "id": "0dc064ec-693e-46ab-99c4-ca797a305ae8"
      },
      "source": [
        "32. Rotate a list to the right by `n` positions."
      ]
    },
    {
      "cell_type": "code",
      "execution_count": null,
      "id": "6f40e8a1-f340-447c-96a5-97fb3bb58ff6",
      "metadata": {
        "id": "6f40e8a1-f340-447c-96a5-97fb3bb58ff6",
        "outputId": "bdb21911-8cbc-483b-b0e5-d463b17ae0d1"
      },
      "outputs": [
        {
          "name": "stdout",
          "output_type": "stream",
          "text": [
            "The list after rotate to the right by n position: [2, 3, 4, 5, 1]\n"
          ]
        }
      ],
      "source": [
        "# Original list\n",
        "original_list = [1,2,3,4,5]\n",
        "\n",
        "#Number of position to rotate\n",
        "n = 4\n",
        "\n",
        "#Use slicing to rotate the list to the right by n position\n",
        "rotated_list = original_list[-n:] + original_list [:-n]\n",
        "\n",
        "#Display the rotated list\n",
        "print(f\"The list after rotate to the right by n position:\", rotated_list)"
      ]
    },
    {
      "cell_type": "markdown",
      "id": "3c913df6-08e6-49bd-a34c-c4816c87fdc6",
      "metadata": {
        "id": "3c913df6-08e6-49bd-a34c-c4816c87fdc6"
      },
      "source": [
        "33. Create a list of prime numbers up to 50."
      ]
    },
    {
      "cell_type": "code",
      "execution_count": null,
      "id": "258f7938-0123-4cc5-849d-48e83b1fcca2",
      "metadata": {
        "id": "258f7938-0123-4cc5-849d-48e83b1fcca2",
        "outputId": "1fac950a-e7a5-4692-8535-3a771d13634b"
      },
      "outputs": [
        {
          "name": "stdout",
          "output_type": "stream",
          "text": [
            "The list of prime numbers up to 50 is: [5, 7, 9, 11, 13, 15, 17, 19, 21, 23, 25, 27, 29, 31, 33, 35, 37, 39, 41, 43, 45, 47, 49]\n"
          ]
        }
      ],
      "source": [
        "#Define a function to check for primality\n",
        "def is_prime(num):\n",
        "    if num < 2:\n",
        "        return False\n",
        "    for i in range(2, int(num**0.5) + 1):\n",
        "        if num % i == 0:\n",
        "            return False\n",
        "        return True\n",
        "\n",
        "#Use a loop to generate a list of prime numbers up to 50\n",
        "prime_numbers = [num for num in range(2,51) if is_prime(num)]\n",
        "\n",
        "#Display the list of prime numbers\n",
        "print(f\"The list of prime numbers up to 50 is:\", prime_numbers)"
      ]
    },
    {
      "cell_type": "markdown",
      "id": "d80db9bf-8c81-4b89-9fc3-6ebb0ac81a1a",
      "metadata": {
        "id": "d80db9bf-8c81-4b89-9fc3-6ebb0ac81a1a"
      },
      "source": [
        "We define a function named is_prime to check if a given number is prime. This function uses a loop to check for divisibility by numbers up to the square root of the given number.\n",
        "\n",
        "We use a list comprehension to generate a list (prime_numbers) of prime numbers by iterating through the numbers from 2 to 50 and selecting only the prime ones.\n",
        "\n",
        "We print the result, which is the list of prime numbers up to 50."
      ]
    },
    {
      "cell_type": "markdown",
      "id": "2699f547-ae88-4874-9e49-0f83c376dc59",
      "metadata": {
        "id": "2699f547-ae88-4874-9e49-0f83c376dc59"
      },
      "source": [
        "34. Split a list into chunks of size `n`."
      ]
    },
    {
      "cell_type": "code",
      "execution_count": null,
      "id": "43e9cfc2-01c0-45a9-a8a5-fbb0a29df8bb",
      "metadata": {
        "id": "43e9cfc2-01c0-45a9-a8a5-fbb0a29df8bb",
        "outputId": "fe73daf2-96d9-4cfd-e2b9-1756e00a3b38"
      },
      "outputs": [
        {
          "name": "stdout",
          "output_type": "stream",
          "text": [
            "The list into chunks of size n is: [[1, 2, 3], [4, 5, 6], [7, 8, 9], [10]]\n"
          ]
        }
      ],
      "source": [
        "# Example list\n",
        "original_list = [1,2,3,4,5,6,7,8,9,10]\n",
        "\n",
        "#Size of each chunk\n",
        "n = 3\n",
        "\n",
        "# Use a loop to split the list into chunks\n",
        "chunked_list = [original_list [i:i + n] for i in range (0, len(original_list), n)]\n",
        "\n",
        "# Display the list of chunks\n",
        "print(f\"The list into chunks of size n is:\", chunked_list)\n",
        "\n",
        ""
      ]
    },
    {
      "cell_type": "markdown",
      "id": "ad75fdbf-54d7-4b35-a56f-6a6c4b513eb1",
      "metadata": {
        "id": "ad75fdbf-54d7-4b35-a56f-6a6c4b513eb1"
      },
      "source": [
        "35. Find the second largest number in a list."
      ]
    },
    {
      "cell_type": "code",
      "execution_count": null,
      "id": "d0f26187-1c3d-41a9-bc2e-49fc864b8f81",
      "metadata": {
        "id": "d0f26187-1c3d-41a9-bc2e-49fc864b8f81",
        "outputId": "53bc3f73-9d6b-4935-fd33-297f96e0e8cf"
      },
      "outputs": [
        {
          "name": "stdout",
          "output_type": "stream",
          "text": [
            "The second-largest number is: 15\n"
          ]
        }
      ],
      "source": [
        "# Example list\n",
        "number_list = [10, 5, 8, 20, 15]\n",
        "\n",
        "#Use list comprehension to find unique numbers in the list\n",
        "unique_numbers = list(set(number_list))\n",
        "\n",
        "#Use the max() function to find the second-largest number\n",
        "second_largest = max(unique_numbers) if len(unique_numbers) < 2 else max(num for num in unique_numbers if num != max(unique_numbers))\n",
        "\n",
        "# Display the second-largest number\n",
        "print(\"The second-largest number is:\", second_largest)"
      ]
    },
    {
      "cell_type": "markdown",
      "id": "af084e96-bab8-4bc6-a765-854760cc74ba",
      "metadata": {
        "id": "af084e96-bab8-4bc6-a765-854760cc74ba"
      },
      "source": [
        "We start with an example list named number_list containing integers.\n",
        "\n",
        "We use list comprehension to create a list (unique_numbers) containing unique elements from the original list. We convert the list to a set to remove duplicates and then convert it back to a list.\n",
        "\n",
        "We use the max() function to find the second-largest number. If there are fewer than two unique numbers, it means that the list has only one distinct element, so we use the maximum value as the second-largest. Otherwise, we find the maximum value excluding the largest value.\n",
        "\n",
        "We print the result, which is the second-largest number."
      ]
    },
    {
      "cell_type": "markdown",
      "id": "68e32b78-1aaa-466b-a47d-d89a27d8c8e8",
      "metadata": {
        "id": "68e32b78-1aaa-466b-a47d-d89a27d8c8e8"
      },
      "source": [
        "36. Replace every element in a list with its square."
      ]
    },
    {
      "cell_type": "code",
      "execution_count": null,
      "id": "92c31518-3ce3-465e-819e-7da5c3526389",
      "metadata": {
        "id": "92c31518-3ce3-465e-819e-7da5c3526389",
        "outputId": "95177b4b-c707-46c6-d39b-012814c7b811"
      },
      "outputs": [
        {
          "name": "stdout",
          "output_type": "stream",
          "text": [
            "The list with squared list is: [2025, 3136, 6084, 9604, 144]\n"
          ]
        }
      ],
      "source": [
        "# Example list\n",
        "original_list = [45,56,78,98,12]\n",
        "\n",
        "#Use list comprehension to square each element\n",
        "squared_list = [item ** 2 for item in original_list]\n",
        "\n",
        "#Display the list with squared elements\n",
        "print(f\"The list with squared list is:\",squared_list)"
      ]
    },
    {
      "cell_type": "markdown",
      "id": "206fb87c-4d5e-4233-8433-410ce0bce6d7",
      "metadata": {
        "id": "206fb87c-4d5e-4233-8433-410ce0bce6d7"
      },
      "source": [
        "We start with an example list named original_list containing integers.\n",
        "\n",
        "We use list comprehension to iterate through original_list and replace each element with its square (item ** 2).\n",
        "\n",
        "We print the result, which is the list with squared elements."
      ]
    },
    {
      "cell_type": "markdown",
      "id": "a390c68e-1148-4cc1-b41f-7aebe12e762d",
      "metadata": {
        "id": "a390c68e-1148-4cc1-b41f-7aebe12e762d"
      },
      "source": [
        "37. Convert a list to a dictionary where list elements become keys and their\n",
        "indices become values."
      ]
    },
    {
      "cell_type": "code",
      "execution_count": null,
      "id": "44b5ce32-4b9b-44f4-a5ac-7fceeb89b916",
      "metadata": {
        "id": "44b5ce32-4b9b-44f4-a5ac-7fceeb89b916",
        "outputId": "8d71d0bb-4a86-40fc-d3ee-3ae88afc065a"
      },
      "outputs": [
        {
          "name": "stdout",
          "output_type": "stream",
          "text": [
            "The dictionary with list elements as keys and indices as values is: {'apple': 0, 'banana': 1, 'orange': 2, 'grape': 3}\n"
          ]
        }
      ],
      "source": [
        "# Oiginal list\n",
        "original_list = ['apple', 'banana', 'orange', 'grape']\n",
        "\n",
        "#Use dictionary comprehension with enumerate()\n",
        "result_dict = { value : index for index, value in enumerate(original_list)}\n",
        "\n",
        "# Display the resulting dictionary\n",
        "print(\"The dictionary with list elements as keys and indices as values is:\", result_dict)"
      ]
    },
    {
      "cell_type": "markdown",
      "id": "a23041af-8f81-483e-a85e-1e299602fbe6",
      "metadata": {
        "id": "a23041af-8f81-483e-a85e-1e299602fbe6"
      },
      "source": [
        "We start with an example list named original_list containing strings.\n",
        "\n",
        "We use dictionary comprehension with enumerate(original_list) to iterate through the elements of the list along with their indices. Each element becomes a key, and its index becomes the corresponding value in the dictionary.\n",
        "\n",
        "We print the result, which is the dictionary with list elements as keys and indices as values."
      ]
    },
    {
      "cell_type": "markdown",
      "id": "9c19b01f-26fc-4fbb-a2c0-d38f22f4d6a4",
      "metadata": {
        "id": "9c19b01f-26fc-4fbb-a2c0-d38f22f4d6a4"
      },
      "source": [
        "38. Shuffle the elements of a list randomly."
      ]
    },
    {
      "cell_type": "code",
      "execution_count": null,
      "id": "a6f820ce-5871-4856-a007-a5e484781d1f",
      "metadata": {
        "id": "a6f820ce-5871-4856-a007-a5e484781d1f",
        "outputId": "77d6f95a-cc14-4823-97f3-ac6e3bf3a390"
      },
      "outputs": [
        {
          "name": "stdout",
          "output_type": "stream",
          "text": [
            " The list after shuffling is: [2, 1, 5, 4, 3]\n"
          ]
        }
      ],
      "source": [
        "import random\n",
        "\n",
        "# Original list\n",
        "original_list = [1,2,3,4,5]\n",
        "\n",
        "#Use random.shuffle() to shuffle the list in-place\n",
        "random.shuffle(original_list)\n",
        "\n",
        "# Display the shuffled list\n",
        "print(f\" The list after shuffling is:\", original_list)"
      ]
    },
    {
      "cell_type": "markdown",
      "id": "bf240694-f4e2-4096-b373-ec8b79705758",
      "metadata": {
        "id": "bf240694-f4e2-4096-b373-ec8b79705758"
      },
      "source": [
        "We import the random module, which provides functions for random number generation.\n",
        "\n",
        "We use the random.shuffle() function to shuffle the elements of the list original_list in-place. This means that the original list is modified directly.\n",
        "\n",
        "We print the result, which is the list after shuffling its elements randomly."
      ]
    },
    {
      "cell_type": "markdown",
      "id": "48fb7a60-a797-489d-a748-a54745a4f8c2",
      "metadata": {
        "id": "48fb7a60-a797-489d-a748-a54745a4f8c2"
      },
      "source": [
        "39. Create a list of the first 10 factorial numbers."
      ]
    },
    {
      "cell_type": "code",
      "execution_count": null,
      "id": "c31cbdaf-2adb-4bf8-8a37-90024d08280e",
      "metadata": {
        "id": "c31cbdaf-2adb-4bf8-8a37-90024d08280e",
        "outputId": "f0cc5ce3-c154-429f-be7f-a097621eb0a0"
      },
      "outputs": [
        {
          "name": "stdout",
          "output_type": "stream",
          "text": [
            "The first 10 factorial numbers are: [1, 1, 2, 6, 24, 120, 720, 5040, 40320, 362880]\n"
          ]
        }
      ],
      "source": [
        "# Step 1: Define a function to calculate factorial\n",
        "def factorial(n):\n",
        "    if n == 0 or n == 1:\n",
        "        return 1\n",
        "    else:\n",
        "        return n * factorial(n - 1)\n",
        "\n",
        "# Step 2: Use a loop to generate a list of the first 10 factorial numbers\n",
        "factorial_numbers = [factorial(i) for i in range(10)]\n",
        "\n",
        "# Step 3: Display the list of factorial numbers\n",
        "print(\"The first 10 factorial numbers are:\", factorial_numbers)\n"
      ]
    },
    {
      "cell_type": "markdown",
      "id": "75560a06-e2d5-404f-8a2e-a94edc27e8ad",
      "metadata": {
        "id": "75560a06-e2d5-404f-8a2e-a94edc27e8ad"
      },
      "source": [
        "We define a recursive function named factorial to calculate the factorial of a given number.\n",
        "Use a Loop:\n",
        "\n",
        "We use a list comprehension to generate a list (factorial_numbers) of the first 10 factorial numbers by calling the factorial function for each index in the range from 0 to 9.\n",
        "Display the Result:\n",
        "\n",
        "We print the result, which is the list of the first 10 factorial numbers."
      ]
    },
    {
      "cell_type": "markdown",
      "id": "0c07e609-32db-4068-9cf4-dd6a05a9a33e",
      "metadata": {
        "id": "0c07e609-32db-4068-9cf4-dd6a05a9a33e"
      },
      "source": [
        "40. Check if two lists have at least one element in common."
      ]
    },
    {
      "cell_type": "code",
      "execution_count": null,
      "id": "c04a701c-008e-4649-9446-b2c3f87a5f19",
      "metadata": {
        "id": "c04a701c-008e-4649-9446-b2c3f87a5f19",
        "outputId": "302563a3-90e2-4e5a-a83e-f1b1f93bc744"
      },
      "outputs": [
        {
          "name": "stdout",
          "output_type": "stream",
          "text": [
            "The lists have at least one common element.\n"
          ]
        }
      ],
      "source": [
        "# Example lists\n",
        "list1 = [1, 2, 3, 4, 5]\n",
        "list2 = [5, 6, 7, 8, 9]\n",
        "\n",
        "# Step 1: Use set intersection to check for common elements\n",
        "common_elements = set(list1) & set(list2)\n",
        "\n",
        "# Step 2: Check if there is at least one common element\n",
        "if common_elements:\n",
        "    print(\"The lists have at least one common element.\")\n",
        "else:\n",
        "    print(\"The lists do not have any common elements.\")\n"
      ]
    },
    {
      "cell_type": "markdown",
      "id": "0cfc9484-a4ef-4239-90e6-83a5599aa579",
      "metadata": {
        "id": "0cfc9484-a4ef-4239-90e6-83a5599aa579"
      },
      "source": [
        "We start with two example lists, list1 and list2, containing integers.\n",
        "\n",
        "We use set intersection (set(list1) & set(list2)) to find the common elements between the two lists. The & operator performs the intersection operation on sets.\n",
        "\n",
        "We check if there is at least one common element by evaluating the set of common elements in a boolean context."
      ]
    },
    {
      "cell_type": "markdown",
      "id": "9142ba8b-1e78-411e-b309-ca498b8ce621",
      "metadata": {
        "id": "9142ba8b-1e78-411e-b309-ca498b8ce621"
      },
      "source": [
        "41. Remove all elements from a list."
      ]
    },
    {
      "cell_type": "code",
      "execution_count": null,
      "id": "046cf18a-117c-4258-bc01-9ba2775f0d84",
      "metadata": {
        "id": "046cf18a-117c-4258-bc01-9ba2775f0d84",
        "outputId": "d9eaee3f-e595-48c5-c9fc-6f54e7c5fab5"
      },
      "outputs": [
        {
          "name": "stdout",
          "output_type": "stream",
          "text": [
            "The list after removing all the elements is: []\n"
          ]
        }
      ],
      "source": [
        "# Example list\n",
        "my_list = [78,34,12,45,723,78]\n",
        "\n",
        "# Use clear() method to remove all elements from a list\n",
        "my_list.clear()\n",
        "\n",
        "# Display the result\n",
        "print(f\"The list after removing all the elements is:\",my_list)"
      ]
    },
    {
      "cell_type": "markdown",
      "id": "7b06a35e-a8b6-42a4-8acc-0f347ee51dae",
      "metadata": {
        "id": "7b06a35e-a8b6-42a4-8acc-0f347ee51dae"
      },
      "source": [
        "To remove all elements from a list, we can use the clear() method.\n",
        "\n"
      ]
    },
    {
      "cell_type": "markdown",
      "id": "bf6f9fb0-bb90-4fc8-97e2-125813c086ff",
      "metadata": {
        "id": "bf6f9fb0-bb90-4fc8-97e2-125813c086ff"
      },
      "source": [
        "42. Replace negative numbers in a list with 0."
      ]
    },
    {
      "cell_type": "code",
      "execution_count": null,
      "id": "696f78b7-6197-4f80-a0a3-b11a7c487cc3",
      "metadata": {
        "id": "696f78b7-6197-4f80-a0a3-b11a7c487cc3",
        "outputId": "3c90d070-9d26-46c0-c2f4-6ec904367280"
      },
      "outputs": [
        {
          "name": "stdout",
          "output_type": "stream",
          "text": [
            "The list with negative numbers replaced by 0 is: [56, 0, 0, 34, 79, 62, 0]\n"
          ]
        }
      ],
      "source": [
        "# Example list\n",
        "numbers = [56, -78, -99, 34, 79, 62, -83]\n",
        "\n",
        "#Use list comprehension to replace negative numbers with 0\n",
        "non_negative_numbers = [max(0, num) for num in numbers]\n",
        "\n",
        "#Display the list with negative numbers replaced by 0\n",
        "print(\"The list with negative numbers replaced by 0 is:\", non_negative_numbers)"
      ]
    },
    {
      "cell_type": "markdown",
      "id": "51a7ace5-a753-4185-9ece-8872b0443c93",
      "metadata": {
        "id": "51a7ace5-a753-4185-9ece-8872b0443c93"
      },
      "source": [
        "We start with an example list named numbers containing integers.\n",
        "\n",
        "We use list comprehension to iterate through numbers and replace each negative number with 0 using the max(0, num) function.\n",
        "\n",
        "We print the result, which is the list with negative numbers replaced by 0."
      ]
    },
    {
      "cell_type": "markdown",
      "id": "29b41384-c6d2-428a-a772-915fd80961a2",
      "metadata": {
        "id": "29b41384-c6d2-428a-a772-915fd80961a2"
      },
      "source": [
        "43. Convert a string into a list of words."
      ]
    },
    {
      "cell_type": "code",
      "execution_count": null,
      "id": "f3a89162-b06d-495a-97a8-ee9ae66b7e4e",
      "metadata": {
        "id": "f3a89162-b06d-495a-97a8-ee9ae66b7e4e",
        "outputId": "a896d1ad-1009-43af-9f3e-4f3e499fdc3c"
      },
      "outputs": [
        {
          "name": "stdout",
          "output_type": "stream",
          "text": [
            "The list of words is: ['This', 'is', 'a', 'sample', 'sentence.']\n"
          ]
        }
      ],
      "source": [
        "# Original string\n",
        "sentence = \" This is a sample sentence.\"\n",
        "\n",
        "# Use the split() method to convert the string into a list of words\n",
        "word_list = sentence.split()\n",
        "\n",
        "# Display the list of words\n",
        "print(f\"The list of words is:\",word_list)"
      ]
    },
    {
      "cell_type": "markdown",
      "id": "3e067a14-fa01-43be-a720-de9b74db4c72",
      "metadata": {
        "id": "3e067a14-fa01-43be-a720-de9b74db4c72"
      },
      "source": [
        "We start with an example string named sentence containing words.\n",
        "\n",
        "We use the split() method on the string to convert it into a list of words. By default, split() splits the string at whitespace characters.\n",
        "\n",
        "We print the result, which is the list of words."
      ]
    },
    {
      "cell_type": "markdown",
      "id": "dd2a51ed-551e-41ae-8c9f-4c2c91a4c36d",
      "metadata": {
        "id": "dd2a51ed-551e-41ae-8c9f-4c2c91a4c36d"
      },
      "source": [
        "44. Convert a list of words into a string."
      ]
    },
    {
      "cell_type": "code",
      "execution_count": null,
      "id": "daf4ca00-bc5d-4b7b-8f5c-5ce34253440f",
      "metadata": {
        "id": "daf4ca00-bc5d-4b7b-8f5c-5ce34253440f",
        "outputId": "f4ebbf2b-11dd-4f91-bb14-7323fba83bc7"
      },
      "outputs": [
        {
          "name": "stdout",
          "output_type": "stream",
          "text": [
            "The resulting string is: This is a sample sentence.\n"
          ]
        }
      ],
      "source": [
        "# Example list of words\n",
        "word_list = ['This', 'is', 'a', 'sample', 'sentence.']\n",
        "\n",
        "# Step 1: Use the join() method to convert the list into a string\n",
        "sentence = ' '.join(word_list)\n",
        "\n",
        "# Step 2: Display the resulting string\n",
        "print(\"The resulting string is:\", sentence)\n"
      ]
    },
    {
      "cell_type": "markdown",
      "id": "f33c85a3-2c09-4484-8cc3-8aa73a86d874",
      "metadata": {
        "id": "f33c85a3-2c09-4484-8cc3-8aa73a86d874"
      },
      "source": [
        "We start with an example list named word_list containing words.\n",
        "\n",
        "We use the join() method on a space (`' ') to concatenate the words from the list into a string. The space is used as a separator between words.\n",
        "\n",
        "We print the result, which is the string formed by joining the words."
      ]
    },
    {
      "cell_type": "markdown",
      "id": "d278593d-f4f5-402f-b12c-d40b3e7ce714",
      "metadata": {
        "id": "d278593d-f4f5-402f-b12c-d40b3e7ce714"
      },
      "source": [
        "45. Create a list of the first `n` powers of 2."
      ]
    },
    {
      "cell_type": "code",
      "execution_count": null,
      "id": "b2d99b90-c6c0-4c16-a5af-c11cecbd0e8b",
      "metadata": {
        "id": "b2d99b90-c6c0-4c16-a5af-c11cecbd0e8b",
        "outputId": "46220b48-43a8-4733-edc6-e4cbbf986cab"
      },
      "outputs": [
        {
          "name": "stdout",
          "output_type": "stream",
          "text": [
            "The first 5 powers of 2 are: [1, 2, 4, 8, 16]\n"
          ]
        }
      ],
      "source": [
        "# Define the value of n\n",
        "n = 5\n",
        "\n",
        "# Use list comprehension to create a list of the first n powers of 2\n",
        "powers_of_2 = [2**i for i in range(n)]\n",
        "\n",
        "# Display the list of powers of 2\n",
        "print(f\"The first {n} powers of 2 are:\", powers_of_2)\n"
      ]
    },
    {
      "cell_type": "markdown",
      "id": "99134998-1e48-46da-bfc4-839e0d5f075d",
      "metadata": {
        "id": "99134998-1e48-46da-bfc4-839e0d5f075d"
      },
      "source": [
        "We define the value of n to specify the number of powers of 2 we want in the list.\n",
        "\n",
        "We use list comprehension to generate a list (powers_of_2) by raising 2 to the power of each index i in the range from 0 to n-1.\n",
        "\n",
        "We print the result, which is the list of the first n powers of 2."
      ]
    },
    {
      "cell_type": "markdown",
      "id": "fcff99be-7147-42bc-be13-426595528f9e",
      "metadata": {
        "id": "fcff99be-7147-42bc-be13-426595528f9e"
      },
      "source": [
        "46. Find the longest string in a list of strings."
      ]
    },
    {
      "cell_type": "code",
      "execution_count": null,
      "id": "9ca463e5-ba76-41de-8b30-fa983cd174eb",
      "metadata": {
        "id": "9ca463e5-ba76-41de-8b30-fa983cd174eb",
        "outputId": "8a1452bb-75e1-4c82-a165-246ef8ab2836"
      },
      "outputs": [
        {
          "name": "stdout",
          "output_type": "stream",
          "text": [
            "The longest string is: strawberry\n"
          ]
        }
      ],
      "source": [
        "# Example list of strings\n",
        "string_list = [\"apple\", \"banana\", \"kiwi\", \"strawberry\", \"orange\"]\n",
        "\n",
        "# Step 1: Use the max() function with the len() function as the key\n",
        "longest_string = max(string_list, key=len)\n",
        "\n",
        "# Step 2: Display the longest string\n",
        "print(\"The longest string is:\", longest_string)\n"
      ]
    },
    {
      "cell_type": "markdown",
      "id": "2a8a6ad9-33cf-4acc-8928-138d77880934",
      "metadata": {
        "id": "2a8a6ad9-33cf-4acc-8928-138d77880934"
      },
      "source": [
        "We start with an example list named string_list containing strings of different lengths.\n",
        "\n",
        "We use the max() function with key=len to find the string with the maximum length in the list. The len() function calculates the length of each string.\n",
        "\n",
        "We print the result, which is the longest string in the list."
      ]
    },
    {
      "cell_type": "markdown",
      "id": "ac705a8b-8d60-48e8-894b-96d544c1cd59",
      "metadata": {
        "id": "ac705a8b-8d60-48e8-894b-96d544c1cd59"
      },
      "source": [
        "47. Find the shortest string in a list of strings."
      ]
    },
    {
      "cell_type": "code",
      "execution_count": null,
      "id": "de56cf58-81c2-4016-ac20-9e2f611a2fa1",
      "metadata": {
        "id": "de56cf58-81c2-4016-ac20-9e2f611a2fa1",
        "outputId": "0d3965c2-b963-4bb9-8759-372630d3e8f3"
      },
      "outputs": [
        {
          "name": "stdout",
          "output_type": "stream",
          "text": [
            "The shortest string is: kiwi\n"
          ]
        }
      ],
      "source": [
        "# Example list of strings\n",
        "string_list = [\"apple\", \"banana\", \"kiwi\", \"strawberry\", \"orange\"]\n",
        "\n",
        "# Step 1: Use the min() function with the len() function as the key\n",
        "shortest_string = min(string_list, key=len)\n",
        "\n",
        "# Step 2: Display the shortest string\n",
        "print(\"The shortest string is:\", shortest_string)\n"
      ]
    },
    {
      "cell_type": "markdown",
      "id": "ca3e06c9-a419-4b1e-8378-79cb5c5af080",
      "metadata": {
        "id": "ca3e06c9-a419-4b1e-8378-79cb5c5af080"
      },
      "source": [
        "We start with an example list named string_list containing strings of different lengths.\n",
        "\n",
        "We use the min() function with key=len to find the string with the minimum length in the list. The len() function calculates the length of each string.\n",
        "\n",
        "We print the result, which is the shortest string in the list."
      ]
    },
    {
      "cell_type": "markdown",
      "id": "374f22d8-5be5-48b7-b704-4eaf8709de03",
      "metadata": {
        "id": "374f22d8-5be5-48b7-b704-4eaf8709de03"
      },
      "source": [
        "48. Create a list of the first `n` triangular numbers."
      ]
    },
    {
      "cell_type": "code",
      "execution_count": null,
      "id": "187eb0f1-8190-4dbb-be2b-310122019411",
      "metadata": {
        "id": "187eb0f1-8190-4dbb-be2b-310122019411",
        "outputId": "8d84df5d-fe15-4e71-da31-8a8876fc6edf"
      },
      "outputs": [
        {
          "name": "stdout",
          "output_type": "stream",
          "text": [
            "The first 5 triangular numbers are: [1, 3, 6, 10, 15]\n"
          ]
        }
      ],
      "source": [
        "# Define the value of n\n",
        "n = 5\n",
        "\n",
        "# Use list comprehension to create a list of the first n triangular numbers\n",
        "triangular_numbers = [(i * (i + 1)) // 2 for i in range(1, n + 1)]\n",
        "\n",
        "# Display the list of triangular numbers\n",
        "print(f\"The first {n} triangular numbers are:\", triangular_numbers)\n"
      ]
    },
    {
      "cell_type": "markdown",
      "id": "717a7b03-0c74-43b7-96be-6a6d48c6a1a3",
      "metadata": {
        "id": "717a7b03-0c74-43b7-96be-6a6d48c6a1a3"
      },
      "source": [
        "We define the value of n to specify the number of triangular numbers we want in the list.\n",
        "\n",
        "We use list comprehension to generate a list (triangular_numbers) by calculating the triangular number for each index i in the range from 1 to n.\n",
        "\n",
        "We print the result, which is the list of the first n triangular numbers."
      ]
    },
    {
      "cell_type": "markdown",
      "id": "1a6d51e5-1beb-451d-9f95-f7bc804d36db",
      "metadata": {
        "id": "1a6d51e5-1beb-451d-9f95-f7bc804d36db"
      },
      "source": [
        "49. Check if a list contains another list as a subsequence."
      ]
    },
    {
      "cell_type": "code",
      "execution_count": null,
      "id": "5e71a220-aec9-4dbd-a3d1-2ca550f526aa",
      "metadata": {
        "id": "5e71a220-aec9-4dbd-a3d1-2ca550f526aa",
        "outputId": "77bf84b9-b380-4faa-c5e5-9ee6153875f5"
      },
      "outputs": [
        {
          "name": "stdout",
          "output_type": "stream",
          "text": [
            "list_b is a subsequence of list_a.\n"
          ]
        }
      ],
      "source": [
        "# Function to check if list `b` is a subsequence of list `a`\n",
        "def is_subsequence(a, b):\n",
        "    # Iterator for the larger list `a`\n",
        "    iter_a = iter(a)\n",
        "\n",
        "    # Check if each element in `b` is present in `a`\n",
        "    return all(elem in iter_a for elem in b)\n",
        "\n",
        "# Example lists\n",
        "list_a = [1, 2, 3, 4, 5, 6, 7, 8, 9]\n",
        "list_b = [3, 6, 8]\n",
        "\n",
        "# Check if list_b is a subsequence of list_a\n",
        "result = is_subsequence(list_a, list_b)\n",
        "\n",
        "# Display the result\n",
        "if result:\n",
        "    print(\"list_b is a subsequence of list_a.\")\n",
        "else:\n",
        "    print(\"list_b is not a subsequence of list_a.\")\n"
      ]
    },
    {
      "cell_type": "markdown",
      "id": "8931ef8e-6eb3-4c5b-bb19-bbf3da9daf03",
      "metadata": {
        "id": "8931ef8e-6eb3-4c5b-bb19-bbf3da9daf03"
      },
      "source": [
        "We define a function named is_subsequence that takes two lists (a and b) as arguments. It uses an iterator (iter_a) for the larger list a.\n",
        "\n",
        "The function checks if each element in list b is present in list a using the all() function and a generator expression.\n",
        "\n",
        "We print the result indicating whether list_b is a subsequence of list_a."
      ]
    },
    {
      "cell_type": "markdown",
      "id": "861686ae-68ff-4a81-8a1f-d1d8bfed102a",
      "metadata": {
        "id": "861686ae-68ff-4a81-8a1f-d1d8bfed102a"
      },
      "source": [
        "50. Swap two elements in a list by their indices."
      ]
    },
    {
      "cell_type": "code",
      "execution_count": null,
      "id": "1661416c-4aeb-45a6-85b0-b3fe21944bd9",
      "metadata": {
        "id": "1661416c-4aeb-45a6-85b0-b3fe21944bd9",
        "outputId": "0d1aedf3-844d-4b48-d964-1b3134b1dedc"
      },
      "outputs": [
        {
          "name": "stdout",
          "output_type": "stream",
          "text": [
            "list_b is a subsequence of list_a.\n"
          ]
        }
      ],
      "source": [
        "# Function to check if list `b` is a subsequence of list `a`\n",
        "def is_subsequence(a, b):\n",
        "    # Iterator for the larger list `a`\n",
        "    iter_a = iter(a)\n",
        "\n",
        "    # Check if each element in `b` is present in `a`\n",
        "    return all(elem in iter_a for elem in b)\n",
        "\n",
        "# Example lists\n",
        "list_a = [1, 2, 3, 4, 5, 6, 7, 8, 9]\n",
        "list_b = [3, 6, 8]\n",
        "\n",
        "# Check if list_b is a subsequence of list_a\n",
        "result = is_subsequence(list_a, list_b)\n",
        "\n",
        "# Display the result\n",
        "if result:\n",
        "    print(\"list_b is a subsequence of list_a.\")\n",
        "else:\n",
        "    print(\"list_b is not a subsequence of list_a.\")\n"
      ]
    },
    {
      "cell_type": "markdown",
      "id": "29ce2741-411a-490b-b666-aeccaccea493",
      "metadata": {
        "id": "29ce2741-411a-490b-b666-aeccaccea493"
      },
      "source": [
        "We define a function named is_subsequence that takes two lists (a and b) as arguments. It uses an iterator (iter_a) for the larger list a.\n",
        "\n",
        "The function checks if each element in list b is present in list a using the all() function and a generator expression.\n",
        "\n",
        "We print the result indicating whether list_b is a subsequence of list_a."
      ]
    },
    {
      "cell_type": "markdown",
      "id": "139b1b22-ec2b-4b46-9b84-f295eda70319",
      "metadata": {
        "id": "139b1b22-ec2b-4b46-9b84-f295eda70319"
      },
      "source": [
        "Tuple Based Practice Problem :"
      ]
    },
    {
      "cell_type": "markdown",
      "id": "bf3c66be-2333-41bd-90c1-71797ebf256d",
      "metadata": {
        "id": "bf3c66be-2333-41bd-90c1-71797ebf256d"
      },
      "source": [
        "1. Create a tuple with integers from 1 to 5."
      ]
    },
    {
      "cell_type": "code",
      "execution_count": null,
      "id": "63500cb2-853b-4473-b3cd-d6347983211f",
      "metadata": {
        "id": "63500cb2-853b-4473-b3cd-d6347983211f",
        "outputId": "cb0bc4e8-0aff-4da4-f709-5553474a73ee"
      },
      "outputs": [
        {
          "name": "stdout",
          "output_type": "stream",
          "text": [
            "The created tuple is: (1, 2, 3, 4, 5)\n"
          ]
        }
      ],
      "source": [
        "# Create a tuple with integers from 1 to 5\n",
        "my_tuple = (1,2,3,4,5)\n",
        "\n",
        "# Display the created tuple\n",
        "print(f\"The created tuple is:\",my_tuple)"
      ]
    },
    {
      "cell_type": "markdown",
      "id": "7f8aa89f-8943-433a-80dc-41d77abd8f87",
      "metadata": {
        "id": "7f8aa89f-8943-433a-80dc-41d77abd8f87"
      },
      "source": [
        "To create a tuple with integers from 1 to 5, you can use the tuple() constructor.\n",
        "\n",
        "This result shows the tuple with integers from 1 to 5."
      ]
    },
    {
      "cell_type": "markdown",
      "id": "d4ead612-c821-4519-a6e1-b6c8166e9648",
      "metadata": {
        "id": "d4ead612-c821-4519-a6e1-b6c8166e9648"
      },
      "source": [
        "2. Access the third element of a tuple."
      ]
    },
    {
      "cell_type": "code",
      "execution_count": null,
      "id": "ef891a4e-15c7-44cd-a23e-40b203b16155",
      "metadata": {
        "id": "ef891a4e-15c7-44cd-a23e-40b203b16155",
        "outputId": "e4fc1ef3-c048-435e-c464-0f49b443efa1"
      },
      "outputs": [
        {
          "name": "stdout",
          "output_type": "stream",
          "text": [
            "The third element of the tuple is: 3\n"
          ]
        }
      ],
      "source": [
        "# Example tuple\n",
        "my_tuple = (1, 2, 3, 4, 5)\n",
        "\n",
        "# Access the third element (index 2)\n",
        "third_element = my_tuple[2]\n",
        "\n",
        "# Display the third element\n",
        "print(\"The third element of the tuple is:\", third_element)\n"
      ]
    },
    {
      "cell_type": "markdown",
      "id": "8f5930c4-2f3d-48d2-aa1a-431c73bbe0d6",
      "metadata": {
        "id": "8f5930c4-2f3d-48d2-aa1a-431c73bbe0d6"
      },
      "source": [
        "To access the third element of a tuple in Python, you can use square brackets [] along with the index of the element you want.\n",
        "\n",
        "This result shows how to access the third element (index 2) of a tuple."
      ]
    },
    {
      "cell_type": "markdown",
      "id": "6790cfe4-0d36-48ec-bae6-797c2d9f9b3e",
      "metadata": {
        "id": "6790cfe4-0d36-48ec-bae6-797c2d9f9b3e"
      },
      "source": [
        "3. Find the length of a tuple without using the `len()` function."
      ]
    },
    {
      "cell_type": "code",
      "execution_count": null,
      "id": "674dd237-44b9-4a3d-b8be-0ac2385619a0",
      "metadata": {
        "id": "674dd237-44b9-4a3d-b8be-0ac2385619a0",
        "outputId": "5196606c-a55a-44d0-a90e-48342f52c38e"
      },
      "outputs": [
        {
          "name": "stdout",
          "output_type": "stream",
          "text": [
            "The length of the tuple is: 5\n"
          ]
        }
      ],
      "source": [
        "# Example tuple\n",
        "my_tuple = (1, 2, 3, 4, 5)\n",
        "\n",
        "# Initialize a counter variable\n",
        "tuple_length = 0\n",
        "\n",
        "# Iterate through the tuple and count elements\n",
        "for _ in my_tuple:\n",
        "    tuple_length += 1\n",
        "\n",
        "# Display the length of the tuple\n",
        "print(\"The length of the tuple is:\", tuple_length)\n"
      ]
    },
    {
      "cell_type": "markdown",
      "id": "04c7b166-c38f-4c66-a9d1-0d2e9b9f4426",
      "metadata": {
        "id": "04c7b166-c38f-4c66-a9d1-0d2e9b9f4426"
      },
      "source": [
        "we can find the length of a tuple without using the len() function by using a loop to iterate through the elements.\n",
        "\n",
        "Here, we use a loop to iterate through each element in the tuple and increment the tuple_length variable for each element. Finally, we print the length of the tuple."
      ]
    },
    {
      "cell_type": "markdown",
      "id": "2083481d-27a3-428a-8c83-dc11d0775e79",
      "metadata": {
        "id": "2083481d-27a3-428a-8c83-dc11d0775e79"
      },
      "source": [
        "4. Count the occurrences of an element in a tuple."
      ]
    },
    {
      "cell_type": "code",
      "execution_count": null,
      "id": "d6ea292f-ddfd-453c-a505-5a5e35d9592e",
      "metadata": {
        "id": "d6ea292f-ddfd-453c-a505-5a5e35d9592e",
        "outputId": "2507bcac-9f49-4f7e-b0dc-8f7f9bd17f0a"
      },
      "outputs": [
        {
          "name": "stdout",
          "output_type": "stream",
          "text": [
            "The element (element_to_count) occurs 3 times in the tuple.\n"
          ]
        }
      ],
      "source": [
        "# Example tuple\n",
        "my_tuple = (1,2,3,4,2,5,2)\n",
        "\n",
        "# Element to count occurrences\n",
        "element_to_count = 2\n",
        "\n",
        "# Count occurrences using the count() method\n",
        "occurrences = my_tuple.count(element_to_count)\n",
        "\n",
        "# Display the result\n",
        "print(f\"The element (element_to_count) occurs {occurrences} times in the tuple.\")\n",
        "\n"
      ]
    },
    {
      "cell_type": "code",
      "execution_count": null,
      "id": "d999f67a-e610-46c4-9de2-0b1229cf9dc6",
      "metadata": {
        "id": "d999f67a-e610-46c4-9de2-0b1229cf9dc6"
      },
      "outputs": [],
      "source": [
        "# To count the occurrences of an element in a tuple in Python, you can use the count() method of the tuple.\n",
        "\n",
        "# We use the count() method of the tuple my_tuple to count the occurrences of the specified element_to_count. The result is then displayed."
      ]
    },
    {
      "cell_type": "markdown",
      "id": "92efc7ad-dd8d-468f-8f49-e5a66c2176de",
      "metadata": {
        "id": "92efc7ad-dd8d-468f-8f49-e5a66c2176de"
      },
      "source": [
        "5. Find the index of the first occurrence of an element in a tuple."
      ]
    },
    {
      "cell_type": "code",
      "execution_count": null,
      "id": "e691d6d2-b59a-4a69-9542-32fa04bee461",
      "metadata": {
        "id": "e691d6d2-b59a-4a69-9542-32fa04bee461",
        "outputId": "923054b0-183b-40fd-edad-41dedd7bf288"
      },
      "outputs": [
        {
          "name": "stdout",
          "output_type": "stream",
          "text": [
            "The index of the first occurrence of 2 is: 1\n"
          ]
        }
      ],
      "source": [
        "# Example tuple\n",
        "my_tuple = (1, 2, 3, 4, 2, 5, 2)\n",
        "\n",
        "# Element to find the index\n",
        "element_to_find = 2\n",
        "\n",
        "try:\n",
        "    # Find the index using the index() method\n",
        "    index_of_element = my_tuple.index(element_to_find)\n",
        "\n",
        "    # Display the index of the first occurrence\n",
        "    print(f\"The index of the first occurrence of {element_to_find} is: {index_of_element}\")\n",
        "except ValueError:\n",
        "    print(f\"{element_to_find} is not present in the tuple.\")\n"
      ]
    },
    {
      "cell_type": "code",
      "execution_count": null,
      "id": "d8c35363-4850-4be0-a3a7-6a9e5af9bb32",
      "metadata": {
        "id": "d8c35363-4850-4be0-a3a7-6a9e5af9bb32"
      },
      "outputs": [],
      "source": [
        "# To find the index of the first occurrence of an element in a tuple.we can use the index() method of the tuple.\n",
        "\n",
        "#We use the index() method of the tuple my_tuple to find the index of the specified element_to_find. The result is then displayed. Note that we use a try and except block to handle the case where the element is not present in the tuple.\n",
        "\n",
        "#Adjust the element_to_find variable as needed for your specific case.\n",
        "\n"
      ]
    },
    {
      "cell_type": "markdown",
      "id": "30f7d532-f5bc-49f1-a85b-495b51c00d41",
      "metadata": {
        "id": "30f7d532-f5bc-49f1-a85b-495b51c00d41"
      },
      "source": [
        "6. Check if an element exists in a tuple."
      ]
    },
    {
      "cell_type": "code",
      "execution_count": null,
      "id": "09d057f8-83f6-4079-a8dc-9616ce48beb4",
      "metadata": {
        "id": "09d057f8-83f6-4079-a8dc-9616ce48beb4",
        "outputId": "0faf56b7-00f1-4f84-f578-8e42275fe447"
      },
      "outputs": [
        {
          "name": "stdout",
          "output_type": "stream",
          "text": [
            "The element 3 exists in the tuple.\n"
          ]
        }
      ],
      "source": [
        "# Example tuple\n",
        "my_tuple = (1, 2, 3, 4, 5)\n",
        "\n",
        "# Element to check\n",
        "element_to_check = 3\n",
        "\n",
        "# Step 1: Use the `in` keyword to check if the element exists\n",
        "is_present = element_to_check in my_tuple\n",
        "\n",
        "# Step 2: Display the result\n",
        "if is_present:\n",
        "    print(f\"The element {element_to_check} exists in the tuple.\")\n",
        "else:\n",
        "    print(f\"The element {element_to_check} does not exist in the tuple.\")\n"
      ]
    },
    {
      "cell_type": "markdown",
      "id": "9a8b2334-27a3-43b9-a183-c98c1303900f",
      "metadata": {
        "id": "9a8b2334-27a3-43b9-a183-c98c1303900f"
      },
      "source": [
        "We start with an example tuple named my_tuple.\n",
        "\n",
        "We specify the element_to_check that we want to check for in the tuple.\n",
        "\n",
        "We use the in keyword to check if the element exists in the tuple. The result is stored in the is_present variable.\n",
        "\n",
        "We print the result indicating whether the element exists in the tuple."
      ]
    },
    {
      "cell_type": "markdown",
      "id": "7b35724b-c6e3-4855-972a-e949599840b4",
      "metadata": {
        "id": "7b35724b-c6e3-4855-972a-e949599840b4"
      },
      "source": [
        "7. Convert a tuple to a list."
      ]
    },
    {
      "cell_type": "code",
      "execution_count": null,
      "id": "040a6205-1961-4c12-969d-c19363037c6a",
      "metadata": {
        "id": "040a6205-1961-4c12-969d-c19363037c6a",
        "outputId": "766ffa35-9183-4382-b752-cf66e79f795e"
      },
      "outputs": [
        {
          "name": "stdout",
          "output_type": "stream",
          "text": [
            "The converted list is: [33, 44, 22, 55, 66, 77, 99, 88]\n"
          ]
        }
      ],
      "source": [
        "# Example tuple\n",
        "my_tuple = (33,44,22,55,66,77,99,88)\n",
        "\n",
        "# Step 1: Use the list() constructor to convert the tuple to a list\n",
        "my_list = list(my_tuple)\n",
        "\n",
        "# Step 2: Display the resulting list\n",
        "print(\"The converted list is:\", my_list)\n"
      ]
    },
    {
      "cell_type": "markdown",
      "id": "c4229c33-3638-4f99-ae0f-f8181f00ce33",
      "metadata": {
        "id": "c4229c33-3638-4f99-ae0f-f8181f00ce33"
      },
      "source": [
        "We start with an example tuple named my_tuple.\n",
        "\n",
        "We use the list() constructor to convert the tuple my_tuple to a list. The result is stored in the variable my_list.\n",
        "\n",
        "We print the resulting list."
      ]
    },
    {
      "cell_type": "markdown",
      "id": "6d24a3e5-00e9-4386-8e6d-403c6a1e0d5d",
      "metadata": {
        "id": "6d24a3e5-00e9-4386-8e6d-403c6a1e0d5d"
      },
      "source": [
        "8. Convert a list to a tuple."
      ]
    },
    {
      "cell_type": "code",
      "execution_count": null,
      "id": "9ed9b4bd-97b6-4725-8d69-906895487708",
      "metadata": {
        "id": "9ed9b4bd-97b6-4725-8d69-906895487708",
        "outputId": "6b4cc35a-4484-40e4-a649-0e09547dc5eb"
      },
      "outputs": [
        {
          "name": "stdout",
          "output_type": "stream",
          "text": [
            "The converted tuple is: (23, 33, 43, 53, 63, 73)\n"
          ]
        }
      ],
      "source": [
        "# Example list\n",
        "my_list = [23,33,43,53,63,73]\n",
        "\n",
        "# Step 1: Use the tuple() constructor to convert the list to a tuple\n",
        "my_tuple = tuple(my_list)\n",
        "\n",
        "# Step 2: Display the resulting tuple\n",
        "print(\"The converted tuple is:\", my_tuple)\n"
      ]
    },
    {
      "cell_type": "markdown",
      "id": "51bd9acc-88ee-42ed-b9f5-c0d46f51d9d6",
      "metadata": {
        "id": "51bd9acc-88ee-42ed-b9f5-c0d46f51d9d6"
      },
      "source": [
        "We start with an example list named my_list.\n",
        "\n",
        "We use the tuple() constructor to convert the list my_list to a tuple. The result is stored in the variable my_tuple.\n",
        "\n",
        "We print the resulting tuple."
      ]
    },
    {
      "cell_type": "markdown",
      "id": "b7ebc9cc-aab7-420a-ab2e-6952e5512ecd",
      "metadata": {
        "id": "b7ebc9cc-aab7-420a-ab2e-6952e5512ecd"
      },
      "source": [
        "9. Unpack the elements of a tuple into variables."
      ]
    },
    {
      "cell_type": "code",
      "execution_count": null,
      "id": "e4429da2-6189-4744-881a-ed9d211b9e71",
      "metadata": {
        "id": "e4429da2-6189-4744-881a-ed9d211b9e71",
        "outputId": "8a733110-060f-4f05-eaa6-00d8b896355e"
      },
      "outputs": [
        {
          "name": "stdout",
          "output_type": "stream",
          "text": [
            "Unpacked variables: 100 200 300\n"
          ]
        }
      ],
      "source": [
        "# Example tuple\n",
        "my_tuple = (100,200,300)\n",
        "\n",
        "# Unpack the tuple into variables\n",
        "var1, var2, var3 = my_tuple\n",
        "\n",
        "# Display the unpacked variables\n",
        "print(\"Unpacked variables:\", var1, var2, var3)\n"
      ]
    },
    {
      "cell_type": "markdown",
      "id": "a63c4221-0808-41ac-b38d-48ecb2b8c8e0",
      "metadata": {
        "id": "a63c4221-0808-41ac-b38d-48ecb2b8c8e0"
      },
      "source": [
        "We start with an example tuple named my_tuple containing three elements.\n",
        "\n",
        "We use tuple unpacking to assign the values of the tuple to individual variables (var1, var2, var3).\n",
        "\n",
        "We print the values of the unpacked variables."
      ]
    },
    {
      "cell_type": "markdown",
      "id": "9ade4cc2-72f3-46c0-a887-3da274c38929",
      "metadata": {
        "id": "9ade4cc2-72f3-46c0-a887-3da274c38929"
      },
      "source": [
        "10. Create a tuple of even numbers from 1 to 10."
      ]
    },
    {
      "cell_type": "code",
      "execution_count": null,
      "id": "a7306280-2256-471d-880a-bedd627f0565",
      "metadata": {
        "id": "a7306280-2256-471d-880a-bedd627f0565",
        "outputId": "aab25897-e956-455a-fff8-6e001305da8c"
      },
      "outputs": [
        {
          "name": "stdout",
          "output_type": "stream",
          "text": [
            "Tuple of even numbers: (2, 4, 6, 8, 10)\n"
          ]
        }
      ],
      "source": [
        "# Create a tuple of even numbers from 1 to 10\n",
        "even_numbers_tuple = tuple(range(2, 11, 2))\n",
        "\n",
        "# Display the created tuple\n",
        "print(\"Tuple of even numbers:\", even_numbers_tuple)\n"
      ]
    },
    {
      "cell_type": "markdown",
      "id": "c80cb946-173c-4022-abd0-bd79b257b349",
      "metadata": {
        "id": "c80cb946-173c-4022-abd0-bd79b257b349"
      },
      "source": [
        "We use the range(2, 11, 2) to generate even numbers from 2 to 10 with a step of 2.\n",
        "\n",
        "We use the tuple() constructor to convert the range of even numbers to a tuple.\n",
        "\n",
        "We print the created tuple of even numbers."
      ]
    },
    {
      "cell_type": "markdown",
      "id": "58b04076-0d85-4feb-985e-fe3d83c69137",
      "metadata": {
        "id": "58b04076-0d85-4feb-985e-fe3d83c69137"
      },
      "source": [
        "11. Create a tuple of odd numbers from 1 to 10."
      ]
    },
    {
      "cell_type": "code",
      "execution_count": null,
      "id": "4515c9ff-c1bd-40a3-9cbf-dc48dbb1492c",
      "metadata": {
        "id": "4515c9ff-c1bd-40a3-9cbf-dc48dbb1492c",
        "outputId": "63b6c7cd-bc80-4265-a710-c4d3fcc11ca7"
      },
      "outputs": [
        {
          "name": "stdout",
          "output_type": "stream",
          "text": [
            "Tuple of odd numbers: (1, 3, 5, 7, 9)\n"
          ]
        }
      ],
      "source": [
        "# Create a tuple of odd numbers from 1 to 10\n",
        "odd_numbers_tuple = tuple(range(1, 11, 2))\n",
        "\n",
        "# Display the created tuple\n",
        "print(\"Tuple of odd numbers:\", odd_numbers_tuple)\n"
      ]
    },
    {
      "cell_type": "markdown",
      "id": "611d2947-bd99-4c96-b67a-18bdbfe5603e",
      "metadata": {
        "id": "611d2947-bd99-4c96-b67a-18bdbfe5603e"
      },
      "source": [
        "We use the range(1, 11, 2) to generate odd numbers from 1 to 9 with a step of 2.\n",
        "\n",
        "We use the tuple() constructor to convert the range of odd numbers to a tuple.\n",
        "\n",
        "We print the created tuple of odd numbers."
      ]
    },
    {
      "cell_type": "markdown",
      "id": "4b00220a-1522-4a22-9f9c-0ffa4be5d94b",
      "metadata": {
        "id": "4b00220a-1522-4a22-9f9c-0ffa4be5d94b"
      },
      "source": [
        "12. Concatenate two tuples."
      ]
    },
    {
      "cell_type": "code",
      "execution_count": null,
      "id": "55f2282a-3d99-4c16-870f-0993cc5d43c7",
      "metadata": {
        "id": "55f2282a-3d99-4c16-870f-0993cc5d43c7",
        "outputId": "857e3e78-b703-4d38-b6f6-1594deaed148"
      },
      "outputs": [
        {
          "name": "stdout",
          "output_type": "stream",
          "text": [
            "Concatenated tuples: (65, 87, 95, 23, 45, 78, 788, 23)\n"
          ]
        }
      ],
      "source": [
        "# First tuple\n",
        "tuple1 = (65,87,95,23)\n",
        "\n",
        "# Second tuple\n",
        "tuple2 = (45,78,788,23)\n",
        "\n",
        "#Concatenate the tuples using + operator\n",
        "concatenated_tuple = tuple1 + tuple2\n",
        "\n",
        "# Display the concatenated tuple\n",
        "print(f\"Concatenated tuples:\", concatenated_tuple)"
      ]
    },
    {
      "cell_type": "markdown",
      "id": "4ef288fd-01d8-47e4-8b46-c0e5e99c1f25",
      "metadata": {
        "id": "4ef288fd-01d8-47e4-8b46-c0e5e99c1f25"
      },
      "source": [
        "We have a tuple named tuple1 with elements (1, 2, 3).\n",
        "\n",
        "We have another tuple named tuple2 with elements (4, 5, 6).\n",
        "\n",
        "We use the + operator to concatenate tuple1 and tuple2 into a new tuple named concatenated_tuple.\n",
        "\n",
        "We print the concatenated tuple."
      ]
    },
    {
      "cell_type": "markdown",
      "id": "43d0e81d-ea93-44e0-b8f3-e5398a6b5d70",
      "metadata": {
        "id": "43d0e81d-ea93-44e0-b8f3-e5398a6b5d70"
      },
      "source": [
        "13. Repeat a tuple three times."
      ]
    },
    {
      "cell_type": "code",
      "execution_count": null,
      "id": "cc55e830-1a4b-49d3-9c54-798e020524b7",
      "metadata": {
        "id": "cc55e830-1a4b-49d3-9c54-798e020524b7",
        "outputId": "6b9268b5-1de2-4d84-9d7b-10cd7ec92e86"
      },
      "outputs": [
        {
          "name": "stdout",
          "output_type": "stream",
          "text": [
            "Repeated tuple: (45, 67, 43, 45, 67, 43, 45, 67, 43)\n"
          ]
        }
      ],
      "source": [
        "# Original tuple\n",
        "original_tuple = (45,67,43)\n",
        "\n",
        "# Repeat the tuple three times\n",
        "repeated_tuple = original_tuple * 3\n",
        "\n",
        "# Display the repeated tuple\n",
        "print(f\"Repeated tuple:\", repeated_tuple)\n"
      ]
    },
    {
      "cell_type": "markdown",
      "id": "903e9d47-9820-4450-a2a7-4a6dd176dcf9",
      "metadata": {
        "id": "903e9d47-9820-4450-a2a7-4a6dd176dcf9"
      },
      "source": [
        "We start with an original tuple named original_tuple with elements (1, 2, 3).\n",
        "\n",
        "We use the * operator to repeat the original tuple three times, creating a new tuple named repeated_tuple.\n",
        "\n",
        "We print the repeated tuple."
      ]
    },
    {
      "cell_type": "markdown",
      "id": "ed79a686-d8c8-4cfa-be4e-19b78754a744",
      "metadata": {
        "id": "ed79a686-d8c8-4cfa-be4e-19b78754a744"
      },
      "source": [
        "14. Check if a tuple is empty."
      ]
    },
    {
      "cell_type": "code",
      "execution_count": null,
      "id": "adc6e77d-956b-48ac-bc16-76eed11b4ab2",
      "metadata": {
        "id": "adc6e77d-956b-48ac-bc16-76eed11b4ab2",
        "outputId": "46e703b4-415b-49a4-ce61-62b96e448d84"
      },
      "outputs": [
        {
          "name": "stdout",
          "output_type": "stream",
          "text": [
            "The tuple is empty\n"
          ]
        }
      ],
      "source": [
        "# Exaple tuple\n",
        "my_tuple = ()\n",
        "\n",
        "# Check if the tuple is empty\n",
        "if not my_tuple:\n",
        "    print(\"The tuple is empty\")\n",
        "else:\n",
        "    print(\"The tuple is not empty\")\n"
      ]
    },
    {
      "cell_type": "markdown",
      "id": "32628e2d-21fa-4a6a-8284-3eb6a6f5806e",
      "metadata": {
        "id": "32628e2d-21fa-4a6a-8284-3eb6a6f5806e"
      },
      "source": [
        "We start with an example tuple named my_tuple that is empty.\n",
        "\n",
        "We use a conditional check (if not my_tuple) to determine if the tuple is empty. The not operator is used to check for negation.\n",
        "\n",
        "We print whether the tuple is empty or not based on the result of the conditional check."
      ]
    },
    {
      "cell_type": "markdown",
      "id": "2b361f63-3240-4664-bb0f-44c47b586bfb",
      "metadata": {
        "id": "2b361f63-3240-4664-bb0f-44c47b586bfb"
      },
      "source": [
        "15. Create a nested tuple."
      ]
    },
    {
      "cell_type": "code",
      "execution_count": null,
      "id": "69295c13-d8fe-4eb4-85e4-e78e1d0f92c7",
      "metadata": {
        "id": "69295c13-d8fe-4eb4-85e4-e78e1d0f92c7",
        "outputId": "18e89845-3e5a-4c19-d284-5b3671e97a7e"
      },
      "outputs": [
        {
          "name": "stdout",
          "output_type": "stream",
          "text": [
            "Nested tuple: ((1, 2, 3), ('a', 'b', 'c'), (True, False))\n"
          ]
        }
      ],
      "source": [
        "# Create a nested tuple\n",
        "nested_tuple = ((1, 2, 3), ('a', 'b', 'c'), (True, False))\n",
        "\n",
        "# Display the nested tuple\n",
        "print(\"Nested tuple:\",nested_tuple)"
      ]
    },
    {
      "cell_type": "markdown",
      "id": "36e327de-3646-4416-87ad-0a2cd7da0299",
      "metadata": {
        "id": "36e327de-3646-4416-87ad-0a2cd7da0299"
      },
      "source": [
        "We create a tuple named nested_tuple where each element is itself a tuple.\n",
        "Display the Result:\n",
        "\n",
        "We print the nested tuple."
      ]
    },
    {
      "cell_type": "markdown",
      "id": "b79e00b9-18e3-4309-983f-6dd8af7027fc",
      "metadata": {
        "id": "b79e00b9-18e3-4309-983f-6dd8af7027fc"
      },
      "source": [
        "16. Access the first element of a nested tuple."
      ]
    },
    {
      "cell_type": "code",
      "execution_count": null,
      "id": "ff8b3391-7fa1-46b5-a08e-c195e003701b",
      "metadata": {
        "id": "ff8b3391-7fa1-46b5-a08e-c195e003701b",
        "outputId": "d268527f-4b0b-4f2d-a4df-dfc60c95b37d"
      },
      "outputs": [
        {
          "name": "stdout",
          "output_type": "stream",
          "text": [
            "The first element of a nested tuple: (1, 2, 3)\n"
          ]
        }
      ],
      "source": [
        "# Nested tuple\n",
        "nested_tuple = ((1, 2, 3), ('a', 'b', 'c'), (True, False))\n",
        "\n",
        "# Access the first element of the nested tuple\n",
        "first_element = nested_tuple[0]\n",
        "\n",
        "# Display the first element\n",
        "print(\"The first element of a nested tuple:\",first_element)"
      ]
    },
    {
      "cell_type": "markdown",
      "id": "d7fa2369-46ce-4125-a329-561ccfd95cdc",
      "metadata": {
        "id": "d7fa2369-46ce-4125-a329-561ccfd95cdc"
      },
      "source": [
        "We have a nested tuple named nested_tuple containing three tuples as elements.\n",
        "\n",
        "We use indexing (nested_tuple[0]) to access the first element of the nested tuple. In this case, the first element is itself a tuple.\n",
        "\n",
        "We print the first element of the nested tuple."
      ]
    },
    {
      "cell_type": "markdown",
      "id": "abe1fa4d-d086-41d9-91ac-146fb982e6e4",
      "metadata": {
        "id": "abe1fa4d-d086-41d9-91ac-146fb982e6e4"
      },
      "source": [
        "17. Create a tuple with a single element."
      ]
    },
    {
      "cell_type": "code",
      "execution_count": null,
      "id": "ca03bf4b-6f08-4e7d-a111-38c2db0b0928",
      "metadata": {
        "id": "ca03bf4b-6f08-4e7d-a111-38c2db0b0928",
        "outputId": "777ac3ee-077f-407b-9d05-9199491f4961"
      },
      "outputs": [
        {
          "name": "stdout",
          "output_type": "stream",
          "text": [
            "Tuple with a single element: (78,)\n"
          ]
        }
      ],
      "source": [
        "# Tuple with a single element\n",
        "single_element_tuple = (78,)\n",
        "\n",
        "# Display the tuple\n",
        "print(\"Tuple with a single element:\",single_element_tuple)"
      ]
    },
    {
      "cell_type": "markdown",
      "id": "5200982b-40e8-4470-86c2-19d12a8fdcf3",
      "metadata": {
        "id": "5200982b-40e8-4470-86c2-19d12a8fdcf3"
      },
      "source": [
        "We create a tuple named single_element_tuple with a single element (78). The important part is the trailing comma after the element.\n",
        "\n",
        "We print the tuple with a single element."
      ]
    },
    {
      "cell_type": "markdown",
      "id": "6630b46f-a359-4856-8cef-2748b9396684",
      "metadata": {
        "id": "6630b46f-a359-4856-8cef-2748b9396684"
      },
      "source": [
        "18. Compare two tuples."
      ]
    },
    {
      "cell_type": "code",
      "execution_count": null,
      "id": "96a8c51b-a7c2-4531-a647-cd965ab72d7f",
      "metadata": {
        "id": "96a8c51b-a7c2-4531-a647-cd965ab72d7f",
        "outputId": "34766597-03ac-4a60-a4f6-7f056e885000"
      },
      "outputs": [
        {
          "name": "stdout",
          "output_type": "stream",
          "text": [
            "The tuples are equal.\n"
          ]
        }
      ],
      "source": [
        "# First tuple\n",
        "tuple1 = (94,67,87)\n",
        "\n",
        "# Second tuple\n",
        "tuple2 = (94,67,87)\n",
        "\n",
        "# Compare the tuples\n",
        "if tuple1 == tuple2:\n",
        "    print(\"The tuples are equal.\")\n",
        "else:\n",
        "    print(\"The tuples are not equal.\")\n",
        "\n",
        ""
      ]
    },
    {
      "cell_type": "markdown",
      "id": "dbabd386-c610-4092-8d1b-24870312c8d8",
      "metadata": {
        "id": "dbabd386-c610-4092-8d1b-24870312c8d8"
      },
      "source": [
        "We have a tuple named tuple1 with elements (94,67,87).\n",
        "Second Tuple:\n",
        "\n",
        "We have another tuple named tuple2 with the same elements (94,67,87).\n",
        "Compare Tuples:\n",
        "\n",
        "We use the == operator to check if the tuples are equal element-wise.\n",
        "Display the Result:\n",
        "\n",
        "We print whether the tuples are equal or not."
      ]
    },
    {
      "cell_type": "markdown",
      "id": "8391151c-711b-4e8f-9284-8298607b9124",
      "metadata": {
        "id": "8391151c-711b-4e8f-9284-8298607b9124"
      },
      "source": [
        "19. Delete a tuple."
      ]
    },
    {
      "cell_type": "code",
      "execution_count": null,
      "id": "83257696-a028-4522-bbb6-d19d27dff01b",
      "metadata": {
        "id": "83257696-a028-4522-bbb6-d19d27dff01b",
        "outputId": "8fb5adcb-f567-419f-8e56-704a480873df"
      },
      "outputs": [
        {
          "name": "stdout",
          "output_type": "stream",
          "text": [
            "Original tuple: (1, 2, 3, 4, 5)\n",
            "Error: name 'my_tuple' is not defined\n"
          ]
        }
      ],
      "source": [
        "# Example tuple\n",
        "my_tuple = (1, 2, 3, 4, 5)\n",
        "\n",
        "# Display the original tuple\n",
        "print(\"Original tuple:\", my_tuple)\n",
        "\n",
        "# Delete the entire tuple\n",
        "del my_tuple\n",
        "\n",
        "# Try to display the tuple after deletion (will result in an error)\n",
        "try:\n",
        "    print(\"After deletion:\", my_tuple)\n",
        "except NameError as e:\n",
        "    print(f\"Error: {e}\")\n"
      ]
    },
    {
      "cell_type": "markdown",
      "id": "bbcc790a-c7cd-4122-9a8c-cd58a71d0ba3",
      "metadata": {
        "id": "bbcc790a-c7cd-4122-9a8c-cd58a71d0ba3"
      },
      "source": [
        "We start with an example tuple named my_tuple.\n",
        "\n",
        "We print the original tuple before deletion.\n",
        "\n",
        "We use the del statement to delete the entire tuple.\n",
        "\n",
        "We attempt to print the tuple after deletion, but this will result in a NameError since the tuple no longer exists."
      ]
    },
    {
      "cell_type": "markdown",
      "id": "e0b166b4-7979-44c3-ab31-a2b6381da9c9",
      "metadata": {
        "id": "e0b166b4-7979-44c3-ab31-a2b6381da9c9"
      },
      "source": [
        "20. Slice a tuple."
      ]
    },
    {
      "cell_type": "code",
      "execution_count": null,
      "id": "ab42242e-b336-4d58-af7e-ef337973b4c7",
      "metadata": {
        "id": "ab42242e-b336-4d58-af7e-ef337973b4c7",
        "outputId": "2bbc877f-0bdf-4016-c5d1-ba53a5a9ab65"
      },
      "outputs": [
        {
          "name": "stdout",
          "output_type": "stream",
          "text": [
            "Sliced tuple: (2, 3, 4)\n"
          ]
        }
      ],
      "source": [
        "# Example tuple\n",
        "original_tuple = (1, 2, 3, 4, 5)\n",
        "\n",
        "# Slice the tuple to create a new tuple\n",
        "sliced_tuple = original_tuple[1:4]\n",
        "\n",
        "# Display the sliced tuple\n",
        "print(\"Sliced tuple:\", sliced_tuple)\n"
      ]
    },
    {
      "cell_type": "markdown",
      "id": "6868fecd-7c62-4ad8-b6f2-90fa8671b0c7",
      "metadata": {
        "id": "6868fecd-7c62-4ad8-b6f2-90fa8671b0c7"
      },
      "source": [
        "We start with an example tuple named original_tuple.\n",
        "\n",
        "We use the slice notation [1:4] to create a new tuple (sliced_tuple) containing elements from index 1 to 3 (exclusive).\n",
        "\n",
        "We print the new tuple created by slicing the original tuple."
      ]
    },
    {
      "cell_type": "markdown",
      "id": "23568119-0cae-4f3c-be0a-53ffc3ac2967",
      "metadata": {
        "id": "23568119-0cae-4f3c-be0a-53ffc3ac2967"
      },
      "source": [
        "21. Find the maximum value in a tuple."
      ]
    },
    {
      "cell_type": "code",
      "execution_count": null,
      "id": "341258dd-0c3a-4a5e-a19b-db89d82696b7",
      "metadata": {
        "id": "341258dd-0c3a-4a5e-a19b-db89d82696b7",
        "outputId": "80523830-2698-47be-893b-d1b5ddebac88"
      },
      "outputs": [
        {
          "name": "stdout",
          "output_type": "stream",
          "text": [
            "The maximum value in the tuple: 20\n"
          ]
        }
      ],
      "source": [
        "# Example tuple\n",
        "my_tuple = (10, 5, 8, 20, 15)\n",
        "\n",
        "# Find the maximum value in the tuple\n",
        "max_value = max(my_tuple)\n",
        "\n",
        "# Display the maximum value\n",
        "print(\"The maximum value in the tuple:\",max_value)"
      ]
    },
    {
      "cell_type": "markdown",
      "id": "ca82eaa7-05d5-4637-967c-1ce193d9879b",
      "metadata": {
        "id": "ca82eaa7-05d5-4637-967c-1ce193d9879b"
      },
      "source": [
        "We start with an example tuple named my_tuple.\n",
        "\n",
        "We use the max() function to find the maximum value in the tuple.\n",
        "\n",
        "We print the maximum value."
      ]
    },
    {
      "cell_type": "markdown",
      "id": "9eee5f17-84ad-4ffa-bcde-3ca3b82bca47",
      "metadata": {
        "id": "9eee5f17-84ad-4ffa-bcde-3ca3b82bca47"
      },
      "source": [
        "22. Find the minimum value in a tuple."
      ]
    },
    {
      "cell_type": "code",
      "execution_count": null,
      "id": "157420e2-11f7-4b4e-80e6-b1623866f5dd",
      "metadata": {
        "id": "157420e2-11f7-4b4e-80e6-b1623866f5dd",
        "outputId": "e8ddbde8-a647-4038-b12a-68cf0e5dd22b"
      },
      "outputs": [
        {
          "name": "stdout",
          "output_type": "stream",
          "text": [
            "The minimum value in the tuple: 5\n"
          ]
        }
      ],
      "source": [
        "# Example tuple\n",
        "my_tuple = (10, 5, 8, 20, 15)\n",
        "\n",
        "# Find the minimum value in the tuple\n",
        "min_value = min(my_tuple)\n",
        "\n",
        "# Diplay the minimum value\n",
        "print(\"The minimum value in the tuple:\",min_value)"
      ]
    },
    {
      "cell_type": "markdown",
      "id": "f9c419e4-2446-43eb-beac-ec478bce32c8",
      "metadata": {
        "id": "f9c419e4-2446-43eb-beac-ec478bce32c8"
      },
      "source": [
        "We start with an example tuple named my_tuple.\n",
        "\n",
        "We use the min() function to find the minimum value in the tuple.\n",
        "\n",
        "We print the minimum value."
      ]
    },
    {
      "cell_type": "markdown",
      "id": "2818f8c2-9b3e-45b6-a588-1fe252dd3b28",
      "metadata": {
        "id": "2818f8c2-9b3e-45b6-a588-1fe252dd3b28"
      },
      "source": [
        "23. Convert a string to a tuple of characters."
      ]
    },
    {
      "cell_type": "code",
      "execution_count": null,
      "id": "b0c02d98-1f35-45ef-a292-e8222a12b2b6",
      "metadata": {
        "id": "b0c02d98-1f35-45ef-a292-e8222a12b2b6",
        "outputId": "df9fc1bb-7cbb-4f19-dee7-cad7079e1d20"
      },
      "outputs": [
        {
          "name": "stdout",
          "output_type": "stream",
          "text": [
            "The tuple of characters: ('h', 'e', 'l', 'l', 'o')\n"
          ]
        }
      ],
      "source": [
        "# Example string\n",
        "my_string = \"hello\"\n",
        "\n",
        "# Convert the string to a tuple of characters\n",
        "tuple_of_characters = tuple(iter(my_string))\n",
        "\n",
        "# Display the tuple of characters\n",
        "print(\"The tuple of characters:\",tuple_of_characters)"
      ]
    },
    {
      "cell_type": "markdown",
      "id": "df52e792-d98c-448b-ac29-c727c9db4451",
      "metadata": {
        "id": "df52e792-d98c-448b-ac29-c727c9db4451"
      },
      "source": [
        "We start with an example string named my_string.\n",
        "\n",
        "We use the iter() function to create an iterator from the string, and then we use the tuple() constructor to convert the iterator to a tuple of characters.\n",
        "\n",
        "We print the tuple of characters."
      ]
    },
    {
      "cell_type": "markdown",
      "id": "5de9ca92-3c2c-4909-8065-86d2ff3713dc",
      "metadata": {
        "id": "5de9ca92-3c2c-4909-8065-86d2ff3713dc"
      },
      "source": [
        "24. Convert a tuple of characters to a string."
      ]
    },
    {
      "cell_type": "code",
      "execution_count": null,
      "id": "176377c3-721d-441e-adb1-c06dd386d428",
      "metadata": {
        "id": "176377c3-721d-441e-adb1-c06dd386d428",
        "outputId": "56b414a2-dd46-4df6-ef5a-a9b61bc8c097"
      },
      "outputs": [
        {
          "name": "stdout",
          "output_type": "stream",
          "text": [
            "Resulting string: hello\n"
          ]
        }
      ],
      "source": [
        "# Example tuple of characters\n",
        "tuple_of_characters = ('h', 'e', 'l', 'l', 'o')\n",
        "\n",
        "# Convert the tuple to a string\n",
        "resulting_string = ''.join(tuple_of_characters)\n",
        "\n",
        "# Display the resulting string\n",
        "print(\"Resulting string:\",resulting_string)"
      ]
    },
    {
      "cell_type": "markdown",
      "id": "b028fc82-2ac2-4222-a673-7a11963f4d8a",
      "metadata": {
        "id": "b028fc82-2ac2-4222-a673-7a11963f4d8a"
      },
      "source": [
        "We start with an example tuple of characters named tuple_of_characters.\n",
        "\n",
        "We use the join() method to concatenate the characters in the tuple into a string. The empty string '' is used as the separator.\n",
        "\n",
        "We print the resulting string."
      ]
    },
    {
      "cell_type": "markdown",
      "id": "371fd5ec-2617-4868-9d2a-ba4bc2d33351",
      "metadata": {
        "id": "371fd5ec-2617-4868-9d2a-ba4bc2d33351"
      },
      "source": [
        "25. Create a tuple from multiple data types."
      ]
    },
    {
      "cell_type": "code",
      "execution_count": null,
      "id": "0ff229db-fb92-49cd-b948-c10512035055",
      "metadata": {
        "id": "0ff229db-fb92-49cd-b948-c10512035055",
        "outputId": "80c02da3-f09a-4623-bcc3-aedbd3bac529"
      },
      "outputs": [
        {
          "name": "stdout",
          "output_type": "stream",
          "text": [
            "Mixed tuple: (1, 'hello', 3.14, True)\n"
          ]
        }
      ],
      "source": [
        "# Example tuple with multiple data types\n",
        "mixed_tuple = (1, 'hello', 3.14, True)\n",
        "\n",
        "# Display the mixed tuple\n",
        "print(\"Mixed tuple:\", mixed_tuple)\n"
      ]
    },
    {
      "cell_type": "markdown",
      "id": "faab90a1-f018-40cb-8723-890495684d3c",
      "metadata": {
        "id": "faab90a1-f018-40cb-8723-890495684d3c"
      },
      "source": [
        "We create an example tuple named mixed_tuple containing elements of different data types, including an integer, a string, a float, and a boolean.\n",
        "\n",
        "We print the mixed tuple."
      ]
    },
    {
      "cell_type": "markdown",
      "id": "deb053d9-32ce-46e9-9f4d-3c769684b87d",
      "metadata": {
        "id": "deb053d9-32ce-46e9-9f4d-3c769684b87d"
      },
      "source": [
        "26. Check if two tuples are identical."
      ]
    },
    {
      "cell_type": "code",
      "execution_count": null,
      "id": "ad5032b4-6559-4e33-8fac-338de1816827",
      "metadata": {
        "id": "ad5032b4-6559-4e33-8fac-338de1816827",
        "outputId": "6d5522b3-4db5-4078-dac2-20c6eeffb818"
      },
      "outputs": [
        {
          "name": "stdout",
          "output_type": "stream",
          "text": [
            "The tuples are identical.\n"
          ]
        }
      ],
      "source": [
        "# First tuple\n",
        "tuple1 = (1, 'hello', 3.14, True)\n",
        "\n",
        "# Second tuple\n",
        "tuple2 = (1, 'hello', 3.14, True)\n",
        "\n",
        "# Check if the tuples are identical\n",
        "if tuple1 == tuple2:\n",
        "    print(\"The tuples are identical.\")\n",
        "else:\n",
        "    print(\"The tuples are not identical.\")\n"
      ]
    },
    {
      "cell_type": "markdown",
      "id": "b93fed40-4d0b-405b-beb9-b6bac78f259e",
      "metadata": {
        "id": "b93fed40-4d0b-405b-beb9-b6bac78f259e"
      },
      "source": [
        "We have a tuple named tuple1 with elements of different data types.\n",
        "\n",
        "We have another tuple named tuple2 with the same elements.\n",
        "\n",
        "We use the == operator to check if the tuples are identical element-wise.\n",
        "\n",
        "We print whether the tuples are identical or not."
      ]
    },
    {
      "cell_type": "markdown",
      "id": "a31b1f09-3ade-45ef-9f23-92fd13f78478",
      "metadata": {
        "id": "a31b1f09-3ade-45ef-9f23-92fd13f78478"
      },
      "source": [
        "27. Sort the elements of a tuple."
      ]
    },
    {
      "cell_type": "code",
      "execution_count": null,
      "id": "a409961e-35ef-42c8-a537-3dfee597c3e8",
      "metadata": {
        "id": "a409961e-35ef-42c8-a537-3dfee597c3e8",
        "outputId": "21e36e4e-e606-49e6-b483-9b7723046c0d"
      },
      "outputs": [
        {
          "name": "stdout",
          "output_type": "stream",
          "text": [
            "Sorted tuple: (1, 2, 3, 5, 8)\n"
          ]
        }
      ],
      "source": [
        "# Example tuple\n",
        "my_tuple = (5, 2, 8, 1, 3)\n",
        "\n",
        "# Create a sorted list from the tuple elements\n",
        "sorted_list = sorted(my_tuple)\n",
        "\n",
        "# Convert the sorted list back to a tuple\n",
        "sorted_tuple = tuple(sorted_list)\n",
        "\n",
        "# Display the sorted tuple\n",
        "print(\"Sorted tuple:\", sorted_tuple)\n"
      ]
    },
    {
      "cell_type": "markdown",
      "id": "25211fec-1738-4749-8530-6d65938eab78",
      "metadata": {
        "id": "25211fec-1738-4749-8530-6d65938eab78"
      },
      "source": [
        "We start with an example tuple named my_tuple containing numeric elements.\n",
        "\n",
        "We use the sorted() function to create a sorted list from the elements of the tuple.\n",
        "\n",
        "We use the tuple() constructor to convert the sorted list back to a tuple.\n",
        "\n",
        "We print the sorted tuple."
      ]
    },
    {
      "cell_type": "markdown",
      "id": "b9006119-7b31-40fb-aeeb-8d001e795e71",
      "metadata": {
        "id": "b9006119-7b31-40fb-aeeb-8d001e795e71"
      },
      "source": [
        "28. Convert a tuple of integers to a tuple of strings."
      ]
    },
    {
      "cell_type": "code",
      "execution_count": null,
      "id": "6e1ffebf-5cc3-4150-9412-f37744995825",
      "metadata": {
        "id": "6e1ffebf-5cc3-4150-9412-f37744995825",
        "outputId": "007cd4e0-382e-45fa-835b-d08f99adf435"
      },
      "outputs": [
        {
          "name": "stdout",
          "output_type": "stream",
          "text": [
            "Tuple of strings: ('1', '2', '3', '4', '5')\n"
          ]
        }
      ],
      "source": [
        "# Example tuple of integers\n",
        "tuple_of_integers = (1, 2, 3, 4, 5)\n",
        "\n",
        "# Convert the tuple of integers to a tuple of strings using map()\n",
        "tuple_of_strings = tuple(map(str, tuple_of_integers))\n",
        "\n",
        "# Display the tuple of strings\n",
        "print(\"Tuple of strings:\", tuple_of_strings)\n"
      ]
    },
    {
      "cell_type": "markdown",
      "id": "aa13c077-ebb1-49ee-85d2-2fcad39bd02c",
      "metadata": {
        "id": "aa13c077-ebb1-49ee-85d2-2fcad39bd02c"
      },
      "source": [
        "We start with an example tuple named tuple_of_integers containing integer elements.\n",
        "\n",
        "We use the map() function to apply the str function to each element in the tuple, converting them to strings.\n",
        "\n",
        "We use the tuple() constructor to convert the resulting map object to a tuple.\n",
        "\n",
        "We print the tuple of strings."
      ]
    },
    {
      "cell_type": "markdown",
      "id": "41c0d9dc-7f49-4e68-9512-9abe6723781b",
      "metadata": {
        "id": "41c0d9dc-7f49-4e68-9512-9abe6723781b"
      },
      "source": [
        "29. Convert a tuple of strings to a tuple of integers."
      ]
    },
    {
      "cell_type": "code",
      "execution_count": null,
      "id": "24f8cc0c-66ac-444f-b257-306e812a6b41",
      "metadata": {
        "id": "24f8cc0c-66ac-444f-b257-306e812a6b41",
        "outputId": "bc0386bf-79b3-4232-cba6-b86b08cbdfbf"
      },
      "outputs": [
        {
          "name": "stdout",
          "output_type": "stream",
          "text": [
            "Tuple of integers: (1, 2, 3, 4, 5)\n"
          ]
        }
      ],
      "source": [
        "# Example tuple of strings\n",
        "tuple_of_strings = ('1', '2', '3', '4', '5')\n",
        "\n",
        "# Convert the tuple of strings to a tuple of integers using map()\n",
        "tuple_of_integers = tuple(map(int, tuple_of_strings))\n",
        "\n",
        "# Display the tuple of integers\n",
        "print(\"Tuple of integers:\", tuple_of_integers)\n"
      ]
    },
    {
      "cell_type": "markdown",
      "id": "d253277d-d8b5-477b-a9ed-bc3cc68a8dd3",
      "metadata": {
        "id": "d253277d-d8b5-477b-a9ed-bc3cc68a8dd3"
      },
      "source": [
        "We start with an example tuple named tuple_of_strings containing string elements.\n",
        "\n",
        "We use the map() function to apply the int function to each element in the tuple, converting them to integers.\n",
        "\n",
        "We use the tuple() constructor to convert the resulting map object to a tuple.\n",
        "\n",
        "We print the tuple of integers."
      ]
    },
    {
      "cell_type": "markdown",
      "id": "322d8620-a47b-4fb7-a5ae-6c9975ff649c",
      "metadata": {
        "id": "322d8620-a47b-4fb7-a5ae-6c9975ff649c"
      },
      "source": [
        "30. Merge two tuples."
      ]
    },
    {
      "cell_type": "code",
      "execution_count": null,
      "id": "32ad6abd-22d5-4e33-9376-147a3ae3efdc",
      "metadata": {
        "id": "32ad6abd-22d5-4e33-9376-147a3ae3efdc",
        "outputId": "31584a2c-11cd-4d79-ceeb-71da74752f2b"
      },
      "outputs": [
        {
          "name": "stdout",
          "output_type": "stream",
          "text": [
            "Merged tuple: (1, 2, 3, 'a', 'b', 'c')\n"
          ]
        }
      ],
      "source": [
        "# First tuple\n",
        "tuple1 = (1, 2, 3)\n",
        "\n",
        "# Second tuple\n",
        "tuple2 = ('a', 'b', 'c')\n",
        "\n",
        "# Merge the tuples using the + operator\n",
        "merged_tuple = tuple1 + tuple2\n",
        "\n",
        "# Display the merged tuple\n",
        "print(\"Merged tuple:\", merged_tuple)\n"
      ]
    },
    {
      "cell_type": "markdown",
      "id": "9bf582ea-fd87-4617-b145-42b5276328b7",
      "metadata": {
        "id": "9bf582ea-fd87-4617-b145-42b5276328b7"
      },
      "source": [
        "We have a tuple named tuple1 with numeric elements.\n",
        "\n",
        "We have another tuple named tuple2 with string elements.\n",
        "\n",
        "We use the + operator to concatenate tuple1 and tuple2 into a new tuple named merged_tuple.\n",
        "\n",
        "We print the merged tuple."
      ]
    },
    {
      "cell_type": "markdown",
      "id": "e763bd84-025a-4dbd-b07b-526c5cfedfb7",
      "metadata": {
        "id": "e763bd84-025a-4dbd-b07b-526c5cfedfb7"
      },
      "source": [
        "31. Flatten a nested tuple."
      ]
    },
    {
      "cell_type": "code",
      "execution_count": null,
      "id": "c7578b7d-c0d3-4e23-9d80-5e8111779a84",
      "metadata": {
        "id": "c7578b7d-c0d3-4e23-9d80-5e8111779a84",
        "outputId": "fe07da30-bce6-4167-c754-d682864b36fd"
      },
      "outputs": [
        {
          "name": "stdout",
          "output_type": "stream",
          "text": [
            "flattened tuple: (3, 'c', False, (True, False))\n"
          ]
        }
      ],
      "source": [
        "def flatten_tuple(nested_tuple):\n",
        "    flat_list = []\n",
        "    for item in nested_tuple:\n",
        "        if isinstance(item, tuple):\n",
        "            flat_list.extend(flatten_tuple(item))\n",
        "    else:\n",
        "        flat_list.append(item)\n",
        "    return flat_list\n",
        "\n",
        "# Example nested tuple\n",
        "nested_tuple = ((1, 2, 3), ('a', 'b', 'c'), (True, False))\n",
        "\n",
        "# Flatten the nested tuple\n",
        "flattened_tuple = tuple(flatten_tuple(nested_tuple))\n",
        "\n",
        "# Display the flattened tuple\n",
        "print(\"flattened tuple:\", flattened_tuple)\n",
        ""
      ]
    },
    {
      "cell_type": "markdown",
      "id": "d5f471ca-ad49-4dc9-924e-24440cb5d093",
      "metadata": {
        "id": "d5f471ca-ad49-4dc9-924e-24440cb5d093"
      },
      "source": [
        "We define a recursive function flatten_tuple that takes a tuple as input and flattens it.\n",
        "\n",
        "We have an example nested tuple named nested_tuple with inner tuples.\n",
        "\n",
        "We call the flatten_tuple function to flatten the nested tuple.\n",
        "\n",
        "We use the tuple() constructor to convert the flattened list back to a tuple.\n",
        "\n",
        "We print the flattened tuple."
      ]
    },
    {
      "cell_type": "markdown",
      "id": "d1119abc-25aa-4cfc-b124-58104336b404",
      "metadata": {
        "id": "d1119abc-25aa-4cfc-b124-58104336b404"
      },
      "source": [
        "32. Create a tuple of the first 5 prime numbers."
      ]
    },
    {
      "cell_type": "code",
      "execution_count": null,
      "id": "df6ec859-4440-4f8a-9b4e-52f36de45d36",
      "metadata": {
        "id": "df6ec859-4440-4f8a-9b4e-52f36de45d36",
        "outputId": "64874131-feea-4275-8f33-9a2d2336ccf4"
      },
      "outputs": [
        {
          "name": "stdout",
          "output_type": "stream",
          "text": [
            "Tuple of the first 5 prime numbers: (2, 3, 5, 7, 11)\n"
          ]
        }
      ],
      "source": [
        "# Manually create a tuple of the first 5 prime numbers\n",
        "prime_numbers_tuple = (2, 3, 5, 7, 11)\n",
        "\n",
        "# Display the tuple of prime numbers\n",
        "print(\"Tuple of the first 5 prime numbers:\", prime_numbers_tuple)\n"
      ]
    },
    {
      "cell_type": "markdown",
      "id": "ef624de0-a952-4772-9b53-d8a3fc577697",
      "metadata": {
        "id": "ef624de0-a952-4772-9b53-d8a3fc577697"
      },
      "source": [
        "To create a tuple of the first 5 prime numbers, We can manually specify the values or use a loop to generate them. Here we used manually specified tuple\n",
        "\n",
        "This result shows manually specifying the values."
      ]
    },
    {
      "cell_type": "markdown",
      "id": "50f7eb83-24fc-4b34-a216-e8757673af96",
      "metadata": {
        "id": "50f7eb83-24fc-4b34-a216-e8757673af96"
      },
      "source": [
        "33. Check if a tuple is a palindrome."
      ]
    },
    {
      "cell_type": "code",
      "execution_count": null,
      "id": "9d1a342b-f28c-49cc-8dbe-3ddfe8dabdc0",
      "metadata": {
        "id": "9d1a342b-f28c-49cc-8dbe-3ddfe8dabdc0",
        "outputId": "a59f79a8-3bd1-4189-c7ad-4774c794b140"
      },
      "outputs": [
        {
          "name": "stdout",
          "output_type": "stream",
          "text": [
            "Is palindrome: True\n",
            "Is palindrome: False\n"
          ]
        }
      ],
      "source": [
        "def is_palindrome(my_tuple):\n",
        "    return my_tuple == my_tuple[::-1]\n",
        "\n",
        "# Example tuples\n",
        "palindrome_tuple = (1,2,3,2,1)\n",
        "non_palindrome_tuple = (1,2,3,4,5)\n",
        "\n",
        "# Check if the tuples are palindromes\n",
        "print(\"Is palindrome:\", is_palindrome(palindrome_tuple))\n",
        "print(\"Is palindrome:\", is_palindrome(non_palindrome_tuple))\n"
      ]
    },
    {
      "cell_type": "markdown",
      "id": "2560a01c-8561-4018-bc4e-b7f80e533b51",
      "metadata": {
        "id": "2560a01c-8561-4018-bc4e-b7f80e533b51"
      },
      "source": [
        "We define a function is_palindrome that takes a tuple as input and returns True if it is a palindrome and False otherwise.\n",
        "\n",
        "We have two example tuples, palindrome_tuple and non_palindrome_tuple.\n",
        "\n",
        "We use the is_palindrome function to check if each tuple is a palindrome.\n",
        "\n",
        "We print whether each tuple is a palindrome."
      ]
    },
    {
      "cell_type": "markdown",
      "id": "b103f7da-1256-4152-95c0-438a9aeed945",
      "metadata": {
        "id": "b103f7da-1256-4152-95c0-438a9aeed945"
      },
      "source": [
        "34. Create a tuple of squares of numbers from 1 to 5."
      ]
    },
    {
      "cell_type": "code",
      "execution_count": null,
      "id": "5ab08ecc-b82e-4e39-a058-8120f55c2093",
      "metadata": {
        "id": "5ab08ecc-b82e-4e39-a058-8120f55c2093",
        "outputId": "07911f6e-c029-4938-ab86-c799e820791d"
      },
      "outputs": [
        {
          "name": "stdout",
          "output_type": "stream",
          "text": [
            "Tuple of squares: (1, 4, 9, 16, 25)\n"
          ]
        }
      ],
      "source": [
        "# Create a tuple of squares using a tuple comprehension\n",
        "squares_tuple = tuple(x**2 for x in range(1, 6))\n",
        "\n",
        "# Display the tuple of squares\n",
        "print(\"Tuple of squares:\", squares_tuple)\n"
      ]
    },
    {
      "cell_type": "markdown",
      "id": "daa2dd70-7118-40f0-82ae-64e3455a9122",
      "metadata": {
        "id": "daa2dd70-7118-40f0-82ae-64e3455a9122"
      },
      "source": [
        "We use a tuple comprehension to create a tuple of squares.\n",
        "\n",
        "We use range(1, 6) to generate numbers from 1 to 5 (inclusive).\n",
        "\n",
        "For each number in the range, we calculate its square using x**2.\n",
        "\n",
        "We use the tuple() constructor to convert the list of squares to a tuple.\n",
        "\n",
        "We print the tuple of squares."
      ]
    },
    {
      "cell_type": "markdown",
      "id": "65e50c7f-0e89-4643-b1ce-b200b79ee98d",
      "metadata": {
        "id": "65e50c7f-0e89-4643-b1ce-b200b79ee98d"
      },
      "source": [
        "35. Filter out all even numbers from a tuple."
      ]
    },
    {
      "cell_type": "code",
      "execution_count": null,
      "id": "374888d7-7cb3-48e4-b8bb-e89cec24f845",
      "metadata": {
        "id": "374888d7-7cb3-48e4-b8bb-e89cec24f845",
        "outputId": "6c7316fc-9ece-4ebb-f0f8-285f49488825"
      },
      "outputs": [
        {
          "name": "stdout",
          "output_type": "stream",
          "text": [
            "Filtered tuple: (1, 3, 5, 7, 9)\n"
          ]
        }
      ],
      "source": [
        "# Example tuple\n",
        "original_tuple = (1, 2, 3, 4, 5, 6, 7, 8, 9, 10)\n",
        "\n",
        "# Filter out even numbers using a tuple comprehension\n",
        "filtered_tuple = tuple(x for x in original_tuple if x % 2 != 0)\n",
        "\n",
        "# Display the filtered tuple\n",
        "print(\"Filtered tuple:\", filtered_tuple)\n"
      ]
    },
    {
      "cell_type": "markdown",
      "id": "c0579837-8b2e-4c8c-a806-aa2c10a17079",
      "metadata": {
        "id": "c0579837-8b2e-4c8c-a806-aa2c10a17079"
      },
      "source": [
        "We start with an example tuple named original_tuple containing integers.\n",
        "\n",
        "We use a tuple comprehension to create a new tuple (filtered_tuple) by including only the odd numbers from the original tuple.\n",
        "\n",
        "We print the filtered tuple."
      ]
    },
    {
      "cell_type": "markdown",
      "id": "aeeff249-abdd-4694-905b-ccc649e8be35",
      "metadata": {
        "id": "aeeff249-abdd-4694-905b-ccc649e8be35"
      },
      "source": [
        "36. Multiply all elements in a tuple by 2."
      ]
    },
    {
      "cell_type": "code",
      "execution_count": null,
      "id": "6512878e-59ad-4915-802d-9e95310936b8",
      "metadata": {
        "id": "6512878e-59ad-4915-802d-9e95310936b8",
        "outputId": "3de5d46e-589d-4fe0-f2f4-53e36113165d"
      },
      "outputs": [
        {
          "name": "stdout",
          "output_type": "stream",
          "text": [
            "Doubled tuple: (2, 4, 6, 8, 10)\n"
          ]
        }
      ],
      "source": [
        "# Example tuple\n",
        "original_tuple = (1, 2, 3, 4, 5)\n",
        "\n",
        "# Multiply all elements by 2 using a tuple comprehension\n",
        "doubled_tuple = tuple( x * 2 for x in original_tuple)\n",
        "\n",
        "# Display the doubled tuple\n",
        "print(\"Doubled tuple:\", doubled_tuple)"
      ]
    },
    {
      "cell_type": "markdown",
      "id": "4dd4fbe1-7764-478c-8417-d9b673c2753e",
      "metadata": {
        "id": "4dd4fbe1-7764-478c-8417-d9b673c2753e"
      },
      "source": [
        "We start with an example tuple named original_tuple containing integers.\n",
        "\n",
        "Using a tuple comprehension or the map() function, we multiply each element by 2.\n",
        "\n",
        "We print the doubled tuple."
      ]
    },
    {
      "cell_type": "markdown",
      "id": "85196f91-62aa-4a28-b09f-1e44471ce5a1",
      "metadata": {
        "id": "85196f91-62aa-4a28-b09f-1e44471ce5a1"
      },
      "source": [
        "37. Create a tuple of random numbers."
      ]
    },
    {
      "cell_type": "code",
      "execution_count": null,
      "id": "2982ec26-b715-42f2-9ef8-30f02cac2694",
      "metadata": {
        "id": "2982ec26-b715-42f2-9ef8-30f02cac2694",
        "outputId": "0719d56f-0b51-4203-a3f5-50e0af6891b5"
      },
      "outputs": [
        {
          "name": "stdout",
          "output_type": "stream",
          "text": [
            "Random tuple: (37, 48, 3, 97, 77)\n"
          ]
        }
      ],
      "source": [
        "import random\n",
        "\n",
        "# Generate a tuple of 5 random numbers between 1 and 100\n",
        "random_tuple = tuple(random.randint(1, 100) for _ in range(5))\n",
        "\n",
        "# Display the tuple of random numbers\n",
        "print(f\"Random tuple:\",random_tuple)"
      ]
    },
    {
      "cell_type": "markdown",
      "id": "5b316af8-4033-4157-a304-387dbb05af2f",
      "metadata": {
        "id": "5b316af8-4033-4157-a304-387dbb05af2f"
      },
      "source": [
        "We import the random module to access functions for generating random numbers.\n",
        "\n",
        "Using a tuple comprehension, we generate a tuple of 5 random numbers using random.randint(1, 100). Adjust the range or the number of elements as needed.\n",
        "\n",
        "We print the tuple of random numbers."
      ]
    },
    {
      "cell_type": "markdown",
      "id": "046a4038-170e-4e8f-b1e4-08267ff67d64",
      "metadata": {
        "id": "046a4038-170e-4e8f-b1e4-08267ff67d64"
      },
      "source": [
        "38. Check if a tuple is sorted."
      ]
    },
    {
      "cell_type": "code",
      "execution_count": null,
      "id": "6df1713a-8d47-45ac-85a6-7802e455ede8",
      "metadata": {
        "id": "6df1713a-8d47-45ac-85a6-7802e455ede8",
        "outputId": "7bc1e651-557a-45de-f37e-027aa9b80800"
      },
      "outputs": [
        {
          "name": "stdout",
          "output_type": "stream",
          "text": [
            "Is sorted: True\n",
            "Is sorted: False\n"
          ]
        }
      ],
      "source": [
        "# Function to check if a tuple is sorted\n",
        "def is_sorted(my_tuple):\n",
        "    return all(my_tuple[i] <= my_tuple[i+1] for i in range(len(my_tuple)-1))\n",
        "\n",
        "# Example tuples\n",
        "sorted_tuple = (1, 2, 3, 4, 5)\n",
        "unsorted_tuple = (3, 1, 4, 1, 5)\n",
        "\n",
        "# Check if the tuples are sorted\n",
        "print(\"Is sorted:\", is_sorted(sorted_tuple))\n",
        "print(\"Is sorted:\", is_sorted(unsorted_tuple))\n"
      ]
    },
    {
      "cell_type": "markdown",
      "id": "7730ddd5-6560-4c56-bb5e-bac0ae825bc8",
      "metadata": {
        "id": "7730ddd5-6560-4c56-bb5e-bac0ae825bc8"
      },
      "source": [
        "We define a function is_sorted that takes a tuple as input and returns True if it is sorted and False otherwise.\n",
        "\n",
        "We have two example tuples, sorted_tuple and unsorted_tuple.\n",
        "\n",
        "We use the is_sorted function to check if each tuple is sorted.\n",
        "\n",
        "We print whether each tuple is sorted."
      ]
    },
    {
      "cell_type": "markdown",
      "id": "3a6bcf30-712e-4335-81a1-99ffcddfb213",
      "metadata": {
        "id": "3a6bcf30-712e-4335-81a1-99ffcddfb213"
      },
      "source": [
        "39. Rotate a tuple to the left by `n` positions."
      ]
    },
    {
      "cell_type": "code",
      "execution_count": null,
      "id": "aa42b839-fcdb-4133-b390-6bd2dc69de77",
      "metadata": {
        "id": "aa42b839-fcdb-4133-b390-6bd2dc69de77",
        "outputId": "c07eb055-fe5c-4fad-fb44-77e86dae93e5"
      },
      "outputs": [
        {
          "name": "stdout",
          "output_type": "stream",
          "text": [
            "Rotated tuple: (3, 4, 5, 1, 2)\n"
          ]
        }
      ],
      "source": [
        "def rotate_left(my_tuple, n):\n",
        "    n = n % len(my_tuple)  # Ensure n is within the length of the tuple\n",
        "    return my_tuple[n:] + my_tuple[:n]\n",
        "\n",
        "# Example tuple\n",
        "original_tuple = (1, 2, 3, 4, 5)\n",
        "\n",
        "# Rotate the tuple to the left by 2 positions\n",
        "rotated_tuple = rotate_left(original_tuple, 2)\n",
        "\n",
        "# Display the rotated tuple\n",
        "print(\"Rotated tuple:\", rotated_tuple)\n",
        "\n",
        "\n"
      ]
    },
    {
      "cell_type": "markdown",
      "id": "2dd2cbac-a2f2-40e3-a51d-e06243661e1d",
      "metadata": {
        "id": "2dd2cbac-a2f2-40e3-a51d-e06243661e1d"
      },
      "source": [
        "We define a function rotate_left that takes a tuple and an integer n as input and rotates the tuple to the left by n positions.\n",
        "\n",
        "We use n % len(my_tuple) to ensure that n is within the length of the tuple. This is done to handle cases where n is larger than the length of the tuple.\n",
        "\n",
        "We use slicing to create a new tuple by concatenating the elements after position n with the elements before position n.\n",
        "\n",
        "We print the rotated tuple."
      ]
    },
    {
      "cell_type": "markdown",
      "id": "4c43f059-89e1-43dc-9502-66a98ce74d9c",
      "metadata": {
        "id": "4c43f059-89e1-43dc-9502-66a98ce74d9c"
      },
      "source": [
        "40. Rotate a tuple to the right by `n` positions."
      ]
    },
    {
      "cell_type": "code",
      "execution_count": null,
      "id": "547909b5-f266-4546-855e-63ab5c592f41",
      "metadata": {
        "id": "547909b5-f266-4546-855e-63ab5c592f41",
        "outputId": "1815ce8d-a7b8-4a73-89e8-0f5b156ba29b"
      },
      "outputs": [
        {
          "name": "stdout",
          "output_type": "stream",
          "text": [
            "Rotated tuple: (4, 5, 1, 2, 3)\n"
          ]
        }
      ],
      "source": [
        "def rotate_right(my_tuple, n):\n",
        "    n = n % len(my_tuple)  # Ensure n is within the length of the tuple\n",
        "    return my_tuple[-n:] + my_tuple[:-n]\n",
        "\n",
        "# Example tuple\n",
        "original_tuple = (1, 2, 3, 4, 5)\n",
        "\n",
        "# Rotate the tuple to the right by 2 positions\n",
        "rotated_tuple = rotate_right(original_tuple, 2)\n",
        "\n",
        "# Display the rotated tuple\n",
        "print(\"Rotated tuple:\", rotated_tuple)\n"
      ]
    },
    {
      "cell_type": "markdown",
      "id": "a56c59d6-1ab4-49b8-9926-1546f39dff44",
      "metadata": {
        "id": "a56c59d6-1ab4-49b8-9926-1546f39dff44"
      },
      "source": [
        "We define a function rotate_right that takes a tuple and an integer n as input and rotates the tuple to the right by n positions.\n",
        "\n",
        "We use n % len(my_tuple) to ensure that n is within the length of the tuple. This is done to handle cases where n is larger than the length of the tuple.\n",
        "\n",
        "We use slicing to create a new tuple by concatenating the elements after the position -n (equivalent to len(my_tuple) - n) with the elements before the position -n.\n",
        "\n",
        "We print the rotated tuple."
      ]
    },
    {
      "cell_type": "markdown",
      "id": "49eb09ac-a661-424d-8603-b6b117e44ae5",
      "metadata": {
        "id": "49eb09ac-a661-424d-8603-b6b117e44ae5"
      },
      "source": [
        "41. Create a tuple of the first 5 Fibonacci numbers."
      ]
    },
    {
      "cell_type": "code",
      "execution_count": null,
      "id": "6d5a6cef-3322-4253-b843-cf569b55c1ca",
      "metadata": {
        "id": "6d5a6cef-3322-4253-b843-cf569b55c1ca",
        "outputId": "3b680fca-7032-4bed-a892-31c2f15c1cc5"
      },
      "outputs": [
        {
          "name": "stdout",
          "output_type": "stream",
          "text": [
            "Fibonacci tuple: (0, 1, 1, 2, 3)\n"
          ]
        }
      ],
      "source": [
        "# Function to generate the first n Fibonacci numbers\n",
        "def generate_fibonacci(n):\n",
        "    fibonacci_sequence = [0, 1]\n",
        "    while len(fibonacci_sequence) < n:\n",
        "        next_number = fibonacci_sequence[-1] + fibonacci_sequence[-2]\n",
        "        fibonacci_sequence.append(next_number)\n",
        "    return tuple(fibonacci_sequence)\n",
        "\n",
        "# Generate a tuple of the first 5 Fibonacci numbers\n",
        "fibonacci_tuple = generate_fibonacci(5)\n",
        "\n",
        "# Display the tuple of Fibonacci numbers\n",
        "print(\"Fibonacci tuple:\", fibonacci_tuple)\n"
      ]
    },
    {
      "cell_type": "markdown",
      "id": "323f574a-289f-47d6-9433-74d063589eb8",
      "metadata": {
        "id": "323f574a-289f-47d6-9433-74d063589eb8"
      },
      "source": [
        "We define a function generate_fibonacci that takes an integer n as input and generates the first n Fibonacci numbers.\n",
        "\n",
        "We start with the initial Fibonacci sequence [0, 1].\n",
        "\n",
        "We use a loop to generate the Fibonacci sequence until its length reaches n.\n",
        "\n",
        "We use the tuple() constructor to convert the list of Fibonacci numbers to a tuple.\n",
        "\n",
        "We print the tuple of the first 5 Fibonacci numbers."
      ]
    },
    {
      "cell_type": "markdown",
      "id": "93e843a3-f06a-4449-9162-809e0b2b75ac",
      "metadata": {
        "id": "93e843a3-f06a-4449-9162-809e0b2b75ac"
      },
      "source": [
        "42. Create a tuple from user input."
      ]
    },
    {
      "cell_type": "code",
      "execution_count": null,
      "id": "129b75e1-4d04-41f6-aafb-8409fd3e43d9",
      "metadata": {
        "id": "129b75e1-4d04-41f6-aafb-8409fd3e43d9",
        "outputId": "014fd03a-f512-4a90-8501-dab6f2565788"
      },
      "outputs": [
        {
          "name": "stdin",
          "output_type": "stream",
          "text": [
            "Enter elements separated by commas:  1,2,78,90\n"
          ]
        },
        {
          "name": "stdout",
          "output_type": "stream",
          "text": [
            "User-created tuple: (1, 2, 78, 90)\n"
          ]
        }
      ],
      "source": [
        "# Get user input for a comma-separated list of elements\n",
        "user_input = input(\"Enter elements separated by commas: \")\n",
        "\n",
        "# Convert the input string into a tuple\n",
        "user_tuple = tuple(map(int, user_input.split(',')))\n",
        "\n",
        "# Display the user-created tuple\n",
        "print(\"User-created tuple:\", user_tuple)\n"
      ]
    },
    {
      "cell_type": "markdown",
      "id": "c5c79490-28c1-4a1b-99b4-fde3cb060d6d",
      "metadata": {
        "id": "c5c79490-28c1-4a1b-99b4-fde3cb060d6d"
      },
      "source": [
        "We use the input() function to get user input. The user is expected to enter a comma-separated list of elements.\n",
        "\n",
        "We use the split(',') method to split the input string into a list of elements using commas as separators.\n",
        "\n",
        "We use the map(int, ...) to convert each element to an integer.\n",
        "\n",
        "Finally, we use tuple() to create a tuple from the list of integers.\n",
        "\n",
        "We print the tuple created from the user's input."
      ]
    },
    {
      "cell_type": "markdown",
      "id": "e0ecfb6e-db18-44d1-b9e6-9a19771abea8",
      "metadata": {
        "id": "e0ecfb6e-db18-44d1-b9e6-9a19771abea8"
      },
      "source": [
        "43. Swap two elements in a tuple."
      ]
    },
    {
      "cell_type": "code",
      "execution_count": null,
      "id": "657c7344-8176-400d-9b04-137b9f98ed39",
      "metadata": {
        "id": "657c7344-8176-400d-9b04-137b9f98ed39",
        "outputId": "8328ce11-8aa0-4870-b98f-cdb4eed38e1e"
      },
      "outputs": [
        {
          "name": "stdout",
          "output_type": "stream",
          "text": [
            "Original tuple: (1, 2, 3, 4, 5)\n",
            "Swapped tuple: (1, 4, 3, 2, 5)\n"
          ]
        }
      ],
      "source": [
        "# Function to swap two elements in a tuple\n",
        "def swap_elements(my_tuple, index1, index2):\n",
        "    # Convert the tuple to a list to allow modification\n",
        "    mutable_list = list(my_tuple)\n",
        "\n",
        "    # Swap the elements at the specified indices\n",
        "    mutable_list[index1], mutable_list[index2] = mutable_list[index2], mutable_list[index1]\n",
        "\n",
        "    # Convert the list back to a tuple\n",
        "    new_tuple = tuple(mutable_list)\n",
        "\n",
        "    return new_tuple\n",
        "\n",
        "# Example tuple\n",
        "original_tuple = (1, 2, 3, 4, 5)\n",
        "\n",
        "# Swap elements at indices 1 and 3\n",
        "swapped_tuple = swap_elements(original_tuple, 1, 3)\n",
        "\n",
        "# Display the original and swapped tuples\n",
        "print(\"Original tuple:\", original_tuple)\n",
        "print(\"Swapped tuple:\", swapped_tuple)\n"
      ]
    },
    {
      "cell_type": "markdown",
      "id": "4974790c-07a2-4fc7-a7e0-909370195d1e",
      "metadata": {
        "id": "4974790c-07a2-4fc7-a7e0-909370195d1e"
      },
      "source": [
        "We define a function swap_elements that takes a tuple, and two indices as input and returns a new tuple with the elements at the specified indices swapped.\n",
        "\n",
        "We convert the input tuple to a list to allow modification.\n",
        "\n",
        "We swap the elements at the specified indices in the list.\n",
        "\n",
        "We convert the modified list back to a tuple.\n",
        "\n",
        "We print the original and swapped tuples."
      ]
    },
    {
      "cell_type": "markdown",
      "id": "250245ca-3a05-4f91-90b4-2fc0ec9444d6",
      "metadata": {
        "id": "250245ca-3a05-4f91-90b4-2fc0ec9444d6"
      },
      "source": [
        "44. Reverse the elements of a tuple."
      ]
    },
    {
      "cell_type": "code",
      "execution_count": null,
      "id": "492b6cb2-f6eb-4277-a910-0d89e7019369",
      "metadata": {
        "id": "492b6cb2-f6eb-4277-a910-0d89e7019369",
        "outputId": "f2cf2458-1fa1-46c3-aa28-316f1b24d8a7"
      },
      "outputs": [
        {
          "name": "stdout",
          "output_type": "stream",
          "text": [
            "Original tuple: (1, 2, 3, 4, 5)\n",
            "Reversed tuple: (5, 4, 3, 2, 1)\n"
          ]
        }
      ],
      "source": [
        "# Function to reverse the elements of a tuple\n",
        "def reverse_tuple(my_tuple):\n",
        "    return my_tuple[::-1]\n",
        "\n",
        "# Example tuple\n",
        "original_tuple = (1, 2, 3, 4, 5)\n",
        "\n",
        "# Reverse the elements of the tuple\n",
        "reversed_tuple = reverse_tuple(original_tuple)\n",
        "\n",
        "# Display the original and reversed tuples\n",
        "print(\"Original tuple:\", original_tuple)\n",
        "print(\"Reversed tuple:\", reversed_tuple)\n"
      ]
    },
    {
      "cell_type": "markdown",
      "id": "162dbb1f-8617-4708-822f-2d50a17422a0",
      "metadata": {
        "id": "162dbb1f-8617-4708-822f-2d50a17422a0"
      },
      "source": [
        "We define a function reverse_tuple that takes a tuple as input and returns a new tuple with its elements reversed using slicing.\n",
        "\n",
        "We use my_tuple[::-1] to create a new tuple with the elements in reverse order.\n",
        "\n",
        "We print the original and reversed tuples."
      ]
    },
    {
      "cell_type": "markdown",
      "id": "213c0109-1b9b-4ead-9156-83b43b74224e",
      "metadata": {
        "id": "213c0109-1b9b-4ead-9156-83b43b74224e"
      },
      "source": [
        "45. Create a tuple of the first `n` powers of 2."
      ]
    },
    {
      "cell_type": "code",
      "execution_count": null,
      "id": "087d7f5a-5df6-4c47-b15d-df5b9e99998b",
      "metadata": {
        "id": "087d7f5a-5df6-4c47-b15d-df5b9e99998b",
        "outputId": "161b2110-70a0-4094-ce98-5081d66ae32d"
      },
      "outputs": [
        {
          "name": "stdout",
          "output_type": "stream",
          "text": [
            "Powers of 2 tuple: (1, 2, 4, 8, 16)\n"
          ]
        }
      ],
      "source": [
        "# Function to generate the first n powers of 2\n",
        "def generate_powers_of_2(n):\n",
        "    return tuple(2 ** i for i in range(n))\n",
        "\n",
        "# Example: Generate the first 5 powers of 2\n",
        "powers_of_2_tuple = generate_powers_of_2(5)\n",
        "\n",
        "# Display the tuple of powers of 2\n",
        "print(\"Powers of 2 tuple:\", powers_of_2_tuple)\n"
      ]
    },
    {
      "cell_type": "markdown",
      "id": "d30fe311-93e3-479f-a200-f91dcf6b6e38",
      "metadata": {
        "id": "d30fe311-93e3-479f-a200-f91dcf6b6e38"
      },
      "source": [
        "We define a function generate_powers_of_2 that takes an integer n as input and generates the first n powers of 2.\n",
        "\n",
        "We use a list comprehension to generate the powers of 2 by iterating from 0 to n-1.\n",
        "\n",
        "We use the tuple() constructor to convert the list of powers of 2 to a tuple.\n",
        "\n",
        "We print the tuple of the first 5 powers of 2."
      ]
    },
    {
      "cell_type": "markdown",
      "id": "dca7d8ff-b9b5-4a3a-9439-a30738a0f7ca",
      "metadata": {
        "id": "dca7d8ff-b9b5-4a3a-9439-a30738a0f7ca"
      },
      "source": [
        "46. Find the longest string in a tuple of strings."
      ]
    },
    {
      "cell_type": "code",
      "execution_count": null,
      "id": "ec8263d0-1ba1-416c-890a-1867659cbeba",
      "metadata": {
        "id": "ec8263d0-1ba1-416c-890a-1867659cbeba",
        "outputId": "f1c22123-554d-4bd4-f756-3e0b9e565880"
      },
      "outputs": [
        {
          "name": "stdout",
          "output_type": "stream",
          "text": [
            "Original tuple: ('apple', 'banana', 'kiwi', 'strawberry', 'orange')\n",
            "Longest string: strawberry\n"
          ]
        }
      ],
      "source": [
        "# Function to find the longest string in a tuple\n",
        "def find_longest_string(string_tuple):\n",
        "    return max(string_tuple, key=len)\n",
        "\n",
        "# Example tuple of strings\n",
        "string_tuple = (\"apple\", \"banana\", \"kiwi\", \"strawberry\", \"orange\")\n",
        "\n",
        "# Find the longest string in the tuple\n",
        "longest_string = find_longest_string(string_tuple)\n",
        "\n",
        "# Display the original tuple and the longest string\n",
        "print(\"Original tuple:\", string_tuple)\n",
        "print(\"Longest string:\", longest_string)\n"
      ]
    },
    {
      "cell_type": "markdown",
      "id": "1ce80327-9071-4524-8903-107c1d6ee02f",
      "metadata": {
        "id": "1ce80327-9071-4524-8903-107c1d6ee02f"
      },
      "source": [
        "We define a function find_longest_string that takes a tuple of strings and uses the max() function with key=len to find the string with the maximum length.\n",
        "\n",
        "The max() function is used to find the maximum element in the tuple based on the length of each string (key=len).\n",
        "\n",
        "We print the original tuple of strings and the longest string."
      ]
    },
    {
      "cell_type": "markdown",
      "id": "b166cb03-f0d7-46f0-a466-911bae54c5d4",
      "metadata": {
        "id": "b166cb03-f0d7-46f0-a466-911bae54c5d4"
      },
      "source": [
        "47. Find the shortest string in a tuple of strings."
      ]
    },
    {
      "cell_type": "code",
      "execution_count": null,
      "id": "81c705d7-c7f2-4db9-9cbc-99515fa4b239",
      "metadata": {
        "id": "81c705d7-c7f2-4db9-9cbc-99515fa4b239",
        "outputId": "5f6998a5-de8b-4ea6-f4f0-382913c3487c"
      },
      "outputs": [
        {
          "name": "stdout",
          "output_type": "stream",
          "text": [
            "Original tuple: ('apple', 'banana', 'kiwi', 'strawberry', 'orange')\n",
            "Shortest string: kiwi\n"
          ]
        }
      ],
      "source": [
        "# Function to find the shortest string in a tuple\n",
        "def find_shortest_string(string_tuple):\n",
        "    return min(string_tuple, key=len)\n",
        "\n",
        "# Example tuple of strings\n",
        "string_tuple = (\"apple\", \"banana\", \"kiwi\", \"strawberry\", \"orange\")\n",
        "\n",
        "# Find the shortest string in the tuple\n",
        "shortest_string = find_shortest_string(string_tuple)\n",
        "\n",
        "# Display the original tuple and the shortest string\n",
        "print(\"Original tuple:\", string_tuple)\n",
        "print(\"Shortest string:\", shortest_string)\n"
      ]
    },
    {
      "cell_type": "markdown",
      "id": "a390b41f-3f37-42eb-8f38-799fa5aa38d9",
      "metadata": {
        "id": "a390b41f-3f37-42eb-8f38-799fa5aa38d9"
      },
      "source": [
        "We define a function find_shortest_string that takes a tuple of strings and uses the min() function with key=len to find the string with the minimum length.\n",
        "\n",
        "The min() function is used to find the minimum element in the tuple based on the length of each string (key=len).\n",
        "\n",
        "We print the original tuple of strings and the shortest string."
      ]
    },
    {
      "cell_type": "markdown",
      "id": "5e938023-5a0c-4360-a717-c86f5ad11ac5",
      "metadata": {
        "id": "5e938023-5a0c-4360-a717-c86f5ad11ac5"
      },
      "source": [
        "48. Create a tuple of the first `n` triangular numbers."
      ]
    },
    {
      "cell_type": "code",
      "execution_count": null,
      "id": "9bbdfca2-ff96-479f-8da0-df39f2a4eba6",
      "metadata": {
        "id": "9bbdfca2-ff96-479f-8da0-df39f2a4eba6",
        "outputId": "01ee0f45-4e7b-42f1-be8a-a726cdb1b550"
      },
      "outputs": [
        {
          "name": "stdout",
          "output_type": "stream",
          "text": [
            "Triangular numbers tuple: (1, 3, 6, 10, 15)\n"
          ]
        }
      ],
      "source": [
        "# Function to generate the first n triangular numbers\n",
        "def generate_triangular_numbers(n):\n",
        "    return tuple((i * (i + 1)) // 2 for i in range(1, n + 1))\n",
        "\n",
        "# Example: Generate the first 5 triangular numbers\n",
        "triangular_numbers_tuple = generate_triangular_numbers(5)\n",
        "\n",
        "# Display the tuple of triangular numbers\n",
        "print(\"Triangular numbers tuple:\", triangular_numbers_tuple)\n"
      ]
    },
    {
      "cell_type": "markdown",
      "id": "3264921e-4e56-48d9-9ebd-9bb602cb7ccb",
      "metadata": {
        "id": "3264921e-4e56-48d9-9ebd-9bb602cb7ccb"
      },
      "source": [
        "We define a function generate_triangular_numbers that takes an integer n as input and generates the first n triangular numbers.\n",
        "\n",
        "We use a list comprehension to generate the triangular numbers by iterating from 1 to n.\n",
        "\n",
        "We use the tuple() constructor to convert the list of triangular numbers to a tuple.\n",
        "\n",
        "We print the tuple of the first 5 triangular numbers."
      ]
    },
    {
      "cell_type": "markdown",
      "id": "a51fa5d5-38e0-4a91-a6fb-fdff8111b409",
      "metadata": {
        "id": "a51fa5d5-38e0-4a91-a6fb-fdff8111b409"
      },
      "source": [
        "49. Check if a tuple contains another tuple as a subsequence."
      ]
    },
    {
      "cell_type": "code",
      "execution_count": null,
      "id": "7efd4bfc-8cf6-4fc8-879a-26f288b581c3",
      "metadata": {
        "id": "7efd4bfc-8cf6-4fc8-879a-26f288b581c3",
        "outputId": "7587f37f-ccf5-45e8-ee5a-57feb509c974"
      },
      "outputs": [
        {
          "name": "stdout",
          "output_type": "stream",
          "text": [
            "Main tuple: (1, 2, 3, 4, 5, 6, 7, 8)\n",
            "Sub tuple: (3, 4, 5)\n",
            "Contains subsequence: True\n"
          ]
        }
      ],
      "source": [
        "# Function to check if a tuple contains another tuple as a subsequence\n",
        "def contains_subsequence(main_tuple, sub_tuple):\n",
        "    m, n = len(main_tuple), len(sub_tuple)\n",
        "\n",
        "    for i in range(m - n + 1):\n",
        "        if main_tuple[i:i + n] == sub_tuple:\n",
        "            return True\n",
        "\n",
        "    return False\n",
        "\n",
        "# Example tuples\n",
        "main_tuple = (1, 2, 3, 4, 5, 6, 7, 8)\n",
        "sub_tuple = (3, 4, 5)\n",
        "\n",
        "# Check if the main tuple contains the subsequence\n",
        "result = contains_subsequence(main_tuple, sub_tuple)\n",
        "\n",
        "# Display the result\n",
        "print(\"Main tuple:\", main_tuple)\n",
        "print(\"Sub tuple:\", sub_tuple)\n",
        "print(\"Contains subsequence:\", result)\n"
      ]
    },
    {
      "cell_type": "markdown",
      "id": "980135f5-d4eb-4bf9-8241-b4942c36621f",
      "metadata": {
        "id": "980135f5-d4eb-4bf9-8241-b4942c36621f"
      },
      "source": [
        "We define a function contains_subsequence that takes two tuples as input and checks if the first tuple contains the second tuple as a subsequence.\n",
        "\n",
        "We use a loop to iterate through the elements of the larger tuple (main_tuple) and check for a subsequence match with the smaller tuple (sub_tuple).\n",
        "\n",
        "We compare slices of the larger tuple to the smaller tuple to check for a subsequence match.\n",
        "\n",
        "We print the main tuple, sub tuple, and the result of whether the main tuple contains the subsequence."
      ]
    },
    {
      "cell_type": "markdown",
      "id": "1b1a7433-7535-4bf7-aaaa-fab84a88daf3",
      "metadata": {
        "id": "1b1a7433-7535-4bf7-aaaa-fab84a88daf3"
      },
      "source": [
        "50. Create a tuple of alternating 1s and 0s of length `n`."
      ]
    },
    {
      "cell_type": "code",
      "execution_count": null,
      "id": "f90cd403-5f9b-41d8-bd19-f90ae9ca7bec",
      "metadata": {
        "id": "f90cd403-5f9b-41d8-bd19-f90ae9ca7bec",
        "outputId": "244a1c5f-a485-4959-9775-fadffd624363"
      },
      "outputs": [
        {
          "name": "stdout",
          "output_type": "stream",
          "text": [
            "Alternating tuple: (0, 1, 0, 1, 0, 1, 0, 1)\n"
          ]
        }
      ],
      "source": [
        "# Function to create a tuple of alternating 1s and 0s\n",
        "def alternating_ones_zeros_tuple(n):\n",
        "    return tuple(i % 2 for i in range(n))\n",
        "\n",
        "# Example: Create a tuple of alternating 1s and 0s of length 8\n",
        "alternating_tuple = alternating_ones_zeros_tuple(8)\n",
        "\n",
        "# Display the tuple\n",
        "print(\"Alternating tuple:\", alternating_tuple)\n"
      ]
    },
    {
      "cell_type": "markdown",
      "id": "076f5ebc-a511-44f1-b337-a525a3543900",
      "metadata": {
        "id": "076f5ebc-a511-44f1-b337-a525a3543900"
      },
      "source": [
        "We define a function alternating_ones_zeros_tuple that takes an integer n as input and generates a tuple of alternating 1s and 0s.\n",
        "\n",
        "We use a list comprehension to generate the alternating sequence by using the modulo operator % to determine whether to insert 1 or 0.\n",
        "\n",
        "We use the tuple() constructor to convert the list of alternating 1s and 0s to a tuple.\n",
        "\n",
        "We print the tuple of alternating 1s and 0s."
      ]
    },
    {
      "cell_type": "markdown",
      "id": "7a00baba-affb-4c65-8534-cc7e246fb53c",
      "metadata": {
        "id": "7a00baba-affb-4c65-8534-cc7e246fb53c"
      },
      "source": [
        "Set Based Practice Problem :"
      ]
    },
    {
      "cell_type": "markdown",
      "id": "73fda170-06ad-42ff-b962-cf6afe8a3ad6",
      "metadata": {
        "id": "73fda170-06ad-42ff-b962-cf6afe8a3ad6"
      },
      "source": [
        "1. Create a set with integers from 1 to 5."
      ]
    },
    {
      "cell_type": "code",
      "execution_count": null,
      "id": "b48c1828-1495-45f2-9ef8-757191766192",
      "metadata": {
        "id": "b48c1828-1495-45f2-9ef8-757191766192",
        "outputId": "faf81027-a1ef-4cc4-95d0-7977861869c0"
      },
      "outputs": [
        {
          "name": "stdout",
          "output_type": "stream",
          "text": [
            "Set: {1, 2, 3, 4, 5, 6}\n"
          ]
        }
      ],
      "source": [
        "# Create a set with integers from 1 to 5 using curly braces\n",
        "my_set = {1,2,3,4,5,6}\n",
        "\n",
        "# Display set\n",
        "print(\"Set:\", my_set)"
      ]
    },
    {
      "cell_type": "markdown",
      "id": "9983a12e-5d06-4d42-8be3-cebe20042bf9",
      "metadata": {
        "id": "9983a12e-5d06-4d42-8be3-cebe20042bf9"
      },
      "source": [
        "We can use curly braces {} constructor.\n",
        "    \n",
        "Both approaches will result in the same set containing integers from 1 to 5."
      ]
    },
    {
      "cell_type": "markdown",
      "id": "a3bd3f49-43c2-4e4c-995b-79cbde6a7e5a",
      "metadata": {
        "id": "a3bd3f49-43c2-4e4c-995b-79cbde6a7e5a"
      },
      "source": [
        "2. Add an element to a set."
      ]
    },
    {
      "cell_type": "code",
      "execution_count": null,
      "id": "f2239947-32cd-4ba8-9128-2cfcdc63951d",
      "metadata": {
        "id": "f2239947-32cd-4ba8-9128-2cfcdc63951d",
        "outputId": "ca7004fe-d897-4f87-b354-232d776286b6"
      },
      "outputs": [
        {
          "name": "stdout",
          "output_type": "stream",
          "text": [
            "Updated Set: {546, 34, 5, 6, 854, 108}\n"
          ]
        }
      ],
      "source": [
        "# Create a set\n",
        "my_set = {5,6,854,546,34}\n",
        "\n",
        "# Add an element (e.g., 108) to the set using the add() method\n",
        "my_set.add(108)\n",
        "\n",
        "# Display the updated set\n",
        "print(\"Updated Set:\", my_set)"
      ]
    },
    {
      "cell_type": "markdown",
      "id": "1b5c15ce-2ab9-4ddd-b79f-fc2a55b94ae5",
      "metadata": {
        "id": "1b5c15ce-2ab9-4ddd-b79f-fc2a55b94ae5"
      },
      "source": [
        "To add an element to a set in Python, you can use the add() method.\n",
        "\n",
        "In this example, the add(108) method adds the element 108 to the set.\n",
        "\n"
      ]
    },
    {
      "cell_type": "markdown",
      "id": "9f681e9c-8413-4d0f-8eee-d8f6d5bc712f",
      "metadata": {
        "id": "9f681e9c-8413-4d0f-8eee-d8f6d5bc712f"
      },
      "source": [
        "3. Remove an element from a set."
      ]
    },
    {
      "cell_type": "code",
      "execution_count": null,
      "id": "4c3081c8-1217-49e1-a365-14d3a34a6ca6",
      "metadata": {
        "id": "4c3081c8-1217-49e1-a365-14d3a34a6ca6",
        "outputId": "a9f862db-9f95-4434-9bc8-84e25aff9305"
      },
      "outputs": [
        {
          "name": "stdout",
          "output_type": "stream",
          "text": [
            "Updated set: {87, 56, 92, 45}\n"
          ]
        }
      ],
      "source": [
        "# Create a set\n",
        "my_set = {56,26,87,92,45}\n",
        "\n",
        "# Remove an element (e.g., 26) from the set using the remove() method\n",
        "my_set.remove(26)\n",
        "\n",
        "# Display the updated set\n",
        "print(\"Updated set:\", my_set)"
      ]
    },
    {
      "cell_type": "markdown",
      "id": "79f58ae1-41ad-444a-b089-7232bca813a5",
      "metadata": {
        "id": "79f58ae1-41ad-444a-b089-7232bca813a5"
      },
      "source": [
        "To remove an element from a set, you can use the remove() method.\n",
        "\n",
        "In this example, the remove(26) method removes the element 3 from the set.\n",
        "\n",
        "It's important to note that if the specified element is not present in the set, the remove() method will raise a KeyError.\n",
        "\n"
      ]
    },
    {
      "cell_type": "markdown",
      "id": "468a51f3-3238-45df-9f7c-0b3f11662c18",
      "metadata": {
        "id": "468a51f3-3238-45df-9f7c-0b3f11662c18"
      },
      "source": [
        "4. Check if an element exists in a set."
      ]
    },
    {
      "cell_type": "code",
      "execution_count": null,
      "id": "2944adfc-44c0-4b41-be1a-a75046733c0c",
      "metadata": {
        "id": "2944adfc-44c0-4b41-be1a-a75046733c0c",
        "outputId": "748b32a8-e0c7-4d29-d077-0782e340c559"
      },
      "outputs": [
        {
          "name": "stdout",
          "output_type": "stream",
          "text": [
            "2 exists in the set.\n"
          ]
        }
      ],
      "source": [
        "# Create a set\n",
        "my_set = {74,84,12,2,67}\n",
        "\n",
        "# Check if an element (e.g., 3) exists in the set using the in operator\n",
        "element_to_check = 2\n",
        "if element_to_check in my_set:\n",
        "    print(f\"{element_to_check} exists in the set.\")\n",
        "else:\n",
        "    print(f\"{element_to_check} does not exists in the set.\")"
      ]
    },
    {
      "cell_type": "markdown",
      "id": "4236b03e-96ca-4be9-8be9-40f8fd1da27f",
      "metadata": {
        "id": "4236b03e-96ca-4be9-8be9-40f8fd1da27f"
      },
      "source": [
        "To check if an element exists in a set,we can use the in operator.\n",
        "\n",
        "The in operator is used to check if the element 3 exists in the set.\n",
        "\n"
      ]
    },
    {
      "cell_type": "markdown",
      "id": "a78cb912-6fd8-450b-b76a-597c4d306649",
      "metadata": {
        "id": "a78cb912-6fd8-450b-b76a-597c4d306649"
      },
      "source": [
        "5. Find the length of a set without using the `len()` function."
      ]
    },
    {
      "cell_type": "code",
      "execution_count": null,
      "id": "685e1a28-70a5-4ca1-9be6-b4669c50c59c",
      "metadata": {
        "id": "685e1a28-70a5-4ca1-9be6-b4669c50c59c",
        "outputId": "24c558ed-8bc0-49cc-a67c-3f35ad879846"
      },
      "outputs": [
        {
          "name": "stdout",
          "output_type": "stream",
          "text": [
            "Length of the set: 5\n"
          ]
        }
      ],
      "source": [
        "# Create a set\n",
        "my_set = {9,8,7,6,5}\n",
        "\n",
        "# Find the length of the set without using len()\n",
        "length = 0\n",
        "for _ in my_set:\n",
        "    length += 1\n",
        "\n",
        "# Display the length of the set\n",
        "print(\"Length of the set:\",length)\n"
      ]
    },
    {
      "cell_type": "markdown",
      "id": "b1767b7a-fb6e-4fb2-9261-9b6bad25e4e4",
      "metadata": {
        "id": "b1767b7a-fb6e-4fb2-9261-9b6bad25e4e4"
      },
      "source": [
        "To find the length of a set without using the len() function, we can use a loop to iterate through the set and count the number of elements.\n",
        "\n",
        "We use a loop to iterate through each element in the set, and for each element, we increment the length variable.\n",
        "\n",
        "After the loop, the length variable will contain the count of elements in the set.\n",
        "\n"
      ]
    },
    {
      "cell_type": "markdown",
      "id": "89497433-be8b-4313-970b-a59256de84c1",
      "metadata": {
        "id": "89497433-be8b-4313-970b-a59256de84c1"
      },
      "source": [
        "6. Clear all elements from a set."
      ]
    },
    {
      "cell_type": "code",
      "execution_count": null,
      "id": "3c97350f-72fd-474b-8f64-dbd6227a2243",
      "metadata": {
        "id": "3c97350f-72fd-474b-8f64-dbd6227a2243",
        "outputId": "76dd73c9-21e9-489e-b41b-756fb599cf0f"
      },
      "outputs": [
        {
          "name": "stdout",
          "output_type": "stream",
          "text": [
            "Updated set: set()\n"
          ]
        }
      ],
      "source": [
        "# Create a set\n",
        "my_set = {1, 2, 3, 4, 5}\n",
        "\n",
        "# Clear all elements from the set using the clear() method\n",
        "my_set.clear()\n",
        "\n",
        "# Display the updated set\n",
        "print(\"Updated set:\", my_set)"
      ]
    },
    {
      "cell_type": "markdown",
      "id": "74392487-18e8-49b4-a295-7b56ae690526",
      "metadata": {
        "id": "74392487-18e8-49b4-a295-7b56ae690526"
      },
      "source": [
        "To clear all elements from a set, we can use the clear() method.\n",
        "\n",
        "The clear() method is called on the set (my_set), which removes all elements from the set, leaving it empty.\n",
        "\n",
        "The set() in the output indicates that the set is now empty. Adjust the set variable name as needed for your specific case."
      ]
    },
    {
      "cell_type": "markdown",
      "id": "ce4e712d-a4cc-457c-acdd-b2b1565a7e8c",
      "metadata": {
        "id": "ce4e712d-a4cc-457c-acdd-b2b1565a7e8c"
      },
      "source": [
        "7. Create a set of even numbers from 1 to 10."
      ]
    },
    {
      "cell_type": "code",
      "execution_count": null,
      "id": "6102b9bc-95aa-4c1a-8c51-b45b00c04afe",
      "metadata": {
        "id": "6102b9bc-95aa-4c1a-8c51-b45b00c04afe",
        "outputId": "48299539-96ef-46c0-af82-f81895df67b8"
      },
      "outputs": [
        {
          "name": "stdout",
          "output_type": "stream",
          "text": [
            "Set of even numbers: {2, 4, 6, 8, 10}\n"
          ]
        }
      ],
      "source": [
        "# Create a set of even numbers from 1 to 10 using a set comprehension\n",
        "even_numbers_set = {x for x in range(1, 11) if x % 2 == 0}\n",
        "\n",
        "# Display the set\n",
        "print(\"Set of even numbers:\", even_numbers_set)\n"
      ]
    },
    {
      "cell_type": "markdown",
      "id": "cc0cfa3b-58bb-4207-994c-e430acc639a7",
      "metadata": {
        "id": "cc0cfa3b-58bb-4207-994c-e430acc639a7"
      },
      "source": [
        "To create a set of even numbers from 1 to 10, we can use a set comprehension.\n",
        "\n",
        "The set comprehension {x for x in range(1, 11) if x % 2 == 0} generates a set containing even numbers from 1 to 10.\n",
        "\n"
      ]
    },
    {
      "cell_type": "markdown",
      "id": "f49958b5-4c52-4c49-9a9b-0a21be364d84",
      "metadata": {
        "id": "f49958b5-4c52-4c49-9a9b-0a21be364d84"
      },
      "source": [
        "8. Create a set of odd numbers from 1 to 10."
      ]
    },
    {
      "cell_type": "code",
      "execution_count": null,
      "id": "8284ccf7-4947-49b3-a022-247b97eda5af",
      "metadata": {
        "id": "8284ccf7-4947-49b3-a022-247b97eda5af",
        "outputId": "0e0e730f-ae09-474f-fcae-314295fda346"
      },
      "outputs": [
        {
          "name": "stdout",
          "output_type": "stream",
          "text": [
            "Set of odd numbers: {1, 3, 5, 7, 9}\n"
          ]
        }
      ],
      "source": [
        "# Create a set of odd numbers from 1 to 10 using a set comprehension\n",
        "odd_numbers_set = {x for x in range(1, 11) if x % 2 != 0}\n",
        "\n",
        "# Display the set\n",
        "print(\"Set of odd numbers:\", odd_numbers_set)\n"
      ]
    },
    {
      "cell_type": "markdown",
      "id": "b68fbcc1-db65-4e4c-95ae-e587bc2ebbec",
      "metadata": {
        "id": "b68fbcc1-db65-4e4c-95ae-e587bc2ebbec"
      },
      "source": [
        "To create a set of odd numbers from 1 to 10, we can use a set comprehension.\n",
        "\n",
        "The set comprehension {x for x in range(1, 11) if x % 2 != 0} generates a set containing odd numbers from 1 to 10.\n",
        "\n"
      ]
    },
    {
      "cell_type": "markdown",
      "id": "2d7045a1-86db-42e6-bd26-5b64f9cdc7b1",
      "metadata": {
        "id": "2d7045a1-86db-42e6-bd26-5b64f9cdc7b1"
      },
      "source": [
        "9. Find the union of two sets."
      ]
    },
    {
      "cell_type": "code",
      "execution_count": null,
      "id": "3e9b1dd1-06bd-4911-902f-47ffd2a8f963",
      "metadata": {
        "id": "3e9b1dd1-06bd-4911-902f-47ffd2a8f963",
        "outputId": "a7869ff8-be4b-45b1-c12b-f4151360af78"
      },
      "outputs": [
        {
          "name": "stdout",
          "output_type": "stream",
          "text": [
            "Union set: {1, 2, 3, 4, 5, 6, 7, 8}\n"
          ]
        }
      ],
      "source": [
        "# Create two sets\n",
        "set1 = {1, 2, 3, 4, 5}\n",
        "set2 = {4, 5, 6, 7, 8}\n",
        "\n",
        "# Find the union of the two sets using the | operator\n",
        "union_set = set1 | set2\n",
        "\n",
        "# Display the union set\n",
        "print(\"Union set:\", union_set)\n",
        "\n"
      ]
    },
    {
      "cell_type": "markdown",
      "id": "d47e38dd-20e4-493f-810d-7f8ac70f7505",
      "metadata": {
        "id": "d47e38dd-20e4-493f-810d-7f8ac70f7505"
      },
      "source": [
        "To find the union of two sets,we can use the pipe operator.\n",
        "\n",
        "The union set contains all unique elements from both set1 and set2.\n"
      ]
    },
    {
      "cell_type": "markdown",
      "id": "868d77d8-cfd7-49b5-b458-db76f53b4bcc",
      "metadata": {
        "id": "868d77d8-cfd7-49b5-b458-db76f53b4bcc"
      },
      "source": [
        "10. Find the intersection of two sets."
      ]
    },
    {
      "cell_type": "code",
      "execution_count": null,
      "id": "93988018-2bcd-43ea-9323-da789ca91595",
      "metadata": {
        "id": "93988018-2bcd-43ea-9323-da789ca91595",
        "outputId": "30e6d372-4dd2-4a16-c110-dd1870eebc46"
      },
      "outputs": [
        {
          "name": "stdout",
          "output_type": "stream",
          "text": [
            "Intersection set: {4, 5}\n"
          ]
        }
      ],
      "source": [
        "# Create two sets\n",
        "set1 = {1, 2, 3, 4, 5}\n",
        "set2 = {4, 5, 6, 7, 8}\n",
        "\n",
        "# Find the intersection of the two sets using the & operator\n",
        "intersection_set = set1 & set2\n",
        "\n",
        "# Display the intersection set\n",
        "print(\"Intersection set:\", intersection_set)\n"
      ]
    },
    {
      "cell_type": "markdown",
      "id": "a4276aa6-09cc-4ed2-9623-29e9adb46ebd",
      "metadata": {
        "id": "a4276aa6-09cc-4ed2-9623-29e9adb46ebd"
      },
      "source": [
        "We can use the & (ampersand) operator.\n",
        "\n",
        "The intersection set contains the common elements between set1 and set2."
      ]
    },
    {
      "cell_type": "markdown",
      "id": "9c28573d-c57f-4e80-b7a2-be48ff72887c",
      "metadata": {
        "id": "9c28573d-c57f-4e80-b7a2-be48ff72887c"
      },
      "source": [
        "11. Find the difference between two sets."
      ]
    },
    {
      "cell_type": "code",
      "execution_count": null,
      "id": "68838ded-67c5-4dad-89d7-f8ed3b186f3b",
      "metadata": {
        "id": "68838ded-67c5-4dad-89d7-f8ed3b186f3b",
        "outputId": "71b5a8a6-5fae-4934-bd74-9168d59e0e02"
      },
      "outputs": [
        {
          "name": "stdout",
          "output_type": "stream",
          "text": [
            "Difference set: {1, 2, 3}\n"
          ]
        }
      ],
      "source": [
        "# Create two sets\n",
        "set1 = {1, 2, 3, 4, 5}\n",
        "set2 = {4, 5, 6, 7, 8}\n",
        "\n",
        "# Find the difference between set1 and set2 using the - operator\n",
        "difference_set = set1 - set2\n",
        "\n",
        "# Display the difference set\n",
        "print(\"Difference set:\", difference_set)\n"
      ]
    },
    {
      "cell_type": "markdown",
      "id": "39a899a0-48e8-4532-8312-871fffa4f073",
      "metadata": {
        "id": "39a899a0-48e8-4532-8312-871fffa4f073"
      },
      "source": [
        "We can use the - (minus) operator.\n",
        "\n",
        "The difference set contains elements that are in set1 but not in set2."
      ]
    },
    {
      "cell_type": "markdown",
      "id": "bc7791f9-64b3-4cf7-abbd-d7f8b3991083",
      "metadata": {
        "id": "bc7791f9-64b3-4cf7-abbd-d7f8b3991083"
      },
      "source": [
        "12. Check if a set is a subset of another set."
      ]
    },
    {
      "cell_type": "code",
      "execution_count": null,
      "id": "f8eae993-2918-4ed7-9a9d-ea341ea60da5",
      "metadata": {
        "id": "f8eae993-2918-4ed7-9a9d-ea341ea60da5",
        "outputId": "9bcce33d-bbeb-4861-becd-6fd801444928"
      },
      "outputs": [
        {
          "name": "stdout",
          "output_type": "stream",
          "text": [
            "Is set2 a subset of set1? True\n"
          ]
        }
      ],
      "source": [
        "# Create two sets\n",
        "set1 = {1, 2, 3, 4, 5}\n",
        "set2 = {1, 2, 3}\n",
        "\n",
        "# Check if set2 is a subset of set1 using the <= operator\n",
        "is_subset = set2 <= set1\n",
        "\n",
        "# Display the result\n",
        "print(f\"Is set2 a subset of set1? {is_subset}\")\n"
      ]
    },
    {
      "cell_type": "markdown",
      "id": "c62e3136-fa72-4406-8b55-18e840f023a9",
      "metadata": {
        "id": "c62e3136-fa72-4406-8b55-18e840f023a9"
      },
      "source": [
        "To check if a set is a subset of another set, we can use the <= (less than or equal to) operator.\n",
        "\n",
        "The result will be True because all elements of set2 are present in set1."
      ]
    },
    {
      "cell_type": "markdown",
      "id": "486af578-ec9f-475f-881b-49af7d3463af",
      "metadata": {
        "id": "486af578-ec9f-475f-881b-49af7d3463af"
      },
      "source": [
        "13. Check if a set is a superset of another set."
      ]
    },
    {
      "cell_type": "code",
      "execution_count": null,
      "id": "99d4f76f-4ea5-44f3-b4c7-f9b4cd040bbe",
      "metadata": {
        "id": "99d4f76f-4ea5-44f3-b4c7-f9b4cd040bbe",
        "outputId": "fc332f38-4ab7-4ed9-998e-370261c463eb"
      },
      "outputs": [
        {
          "name": "stdout",
          "output_type": "stream",
          "text": [
            "Is set1 a superset of set2? True\n"
          ]
        }
      ],
      "source": [
        "# Create two sets\n",
        "set1 = {1, 2, 3, 4, 5}\n",
        "set2 = {1, 2, 3}\n",
        "\n",
        "# Check if set1 is a superset of set2 using the >= operator\n",
        "is_superset = set1 >= set2\n",
        "\n",
        "# Display the result\n",
        "print(f\"Is set1 a superset of set2? {is_superset}\")\n"
      ]
    },
    {
      "cell_type": "markdown",
      "id": "e8716d02-3232-476f-8c28-0d7d6b925886",
      "metadata": {
        "id": "e8716d02-3232-476f-8c28-0d7d6b925886"
      },
      "source": [
        "To check if a set is a superset of another set, we can use the >= (greater than or equal to) operator.\n",
        "\n",
        "The result will be True because all elements of set2 are present in set1."
      ]
    },
    {
      "cell_type": "markdown",
      "id": "4c5fc007-6f86-4857-bd14-ceb2766d02af",
      "metadata": {
        "id": "4c5fc007-6f86-4857-bd14-ceb2766d02af"
      },
      "source": [
        "14. Create a set from a list."
      ]
    },
    {
      "cell_type": "code",
      "execution_count": null,
      "id": "2e90053a-f344-441d-ad55-265fd0fe1a7c",
      "metadata": {
        "id": "2e90053a-f344-441d-ad55-265fd0fe1a7c",
        "outputId": "7b385b7d-7c48-4881-8ac5-026507a76a47"
      },
      "outputs": [
        {
          "name": "stdout",
          "output_type": "stream",
          "text": [
            "Set from a list: {1, 2, 3, 4, 5}\n"
          ]
        }
      ],
      "source": [
        "# Create a list\n",
        "my_list = [1, 2, 3, 4, 5]\n",
        "\n",
        "# Create a set from the list using the set() constructor\n",
        "my_set = set(my_list)\n",
        "\n",
        "# Display the set\n",
        "print(\"Set from a list:\",my_set)"
      ]
    },
    {
      "cell_type": "markdown",
      "id": "4794a989-03f3-440a-a5bf-788bd78b23f8",
      "metadata": {
        "id": "4794a989-03f3-440a-a5bf-788bd78b23f8"
      },
      "source": [
        "To create a set from a list, we can use the set() constructor.\n",
        "\n",
        "The set(my_list) constructs a set containing the unique elements from the list my_list."
      ]
    },
    {
      "cell_type": "markdown",
      "id": "4a2da85f-562f-4a1f-b7d5-2b5ffc0696c2",
      "metadata": {
        "id": "4a2da85f-562f-4a1f-b7d5-2b5ffc0696c2"
      },
      "source": [
        "15. Convert a set to a list."
      ]
    },
    {
      "cell_type": "code",
      "execution_count": null,
      "id": "21cac370-428c-48a2-a652-8891a35a1dd0",
      "metadata": {
        "id": "21cac370-428c-48a2-a652-8891a35a1dd0",
        "outputId": "0930a8c2-834f-4fa5-d1d7-f7f99aec21c5"
      },
      "outputs": [
        {
          "name": "stdout",
          "output_type": "stream",
          "text": [
            "List from set: [1, 2, 3, 4, 5]\n"
          ]
        }
      ],
      "source": [
        "# Create a set\n",
        "my_set = {1, 2, 3, 4, 5}\n",
        "\n",
        "# Convert the set to a list using the list() constructor\n",
        "my_list = list(my_set)\n",
        "\n",
        "# Display the list\n",
        "print(\"List from set:\",my_list)"
      ]
    },
    {
      "cell_type": "markdown",
      "id": "fd50101e-031d-41ee-8d36-04b1dc6d1511",
      "metadata": {
        "id": "fd50101e-031d-41ee-8d36-04b1dc6d1511"
      },
      "source": [
        "To convert a set to a list in Python, you can use the list() constructor.\n",
        "\n",
        "The list(my_set) constructs a list containing the elements of the set my_set.\n",
        "\n"
      ]
    },
    {
      "cell_type": "markdown",
      "id": "a36750ec-b3a5-41e7-8c82-e20588382eed",
      "metadata": {
        "id": "a36750ec-b3a5-41e7-8c82-e20588382eed"
      },
      "source": [
        "16. Remove a random element from a set."
      ]
    },
    {
      "cell_type": "code",
      "execution_count": null,
      "id": "9429f467-5613-4b7e-8da5-22e3c684feca",
      "metadata": {
        "id": "9429f467-5613-4b7e-8da5-22e3c684feca",
        "outputId": "2d132d8c-c736-484a-9d72-d65506314101"
      },
      "outputs": [
        {
          "name": "stdout",
          "output_type": "stream",
          "text": [
            "Removed Element: 1\n",
            "Updated Set: {2, 3, 4, 5}\n"
          ]
        }
      ],
      "source": [
        "# Create a set\n",
        "my_set = {1, 2, 3, 4, 5}\n",
        "\n",
        "# Remove a random element from the set using the pop() method\n",
        "removed_element = my_set.pop()\n",
        "\n",
        "# Display the removed element and the updated set\n",
        "print(\"Removed Element:\", removed_element)\n",
        "print(\"Updated Set:\", my_set)\n"
      ]
    },
    {
      "cell_type": "markdown",
      "id": "9a3f2769-907d-4c41-b9af-41525fb12af6",
      "metadata": {
        "id": "9a3f2769-907d-4c41-b9af-41525fb12af6"
      },
      "source": [
        "To remove a random element from a set, we can use the pop() method.\n",
        "\n",
        "The pop() method removes and returns an arbitrary (random) element from the set.\n",
        "\n",
        "The pop() method is used to remove a random element from the set my_set.\n",
        "\n",
        "If the set is empty, calling pop() will raise a KeyError. Ensure that the set is not empty before using pop()."
      ]
    },
    {
      "cell_type": "markdown",
      "id": "87b62944-b87c-436c-804c-01c260d717a8",
      "metadata": {
        "id": "87b62944-b87c-436c-804c-01c260d717a8"
      },
      "source": [
        "17. Pop an element from a set."
      ]
    },
    {
      "cell_type": "code",
      "execution_count": null,
      "id": "7ffefcdd-95ce-4cd5-af33-408928099251",
      "metadata": {
        "id": "7ffefcdd-95ce-4cd5-af33-408928099251",
        "outputId": "a180ce71-df92-4a56-a028-76a0848dc31b"
      },
      "outputs": [
        {
          "name": "stdout",
          "output_type": "stream",
          "text": [
            "Popped Element: 1\n",
            "Updated Set: {2, 3, 4, 5}\n"
          ]
        }
      ],
      "source": [
        "# Create a set\n",
        "my_set = {1, 2, 3, 4, 5}\n",
        "\n",
        "# Pop an element from the set using the pop() method\n",
        "popped_element = my_set.pop()\n",
        "\n",
        "# Display the popped element and the updated set\n",
        "print(\"Popped Element:\", popped_element)\n",
        "print(\"Updated Set:\", my_set)\n"
      ]
    },
    {
      "cell_type": "markdown",
      "id": "aaac1da9-644d-4cb1-a56e-c2e7d3f71d87",
      "metadata": {
        "id": "aaac1da9-644d-4cb1-a56e-c2e7d3f71d87"
      },
      "source": [
        "To pop an element from a set, we can use the pop() method. The pop() method removes and returns an arbitrary (random) element from the set.\n",
        "\n",
        "The pop() method is used to pop an arbitrary element from the set my_set.\n",
        "\n",
        "If the set is empty, calling pop() will raise a KeyError. Ensure that the set is not empty before using pop()."
      ]
    },
    {
      "cell_type": "markdown",
      "id": "62216839-426c-45b7-92b6-b38cc9b6d1ad",
      "metadata": {
        "id": "62216839-426c-45b7-92b6-b38cc9b6d1ad"
      },
      "source": [
        "18. Check if two sets have no elements in common."
      ]
    },
    {
      "cell_type": "code",
      "execution_count": null,
      "id": "563ed627-9013-4f3b-b1cb-9e309e52cfb2",
      "metadata": {
        "id": "563ed627-9013-4f3b-b1cb-9e309e52cfb2",
        "outputId": "bd8f65d3-50c2-449b-aa26-f7026ce166d8"
      },
      "outputs": [
        {
          "name": "stdout",
          "output_type": "stream",
          "text": [
            "Are the sets disjoint? True\n"
          ]
        }
      ],
      "source": [
        "# Create two sets\n",
        "set1 = {1, 2, 3, 4, 5}\n",
        "set2 = {6, 7, 8, 9, 10}\n",
        "\n",
        "# Check if the sets have no elements in common using isdisjoint()\n",
        "are_disjoint = set1.isdisjoint(set2)\n",
        "\n",
        "# Display the result\n",
        "print(f\"Are the sets disjoint? {are_disjoint}\")"
      ]
    },
    {
      "cell_type": "markdown",
      "id": "5aa5c276-33f7-4b5e-988e-a4bdb1cf1adc",
      "metadata": {
        "id": "5aa5c276-33f7-4b5e-988e-a4bdb1cf1adc"
      },
      "source": [
        "To check if two sets have no elements in common, we can use the isdisjoint() method.\n",
        "\n",
        "The isdisjoint() method returns True if two sets have no elements in common and False otherwise.\n",
        "\n",
        "This means that the sets have no elements in common. If the result were False, it would indicate that the sets have at least one element in common."
      ]
    },
    {
      "cell_type": "markdown",
      "id": "29bb25cd-4f5a-4ca1-8374-7afd5bfae204",
      "metadata": {
        "id": "29bb25cd-4f5a-4ca1-8374-7afd5bfae204"
      },
      "source": [
        "19. Find the symmetric difference between two sets."
      ]
    },
    {
      "cell_type": "code",
      "execution_count": null,
      "id": "346f3f63-7bbc-4bd6-955c-1b459e735798",
      "metadata": {
        "id": "346f3f63-7bbc-4bd6-955c-1b459e735798",
        "outputId": "1f2095f9-9904-427e-986f-cf2e56204b66"
      },
      "outputs": [
        {
          "name": "stdout",
          "output_type": "stream",
          "text": [
            "Symmetric Difference set: {1, 2, 3, 6, 7, 8}\n"
          ]
        }
      ],
      "source": [
        "# Create two sets\n",
        "set1 = {1, 2, 3, 4, 5}\n",
        "set2 = {4, 5, 6, 7, 8}\n",
        "\n",
        "# Find the symmetric difference between set1 and set2 using the ^ operator\n",
        "symmetric_difference_set = set1 ^ set2\n",
        "\n",
        "# Display the symmetric difference set\n",
        "print(\"Symmetric Difference set:\", symmetric_difference_set)\n"
      ]
    },
    {
      "cell_type": "markdown",
      "id": "2abc8f80-981f-4863-aba9-d792acfe3d25",
      "metadata": {
        "id": "2abc8f80-981f-4863-aba9-d792acfe3d25"
      },
      "source": [
        "To find the symmetric difference between two sets, we can use the ^ (caret) operator.\n",
        "\n",
        "The symmetric difference set contains elements that are in either set1 or set2, but not in both."
      ]
    },
    {
      "cell_type": "markdown",
      "id": "fdbcf0ed-de64-4d53-a8b9-d4da9c2cf7df",
      "metadata": {
        "id": "fdbcf0ed-de64-4d53-a8b9-d4da9c2cf7df"
      },
      "source": [
        "20. Update a set with elements from another set."
      ]
    },
    {
      "cell_type": "code",
      "execution_count": null,
      "id": "d72b6e84-ad16-4d04-a575-197c7185ec3b",
      "metadata": {
        "id": "d72b6e84-ad16-4d04-a575-197c7185ec3b",
        "outputId": "61a7d843-d8d7-4b68-c1be-d94bcb9cfffd"
      },
      "outputs": [
        {
          "name": "stdout",
          "output_type": "stream",
          "text": [
            "Updated Set1: {1, 2, 3, 4, 5}\n"
          ]
        }
      ],
      "source": [
        "# Create two sets\n",
        "set1 = {1, 2, 3}\n",
        "set2 = {3, 4, 5}\n",
        "\n",
        "# Update set1 with elements from set2 using the update() method\n",
        "set1.update(set2)\n",
        "\n",
        "# Display the updated set1\n",
        "print(\"Updated Set1:\", set1)\n"
      ]
    },
    {
      "cell_type": "markdown",
      "id": "61206352-dfef-4875-9fb4-0410f03baec8",
      "metadata": {
        "id": "61206352-dfef-4875-9fb4-0410f03baec8"
      },
      "source": [
        "21. Create a set of the first 5 prime numbers."
      ]
    },
    {
      "cell_type": "code",
      "execution_count": null,
      "id": "9d87ab69-9f0c-49bf-8c9f-f60309251a90",
      "metadata": {
        "id": "9d87ab69-9f0c-49bf-8c9f-f60309251a90",
        "outputId": "ae487667-8e54-453d-ac62-f4f736972051"
      },
      "outputs": [
        {
          "name": "stdout",
          "output_type": "stream",
          "text": [
            "{2, 3, 5, 7, 11}\n"
          ]
        }
      ],
      "source": [
        "# Function to check if a number is prime\n",
        "def is_prime(n):\n",
        "    if n < 2:\n",
        "        return False\n",
        "    for i in range(2, int(n**0.5) + 1):\n",
        "        if n % i == 0:\n",
        "            return False\n",
        "    return True\n",
        "\n",
        "# Find the first 5 prime numbers\n",
        "first_5_primes = set()\n",
        "number = 2  # Start with the first prime number\n",
        "while len(first_5_primes) < 5:\n",
        "    if is_prime(number):\n",
        "        first_5_primes.add(number)\n",
        "    number += 1\n",
        "\n",
        "# Print the set of the first 5 prime numbers\n",
        "print(first_5_primes)\n"
      ]
    },
    {
      "cell_type": "markdown",
      "id": "fc1cbb87-19a5-4f4d-ad97-68f8745806e8",
      "metadata": {
        "id": "fc1cbb87-19a5-4f4d-ad97-68f8745806e8"
      },
      "source": [
        "This code defines a function is_prime to check if a given number is prime.\n",
        "\n",
        "It then iterates through numbers, starting from 2, and adds them to the set first_5_primes if they are prime.\n",
        "\n",
        "The loop continues until the set has 5 prime numbers. Finally, it prints the set of the first 5 prime numbers."
      ]
    },
    {
      "cell_type": "markdown",
      "id": "c28f6bc1-11c6-4c81-8d44-1996f273a607",
      "metadata": {
        "id": "c28f6bc1-11c6-4c81-8d44-1996f273a607"
      },
      "source": [
        "22. Check if two sets are identical."
      ]
    },
    {
      "cell_type": "code",
      "execution_count": null,
      "id": "97beaedf-5283-4b0b-baff-14540a8b0736",
      "metadata": {
        "id": "97beaedf-5283-4b0b-baff-14540a8b0736",
        "outputId": "c7dce9f8-975d-4ee2-f7da-554065ca592b"
      },
      "outputs": [
        {
          "name": "stdout",
          "output_type": "stream",
          "text": [
            "The sets are identical.\n"
          ]
        }
      ],
      "source": [
        "# Example sets\n",
        "set1 = {1, 2, 3, 4, 5}\n",
        "set2 = {5, 4, 3, 2, 1}\n",
        "\n",
        "# Using the == operator\n",
        "if set1 == set2:\n",
        "    print(\"The sets are identical.\")\n",
        "else:\n",
        "    print(\"The sets are not identical.\")\n",
        "\n",
        "\n"
      ]
    },
    {
      "cell_type": "markdown",
      "id": "34a4830c-8b03-4c92-878f-b3241bbe9b1c",
      "metadata": {
        "id": "34a4830c-8b03-4c92-878f-b3241bbe9b1c"
      },
      "source": [
        "set1 and set2 contain the same elements, but they are in a different order.\n",
        "\n",
        "The == operator checks if the sets have the same elements, regardless of their order.\n",
        "\n",
        "Approaches will output \"The sets are identical\" for the provided sets."
      ]
    },
    {
      "cell_type": "markdown",
      "id": "d1cdeac2-20d5-41c7-8a07-0c25964d7283",
      "metadata": {
        "id": "d1cdeac2-20d5-41c7-8a07-0c25964d7283"
      },
      "source": [
        "23. Create a frozen set."
      ]
    },
    {
      "cell_type": "code",
      "execution_count": null,
      "id": "63bd4fe0-1c16-4a94-8bac-842e53753999",
      "metadata": {
        "id": "63bd4fe0-1c16-4a94-8bac-842e53753999",
        "outputId": "96745c72-5114-47bf-9198-375645275263"
      },
      "outputs": [
        {
          "name": "stdout",
          "output_type": "stream",
          "text": [
            "Original set: {1, 2, 3, 4, 5}\n",
            "Frozen set: frozenset({1, 2, 3, 4, 5})\n"
          ]
        }
      ],
      "source": [
        "# Create a regular set\n",
        "my_set = {1, 2, 3, 4, 5}\n",
        "\n",
        "# Create a frozen set\n",
        "my_frozen_set = frozenset(my_set)\n",
        "\n",
        "# Print the original set and the frozen set\n",
        "print(\"Original set:\", my_set)\n",
        "print(\"Frozen set:\", my_frozen_set)\n"
      ]
    },
    {
      "cell_type": "markdown",
      "id": "369d8fb6-dfb4-4e4d-b9e1-3a884988fe96",
      "metadata": {
        "id": "369d8fb6-dfb4-4e4d-b9e1-3a884988fe96"
      },
      "source": [
        "my_set is a regular set, and my_frozen_set is a frozen set created using frozenset(my_set).\n",
        "\n",
        "Remember that while regular sets are mutable (you can add or remove elements), frozen sets are immutable.\n",
        "\n",
        "Once a frozen set is created, you cannot modify it by adding or removing elements."
      ]
    },
    {
      "cell_type": "markdown",
      "id": "cb89b421-877e-4ca8-a881-934c498877cf",
      "metadata": {
        "id": "cb89b421-877e-4ca8-a881-934c498877cf"
      },
      "source": [
        "24. Check if a set is disjoint with another set."
      ]
    },
    {
      "cell_type": "code",
      "execution_count": null,
      "id": "1a9a1b55-f615-4827-89e3-474528a748ab",
      "metadata": {
        "id": "1a9a1b55-f615-4827-89e3-474528a748ab",
        "outputId": "47a7b7e0-2a88-492a-fe47-bfb8d7efa166"
      },
      "outputs": [
        {
          "name": "stdout",
          "output_type": "stream",
          "text": [
            "The sets are disjoint.\n"
          ]
        }
      ],
      "source": [
        "# Example sets\n",
        "set1 = {1, 2, 3, 4, 5}\n",
        "set2 = {6, 7, 8, 9, 10}\n",
        "\n",
        "# Check if the sets are disjoint\n",
        "if set1.isdisjoint(set2):\n",
        "    print(\"The sets are disjoint.\")\n",
        "else:\n",
        "    print(\"The sets have common elements.\")\n"
      ]
    },
    {
      "cell_type": "markdown",
      "id": "25a4179e-2bfe-45bf-aa70-bc2ef214fba3",
      "metadata": {
        "id": "25a4179e-2bfe-45bf-aa70-bc2ef214fba3"
      },
      "source": [
        "We can use the isdisjoint() method to check if one set is disjoint with another set.\n",
        "\n",
        "Two sets are disjoint if they have no elements in common.\n",
        "\n",
        "set1 and set2 are disjoint because they have no elements in common.\n",
        "\n",
        "The isdisjoint() method returns True if the sets are disjoint and False otherwise.\n",
        "\n",
        "If the sets had common elements, the output would be \"The sets have common elements.\""
      ]
    },
    {
      "cell_type": "markdown",
      "id": "c517e1c1-e924-4e23-ae41-4d0125356c57",
      "metadata": {
        "id": "c517e1c1-e924-4e23-ae41-4d0125356c57"
      },
      "source": [
        "25. Create a set of squares of numbers from 1 to 5."
      ]
    },
    {
      "cell_type": "code",
      "execution_count": null,
      "id": "01e3164f-4bb9-4704-a240-fe4630e76b52",
      "metadata": {
        "id": "01e3164f-4bb9-4704-a240-fe4630e76b52",
        "outputId": "05900a82-55bc-4fa0-ff0d-3fc7786b69da"
      },
      "outputs": [
        {
          "name": "stdout",
          "output_type": "stream",
          "text": [
            "{1, 4, 9, 16, 25}\n"
          ]
        }
      ],
      "source": [
        "# Create a set of squares of numbers from 1 to 5\n",
        "squares_set = {x**2 for x in range(1, 6)}\n",
        "\n",
        "# Print the set of squares\n",
        "print(squares_set)\n"
      ]
    },
    {
      "cell_type": "markdown",
      "id": "98f1c5f3-1572-40c0-95d9-8c353029b436",
      "metadata": {
        "id": "98f1c5f3-1572-40c0-95d9-8c353029b436"
      },
      "source": [
        "The set comprehension {x**2 for x in range(1, 6)} generates the squares of numbers from 1 to 5 (inclusive).\n",
        "\n",
        "The resulting set, squares_set, will contain {1,4,9,16,25}, which are the squares of 1, 2, 3, 4, and 5, respectively."
      ]
    },
    {
      "cell_type": "markdown",
      "id": "ff596f42-940f-4652-9fc9-62799ef0a2b2",
      "metadata": {
        "id": "ff596f42-940f-4652-9fc9-62799ef0a2b2"
      },
      "source": [
        "26. Filter out all even numbers from a set."
      ]
    },
    {
      "cell_type": "code",
      "execution_count": null,
      "id": "46aeebd3-dea0-4e65-8d31-00d5e93c1f30",
      "metadata": {
        "id": "46aeebd3-dea0-4e65-8d31-00d5e93c1f30",
        "outputId": "9c9b2208-520b-444b-aca6-bc163a60a619"
      },
      "outputs": [
        {
          "name": "stdout",
          "output_type": "stream",
          "text": [
            "{1, 3, 5, 7, 9}\n"
          ]
        }
      ],
      "source": [
        "# Original set\n",
        "original_set = {1, 2, 3, 4, 5, 6, 7, 8, 9, 10}\n",
        "\n",
        "# Filter out even numbers\n",
        "filtered_set = {x for x in original_set if x % 2 != 0}\n",
        "\n",
        "# Print the filtered set\n",
        "print(filtered_set)\n"
      ]
    },
    {
      "cell_type": "markdown",
      "id": "faec42b6-07e9-4e05-9872-ff54c0f063d3",
      "metadata": {
        "id": "faec42b6-07e9-4e05-9872-ff54c0f063d3"
      },
      "source": [
        "The set comprehension {x for x in original_set if x % 2 != 0} creates a new set that includes only the elements from the original set (original_set) for which the condition x % 2 != 0 is True.\n",
        "\n",
        "This condition filters out all even numbers.\n",
        "\n",
        "The resulting filtered_set will contain only the odd numbers from the original set."
      ]
    },
    {
      "cell_type": "markdown",
      "id": "33e945f8-066c-4694-bc54-4653d2d7bfb0",
      "metadata": {
        "id": "33e945f8-066c-4694-bc54-4653d2d7bfb0"
      },
      "source": [
        "27. Multiply all elements in a set by 2."
      ]
    },
    {
      "cell_type": "code",
      "execution_count": null,
      "id": "78fe132b-441e-4880-8db3-a2c1f4328717",
      "metadata": {
        "id": "78fe132b-441e-4880-8db3-a2c1f4328717",
        "outputId": "1d413e04-5514-4342-88ca-181140b9ef25"
      },
      "outputs": [
        {
          "name": "stdout",
          "output_type": "stream",
          "text": [
            "{2, 4, 6, 8, 10}\n"
          ]
        }
      ],
      "source": [
        "# Original set\n",
        "original_set = {1, 2, 3, 4, 5}\n",
        "\n",
        "# Multiply all elements by 2\n",
        "doubled_set = {x * 2 for x in original_set}\n",
        "\n",
        "# Print the doubled set\n",
        "print(doubled_set)\n"
      ]
    },
    {
      "cell_type": "markdown",
      "id": "8ceeffa4-8bdb-464c-b898-b1caecc67332",
      "metadata": {
        "id": "8ceeffa4-8bdb-464c-b898-b1caecc67332"
      },
      "source": [
        "To multiply all elements in a set by 2,we can use a set comprehension.\n",
        "\n",
        "The set comprehension {x * 2 for x in original_set} creates a new set by multiplying each element x from the original set (original_set) by 2.\n",
        "\n",
        "The resulting doubled_set will contain the elements {2,4,6,8,10}, which are the original set elements multiplied by 2."
      ]
    },
    {
      "cell_type": "markdown",
      "id": "1c93fa0b-0dcb-4118-87ea-1b32bb3f08f6",
      "metadata": {
        "id": "1c93fa0b-0dcb-4118-87ea-1b32bb3f08f6"
      },
      "source": [
        "28. Create a set of random numbers."
      ]
    },
    {
      "cell_type": "code",
      "execution_count": null,
      "id": "30a6beaf-94d8-4bd9-a6a3-30d52a42dead",
      "metadata": {
        "id": "30a6beaf-94d8-4bd9-a6a3-30d52a42dead",
        "outputId": "ea0b079e-8367-4b4e-8a35-ea9c01a649d6"
      },
      "outputs": [
        {
          "name": "stdout",
          "output_type": "stream",
          "text": [
            "{4, 36, 15, 82, 95}\n"
          ]
        }
      ],
      "source": [
        "import random\n",
        "\n",
        "# Set the seed for reproducibility (optional)\n",
        "random.seed(42)\n",
        "\n",
        "# Create a set of 5 random integers between 1 and 100 (inclusive)\n",
        "random_set = {random.randint(1, 100) for _ in range(5)}\n",
        "\n",
        "# Print the set of random numbers\n",
        "print(random_set)\n"
      ]
    },
    {
      "cell_type": "markdown",
      "id": "01232225-b50f-4823-8b99-46dc696fbabb",
      "metadata": {
        "id": "01232225-b50f-4823-8b99-46dc696fbabb"
      },
      "source": [
        "We import the random module.\n",
        "\n",
        "We set the seed using random.seed(42) to make the random numbers reproducible (optional).\n",
        "\n",
        "We use a set comprehension to generate a set (random_set) containing 5 random integers between 1 and 100 (inclusive).\n",
        "\n",
        "Each time you run this code, you'll likely get a different set of random numbers due to the nature of randomness.\n",
        "\n",
        "Setting the seed ensures that the sequence of random numbers is the same each time the script is run, which can be useful for reproducibility during development and testing."
      ]
    },
    {
      "cell_type": "markdown",
      "id": "b4946a8a-c5f0-4fbf-8294-91ba2dcdb750",
      "metadata": {
        "id": "b4946a8a-c5f0-4fbf-8294-91ba2dcdb750"
      },
      "source": [
        "29. Check if a set is empty."
      ]
    },
    {
      "cell_type": "code",
      "execution_count": null,
      "id": "cadb92c7-5e15-4fd2-96dd-c2648118476e",
      "metadata": {
        "id": "cadb92c7-5e15-4fd2-96dd-c2648118476e",
        "outputId": "d04cadd4-d19f-461c-81d0-3e7bbdf14a75"
      },
      "outputs": [
        {
          "name": "stdout",
          "output_type": "stream",
          "text": [
            "The set is empty.\n"
          ]
        }
      ],
      "source": [
        "# Create an empty set\n",
        "empty_set = set()\n",
        "\n",
        "# Check if the set is empty\n",
        "if not empty_set:\n",
        "    print(\"The set is empty.\")\n",
        "else:\n",
        "    print(\"The set is not empty.\")\n"
      ]
    },
    {
      "cell_type": "markdown",
      "id": "87ffcab1-2a68-4768-aaa3-1f18d5b63810",
      "metadata": {
        "id": "87ffcab1-2a68-4768-aaa3-1f18d5b63810"
      },
      "source": [
        "We can check if a set is empty using a simple conditional statement.\n",
        "\n",
        "The if not empty_set: condition checks whether the set is empty. If the set is empty, it will print \"The set is empty.\" Otherwise, it will print \"The set is not empty.\"\n",
        "\n",
        "We can apply the same logic to any set by replacing empty_set with the name of your set variable."
      ]
    },
    {
      "cell_type": "markdown",
      "id": "76b3af5c-fa74-469e-a653-69301b867e40",
      "metadata": {
        "id": "76b3af5c-fa74-469e-a653-69301b867e40"
      },
      "source": [
        "30. Create a nested set (hint: use frozenset)."
      ]
    },
    {
      "cell_type": "code",
      "execution_count": null,
      "id": "23b8986b-432b-46f6-a46d-382d15a9e049",
      "metadata": {
        "id": "23b8986b-432b-46f6-a46d-382d15a9e049",
        "outputId": "ab9afd7c-3185-4d95-e198-ccd9256d796f"
      },
      "outputs": [
        {
          "name": "stdout",
          "output_type": "stream",
          "text": [
            "{frozenset({1, 2, 3}), frozenset({4, 5, 6}), frozenset({8, 9, 7})}\n"
          ]
        }
      ],
      "source": [
        "# Create nested set using frozenset\n",
        "nested_set = {frozenset({1, 2, 3}), frozenset({4, 5, 6}), frozenset({7, 8, 9})}\n",
        "\n",
        "# Print the nested set\n",
        "print(nested_set)\n"
      ]
    },
    {
      "cell_type": "markdown",
      "id": "6102b850-2272-445d-853a-a52f83b87df6",
      "metadata": {
        "id": "6102b850-2272-445d-853a-a52f83b87df6"
      },
      "source": [
        "We can create a nested set using frozenset within a regular set.\n",
        "\n",
        "We have a set nested_set that contains three frozenset objects.\n",
        "    \n",
        "Each frozenset represents an immutable set, and together they form a nested structure within the outer set."
      ]
    },
    {
      "cell_type": "markdown",
      "id": "04fe5d33-1edd-428c-a62d-d36f98d5d9c4",
      "metadata": {
        "id": "04fe5d33-1edd-428c-a62d-d36f98d5d9c4"
      },
      "source": [
        "31. Remove an element from a set using the discard method."
      ]
    },
    {
      "cell_type": "code",
      "execution_count": null,
      "id": "bf919fa0-2526-4020-b396-eb408aead255",
      "metadata": {
        "id": "bf919fa0-2526-4020-b396-eb408aead255",
        "outputId": "8a4fcdb5-93fd-4974-875f-88fd1533151b"
      },
      "outputs": [
        {
          "name": "stdout",
          "output_type": "stream",
          "text": [
            "{1, 2, 4, 5}\n"
          ]
        }
      ],
      "source": [
        "# Create a set\n",
        "my_set = {1, 2, 3, 4, 5}\n",
        "\n",
        "# Remove an element using the discard method\n",
        "my_set.discard(3)\n",
        "\n",
        "# Print the modified set\n",
        "print(my_set)\n"
      ]
    },
    {
      "cell_type": "markdown",
      "id": "adf5c685-03bb-4c70-8e16-4305ad21d39e",
      "metadata": {
        "id": "adf5c685-03bb-4c70-8e16-4305ad21d39e"
      },
      "source": [
        "The discard() method in Python is used to remove a specified element from a set.\n",
        "\n",
        "If the element is not present in the set, the discard() method does nothing (no error is raised).\n",
        "\n",
        "The discard(3) method is used to remove the element 3 from the set my_set.\n",
        "\n",
        "The resulting set will be {1, 2, 4, 5}. If the set did not contain the element 3, the set would remain unchanged.\n",
        "\n",
        "It's worth noting that there is also another method called remove(), which is similar to discard().\n",
        "\n",
        "The key difference is that if you try to remove an element that is not present in the set using the remove() method, it will raise a KeyError."
      ]
    },
    {
      "cell_type": "markdown",
      "id": "76554e83-55e7-4cf8-99c7-c341aa0fa51a",
      "metadata": {
        "id": "76554e83-55e7-4cf8-99c7-c341aa0fa51a"
      },
      "source": [
        "32. Compare two sets."
      ]
    },
    {
      "cell_type": "code",
      "execution_count": null,
      "id": "b257be06-6032-4ca5-a095-75dc600c5efa",
      "metadata": {
        "id": "b257be06-6032-4ca5-a095-75dc600c5efa",
        "outputId": "60807673-4bff-4e03-d8ae-f68bb759527b"
      },
      "outputs": [
        {
          "name": "stdout",
          "output_type": "stream",
          "text": [
            "The sets are not equal.\n"
          ]
        }
      ],
      "source": [
        "# Create a set\n",
        "set1 = {1, 2, 3}\n",
        "set2 = {1, 2, 3, 4, 5}\n",
        "\n",
        "if set1 == set2:\n",
        "    print(\"The sets are equal.\")\n",
        "else:\n",
        "    print(\"The sets are not equal.\")"
      ]
    },
    {
      "cell_type": "markdown",
      "id": "12e5540f-7a8e-4bf0-b506-342adaeba331",
      "metadata": {
        "id": "12e5540f-7a8e-4bf0-b506-342adaeba331"
      },
      "source": [
        "33. Create a set from a string."
      ]
    },
    {
      "cell_type": "code",
      "execution_count": null,
      "id": "36bea2ba-45bf-445c-81c1-d6b8736057b1",
      "metadata": {
        "id": "36bea2ba-45bf-445c-81c1-d6b8736057b1",
        "outputId": "8a3b5659-5bec-4b35-861e-0be2720eba59"
      },
      "outputs": [
        {
          "name": "stdout",
          "output_type": "stream",
          "text": [
            "{'G', 'r', 't', 'y', 'a', 'i'}\n"
          ]
        }
      ],
      "source": [
        "# Create a set from a string\n",
        "my_string = \"Gayatri\"\n",
        "my_set = set(my_string)\n",
        "\n",
        "# Print the set\n",
        "print(my_set)"
      ]
    },
    {
      "cell_type": "markdown",
      "id": "d809501a-07b3-4591-a458-45636faf7556",
      "metadata": {
        "id": "d809501a-07b3-4591-a458-45636faf7556"
      },
      "source": [
        "We can create a set from a string by using the set() constructor. This will create a set where each unique character in the string becomes an element of the set.\n",
        "\n",
        "The string \"Gayatri\" is converted into a set, and the resulting set will contain unique characters from the string.\n",
        "\n",
        "Keep in mind that sets are unordered collections, so the order of elements in the set may not be the same as the order in the original string.\n",
        "\n",
        "Additionally, duplicate characters are automatically removed in a set, as sets only store unique elements."
      ]
    },
    {
      "cell_type": "markdown",
      "id": "b16b18e7-40f6-4652-a92b-ba90b30d33af",
      "metadata": {
        "id": "b16b18e7-40f6-4652-a92b-ba90b30d33af"
      },
      "source": [
        "34. Convert a set of strings to a set of integers."
      ]
    },
    {
      "cell_type": "code",
      "execution_count": null,
      "id": "382ad6bc-cfc9-41d2-8474-d4af9da159fb",
      "metadata": {
        "id": "382ad6bc-cfc9-41d2-8474-d4af9da159fb",
        "outputId": "81e5f6f3-981f-4b6c-f453-24619d1ed5d4"
      },
      "outputs": [
        {
          "name": "stdout",
          "output_type": "stream",
          "text": [
            "{1, 2, 3, 4, 5}\n"
          ]
        }
      ],
      "source": [
        "# Set of strings\n",
        "set_of_strings = {\"1\", \"2\", \"3\", \"4\", \"5\"}\n",
        "\n",
        "# Convert the set of strings to a set of integers\n",
        "set_of_integers = {int(x) for x in set_of_strings}\n",
        "\n",
        "\n",
        "# Print the set of integers\n",
        "print(set_of_integers)\n",
        ""
      ]
    },
    {
      "cell_type": "markdown",
      "id": "bc47019c-6389-4027-a2df-98969f6d80ff",
      "metadata": {
        "id": "bc47019c-6389-4027-a2df-98969f6d80ff"
      },
      "source": [
        "35. Convert a set of integers to a set of strings."
      ]
    },
    {
      "cell_type": "code",
      "execution_count": null,
      "id": "a9e5e2d8-0c5e-43ee-b7fb-f1f99c2a2e18",
      "metadata": {
        "id": "a9e5e2d8-0c5e-43ee-b7fb-f1f99c2a2e18",
        "outputId": "ba945c7c-f7ca-472d-c5bc-db72dd811a76"
      },
      "outputs": [
        {
          "name": "stdout",
          "output_type": "stream",
          "text": [
            "{'1', '5', '4', '2', '3'}\n"
          ]
        }
      ],
      "source": [
        "# Set of integers\n",
        "set_of_integers = {1, 2, 3, 4, 5}\n",
        "\n",
        "# Convert the set of integers to a set of strings\n",
        "set_of_strings = {str(x) for x in set_of_integers}\n",
        "\n",
        "# Print the set of strings\n",
        "print(set_of_strings)\n"
      ]
    },
    {
      "cell_type": "markdown",
      "id": "d8ebd286-724f-499b-b729-097d09daed8d",
      "metadata": {
        "id": "d8ebd286-724f-499b-b729-097d09daed8d"
      },
      "source": [
        "We can convert a set of integers to a set of strings in Python using a similar approach with a set comprehension.\n",
        "\n",
        "The set set_of_integers contains integers. The set comprehension {str(x) for x in set_of_integers} is used to create a new set, set_of_strings, where each integer element from the original set is converted to a string using the str() function.\n",
        "\n",
        "The resulting set_of_strings will contain the strings '1', '2', '3', '4', and '5'."
      ]
    },
    {
      "cell_type": "markdown",
      "id": "e2d4afb6-e26b-4e1e-bc88-6d9804a7b659",
      "metadata": {
        "id": "e2d4afb6-e26b-4e1e-bc88-6d9804a7b659"
      },
      "source": [
        "36. Create a set from a tuple."
      ]
    },
    {
      "cell_type": "code",
      "execution_count": null,
      "id": "399bbfa7-9ba4-4f1c-ae0e-a640371246c8",
      "metadata": {
        "id": "399bbfa7-9ba4-4f1c-ae0e-a640371246c8",
        "outputId": "ef0b4812-8e62-4ff2-8a89-327b3aebe7fb"
      },
      "outputs": [
        {
          "name": "stdout",
          "output_type": "stream",
          "text": [
            "{5, 6, 7, 8, 9}\n"
          ]
        }
      ],
      "source": [
        "# Tuple\n",
        "my_tuple = (9,8,7,6,5)\n",
        "\n",
        "# Create a set from the tuple\n",
        "my_set = set(my_tuple)\n",
        "\n",
        "# Print the set\n",
        "print(my_set)"
      ]
    },
    {
      "cell_type": "markdown",
      "id": "3d77035b-e96e-42b4-86a8-04606c1c13ec",
      "metadata": {
        "id": "3d77035b-e96e-42b4-86a8-04606c1c13ec"
      },
      "source": [
        "We can create a set from a tuple in Python using the set() constructor.\n",
        "\n",
        "The tuple (9,8,7,6,5) is converted into a set using the set() constructor.\n",
        "\n",
        "The resulting set, my_set, will contain the unique elements from the tuple."
      ]
    },
    {
      "cell_type": "markdown",
      "id": "c091a5d3-e562-47a5-bb52-08d3c635e41b",
      "metadata": {
        "id": "c091a5d3-e562-47a5-bb52-08d3c635e41b"
      },
      "source": [
        "37. Convert a set to a tuple."
      ]
    },
    {
      "cell_type": "code",
      "execution_count": null,
      "id": "e1d7546f-9ee9-4468-b96e-78fd0ae197f0",
      "metadata": {
        "id": "e1d7546f-9ee9-4468-b96e-78fd0ae197f0",
        "outputId": "228e3677-9170-4d9e-f5c0-3c526d95ec9c"
      },
      "outputs": [
        {
          "name": "stdout",
          "output_type": "stream",
          "text": [
            "(5, 6, 7, 8, 9)\n"
          ]
        }
      ],
      "source": [
        "# Set\n",
        "my_set = {9,8,7,6,5}\n",
        "\n",
        "# Convert the set to a tuple\n",
        "my_tuple = tuple(my_set)\n",
        "\n",
        "# Print the tuple\n",
        "print(my_tuple)"
      ]
    },
    {
      "cell_type": "markdown",
      "id": "a0e564c6-3b8d-4e55-9bb3-ddd92fb33979",
      "metadata": {
        "id": "a0e564c6-3b8d-4e55-9bb3-ddd92fb33979"
      },
      "source": [
        "We can convert a set to a tuple in Python using the tuple() constructor.\n",
        "\n",
        "The set {9,8,7,6,5} is converted into a tuple using the tuple() constructor. The resulting tuple, my_tuple, will have the same elements as the original set.\n",
        "\n",
        "The order of elements in the tuple will be based on the order in which they are hashed and retrieved from the set, which might not be the same order in which they were originally added to the set due to the unordered nature of sets."
      ]
    },
    {
      "cell_type": "markdown",
      "id": "55fc4126-1bd7-4c75-b0d7-c5e83c385a11",
      "metadata": {
        "id": "55fc4126-1bd7-4c75-b0d7-c5e83c385a11"
      },
      "source": [
        "38. Find the maximum value in a set."
      ]
    },
    {
      "cell_type": "code",
      "execution_count": null,
      "id": "e75ccfb5-2441-4eb0-b605-4874a68ff57b",
      "metadata": {
        "id": "e75ccfb5-2441-4eb0-b605-4874a68ff57b",
        "outputId": "8eead509-a94d-4a21-a1c6-e84b420db8df"
      },
      "outputs": [
        {
          "name": "stdout",
          "output_type": "stream",
          "text": [
            "Maximum value in the set: 20\n"
          ]
        }
      ],
      "source": [
        "# Set of numbers\n",
        "my_set = {10, 5, 8, 20, 15}\n",
        "\n",
        "# Find the maximum value in the set\n",
        "max_value = max(my_set)\n",
        "\n",
        "# Print the maximum value\n",
        "print(\"Maximum value in the set:\", max_value)"
      ]
    },
    {
      "cell_type": "markdown",
      "id": "c4f46608-9663-4541-9a55-804182917c00",
      "metadata": {
        "id": "c4f46608-9663-4541-9a55-804182917c00"
      },
      "source": [
        "To find the maximum value in a set, we can use the max() function.\n",
        "\n",
        "The max() function is applied to the set my_set to find the maximum value.\n",
        "\n",
        "The result is then printed."
      ]
    },
    {
      "cell_type": "markdown",
      "id": "2759e9c0-76ad-4b0c-bc40-0ed8b8690744",
      "metadata": {
        "id": "2759e9c0-76ad-4b0c-bc40-0ed8b8690744"
      },
      "source": [
        "39. Find the minimum value in a set."
      ]
    },
    {
      "cell_type": "code",
      "execution_count": null,
      "id": "6274c25a-65b8-4337-bf87-f0de2080a57e",
      "metadata": {
        "id": "6274c25a-65b8-4337-bf87-f0de2080a57e",
        "outputId": "2650f2a6-304c-4106-d888-31d54fd879fc"
      },
      "outputs": [
        {
          "name": "stdout",
          "output_type": "stream",
          "text": [
            "Minimum value in the set: 5\n"
          ]
        }
      ],
      "source": [
        "# Set of numbers\n",
        "my_set = {10, 5, 8, 20, 15}\n",
        "\n",
        "# Find the minimum value in the set\n",
        "min_value = min(my_set)\n",
        "\n",
        "# Print the minimum value\n",
        "print(\"Minimum value in the set:\", min_value)\n"
      ]
    },
    {
      "cell_type": "markdown",
      "id": "5f7473e1-954a-4487-9006-452c277aeeff",
      "metadata": {
        "id": "5f7473e1-954a-4487-9006-452c277aeeff"
      },
      "source": [
        "To find the minimum value in a set, we can use the min() function.\n",
        "\n",
        "The min() function is applied to the set my_set to find the minimum value. The result is then printed.\n",
        "\n",
        "As with the max() function, the min() function assumes the elements of the set are comparable (e.g., they are numbers). If the set contains non-comparable elements, you may encounter a TypeError."
      ]
    },
    {
      "cell_type": "markdown",
      "id": "86f1e170-9d35-40c4-9f6e-aff810acdf8e",
      "metadata": {
        "id": "86f1e170-9d35-40c4-9f6e-aff810acdf8e"
      },
      "source": [
        "40. Create a set from user input."
      ]
    },
    {
      "cell_type": "code",
      "execution_count": null,
      "id": "e2531971-4c21-49aa-8638-cbf3afdd9200",
      "metadata": {
        "id": "e2531971-4c21-49aa-8638-cbf3afdd9200",
        "outputId": "83b95f2f-0c2d-46be-ada0-54593b976730"
      },
      "outputs": [
        {
          "name": "stdin",
          "output_type": "stream",
          "text": [
            "Enter a set of numbers separated by commas:  7,3,7,8,3,9\n"
          ]
        },
        {
          "name": "stdout",
          "output_type": "stream",
          "text": [
            "User input as a set: {8, 9, 3, 7}\n"
          ]
        }
      ],
      "source": [
        "# Get user input for a set of numbers\n",
        "user_input = input(\"Enter a set of numbers separated by commas: \")\n",
        "\n",
        "# Split the input string into a list of strings\n",
        "numbers_str = user_input.split(',')\n",
        "\n",
        "# Convert the list of strings to a set of integers\n",
        "try:\n",
        "    user_set = {int(num) for num in numbers_str}\n",
        "    print(\"User input as a set:\",user_set)\n",
        "except ValueError:\n",
        "    print(\"Invalid input. Please enter a valid set of numbers.\")\n",
        ""
      ]
    },
    {
      "cell_type": "markdown",
      "id": "12303153-6f10-4c06-a537-6fdfb1dbb2b2",
      "metadata": {
        "id": "12303153-6f10-4c06-a537-6fdfb1dbb2b2"
      },
      "source": [
        "We  can create a set from user input by using the input() function to take input from the user and then converting the input into a set.\n",
        "\n",
        "The user is prompted to enter a set of numbers separated by commas. The input is then split into a list of strings using split(',').\n",
        "\n",
        "A set comprehension {int(num) for num in numbers_str} is used to convert the list of strings to a set of integers."
      ]
    },
    {
      "cell_type": "markdown",
      "id": "5af8d1da-d0ef-46f9-bde6-d6ae7f138cfe",
      "metadata": {
        "id": "5af8d1da-d0ef-46f9-bde6-d6ae7f138cfe"
      },
      "source": [
        "41. Check if the intersection of two sets is empty."
      ]
    },
    {
      "cell_type": "code",
      "execution_count": null,
      "id": "c8e23cc4-78ad-4af9-8698-6b96a17479c1",
      "metadata": {
        "id": "c8e23cc4-78ad-4af9-8698-6b96a17479c1",
        "outputId": "f7d8ac1a-fa2d-4fc1-f431-1f46a2607131"
      },
      "outputs": [
        {
          "name": "stdout",
          "output_type": "stream",
          "text": [
            "The intersection is empty.\n"
          ]
        }
      ],
      "source": [
        "# Example sets\n",
        "set1 = {1, 2, 3}\n",
        "set2 = {4, 5, 6}\n",
        "\n",
        "# Check if the intersection is empty\n",
        "intersection_result = set1.intersection(set2)\n",
        "\n",
        "if not intersection_result:\n",
        "    print(\"The intersection is empty.\")\n",
        "else:\n",
        "    print(\"The sets have common elements.\")\n"
      ]
    },
    {
      "cell_type": "markdown",
      "id": "c8f802df-6118-4f54-864c-3582700a8881",
      "metadata": {
        "id": "c8f802df-6118-4f54-864c-3582700a8881"
      },
      "source": [
        "We can check if the intersection of two sets is empty, by directly checking if the result of the intersection() method is an empty set.\n",
        "\n",
        "The sets set1 and set2 do not have common elements, so the output will be \"The intersection is empty.\"\n",
        "\n",
        "If the sets had common elements, the output would indicate that they share elements."
      ]
    },
    {
      "cell_type": "markdown",
      "id": "e95e60df-9dc8-44d3-bd3e-23d03d261ff4",
      "metadata": {
        "id": "e95e60df-9dc8-44d3-bd3e-23d03d261ff4"
      },
      "source": [
        "42. Create a set of the first 5 Fibonacci numbers."
      ]
    },
    {
      "cell_type": "code",
      "execution_count": null,
      "id": "5a1d8418-8c91-4d2b-974c-f9f8406e7aa5",
      "metadata": {
        "id": "5a1d8418-8c91-4d2b-974c-f9f8406e7aa5",
        "outputId": "086a46c6-e601-460c-f5fa-38df8da62ce0"
      },
      "outputs": [
        {
          "name": "stdout",
          "output_type": "stream",
          "text": [
            "Set of the first 5 Fibonacci numbers: {0, 1, 2, 3}\n"
          ]
        }
      ],
      "source": [
        "# Function to generate the first n Fibonacci numbers\n",
        "def generate_fibonacci(n):\n",
        "    fibonacci_set = set()\n",
        "    a, b = 0, 1\n",
        "    for _ in range(n):\n",
        "        fibonacci_set.add(a)\n",
        "        a, b = b, a + b\n",
        "    return fibonacci_set\n",
        "\n",
        "# Create a set of the first 5 Fibonacci numbers\n",
        "first_5_fibonacci_set = generate_fibonacci(5)\n",
        "\n",
        "# Print the set\n",
        "print(\"Set of the first 5 Fibonacci numbers:\", first_5_fibonacci_set)\n"
      ]
    },
    {
      "cell_type": "markdown",
      "id": "75f4c03c-8982-43a2-a239-9182558f9482",
      "metadata": {
        "id": "75f4c03c-8982-43a2-a239-9182558f9482"
      },
      "source": [
        "We can create a set of the first 5 Fibonacci numbers using a loop to generate the sequence.\n",
        "\n",
        "The generate_fibonacci function generates the first n Fibonacci numbers and adds them to a set.\n",
        "\n",
        "The function is then called with n = 5 to create a set of the first 5 Fibonacci numbers.\n",
        "\n",
        "The resulting set will be {0, 1, 2, 3, 5} since the first five Fibonacci numbers are 0, 1, 1, 2, and 3.\n"
      ]
    },
    {
      "cell_type": "markdown",
      "id": "4310f6cd-26c3-431a-9d7b-80b3a847906d",
      "metadata": {
        "id": "4310f6cd-26c3-431a-9d7b-80b3a847906d"
      },
      "source": [
        "43. Remove duplicates from a list using sets."
      ]
    },
    {
      "cell_type": "code",
      "execution_count": null,
      "id": "4d15b17a-74ff-447f-8587-af8a86111118",
      "metadata": {
        "id": "4d15b17a-74ff-447f-8587-af8a86111118",
        "outputId": "91164165-4f97-4dbf-a83e-0898e03f3cfe"
      },
      "outputs": [
        {
          "name": "stdout",
          "output_type": "stream",
          "text": [
            "Original list: [1, 2, 3, 1, 2, 4, 5, 3]\n",
            "List without duplicates: [1, 2, 3, 4, 5]\n"
          ]
        }
      ],
      "source": [
        "# Original list with duplicates\n",
        "original_list = [1, 2, 3, 1, 2, 4, 5, 3]\n",
        "\n",
        "# Remove duplicates using sets\n",
        "unique_list = list(set(original_list))\n",
        "\n",
        "# Print the list without duplicates\n",
        "print(\"Original list:\", original_list)\n",
        "print(\"List without duplicates:\", unique_list)\n"
      ]
    },
    {
      "cell_type": "markdown",
      "id": "94bb068b-c74e-4e36-b797-fe774f22861a",
      "metadata": {
        "id": "94bb068b-c74e-4e36-b797-fe774f22861a"
      },
      "source": [
        "We  can remove duplicates from a list in Python by converting the list to a set (which automatically removes duplicates) and then converting it back to a list.\n",
        "\n",
        "The set(original_list) part creates a set, removing any duplicate elements. Then, list() is used to convert the set back into a list.\n",
        "\n",
        "The resulting unique_list will contain only the unique elements from the original list."
      ]
    },
    {
      "cell_type": "markdown",
      "id": "49f652b4-c212-4505-ae20-947bc7148222",
      "metadata": {
        "id": "49f652b4-c212-4505-ae20-947bc7148222"
      },
      "source": [
        "44. Check if two sets have the same elements, regardless of their count."
      ]
    },
    {
      "cell_type": "code",
      "execution_count": null,
      "id": "3c1612f2-3340-42be-93da-3dcf784168d8",
      "metadata": {
        "id": "3c1612f2-3340-42be-93da-3dcf784168d8",
        "outputId": "ef70d452-3c7d-48b7-f1e9-f739e7e0bb16"
      },
      "outputs": [
        {
          "name": "stdout",
          "output_type": "stream",
          "text": [
            "The sets have the same elements, regardless of order.\n",
            "The sets have the same elements, regardless of order (using set() constructor).\n"
          ]
        }
      ],
      "source": [
        "# Example sets\n",
        "set1 = {1, 2, 3, 4, 5}\n",
        "set2 = {5, 4, 3, 2, 1}\n",
        "\n",
        "# Check if sets have the same elements, regardless of order\n",
        "if set1 == set2:\n",
        "    print(\"The sets have the same elements, regardless of order.\")\n",
        "else:\n",
        "    print(\"The sets do not have the same elements.\")\n",
        "\n",
        "# Alternatively, using set() constructor\n",
        "if set(set1) == set(set2):\n",
        "    print(\"The sets have the same elements, regardless of order (using set() constructor).\")\n",
        "else:\n",
        "    print(\"The sets do not have the same elements (using set() constructor).\")\n"
      ]
    },
    {
      "cell_type": "markdown",
      "id": "ee653ade-2933-4497-abae-12c684676406",
      "metadata": {
        "id": "ee653ade-2933-4497-abae-12c684676406"
      },
      "source": [
        "If you want to check if two sets have the same elements regardless of their count (i.e., they are equal sets), you can use the == operator or the set() constructor to create sets from both iterables and then compare them.\n",
        "\n",
        "In both approaches, the sets set1 and set2 are considered equal because they contain the same elements, even though their order is different.\n",
        "\n",
        "If you only want to check if the elements are the same regardless of their count, you can use the issubset() or issuperset() methods."
      ]
    },
    {
      "cell_type": "markdown",
      "id": "3248a8c3-9562-4b31-8263-afc503686d86",
      "metadata": {
        "id": "3248a8c3-9562-4b31-8263-afc503686d86"
      },
      "source": [
        "45. Create a set of the first `n` powers of 2."
      ]
    },
    {
      "cell_type": "code",
      "execution_count": null,
      "id": "3bd61197-0d02-4597-99ae-59df81253cb6",
      "metadata": {
        "id": "3bd61197-0d02-4597-99ae-59df81253cb6",
        "outputId": "ea37c582-e666-403b-b1a6-08ff82a14a8d"
      },
      "outputs": [
        {
          "name": "stdout",
          "output_type": "stream",
          "text": [
            "Set of the first 5 powers of 2: {1, 2, 4, 8, 16}\n"
          ]
        }
      ],
      "source": [
        "# Function to generate the first n powers of 2\n",
        "def generate_powers_of_2(n):\n",
        "    powers_of_2_set = set()\n",
        "    for i in range(n):\n",
        "        powers_of_2_set.add(2 ** i)\n",
        "    return powers_of_2_set\n",
        "\n",
        "# Create a set of the first 5 powers of 2\n",
        "first_5_powers_of_2_set = generate_powers_of_2(5)\n",
        "\n",
        "# Print the set\n",
        "print(\"Set of the first 5 powers of 2:\", first_5_powers_of_2_set)\n"
      ]
    },
    {
      "cell_type": "markdown",
      "id": "02086c9f-668b-49f5-a5c7-52506203d8cb",
      "metadata": {
        "id": "02086c9f-668b-49f5-a5c7-52506203d8cb"
      },
      "source": [
        "We can create a set of the first n powers of 2 in Python using a loop.\n",
        "\n",
        "The generate_powers_of_2 function generates the first n powers of 2 and adds them to a set using the add() method. The function is then called with n = 5 to create a set of the first 5 powers of 2.\n",
        "\n",
        "The resulting set will be {1, 2, 4, 8, 16}, which are the first 5 powers of 2."
      ]
    },
    {
      "cell_type": "markdown",
      "id": "a19da026-fe72-4f57-b0ee-c83cccfb5e3f",
      "metadata": {
        "id": "a19da026-fe72-4f57-b0ee-c83cccfb5e3f"
      },
      "source": [
        "46. Find the common elements between a set and a list."
      ]
    },
    {
      "cell_type": "code",
      "execution_count": null,
      "id": "050362d3-2e24-4980-aae9-f4c6030c1d76",
      "metadata": {
        "id": "050362d3-2e24-4980-aae9-f4c6030c1d76",
        "outputId": "c6b5848e-2eb7-42a3-87f2-75b889b83147"
      },
      "outputs": [
        {
          "name": "stdout",
          "output_type": "stream",
          "text": [
            "Common elements (using intersection()): {3, 4, 5}\n"
          ]
        }
      ],
      "source": [
        "# Example set and list\n",
        "my_set = {1, 2, 3, 4, 5}\n",
        "my_list = [3, 4, 5, 6, 7]\n",
        "\n",
        "# Find the common elements using intersection() method\n",
        "common_elements_method = my_set.intersection(my_list)\n",
        "\n",
        "# Print the common elements\n",
        "print(\"Common elements (using intersection()):\", common_elements_method)\n",
        "\n"
      ]
    },
    {
      "cell_type": "markdown",
      "id": "126cc5e5-08fa-4f79-adae-49417a75aa30",
      "metadata": {
        "id": "126cc5e5-08fa-4f79-adae-49417a75aa30"
      },
      "source": [
        "47. Create a set of the first `n` triangular numbers."
      ]
    },
    {
      "cell_type": "code",
      "execution_count": null,
      "id": "f26dc25f-c2b6-41a5-ab10-d969866d9557",
      "metadata": {
        "id": "f26dc25f-c2b6-41a5-ab10-d969866d9557",
        "outputId": "54c03c13-101c-4846-cb39-80a113d27f0f"
      },
      "outputs": [
        {
          "name": "stdout",
          "output_type": "stream",
          "text": [
            "Set of the first 5 triangular numbers: {1, 3, 6, 10, 15}\n"
          ]
        }
      ],
      "source": [
        "# Function to generate the first n triangular numbers\n",
        "def generate_triangular_numbers(n):\n",
        "    triangular_numbers_set = set()\n",
        "    total = 0\n",
        "    for i in range(1, n + 1):\n",
        "        total += i\n",
        "        triangular_numbers_set.add(total)\n",
        "    return triangular_numbers_set\n",
        "\n",
        "# Create a set of the first 5 triangular numbers\n",
        "first_5_triangular_numbers_set = generate_triangular_numbers(5)\n",
        "\n",
        "# Print the set\n",
        "print(\"Set of the first 5 triangular numbers:\", first_5_triangular_numbers_set)\n"
      ]
    },
    {
      "cell_type": "markdown",
      "id": "6f549d30-cfcb-44dc-bf81-efa65ad36cdf",
      "metadata": {
        "id": "6f549d30-cfcb-44dc-bf81-efa65ad36cdf"
      },
      "source": [
        "We can create a set of the first n triangular numbers in Python using a loop. The triangular number for a given positive integer n is the sum of the integers from 1 ton.\n",
        "\n",
        "The generate_triangular_numbers function generates the first n triangular numbers and adds them to a set using the add() method. The function is then called with n = 5 to create a set of the first 5 triangular numbers.\n",
        "\n",
        "The resulting set will be {1, 3, 6, 10, 15}, which are the first 5 triangular numbers."
      ]
    },
    {
      "cell_type": "markdown",
      "id": "582c1dc4-e4e5-49d5-bc5c-1651186676c8",
      "metadata": {
        "id": "582c1dc4-e4e5-49d5-bc5c-1651186676c8"
      },
      "source": [
        "48. Check if a set contains another set as a subset."
      ]
    },
    {
      "cell_type": "code",
      "execution_count": null,
      "id": "55b8f867-cd68-4f3c-bf16-3568474b3ead",
      "metadata": {
        "id": "55b8f867-cd68-4f3c-bf16-3568474b3ead",
        "outputId": "8a8d1d05-9f95-4efc-c6f6-4b3712521faf"
      },
      "outputs": [
        {
          "name": "stdout",
          "output_type": "stream",
          "text": [
            "set2 is a subset of set1.\n",
            "set2 is a subset of set1 (using <= operator).\n"
          ]
        }
      ],
      "source": [
        "# Example sets\n",
        "set1 = {1, 2, 3, 4, 5}\n",
        "set2 = {2, 4}\n",
        "\n",
        "# Check if set2 is a subset of set1 using issubset() method\n",
        "if set2.issubset(set1):\n",
        "    print(\"set2 is a subset of set1.\")\n",
        "else:\n",
        "    print(\"set2 is not a subset of set1.\")\n",
        "\n",
        "# Check if set2 is a subset of set1 using <= operator\n",
        "if set2 <= set1:\n",
        "    print(\"set2 is a subset of set1 (using <= operator).\")\n",
        "else:\n",
        "    print(\"set2 is not a subset of set1 (using <= operator).\")\n"
      ]
    },
    {
      "cell_type": "markdown",
      "id": "8e567178-22d1-4277-a383-1a126b49bdfa",
      "metadata": {
        "id": "8e567178-22d1-4277-a383-1a126b49bdfa"
      },
      "source": [
        "49. Create a set of alternating 1s and 0s of length `n`."
      ]
    },
    {
      "cell_type": "code",
      "execution_count": null,
      "id": "dee3d5a8-9efe-4371-9f00-e4a956c09c59",
      "metadata": {
        "id": "dee3d5a8-9efe-4371-9f00-e4a956c09c59",
        "outputId": "0127c431-d284-4535-b938-53aa60d186ab"
      },
      "outputs": [
        {
          "name": "stdout",
          "output_type": "stream",
          "text": [
            "Set of alternating 1s and 0s: {0, 1}\n"
          ]
        }
      ],
      "source": [
        "# Function to generate a set of alternating 1s and 0s of length n\n",
        "def generate_alternating_set(n):\n",
        "    alternating_set = {1 if i % 2 == 0 else 0 for i in range(n)}\n",
        "    return alternating_set\n",
        "\n",
        "# Create a set of alternating 1s and 0s of length 8\n",
        "alternating_set = generate_alternating_set(8)\n",
        "\n",
        "# Print the set\n",
        "print(\"Set of alternating 1s and 0s:\", alternating_set)\n"
      ]
    },
    {
      "cell_type": "markdown",
      "id": "81b9665e-3bad-4bc8-8b60-2303aa701c53",
      "metadata": {
        "id": "81b9665e-3bad-4bc8-8b60-2303aa701c53"
      },
      "source": [
        "We can create a set of alternating 1s and 0s of length n in Python using a set comprehension.\n",
        "\n",
        "The generate_alternating_set function uses a set comprehension to create a set of alternating 1s and 0s based on the index i. If i is even, it adds 1 to the set; otherwise, it adds 0. The function is then called with n = 8 to create a set of alternating 1s and 0s of length 8.\n",
        "\n",
        "The resulting set will be {1, 0, 1, 0, 1, 0, 1, 0}."
      ]
    },
    {
      "cell_type": "markdown",
      "id": "e51b460c-a5e2-4cc7-ab76-bc888bbf111e",
      "metadata": {
        "id": "e51b460c-a5e2-4cc7-ab76-bc888bbf111e"
      },
      "source": [
        "50. Merge multiple sets into one."
      ]
    },
    {
      "cell_type": "code",
      "execution_count": null,
      "id": "0f69c27e-ef4c-4bb6-9fd4-19fdf5a39406",
      "metadata": {
        "id": "0f69c27e-ef4c-4bb6-9fd4-19fdf5a39406",
        "outputId": "ce3ec64b-1c3d-4444-9dad-edfe9ae45b39"
      },
      "outputs": [
        {
          "name": "stdout",
          "output_type": "stream",
          "text": [
            "Merged sets (using union()): {1, 2, 3, 4, 5, 6, 7}\n"
          ]
        }
      ],
      "source": [
        "# Example sets\n",
        "set1 = {1, 2, 3}\n",
        "set2 = {3, 4, 5}\n",
        "set3 = {5, 6, 7}\n",
        "\n",
        "# Merge sets using union() method\n",
        "merged_set_method = set1.union(set2, set3)\n",
        "\n",
        "# Print the merged sets\n",
        "print(\"Merged sets (using union()):\", merged_set_method)"
      ]
    },
    {
      "cell_type": "markdown",
      "id": "bed08bc6-6667-4a21-8bd8-5872867bdbca",
      "metadata": {
        "id": "bed08bc6-6667-4a21-8bd8-5872867bdbca"
      },
      "source": [
        "We can merge multiple sets into one in Python using the union() method.\n",
        "\n",
        "The code merges set1, set2, and set3 into a single set. The union() method.\n",
        "\n",
        "The output will be a set containing all unique elements from the three sets: {1, 2, 3, 4, 5, 6, 7}."
      ]
    }
  ],
  "metadata": {
    "kernelspec": {
      "display_name": "Python 3 (ipykernel)",
      "language": "python",
      "name": "python3"
    },
    "language_info": {
      "codemirror_mode": {
        "name": "ipython",
        "version": 3
      },
      "file_extension": ".py",
      "mimetype": "text/x-python",
      "name": "python",
      "nbconvert_exporter": "python",
      "pygments_lexer": "ipython3",
      "version": "3.10.8"
    },
    "colab": {
      "provenance": []
    }
  },
  "nbformat": 4,
  "nbformat_minor": 5
}