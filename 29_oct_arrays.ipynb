{
  "nbformat": 4,
  "nbformat_minor": 0,
  "metadata": {
    "colab": {
      "provenance": []
    },
    "kernelspec": {
      "name": "python3",
      "display_name": "Python 3"
    },
    "language_info": {
      "name": "python"
    }
  },
  "cells": [
    {
      "cell_type": "markdown",
      "source": [
        "***Array Assignment***"
      ],
      "metadata": {
        "id": "lwgfUlT5ndW9"
      }
    },
    {
      "cell_type": "markdown",
      "source": [
        "**1. Check if an array contains any duplicates**"
      ],
      "metadata": {
        "id": "4021l2j0lE5L"
      }
    },
    {
      "cell_type": "code",
      "source": [
        "def contains_duplicates(arr):\n",
        "    # Create an empty set to store unique elements\n",
        "    seen = set()\n",
        "\n",
        "    # Iterate through the array\n",
        "    for num in arr:\n",
        "        # Check if the element is already in the set\n",
        "        if num in seen:\n",
        "            return True  # Duplicates found\n",
        "        seen.add(num)  # Add the element to the set\n",
        "\n",
        "    return False  # No duplicates found\n",
        "\n",
        "# Example usage:\n",
        "arr1 = [1, 2, 4, 2, 5, 9]\n",
        "output1 = contains_duplicates(arr1)\n",
        "print(\"Array contanis duplicate :\", output1)\n"
      ],
      "metadata": {
        "colab": {
          "base_uri": "https://localhost:8080/"
        },
        "id": "xuTTNMfjlS6K",
        "outputId": "6df5a2af-5939-402c-b498-2519a037d6d9"
      },
      "execution_count": 10,
      "outputs": [
        {
          "output_type": "stream",
          "name": "stdout",
          "text": [
            "Array contanis duplicate : True\n"
          ]
        }
      ]
    },
    {
      "cell_type": "markdown",
      "source": [
        "We use a set called seen to keep track of unique elements encountered while iterating through the array.\n",
        "\n",
        "If we find an element already in the set, we conclude that a duplicate exists and return True.\n",
        "\n",
        "If the loop completes without finding duplicates, we return False."
      ],
      "metadata": {
        "id": "Rbzq0UVGnkCk"
      }
    },
    {
      "cell_type": "markdown",
      "source": [
        "**2. Rotate the array to the right by k steps**"
      ],
      "metadata": {
        "id": "7LL2663Zlnu6"
      }
    },
    {
      "cell_type": "code",
      "source": [
        "def rotate_array(arr, k):\n",
        "    # Calculate the effective rotation steps to handle cases where k is greater than array length\n",
        "    n = len(arr)\n",
        "    k = k % n\n",
        "\n",
        "    # Concatenate the two parts after rotation\n",
        "    return arr[-k:] + arr[:-k]\n",
        "\n",
        "# Example usage:\n",
        "arr2 = [1, 2, 3, 4, 5, 6, 7]\n",
        "k2 = 3\n",
        "output2 = rotate_array(arr2, k2)\n",
        "print(\"array after rotated to right by K steps :\", output2)\n"
      ],
      "metadata": {
        "colab": {
          "base_uri": "https://localhost:8080/"
        },
        "id": "yXHNNgnJlrdc",
        "outputId": "c780287e-0faf-46e7-ab59-a79cd5bb0e06"
      },
      "execution_count": 7,
      "outputs": [
        {
          "output_type": "stream",
          "name": "stdout",
          "text": [
            "array after rotated to right by K steps : [5, 6, 7, 1, 2, 3, 4]\n"
          ]
        }
      ]
    },
    {
      "cell_type": "markdown",
      "source": [
        "We calculate the effective rotation steps (k % n) to handle cases where k is greater than the array length.\n",
        "\n",
        "We then return the array after rotating it to the right by k steps."
      ],
      "metadata": {
        "id": "tmqxGxPUlwIJ"
      }
    },
    {
      "cell_type": "markdown",
      "source": [
        "**3. Reverse the given array in-place**"
      ],
      "metadata": {
        "id": "nhNtfs8Hl0cF"
      }
    },
    {
      "cell_type": "code",
      "source": [
        "def reverse_array_in_place(arr):\n",
        "    # Initialize two pointers at both ends of the array\n",
        "    start, end = 0, len(arr) - 1\n",
        "\n",
        "    # Swap elements from both ends towards the center\n",
        "    while start < end:\n",
        "        arr[start], arr[end] = arr[end], arr[start]\n",
        "        start += 1\n",
        "        end -= 1\n",
        "\n",
        "# Example usage:\n",
        "arr3 = [2, 4, 5, 7, 9, 12]\n",
        "reverse_array_in_place(arr3)\n",
        "output3 = arr3\n",
        "print(\"Array after reversed :\", output3)\n"
      ],
      "metadata": {
        "colab": {
          "base_uri": "https://localhost:8080/"
        },
        "id": "d81c6kXol3gy",
        "outputId": "6440c071-6efc-438f-a57d-3eabac5bff74"
      },
      "execution_count": 6,
      "outputs": [
        {
          "output_type": "stream",
          "name": "stdout",
          "text": [
            "Array after reversed : [12, 9, 7, 5, 4, 2]\n"
          ]
        }
      ]
    },
    {
      "cell_type": "markdown",
      "source": [
        "We use a two-pointer approach, starting one pointer at the beginning and the other at the end of the array.\n",
        "\n",
        "We swap elements between the pointers and move them towards the center until the pointers meet, effectively reversing the array in-place"
      ],
      "metadata": {
        "id": "ZDU9va-tmMUI"
      }
    },
    {
      "cell_type": "markdown",
      "source": [
        "**4. Find the maximum element in an array**"
      ],
      "metadata": {
        "id": "CUhYjFb2mPzQ"
      }
    },
    {
      "cell_type": "code",
      "source": [
        "def find_max_element(arr):\n",
        "    # Return the maximum element using the max() function\n",
        "    return max(arr)\n",
        "\n",
        "# Example usage:\n",
        "arr4 = [10, 5, 20, 8, 15]\n",
        "output4 = find_max_element(arr4)\n",
        "print(\"Maximum element in array is :\", output4)\n"
      ],
      "metadata": {
        "colab": {
          "base_uri": "https://localhost:8080/"
        },
        "id": "bEjgKKCpmSXW",
        "outputId": "57e10337-e16f-42d0-baa0-a3720e8e0b46"
      },
      "execution_count": 5,
      "outputs": [
        {
          "output_type": "stream",
          "name": "stdout",
          "text": [
            "Maximum element in array is : 20\n"
          ]
        }
      ]
    },
    {
      "cell_type": "markdown",
      "source": [
        "We use the built-in max() function to find and return the maximum element in the given array."
      ],
      "metadata": {
        "id": "8ES4UUo-m3pp"
      }
    },
    {
      "cell_type": "markdown",
      "source": [
        "**5. Remove duplicates from a sorted array in-place**"
      ],
      "metadata": {
        "id": "FOKxbzb_m7YW"
      }
    },
    {
      "cell_type": "code",
      "source": [
        "def remove_duplicates(arr):\n",
        "    # Handle empty array case\n",
        "    if not arr:\n",
        "        return []\n",
        "\n",
        "    # Initialize an index to keep track of unique elements\n",
        "    index = 0\n",
        "\n",
        "    # Iterate through the array starting from the second element\n",
        "    for i in range(1, len(arr)):\n",
        "        # Move unique elements to the front of the array\n",
        "        if arr[i] != arr[index]:\n",
        "            index += 1\n",
        "            arr[index] = arr[i]\n",
        "\n",
        "    # Return the array with duplicates removed\n",
        "    return arr[:index + 1]\n",
        "\n",
        "# Example usage:\n",
        "arr5 = [1, 1, 2, 2, 2, 3, 3, 4, 4, 4, 5, 5]\n",
        "output5 = remove_duplicates(arr5)\n",
        "print(\"After removing duplicates:\", output5)\n"
      ],
      "metadata": {
        "colab": {
          "base_uri": "https://localhost:8080/"
        },
        "id": "-JLbq_t4m-1W",
        "outputId": "5b13f256-e41c-4220-cb8a-8326ee6e1be9"
      },
      "execution_count": 12,
      "outputs": [
        {
          "output_type": "stream",
          "name": "stdout",
          "text": [
            "After removing duplicates: [1, 2, 3, 4, 5]\n"
          ]
        }
      ]
    },
    {
      "cell_type": "markdown",
      "source": [
        "We use a two-pointer approach, where index keeps track of the position of unique elements.\n",
        "\n",
        "We iterate through the array starting from the second element and move unique elements to the front of the array."
      ],
      "metadata": {
        "id": "tRGfcCR-nPuG"
      }
    }
  ]
}